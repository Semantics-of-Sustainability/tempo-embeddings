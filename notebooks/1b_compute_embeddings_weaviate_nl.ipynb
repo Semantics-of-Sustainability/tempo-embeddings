{
 "cells": [
  {
   "cell_type": "markdown",
   "metadata": {},
   "source": [
    "# Dutch Corpora\n",
    "\n",
    "### Instal tempo-embeddings"
   ]
  },
  {
   "cell_type": "code",
   "execution_count": 22,
   "metadata": {},
   "outputs": [
    {
     "name": "stdout",
     "output_type": "stream",
     "text": [
      "huggingface/tokenizers: The current process just got forked, after parallelism has already been used. Disabling parallelism to avoid deadlocks...\n",
      "To disable this warning, you can either:\n",
      "\t- Avoid using `tokenizers` before the fork if possible\n",
      "\t- Explicitly set the environment variable TOKENIZERS_PARALLELISM=(true | false)\n",
      "Processing /Users/jose/Repos/tempo-embeddings\n",
      "  Installing build dependencies ... \u001b[?25ldone\n",
      "\u001b[?25h  Getting requirements to build wheel ... \u001b[?25ldone\n",
      "\u001b[?25h  Preparing metadata (pyproject.toml) ... \u001b[?25ldone\n",
      "\u001b[?25hRequirement already satisfied: accelerate~=0.22.0 in /Users/jose/Repos/tempo-embeddings/.venv/lib/python3.9/site-packages (from tempo_embeddings==0.0.1) (0.22.0)\n",
      "Requirement already satisfied: seaborn~=0.13.0 in /Users/jose/Repos/tempo-embeddings/.venv/lib/python3.9/site-packages (from tempo_embeddings==0.0.1) (0.13.1)\n",
      "Requirement already satisfied: transformers~=4.32.1 in /Users/jose/Repos/tempo-embeddings/.venv/lib/python3.9/site-packages (from tempo_embeddings==0.0.1) (4.32.1)\n",
      "Requirement already satisfied: torch~=2.0.1 in /Users/jose/Repos/tempo-embeddings/.venv/lib/python3.9/site-packages (from tempo_embeddings==0.0.1) (2.0.1)\n",
      "Requirement already satisfied: torchvision>=0.15.2 in /Users/jose/Repos/tempo-embeddings/.venv/lib/python3.9/site-packages (from tempo_embeddings==0.0.1) (0.15.2)\n",
      "Requirement already satisfied: torchaudio>=2.0.2 in /Users/jose/Repos/tempo-embeddings/.venv/lib/python3.9/site-packages (from tempo_embeddings==0.0.1) (2.0.2)\n",
      "Requirement already satisfied: umap-learn~=0.5.4 in /Users/jose/Repos/tempo-embeddings/.venv/lib/python3.9/site-packages (from tempo_embeddings==0.0.1) (0.5.5)\n",
      "Requirement already satisfied: wizmap~=0.1.2 in /Users/jose/Repos/tempo-embeddings/.venv/lib/python3.9/site-packages (from tempo_embeddings==0.0.1) (0.1.2)\n",
      "Requirement already satisfied: matplotlib~=3.7.2 in /Users/jose/Repos/tempo-embeddings/.venv/lib/python3.9/site-packages (from tempo_embeddings==0.0.1) (3.7.4)\n",
      "Requirement already satisfied: sacremoses~=0.0.53 in /Users/jose/Repos/tempo-embeddings/.venv/lib/python3.9/site-packages (from tempo_embeddings==0.0.1) (0.0.53)\n",
      "Requirement already satisfied: scikit-learn~=1.3.0 in /Users/jose/Repos/tempo-embeddings/.venv/lib/python3.9/site-packages (from tempo_embeddings==0.0.1) (1.3.2)\n",
      "Requirement already satisfied: pandas in /Users/jose/Repos/tempo-embeddings/.venv/lib/python3.9/site-packages (from tempo_embeddings==0.0.1) (2.2.0)\n",
      "Requirement already satisfied: datashader in /Users/jose/Repos/tempo-embeddings/.venv/lib/python3.9/site-packages (from tempo_embeddings==0.0.1) (0.16.0)\n",
      "Requirement already satisfied: bokeh~=3.3.2 in /Users/jose/Repos/tempo-embeddings/.venv/lib/python3.9/site-packages (from tempo_embeddings==0.0.1) (3.3.3)\n",
      "Requirement already satisfied: holoviews in /Users/jose/Repos/tempo-embeddings/.venv/lib/python3.9/site-packages (from tempo_embeddings==0.0.1) (1.18.1)\n",
      "Requirement already satisfied: dash~=2.11.1 in /Users/jose/Repos/tempo-embeddings/.venv/lib/python3.9/site-packages (from tempo_embeddings==0.0.1) (2.11.1)\n",
      "Requirement already satisfied: chromadb~=0.4.22 in /Users/jose/Repos/tempo-embeddings/.venv/lib/python3.9/site-packages (from tempo_embeddings==0.0.1) (0.4.22)\n",
      "Requirement already satisfied: numpy>=1.17 in /Users/jose/Repos/tempo-embeddings/.venv/lib/python3.9/site-packages (from accelerate~=0.22.0->tempo_embeddings==0.0.1) (1.26.3)\n",
      "Requirement already satisfied: packaging>=20.0 in /Users/jose/Repos/tempo-embeddings/.venv/lib/python3.9/site-packages (from accelerate~=0.22.0->tempo_embeddings==0.0.1) (23.2)\n",
      "Requirement already satisfied: psutil in /Users/jose/Repos/tempo-embeddings/.venv/lib/python3.9/site-packages (from accelerate~=0.22.0->tempo_embeddings==0.0.1) (5.9.8)\n",
      "Requirement already satisfied: pyyaml in /Users/jose/Repos/tempo-embeddings/.venv/lib/python3.9/site-packages (from accelerate~=0.22.0->tempo_embeddings==0.0.1) (6.0.1)\n",
      "Requirement already satisfied: Jinja2>=2.9 in /Users/jose/Repos/tempo-embeddings/.venv/lib/python3.9/site-packages (from bokeh~=3.3.2->tempo_embeddings==0.0.1) (3.1.3)\n",
      "Requirement already satisfied: contourpy>=1 in /Users/jose/Repos/tempo-embeddings/.venv/lib/python3.9/site-packages (from bokeh~=3.3.2->tempo_embeddings==0.0.1) (1.2.0)\n",
      "Requirement already satisfied: pillow>=7.1.0 in /Users/jose/Repos/tempo-embeddings/.venv/lib/python3.9/site-packages (from bokeh~=3.3.2->tempo_embeddings==0.0.1) (10.2.0)\n",
      "Requirement already satisfied: tornado>=5.1 in /Users/jose/Repos/tempo-embeddings/.venv/lib/python3.9/site-packages (from bokeh~=3.3.2->tempo_embeddings==0.0.1) (6.4)\n",
      "Requirement already satisfied: xyzservices>=2021.09.1 in /Users/jose/Repos/tempo-embeddings/.venv/lib/python3.9/site-packages (from bokeh~=3.3.2->tempo_embeddings==0.0.1) (2023.10.1)\n",
      "Requirement already satisfied: build>=1.0.3 in /Users/jose/Repos/tempo-embeddings/.venv/lib/python3.9/site-packages (from chromadb~=0.4.22->tempo_embeddings==0.0.1) (1.0.3)\n",
      "Requirement already satisfied: requests>=2.28 in /Users/jose/Repos/tempo-embeddings/.venv/lib/python3.9/site-packages (from chromadb~=0.4.22->tempo_embeddings==0.0.1) (2.31.0)\n",
      "Requirement already satisfied: pydantic>=1.9 in /Users/jose/Repos/tempo-embeddings/.venv/lib/python3.9/site-packages (from chromadb~=0.4.22->tempo_embeddings==0.0.1) (2.5.3)\n",
      "Requirement already satisfied: chroma-hnswlib==0.7.3 in /Users/jose/Repos/tempo-embeddings/.venv/lib/python3.9/site-packages (from chromadb~=0.4.22->tempo_embeddings==0.0.1) (0.7.3)\n",
      "Requirement already satisfied: fastapi>=0.95.2 in /Users/jose/Repos/tempo-embeddings/.venv/lib/python3.9/site-packages (from chromadb~=0.4.22->tempo_embeddings==0.0.1) (0.109.0)\n",
      "Requirement already satisfied: uvicorn>=0.18.3 in /Users/jose/Repos/tempo-embeddings/.venv/lib/python3.9/site-packages (from uvicorn[standard]>=0.18.3->chromadb~=0.4.22->tempo_embeddings==0.0.1) (0.26.0)\n",
      "Requirement already satisfied: posthog>=2.4.0 in /Users/jose/Repos/tempo-embeddings/.venv/lib/python3.9/site-packages (from chromadb~=0.4.22->tempo_embeddings==0.0.1) (3.3.2)\n",
      "Requirement already satisfied: typing-extensions>=4.5.0 in /Users/jose/Repos/tempo-embeddings/.venv/lib/python3.9/site-packages (from chromadb~=0.4.22->tempo_embeddings==0.0.1) (4.9.0)\n",
      "Requirement already satisfied: pulsar-client>=3.1.0 in /Users/jose/Repos/tempo-embeddings/.venv/lib/python3.9/site-packages (from chromadb~=0.4.22->tempo_embeddings==0.0.1) (3.4.0)\n",
      "Requirement already satisfied: onnxruntime>=1.14.1 in /Users/jose/Repos/tempo-embeddings/.venv/lib/python3.9/site-packages (from chromadb~=0.4.22->tempo_embeddings==0.0.1) (1.16.3)\n",
      "Requirement already satisfied: opentelemetry-api>=1.2.0 in /Users/jose/Repos/tempo-embeddings/.venv/lib/python3.9/site-packages (from chromadb~=0.4.22->tempo_embeddings==0.0.1) (1.22.0)\n",
      "Requirement already satisfied: opentelemetry-exporter-otlp-proto-grpc>=1.2.0 in /Users/jose/Repos/tempo-embeddings/.venv/lib/python3.9/site-packages (from chromadb~=0.4.22->tempo_embeddings==0.0.1) (1.22.0)\n",
      "Requirement already satisfied: opentelemetry-instrumentation-fastapi>=0.41b0 in /Users/jose/Repos/tempo-embeddings/.venv/lib/python3.9/site-packages (from chromadb~=0.4.22->tempo_embeddings==0.0.1) (0.43b0)\n",
      "Requirement already satisfied: opentelemetry-sdk>=1.2.0 in /Users/jose/Repos/tempo-embeddings/.venv/lib/python3.9/site-packages (from chromadb~=0.4.22->tempo_embeddings==0.0.1) (1.22.0)\n",
      "Requirement already satisfied: tokenizers>=0.13.2 in /Users/jose/Repos/tempo-embeddings/.venv/lib/python3.9/site-packages (from chromadb~=0.4.22->tempo_embeddings==0.0.1) (0.13.3)\n",
      "Requirement already satisfied: pypika>=0.48.9 in /Users/jose/Repos/tempo-embeddings/.venv/lib/python3.9/site-packages (from chromadb~=0.4.22->tempo_embeddings==0.0.1) (0.48.9)\n",
      "Requirement already satisfied: tqdm>=4.65.0 in /Users/jose/Repos/tempo-embeddings/.venv/lib/python3.9/site-packages (from chromadb~=0.4.22->tempo_embeddings==0.0.1) (4.66.1)\n",
      "Requirement already satisfied: overrides>=7.3.1 in /Users/jose/Repos/tempo-embeddings/.venv/lib/python3.9/site-packages (from chromadb~=0.4.22->tempo_embeddings==0.0.1) (7.6.0)\n",
      "Requirement already satisfied: importlib-resources in /Users/jose/Repos/tempo-embeddings/.venv/lib/python3.9/site-packages (from chromadb~=0.4.22->tempo_embeddings==0.0.1) (6.1.1)\n",
      "Requirement already satisfied: grpcio>=1.58.0 in /Users/jose/Repos/tempo-embeddings/.venv/lib/python3.9/site-packages (from chromadb~=0.4.22->tempo_embeddings==0.0.1) (1.63.0)\n",
      "Requirement already satisfied: bcrypt>=4.0.1 in /Users/jose/Repos/tempo-embeddings/.venv/lib/python3.9/site-packages (from chromadb~=0.4.22->tempo_embeddings==0.0.1) (4.1.2)\n",
      "Requirement already satisfied: typer>=0.9.0 in /Users/jose/Repos/tempo-embeddings/.venv/lib/python3.9/site-packages (from chromadb~=0.4.22->tempo_embeddings==0.0.1) (0.9.0)\n",
      "Requirement already satisfied: kubernetes>=28.1.0 in /Users/jose/Repos/tempo-embeddings/.venv/lib/python3.9/site-packages (from chromadb~=0.4.22->tempo_embeddings==0.0.1) (29.0.0)\n",
      "Requirement already satisfied: tenacity>=8.2.3 in /Users/jose/Repos/tempo-embeddings/.venv/lib/python3.9/site-packages (from chromadb~=0.4.22->tempo_embeddings==0.0.1) (8.2.3)\n",
      "Requirement already satisfied: mmh3>=4.0.1 in /Users/jose/Repos/tempo-embeddings/.venv/lib/python3.9/site-packages (from chromadb~=0.4.22->tempo_embeddings==0.0.1) (4.1.0)\n",
      "Requirement already satisfied: Flask<2.3.0,>=1.0.4 in /Users/jose/Repos/tempo-embeddings/.venv/lib/python3.9/site-packages (from dash~=2.11.1->tempo_embeddings==0.0.1) (2.2.5)\n",
      "Requirement already satisfied: Werkzeug<2.3.0 in /Users/jose/Repos/tempo-embeddings/.venv/lib/python3.9/site-packages (from dash~=2.11.1->tempo_embeddings==0.0.1) (2.2.3)\n",
      "Requirement already satisfied: plotly>=5.0.0 in /Users/jose/Repos/tempo-embeddings/.venv/lib/python3.9/site-packages (from dash~=2.11.1->tempo_embeddings==0.0.1) (5.18.0)\n",
      "Requirement already satisfied: dash-html-components==2.0.0 in /Users/jose/Repos/tempo-embeddings/.venv/lib/python3.9/site-packages (from dash~=2.11.1->tempo_embeddings==0.0.1) (2.0.0)\n",
      "Requirement already satisfied: dash-core-components==2.0.0 in /Users/jose/Repos/tempo-embeddings/.venv/lib/python3.9/site-packages (from dash~=2.11.1->tempo_embeddings==0.0.1) (2.0.0)\n",
      "Requirement already satisfied: dash-table==5.0.0 in /Users/jose/Repos/tempo-embeddings/.venv/lib/python3.9/site-packages (from dash~=2.11.1->tempo_embeddings==0.0.1) (5.0.0)\n",
      "Requirement already satisfied: retrying in /Users/jose/Repos/tempo-embeddings/.venv/lib/python3.9/site-packages (from dash~=2.11.1->tempo_embeddings==0.0.1) (1.3.4)\n",
      "Requirement already satisfied: ansi2html in /Users/jose/Repos/tempo-embeddings/.venv/lib/python3.9/site-packages (from dash~=2.11.1->tempo_embeddings==0.0.1) (1.9.1)\n",
      "Requirement already satisfied: nest-asyncio in /Users/jose/Repos/tempo-embeddings/.venv/lib/python3.9/site-packages (from dash~=2.11.1->tempo_embeddings==0.0.1) (1.6.0)\n",
      "Requirement already satisfied: cycler>=0.10 in /Users/jose/Repos/tempo-embeddings/.venv/lib/python3.9/site-packages (from matplotlib~=3.7.2->tempo_embeddings==0.0.1) (0.12.1)\n",
      "Requirement already satisfied: fonttools>=4.22.0 in /Users/jose/Repos/tempo-embeddings/.venv/lib/python3.9/site-packages (from matplotlib~=3.7.2->tempo_embeddings==0.0.1) (4.47.2)\n",
      "Requirement already satisfied: kiwisolver>=1.0.1 in /Users/jose/Repos/tempo-embeddings/.venv/lib/python3.9/site-packages (from matplotlib~=3.7.2->tempo_embeddings==0.0.1) (1.4.5)\n",
      "Requirement already satisfied: pyparsing>=2.3.1 in /Users/jose/Repos/tempo-embeddings/.venv/lib/python3.9/site-packages (from matplotlib~=3.7.2->tempo_embeddings==0.0.1) (3.1.1)\n",
      "Requirement already satisfied: python-dateutil>=2.7 in /Users/jose/Repos/tempo-embeddings/.venv/lib/python3.9/site-packages (from matplotlib~=3.7.2->tempo_embeddings==0.0.1) (2.8.2)\n",
      "Requirement already satisfied: pytz>=2020.1 in /Users/jose/Repos/tempo-embeddings/.venv/lib/python3.9/site-packages (from pandas->tempo_embeddings==0.0.1) (2023.3.post1)\n",
      "Requirement already satisfied: tzdata>=2022.7 in /Users/jose/Repos/tempo-embeddings/.venv/lib/python3.9/site-packages (from pandas->tempo_embeddings==0.0.1) (2023.4)\n",
      "Requirement already satisfied: regex in /Users/jose/Repos/tempo-embeddings/.venv/lib/python3.9/site-packages (from sacremoses~=0.0.53->tempo_embeddings==0.0.1) (2023.12.25)\n",
      "Requirement already satisfied: six in /Users/jose/Repos/tempo-embeddings/.venv/lib/python3.9/site-packages (from sacremoses~=0.0.53->tempo_embeddings==0.0.1) (1.16.0)\n",
      "Requirement already satisfied: click in /Users/jose/Repos/tempo-embeddings/.venv/lib/python3.9/site-packages (from sacremoses~=0.0.53->tempo_embeddings==0.0.1) (8.1.7)\n",
      "Requirement already satisfied: joblib in /Users/jose/Repos/tempo-embeddings/.venv/lib/python3.9/site-packages (from sacremoses~=0.0.53->tempo_embeddings==0.0.1) (1.3.2)\n",
      "Requirement already satisfied: scipy>=1.5.0 in /Users/jose/Repos/tempo-embeddings/.venv/lib/python3.9/site-packages (from scikit-learn~=1.3.0->tempo_embeddings==0.0.1) (1.12.0)\n",
      "Requirement already satisfied: threadpoolctl>=2.0.0 in /Users/jose/Repos/tempo-embeddings/.venv/lib/python3.9/site-packages (from scikit-learn~=1.3.0->tempo_embeddings==0.0.1) (3.2.0)\n",
      "Requirement already satisfied: filelock in /Users/jose/Repos/tempo-embeddings/.venv/lib/python3.9/site-packages (from torch~=2.0.1->tempo_embeddings==0.0.1) (3.13.1)\n",
      "Requirement already satisfied: sympy in /Users/jose/Repos/tempo-embeddings/.venv/lib/python3.9/site-packages (from torch~=2.0.1->tempo_embeddings==0.0.1) (1.12)\n",
      "Requirement already satisfied: networkx in /Users/jose/Repos/tempo-embeddings/.venv/lib/python3.9/site-packages (from torch~=2.0.1->tempo_embeddings==0.0.1) (3.2.1)\n",
      "Requirement already satisfied: huggingface-hub<1.0,>=0.15.1 in /Users/jose/Repos/tempo-embeddings/.venv/lib/python3.9/site-packages (from transformers~=4.32.1->tempo_embeddings==0.0.1) (0.20.3)\n",
      "Requirement already satisfied: safetensors>=0.3.1 in /Users/jose/Repos/tempo-embeddings/.venv/lib/python3.9/site-packages (from transformers~=4.32.1->tempo_embeddings==0.0.1) (0.4.1)\n",
      "Requirement already satisfied: numba>=0.51.2 in /Users/jose/Repos/tempo-embeddings/.venv/lib/python3.9/site-packages (from umap-learn~=0.5.4->tempo_embeddings==0.0.1) (0.58.1)\n",
      "Requirement already satisfied: pynndescent>=0.5 in /Users/jose/Repos/tempo-embeddings/.venv/lib/python3.9/site-packages (from umap-learn~=0.5.4->tempo_embeddings==0.0.1) (0.5.11)\n",
      "Requirement already satisfied: ipython in /Users/jose/Repos/tempo-embeddings/.venv/lib/python3.9/site-packages (from wizmap~=0.1.2->tempo_embeddings==0.0.1) (8.18.1)\n",
      "Requirement already satisfied: quadtreed3 in /Users/jose/Repos/tempo-embeddings/.venv/lib/python3.9/site-packages (from wizmap~=0.1.2->tempo_embeddings==0.0.1) (0.1.1)\n",
      "Requirement already satisfied: ndjson in /Users/jose/Repos/tempo-embeddings/.venv/lib/python3.9/site-packages (from wizmap~=0.1.2->tempo_embeddings==0.0.1) (0.3.1)\n",
      "Requirement already satisfied: colorcet in /Users/jose/Repos/tempo-embeddings/.venv/lib/python3.9/site-packages (from datashader->tempo_embeddings==0.0.1) (3.0.1)\n",
      "Requirement already satisfied: dask in /Users/jose/Repos/tempo-embeddings/.venv/lib/python3.9/site-packages (from datashader->tempo_embeddings==0.0.1) (2024.1.0)\n",
      "Requirement already satisfied: multipledispatch in /Users/jose/Repos/tempo-embeddings/.venv/lib/python3.9/site-packages (from datashader->tempo_embeddings==0.0.1) (1.0.0)\n",
      "Requirement already satisfied: param in /Users/jose/Repos/tempo-embeddings/.venv/lib/python3.9/site-packages (from datashader->tempo_embeddings==0.0.1) (2.0.2)\n",
      "Requirement already satisfied: pyct in /Users/jose/Repos/tempo-embeddings/.venv/lib/python3.9/site-packages (from datashader->tempo_embeddings==0.0.1) (0.5.0)\n",
      "Requirement already satisfied: toolz in /Users/jose/Repos/tempo-embeddings/.venv/lib/python3.9/site-packages (from datashader->tempo_embeddings==0.0.1) (0.12.0)\n",
      "Requirement already satisfied: xarray in /Users/jose/Repos/tempo-embeddings/.venv/lib/python3.9/site-packages (from datashader->tempo_embeddings==0.0.1) (2024.1.0)\n",
      "Requirement already satisfied: pyviz-comms>=0.7.4 in /Users/jose/Repos/tempo-embeddings/.venv/lib/python3.9/site-packages (from holoviews->tempo_embeddings==0.0.1) (3.0.1)\n",
      "Requirement already satisfied: panel>=1.0 in /Users/jose/Repos/tempo-embeddings/.venv/lib/python3.9/site-packages (from holoviews->tempo_embeddings==0.0.1) (1.3.7)\n",
      "Requirement already satisfied: pyproject_hooks in /Users/jose/Repos/tempo-embeddings/.venv/lib/python3.9/site-packages (from build>=1.0.3->chromadb~=0.4.22->tempo_embeddings==0.0.1) (1.0.0)\n",
      "Requirement already satisfied: importlib-metadata>=4.6 in /Users/jose/Repos/tempo-embeddings/.venv/lib/python3.9/site-packages (from build>=1.0.3->chromadb~=0.4.22->tempo_embeddings==0.0.1) (6.11.0)\n",
      "Requirement already satisfied: tomli>=1.1.0 in /Users/jose/Repos/tempo-embeddings/.venv/lib/python3.9/site-packages (from build>=1.0.3->chromadb~=0.4.22->tempo_embeddings==0.0.1) (2.0.1)\n",
      "Requirement already satisfied: starlette<0.36.0,>=0.35.0 in /Users/jose/Repos/tempo-embeddings/.venv/lib/python3.9/site-packages (from fastapi>=0.95.2->chromadb~=0.4.22->tempo_embeddings==0.0.1) (0.35.1)\n",
      "Requirement already satisfied: itsdangerous>=2.0 in /Users/jose/Repos/tempo-embeddings/.venv/lib/python3.9/site-packages (from Flask<2.3.0,>=1.0.4->dash~=2.11.1->tempo_embeddings==0.0.1) (2.1.2)\n",
      "Requirement already satisfied: fsspec>=2023.5.0 in /Users/jose/Repos/tempo-embeddings/.venv/lib/python3.9/site-packages (from huggingface-hub<1.0,>=0.15.1->transformers~=4.32.1->tempo_embeddings==0.0.1) (2023.12.2)\n",
      "Requirement already satisfied: zipp>=3.1.0 in /Users/jose/Repos/tempo-embeddings/.venv/lib/python3.9/site-packages (from importlib-resources->chromadb~=0.4.22->tempo_embeddings==0.0.1) (3.17.0)\n",
      "Requirement already satisfied: MarkupSafe>=2.0 in /Users/jose/Repos/tempo-embeddings/.venv/lib/python3.9/site-packages (from Jinja2>=2.9->bokeh~=3.3.2->tempo_embeddings==0.0.1) (2.1.4)\n",
      "Requirement already satisfied: certifi>=14.05.14 in /Users/jose/Repos/tempo-embeddings/.venv/lib/python3.9/site-packages (from kubernetes>=28.1.0->chromadb~=0.4.22->tempo_embeddings==0.0.1) (2023.11.17)\n",
      "Requirement already satisfied: google-auth>=1.0.1 in /Users/jose/Repos/tempo-embeddings/.venv/lib/python3.9/site-packages (from kubernetes>=28.1.0->chromadb~=0.4.22->tempo_embeddings==0.0.1) (2.26.2)\n",
      "Requirement already satisfied: websocket-client!=0.40.0,!=0.41.*,!=0.42.*,>=0.32.0 in /Users/jose/Repos/tempo-embeddings/.venv/lib/python3.9/site-packages (from kubernetes>=28.1.0->chromadb~=0.4.22->tempo_embeddings==0.0.1) (1.7.0)\n",
      "Requirement already satisfied: requests-oauthlib in /Users/jose/Repos/tempo-embeddings/.venv/lib/python3.9/site-packages (from kubernetes>=28.1.0->chromadb~=0.4.22->tempo_embeddings==0.0.1) (1.3.1)\n",
      "Requirement already satisfied: oauthlib>=3.2.2 in /Users/jose/Repos/tempo-embeddings/.venv/lib/python3.9/site-packages (from kubernetes>=28.1.0->chromadb~=0.4.22->tempo_embeddings==0.0.1) (3.2.2)\n",
      "Requirement already satisfied: urllib3>=1.24.2 in /Users/jose/Repos/tempo-embeddings/.venv/lib/python3.9/site-packages (from kubernetes>=28.1.0->chromadb~=0.4.22->tempo_embeddings==0.0.1) (2.1.0)\n",
      "Requirement already satisfied: llvmlite<0.42,>=0.41.0dev0 in /Users/jose/Repos/tempo-embeddings/.venv/lib/python3.9/site-packages (from numba>=0.51.2->umap-learn~=0.5.4->tempo_embeddings==0.0.1) (0.41.1)\n",
      "Requirement already satisfied: coloredlogs in /Users/jose/Repos/tempo-embeddings/.venv/lib/python3.9/site-packages (from onnxruntime>=1.14.1->chromadb~=0.4.22->tempo_embeddings==0.0.1) (15.0.1)\n",
      "Requirement already satisfied: flatbuffers in /Users/jose/Repos/tempo-embeddings/.venv/lib/python3.9/site-packages (from onnxruntime>=1.14.1->chromadb~=0.4.22->tempo_embeddings==0.0.1) (23.5.26)\n",
      "Requirement already satisfied: protobuf in /Users/jose/Repos/tempo-embeddings/.venv/lib/python3.9/site-packages (from onnxruntime>=1.14.1->chromadb~=0.4.22->tempo_embeddings==0.0.1) (4.25.3)\n",
      "Requirement already satisfied: deprecated>=1.2.6 in /Users/jose/Repos/tempo-embeddings/.venv/lib/python3.9/site-packages (from opentelemetry-api>=1.2.0->chromadb~=0.4.22->tempo_embeddings==0.0.1) (1.2.14)\n",
      "Requirement already satisfied: backoff<3.0.0,>=1.10.0 in /Users/jose/Repos/tempo-embeddings/.venv/lib/python3.9/site-packages (from opentelemetry-exporter-otlp-proto-grpc>=1.2.0->chromadb~=0.4.22->tempo_embeddings==0.0.1) (2.2.1)\n",
      "Requirement already satisfied: googleapis-common-protos~=1.52 in /Users/jose/Repos/tempo-embeddings/.venv/lib/python3.9/site-packages (from opentelemetry-exporter-otlp-proto-grpc>=1.2.0->chromadb~=0.4.22->tempo_embeddings==0.0.1) (1.62.0)\n",
      "Requirement already satisfied: opentelemetry-exporter-otlp-proto-common==1.22.0 in /Users/jose/Repos/tempo-embeddings/.venv/lib/python3.9/site-packages (from opentelemetry-exporter-otlp-proto-grpc>=1.2.0->chromadb~=0.4.22->tempo_embeddings==0.0.1) (1.22.0)\n",
      "Requirement already satisfied: opentelemetry-proto==1.22.0 in /Users/jose/Repos/tempo-embeddings/.venv/lib/python3.9/site-packages (from opentelemetry-exporter-otlp-proto-grpc>=1.2.0->chromadb~=0.4.22->tempo_embeddings==0.0.1) (1.22.0)\n",
      "Requirement already satisfied: opentelemetry-instrumentation-asgi==0.43b0 in /Users/jose/Repos/tempo-embeddings/.venv/lib/python3.9/site-packages (from opentelemetry-instrumentation-fastapi>=0.41b0->chromadb~=0.4.22->tempo_embeddings==0.0.1) (0.43b0)\n",
      "Requirement already satisfied: opentelemetry-instrumentation==0.43b0 in /Users/jose/Repos/tempo-embeddings/.venv/lib/python3.9/site-packages (from opentelemetry-instrumentation-fastapi>=0.41b0->chromadb~=0.4.22->tempo_embeddings==0.0.1) (0.43b0)\n",
      "Requirement already satisfied: opentelemetry-semantic-conventions==0.43b0 in /Users/jose/Repos/tempo-embeddings/.venv/lib/python3.9/site-packages (from opentelemetry-instrumentation-fastapi>=0.41b0->chromadb~=0.4.22->tempo_embeddings==0.0.1) (0.43b0)\n",
      "Requirement already satisfied: opentelemetry-util-http==0.43b0 in /Users/jose/Repos/tempo-embeddings/.venv/lib/python3.9/site-packages (from opentelemetry-instrumentation-fastapi>=0.41b0->chromadb~=0.4.22->tempo_embeddings==0.0.1) (0.43b0)\n",
      "Requirement already satisfied: setuptools>=16.0 in /Users/jose/Repos/tempo-embeddings/.venv/lib/python3.9/site-packages (from opentelemetry-instrumentation==0.43b0->opentelemetry-instrumentation-fastapi>=0.41b0->chromadb~=0.4.22->tempo_embeddings==0.0.1) (58.0.4)\n",
      "Requirement already satisfied: wrapt<2.0.0,>=1.0.0 in /Users/jose/Repos/tempo-embeddings/.venv/lib/python3.9/site-packages (from opentelemetry-instrumentation==0.43b0->opentelemetry-instrumentation-fastapi>=0.41b0->chromadb~=0.4.22->tempo_embeddings==0.0.1) (1.16.0)\n",
      "Requirement already satisfied: asgiref~=3.0 in /Users/jose/Repos/tempo-embeddings/.venv/lib/python3.9/site-packages (from opentelemetry-instrumentation-asgi==0.43b0->opentelemetry-instrumentation-fastapi>=0.41b0->chromadb~=0.4.22->tempo_embeddings==0.0.1) (3.7.2)\n",
      "Requirement already satisfied: markdown in /Users/jose/Repos/tempo-embeddings/.venv/lib/python3.9/site-packages (from panel>=1.0->holoviews->tempo_embeddings==0.0.1) (3.5.2)\n",
      "Requirement already satisfied: markdown-it-py in /Users/jose/Repos/tempo-embeddings/.venv/lib/python3.9/site-packages (from panel>=1.0->holoviews->tempo_embeddings==0.0.1) (3.0.0)\n",
      "Requirement already satisfied: linkify-it-py in /Users/jose/Repos/tempo-embeddings/.venv/lib/python3.9/site-packages (from panel>=1.0->holoviews->tempo_embeddings==0.0.1) (2.0.2)\n",
      "Requirement already satisfied: mdit-py-plugins in /Users/jose/Repos/tempo-embeddings/.venv/lib/python3.9/site-packages (from panel>=1.0->holoviews->tempo_embeddings==0.0.1) (0.4.0)\n",
      "Requirement already satisfied: bleach in /Users/jose/Repos/tempo-embeddings/.venv/lib/python3.9/site-packages (from panel>=1.0->holoviews->tempo_embeddings==0.0.1) (6.1.0)\n",
      "Requirement already satisfied: monotonic>=1.5 in /Users/jose/Repos/tempo-embeddings/.venv/lib/python3.9/site-packages (from posthog>=2.4.0->chromadb~=0.4.22->tempo_embeddings==0.0.1) (1.6)\n",
      "Requirement already satisfied: annotated-types>=0.4.0 in /Users/jose/Repos/tempo-embeddings/.venv/lib/python3.9/site-packages (from pydantic>=1.9->chromadb~=0.4.22->tempo_embeddings==0.0.1) (0.6.0)\n",
      "Requirement already satisfied: pydantic-core==2.14.6 in /Users/jose/Repos/tempo-embeddings/.venv/lib/python3.9/site-packages (from pydantic>=1.9->chromadb~=0.4.22->tempo_embeddings==0.0.1) (2.14.6)\n",
      "Requirement already satisfied: charset-normalizer<4,>=2 in /Users/jose/Repos/tempo-embeddings/.venv/lib/python3.9/site-packages (from requests>=2.28->chromadb~=0.4.22->tempo_embeddings==0.0.1) (3.3.2)\n",
      "Requirement already satisfied: idna<4,>=2.5 in /Users/jose/Repos/tempo-embeddings/.venv/lib/python3.9/site-packages (from requests>=2.28->chromadb~=0.4.22->tempo_embeddings==0.0.1) (3.6)\n",
      "Requirement already satisfied: h11>=0.8 in /Users/jose/Repos/tempo-embeddings/.venv/lib/python3.9/site-packages (from uvicorn>=0.18.3->uvicorn[standard]>=0.18.3->chromadb~=0.4.22->tempo_embeddings==0.0.1) (0.14.0)\n",
      "Requirement already satisfied: httptools>=0.5.0 in /Users/jose/Repos/tempo-embeddings/.venv/lib/python3.9/site-packages (from uvicorn[standard]>=0.18.3->chromadb~=0.4.22->tempo_embeddings==0.0.1) (0.6.1)\n",
      "Requirement already satisfied: python-dotenv>=0.13 in /Users/jose/Repos/tempo-embeddings/.venv/lib/python3.9/site-packages (from uvicorn[standard]>=0.18.3->chromadb~=0.4.22->tempo_embeddings==0.0.1) (1.0.0)\n",
      "Requirement already satisfied: uvloop!=0.15.0,!=0.15.1,>=0.14.0 in /Users/jose/Repos/tempo-embeddings/.venv/lib/python3.9/site-packages (from uvicorn[standard]>=0.18.3->chromadb~=0.4.22->tempo_embeddings==0.0.1) (0.19.0)\n",
      "Requirement already satisfied: watchfiles>=0.13 in /Users/jose/Repos/tempo-embeddings/.venv/lib/python3.9/site-packages (from uvicorn[standard]>=0.18.3->chromadb~=0.4.22->tempo_embeddings==0.0.1) (0.21.0)\n",
      "Requirement already satisfied: websockets>=10.4 in /Users/jose/Repos/tempo-embeddings/.venv/lib/python3.9/site-packages (from uvicorn[standard]>=0.18.3->chromadb~=0.4.22->tempo_embeddings==0.0.1) (12.0)\n",
      "Requirement already satisfied: cloudpickle>=1.5.0 in /Users/jose/Repos/tempo-embeddings/.venv/lib/python3.9/site-packages (from dask->datashader->tempo_embeddings==0.0.1) (3.0.0)\n",
      "Requirement already satisfied: partd>=1.2.0 in /Users/jose/Repos/tempo-embeddings/.venv/lib/python3.9/site-packages (from dask->datashader->tempo_embeddings==0.0.1) (1.4.1)\n",
      "Requirement already satisfied: decorator in /Users/jose/Repos/tempo-embeddings/.venv/lib/python3.9/site-packages (from ipython->wizmap~=0.1.2->tempo_embeddings==0.0.1) (5.1.1)\n",
      "Requirement already satisfied: jedi>=0.16 in /Users/jose/Repos/tempo-embeddings/.venv/lib/python3.9/site-packages (from ipython->wizmap~=0.1.2->tempo_embeddings==0.0.1) (0.19.1)\n",
      "Requirement already satisfied: matplotlib-inline in /Users/jose/Repos/tempo-embeddings/.venv/lib/python3.9/site-packages (from ipython->wizmap~=0.1.2->tempo_embeddings==0.0.1) (0.1.6)\n",
      "Requirement already satisfied: prompt-toolkit<3.1.0,>=3.0.41 in /Users/jose/Repos/tempo-embeddings/.venv/lib/python3.9/site-packages (from ipython->wizmap~=0.1.2->tempo_embeddings==0.0.1) (3.0.43)\n",
      "Requirement already satisfied: pygments>=2.4.0 in /Users/jose/Repos/tempo-embeddings/.venv/lib/python3.9/site-packages (from ipython->wizmap~=0.1.2->tempo_embeddings==0.0.1) (2.17.2)\n",
      "Requirement already satisfied: stack-data in /Users/jose/Repos/tempo-embeddings/.venv/lib/python3.9/site-packages (from ipython->wizmap~=0.1.2->tempo_embeddings==0.0.1) (0.6.3)\n",
      "Requirement already satisfied: traitlets>=5 in /Users/jose/Repos/tempo-embeddings/.venv/lib/python3.9/site-packages (from ipython->wizmap~=0.1.2->tempo_embeddings==0.0.1) (5.14.1)\n",
      "Requirement already satisfied: exceptiongroup in /Users/jose/Repos/tempo-embeddings/.venv/lib/python3.9/site-packages (from ipython->wizmap~=0.1.2->tempo_embeddings==0.0.1) (1.2.0)\n",
      "Requirement already satisfied: pexpect>4.3 in /Users/jose/Repos/tempo-embeddings/.venv/lib/python3.9/site-packages (from ipython->wizmap~=0.1.2->tempo_embeddings==0.0.1) (4.9.0)\n",
      "Requirement already satisfied: mpmath>=0.19 in /Users/jose/Repos/tempo-embeddings/.venv/lib/python3.9/site-packages (from sympy->torch~=2.0.1->tempo_embeddings==0.0.1) (1.3.0)\n",
      "Requirement already satisfied: cachetools<6.0,>=2.0.0 in /Users/jose/Repos/tempo-embeddings/.venv/lib/python3.9/site-packages (from google-auth>=1.0.1->kubernetes>=28.1.0->chromadb~=0.4.22->tempo_embeddings==0.0.1) (5.3.2)\n",
      "Requirement already satisfied: pyasn1-modules>=0.2.1 in /Users/jose/Repos/tempo-embeddings/.venv/lib/python3.9/site-packages (from google-auth>=1.0.1->kubernetes>=28.1.0->chromadb~=0.4.22->tempo_embeddings==0.0.1) (0.3.0)\n",
      "Requirement already satisfied: rsa<5,>=3.1.4 in /Users/jose/Repos/tempo-embeddings/.venv/lib/python3.9/site-packages (from google-auth>=1.0.1->kubernetes>=28.1.0->chromadb~=0.4.22->tempo_embeddings==0.0.1) (4.9)\n",
      "Requirement already satisfied: parso<0.9.0,>=0.8.3 in /Users/jose/Repos/tempo-embeddings/.venv/lib/python3.9/site-packages (from jedi>=0.16->ipython->wizmap~=0.1.2->tempo_embeddings==0.0.1) (0.8.3)\n",
      "Requirement already satisfied: locket in /Users/jose/Repos/tempo-embeddings/.venv/lib/python3.9/site-packages (from partd>=1.2.0->dask->datashader->tempo_embeddings==0.0.1) (1.0.0)\n",
      "Requirement already satisfied: ptyprocess>=0.5 in /Users/jose/Repos/tempo-embeddings/.venv/lib/python3.9/site-packages (from pexpect>4.3->ipython->wizmap~=0.1.2->tempo_embeddings==0.0.1) (0.7.0)\n",
      "Requirement already satisfied: wcwidth in /Users/jose/Repos/tempo-embeddings/.venv/lib/python3.9/site-packages (from prompt-toolkit<3.1.0,>=3.0.41->ipython->wizmap~=0.1.2->tempo_embeddings==0.0.1) (0.2.13)\n",
      "Requirement already satisfied: anyio<5,>=3.4.0 in /Users/jose/Repos/tempo-embeddings/.venv/lib/python3.9/site-packages (from starlette<0.36.0,>=0.35.0->fastapi>=0.95.2->chromadb~=0.4.22->tempo_embeddings==0.0.1) (4.2.0)\n",
      "Requirement already satisfied: webencodings in /Users/jose/Repos/tempo-embeddings/.venv/lib/python3.9/site-packages (from bleach->panel>=1.0->holoviews->tempo_embeddings==0.0.1) (0.5.1)\n",
      "Requirement already satisfied: humanfriendly>=9.1 in /Users/jose/Repos/tempo-embeddings/.venv/lib/python3.9/site-packages (from coloredlogs->onnxruntime>=1.14.1->chromadb~=0.4.22->tempo_embeddings==0.0.1) (10.0)\n",
      "Requirement already satisfied: uc-micro-py in /Users/jose/Repos/tempo-embeddings/.venv/lib/python3.9/site-packages (from linkify-it-py->panel>=1.0->holoviews->tempo_embeddings==0.0.1) (1.0.2)\n",
      "Requirement already satisfied: mdurl~=0.1 in /Users/jose/Repos/tempo-embeddings/.venv/lib/python3.9/site-packages (from markdown-it-py->panel>=1.0->holoviews->tempo_embeddings==0.0.1) (0.1.2)\n",
      "Requirement already satisfied: executing>=1.2.0 in /Users/jose/Repos/tempo-embeddings/.venv/lib/python3.9/site-packages (from stack-data->ipython->wizmap~=0.1.2->tempo_embeddings==0.0.1) (2.0.1)\n",
      "Requirement already satisfied: asttokens>=2.1.0 in /Users/jose/Repos/tempo-embeddings/.venv/lib/python3.9/site-packages (from stack-data->ipython->wizmap~=0.1.2->tempo_embeddings==0.0.1) (2.4.1)\n",
      "Requirement already satisfied: pure-eval in /Users/jose/Repos/tempo-embeddings/.venv/lib/python3.9/site-packages (from stack-data->ipython->wizmap~=0.1.2->tempo_embeddings==0.0.1) (0.2.2)\n",
      "Requirement already satisfied: sniffio>=1.1 in /Users/jose/Repos/tempo-embeddings/.venv/lib/python3.9/site-packages (from anyio<5,>=3.4.0->starlette<0.36.0,>=0.35.0->fastapi>=0.95.2->chromadb~=0.4.22->tempo_embeddings==0.0.1) (1.3.0)\n",
      "Requirement already satisfied: pyasn1<0.6.0,>=0.4.6 in /Users/jose/Repos/tempo-embeddings/.venv/lib/python3.9/site-packages (from pyasn1-modules>=0.2.1->google-auth>=1.0.1->kubernetes>=28.1.0->chromadb~=0.4.22->tempo_embeddings==0.0.1) (0.5.1)\n",
      "Building wheels for collected packages: tempo_embeddings\n",
      "  Building wheel for tempo_embeddings (pyproject.toml) ... \u001b[?25ldone\n",
      "\u001b[?25h  Created wheel for tempo_embeddings: filename=tempo_embeddings-0.0.1-py3-none-any.whl size=36869 sha256=502c884b42f6c255f2e7bc8771044f364e6265e71e423b7841c30165b63a7161\n",
      "  Stored in directory: /Users/jose/Library/Caches/pip/wheels/de/25/96/d92b7a130b730e0ab67770d76841f36cb3d1f9cda32a4a539b\n",
      "Successfully built tempo_embeddings\n",
      "Installing collected packages: tempo_embeddings\n",
      "  Attempting uninstall: tempo_embeddings\n",
      "    Found existing installation: tempo_embeddings 0.0.1\n",
      "    Uninstalling tempo_embeddings-0.0.1:\n",
      "      Successfully uninstalled tempo_embeddings-0.0.1\n",
      "Successfully installed tempo_embeddings-0.0.1\n",
      "Note: you may need to restart the kernel to use updated packages.\n"
     ]
    }
   ],
   "source": [
    "# Install tempo-embeddings from GitHub\n",
    "# This can also refer to a specific version or branch\n",
    "# %pip install ..\n",
    "\n",
    "%pip install --upgrade pip  # Required for properly resolving dependencies\n",
    "%pip uninstall -y tempo_embeddings  # Remove existing installation\n",
    "%pip install --upgrade git+https://github.com/Semantics-of-Sustainability/tempo-embeddings.git\n"
   ]
  },
  {
   "cell_type": "markdown",
   "metadata": {},
   "source": [
    "### Import tempo-embeddings and start logging"
   ]
  },
  {
   "cell_type": "code",
   "execution_count": 23,
   "metadata": {},
   "outputs": [
    {
     "name": "stdout",
     "output_type": "stream",
     "text": [
      "The autoreload extension is already loaded. To reload it, use:\n",
      "  %reload_ext autoreload\n"
     ]
    }
   ],
   "source": [
    "# make sure installation has succeeded\n",
    "import tempo_embeddings\n",
    "\n",
    "from importlib import reload\n",
    "import logging\n",
    "reload(logging)\n",
    "logging.basicConfig(format='%(asctime)s %(levelname)s:%(message)s', level=logging.INFO, datefmt='%I:%M:%S')\n",
    "\n",
    "%load_ext autoreload"
   ]
  },
  {
   "cell_type": "markdown",
   "metadata": {},
   "source": [
    "### Optional: Load NLP Pipeline\n",
    "\n",
    "It is possible to use the Stanza library to pre-tokenize and split the text into sentences. This process is not perfect (it tends to overfragment the text if it has too many rare characters) and takes some extra amount of time and memory resources. If `nlp_pipeline = None` then a naive tokenization is done by splitting with spaces and stripping punctuation characters from the text."
   ]
  },
  {
   "cell_type": "code",
   "execution_count": 24,
   "metadata": {},
   "outputs": [
    {
     "name": "stdout",
     "output_type": "stream",
     "text": [
      "huggingface/tokenizers: The current process just got forked, after parallelism has already been used. Disabling parallelism to avoid deadlocks...\n",
      "To disable this warning, you can either:\n",
      "\t- Avoid using `tokenizers` before the fork if possible\n",
      "\t- Explicitly set the environment variable TOKENIZERS_PARALLELISM=(true | false)\n",
      "Requirement already satisfied: stanza==1.7.0 in /Users/jose/Repos/tempo-embeddings/.venv/lib/python3.9/site-packages (1.7.0)\n",
      "Requirement already satisfied: emoji in /Users/jose/Repos/tempo-embeddings/.venv/lib/python3.9/site-packages (from stanza==1.7.0) (2.10.1)\n",
      "Requirement already satisfied: numpy in /Users/jose/Repos/tempo-embeddings/.venv/lib/python3.9/site-packages (from stanza==1.7.0) (1.26.3)\n",
      "Requirement already satisfied: protobuf>=3.15.0 in /Users/jose/Repos/tempo-embeddings/.venv/lib/python3.9/site-packages (from stanza==1.7.0) (4.25.3)\n",
      "Requirement already satisfied: requests in /Users/jose/Repos/tempo-embeddings/.venv/lib/python3.9/site-packages (from stanza==1.7.0) (2.31.0)\n",
      "Requirement already satisfied: networkx in /Users/jose/Repos/tempo-embeddings/.venv/lib/python3.9/site-packages (from stanza==1.7.0) (3.2.1)\n",
      "Requirement already satisfied: toml in /Users/jose/Repos/tempo-embeddings/.venv/lib/python3.9/site-packages (from stanza==1.7.0) (0.10.2)\n",
      "Requirement already satisfied: torch>=1.3.0 in /Users/jose/Repos/tempo-embeddings/.venv/lib/python3.9/site-packages (from stanza==1.7.0) (2.0.1)\n",
      "Requirement already satisfied: tqdm in /Users/jose/Repos/tempo-embeddings/.venv/lib/python3.9/site-packages (from stanza==1.7.0) (4.66.1)\n",
      "Requirement already satisfied: filelock in /Users/jose/Repos/tempo-embeddings/.venv/lib/python3.9/site-packages (from torch>=1.3.0->stanza==1.7.0) (3.13.1)\n",
      "Requirement already satisfied: typing-extensions in /Users/jose/Repos/tempo-embeddings/.venv/lib/python3.9/site-packages (from torch>=1.3.0->stanza==1.7.0) (4.9.0)\n",
      "Requirement already satisfied: sympy in /Users/jose/Repos/tempo-embeddings/.venv/lib/python3.9/site-packages (from torch>=1.3.0->stanza==1.7.0) (1.12)\n",
      "Requirement already satisfied: jinja2 in /Users/jose/Repos/tempo-embeddings/.venv/lib/python3.9/site-packages (from torch>=1.3.0->stanza==1.7.0) (3.1.3)\n",
      "Requirement already satisfied: charset-normalizer<4,>=2 in /Users/jose/Repos/tempo-embeddings/.venv/lib/python3.9/site-packages (from requests->stanza==1.7.0) (3.3.2)\n",
      "Requirement already satisfied: idna<4,>=2.5 in /Users/jose/Repos/tempo-embeddings/.venv/lib/python3.9/site-packages (from requests->stanza==1.7.0) (3.6)\n",
      "Requirement already satisfied: urllib3<3,>=1.21.1 in /Users/jose/Repos/tempo-embeddings/.venv/lib/python3.9/site-packages (from requests->stanza==1.7.0) (2.1.0)\n",
      "Requirement already satisfied: certifi>=2017.4.17 in /Users/jose/Repos/tempo-embeddings/.venv/lib/python3.9/site-packages (from requests->stanza==1.7.0) (2023.11.17)\n",
      "Requirement already satisfied: MarkupSafe>=2.0 in /Users/jose/Repos/tempo-embeddings/.venv/lib/python3.9/site-packages (from jinja2->torch>=1.3.0->stanza==1.7.0) (2.1.4)\n",
      "Requirement already satisfied: mpmath>=0.19 in /Users/jose/Repos/tempo-embeddings/.venv/lib/python3.9/site-packages (from sympy->torch>=1.3.0->stanza==1.7.0) (1.3.0)\n",
      "Note: you may need to restart the kernel to use updated packages.\n"
     ]
    }
   ],
   "source": [
    "%pip install stanza==1.7.0"
   ]
  },
  {
   "cell_type": "code",
   "execution_count": 25,
   "metadata": {},
   "outputs": [],
   "source": [
    "nlp_pipeline = None\n",
    "\n",
    "# import stanza\n",
    "# stanza.download('nl')\n",
    "# nlp_pipeline = stanza.Pipeline(\"nl\", processors='tokenize')"
   ]
  },
  {
   "cell_type": "markdown",
   "metadata": {},
   "source": [
    "## Load Data\n",
    "\n",
    "The data needs to be downloaded and provided in the path configured in the next cell.\n",
    "\n",
    "NOTE: You have to manually adapt the `DATA_DIR` below."
   ]
  },
  {
   "cell_type": "code",
   "execution_count": 26,
   "metadata": {},
   "outputs": [],
   "source": [
    "%autoreload now\n",
    "\n",
    "import operator\n",
    "from functools import reduce\n",
    "from pathlib import Path\n",
    "from tqdm import tqdm\n",
    "from tempo_embeddings.text.corpus import Corpus"
   ]
  },
  {
   "cell_type": "code",
   "execution_count": 27,
   "metadata": {},
   "outputs": [],
   "source": [
    "WINDOW_SIZE = 300 # Size of passages in characters\n",
    "USE_FULL_SENTENCES = False # For now, this parameter overrides the window size. Instead of splitting arbitrarily the passages in WINDO_SIZE chunks, each Sentence will be a Passage\n",
    "\n",
    "RANDOM_SAMPLE_ANP = 200\n",
    "RANDOM_SAMPLE_STATEN_GENERAAL = 200\n",
    "\n",
    "STATEN_GENERAAL_BLACKLIST = [\"1987\"]\n",
    "\n",
    "FILTER_TERMS = [\"duurzaam\"]  # Search term(s) for filtering the corpus. If empty, it will only create Passages for the pieces of text that match the FILTER_TERMS"
   ]
  },
  {
   "cell_type": "code",
   "execution_count": 28,
   "metadata": {},
   "outputs": [],
   "source": [
    "## NOTE: Adapt the `DATA_DIR` below manually!\n",
    "## For a shared Google Drive, create a shortcut into your own Google Drive\n",
    "## See https://stackoverflow.com/questions/54351852/accessing-shared-with-me-with-colab\n",
    "\n",
    "try:\n",
    "    import google.colab\n",
    "    IN_COLAB = True\n",
    "except ModuleNotFoundError:\n",
    "    IN_COLAB = False\n",
    "\n",
    "LOCAL_PATHS: list[Path] = [\n",
    "    Path.home() / \"Documents\" / \"SemanticsOfSustainability\" / \"data\" / \"Joris\",\n",
    "    Path.home() / \"SEED_DATA\" / \"SemanticsSustainability\", # local angel\n",
    "    Path(\"/data/volume_2/data\"),  # Research Cloud\n",
    "    Path(\"/data/storage-semantics-of-sustainability/data/\"), # New Research Cloud\n",
    "    Path(\"/home/cschnober/data/\"),  # Snellius\n",
    "]\n",
    "\n",
    "if IN_COLAB:\n",
    "    from google.colab import drive\n",
    "\n",
    "    drive.mount(\"/content/drive\")\n",
    "\n",
    "    DATA_DIR = Path(\"/content/drive/MyDrive/Data/\")\n",
    "else:\n",
    "    try:\n",
    "        DATA_DIR = next(path for path in LOCAL_PATHS if path.is_dir())\n",
    "    except StopIteration as e:\n",
    "        raise DirectoryNotFoundError(f\"Data directory not found.\") from e\n",
    "\n",
    "assert DATA_DIR.is_dir(), f\"Data dir '{DATA_DIR}' not found.\""
   ]
  },
  {
   "cell_type": "markdown",
   "metadata": {},
   "source": [
    "### ANP"
   ]
  },
  {
   "cell_type": "code",
   "execution_count": 29,
   "metadata": {},
   "outputs": [],
   "source": [
    "ANP_DIR = DATA_DIR / \"ANP\"\n",
    "assert RANDOM_SAMPLE_ANP == 0 or ANP_DIR.is_dir(), f\"{ANP_DIR} not found.\""
   ]
  },
  {
   "cell_type": "code",
   "execution_count": 30,
   "metadata": {},
   "outputs": [
    {
     "name": "stdout",
     "output_type": "stream",
     "text": [
      "Found 2 ANP Files\n"
     ]
    },
    {
     "data": {
      "text/plain": [
       "[PosixPath('/Users/jose/SEED_DATA/SemanticsSustainability/ANP/ANP_1983.csv.gz'),\n",
       " PosixPath('/Users/jose/SEED_DATA/SemanticsSustainability/ANP/ANP_1984.csv.gz')]"
      ]
     },
     "execution_count": 30,
     "metadata": {},
     "output_type": "execute_result"
    }
   ],
   "source": [
    "import random\n",
    "\n",
    "\n",
    "random.seed(0)\n",
    "\n",
    "anp_files = list(ANP_DIR.glob(\"ANP_????.csv.gz\"))\n",
    "\n",
    "if RANDOM_SAMPLE_ANP and len(anp_files) > RANDOM_SAMPLE_ANP:\n",
    "    anp_files = random.sample(\n",
    "        list(ANP_DIR.glob(\"ANP_????.csv.gz\")), k=RANDOM_SAMPLE_ANP\n",
    "    )\n",
    "\n",
    "print(f\"Found {len(anp_files)} ANP Files\")\n",
    "anp_files[:10]"
   ]
  },
  {
   "cell_type": "code",
   "execution_count": 31,
   "metadata": {},
   "outputs": [
    {
     "name": "stderr",
     "output_type": "stream",
     "text": [
      "100%|██████████| 2/2 [00:01<00:00,  1.36file/s]\n"
     ]
    },
    {
     "data": {
      "text/plain": [
       "54"
      ]
     },
     "execution_count": 31,
     "metadata": {},
     "output_type": "execute_result"
    }
   ],
   "source": [
    "anp_corpus = (\n",
    "    reduce(\n",
    "        operator.add,\n",
    "        (\n",
    "            Corpus.from_csv_file(\n",
    "                path,\n",
    "                filter_terms=FILTER_TERMS,\n",
    "                text_columns=[\"content\"],\n",
    "                encoding=\"iso8859_15\",\n",
    "                compression=\"gzip\",\n",
    "                delimiter=\";\",\n",
    "                window_size=WINDOW_SIZE,\n",
    "                nlp_pipeline=nlp_pipeline\n",
    "            )\n",
    "            for path in tqdm(anp_files, unit=\"file\")\n",
    "        ),\n",
    "    )\n",
    "    if anp_files\n",
    "    else Corpus()\n",
    ")\n",
    "\n",
    "len(anp_corpus)"
   ]
  },
  {
   "cell_type": "markdown",
   "metadata": {},
   "source": [
    "### Staten Generaal"
   ]
  },
  {
   "cell_type": "code",
   "execution_count": 32,
   "metadata": {},
   "outputs": [],
   "source": [
    "STATEN_GENERAAL_DIR = DATA_DIR / \"StatenGeneraal\"\n",
    "\n",
    "assert RANDOM_SAMPLE_STATEN_GENERAAL == 0 or STATEN_GENERAAL_DIR.is_dir()"
   ]
  },
  {
   "cell_type": "code",
   "execution_count": 33,
   "metadata": {},
   "outputs": [
    {
     "name": "stdout",
     "output_type": "stream",
     "text": [
      "Found 2 STAATEN_G Files\n"
     ]
    },
    {
     "data": {
      "text/plain": [
       "[PosixPath('/Users/jose/SEED_DATA/SemanticsSustainability/StatenGeneraal/StatenGeneraal_2017.csv.gz'),\n",
       " PosixPath('/Users/jose/SEED_DATA/SemanticsSustainability/StatenGeneraal/StatenGeneraal_2018.csv.gz')]"
      ]
     },
     "execution_count": 33,
     "metadata": {},
     "output_type": "execute_result"
    }
   ],
   "source": [
    "glob195x = \"StatenGeneraal_19[0-9]?.csv.gz\"  # Pattern for files from 1950-1999\n",
    "glob20xx = \"StatenGeneraal_2???.csv.gz\"  # Pattern for files from 2000\n",
    "\n",
    "files_195x = list(STATEN_GENERAAL_DIR.glob(glob195x))\n",
    "files_20xx = list(STATEN_GENERAAL_DIR.glob(glob20xx))\n",
    "\n",
    "sg_files = [\n",
    "    file\n",
    "    # Merge files from patterns\n",
    "    for file in files_20xx + files_195x\n",
    "    # Remove blacklisted files:\n",
    "    for blacklisted in STATEN_GENERAAL_BLACKLIST\n",
    "    if blacklisted not in file.name\n",
    "]\n",
    "\n",
    "if RANDOM_SAMPLE_STATEN_GENERAAL and RANDOM_SAMPLE_STATEN_GENERAAL < len(sg_files):\n",
    "    sg_files = random.sample(sg_files, k=RANDOM_SAMPLE_STATEN_GENERAAL)\n",
    "\n",
    "print(f\"Found {len(sg_files)} STAATEN_G Files\")\n",
    "sorted(sg_files[:10])"
   ]
  },
  {
   "cell_type": "code",
   "execution_count": 34,
   "metadata": {},
   "outputs": [
    {
     "name": "stderr",
     "output_type": "stream",
     "text": [
      "100%|██████████| 2/2 [00:01<00:00,  1.07file/s]\n"
     ]
    },
    {
     "data": {
      "text/plain": [
       "1504"
      ]
     },
     "execution_count": 34,
     "metadata": {},
     "output_type": "execute_result"
    }
   ],
   "source": [
    "%autoreload now\n",
    "\n",
    "import csv\n",
    "\n",
    "csv.field_size_limit(100000000)\n",
    "\n",
    "sg_corpus = (\n",
    "    reduce(\n",
    "        operator.add,\n",
    "        (\n",
    "            Corpus.from_csv_file(\n",
    "                path,\n",
    "                filter_terms=FILTER_TERMS,\n",
    "                text_columns=[\"Content\"],\n",
    "                encoding=\"utf-8\",\n",
    "                compression=\"gzip\",\n",
    "                delimiter=\";\",\n",
    "                window_size=WINDOW_SIZE,\n",
    "                nlp_pipeline=nlp_pipeline\n",
    "            )\n",
    "            for path in tqdm(sg_files, unit=\"file\")\n",
    "        ),\n",
    "    )\n",
    "    if sg_files\n",
    "    else Corpus()\n",
    ")\n",
    "\n",
    "len(sg_corpus)"
   ]
  },
  {
   "cell_type": "markdown",
   "metadata": {},
   "source": [
    "### Show the Passages that were created in the corpus"
   ]
  },
  {
   "cell_type": "code",
   "execution_count": 35,
   "metadata": {},
   "outputs": [
    {
     "name": "stdout",
     "output_type": "stream",
     "text": [
      "303 Passage('economische groei consequent milieuvernietiging op, in meerdere of mindere mate. Economische groei zou \"duurzaam\" te noemen zijn als die wordt gekoppeld aan technologische vooruitgang en toenemende efficiëntie. Zo zouden we de taart kunnen vergroten en alle milieuproblematiek de baas kunnen worden. Een', {'': '204', 'RecId': 'h-ek-20162017-14-3', 'chamber': 'EersteKamer', 'date': '2017-01-17', 'speakers': 'De voorzitter :|Mevrouw Teunissen ( PvdD ):|Mevrouw Vos ( GroenLinks ):|De heer Van Hattem ( PVV ):|Mevrouw Stienen ( D66 ):|De heer Verheijen ( PvdA ):|Mevrouw Meijer ( SP ):|De voorzitter :|Minister Schultz van Haegen-Maas Geesteranus :|Mevrouw Vos ( GroenLinks ):|Minister Schultz van Haegen-Maas Geesteranus :|Mevrouw Vos ( GroenLinks ):|Minister Schultz van Haegen-Maas Geesteranus :|De heer Verheijen ( PvdA ):|Minister Schultz van Haegen-Maas Geesteranus :|De heer Verheijen ( PvdA ):|Minister Schultz van Haegen-Maas Geesteranus :|De heer Van Hattem ( PVV ):|Minister Schultz van Haegen-Maas Geesteranus :|De heer Van Hattem ( PVV ):|Minister Schultz van Haegen-Maas Geesteranus :|Minister Schultz van Haegen-Maas Geesteranus :|De heer Van Hattem ( PVV ):|Minister Schultz van Haegen-Maas Geesteranus :|De heer Van Hattem ( PVV ):|Minister Schultz van Haegen-Maas Geesteranus :|De voorzitter :|De heer Van Hattem ( PVV ):|Minister Schultz van Haegen-Maas Geesteranus :|De heer Verheijen ( PvdA ):|Minister Schultz van Haegen-Maas Geesteranus :|De heer Verheijen ( PvdA ):|Minister Schultz van Haegen-Maas Geesteranus :|De voorzitter :|De heer Van Hattem ( PVV ):|Minister Schultz van Haegen-Maas Geesteranus :|De heer Van Hattem ( PVV ):|Minister Schultz van Haegen-Maas Geesteranus :', 'title': 'handelingen', 'year': '2017'}, Highlighting(start=104, end=112))\n",
      "310 Passage('veronderstelde klimaateffecten? Graag een reactie. Voorzitter, de PVV-fractie zal tegen dit wetsvoorstel stemmen. Mevrouw Stienen ( D66 ): Voorzitter. Een toekomstbestendige economie is schoon én gebouwd op kansen die duurzaamheid biedt. De D66-fractie vindt dat alleen in een dergelijke economie in Nederland,', {'': '204', 'RecId': 'h-ek-20162017-14-3', 'chamber': 'EersteKamer', 'date': '2017-01-17', 'speakers': 'De voorzitter :|Mevrouw Teunissen ( PvdD ):|Mevrouw Vos ( GroenLinks ):|De heer Van Hattem ( PVV ):|Mevrouw Stienen ( D66 ):|De heer Verheijen ( PvdA ):|Mevrouw Meijer ( SP ):|De voorzitter :|Minister Schultz van Haegen-Maas Geesteranus :|Mevrouw Vos ( GroenLinks ):|Minister Schultz van Haegen-Maas Geesteranus :|Mevrouw Vos ( GroenLinks ):|Minister Schultz van Haegen-Maas Geesteranus :|De heer Verheijen ( PvdA ):|Minister Schultz van Haegen-Maas Geesteranus :|De heer Verheijen ( PvdA ):|Minister Schultz van Haegen-Maas Geesteranus :|De heer Van Hattem ( PVV ):|Minister Schultz van Haegen-Maas Geesteranus :|De heer Van Hattem ( PVV ):|Minister Schultz van Haegen-Maas Geesteranus :|Minister Schultz van Haegen-Maas Geesteranus :|De heer Van Hattem ( PVV ):|Minister Schultz van Haegen-Maas Geesteranus :|De heer Van Hattem ( PVV ):|Minister Schultz van Haegen-Maas Geesteranus :|De voorzitter :|De heer Van Hattem ( PVV ):|Minister Schultz van Haegen-Maas Geesteranus :|De heer Verheijen ( PvdA ):|Minister Schultz van Haegen-Maas Geesteranus :|De heer Verheijen ( PvdA ):|Minister Schultz van Haegen-Maas Geesteranus :|De voorzitter :|De heer Van Hattem ( PVV ):|Minister Schultz van Haegen-Maas Geesteranus :|De heer Van Hattem ( PVV ):|Minister Schultz van Haegen-Maas Geesteranus :', 'title': 'handelingen', 'year': '2017'}, Highlighting(start=218, end=226))\n",
      "316 Passage('voorbereiding (griffienr. 160463); een, van de minister voor Buitenlandse Handel en Ontwikkelingssamenwerking, inzake Lesser duty rule en het voorstel om de antidumpingmethodiek aan te passen (griffienr. 160437); een, van de minister voor Wonen en Rijksdienst, inzake stand van zaken Fonds Duurzaam Funderingsherstel', {'': '208', 'RecId': 'h-ek-20162017-14-7', 'chamber': 'EersteKamer', 'date': '2017-01-17', 'speakers': 'no speakers', 'title': 'handelingen', 'year': '2017'}, Highlighting(start=290, end=298))\n",
      "301 Passage('Funderingsherstel en oprichten Stichting Fonds Duurzaam Funderingsherstel (griffienr. 160433); een, van alsvoren, inzake jaarwerkplan 2017 Autoriteit woningcorporaties (griffienr. 160425); een, van alsvoren, ten geleide van de Evaluatie ZBO Huurcommissie (griffienr. 160428); een, van alsvoren, inzake', {'': '208', 'RecId': 'h-ek-20162017-14-7', 'chamber': 'EersteKamer', 'date': '2017-01-17', 'speakers': 'no speakers', 'title': 'handelingen', 'year': '2017'}, Highlighting(start=47, end=55))\n",
      "311 Passage(\"Economische Zaken, H.G.J. Kamp - 23 december 2016 Rondgezonden en gepubliceerd. MTCS in het duurzaam inkoopbeleid - 30196-504 staatssecretaris van Infrastructuur en Milieu, S.A.M. Dijksma - 22 december 2016 Rondgezonden en gepubliceerd. Onderzoek naar risico's rubbergranulaat in kunstgrasvelden en rubbertegels\", {'': '218', 'RecId': 'h-tk-20162017-40-9', 'chamber': 'TweedeKamer', 'date': '2017-01-17', 'speakers': 'no speakers', 'title': 'handelingen', 'year': '2017'}, Highlighting(start=92, end=100))\n",
      "307 Passage('acetylfentanyl en 4-FA en plaatsing op lijst II van het middel fenazepam - 34644-1 staatssecretaris van Volksgezondheid, Welzijn en Sport, M.J. van Rijn - 23 december 2016 Rondgezonden en gepubliceerd. Stand van zaken Fonds Duurzaam Funderingsherstel en oprichting Stichting Fonds Duurzaam Funderingsherstel', {'': '218', 'RecId': 'h-tk-20162017-40-9', 'chamber': 'TweedeKamer', 'date': '2017-01-17', 'speakers': 'no speakers', 'title': 'handelingen', 'year': '2017'}, Highlighting(start=224, end=232))\n",
      "307 Passage('acetylfentanyl en 4-FA en plaatsing op lijst II van het middel fenazepam - 34644-1 staatssecretaris van Volksgezondheid, Welzijn en Sport, M.J. van Rijn - 23 december 2016 Rondgezonden en gepubliceerd. Stand van zaken Fonds Duurzaam Funderingsherstel en oprichting Stichting Fonds Duurzaam Funderingsherstel', {'': '218', 'RecId': 'h-tk-20162017-40-9', 'chamber': 'TweedeKamer', 'date': '2017-01-17', 'speakers': 'no speakers', 'title': 'handelingen', 'year': '2017'}, Highlighting(start=281, end=289))\n",
      "303 Passage(\"maatregelen en soms via een goedkopere verwerking. Niemand controleert op de gevolgen voor veiligheid, gezondheid en duurzaamheid. De bouwer loopt dus nauwelijks risico's. Alleen de dingen die je als opdrachtgever ziet bij de oplevering, moeten direct worden hersteld. We moeten naar een beoordeling van\", {'': '237', 'RecId': 'h-tk-20162017-41-7', 'chamber': 'TweedeKamer', 'date': '2017-01-18', 'speakers': 'De voorzitter :|De heer Albert de Vries ( PvdA ):|De heer Van der Linde ( VVD ):|De heer Albert de Vries ( PvdA ):|De heer Van der Linde ( VVD ):|De heer Albert de Vries ( PvdA ):|De voorzitter :|De heer Van der Linde ( VVD ):|De heer Albert de Vries ( PvdA ):|De heer Bashir ( SP ):|De heer Albert de Vries ( PvdA ):|De heer Bashir ( SP ):|De heer Albert de Vries ( PvdA ):|De heer Bashir ( SP ):|De heer Albert de Vries ( PvdA ):|De heer Madlener ( PVV ):|De heer Albert de Vries ( PvdA ):|De heer Madlener ( PVV ):|De heer Albert de Vries ( PvdA ):|De voorzitter :|De heer Albert de Vries ( PvdA ):|De heer Bashir ( SP ):|De heer Albert de Vries ( PvdA ):|De heer Bashir ( SP ):|De heer Albert de Vries ( PvdA ):|De heer Bashir ( SP ):|De heer Albert de Vries ( PvdA ):|De heer Madlener ( PVV ):|De heer Albert de Vries ( PvdA ):|De heer Madlener ( PVV ):|De heer Albert de Vries ( PvdA ):|De voorzitter :|De heer Albert de Vries ( PvdA ):|De heer Van der Linde ( VVD ):|De heer Madlener ( PVV ):|De heer Van der Linde ( VVD ):|De heer Madlener ( PVV ):|De heer Van der Linde ( VVD ):|De heer Bashir ( SP ):|De heer Van der Linde ( VVD ):|De heer Bashir ( SP ):|De heer Van der Linde ( VVD ):|De voorzitter :|De heer Bashir ( SP ):|De heer Van der Linde ( VVD ):|De heer Albert de Vries ( PvdA ):|De heer Van der Linde ( VVD ):|De voorzitter :|De heer Van der Linde ( VVD ):|De voorzitter :|De heer Albert de Vries ( PvdA ):|De heer Ronnes ( CDA ):|De heer Van der Linde ( VVD ):|De heer Ronnes ( CDA ):|De heer Van der Linde ( VVD ):|De voorzitter :|De heer Ronnes ( CDA ):|De heer Van der Linde ( VVD ):|De heer Ronnes ( CDA ):|De voorzitter :|De heer Ronnes ( CDA ):|De heer Van der Linde ( VVD ):|De heer Albert de Vries ( PvdA ):|De voorzitter :|De heer Albert de Vries ( PvdA ):|De heer Van der Linde ( VVD ):|De heer Albert de Vries ( PvdA ):|De heer Van der Linde ( VVD ):|De heer Albert de Vries ( PvdA ):|De heer Van der Linde ( VVD ):|De heer Albert de Vries ( PvdA ):|De heer Van der Linde ( VVD ):|De heer Madlener ( PVV ):|De heer Van der Linde ( VVD ):|De heer Madlener ( PVV ):|De heer Van der Linde ( VVD ):|De heer Madlener ( PVV ):|De heer Van der Linde ( VVD ):|De voorzitter :|De heer Van der Linde ( VVD ):|De heer Ronnes ( CDA ):|De heer Van der Linde ( VVD ):|De heer Ronnes ( CDA ):|De heer Albert de Vries ( PvdA ):|De heer Ronnes ( CDA ):|De heer Albert de Vries ( PvdA ):|De heer Ronnes ( CDA ):|De voorzitter :|De heer Albert de Vries ( PvdA ):|De heer Ronnes ( CDA ):|De heer Bashir ( SP ):|De heer Van der Linde ( VVD ):|De heer Bashir ( SP ):|De heer Van der Linde ( VVD ):|De heer Bashir ( SP ):|De heer Van der Linde ( VVD ):|De heer Bashir ( SP ):|De heer Albert de Vries ( PvdA ):|De voorzitter :|De heer Albert de Vries ( PvdA ):|De heer Bashir ( SP ):|De heer Albert de Vries ( PvdA ):|De heer Bashir ( SP ):|De heer Madlener ( PVV ):|De heer Bashir ( SP ):|De heer Madlener ( PVV ):|De heer Bashir ( SP ):|De voorzitter :|De heer Madlener ( PVV ):|De heer Bashir ( SP ):|De heer Madlener ( PVV ):|De heer Van der Linde ( VVD ):|De heer Madlener ( PVV ):|De heer Albert de Vries ( PvdA ):|De heer Madlener ( PVV ):|De heer Albert de Vries ( PvdA ):|De heer Madlener ( PVV ):|De voorzitter :|De heer Albert de Vries ( PvdA ):|De voorzitter :|De heer Madlener ( PVV ):|De heer Koolmees ( D66 ):|De heer Bisschop ( SGP ):|De voorzitter :|Minister Blok :|De heer Madlener ( PVV ):|Minister Blok :|De voorzitter :|Minister Blok :|De heer Albert de Vries ( PvdA ):|Minister Blok :|De heer Albert de Vries ( PvdA ):|Minister Blok :|De voorzitter :|De heer Albert de Vries ( PvdA ):|De voorzitter :|De heer Albert de Vries ( PvdA ):|De voorzitter :|De heer Albert de Vries ( PvdA ):|Minister Blok :|De heer Albert de Vries ( PvdA ):|Minister Blok :|De heer Albert de Vries ( PvdA ):|Minister Blok :|De heer Ronnes ( CDA ):|Minister Blok :|De heer Ronnes ( CDA ):|Minister Blok :|De heer Ronnes ( CDA ):|Minister Blok :|De heer Ronnes ( CDA ):|Minister Blok :|De voorzitter :|De heer Ronnes ( CDA ):|Minister Blok :|De heer Bashir ( SP ):|Minister Blok :|De heer Bashir ( SP ):|Minister Blok :|De heer Albert de Vries ( PvdA ):|Minister Blok :|De heer Albert de Vries ( PvdA ):|Minister Blok :|De heer Bashir ( SP ):|Minister Blok :|De voorzitter :|De heer Bashir ( SP ):|Minister Blok :|De voorzitter :|De heer Bashir ( SP ):|De heer Albert de Vries ( PvdA ):|Minister Blok :|De heer Albert de Vries ( PvdA ):|Minister Blok :|De heer Madlener ( PVV ):|Minister Blok :|De heer Madlener ( PVV ):|Minister Blok :|De heer Madlener ( PVV ):|Minister Blok :|De voorzitter :|Minister Blok :|De voorzitter :|Minister Blok :|De voorzitter :|Minister Blok :|De heer Madlener ( PVV ):|Minister Blok :|De heer Madlener ( PVV ):|Minister Blok :|De voorzitter :|De heer Madlener ( PVV ):|Minister Blok :|De voorzitter :|Minister Blok :|De heer Bashir ( SP ):|Minister Blok :|De heer Bashir ( SP ):|Minister Blok :|De heer Albert de Vries ( PvdA ):|De voorzitter :|Minister Blok :|De voorzitter :|De heer Bashir ( SP ):|De heer Koolmees ( D66 ):|De heer Ronnes ( CDA ):|De heer Van der Linde ( VVD ):|De voorzitter :|De heer Van der Linde ( VVD ):|Minister Blok :|De heer Albert de Vries ( PvdA ):|De voorzitter :', 'title': 'handelingen', 'year': '2017'}, Highlighting(start=117, end=125))\n",
      "301 Passage('30111-102; 32647-29. Ik stel voor, toe te voegen aan de agenda: - het VAO Landbouw- en Visserijraad, met als eerste spreker het lid Ouwehand namens de PvdD; - het VAO Wegverkeer en verkeersveiligheid, met als eerste spreker het lid Van Helvert namens het CDA; - het VAO Duurzaamheid en milieu, met als', {'': '257', 'RecId': 'h-tk-20162017-42-8', 'chamber': 'TweedeKamer', 'date': '2017-01-19', 'speakers': 'De voorzitter :|De voorzitter :|De heer Van Helvert ( CDA ):|De voorzitter :|De heer Van Helvert ( CDA ):|De voorzitter :|Mevrouw Visser ( VVD ):|Mevrouw Belhaj ( D66 ):|De voorzitter :|Mevrouw Jacobi ( PvdA ):|De heer Bisschop ( SGP ):|Mevrouw Schouten ( ChristenUnie ):|De voorzitter :|De heer Van Helvert ( CDA ):|De voorzitter :|Mevrouw Schouten ( ChristenUnie ):|De voorzitter :', 'title': 'handelingen', 'year': '2017'}, Highlighting(start=270, end=278))\n",
      "303 Passage('32 Regeling van werkzaamheden De voorzitter : Op verzoek van de aanvragers stel ik voor, het debat over misstanden in het gevangeniswezen, het debat over het duurzaamheidsbeleid in Nederland en het dertigledendebat over de deal van Starbucks met de Nederlandse fiscus van de agenda af te voeren. Daartoe', {'': '290', 'RecId': 'h-tk-20162017-43-32', 'chamber': 'TweedeKamer', 'date': '2017-01-24', 'speakers': 'De voorzitter :|De voorzitter :|De voorzitter :|De heer Smaling ( SP ):|Mevrouw Agnes Mulder ( CDA ):|De voorzitter :|Mevrouw Agnes Mulder ( CDA ):|De voorzitter :|De heer Verhoeven ( D66 ):|De heer Bosman ( VVD ):|De heer Monasch ( Monasch ):|Mevrouw Klever ( PVV ):|Mevrouw Dik-Faber ( ChristenUnie ):|De heer Dijkgraaf ( SGP ):|Mevrouw Vermeij ( PvdA ):|De voorzitter :|De heer Smaling ( SP ):|De voorzitter :|De heer Segers ( ChristenUnie ):|De heer Zijlstra ( VVD ):|De voorzitter :|Mevrouw Van Toorenburg ( CDA ):|De voorzitter :|De heer Segers ( ChristenUnie ):|De voorzitter :|De heer Zijlstra ( VVD ):|De voorzitter :|De heer Krol ( 50PLUS ):|De heer Kuzu ( Groep Kuzu/Öztürk ):|De heer Recourt ( PvdA ):|De voorzitter :|De heer Van Weyenberg ( D66 ):|De voorzitter :|De heer Van Weyenberg ( D66 ):|De voorzitter :|Mevrouw Gesthuizen ( SP ):|De voorzitter :|De heer Rog ( CDA ):|Mevrouw Voortman ( GroenLinks ):|Mevrouw Mei Li Vos ( PvdA ):|De voorzitter :|Mevrouw Schut-Welkzijn ( VVD ):|De voorzitter :|De heer Van Weyenberg ( D66 ):|De voorzitter :|De heer Van Meenen ( D66 ):|Mevrouw Karabulut ( SP ):|De heer Monasch ( Monasch ):|De heer Rog ( CDA ):|De heer Öztürk ( Groep Kuzu/Öztürk ):|De heer Krol ( 50PLUS ):|De heer De Graaf ( PVV ):|De heer Dijkgraaf ( SGP ):|Mevrouw Voortman ( GroenLinks ):|De heer Marcouch ( PvdA ):|De heer Azmani ( VVD ):|De heer Van Meenen ( D66 ):|De voorzitter :', 'title': 'handelingen', 'year': '2017'}, Highlighting(start=158, end=166))\n",
      "307 Passage('garantie komen dat geen enkele huurder er ook maar een cent op achteruitging als er verduurzaamd werd. Waar is de woonlastenborg in dit idee? De heer Albert de Vries ( PvdA ): De Partij van de Arbeid bepleit de mogelijkheid om met een iets kleinere meerderheid een besluit te kunnen nemen. Hetzelfde dilemma', {'': '292', 'RecId': 'h-tk-20162017-43-34', 'chamber': 'TweedeKamer', 'date': '2017-01-24', 'speakers': 'De voorzitter :|De heer Albert de Vries ( PvdA ):|De heer Van der Linde ( VVD ):|De voorzitter :|De heer Albert de Vries ( PvdA ):|De voorzitter :|De heer Albert de Vries ( PvdA ):|De voorzitter :|De heer Van der Linde ( VVD ):|De heer Albert de Vries ( PvdA ):|De voorzitter :|De heer Albert de Vries ( PvdA ):|De heer Van der Linde ( VVD ):|De heer Albert de Vries ( PvdA ):|De heer Van der Linde ( VVD ):|De heer Albert de Vries ( PvdA ):|De heer Ronnes ( CDA ):|De voorzitter :|De heer Ronnes ( CDA ):|De voorzitter :|De heer Bashir ( SP ):|De voorzitter :|De heer Bashir ( SP ):|De heer Van der Linde ( VVD ):|De heer Bashir ( SP ):|De heer Van der Linde ( VVD ):|De heer Bashir ( SP ):|De heer Van der Linde ( VVD ):|De heer Bashir ( SP ):|De voorzitter :|De heer Van der Linde ( VVD ):|De heer Bashir ( SP ):|De heer Van der Linde ( VVD ):|De heer Bashir ( SP ):|De heer Van der Linde ( VVD ):|De heer Bashir ( SP ):|De heer Van der Linde ( VVD ):|De heer Albert de Vries ( PvdA ):|De voorzitter :|De heer Albert de Vries ( PvdA ):|De heer Van der Linde ( VVD ):|De heer Albert de Vries ( PvdA ):|De heer Van der Linde ( VVD ):|De heer De Graaf ( PVV ):|De voorzitter :|De heer Albert de Vries ( PvdA ):|De heer De Graaf ( PVV ):|De heer Albert de Vries ( PvdA ):|De heer De Graaf ( PVV ):|De heer Koolmees ( D66 ):|De voorzitter :|De heer Bisschop ( SGP ):|De voorzitter :|De heer Bisschop ( SGP ):|De voorzitter :|De voorzitter :|Minister Blok :|De heer Albert de Vries ( PvdA ):|Minister Blok :|De voorzitter :|Minister Blok :|De voorzitter :|Minister Blok :|De voorzitter :|De heer Albert de Vries ( PvdA ):|Minister Blok :|De heer Albert de Vries ( PvdA ):|Minister Blok :|De voorzitter :|Minister Blok :|De heer Ronnes ( CDA ):|Minister Blok :|De voorzitter :|De heer Ronnes ( CDA ):|Minister Blok :|De voorzitter :|De heer Ronnes ( CDA ):|De voorzitter :|Minister Blok :|De voorzitter :', 'title': 'handelingen', 'year': '2017'}, Highlighting(start=87, end=95))\n",
      "308 Passage('hierover? Deze wetswijziging is natuurlijk tweeledig; ik zei dat in het begin van mijn bijdrage al. Er zit een duurzaamheidsfactor in. Deze wet gaat niet alleen over het functioneren van de vve, maar ook over afspraken uit het energieakkoord. Met deze wet wordt er ingezet op het verduurzamen van de bebouwde', {'': '292', 'RecId': 'h-tk-20162017-43-34', 'chamber': 'TweedeKamer', 'date': '2017-01-24', 'speakers': 'De voorzitter :|De heer Albert de Vries ( PvdA ):|De heer Van der Linde ( VVD ):|De voorzitter :|De heer Albert de Vries ( PvdA ):|De voorzitter :|De heer Albert de Vries ( PvdA ):|De voorzitter :|De heer Van der Linde ( VVD ):|De heer Albert de Vries ( PvdA ):|De voorzitter :|De heer Albert de Vries ( PvdA ):|De heer Van der Linde ( VVD ):|De heer Albert de Vries ( PvdA ):|De heer Van der Linde ( VVD ):|De heer Albert de Vries ( PvdA ):|De heer Ronnes ( CDA ):|De voorzitter :|De heer Ronnes ( CDA ):|De voorzitter :|De heer Bashir ( SP ):|De voorzitter :|De heer Bashir ( SP ):|De heer Van der Linde ( VVD ):|De heer Bashir ( SP ):|De heer Van der Linde ( VVD ):|De heer Bashir ( SP ):|De heer Van der Linde ( VVD ):|De heer Bashir ( SP ):|De voorzitter :|De heer Van der Linde ( VVD ):|De heer Bashir ( SP ):|De heer Van der Linde ( VVD ):|De heer Bashir ( SP ):|De heer Van der Linde ( VVD ):|De heer Bashir ( SP ):|De heer Van der Linde ( VVD ):|De heer Albert de Vries ( PvdA ):|De voorzitter :|De heer Albert de Vries ( PvdA ):|De heer Van der Linde ( VVD ):|De heer Albert de Vries ( PvdA ):|De heer Van der Linde ( VVD ):|De heer De Graaf ( PVV ):|De voorzitter :|De heer Albert de Vries ( PvdA ):|De heer De Graaf ( PVV ):|De heer Albert de Vries ( PvdA ):|De heer De Graaf ( PVV ):|De heer Koolmees ( D66 ):|De voorzitter :|De heer Bisschop ( SGP ):|De voorzitter :|De heer Bisschop ( SGP ):|De voorzitter :|De voorzitter :|Minister Blok :|De heer Albert de Vries ( PvdA ):|Minister Blok :|De voorzitter :|Minister Blok :|De voorzitter :|Minister Blok :|De voorzitter :|De heer Albert de Vries ( PvdA ):|Minister Blok :|De heer Albert de Vries ( PvdA ):|Minister Blok :|De voorzitter :|Minister Blok :|De heer Ronnes ( CDA ):|Minister Blok :|De voorzitter :|De heer Ronnes ( CDA ):|Minister Blok :|De voorzitter :|De heer Ronnes ( CDA ):|De voorzitter :|Minister Blok :|De voorzitter :', 'title': 'handelingen', 'year': '2017'}, Highlighting(start=111, end=119))\n",
      "305 Passage('prioriteit. Dat moet gebeuren door prikkels vanuit de bewoners zelf. Duurzaam vinden wij hartstikke goed, maar duur niet. Eigen verantwoordelijkheid is het belangrijkste. Wij willen geen dwang op het vlak van duurzaamheid. Bij het Sociaal en Cultureel Planbureau zitten niet altijd onze grootste vrienden.', {'': '292', 'RecId': 'h-tk-20162017-43-34', 'chamber': 'TweedeKamer', 'date': '2017-01-24', 'speakers': 'De voorzitter :|De heer Albert de Vries ( PvdA ):|De heer Van der Linde ( VVD ):|De voorzitter :|De heer Albert de Vries ( PvdA ):|De voorzitter :|De heer Albert de Vries ( PvdA ):|De voorzitter :|De heer Van der Linde ( VVD ):|De heer Albert de Vries ( PvdA ):|De voorzitter :|De heer Albert de Vries ( PvdA ):|De heer Van der Linde ( VVD ):|De heer Albert de Vries ( PvdA ):|De heer Van der Linde ( VVD ):|De heer Albert de Vries ( PvdA ):|De heer Ronnes ( CDA ):|De voorzitter :|De heer Ronnes ( CDA ):|De voorzitter :|De heer Bashir ( SP ):|De voorzitter :|De heer Bashir ( SP ):|De heer Van der Linde ( VVD ):|De heer Bashir ( SP ):|De heer Van der Linde ( VVD ):|De heer Bashir ( SP ):|De heer Van der Linde ( VVD ):|De heer Bashir ( SP ):|De voorzitter :|De heer Van der Linde ( VVD ):|De heer Bashir ( SP ):|De heer Van der Linde ( VVD ):|De heer Bashir ( SP ):|De heer Van der Linde ( VVD ):|De heer Bashir ( SP ):|De heer Van der Linde ( VVD ):|De heer Albert de Vries ( PvdA ):|De voorzitter :|De heer Albert de Vries ( PvdA ):|De heer Van der Linde ( VVD ):|De heer Albert de Vries ( PvdA ):|De heer Van der Linde ( VVD ):|De heer De Graaf ( PVV ):|De voorzitter :|De heer Albert de Vries ( PvdA ):|De heer De Graaf ( PVV ):|De heer Albert de Vries ( PvdA ):|De heer De Graaf ( PVV ):|De heer Koolmees ( D66 ):|De voorzitter :|De heer Bisschop ( SGP ):|De voorzitter :|De heer Bisschop ( SGP ):|De voorzitter :|De voorzitter :|Minister Blok :|De heer Albert de Vries ( PvdA ):|Minister Blok :|De voorzitter :|Minister Blok :|De voorzitter :|Minister Blok :|De voorzitter :|De heer Albert de Vries ( PvdA ):|Minister Blok :|De heer Albert de Vries ( PvdA ):|Minister Blok :|De voorzitter :|Minister Blok :|De heer Ronnes ( CDA ):|Minister Blok :|De voorzitter :|De heer Ronnes ( CDA ):|Minister Blok :|De voorzitter :|De heer Ronnes ( CDA ):|De voorzitter :|Minister Blok :|De voorzitter :', 'title': 'handelingen', 'year': '2017'}, Highlighting(start=69, end=77))\n",
      "305 Passage('prioriteit. Dat moet gebeuren door prikkels vanuit de bewoners zelf. Duurzaam vinden wij hartstikke goed, maar duur niet. Eigen verantwoordelijkheid is het belangrijkste. Wij willen geen dwang op het vlak van duurzaamheid. Bij het Sociaal en Cultureel Planbureau zitten niet altijd onze grootste vrienden.', {'': '292', 'RecId': 'h-tk-20162017-43-34', 'chamber': 'TweedeKamer', 'date': '2017-01-24', 'speakers': 'De voorzitter :|De heer Albert de Vries ( PvdA ):|De heer Van der Linde ( VVD ):|De voorzitter :|De heer Albert de Vries ( PvdA ):|De voorzitter :|De heer Albert de Vries ( PvdA ):|De voorzitter :|De heer Van der Linde ( VVD ):|De heer Albert de Vries ( PvdA ):|De voorzitter :|De heer Albert de Vries ( PvdA ):|De heer Van der Linde ( VVD ):|De heer Albert de Vries ( PvdA ):|De heer Van der Linde ( VVD ):|De heer Albert de Vries ( PvdA ):|De heer Ronnes ( CDA ):|De voorzitter :|De heer Ronnes ( CDA ):|De voorzitter :|De heer Bashir ( SP ):|De voorzitter :|De heer Bashir ( SP ):|De heer Van der Linde ( VVD ):|De heer Bashir ( SP ):|De heer Van der Linde ( VVD ):|De heer Bashir ( SP ):|De heer Van der Linde ( VVD ):|De heer Bashir ( SP ):|De voorzitter :|De heer Van der Linde ( VVD ):|De heer Bashir ( SP ):|De heer Van der Linde ( VVD ):|De heer Bashir ( SP ):|De heer Van der Linde ( VVD ):|De heer Bashir ( SP ):|De heer Van der Linde ( VVD ):|De heer Albert de Vries ( PvdA ):|De voorzitter :|De heer Albert de Vries ( PvdA ):|De heer Van der Linde ( VVD ):|De heer Albert de Vries ( PvdA ):|De heer Van der Linde ( VVD ):|De heer De Graaf ( PVV ):|De voorzitter :|De heer Albert de Vries ( PvdA ):|De heer De Graaf ( PVV ):|De heer Albert de Vries ( PvdA ):|De heer De Graaf ( PVV ):|De heer Koolmees ( D66 ):|De voorzitter :|De heer Bisschop ( SGP ):|De voorzitter :|De heer Bisschop ( SGP ):|De voorzitter :|De voorzitter :|Minister Blok :|De heer Albert de Vries ( PvdA ):|Minister Blok :|De voorzitter :|Minister Blok :|De voorzitter :|Minister Blok :|De voorzitter :|De heer Albert de Vries ( PvdA ):|Minister Blok :|De heer Albert de Vries ( PvdA ):|Minister Blok :|De voorzitter :|Minister Blok :|De heer Ronnes ( CDA ):|Minister Blok :|De voorzitter :|De heer Ronnes ( CDA ):|Minister Blok :|De voorzitter :|De heer Ronnes ( CDA ):|De voorzitter :|Minister Blok :|De voorzitter :', 'title': 'handelingen', 'year': '2017'}, Highlighting(start=209, end=217))\n",
      "303 Passage('zich slecht verhouden tot WTO-regels. Wij zien dit dus echt als niet zo kansrijk, waarmee wij geen diskwalificatie van keurmerken als zodanig geven. Maar goed, dat weet de heer Voordewind. De heer Voordewind ( ChristenUnie ): De minister noemt de WTO-regels. We doen dit ook met keurmerken voor duurzaam', {'': '302', 'RecId': 'h-tk-20162017-44-10', 'chamber': 'TweedeKamer', 'date': '2017-01-25', 'speakers': 'De voorzitter :|De heer Van Laar ( PvdA ):|Minister Ploumen :|De heer Van Laar ( PvdA ):|De heer Dijkgraaf ( SGP ):|De heer Van Laar ( PvdA ):|De heer Dijkgraaf ( SGP ):|De heer Van Laar ( PvdA ):|De heer Voordewind ( ChristenUnie ):|De heer Van Laar ( PvdA ):|De heer Voordewind ( ChristenUnie ):|De heer Van Laar ( PvdA ):|De heer Dijkgraaf ( SGP ):|De heer Van Laar ( PvdA ):|De voorzitter :|Minister Ploumen :|De heer Voordewind ( ChristenUnie ):|Minister Ploumen :|De heer Voordewind ( ChristenUnie ):|Minister Ploumen :|De heer Voordewind ( ChristenUnie ):|Minister Ploumen :|De heer Amhaouch ( CDA ):|De voorzitter :|Minister Ploumen :|De heer Amhaouch ( CDA ):|Minister Ploumen :|De heer Voordewind ( ChristenUnie ):|Minister Ploumen :|De voorzitter :|De heer Geselschap ( VVD ):|De heer Servaes ( PvdA ):|De heer Geselschap ( VVD ):|De heer Servaes ( PvdA ):|De heer Geselschap ( VVD ):|De heer Servaes ( PvdA ):|De heer Geselschap ( VVD ):|De voorzitter :|De heer Voordewind ( ChristenUnie ):|De voorzitter :|De heer Voordewind ( ChristenUnie ):|De voorzitter :|De heer Voordewind ( ChristenUnie ):|De heer Amhaouch ( CDA ):|De heer Servaes ( PvdA ):|De heer Amhaouch ( CDA ):|De heer Servaes ( PvdA ):|De heer Amhaouch ( CDA ):|De heer Servaes ( PvdA ):|De heer Amhaouch ( CDA ):|De heer Servaes ( PvdA ):|De heer Amhaouch ( CDA ):|De heer Servaes ( PvdA ):|De heer Amhaouch ( CDA ):|De heer Voordewind ( ChristenUnie ):|De heer Amhaouch ( CDA ):|De heer Voordewind ( ChristenUnie ):|De heer Amhaouch ( CDA ):|De voorzitter :|De heer Voordewind ( ChristenUnie ):|De heer Amhaouch ( CDA ):|De heer Geselschap ( VVD ):|De heer Amhaouch ( CDA ):|De voorzitter :|De heer Amhaouch ( CDA ):|De voorzitter :|De heer Dijkgraaf ( SGP ):|De voorzitter :|De heer Servaes ( PvdA ):|De voorzitter :|De heer Geselschap ( VVD ):|De heer Servaes ( PvdA ):|De heer Geselschap ( VVD ):|De heer Servaes ( PvdA ):|De voorzitter :|De heer Van Laar ( PvdA ):|De heer Amhaouch ( CDA ):|De heer Van Laar ( PvdA ):|De heer Geselschap ( VVD ):|De voorzitter :|De heer Geselschap ( VVD ):|De heer Van Laar ( PvdA ):|De heer Geselschap ( VVD ):|De heer Van Laar ( PvdA ):|De heer Geselschap ( VVD ):|De heer Van Laar ( PvdA ):|De voorzitter :|De heer Van Laar ( PvdA ):|De heer Dijkgraaf ( SGP ):|De heer Van Laar ( PvdA ):|De voorzitter :|De heer Dijkgraaf ( SGP ):|De heer Van Laar ( PvdA ):|Minister Ploumen :|De heer Amhaouch ( CDA ):|Minister Ploumen :|De heer Servaes ( PvdA ):|Minister Ploumen :|De heer Servaes ( PvdA ):|De heer Amhaouch ( CDA ):|Minister Ploumen :|De heer Geselschap ( VVD ):|Minister Ploumen :|De heer Geselschap ( VVD ):|Minister Ploumen :|De voorzitter :|Minister Ploumen :|De voorzitter :|Minister Ploumen :|De voorzitter :|Minister Ploumen :|De voorzitter :|Minister Ploumen :|De voorzitter :|Minister Ploumen :|De voorzitter :|Minister Ploumen :|De voorzitter :|Minister Ploumen :|De heer Dijkgraaf ( SGP ):|Minister Ploumen :|De heer Servaes ( PvdA ):|Minister Ploumen :|De heer Servaes ( PvdA ):|Minister Ploumen :|De voorzitter :', 'title': 'handelingen', 'year': '2017'}, Highlighting(start=295, end=303))\n",
      "300 Passage('duurzaam hout. Ook blood diamonds laten we niet meer toe. De minister heeft er gelijk in dat je het vooral op Europees niveau moet doen. Zij zou zich daarvoor dus moeten inzetten in Europees verband. En het gaat natuurlijk niet om alle producten, want niet alle producten hoeven keurmerken te hebben.', {'': '302', 'RecId': 'h-tk-20162017-44-10', 'chamber': 'TweedeKamer', 'date': '2017-01-25', 'speakers': 'De voorzitter :|De heer Van Laar ( PvdA ):|Minister Ploumen :|De heer Van Laar ( PvdA ):|De heer Dijkgraaf ( SGP ):|De heer Van Laar ( PvdA ):|De heer Dijkgraaf ( SGP ):|De heer Van Laar ( PvdA ):|De heer Voordewind ( ChristenUnie ):|De heer Van Laar ( PvdA ):|De heer Voordewind ( ChristenUnie ):|De heer Van Laar ( PvdA ):|De heer Dijkgraaf ( SGP ):|De heer Van Laar ( PvdA ):|De voorzitter :|Minister Ploumen :|De heer Voordewind ( ChristenUnie ):|Minister Ploumen :|De heer Voordewind ( ChristenUnie ):|Minister Ploumen :|De heer Voordewind ( ChristenUnie ):|Minister Ploumen :|De heer Amhaouch ( CDA ):|De voorzitter :|Minister Ploumen :|De heer Amhaouch ( CDA ):|Minister Ploumen :|De heer Voordewind ( ChristenUnie ):|Minister Ploumen :|De voorzitter :|De heer Geselschap ( VVD ):|De heer Servaes ( PvdA ):|De heer Geselschap ( VVD ):|De heer Servaes ( PvdA ):|De heer Geselschap ( VVD ):|De heer Servaes ( PvdA ):|De heer Geselschap ( VVD ):|De voorzitter :|De heer Voordewind ( ChristenUnie ):|De voorzitter :|De heer Voordewind ( ChristenUnie ):|De voorzitter :|De heer Voordewind ( ChristenUnie ):|De heer Amhaouch ( CDA ):|De heer Servaes ( PvdA ):|De heer Amhaouch ( CDA ):|De heer Servaes ( PvdA ):|De heer Amhaouch ( CDA ):|De heer Servaes ( PvdA ):|De heer Amhaouch ( CDA ):|De heer Servaes ( PvdA ):|De heer Amhaouch ( CDA ):|De heer Servaes ( PvdA ):|De heer Amhaouch ( CDA ):|De heer Voordewind ( ChristenUnie ):|De heer Amhaouch ( CDA ):|De heer Voordewind ( ChristenUnie ):|De heer Amhaouch ( CDA ):|De voorzitter :|De heer Voordewind ( ChristenUnie ):|De heer Amhaouch ( CDA ):|De heer Geselschap ( VVD ):|De heer Amhaouch ( CDA ):|De voorzitter :|De heer Amhaouch ( CDA ):|De voorzitter :|De heer Dijkgraaf ( SGP ):|De voorzitter :|De heer Servaes ( PvdA ):|De voorzitter :|De heer Geselschap ( VVD ):|De heer Servaes ( PvdA ):|De heer Geselschap ( VVD ):|De heer Servaes ( PvdA ):|De voorzitter :|De heer Van Laar ( PvdA ):|De heer Amhaouch ( CDA ):|De heer Van Laar ( PvdA ):|De heer Geselschap ( VVD ):|De voorzitter :|De heer Geselschap ( VVD ):|De heer Van Laar ( PvdA ):|De heer Geselschap ( VVD ):|De heer Van Laar ( PvdA ):|De heer Geselschap ( VVD ):|De heer Van Laar ( PvdA ):|De voorzitter :|De heer Van Laar ( PvdA ):|De heer Dijkgraaf ( SGP ):|De heer Van Laar ( PvdA ):|De voorzitter :|De heer Dijkgraaf ( SGP ):|De heer Van Laar ( PvdA ):|Minister Ploumen :|De heer Amhaouch ( CDA ):|Minister Ploumen :|De heer Servaes ( PvdA ):|Minister Ploumen :|De heer Servaes ( PvdA ):|De heer Amhaouch ( CDA ):|Minister Ploumen :|De heer Geselschap ( VVD ):|Minister Ploumen :|De heer Geselschap ( VVD ):|Minister Ploumen :|De voorzitter :|Minister Ploumen :|De voorzitter :|Minister Ploumen :|De voorzitter :|Minister Ploumen :|De voorzitter :|Minister Ploumen :|De voorzitter :|Minister Ploumen :|De voorzitter :|Minister Ploumen :|De voorzitter :|Minister Ploumen :|De heer Dijkgraaf ( SGP ):|Minister Ploumen :|De heer Servaes ( PvdA ):|Minister Ploumen :|De heer Servaes ( PvdA ):|Minister Ploumen :|De voorzitter :', 'title': 'handelingen', 'year': '2017'}, Highlighting(start=0, end=8))\n",
      "310 Passage('laten ingaan van het AOW-pensioen leidt tot het doen van een groter beroep op de Participatiewet. In de memorie van toelichting is ook aangegeven dat er sprake moet zijn van een structureel, duurzaam minimumnetto-inkomen. Dit betekent dat men na het bereiken van de AOW-leeftijd over een bepaald minimuminkomen', {'': '307', 'RecId': 'h-tk-20162017-44-4', 'chamber': 'TweedeKamer', 'date': '2017-01-25', 'speakers': 'De voorzitter :|De heer Klein ( Klein ):|De voorzitter :|De heer Van Weyenberg ( D66 ):|De heer Klein ( Klein ):|De heer Van Weyenberg ( D66 ):|De heer De Graaf ( PVV ):|De heer Klein ( Klein ):|De heer De Graaf ( PVV ):|De heer Klein ( Klein ):|De voorzitter :|De heer Kerstens ( PvdA ):|De heer Klein ( Klein ):|De heer Kerstens ( PvdA ):|De heer Klein ( Klein ):|De heer Ulenbelt ( SP ):|De heer Klein ( Klein ):|Mevrouw Schut-Welkzijn ( VVD ):|De heer Klein ( Klein ):|Mevrouw Schut-Welkzijn ( VVD ):|De heer Klein ( Klein ):|Mevrouw Schut-Welkzijn ( VVD ):|De voorzitter :|Mevrouw Schut-Welkzijn ( VVD ):|De heer Klein ( Klein ):|De voorzitter :|De heer Van Weyenberg ( D66 ):|De heer Klein ( Klein ):|De heer Van Weyenberg ( D66 ):|De heer Klein ( Klein ):|De voorzitter :|De heer Pieter Heerma ( CDA ):|De heer Klein ( Klein ):|De heer Pieter Heerma ( CDA ):|De heer Klein ( Klein ):|De voorzitter :|De heer Klein ( Klein ):|De voorzitter :|De heer Kerstens ( PvdA ):|De heer Klein ( Klein ):|De heer Kerstens ( PvdA ):|De heer Klein ( Klein ):|De heer Kerstens ( PvdA ):|De heer Klein ( Klein ):|De voorzitter :|De heer Klein ( Klein ):|De voorzitter :|De heer Van Weyenberg ( D66 ):|De heer Klein ( Klein ):|De heer Van Weyenberg ( D66 ):|De heer Klein ( Klein ):|De voorzitter :|Staatssecretaris Klijnsma :|De voorzitter :|De heer Van Weyenberg ( D66 ):|Staatssecretaris Klijnsma :|De heer Van Weyenberg ( D66 ):|Staatssecretaris Klijnsma :|De heer Van Weyenberg ( D66 ):|Staatssecretaris Klijnsma :|Mevrouw Schut-Welkzijn ( VVD ):|Staatssecretaris Klijnsma :|De voorzitter :|De heer Ulenbelt ( SP ):|De heer Kerstens ( PvdA ):|De voorzitter :|De heer Van Weyenberg ( D66 ):|De heer Kerstens ( PvdA ):|De heer Van Weyenberg ( D66 ):|De heer Ulenbelt ( SP ):|De heer Kerstens ( PvdA ):|De heer Ulenbelt ( SP ):|De heer Kerstens ( PvdA ):|De voorzitter :|De heer Van Weyenberg ( D66 ):|De heer Kerstens ( PvdA ):|De heer Van Weyenberg ( D66 ):|De heer De Graaf ( PVV ):|De heer Pieter Heerma ( CDA ):|Mevrouw Schut-Welkzijn ( VVD ):|De voorzitter :|De voorzitter :|De heer Klein ( Klein ):|De heer Van Weyenberg ( D66 ):|De heer Klein ( Klein ):|De voorzitter :|De heer Van Weyenberg ( D66 ):|Mevrouw Schut-Welkzijn ( VVD ):|De heer Klein ( Klein ):|De voorzitter :|Staatssecretaris Klijnsma :|De voorzitter :|De heer Ulenbelt ( SP ):|De heer Kerstens ( PvdA ):|Staatssecretaris Klijnsma :|De voorzitter :|De voorzitter :|De heer Van Weyenberg ( D66 ):|De voorzitter :', 'title': 'handelingen', 'year': '2017'}, Highlighting(start=191, end=199))\n",
      "302 Passage('inderdaad debat gevoerd over de vraag welke waarborgen dan nodig zijn om een blijvend en duurzaam inkomen te kunnen hebben. Dat zal bij AMvB geregeld moeten worden. Dat zal het kabinet moeten doen. Kortom, daar zijn dan nog wel even wat ins en outs voor nodig, stel ik mij zo voor. Ook zegt de Raad van', {'': '307', 'RecId': 'h-tk-20162017-44-4', 'chamber': 'TweedeKamer', 'date': '2017-01-25', 'speakers': 'De voorzitter :|De heer Klein ( Klein ):|De voorzitter :|De heer Van Weyenberg ( D66 ):|De heer Klein ( Klein ):|De heer Van Weyenberg ( D66 ):|De heer De Graaf ( PVV ):|De heer Klein ( Klein ):|De heer De Graaf ( PVV ):|De heer Klein ( Klein ):|De voorzitter :|De heer Kerstens ( PvdA ):|De heer Klein ( Klein ):|De heer Kerstens ( PvdA ):|De heer Klein ( Klein ):|De heer Ulenbelt ( SP ):|De heer Klein ( Klein ):|Mevrouw Schut-Welkzijn ( VVD ):|De heer Klein ( Klein ):|Mevrouw Schut-Welkzijn ( VVD ):|De heer Klein ( Klein ):|Mevrouw Schut-Welkzijn ( VVD ):|De voorzitter :|Mevrouw Schut-Welkzijn ( VVD ):|De heer Klein ( Klein ):|De voorzitter :|De heer Van Weyenberg ( D66 ):|De heer Klein ( Klein ):|De heer Van Weyenberg ( D66 ):|De heer Klein ( Klein ):|De voorzitter :|De heer Pieter Heerma ( CDA ):|De heer Klein ( Klein ):|De heer Pieter Heerma ( CDA ):|De heer Klein ( Klein ):|De voorzitter :|De heer Klein ( Klein ):|De voorzitter :|De heer Kerstens ( PvdA ):|De heer Klein ( Klein ):|De heer Kerstens ( PvdA ):|De heer Klein ( Klein ):|De heer Kerstens ( PvdA ):|De heer Klein ( Klein ):|De voorzitter :|De heer Klein ( Klein ):|De voorzitter :|De heer Van Weyenberg ( D66 ):|De heer Klein ( Klein ):|De heer Van Weyenberg ( D66 ):|De heer Klein ( Klein ):|De voorzitter :|Staatssecretaris Klijnsma :|De voorzitter :|De heer Van Weyenberg ( D66 ):|Staatssecretaris Klijnsma :|De heer Van Weyenberg ( D66 ):|Staatssecretaris Klijnsma :|De heer Van Weyenberg ( D66 ):|Staatssecretaris Klijnsma :|Mevrouw Schut-Welkzijn ( VVD ):|Staatssecretaris Klijnsma :|De voorzitter :|De heer Ulenbelt ( SP ):|De heer Kerstens ( PvdA ):|De voorzitter :|De heer Van Weyenberg ( D66 ):|De heer Kerstens ( PvdA ):|De heer Van Weyenberg ( D66 ):|De heer Ulenbelt ( SP ):|De heer Kerstens ( PvdA ):|De heer Ulenbelt ( SP ):|De heer Kerstens ( PvdA ):|De voorzitter :|De heer Van Weyenberg ( D66 ):|De heer Kerstens ( PvdA ):|De heer Van Weyenberg ( D66 ):|De heer De Graaf ( PVV ):|De heer Pieter Heerma ( CDA ):|Mevrouw Schut-Welkzijn ( VVD ):|De voorzitter :|De voorzitter :|De heer Klein ( Klein ):|De heer Van Weyenberg ( D66 ):|De heer Klein ( Klein ):|De voorzitter :|De heer Van Weyenberg ( D66 ):|Mevrouw Schut-Welkzijn ( VVD ):|De heer Klein ( Klein ):|De voorzitter :|Staatssecretaris Klijnsma :|De voorzitter :|De heer Ulenbelt ( SP ):|De heer Kerstens ( PvdA ):|Staatssecretaris Klijnsma :|De voorzitter :|De voorzitter :|De heer Van Weyenberg ( D66 ):|De voorzitter :', 'title': 'handelingen', 'year': '2017'}, Highlighting(start=89, end=97))\n",
      "303 Passage('aantal duurzaamheidslijstjes bungelt, heeft het klimaatverdrag inmiddels ondertekend. Ik ga weer even terug naar de brief van Rutte: \"Er ligt slechts één vraag voor: wat voor land willen we zijn?\" Wat mij betreft is dat een terechte vraag. Zijn we een land dat het verdrag nu ook snel ratificeert, zodat', {'': '312', 'RecId': 'h-tk-20162017-44-9', 'chamber': 'TweedeKamer', 'date': '2017-01-25', 'speakers': 'De voorzitter :|Mevrouw Van Tongeren ( GroenLinks ):|De heer Smaling ( SP ):|De heer Jan Vos ( PvdA ):|De heer Smaling ( SP ):|Mevrouw Dik-Faber ( ChristenUnie ):|Mevrouw Ouwehand ( PvdD ):|Mevrouw Dik-Faber ( ChristenUnie ):|Mevrouw Ouwehand ( PvdD ):|Mevrouw Dik-Faber ( ChristenUnie ):|De voorzitter :|Mevrouw Ouwehand ( PvdD ):|Mevrouw Dik-Faber ( ChristenUnie ):|De heer Jan Vos ( PvdA ):|Mevrouw Dik-Faber ( ChristenUnie ):|De heer Jan Vos ( PvdA ):|Mevrouw Dik-Faber ( ChristenUnie ):|De heer Jan Vos ( PvdA ):|Mevrouw Dik-Faber ( ChristenUnie ):|Mevrouw Ouwehand ( PvdD ):|De heer Remco Dijkstra ( VVD ):|De heer Madlener ( PVV ):|De heer Remco Dijkstra ( VVD ):|De heer Madlener ( PVV ):|De heer Remco Dijkstra ( VVD ):|Mevrouw Van Tongeren ( GroenLinks ):|De heer Remco Dijkstra ( VVD ):|Mevrouw Van Tongeren ( GroenLinks ):|De heer Remco Dijkstra ( VVD ):|De voorzitter :|De heer Remco Dijkstra ( VVD ):|De heer Remco Dijkstra ( VVD ):|De heer Jan Vos ( PvdA ):|De heer Remco Dijkstra ( VVD ):|De heer Jan Vos ( PvdA ):|De heer Remco Dijkstra ( VVD ):|Mevrouw Agnes Mulder ( CDA ):|De heer Remco Dijkstra ( VVD ):|Mevrouw Agnes Mulder ( CDA ):|De heer Remco Dijkstra ( VVD ):|De heer Smaling ( SP ):|De heer Remco Dijkstra ( VVD ):|De heer Smaling ( SP ):|De heer Remco Dijkstra ( VVD ):|De heer Jan Vos ( PvdA ):|De heer Remco Dijkstra ( VVD ):|De heer Jan Vos ( PvdA ):|De heer Remco Dijkstra ( VVD ):|Mevrouw Van Tongeren ( GroenLinks ):|De heer Remco Dijkstra ( VVD ):|Mevrouw Van Tongeren ( GroenLinks ):|De heer Remco Dijkstra ( VVD ):|Mevrouw Van Tongeren ( GroenLinks ):|De heer Remco Dijkstra ( VVD ):|De heer Smaling ( SP ):|De heer Remco Dijkstra ( VVD ):|De heer Smaling ( SP ):|De heer Remco Dijkstra ( VVD ):|De heer Madlener ( PVV ):|De heer Remco Dijkstra ( VVD ):|De heer Madlener ( PVV ):|De heer Remco Dijkstra ( VVD ):|De voorzitter :|Mevrouw Dik-Faber ( ChristenUnie ):|De heer Remco Dijkstra ( VVD ):|Mevrouw Dik-Faber ( ChristenUnie ):|De heer Remco Dijkstra ( VVD ):|De voorzitter :|De heer Remco Dijkstra ( VVD ):|Mevrouw Dik-Faber ( ChristenUnie ):|De heer Remco Dijkstra ( VVD ):|Mevrouw Dik-Faber ( ChristenUnie ):|De heer Remco Dijkstra ( VVD ):|De voorzitter :|Mevrouw Van Tongeren ( GroenLinks ):|De heer Remco Dijkstra ( VVD ):|Mevrouw Van Tongeren ( GroenLinks ):|De heer Remco Dijkstra ( VVD ):|De voorzitter :|De heer Jan Vos ( PvdA ):|De heer Remco Dijkstra ( VVD ):|De heer Jan Vos ( PvdA ):|De heer Remco Dijkstra ( VVD ):|De voorzitter :|De heer Remco Dijkstra ( VVD ):|Mevrouw Ouwehand ( PvdD ):|De heer Remco Dijkstra ( VVD ):|Mevrouw Ouwehand ( PvdD ):|De heer Remco Dijkstra ( VVD ):|De voorzitter :|De heer Madlener ( PVV ):|De voorzitter :|De heer Jan Vos ( PvdA ):|De heer Madlener ( PVV ):|De heer Jan Vos ( PvdA ):|De heer Madlener ( PVV ):|De voorzitter :|De heer Madlener ( PVV ):|De voorzitter :|De heer Jan Vos ( PvdA ):|De heer Madlener ( PVV ):|De heer Jan Vos ( PvdA ):|De heer Madlener ( PVV ):|De voorzitter :|De heer Madlener ( PVV ):|De voorzitter :|De heer Madlener ( PVV ):|De voorzitter :|De heer Madlener ( PVV ):|De voorzitter :|De heer Madlener ( PVV ):|De heer Smaling ( SP ):|De heer Madlener ( PVV ):|De voorzitter :|De heer Madlener ( PVV ):|De voorzitter :|De heer Smaling ( SP ):|De voorzitter :|Mevrouw Agnes Mulder ( CDA ):|De heer Jan Vos ( PvdA ):|De voorzitter :|Staatssecretaris Dijksma :|Mevrouw Van Tongeren ( GroenLinks ):|Staatssecretaris Dijksma :|Mevrouw Van Tongeren ( GroenLinks ):|Staatssecretaris Dijksma :|De heer Madlener ( PVV ):|Staatssecretaris Dijksma :|De heer Madlener ( PVV ):|Staatssecretaris Dijksma :|Staatssecretaris Dijksma :|De voorzitter :|De heer Jan Vos ( PvdA ):|De voorzitter :|De heer Jan Vos ( PvdA ):|Staatssecretaris Dijksma :|De heer Jan Vos ( PvdA ):|Staatssecretaris Dijksma :|Mevrouw Dik-Faber ( ChristenUnie ):|Staatssecretaris Dijksma :|Mevrouw Dik-Faber ( ChristenUnie ):|Staatssecretaris Dijksma :|Mevrouw Ouwehand ( PvdD ):|Staatssecretaris Dijksma :|Mevrouw Ouwehand ( PvdD ):|Staatssecretaris Dijksma :|De voorzitter :|De heer Madlener ( PVV ):|Staatssecretaris Dijksma :|De heer Madlener ( PVV ):|De voorzitter :|Staatssecretaris Dijksma :|De voorzitter :|Staatssecretaris Dijksma :|De heer Jan Vos ( PvdA ):|Staatssecretaris Dijksma :|De heer Jan Vos ( PvdA ):|Staatssecretaris Dijksma :|De voorzitter :|Mevrouw Van Tongeren ( GroenLinks ):|De voorzitter :|De heer Smaling ( SP ):|De voorzitter :|Mevrouw Ouwehand ( PvdD ):|De voorzitter :|De heer Remco Dijkstra ( VVD ):|De voorzitter :|De heer Remco Dijkstra ( VVD ):|De voorzitter :|De heer Remco Dijkstra ( VVD ):|De voorzitter :|Mevrouw Dik-Faber ( ChristenUnie ):|De heer Remco Dijkstra ( VVD ):|De heer Madlener ( PVV ):|Mevrouw Agnes Mulder ( CDA ):|De voorzitter :|De heer Jan Vos ( PvdA ):|De voorzitter :|De voorzitter :|Staatssecretaris Dijksma :|Mevrouw Agnes Mulder ( CDA ):|Staatssecretaris Dijksma :|De voorzitter :|Mevrouw Ouwehand ( PvdD ):|Staatssecretaris Dijksma :|Mevrouw Ouwehand ( PvdD ):|Staatssecretaris Dijksma :|De heer Remco Dijkstra ( VVD ):|Staatssecretaris Dijksma :|De heer Remco Dijkstra ( VVD ):|Staatssecretaris Dijksma :|De voorzitter :|Staatssecretaris Dijksma :|De heer Remco Dijkstra ( VVD ):|Staatssecretaris Dijksma :|De heer Remco Dijkstra ( VVD ):|Staatssecretaris Dijksma :|De voorzitter :|Staatssecretaris Dijksma :|De voorzitter :', 'title': 'handelingen', 'year': '2017'}, Highlighting(start=7, end=15))\n",
      "304 Passage('ervan overtuigd dat, indien we de opwarming van de aarde willen beperken tot maximaal 2°C en oprecht streven naar 1,5 °C, er echt nog veel meer moet gebeuren. De ChristenUnie wil daadkrachtig werk maken van een energietransitie naar volledig duurzaam binnen één generatie. Wij willen dat er een wettelijk', {'': '312', 'RecId': 'h-tk-20162017-44-9', 'chamber': 'TweedeKamer', 'date': '2017-01-25', 'speakers': 'De voorzitter :|Mevrouw Van Tongeren ( GroenLinks ):|De heer Smaling ( SP ):|De heer Jan Vos ( PvdA ):|De heer Smaling ( SP ):|Mevrouw Dik-Faber ( ChristenUnie ):|Mevrouw Ouwehand ( PvdD ):|Mevrouw Dik-Faber ( ChristenUnie ):|Mevrouw Ouwehand ( PvdD ):|Mevrouw Dik-Faber ( ChristenUnie ):|De voorzitter :|Mevrouw Ouwehand ( PvdD ):|Mevrouw Dik-Faber ( ChristenUnie ):|De heer Jan Vos ( PvdA ):|Mevrouw Dik-Faber ( ChristenUnie ):|De heer Jan Vos ( PvdA ):|Mevrouw Dik-Faber ( ChristenUnie ):|De heer Jan Vos ( PvdA ):|Mevrouw Dik-Faber ( ChristenUnie ):|Mevrouw Ouwehand ( PvdD ):|De heer Remco Dijkstra ( VVD ):|De heer Madlener ( PVV ):|De heer Remco Dijkstra ( VVD ):|De heer Madlener ( PVV ):|De heer Remco Dijkstra ( VVD ):|Mevrouw Van Tongeren ( GroenLinks ):|De heer Remco Dijkstra ( VVD ):|Mevrouw Van Tongeren ( GroenLinks ):|De heer Remco Dijkstra ( VVD ):|De voorzitter :|De heer Remco Dijkstra ( VVD ):|De heer Remco Dijkstra ( VVD ):|De heer Jan Vos ( PvdA ):|De heer Remco Dijkstra ( VVD ):|De heer Jan Vos ( PvdA ):|De heer Remco Dijkstra ( VVD ):|Mevrouw Agnes Mulder ( CDA ):|De heer Remco Dijkstra ( VVD ):|Mevrouw Agnes Mulder ( CDA ):|De heer Remco Dijkstra ( VVD ):|De heer Smaling ( SP ):|De heer Remco Dijkstra ( VVD ):|De heer Smaling ( SP ):|De heer Remco Dijkstra ( VVD ):|De heer Jan Vos ( PvdA ):|De heer Remco Dijkstra ( VVD ):|De heer Jan Vos ( PvdA ):|De heer Remco Dijkstra ( VVD ):|Mevrouw Van Tongeren ( GroenLinks ):|De heer Remco Dijkstra ( VVD ):|Mevrouw Van Tongeren ( GroenLinks ):|De heer Remco Dijkstra ( VVD ):|Mevrouw Van Tongeren ( GroenLinks ):|De heer Remco Dijkstra ( VVD ):|De heer Smaling ( SP ):|De heer Remco Dijkstra ( VVD ):|De heer Smaling ( SP ):|De heer Remco Dijkstra ( VVD ):|De heer Madlener ( PVV ):|De heer Remco Dijkstra ( VVD ):|De heer Madlener ( PVV ):|De heer Remco Dijkstra ( VVD ):|De voorzitter :|Mevrouw Dik-Faber ( ChristenUnie ):|De heer Remco Dijkstra ( VVD ):|Mevrouw Dik-Faber ( ChristenUnie ):|De heer Remco Dijkstra ( VVD ):|De voorzitter :|De heer Remco Dijkstra ( VVD ):|Mevrouw Dik-Faber ( ChristenUnie ):|De heer Remco Dijkstra ( VVD ):|Mevrouw Dik-Faber ( ChristenUnie ):|De heer Remco Dijkstra ( VVD ):|De voorzitter :|Mevrouw Van Tongeren ( GroenLinks ):|De heer Remco Dijkstra ( VVD ):|Mevrouw Van Tongeren ( GroenLinks ):|De heer Remco Dijkstra ( VVD ):|De voorzitter :|De heer Jan Vos ( PvdA ):|De heer Remco Dijkstra ( VVD ):|De heer Jan Vos ( PvdA ):|De heer Remco Dijkstra ( VVD ):|De voorzitter :|De heer Remco Dijkstra ( VVD ):|Mevrouw Ouwehand ( PvdD ):|De heer Remco Dijkstra ( VVD ):|Mevrouw Ouwehand ( PvdD ):|De heer Remco Dijkstra ( VVD ):|De voorzitter :|De heer Madlener ( PVV ):|De voorzitter :|De heer Jan Vos ( PvdA ):|De heer Madlener ( PVV ):|De heer Jan Vos ( PvdA ):|De heer Madlener ( PVV ):|De voorzitter :|De heer Madlener ( PVV ):|De voorzitter :|De heer Jan Vos ( PvdA ):|De heer Madlener ( PVV ):|De heer Jan Vos ( PvdA ):|De heer Madlener ( PVV ):|De voorzitter :|De heer Madlener ( PVV ):|De voorzitter :|De heer Madlener ( PVV ):|De voorzitter :|De heer Madlener ( PVV ):|De voorzitter :|De heer Madlener ( PVV ):|De heer Smaling ( SP ):|De heer Madlener ( PVV ):|De voorzitter :|De heer Madlener ( PVV ):|De voorzitter :|De heer Smaling ( SP ):|De voorzitter :|Mevrouw Agnes Mulder ( CDA ):|De heer Jan Vos ( PvdA ):|De voorzitter :|Staatssecretaris Dijksma :|Mevrouw Van Tongeren ( GroenLinks ):|Staatssecretaris Dijksma :|Mevrouw Van Tongeren ( GroenLinks ):|Staatssecretaris Dijksma :|De heer Madlener ( PVV ):|Staatssecretaris Dijksma :|De heer Madlener ( PVV ):|Staatssecretaris Dijksma :|Staatssecretaris Dijksma :|De voorzitter :|De heer Jan Vos ( PvdA ):|De voorzitter :|De heer Jan Vos ( PvdA ):|Staatssecretaris Dijksma :|De heer Jan Vos ( PvdA ):|Staatssecretaris Dijksma :|Mevrouw Dik-Faber ( ChristenUnie ):|Staatssecretaris Dijksma :|Mevrouw Dik-Faber ( ChristenUnie ):|Staatssecretaris Dijksma :|Mevrouw Ouwehand ( PvdD ):|Staatssecretaris Dijksma :|Mevrouw Ouwehand ( PvdD ):|Staatssecretaris Dijksma :|De voorzitter :|De heer Madlener ( PVV ):|Staatssecretaris Dijksma :|De heer Madlener ( PVV ):|De voorzitter :|Staatssecretaris Dijksma :|De voorzitter :|Staatssecretaris Dijksma :|De heer Jan Vos ( PvdA ):|Staatssecretaris Dijksma :|De heer Jan Vos ( PvdA ):|Staatssecretaris Dijksma :|De voorzitter :|Mevrouw Van Tongeren ( GroenLinks ):|De voorzitter :|De heer Smaling ( SP ):|De voorzitter :|Mevrouw Ouwehand ( PvdD ):|De voorzitter :|De heer Remco Dijkstra ( VVD ):|De voorzitter :|De heer Remco Dijkstra ( VVD ):|De voorzitter :|De heer Remco Dijkstra ( VVD ):|De voorzitter :|Mevrouw Dik-Faber ( ChristenUnie ):|De heer Remco Dijkstra ( VVD ):|De heer Madlener ( PVV ):|Mevrouw Agnes Mulder ( CDA ):|De voorzitter :|De heer Jan Vos ( PvdA ):|De voorzitter :|De voorzitter :|Staatssecretaris Dijksma :|Mevrouw Agnes Mulder ( CDA ):|Staatssecretaris Dijksma :|De voorzitter :|Mevrouw Ouwehand ( PvdD ):|Staatssecretaris Dijksma :|Mevrouw Ouwehand ( PvdD ):|Staatssecretaris Dijksma :|De heer Remco Dijkstra ( VVD ):|Staatssecretaris Dijksma :|De heer Remco Dijkstra ( VVD ):|Staatssecretaris Dijksma :|De voorzitter :|Staatssecretaris Dijksma :|De heer Remco Dijkstra ( VVD ):|Staatssecretaris Dijksma :|De heer Remco Dijkstra ( VVD ):|Staatssecretaris Dijksma :|De voorzitter :|Staatssecretaris Dijksma :|De voorzitter :', 'title': 'handelingen', 'year': '2017'}, Highlighting(start=242, end=250))\n"
     ]
    }
   ],
   "source": [
    "for p in sg_corpus.passages[:20]:\n",
    "    print(len(p), p)"
   ]
  },
  {
   "cell_type": "markdown",
   "metadata": {},
   "source": [
    "### Merge"
   ]
  },
  {
   "cell_type": "code",
   "execution_count": 36,
   "metadata": {},
   "outputs": [
    {
     "data": {
      "text/plain": [
       "54"
      ]
     },
     "execution_count": 36,
     "metadata": {},
     "output_type": "execute_result"
    }
   ],
   "source": [
    "corpus = anp_corpus # + sg_corpus\n",
    "len(corpus)"
   ]
  },
  {
   "cell_type": "markdown",
   "metadata": {},
   "source": [
    "## Load Model"
   ]
  },
  {
   "cell_type": "code",
   "execution_count": 37,
   "metadata": {},
   "outputs": [
    {
     "data": {
      "text/plain": [
       "<tempo_embeddings.embeddings.model.SentenceTransformerModelWrapper at 0x2b4d26100>"
      ]
     },
     "execution_count": 37,
     "metadata": {},
     "output_type": "execute_result"
    }
   ],
   "source": [
    "%autoreload now\n",
    "from tempo_embeddings.embeddings.model import EmbeddingsMethod\n",
    "from tempo_embeddings.embeddings.model import  SentenceTransformerModelWrapper\n",
    "\n",
    "kwargs = {\"accelerate\": True}\n",
    "\n",
    "### Sentence Transformers\n",
    "MODEL_NAME = \"NetherlandsForensicInstitute/robbert-2022-dutch-sentence-transformers\"\n",
    "# MODEL_NAME = \"textgain/allnli-GroNLP-bert-base-dutch-cased\"\n",
    "model_class = SentenceTransformerModelWrapper\n",
    "\n",
    "model = model_class.from_pretrained(MODEL_NAME, **kwargs)\n",
    "model.embeddings_method = EmbeddingsMethod.MEAN\n",
    "model"
   ]
  },
  {
   "cell_type": "markdown",
   "metadata": {},
   "source": [
    "## Create or Open existing Database"
   ]
  },
  {
   "cell_type": "code",
   "execution_count": 38,
   "metadata": {},
   "outputs": [
    {
     "name": "stderr",
     "output_type": "stream",
     "text": [
      "01:36:33 INFO:HTTP Request: GET http://localhost:8080/v1/.well-known/openid-configuration \"HTTP/1.1 404 Not Found\"\n",
      "01:36:33 INFO:HTTP Request: GET http://localhost:8080/v1/meta \"HTTP/1.1 200 OK\"\n",
      "01:36:33 INFO:HTTP Request: GET https://pypi.org/pypi/weaviate-client/json \"HTTP/1.1 200 OK\"\n",
      "01:36:33 INFO:<class 'weaviate.client.WeaviateClient'>\n",
      "01:36:33 INFO:HTTP Request: GET http://localhost:8080/v1/.well-known/ready \"HTTP/1.1 200 OK\"\n",
      "01:36:33 INFO:Weaviate Server Is Up: True\n",
      "01:36:33 INFO:HTTP Request: GET http://localhost:8080/v1/.well-known/ready \"HTTP/1.1 200 OK\"\n"
     ]
    }
   ],
   "source": [
    "import os\n",
    "from tempo_embeddings.embeddings.weaviate_database import WeaviateDatabaseManager\n",
    "\n",
    "# from dotenv import load_dotenv\n",
    "# load_dotenv()\n",
    "# MODEL_NAME = \"NetherlandsForensicInstitute/robbert-2022-dutch-sentence-transformers\"\n",
    "# EMBED_CONFIG = {\"type\":\"hf\", \"api_key\": os.getenv('HUGGING_FACE_API_KEY')}\n",
    "\n",
    "EMBED_CONFIG = {\"type\": \"default\", \"model\": model} \n",
    "db = WeaviateDatabaseManager(embedder_name=MODEL_NAME,embedder_config=EMBED_CONFIG)\n",
    "db.connect()\n",
    "\n",
    "collection_name = \"AnpSgCorpus\""
   ]
  },
  {
   "cell_type": "code",
   "execution_count": 39,
   "metadata": {},
   "outputs": [],
   "source": [
    "%autoreload now"
   ]
  },
  {
   "cell_type": "markdown",
   "metadata": {},
   "source": [
    "## Compute & Save Embeddings (If DB didn't existed)"
   ]
  },
  {
   "cell_type": "code",
   "execution_count": 40,
   "metadata": {},
   "outputs": [
    {
     "name": "stderr",
     "output_type": "stream",
     "text": [
      "01:36:33 INFO:HTTP Request: GET http://localhost:8080/v1/.well-known/openid-configuration \"HTTP/1.1 404 Not Found\"\n",
      "01:36:33 INFO:HTTP Request: GET http://localhost:8080/v1/meta \"HTTP/1.1 200 OK\"\n",
      "01:36:33 INFO:HTTP Request: GET https://pypi.org/pypi/weaviate-client/json \"HTTP/1.1 200 OK\"\n",
      "Embeddings: 100%|██████████| 7/7 [00:06<00:00,  1.14batch/s]\n",
      "Embeddings:  86%|████████▌ | 6/7 [00:07<00:01,  1.22s/batch]\n",
      "01:36:40 INFO:Added 54 new documents.\n",
      "01:36:40 INFO:Created NEW collection 'AnpSgCorpus'\n"
     ]
    }
   ],
   "source": [
    "try:\n",
    "    db.create_new_collection(collection_name, corpus)\n",
    "except ValueError:\n",
    "    print(f\"Collection '{collection_name}' already exists and has {db.get_collection_count(collection_name)} records\")\n",
    "    "
   ]
  },
  {
   "cell_type": "markdown",
   "metadata": {},
   "source": [
    "## TEST: Retrieve Records from Database"
   ]
  },
  {
   "cell_type": "code",
   "execution_count": 41,
   "metadata": {},
   "outputs": [
    {
     "name": "stderr",
     "output_type": "stream",
     "text": [
      "01:36:41 INFO:HTTP Request: GET http://localhost:8080/v1/.well-known/openid-configuration \"HTTP/1.1 404 Not Found\"\n",
      "01:36:41 INFO:HTTP Request: GET http://localhost:8080/v1/meta \"HTTP/1.1 200 OK\"\n",
      "01:36:41 INFO:HTTP Request: GET https://pypi.org/pypi/weaviate-client/json \"HTTP/1.1 200 OK\"\n"
     ]
    },
    {
     "name": "stdout",
     "output_type": "stream",
     "text": [
      "98\n"
     ]
    }
   ],
   "source": [
    "%autoreload now\n",
    "\n",
    "corpus_mini = db.get_corpus(collection_name, filter_words=[\"duurzaam\"])\n",
    "print(len(corpus_mini))"
   ]
  },
  {
   "cell_type": "code",
   "execution_count": null,
   "metadata": {},
   "outputs": [],
   "source": []
  },
  {
   "cell_type": "code",
   "execution_count": 42,
   "metadata": {},
   "outputs": [
    {
     "name": "stderr",
     "output_type": "stream",
     "text": [
      "01:36:41 INFO:HTTP Request: GET http://localhost:8080/v1/.well-known/openid-configuration \"HTTP/1.1 404 Not Found\"\n",
      "01:36:41 INFO:HTTP Request: GET http://localhost:8080/v1/meta \"HTTP/1.1 200 OK\"\n",
      "01:36:41 INFO:HTTP Request: GET https://pypi.org/pypi/weaviate-client/json \"HTTP/1.1 200 OK\"\n",
      "Embeddings: 100%|██████████| 13/13 [00:04<00:00,  3.06batch/s]\n",
      "Embeddings:  92%|█████████▏| 12/13 [00:04<00:00,  2.84batch/s]\n",
      "01:36:45 INFO:Added 98 new documents.\n",
      "01:36:45 INFO:Created NEW collection 'AnpDuurzaam'\n"
     ]
    }
   ],
   "source": [
    "if len(corpus_mini):\n",
    "    db.create_new_collection(\"AnpDuurzaam\", corpus_mini)"
   ]
  }
 ],
 "metadata": {
  "kernelspec": {
   "display_name": ".venv",
   "language": "python",
   "name": "python3"
  },
  "language_info": {
   "codemirror_mode": {
    "name": "ipython",
    "version": 3
   },
   "file_extension": ".py",
   "mimetype": "text/x-python",
   "name": "python",
   "nbconvert_exporter": "python",
   "pygments_lexer": "ipython3",
   "version": "3.9.6"
  },
  "orig_nbformat": 4
 },
 "nbformat": 4,
 "nbformat_minor": 2
}
