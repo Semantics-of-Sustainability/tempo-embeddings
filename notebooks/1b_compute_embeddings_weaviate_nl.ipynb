{
 "cells": [
  {
   "cell_type": "markdown",
   "metadata": {},
   "source": [
    "# Dutch Corpora\n",
    "\n",
    "### Instal tempo-embeddings"
   ]
  },
  {
   "cell_type": "code",
   "execution_count": 1,
   "metadata": {},
   "outputs": [
    {
     "name": "stdout",
     "output_type": "stream",
     "text": [
      "Processing /Users/jose/Repos/tempo-embeddings\n",
      "  Installing build dependencies ... \u001b[?25ldone\n",
      "\u001b[?25h  Getting requirements to build wheel ... \u001b[?25ldone\n",
      "\u001b[?25h  Preparing metadata (pyproject.toml) ... \u001b[?25ldone\n",
      "\u001b[?25hRequirement already satisfied: accelerate~=0.22.0 in /Users/jose/Repos/tempo-embeddings/.venv/lib/python3.9/site-packages (from tempo_embeddings==0.0.1) (0.22.0)\n",
      "Requirement already satisfied: seaborn~=0.13.0 in /Users/jose/Repos/tempo-embeddings/.venv/lib/python3.9/site-packages (from tempo_embeddings==0.0.1) (0.13.1)\n",
      "Requirement already satisfied: transformers~=4.32.1 in /Users/jose/Repos/tempo-embeddings/.venv/lib/python3.9/site-packages (from tempo_embeddings==0.0.1) (4.32.1)\n",
      "Requirement already satisfied: torch~=2.3.1 in /Users/jose/Repos/tempo-embeddings/.venv/lib/python3.9/site-packages (from tempo_embeddings==0.0.1) (2.3.1)\n",
      "Requirement already satisfied: torchvision>=0.15.2 in /Users/jose/Repos/tempo-embeddings/.venv/lib/python3.9/site-packages (from tempo_embeddings==0.0.1) (0.18.1)\n",
      "Requirement already satisfied: torchaudio>=2.0.2 in /Users/jose/Repos/tempo-embeddings/.venv/lib/python3.9/site-packages (from tempo_embeddings==0.0.1) (2.3.1)\n",
      "Requirement already satisfied: umap-learn~=0.5.4 in /Users/jose/Repos/tempo-embeddings/.venv/lib/python3.9/site-packages (from tempo_embeddings==0.0.1) (0.5.5)\n",
      "Requirement already satisfied: wizmap~=0.1.2 in /Users/jose/Repos/tempo-embeddings/.venv/lib/python3.9/site-packages (from tempo_embeddings==0.0.1) (0.1.2)\n",
      "Requirement already satisfied: matplotlib~=3.7.2 in /Users/jose/Repos/tempo-embeddings/.venv/lib/python3.9/site-packages (from tempo_embeddings==0.0.1) (3.7.4)\n",
      "Requirement already satisfied: sacremoses~=0.0.53 in /Users/jose/Repos/tempo-embeddings/.venv/lib/python3.9/site-packages (from tempo_embeddings==0.0.1) (0.0.53)\n",
      "Requirement already satisfied: scikit-learn~=1.3.0 in /Users/jose/Repos/tempo-embeddings/.venv/lib/python3.9/site-packages (from tempo_embeddings==0.0.1) (1.3.2)\n",
      "Requirement already satisfied: chromadb~=0.4.22 in /Users/jose/Repos/tempo-embeddings/.venv/lib/python3.9/site-packages (from tempo_embeddings==0.0.1) (0.4.22)\n",
      "Requirement already satisfied: weaviate-client in /Users/jose/Repos/tempo-embeddings/.venv/lib/python3.9/site-packages (from tempo_embeddings==0.0.1) (4.6.1)\n",
      "Requirement already satisfied: pandas in /Users/jose/Repos/tempo-embeddings/.venv/lib/python3.9/site-packages (from tempo_embeddings==0.0.1) (2.2.0)\n",
      "Requirement already satisfied: datashader in /Users/jose/Repos/tempo-embeddings/.venv/lib/python3.9/site-packages (from tempo_embeddings==0.0.1) (0.16.0)\n",
      "Requirement already satisfied: bokeh~=3.3.2 in /Users/jose/Repos/tempo-embeddings/.venv/lib/python3.9/site-packages (from tempo_embeddings==0.0.1) (3.3.3)\n",
      "Requirement already satisfied: holoviews in /Users/jose/Repos/tempo-embeddings/.venv/lib/python3.9/site-packages (from tempo_embeddings==0.0.1) (1.18.1)\n",
      "Requirement already satisfied: dash~=2.11.1 in /Users/jose/Repos/tempo-embeddings/.venv/lib/python3.9/site-packages (from tempo_embeddings==0.0.1) (2.11.1)\n",
      "Requirement already satisfied: numpy>=1.17 in /Users/jose/Repos/tempo-embeddings/.venv/lib/python3.9/site-packages (from accelerate~=0.22.0->tempo_embeddings==0.0.1) (1.26.3)\n",
      "Requirement already satisfied: packaging>=20.0 in /Users/jose/Repos/tempo-embeddings/.venv/lib/python3.9/site-packages (from accelerate~=0.22.0->tempo_embeddings==0.0.1) (23.2)\n",
      "Requirement already satisfied: psutil in /Users/jose/Repos/tempo-embeddings/.venv/lib/python3.9/site-packages (from accelerate~=0.22.0->tempo_embeddings==0.0.1) (5.9.8)\n",
      "Requirement already satisfied: pyyaml in /Users/jose/Repos/tempo-embeddings/.venv/lib/python3.9/site-packages (from accelerate~=0.22.0->tempo_embeddings==0.0.1) (6.0.1)\n",
      "Requirement already satisfied: Jinja2>=2.9 in /Users/jose/Repos/tempo-embeddings/.venv/lib/python3.9/site-packages (from bokeh~=3.3.2->tempo_embeddings==0.0.1) (3.1.3)\n",
      "Requirement already satisfied: contourpy>=1 in /Users/jose/Repos/tempo-embeddings/.venv/lib/python3.9/site-packages (from bokeh~=3.3.2->tempo_embeddings==0.0.1) (1.2.0)\n",
      "Requirement already satisfied: pillow>=7.1.0 in /Users/jose/Repos/tempo-embeddings/.venv/lib/python3.9/site-packages (from bokeh~=3.3.2->tempo_embeddings==0.0.1) (10.2.0)\n",
      "Requirement already satisfied: tornado>=5.1 in /Users/jose/Repos/tempo-embeddings/.venv/lib/python3.9/site-packages (from bokeh~=3.3.2->tempo_embeddings==0.0.1) (6.4)\n",
      "Requirement already satisfied: xyzservices>=2021.09.1 in /Users/jose/Repos/tempo-embeddings/.venv/lib/python3.9/site-packages (from bokeh~=3.3.2->tempo_embeddings==0.0.1) (2023.10.1)\n",
      "Requirement already satisfied: build>=1.0.3 in /Users/jose/Repos/tempo-embeddings/.venv/lib/python3.9/site-packages (from chromadb~=0.4.22->tempo_embeddings==0.0.1) (1.0.3)\n",
      "Requirement already satisfied: requests>=2.28 in /Users/jose/Repos/tempo-embeddings/.venv/lib/python3.9/site-packages (from chromadb~=0.4.22->tempo_embeddings==0.0.1) (2.31.0)\n",
      "Requirement already satisfied: pydantic>=1.9 in /Users/jose/Repos/tempo-embeddings/.venv/lib/python3.9/site-packages (from chromadb~=0.4.22->tempo_embeddings==0.0.1) (2.5.3)\n",
      "Requirement already satisfied: chroma-hnswlib==0.7.3 in /Users/jose/Repos/tempo-embeddings/.venv/lib/python3.9/site-packages (from chromadb~=0.4.22->tempo_embeddings==0.0.1) (0.7.3)\n",
      "Requirement already satisfied: fastapi>=0.95.2 in /Users/jose/Repos/tempo-embeddings/.venv/lib/python3.9/site-packages (from chromadb~=0.4.22->tempo_embeddings==0.0.1) (0.109.0)\n",
      "Requirement already satisfied: uvicorn>=0.18.3 in /Users/jose/Repos/tempo-embeddings/.venv/lib/python3.9/site-packages (from uvicorn[standard]>=0.18.3->chromadb~=0.4.22->tempo_embeddings==0.0.1) (0.26.0)\n",
      "Requirement already satisfied: posthog>=2.4.0 in /Users/jose/Repos/tempo-embeddings/.venv/lib/python3.9/site-packages (from chromadb~=0.4.22->tempo_embeddings==0.0.1) (3.3.2)\n",
      "Requirement already satisfied: typing-extensions>=4.5.0 in /Users/jose/Repos/tempo-embeddings/.venv/lib/python3.9/site-packages (from chromadb~=0.4.22->tempo_embeddings==0.0.1) (4.9.0)\n",
      "Requirement already satisfied: pulsar-client>=3.1.0 in /Users/jose/Repos/tempo-embeddings/.venv/lib/python3.9/site-packages (from chromadb~=0.4.22->tempo_embeddings==0.0.1) (3.4.0)\n",
      "Requirement already satisfied: onnxruntime>=1.14.1 in /Users/jose/Repos/tempo-embeddings/.venv/lib/python3.9/site-packages (from chromadb~=0.4.22->tempo_embeddings==0.0.1) (1.16.3)\n",
      "Requirement already satisfied: opentelemetry-api>=1.2.0 in /Users/jose/Repos/tempo-embeddings/.venv/lib/python3.9/site-packages (from chromadb~=0.4.22->tempo_embeddings==0.0.1) (1.22.0)\n",
      "Requirement already satisfied: opentelemetry-exporter-otlp-proto-grpc>=1.2.0 in /Users/jose/Repos/tempo-embeddings/.venv/lib/python3.9/site-packages (from chromadb~=0.4.22->tempo_embeddings==0.0.1) (1.11.1)\n",
      "Requirement already satisfied: opentelemetry-instrumentation-fastapi>=0.41b0 in /Users/jose/Repos/tempo-embeddings/.venv/lib/python3.9/site-packages (from chromadb~=0.4.22->tempo_embeddings==0.0.1) (0.43b0)\n",
      "Requirement already satisfied: opentelemetry-sdk>=1.2.0 in /Users/jose/Repos/tempo-embeddings/.venv/lib/python3.9/site-packages (from chromadb~=0.4.22->tempo_embeddings==0.0.1) (1.22.0)\n",
      "Requirement already satisfied: tokenizers>=0.13.2 in /Users/jose/Repos/tempo-embeddings/.venv/lib/python3.9/site-packages (from chromadb~=0.4.22->tempo_embeddings==0.0.1) (0.13.3)\n",
      "Requirement already satisfied: pypika>=0.48.9 in /Users/jose/Repos/tempo-embeddings/.venv/lib/python3.9/site-packages (from chromadb~=0.4.22->tempo_embeddings==0.0.1) (0.48.9)\n",
      "Requirement already satisfied: tqdm>=4.65.0 in /Users/jose/Repos/tempo-embeddings/.venv/lib/python3.9/site-packages (from chromadb~=0.4.22->tempo_embeddings==0.0.1) (4.66.1)\n",
      "Requirement already satisfied: overrides>=7.3.1 in /Users/jose/Repos/tempo-embeddings/.venv/lib/python3.9/site-packages (from chromadb~=0.4.22->tempo_embeddings==0.0.1) (7.6.0)\n",
      "Requirement already satisfied: importlib-resources in /Users/jose/Repos/tempo-embeddings/.venv/lib/python3.9/site-packages (from chromadb~=0.4.22->tempo_embeddings==0.0.1) (6.1.1)\n",
      "Requirement already satisfied: grpcio>=1.58.0 in /Users/jose/Repos/tempo-embeddings/.venv/lib/python3.9/site-packages (from chromadb~=0.4.22->tempo_embeddings==0.0.1) (1.63.0)\n",
      "Requirement already satisfied: bcrypt>=4.0.1 in /Users/jose/Repos/tempo-embeddings/.venv/lib/python3.9/site-packages (from chromadb~=0.4.22->tempo_embeddings==0.0.1) (4.1.2)\n",
      "Requirement already satisfied: typer>=0.9.0 in /Users/jose/Repos/tempo-embeddings/.venv/lib/python3.9/site-packages (from chromadb~=0.4.22->tempo_embeddings==0.0.1) (0.9.0)\n",
      "Requirement already satisfied: kubernetes>=28.1.0 in /Users/jose/Repos/tempo-embeddings/.venv/lib/python3.9/site-packages (from chromadb~=0.4.22->tempo_embeddings==0.0.1) (29.0.0)\n",
      "Requirement already satisfied: tenacity>=8.2.3 in /Users/jose/Repos/tempo-embeddings/.venv/lib/python3.9/site-packages (from chromadb~=0.4.22->tempo_embeddings==0.0.1) (8.2.3)\n",
      "Requirement already satisfied: mmh3>=4.0.1 in /Users/jose/Repos/tempo-embeddings/.venv/lib/python3.9/site-packages (from chromadb~=0.4.22->tempo_embeddings==0.0.1) (4.1.0)\n",
      "Requirement already satisfied: Flask<2.3.0,>=1.0.4 in /Users/jose/Repos/tempo-embeddings/.venv/lib/python3.9/site-packages (from dash~=2.11.1->tempo_embeddings==0.0.1) (2.2.5)\n",
      "Requirement already satisfied: Werkzeug<2.3.0 in /Users/jose/Repos/tempo-embeddings/.venv/lib/python3.9/site-packages (from dash~=2.11.1->tempo_embeddings==0.0.1) (2.2.3)\n",
      "Requirement already satisfied: plotly>=5.0.0 in /Users/jose/Repos/tempo-embeddings/.venv/lib/python3.9/site-packages (from dash~=2.11.1->tempo_embeddings==0.0.1) (5.18.0)\n",
      "Requirement already satisfied: dash-html-components==2.0.0 in /Users/jose/Repos/tempo-embeddings/.venv/lib/python3.9/site-packages (from dash~=2.11.1->tempo_embeddings==0.0.1) (2.0.0)\n",
      "Requirement already satisfied: dash-core-components==2.0.0 in /Users/jose/Repos/tempo-embeddings/.venv/lib/python3.9/site-packages (from dash~=2.11.1->tempo_embeddings==0.0.1) (2.0.0)\n",
      "Requirement already satisfied: dash-table==5.0.0 in /Users/jose/Repos/tempo-embeddings/.venv/lib/python3.9/site-packages (from dash~=2.11.1->tempo_embeddings==0.0.1) (5.0.0)\n",
      "Requirement already satisfied: retrying in /Users/jose/Repos/tempo-embeddings/.venv/lib/python3.9/site-packages (from dash~=2.11.1->tempo_embeddings==0.0.1) (1.3.4)\n",
      "Requirement already satisfied: ansi2html in /Users/jose/Repos/tempo-embeddings/.venv/lib/python3.9/site-packages (from dash~=2.11.1->tempo_embeddings==0.0.1) (1.9.1)\n",
      "Requirement already satisfied: nest-asyncio in /Users/jose/Repos/tempo-embeddings/.venv/lib/python3.9/site-packages (from dash~=2.11.1->tempo_embeddings==0.0.1) (1.6.0)\n",
      "Requirement already satisfied: cycler>=0.10 in /Users/jose/Repos/tempo-embeddings/.venv/lib/python3.9/site-packages (from matplotlib~=3.7.2->tempo_embeddings==0.0.1) (0.12.1)\n",
      "Requirement already satisfied: fonttools>=4.22.0 in /Users/jose/Repos/tempo-embeddings/.venv/lib/python3.9/site-packages (from matplotlib~=3.7.2->tempo_embeddings==0.0.1) (4.47.2)\n",
      "Requirement already satisfied: kiwisolver>=1.0.1 in /Users/jose/Repos/tempo-embeddings/.venv/lib/python3.9/site-packages (from matplotlib~=3.7.2->tempo_embeddings==0.0.1) (1.4.5)\n",
      "Requirement already satisfied: pyparsing>=2.3.1 in /Users/jose/Repos/tempo-embeddings/.venv/lib/python3.9/site-packages (from matplotlib~=3.7.2->tempo_embeddings==0.0.1) (3.1.1)\n",
      "Requirement already satisfied: python-dateutil>=2.7 in /Users/jose/Repos/tempo-embeddings/.venv/lib/python3.9/site-packages (from matplotlib~=3.7.2->tempo_embeddings==0.0.1) (2.8.2)\n",
      "Requirement already satisfied: pytz>=2020.1 in /Users/jose/Repos/tempo-embeddings/.venv/lib/python3.9/site-packages (from pandas->tempo_embeddings==0.0.1) (2023.3.post1)\n",
      "Requirement already satisfied: tzdata>=2022.7 in /Users/jose/Repos/tempo-embeddings/.venv/lib/python3.9/site-packages (from pandas->tempo_embeddings==0.0.1) (2023.4)\n",
      "Requirement already satisfied: regex in /Users/jose/Repos/tempo-embeddings/.venv/lib/python3.9/site-packages (from sacremoses~=0.0.53->tempo_embeddings==0.0.1) (2023.12.25)\n",
      "Requirement already satisfied: six in /Users/jose/Repos/tempo-embeddings/.venv/lib/python3.9/site-packages (from sacremoses~=0.0.53->tempo_embeddings==0.0.1) (1.16.0)\n",
      "Requirement already satisfied: click in /Users/jose/Repos/tempo-embeddings/.venv/lib/python3.9/site-packages (from sacremoses~=0.0.53->tempo_embeddings==0.0.1) (8.1.7)\n",
      "Requirement already satisfied: joblib in /Users/jose/Repos/tempo-embeddings/.venv/lib/python3.9/site-packages (from sacremoses~=0.0.53->tempo_embeddings==0.0.1) (1.3.2)\n",
      "Requirement already satisfied: scipy>=1.5.0 in /Users/jose/Repos/tempo-embeddings/.venv/lib/python3.9/site-packages (from scikit-learn~=1.3.0->tempo_embeddings==0.0.1) (1.12.0)\n",
      "Requirement already satisfied: threadpoolctl>=2.0.0 in /Users/jose/Repos/tempo-embeddings/.venv/lib/python3.9/site-packages (from scikit-learn~=1.3.0->tempo_embeddings==0.0.1) (3.2.0)\n",
      "Requirement already satisfied: filelock in /Users/jose/Repos/tempo-embeddings/.venv/lib/python3.9/site-packages (from torch~=2.3.1->tempo_embeddings==0.0.1) (3.13.1)\n",
      "Requirement already satisfied: sympy in /Users/jose/Repos/tempo-embeddings/.venv/lib/python3.9/site-packages (from torch~=2.3.1->tempo_embeddings==0.0.1) (1.12)\n",
      "Requirement already satisfied: networkx in /Users/jose/Repos/tempo-embeddings/.venv/lib/python3.9/site-packages (from torch~=2.3.1->tempo_embeddings==0.0.1) (3.2.1)\n",
      "Requirement already satisfied: fsspec in /Users/jose/Repos/tempo-embeddings/.venv/lib/python3.9/site-packages (from torch~=2.3.1->tempo_embeddings==0.0.1) (2023.12.2)\n",
      "Requirement already satisfied: huggingface-hub<1.0,>=0.15.1 in /Users/jose/Repos/tempo-embeddings/.venv/lib/python3.9/site-packages (from transformers~=4.32.1->tempo_embeddings==0.0.1) (0.20.3)\n",
      "Requirement already satisfied: safetensors>=0.3.1 in /Users/jose/Repos/tempo-embeddings/.venv/lib/python3.9/site-packages (from transformers~=4.32.1->tempo_embeddings==0.0.1) (0.4.1)\n",
      "Requirement already satisfied: numba>=0.51.2 in /Users/jose/Repos/tempo-embeddings/.venv/lib/python3.9/site-packages (from umap-learn~=0.5.4->tempo_embeddings==0.0.1) (0.58.1)\n",
      "Requirement already satisfied: pynndescent>=0.5 in /Users/jose/Repos/tempo-embeddings/.venv/lib/python3.9/site-packages (from umap-learn~=0.5.4->tempo_embeddings==0.0.1) (0.5.11)\n",
      "Requirement already satisfied: ipython in /Users/jose/Repos/tempo-embeddings/.venv/lib/python3.9/site-packages (from wizmap~=0.1.2->tempo_embeddings==0.0.1) (8.18.1)\n",
      "Requirement already satisfied: quadtreed3 in /Users/jose/Repos/tempo-embeddings/.venv/lib/python3.9/site-packages (from wizmap~=0.1.2->tempo_embeddings==0.0.1) (0.1.1)\n",
      "Requirement already satisfied: ndjson in /Users/jose/Repos/tempo-embeddings/.venv/lib/python3.9/site-packages (from wizmap~=0.1.2->tempo_embeddings==0.0.1) (0.3.1)\n",
      "Requirement already satisfied: colorcet in /Users/jose/Repos/tempo-embeddings/.venv/lib/python3.9/site-packages (from datashader->tempo_embeddings==0.0.1) (3.0.1)\n",
      "Requirement already satisfied: dask in /Users/jose/Repos/tempo-embeddings/.venv/lib/python3.9/site-packages (from datashader->tempo_embeddings==0.0.1) (2024.1.0)\n",
      "Requirement already satisfied: multipledispatch in /Users/jose/Repos/tempo-embeddings/.venv/lib/python3.9/site-packages (from datashader->tempo_embeddings==0.0.1) (1.0.0)\n",
      "Requirement already satisfied: param in /Users/jose/Repos/tempo-embeddings/.venv/lib/python3.9/site-packages (from datashader->tempo_embeddings==0.0.1) (2.0.2)\n",
      "Requirement already satisfied: pyct in /Users/jose/Repos/tempo-embeddings/.venv/lib/python3.9/site-packages (from datashader->tempo_embeddings==0.0.1) (0.5.0)\n",
      "Requirement already satisfied: toolz in /Users/jose/Repos/tempo-embeddings/.venv/lib/python3.9/site-packages (from datashader->tempo_embeddings==0.0.1) (0.12.0)\n",
      "Requirement already satisfied: xarray in /Users/jose/Repos/tempo-embeddings/.venv/lib/python3.9/site-packages (from datashader->tempo_embeddings==0.0.1) (2024.1.0)\n",
      "Requirement already satisfied: pyviz-comms>=0.7.4 in /Users/jose/Repos/tempo-embeddings/.venv/lib/python3.9/site-packages (from holoviews->tempo_embeddings==0.0.1) (3.0.1)\n",
      "Requirement already satisfied: panel>=1.0 in /Users/jose/Repos/tempo-embeddings/.venv/lib/python3.9/site-packages (from holoviews->tempo_embeddings==0.0.1) (1.3.7)\n",
      "Requirement already satisfied: httpx<=0.27.0,>=0.25.0 in /Users/jose/Repos/tempo-embeddings/.venv/lib/python3.9/site-packages (from weaviate-client->tempo_embeddings==0.0.1) (0.27.0)\n",
      "Requirement already satisfied: validators==0.28.1 in /Users/jose/Repos/tempo-embeddings/.venv/lib/python3.9/site-packages (from weaviate-client->tempo_embeddings==0.0.1) (0.28.1)\n",
      "Requirement already satisfied: authlib<2.0.0,>=1.2.1 in /Users/jose/Repos/tempo-embeddings/.venv/lib/python3.9/site-packages (from weaviate-client->tempo_embeddings==0.0.1) (1.3.0)\n",
      "Requirement already satisfied: grpcio-tools<2.0.0,>=1.57.0 in /Users/jose/Repos/tempo-embeddings/.venv/lib/python3.9/site-packages (from weaviate-client->tempo_embeddings==0.0.1) (1.63.0)\n",
      "Requirement already satisfied: grpcio-health-checking<2.0.0,>=1.57.0 in /Users/jose/Repos/tempo-embeddings/.venv/lib/python3.9/site-packages (from weaviate-client->tempo_embeddings==0.0.1) (1.63.0)\n",
      "Requirement already satisfied: cryptography in /Users/jose/Repos/tempo-embeddings/.venv/lib/python3.9/site-packages (from authlib<2.0.0,>=1.2.1->weaviate-client->tempo_embeddings==0.0.1) (42.0.7)\n",
      "Requirement already satisfied: pyproject_hooks in /Users/jose/Repos/tempo-embeddings/.venv/lib/python3.9/site-packages (from build>=1.0.3->chromadb~=0.4.22->tempo_embeddings==0.0.1) (1.0.0)\n",
      "Requirement already satisfied: importlib-metadata>=4.6 in /Users/jose/Repos/tempo-embeddings/.venv/lib/python3.9/site-packages (from build>=1.0.3->chromadb~=0.4.22->tempo_embeddings==0.0.1) (6.11.0)\n",
      "Requirement already satisfied: tomli>=1.1.0 in /Users/jose/Repos/tempo-embeddings/.venv/lib/python3.9/site-packages (from build>=1.0.3->chromadb~=0.4.22->tempo_embeddings==0.0.1) (2.0.1)\n",
      "Requirement already satisfied: starlette<0.36.0,>=0.35.0 in /Users/jose/Repos/tempo-embeddings/.venv/lib/python3.9/site-packages (from fastapi>=0.95.2->chromadb~=0.4.22->tempo_embeddings==0.0.1) (0.35.1)\n",
      "Requirement already satisfied: itsdangerous>=2.0 in /Users/jose/Repos/tempo-embeddings/.venv/lib/python3.9/site-packages (from Flask<2.3.0,>=1.0.4->dash~=2.11.1->tempo_embeddings==0.0.1) (2.1.2)\n",
      "Collecting protobuf<6.0dev,>=5.26.1 (from grpcio-health-checking<2.0.0,>=1.57.0->weaviate-client->tempo_embeddings==0.0.1)\n",
      "  Using cached protobuf-5.27.2-cp38-abi3-macosx_10_9_universal2.whl.metadata (592 bytes)\n",
      "Requirement already satisfied: setuptools in /Users/jose/Repos/tempo-embeddings/.venv/lib/python3.9/site-packages (from grpcio-tools<2.0.0,>=1.57.0->weaviate-client->tempo_embeddings==0.0.1) (58.0.4)\n",
      "Requirement already satisfied: anyio in /Users/jose/Repos/tempo-embeddings/.venv/lib/python3.9/site-packages (from httpx<=0.27.0,>=0.25.0->weaviate-client->tempo_embeddings==0.0.1) (4.2.0)\n",
      "Requirement already satisfied: certifi in /Users/jose/Repos/tempo-embeddings/.venv/lib/python3.9/site-packages (from httpx<=0.27.0,>=0.25.0->weaviate-client->tempo_embeddings==0.0.1) (2023.11.17)\n",
      "Requirement already satisfied: httpcore==1.* in /Users/jose/Repos/tempo-embeddings/.venv/lib/python3.9/site-packages (from httpx<=0.27.0,>=0.25.0->weaviate-client->tempo_embeddings==0.0.1) (1.0.5)\n",
      "Requirement already satisfied: idna in /Users/jose/Repos/tempo-embeddings/.venv/lib/python3.9/site-packages (from httpx<=0.27.0,>=0.25.0->weaviate-client->tempo_embeddings==0.0.1) (3.6)\n",
      "Requirement already satisfied: sniffio in /Users/jose/Repos/tempo-embeddings/.venv/lib/python3.9/site-packages (from httpx<=0.27.0,>=0.25.0->weaviate-client->tempo_embeddings==0.0.1) (1.3.0)\n",
      "Requirement already satisfied: h11<0.15,>=0.13 in /Users/jose/Repos/tempo-embeddings/.venv/lib/python3.9/site-packages (from httpcore==1.*->httpx<=0.27.0,>=0.25.0->weaviate-client->tempo_embeddings==0.0.1) (0.14.0)\n",
      "Requirement already satisfied: zipp>=3.1.0 in /Users/jose/Repos/tempo-embeddings/.venv/lib/python3.9/site-packages (from importlib-resources->chromadb~=0.4.22->tempo_embeddings==0.0.1) (3.17.0)\n",
      "Requirement already satisfied: MarkupSafe>=2.0 in /Users/jose/Repos/tempo-embeddings/.venv/lib/python3.9/site-packages (from Jinja2>=2.9->bokeh~=3.3.2->tempo_embeddings==0.0.1) (2.1.4)\n",
      "Requirement already satisfied: google-auth>=1.0.1 in /Users/jose/Repos/tempo-embeddings/.venv/lib/python3.9/site-packages (from kubernetes>=28.1.0->chromadb~=0.4.22->tempo_embeddings==0.0.1) (2.26.2)\n",
      "Requirement already satisfied: websocket-client!=0.40.0,!=0.41.*,!=0.42.*,>=0.32.0 in /Users/jose/Repos/tempo-embeddings/.venv/lib/python3.9/site-packages (from kubernetes>=28.1.0->chromadb~=0.4.22->tempo_embeddings==0.0.1) (1.7.0)\n",
      "Requirement already satisfied: requests-oauthlib in /Users/jose/Repos/tempo-embeddings/.venv/lib/python3.9/site-packages (from kubernetes>=28.1.0->chromadb~=0.4.22->tempo_embeddings==0.0.1) (1.3.1)\n",
      "Requirement already satisfied: oauthlib>=3.2.2 in /Users/jose/Repos/tempo-embeddings/.venv/lib/python3.9/site-packages (from kubernetes>=28.1.0->chromadb~=0.4.22->tempo_embeddings==0.0.1) (3.2.2)\n",
      "Requirement already satisfied: urllib3>=1.24.2 in /Users/jose/Repos/tempo-embeddings/.venv/lib/python3.9/site-packages (from kubernetes>=28.1.0->chromadb~=0.4.22->tempo_embeddings==0.0.1) (2.1.0)\n",
      "Requirement already satisfied: llvmlite<0.42,>=0.41.0dev0 in /Users/jose/Repos/tempo-embeddings/.venv/lib/python3.9/site-packages (from numba>=0.51.2->umap-learn~=0.5.4->tempo_embeddings==0.0.1) (0.41.1)\n",
      "Requirement already satisfied: coloredlogs in /Users/jose/Repos/tempo-embeddings/.venv/lib/python3.9/site-packages (from onnxruntime>=1.14.1->chromadb~=0.4.22->tempo_embeddings==0.0.1) (15.0.1)\n",
      "Requirement already satisfied: flatbuffers in /Users/jose/Repos/tempo-embeddings/.venv/lib/python3.9/site-packages (from onnxruntime>=1.14.1->chromadb~=0.4.22->tempo_embeddings==0.0.1) (23.5.26)\n",
      "Requirement already satisfied: deprecated>=1.2.6 in /Users/jose/Repos/tempo-embeddings/.venv/lib/python3.9/site-packages (from opentelemetry-api>=1.2.0->chromadb~=0.4.22->tempo_embeddings==0.0.1) (1.2.14)\n",
      "Requirement already satisfied: googleapis-common-protos~=1.52 in /Users/jose/Repos/tempo-embeddings/.venv/lib/python3.9/site-packages (from opentelemetry-exporter-otlp-proto-grpc>=1.2.0->chromadb~=0.4.22->tempo_embeddings==0.0.1) (1.63.1)\n",
      "Requirement already satisfied: opentelemetry-proto==1.11.1 in /Users/jose/Repos/tempo-embeddings/.venv/lib/python3.9/site-packages (from opentelemetry-exporter-otlp-proto-grpc>=1.2.0->chromadb~=0.4.22->tempo_embeddings==0.0.1) (1.11.1)\n",
      "Requirement already satisfied: backoff<2.0.0,>=1.10.0 in /Users/jose/Repos/tempo-embeddings/.venv/lib/python3.9/site-packages (from opentelemetry-exporter-otlp-proto-grpc>=1.2.0->chromadb~=0.4.22->tempo_embeddings==0.0.1) (1.11.1)\n",
      "Requirement already satisfied: opentelemetry-instrumentation-asgi==0.43b0 in /Users/jose/Repos/tempo-embeddings/.venv/lib/python3.9/site-packages (from opentelemetry-instrumentation-fastapi>=0.41b0->chromadb~=0.4.22->tempo_embeddings==0.0.1) (0.43b0)\n",
      "Requirement already satisfied: opentelemetry-instrumentation==0.43b0 in /Users/jose/Repos/tempo-embeddings/.venv/lib/python3.9/site-packages (from opentelemetry-instrumentation-fastapi>=0.41b0->chromadb~=0.4.22->tempo_embeddings==0.0.1) (0.43b0)\n",
      "Requirement already satisfied: opentelemetry-semantic-conventions==0.43b0 in /Users/jose/Repos/tempo-embeddings/.venv/lib/python3.9/site-packages (from opentelemetry-instrumentation-fastapi>=0.41b0->chromadb~=0.4.22->tempo_embeddings==0.0.1) (0.43b0)\n",
      "Requirement already satisfied: opentelemetry-util-http==0.43b0 in /Users/jose/Repos/tempo-embeddings/.venv/lib/python3.9/site-packages (from opentelemetry-instrumentation-fastapi>=0.41b0->chromadb~=0.4.22->tempo_embeddings==0.0.1) (0.43b0)\n",
      "Requirement already satisfied: wrapt<2.0.0,>=1.0.0 in /Users/jose/Repos/tempo-embeddings/.venv/lib/python3.9/site-packages (from opentelemetry-instrumentation==0.43b0->opentelemetry-instrumentation-fastapi>=0.41b0->chromadb~=0.4.22->tempo_embeddings==0.0.1) (1.16.0)\n",
      "Requirement already satisfied: asgiref~=3.0 in /Users/jose/Repos/tempo-embeddings/.venv/lib/python3.9/site-packages (from opentelemetry-instrumentation-asgi==0.43b0->opentelemetry-instrumentation-fastapi>=0.41b0->chromadb~=0.4.22->tempo_embeddings==0.0.1) (3.7.2)\n",
      "Requirement already satisfied: markdown in /Users/jose/Repos/tempo-embeddings/.venv/lib/python3.9/site-packages (from panel>=1.0->holoviews->tempo_embeddings==0.0.1) (3.5.2)\n",
      "Requirement already satisfied: markdown-it-py in /Users/jose/Repos/tempo-embeddings/.venv/lib/python3.9/site-packages (from panel>=1.0->holoviews->tempo_embeddings==0.0.1) (3.0.0)\n",
      "Requirement already satisfied: linkify-it-py in /Users/jose/Repos/tempo-embeddings/.venv/lib/python3.9/site-packages (from panel>=1.0->holoviews->tempo_embeddings==0.0.1) (2.0.2)\n",
      "Requirement already satisfied: mdit-py-plugins in /Users/jose/Repos/tempo-embeddings/.venv/lib/python3.9/site-packages (from panel>=1.0->holoviews->tempo_embeddings==0.0.1) (0.4.0)\n",
      "Requirement already satisfied: bleach in /Users/jose/Repos/tempo-embeddings/.venv/lib/python3.9/site-packages (from panel>=1.0->holoviews->tempo_embeddings==0.0.1) (6.1.0)\n",
      "Requirement already satisfied: monotonic>=1.5 in /Users/jose/Repos/tempo-embeddings/.venv/lib/python3.9/site-packages (from posthog>=2.4.0->chromadb~=0.4.22->tempo_embeddings==0.0.1) (1.6)\n",
      "Requirement already satisfied: annotated-types>=0.4.0 in /Users/jose/Repos/tempo-embeddings/.venv/lib/python3.9/site-packages (from pydantic>=1.9->chromadb~=0.4.22->tempo_embeddings==0.0.1) (0.6.0)\n",
      "Requirement already satisfied: pydantic-core==2.14.6 in /Users/jose/Repos/tempo-embeddings/.venv/lib/python3.9/site-packages (from pydantic>=1.9->chromadb~=0.4.22->tempo_embeddings==0.0.1) (2.14.6)\n",
      "Requirement already satisfied: charset-normalizer<4,>=2 in /Users/jose/Repos/tempo-embeddings/.venv/lib/python3.9/site-packages (from requests>=2.28->chromadb~=0.4.22->tempo_embeddings==0.0.1) (3.3.2)\n",
      "Requirement already satisfied: httptools>=0.5.0 in /Users/jose/Repos/tempo-embeddings/.venv/lib/python3.9/site-packages (from uvicorn[standard]>=0.18.3->chromadb~=0.4.22->tempo_embeddings==0.0.1) (0.6.1)\n",
      "Requirement already satisfied: python-dotenv>=0.13 in /Users/jose/Repos/tempo-embeddings/.venv/lib/python3.9/site-packages (from uvicorn[standard]>=0.18.3->chromadb~=0.4.22->tempo_embeddings==0.0.1) (1.0.0)\n",
      "Requirement already satisfied: uvloop!=0.15.0,!=0.15.1,>=0.14.0 in /Users/jose/Repos/tempo-embeddings/.venv/lib/python3.9/site-packages (from uvicorn[standard]>=0.18.3->chromadb~=0.4.22->tempo_embeddings==0.0.1) (0.19.0)\n",
      "Requirement already satisfied: watchfiles>=0.13 in /Users/jose/Repos/tempo-embeddings/.venv/lib/python3.9/site-packages (from uvicorn[standard]>=0.18.3->chromadb~=0.4.22->tempo_embeddings==0.0.1) (0.21.0)\n",
      "Requirement already satisfied: websockets>=10.4 in /Users/jose/Repos/tempo-embeddings/.venv/lib/python3.9/site-packages (from uvicorn[standard]>=0.18.3->chromadb~=0.4.22->tempo_embeddings==0.0.1) (12.0)\n",
      "Requirement already satisfied: cloudpickle>=1.5.0 in /Users/jose/Repos/tempo-embeddings/.venv/lib/python3.9/site-packages (from dask->datashader->tempo_embeddings==0.0.1) (3.0.0)\n",
      "Requirement already satisfied: partd>=1.2.0 in /Users/jose/Repos/tempo-embeddings/.venv/lib/python3.9/site-packages (from dask->datashader->tempo_embeddings==0.0.1) (1.4.1)\n",
      "Requirement already satisfied: decorator in /Users/jose/Repos/tempo-embeddings/.venv/lib/python3.9/site-packages (from ipython->wizmap~=0.1.2->tempo_embeddings==0.0.1) (5.1.1)\n",
      "Requirement already satisfied: jedi>=0.16 in /Users/jose/Repos/tempo-embeddings/.venv/lib/python3.9/site-packages (from ipython->wizmap~=0.1.2->tempo_embeddings==0.0.1) (0.19.1)\n",
      "Requirement already satisfied: matplotlib-inline in /Users/jose/Repos/tempo-embeddings/.venv/lib/python3.9/site-packages (from ipython->wizmap~=0.1.2->tempo_embeddings==0.0.1) (0.1.6)\n",
      "Requirement already satisfied: prompt-toolkit<3.1.0,>=3.0.41 in /Users/jose/Repos/tempo-embeddings/.venv/lib/python3.9/site-packages (from ipython->wizmap~=0.1.2->tempo_embeddings==0.0.1) (3.0.43)\n",
      "Requirement already satisfied: pygments>=2.4.0 in /Users/jose/Repos/tempo-embeddings/.venv/lib/python3.9/site-packages (from ipython->wizmap~=0.1.2->tempo_embeddings==0.0.1) (2.17.2)\n",
      "Requirement already satisfied: stack-data in /Users/jose/Repos/tempo-embeddings/.venv/lib/python3.9/site-packages (from ipython->wizmap~=0.1.2->tempo_embeddings==0.0.1) (0.6.3)\n",
      "Requirement already satisfied: traitlets>=5 in /Users/jose/Repos/tempo-embeddings/.venv/lib/python3.9/site-packages (from ipython->wizmap~=0.1.2->tempo_embeddings==0.0.1) (5.14.1)\n",
      "Requirement already satisfied: exceptiongroup in /Users/jose/Repos/tempo-embeddings/.venv/lib/python3.9/site-packages (from ipython->wizmap~=0.1.2->tempo_embeddings==0.0.1) (1.2.0)\n",
      "Requirement already satisfied: pexpect>4.3 in /Users/jose/Repos/tempo-embeddings/.venv/lib/python3.9/site-packages (from ipython->wizmap~=0.1.2->tempo_embeddings==0.0.1) (4.9.0)\n",
      "Requirement already satisfied: mpmath>=0.19 in /Users/jose/Repos/tempo-embeddings/.venv/lib/python3.9/site-packages (from sympy->torch~=2.3.1->tempo_embeddings==0.0.1) (1.3.0)\n",
      "Requirement already satisfied: cachetools<6.0,>=2.0.0 in /Users/jose/Repos/tempo-embeddings/.venv/lib/python3.9/site-packages (from google-auth>=1.0.1->kubernetes>=28.1.0->chromadb~=0.4.22->tempo_embeddings==0.0.1) (5.3.2)\n",
      "Requirement already satisfied: pyasn1-modules>=0.2.1 in /Users/jose/Repos/tempo-embeddings/.venv/lib/python3.9/site-packages (from google-auth>=1.0.1->kubernetes>=28.1.0->chromadb~=0.4.22->tempo_embeddings==0.0.1) (0.3.0)\n",
      "Requirement already satisfied: rsa<5,>=3.1.4 in /Users/jose/Repos/tempo-embeddings/.venv/lib/python3.9/site-packages (from google-auth>=1.0.1->kubernetes>=28.1.0->chromadb~=0.4.22->tempo_embeddings==0.0.1) (4.9)\n",
      "Requirement already satisfied: parso<0.9.0,>=0.8.3 in /Users/jose/Repos/tempo-embeddings/.venv/lib/python3.9/site-packages (from jedi>=0.16->ipython->wizmap~=0.1.2->tempo_embeddings==0.0.1) (0.8.3)\n",
      "Requirement already satisfied: locket in /Users/jose/Repos/tempo-embeddings/.venv/lib/python3.9/site-packages (from partd>=1.2.0->dask->datashader->tempo_embeddings==0.0.1) (1.0.0)\n",
      "Requirement already satisfied: ptyprocess>=0.5 in /Users/jose/Repos/tempo-embeddings/.venv/lib/python3.9/site-packages (from pexpect>4.3->ipython->wizmap~=0.1.2->tempo_embeddings==0.0.1) (0.7.0)\n",
      "Requirement already satisfied: wcwidth in /Users/jose/Repos/tempo-embeddings/.venv/lib/python3.9/site-packages (from prompt-toolkit<3.1.0,>=3.0.41->ipython->wizmap~=0.1.2->tempo_embeddings==0.0.1) (0.2.13)\n",
      "Requirement already satisfied: webencodings in /Users/jose/Repos/tempo-embeddings/.venv/lib/python3.9/site-packages (from bleach->panel>=1.0->holoviews->tempo_embeddings==0.0.1) (0.5.1)\n",
      "Requirement already satisfied: humanfriendly>=9.1 in /Users/jose/Repos/tempo-embeddings/.venv/lib/python3.9/site-packages (from coloredlogs->onnxruntime>=1.14.1->chromadb~=0.4.22->tempo_embeddings==0.0.1) (10.0)\n",
      "Requirement already satisfied: cffi>=1.12 in /Users/jose/Repos/tempo-embeddings/.venv/lib/python3.9/site-packages (from cryptography->authlib<2.0.0,>=1.2.1->weaviate-client->tempo_embeddings==0.0.1) (1.16.0)\n",
      "Requirement already satisfied: uc-micro-py in /Users/jose/Repos/tempo-embeddings/.venv/lib/python3.9/site-packages (from linkify-it-py->panel>=1.0->holoviews->tempo_embeddings==0.0.1) (1.0.2)\n",
      "Requirement already satisfied: mdurl~=0.1 in /Users/jose/Repos/tempo-embeddings/.venv/lib/python3.9/site-packages (from markdown-it-py->panel>=1.0->holoviews->tempo_embeddings==0.0.1) (0.1.2)\n",
      "Requirement already satisfied: executing>=1.2.0 in /Users/jose/Repos/tempo-embeddings/.venv/lib/python3.9/site-packages (from stack-data->ipython->wizmap~=0.1.2->tempo_embeddings==0.0.1) (2.0.1)\n",
      "Requirement already satisfied: asttokens>=2.1.0 in /Users/jose/Repos/tempo-embeddings/.venv/lib/python3.9/site-packages (from stack-data->ipython->wizmap~=0.1.2->tempo_embeddings==0.0.1) (2.4.1)\n",
      "Requirement already satisfied: pure-eval in /Users/jose/Repos/tempo-embeddings/.venv/lib/python3.9/site-packages (from stack-data->ipython->wizmap~=0.1.2->tempo_embeddings==0.0.1) (0.2.2)\n",
      "Requirement already satisfied: pycparser in /Users/jose/Repos/tempo-embeddings/.venv/lib/python3.9/site-packages (from cffi>=1.12->cryptography->authlib<2.0.0,>=1.2.1->weaviate-client->tempo_embeddings==0.0.1) (2.21)\n",
      "Requirement already satisfied: pyasn1<0.6.0,>=0.4.6 in /Users/jose/Repos/tempo-embeddings/.venv/lib/python3.9/site-packages (from pyasn1-modules>=0.2.1->google-auth>=1.0.1->kubernetes>=28.1.0->chromadb~=0.4.22->tempo_embeddings==0.0.1) (0.5.1)\n",
      "Using cached protobuf-5.27.2-cp38-abi3-macosx_10_9_universal2.whl (412 kB)\n",
      "Building wheels for collected packages: tempo_embeddings\n",
      "  Building wheel for tempo_embeddings (pyproject.toml) ... \u001b[?25ldone\n",
      "\u001b[?25h  Created wheel for tempo_embeddings: filename=tempo_embeddings-0.0.1-py3-none-any.whl size=37823 sha256=1a804c3773f0ebeef27b559a13b5474fd899038cc23acbd37c9a7dca59d0ce77\n",
      "  Stored in directory: /Users/jose/Library/Caches/pip/wheels/de/25/96/d92b7a130b730e0ab67770d76841f36cb3d1f9cda32a4a539b\n",
      "Successfully built tempo_embeddings\n",
      "Installing collected packages: protobuf, tempo_embeddings\n",
      "  Attempting uninstall: protobuf\n",
      "    Found existing installation: protobuf 3.20.0\n",
      "    Uninstalling protobuf-3.20.0:\n",
      "      Successfully uninstalled protobuf-3.20.0\n",
      "  Attempting uninstall: tempo_embeddings\n",
      "    Found existing installation: tempo_embeddings 0.0.1\n",
      "    Uninstalling tempo_embeddings-0.0.1:\n",
      "      Successfully uninstalled tempo_embeddings-0.0.1\n",
      "Successfully installed protobuf-5.27.2 tempo_embeddings-0.0.1\n",
      "\n",
      "\u001b[1m[\u001b[0m\u001b[34;49mnotice\u001b[0m\u001b[1;39;49m]\u001b[0m\u001b[39;49m A new release of pip is available: \u001b[0m\u001b[31;49m24.1.1\u001b[0m\u001b[39;49m -> \u001b[0m\u001b[32;49m24.1.2\u001b[0m\n",
      "\u001b[1m[\u001b[0m\u001b[34;49mnotice\u001b[0m\u001b[1;39;49m]\u001b[0m\u001b[39;49m To update, run: \u001b[0m\u001b[32;49mpip install --upgrade pip\u001b[0m\n",
      "Note: you may need to restart the kernel to use updated packages.\n",
      "Collecting protobuf==3.20\n",
      "  Using cached protobuf-3.20.0-py2.py3-none-any.whl.metadata (720 bytes)\n",
      "Using cached protobuf-3.20.0-py2.py3-none-any.whl (162 kB)\n",
      "Installing collected packages: protobuf\n",
      "  Attempting uninstall: protobuf\n",
      "    Found existing installation: protobuf 5.27.2\n",
      "    Uninstalling protobuf-5.27.2:\n",
      "      Successfully uninstalled protobuf-5.27.2\n",
      "\u001b[31mERROR: pip's dependency resolver does not currently take into account all the packages that are installed. This behaviour is the source of the following dependency conflicts.\n",
      "googleapis-common-protos 1.63.1 requires protobuf!=3.20.0,!=3.20.1,!=4.21.1,!=4.21.2,!=4.21.3,!=4.21.4,!=4.21.5,<6.0.0.dev0,>=3.19.5, but you have protobuf 3.20.0 which is incompatible.\n",
      "grpcio-health-checking 1.63.0 requires protobuf<6.0dev,>=5.26.1, but you have protobuf 3.20.0 which is incompatible.\n",
      "grpcio-tools 1.63.0 requires protobuf<6.0dev,>=5.26.1, but you have protobuf 3.20.0 which is incompatible.\u001b[0m\u001b[31m\n",
      "\u001b[0mSuccessfully installed protobuf-3.20.0\n",
      "\n",
      "\u001b[1m[\u001b[0m\u001b[34;49mnotice\u001b[0m\u001b[1;39;49m]\u001b[0m\u001b[39;49m A new release of pip is available: \u001b[0m\u001b[31;49m24.1.1\u001b[0m\u001b[39;49m -> \u001b[0m\u001b[32;49m24.1.2\u001b[0m\n",
      "\u001b[1m[\u001b[0m\u001b[34;49mnotice\u001b[0m\u001b[1;39;49m]\u001b[0m\u001b[39;49m To update, run: \u001b[0m\u001b[32;49mpip install --upgrade pip\u001b[0m\n",
      "Note: you may need to restart the kernel to use updated packages.\n"
     ]
    }
   ],
   "source": [
    "# Install tempo-embeddings from GitHub\n",
    "# This can also refer to a specific version or branch\n",
    "%pip install ..\n",
    "\n",
    "# %pip install --upgrade pip  # Required for properly resolving dependencies\n",
    "# %pip uninstall -y tempo_embeddings  # Remove existing installation\n",
    "# %pip install --upgrade git+https://github.com/Semantics-of-Sustainability/tempo-embeddings.git\n"
   ]
  },
  {
   "cell_type": "markdown",
   "metadata": {},
   "source": [
    "### Import tempo-embeddings and start logging"
   ]
  },
  {
   "cell_type": "code",
   "execution_count": 2,
   "metadata": {},
   "outputs": [],
   "source": [
    "# make sure installation has succeeded\n",
    "import tempo_embeddings\n",
    "\n",
    "from importlib import reload\n",
    "import logging\n",
    "reload(logging)\n",
    "logging.basicConfig(format='%(asctime)s %(levelname)s:%(message)s', level=logging.INFO, datefmt='%I:%M:%S')\n",
    "\n",
    "%load_ext autoreload"
   ]
  },
  {
   "cell_type": "markdown",
   "metadata": {},
   "source": [
    "### Optional: Load NLP Pipeline\n",
    "\n",
    "It is possible to use the Stanza library to pre-tokenize and split the text into sentences. This process is not perfect (it tends to overfragment the text if it has too many rare characters) and takes some extra amount of time and memory resources. If `nlp_pipeline = None` then a naive tokenization is done by splitting with spaces and stripping punctuation characters from the text."
   ]
  },
  {
   "cell_type": "code",
   "execution_count": 3,
   "metadata": {},
   "outputs": [
    {
     "name": "stdout",
     "output_type": "stream",
     "text": [
      "Requirement already satisfied: stanza==1.7.0 in /Users/jose/Repos/tempo-embeddings/.venv/lib/python3.9/site-packages (1.7.0)\n",
      "Requirement already satisfied: emoji in /Users/jose/Repos/tempo-embeddings/.venv/lib/python3.9/site-packages (from stanza==1.7.0) (2.10.1)\n",
      "Requirement already satisfied: numpy in /Users/jose/Repos/tempo-embeddings/.venv/lib/python3.9/site-packages (from stanza==1.7.0) (1.26.3)\n",
      "Requirement already satisfied: protobuf>=3.15.0 in /Users/jose/Repos/tempo-embeddings/.venv/lib/python3.9/site-packages (from stanza==1.7.0) (3.20.0)\n",
      "Requirement already satisfied: requests in /Users/jose/Repos/tempo-embeddings/.venv/lib/python3.9/site-packages (from stanza==1.7.0) (2.31.0)\n",
      "Requirement already satisfied: networkx in /Users/jose/Repos/tempo-embeddings/.venv/lib/python3.9/site-packages (from stanza==1.7.0) (3.2.1)\n",
      "Requirement already satisfied: toml in /Users/jose/Repos/tempo-embeddings/.venv/lib/python3.9/site-packages (from stanza==1.7.0) (0.10.2)\n",
      "Requirement already satisfied: torch>=1.3.0 in /Users/jose/Repos/tempo-embeddings/.venv/lib/python3.9/site-packages (from stanza==1.7.0) (2.3.1)\n",
      "Requirement already satisfied: tqdm in /Users/jose/Repos/tempo-embeddings/.venv/lib/python3.9/site-packages (from stanza==1.7.0) (4.66.1)\n",
      "Requirement already satisfied: filelock in /Users/jose/Repos/tempo-embeddings/.venv/lib/python3.9/site-packages (from torch>=1.3.0->stanza==1.7.0) (3.13.1)\n",
      "Requirement already satisfied: typing-extensions>=4.8.0 in /Users/jose/Repos/tempo-embeddings/.venv/lib/python3.9/site-packages (from torch>=1.3.0->stanza==1.7.0) (4.9.0)\n",
      "Requirement already satisfied: sympy in /Users/jose/Repos/tempo-embeddings/.venv/lib/python3.9/site-packages (from torch>=1.3.0->stanza==1.7.0) (1.12)\n",
      "Requirement already satisfied: jinja2 in /Users/jose/Repos/tempo-embeddings/.venv/lib/python3.9/site-packages (from torch>=1.3.0->stanza==1.7.0) (3.1.3)\n",
      "Requirement already satisfied: fsspec in /Users/jose/Repos/tempo-embeddings/.venv/lib/python3.9/site-packages (from torch>=1.3.0->stanza==1.7.0) (2023.12.2)\n",
      "Requirement already satisfied: charset-normalizer<4,>=2 in /Users/jose/Repos/tempo-embeddings/.venv/lib/python3.9/site-packages (from requests->stanza==1.7.0) (3.3.2)\n",
      "Requirement already satisfied: idna<4,>=2.5 in /Users/jose/Repos/tempo-embeddings/.venv/lib/python3.9/site-packages (from requests->stanza==1.7.0) (3.6)\n",
      "Requirement already satisfied: urllib3<3,>=1.21.1 in /Users/jose/Repos/tempo-embeddings/.venv/lib/python3.9/site-packages (from requests->stanza==1.7.0) (2.1.0)\n",
      "Requirement already satisfied: certifi>=2017.4.17 in /Users/jose/Repos/tempo-embeddings/.venv/lib/python3.9/site-packages (from requests->stanza==1.7.0) (2023.11.17)\n",
      "Requirement already satisfied: MarkupSafe>=2.0 in /Users/jose/Repos/tempo-embeddings/.venv/lib/python3.9/site-packages (from jinja2->torch>=1.3.0->stanza==1.7.0) (2.1.4)\n",
      "Requirement already satisfied: mpmath>=0.19 in /Users/jose/Repos/tempo-embeddings/.venv/lib/python3.9/site-packages (from sympy->torch>=1.3.0->stanza==1.7.0) (1.3.0)\n",
      "\n",
      "\u001b[1m[\u001b[0m\u001b[34;49mnotice\u001b[0m\u001b[1;39;49m]\u001b[0m\u001b[39;49m A new release of pip is available: \u001b[0m\u001b[31;49m24.1.1\u001b[0m\u001b[39;49m -> \u001b[0m\u001b[32;49m24.1.2\u001b[0m\n",
      "\u001b[1m[\u001b[0m\u001b[34;49mnotice\u001b[0m\u001b[1;39;49m]\u001b[0m\u001b[39;49m To update, run: \u001b[0m\u001b[32;49mpip install --upgrade pip\u001b[0m\n",
      "Note: you may need to restart the kernel to use updated packages.\n"
     ]
    }
   ],
   "source": [
    "%pip install stanza==1.7.0"
   ]
  },
  {
   "cell_type": "code",
   "execution_count": 4,
   "metadata": {},
   "outputs": [],
   "source": [
    "nlp_pipeline = None\n",
    "\n",
    "# import stanza\n",
    "# stanza.download('nl')\n",
    "# nlp_pipeline = stanza.Pipeline(\"nl\", processors='tokenize')"
   ]
  },
  {
   "cell_type": "markdown",
   "metadata": {},
   "source": [
    "## Load Data\n",
    "\n",
    "The data needs to be downloaded and provided in the path configured in the next cell.\n",
    "\n",
    "NOTE: You have to manually adapt the `DATA_DIR` below."
   ]
  },
  {
   "cell_type": "code",
   "execution_count": 5,
   "metadata": {},
   "outputs": [],
   "source": [
    "%autoreload now\n",
    "\n",
    "import operator\n",
    "from functools import reduce\n",
    "from pathlib import Path\n",
    "from tqdm import tqdm\n",
    "from tempo_embeddings.text.corpus import Corpus"
   ]
  },
  {
   "cell_type": "code",
   "execution_count": 6,
   "metadata": {},
   "outputs": [
    {
     "data": {
      "text/plain": [
       "['milieuproblemen',\n",
       " 'Milieunormen',\n",
       " 'Milieubeweging ',\n",
       " 'Milieu-aspecten',\n",
       " 'milieueffecten',\n",
       " 'Milieumaatregelen',\n",
       " 'Milieuvriendelijk ',\n",
       " 'Milieubeleid',\n",
       " 'milieuoogpunt',\n",
       " 'koolzuur',\n",
       " 'koolzuurgas',\n",
       " 'stikstofdioxide',\n",
       " 'zwaveldioxide',\n",
       " 'isolatie',\n",
       " 'Rookgassen',\n",
       " 'verzuring',\n",
       " 'Zuinig',\n",
       " 'vervuilde',\n",
       " 'niet-vervuilde',\n",
       " 'luchtvervuiling',\n",
       " 'luchtverontreiniging',\n",
       " 'energieverbruik',\n",
       " 'electriciteitsverbruik',\n",
       " 'energieverspilling',\n",
       " 'isolatie',\n",
       " 'energieverslindend',\n",
       " 'heffing',\n",
       " 'Broeikaseffect',\n",
       " 'broeikas-effect',\n",
       " 'broeikasgassen',\n",
       " 'Energiebesparingsmogelijkheden',\n",
       " 'CO2-uitstoot',\n",
       " 'wereldklimaat']"
      ]
     },
     "execution_count": 6,
     "metadata": {},
     "output_type": "execute_result"
    }
   ],
   "source": [
    "WINDOW_SIZE = 300 # Size of passages in characters\n",
    "USE_FULL_SENTENCES = False # For now, this parameter overrides the window size. Instead of splitting arbitrarily the passages in WINDO_SIZE chunks, each Sentence will be a Passage\n",
    "\n",
    "RANDOM_SAMPLE_ANP = 200\n",
    "RANDOM_SAMPLE_STATEN_GENERAAL = 200\n",
    "\n",
    "STATEN_GENERAAL_BLACKLIST = [\"1987\"]\n",
    "\n",
    "FILTER_TERMS = [\"duurzaam\", \"milieu\"]  # Search term(s) for filtering the corpus. If empty, it will only create Passages for the pieces of text that match the FILTER_TERMS\n",
    "FILTER_TERMS = open(\"sustainability-filter-words.txt\").read().split(\"\\n\")\n",
    "FILTER_TERMS"
   ]
  },
  {
   "cell_type": "code",
   "execution_count": 7,
   "metadata": {},
   "outputs": [],
   "source": [
    "## NOTE: Adapt the `DATA_DIR` below manually!\n",
    "## For a shared Google Drive, create a shortcut into your own Google Drive\n",
    "## See https://stackoverflow.com/questions/54351852/accessing-shared-with-me-with-colab\n",
    "\n",
    "try:\n",
    "    import google.colab\n",
    "    IN_COLAB = True\n",
    "except ModuleNotFoundError:\n",
    "    IN_COLAB = False\n",
    "\n",
    "LOCAL_PATHS: list[Path] = [\n",
    "    Path.home() / \"Documents\" / \"SemanticsOfSustainability\" / \"data\" / \"Joris\",\n",
    "    Path.home() / \"SEED_DATA\" / \"SemanticsSustainability\", # local angel\n",
    "    Path(\"/data/volume_2/data\"),  # Research Cloud\n",
    "    Path(\"/data/storage-semantics-of-sustainability/data/\"), # New Research Cloud\n",
    "    Path(\"/home/cschnober/data/\"),  # Snellius\n",
    "]\n",
    "\n",
    "if IN_COLAB:\n",
    "    from google.colab import drive\n",
    "\n",
    "    drive.mount(\"/content/drive\")\n",
    "\n",
    "    DATA_DIR = Path(\"/content/drive/MyDrive/Data/\")\n",
    "else:\n",
    "    try:\n",
    "        DATA_DIR = next(path for path in LOCAL_PATHS if path.is_dir())\n",
    "    except StopIteration as e:\n",
    "        raise DirectoryNotFoundError(f\"Data directory not found.\") from e\n",
    "\n",
    "assert DATA_DIR.is_dir(), f\"Data dir '{DATA_DIR}' not found.\""
   ]
  },
  {
   "cell_type": "markdown",
   "metadata": {},
   "source": [
    "### ANP"
   ]
  },
  {
   "cell_type": "code",
   "execution_count": 8,
   "metadata": {},
   "outputs": [],
   "source": [
    "ANP_DIR = DATA_DIR / \"ANP\"\n",
    "assert RANDOM_SAMPLE_ANP == 0 or ANP_DIR.is_dir(), f\"{ANP_DIR} not found.\""
   ]
  },
  {
   "cell_type": "code",
   "execution_count": 9,
   "metadata": {},
   "outputs": [
    {
     "name": "stdout",
     "output_type": "stream",
     "text": [
      "Found 2 ANP Files\n"
     ]
    },
    {
     "data": {
      "text/plain": [
       "[PosixPath('/Users/jose/SEED_DATA/SemanticsSustainability/ANP/ANP_1983.csv.gz'),\n",
       " PosixPath('/Users/jose/SEED_DATA/SemanticsSustainability/ANP/ANP_1984.csv.gz')]"
      ]
     },
     "execution_count": 9,
     "metadata": {},
     "output_type": "execute_result"
    }
   ],
   "source": [
    "import random\n",
    "\n",
    "\n",
    "random.seed(0)\n",
    "\n",
    "anp_files = list(ANP_DIR.glob(\"ANP_????.csv.gz\"))\n",
    "\n",
    "if RANDOM_SAMPLE_ANP and len(anp_files) > RANDOM_SAMPLE_ANP:\n",
    "    anp_files = random.sample(\n",
    "        list(ANP_DIR.glob(\"ANP_????.csv.gz\")), k=RANDOM_SAMPLE_ANP\n",
    "    )\n",
    "\n",
    "print(f\"Found {len(anp_files)} ANP Files\")\n",
    "anp_files[:10]"
   ]
  },
  {
   "cell_type": "code",
   "execution_count": 10,
   "metadata": {},
   "outputs": [
    {
     "name": "stderr",
     "output_type": "stream",
     "text": [
      "100%|██████████| 2/2 [00:07<00:00,  3.77s/file]\n"
     ]
    },
    {
     "data": {
      "text/plain": [
       "4934"
      ]
     },
     "execution_count": 10,
     "metadata": {},
     "output_type": "execute_result"
    }
   ],
   "source": [
    "anp_corpus = (\n",
    "    reduce(\n",
    "        operator.add,\n",
    "        (\n",
    "            Corpus.from_csv_file(\n",
    "                path,\n",
    "                filter_terms=FILTER_TERMS,\n",
    "                text_columns=[\"content\"],\n",
    "                encoding=\"iso8859_15\",\n",
    "                compression=\"gzip\",\n",
    "                delimiter=\";\",\n",
    "                window_size=WINDOW_SIZE,\n",
    "                nlp_pipeline=nlp_pipeline\n",
    "            )\n",
    "            for path in tqdm(anp_files, unit=\"file\")\n",
    "        ),\n",
    "    )\n",
    "    if anp_files\n",
    "    else Corpus()\n",
    ")\n",
    "\n",
    "len(anp_corpus)"
   ]
  },
  {
   "cell_type": "code",
   "execution_count": 11,
   "metadata": {},
   "outputs": [
    {
     "name": "stdout",
     "output_type": "stream",
     "text": [
      "214\n"
     ]
    },
    {
     "data": {
      "text/html": [
       "drukt minister Lambsdorff de consumenten aj 9. op het hart niet teveel te be<b>zuinig</b>en, omdat een mogelijk herstel 10. van de economie daardoor kan word& n vertraagd. 11. * 12 13. 14. 15. Bron: .' Regets: ^35 ^ ^' 09"
      ],
      "text/plain": [
       "<IPython.core.display.HTML object>"
      ]
     },
     "metadata": {},
     "output_type": "display_data"
    },
    {
     "name": "stdout",
     "output_type": "stream",
     "text": [
      "172\n"
     ]
    },
    {
     "data": {
      "text/html": [
       "Lambsdorff de consumenten at  9.  op het hart niet teveel te be<b>zuinig</b>en, omdat een mogelijk herstel  10  van de economie daardoor kan wordAf) vertraagd.  Bron:,  Regels:  ^"
      ],
      "text/plain": [
       "<IPython.core.display.HTML object>"
      ]
     },
     "metadata": {},
     "output_type": "display_data"
    },
    {
     "name": "stdout",
     "output_type": "stream",
     "text": [
      "301\n"
     ]
    },
    {
     "data": {
      "text/html": [
       "Red.  duijv  Datum:  3 1 8^  Tijd: Onderwerp: 2230 minder stroomverbruik  3.  Het <b>electriciteitsverbruik</b> in Nederland is het afgelopen jaar gedaald met 2 komma 2 procent in vergelijking met 1981. Die daling is nog groter dan enkele maanden geleden werd verwacht. De vermindering van het stroomverbruik"
      ],
      "text/plain": [
       "<IPython.core.display.HTML object>"
      ]
     },
     "metadata": {},
     "output_type": "display_data"
    },
    {
     "name": "stdout",
     "output_type": "stream",
     "text": [
      "299\n"
     ]
    },
    {
     "data": {
      "text/html": [
       "Red.: Datum: Tijd: Onderwerp: duljv 3 1 82 2390 minder stroomverbruik  2.  3.  7.  10.  11.  12  13.  14.  15.  Het <b>electriciteitsverbruik</b> in Nederland is het afgelopen jaar gedaald met 2 komma 2 procent in vergelijking met 1981. Die daling is nog groter dan enkele maanden geleden werd verwacht. De"
      ],
      "text/plain": [
       "<IPython.core.display.HTML object>"
      ]
     },
     "metadata": {},
     "output_type": "display_data"
    },
    {
     "name": "stdout",
     "output_type": "stream",
     "text": [
      "309\n"
     ]
    },
    {
     "data": {
      "text/html": [
       "hiermee  tegen de beperking die is gesteld aan het overajèrk.  <*Vt?Trw!*v^v + trvon-. v-- = v + -. it-VTyn-lr<. *  !U Uùi per Man' ^ei?maane)  Door deze be<b>zuinig</b>ingsmaatregel is het  volgens de protesterende politiemensen onmogelijk het werk  naar behoren te verrichten. Door de maatregel mogen  rechercheurs"
      ],
      "text/plain": [
       "<IPython.core.display.HTML object>"
      ]
     },
     "metadata": {},
     "output_type": "display_data"
    },
    {
     "name": "stdout",
     "output_type": "stream",
     "text": [
      "305\n"
     ]
    },
    {
     "data": {
      "text/html": [
       "Red.  Datum:  Tijd:  aup 4-1-. 83  Onderwerp:  Tweederangs  3.  Kamervoorzitter Dolman verwacht dat de leden van de tweede kamer bereid zullen zijn tweede-klas te reizen in plaats van eerste, waardoor ze een bf^dragèfleveren aan de be<b>zuinig</b>ingen. Hij zei dit in zijn nieuwjaarsgesprek met de parlementaire"
      ],
      "text/plain": [
       "<IPython.core.display.HTML object>"
      ]
     },
     "metadata": {},
     "output_type": "display_data"
    },
    {
     "name": "stdout",
     "output_type": "stream",
     "text": [
      "307\n"
     ]
    },
    {
     "data": {
      "text/html": [
       "Red.  <^a*.  Datum:  ?-/-%z.  Tijd:  Onderwerp:  /3%/Ji  ^-  De voorzitter van de tweede kamer, de heer Dolman, verwacht dat ^ / ^ de tweedekamerleden bereid zijn hun bijdrage aan de be<b>zuinig</b>ingen  3.  te leveren, door voortaan tweede' inplaats van eerste klas te gaan  ^  reizen. Maar dan* moet de regering"
      ],
      "text/plain": [
       "<IPython.core.display.HTML object>"
      ]
     },
     "metadata": {},
     "output_type": "display_data"
    },
    {
     "name": "stdout",
     "output_type": "stream",
     "text": [
      "305\n"
     ]
    },
    {
     "data": {
      "text/html": [
       "Red.: ^Rtum: Tijd: OnoHrwerp:  ;io^ ^U: ó3 -%( ^) ^^-^^^  De voorzitter van de tweede kamer, de heer Dolman, verwacht dat de tweed^ekamerleden bereid zijn hun bijdrage aan de be<b>zuinig</b>ingen te leveren, door voortaan tweede inplaats van eerste klas te gaan 4 reizen. Maar dan- moet de regering dat voorbeeld"
      ],
      "text/plain": [
       "<IPython.core.display.HTML object>"
      ]
     },
     "metadata": {},
     "output_type": "display_data"
    },
    {
     "name": "stdout",
     "output_type": "stream",
     "text": [
      "302\n"
     ]
    },
    {
     "data": {
      "text/html": [
       "politiemensen  protesteren hiermee tegen de beperking die is gesteld aan  het overwerk. Door deze be<b>zuinig</b>ingsmaatregel is het volgens de protesterende politiemensen onmogelijk het werk naar behoren  te verrichten. Door de beperking mogen rechercheurs nog  20 uur per maand overwerken in/plaats van 50^"
      ],
      "text/plain": [
       "<IPython.core.display.HTML object>"
      ]
     },
     "metadata": {},
     "output_type": "display_data"
    },
    {
     "name": "stdout",
     "output_type": "stream",
     "text": [
      "312\n"
     ]
    },
    {
     "data": {
      "text/html": [
       "Red.:  Tijd:  aâKr  OndëSâHrp:  kreek 4. 1. 83  I800  enkele punten  4.  7.  9.  De vroegere president van Suriname, Chin A Sen, heeft in Den  Haag te horen gekregen dat de Nederlandse regering volstrekt  tegen de vorming is/van een Surinaamse regering-in-ballingschap.  Uit protest tegen be<b>zuinig</b>ingsmaatregelen"
      ],
      "text/plain": [
       "<IPython.core.display.HTML object>"
      ]
     },
     "metadata": {},
     "output_type": "display_data"
    },
    {
     "name": "stdout",
     "output_type": "stream",
     "text": [
      "304\n"
     ]
    },
    {
     "data": {
      "text/html": [
       "be<b>zuinig</b>ingsmaatregelen hebben rechercheurs  ^  van de politie in Amsterdam besloten helemaal geen overwerk meer  te doen.  De gasbedrijven vinden dat in ons land de aardgasprajs omlaag  10. 11. moet, als de olieprijzen verder dalen. 12. Turkse asielzoekers mogen in ons land blijven tot er een beslis13-"
      ],
      "text/plain": [
       "<IPython.core.display.HTML object>"
      ]
     },
     "metadata": {},
     "output_type": "display_data"
    },
    {
     "name": "stdout",
     "output_type": "stream",
     "text": [
      "317\n"
     ]
    },
    {
     "data": {
      "text/html": [
       "protesteren hiermee tegen de beperking die is gesteld aan het overwerk. Door deze be<b>zuinig</b>ingsmaatregel is het volgens de protesterende politiemensen onmogelijk het werk naar behoren te verrichten. Door de beperking mogen rechercheurs nog maar 20 uur per maand overwerken in plaats van 50. Bij de vreemdelingendienst-"
      ],
      "text/plain": [
       "<IPython.core.display.HTML object>"
      ]
     },
     "metadata": {},
     "output_type": "display_data"
    },
    {
     "name": "stdout",
     "output_type": "stream",
     "text": [
      "300\n"
     ]
    },
    {
     "data": {
      "text/html": [
       "be<b>zuinig</b>ingsmaatregel-  maakt het volgens de protesterende politiemensen onmogelijk om het werk goed te doen. Hoofdcommissaris Valken heeft laten weten, de moeilijkheden te onderkennen, maar te vinden dat ook onder de huidige moeilijke omstandigheden de amsterdamse politie haar taak zo goed mogelijk"
      ],
      "text/plain": [
       "<IPython.core.display.HTML object>"
      ]
     },
     "metadata": {},
     "output_type": "display_data"
    },
    {
     "name": "stdout",
     "output_type": "stream",
     "text": [
      "306\n"
     ]
    },
    {
     "data": {
      "text/html": [
       "Red.  Datum:  Tijd:  Onderwerp:  kuy  4-1-83  2^-2-1?  gevang  1.  Als gevolg van be<b>zuinig</b>ingen in het gevangeniswezen zullen'  2.  gedetineerden in de toekomst minder bewegingsvrijheid krijgen  3.  4 * ^  De capaciteit van het gevangeniswezen zal dit jaar en volgend  4.  met 20 procent worden uitgebreid,"
      ],
      "text/plain": [
       "<IPython.core.display.HTML object>"
      ]
     },
     "metadata": {},
     "output_type": "display_data"
    },
    {
     "name": "stdout",
     "output_type": "stream",
     "text": [
      "107\n"
     ]
    },
    {
     "data": {
      "text/html": [
       "staaatsecretaris Korte gezegd  9.  in een toelichting op de voorgenomen be<b>zuinig</b>ingen.  Bron:  Regels:  anp"
      ],
      "text/plain": [
       "<IPython.core.display.HTML object>"
      ]
     },
     "metadata": {},
     "output_type": "display_data"
    },
    {
     "name": "stdout",
     "output_type": "stream",
     "text": [
      "301\n"
     ]
    },
    {
     "data": {
      "text/html": [
       "enkele amsterdamse bureaux was besloten, vanaf vandaag geen overwerk meer te doen uit  toeprotest-  toeprotest tegen het - uit be<b>zuinig</b>ing - beperken van het \\aantal uren/ gestane/uren overwerk. Hoofdcommissaris Valken erkent dat dit  problemen kan opleveren, maar vindt dat ook in moeilijke tijden de"
      ],
      "text/plain": [
       "<IPython.core.display.HTML object>"
      ]
     },
     "metadata": {},
     "output_type": "display_data"
    },
    {
     "name": "stdout",
     "output_type": "stream",
     "text": [
      "300\n"
     ]
    },
    {
     "data": {
      "text/html": [
       "Red.:  duüv  Datum:  4 1 83  Tijd:  23-24  Onderwerp:  nws samenxaiting -2  2.  3.  5.  10.  11  12  13.  14.  15.  A-Sen. - De oprichting is gebeurd in samenwerking met Surinaamse organisaties in Nederland. -yL Be<b>zuinig</b>ingen in het gevangenis wezen zullen leiden tot minder bewegingsvrijheid voor de"
      ],
      "text/plain": [
       "<IPython.core.display.HTML object>"
      ]
     },
     "metadata": {},
     "output_type": "display_data"
    },
    {
     "name": "stdout",
     "output_type": "stream",
     "text": [
      "305\n"
     ]
    },
    {
     "data": {
      "text/html": [
       "Red.  kuy  Datum:  4-1-83  Tijd:  Onderwerp: gevang  10.  11.  12  13  14.  15.  Als gevolg van be<b>zuinig</b>ingen in het gevangeniswezen zullen'  gedetineerden in de toekomst minder bewegingsvrijheid krijgen  6.  7.  4* ^  De capacitett van het gevangeniswezen zal dit jaar en. volgend!^ met 20 procent worden"
      ],
      "text/plain": [
       "<IPython.core.display.HTML object>"
      ]
     },
     "metadata": {},
     "output_type": "display_data"
    },
    {
     "name": "stdout",
     "output_type": "stream",
     "text": [
      "83\n"
     ]
    },
    {
     "data": {
      "text/html": [
       "gezegd in een toelichting op de voorgenomen be<b>zuinig</b>ingen. - -  Bron:  pegels:  anp"
      ],
      "text/plain": [
       "<IPython.core.display.HTML object>"
      ]
     },
     "metadata": {},
     "output_type": "display_data"
    },
    {
     "name": "stdout",
     "output_type": "stream",
     "text": [
      "303\n"
     ]
    },
    {
     "data": {
      "text/html": [
       "beperking die is gesteld aan  9.  10.  11.  12  13.  14.  15.  het overwerk. Door deze be<b>zuinig</b>ingsmaatregel is het volgens  de protesterende politiemensen onmogelijk het werk naar behoren  te verrichten. r<..... t' 1^ r^pp^r^ln^ nt'\" jMn t^rh^rrhwurs nog maaj*  20 uur per maand Bverwerken^in plaatsman"
      ],
      "text/plain": [
       "<IPython.core.display.HTML object>"
      ]
     },
     "metadata": {},
     "output_type": "display_data"
    }
   ],
   "source": [
    "from IPython.display import HTML\n",
    "for p in anp_corpus.passages[:20]:\n",
    "    print(len(p.text))\n",
    "    display(HTML(p.highlighted_text()))"
   ]
  },
  {
   "cell_type": "markdown",
   "metadata": {},
   "source": [
    "### Staten Generaal"
   ]
  },
  {
   "cell_type": "code",
   "execution_count": 12,
   "metadata": {},
   "outputs": [],
   "source": [
    "STATEN_GENERAAL_DIR = DATA_DIR / \"StatenGeneraal\"\n",
    "\n",
    "assert RANDOM_SAMPLE_STATEN_GENERAAL == 0 or STATEN_GENERAAL_DIR.is_dir()"
   ]
  },
  {
   "cell_type": "code",
   "execution_count": 13,
   "metadata": {},
   "outputs": [
    {
     "name": "stdout",
     "output_type": "stream",
     "text": [
      "Found 2 STAATEN_G Files\n"
     ]
    },
    {
     "data": {
      "text/plain": [
       "[PosixPath('/Users/jose/SEED_DATA/SemanticsSustainability/StatenGeneraal/StatenGeneraal_2017.csv.gz'),\n",
       " PosixPath('/Users/jose/SEED_DATA/SemanticsSustainability/StatenGeneraal/StatenGeneraal_2018.csv.gz')]"
      ]
     },
     "execution_count": 13,
     "metadata": {},
     "output_type": "execute_result"
    }
   ],
   "source": [
    "glob195x = \"StatenGeneraal_19[0-9]?.csv.gz\"  # Pattern for files from 1950-1999\n",
    "glob20xx = \"StatenGeneraal_2???.csv.gz\"  # Pattern for files from 2000\n",
    "\n",
    "files_195x = list(STATEN_GENERAAL_DIR.glob(glob195x))\n",
    "files_20xx = list(STATEN_GENERAAL_DIR.glob(glob20xx))\n",
    "\n",
    "sg_files = [\n",
    "    file\n",
    "    # Merge files from patterns\n",
    "    for file in files_20xx + files_195x\n",
    "    # Remove blacklisted files:\n",
    "    for blacklisted in STATEN_GENERAAL_BLACKLIST\n",
    "    if blacklisted not in file.name\n",
    "]\n",
    "\n",
    "if RANDOM_SAMPLE_STATEN_GENERAAL and RANDOM_SAMPLE_STATEN_GENERAAL < len(sg_files):\n",
    "    sg_files = random.sample(sg_files, k=RANDOM_SAMPLE_STATEN_GENERAAL)\n",
    "\n",
    "print(f\"Found {len(sg_files)} STAATEN_G Files\")\n",
    "sorted(sg_files[:10])"
   ]
  },
  {
   "cell_type": "code",
   "execution_count": 14,
   "metadata": {},
   "outputs": [
    {
     "name": "stderr",
     "output_type": "stream",
     "text": [
      "100%|██████████| 2/2 [00:14<00:00,  7.43s/file]\n"
     ]
    },
    {
     "data": {
      "text/plain": [
       "5303"
      ]
     },
     "execution_count": 14,
     "metadata": {},
     "output_type": "execute_result"
    }
   ],
   "source": [
    "%autoreload now\n",
    "\n",
    "import csv\n",
    "\n",
    "csv.field_size_limit(100000000)\n",
    "\n",
    "sg_corpus = (\n",
    "    reduce(\n",
    "        operator.add,\n",
    "        (\n",
    "            Corpus.from_csv_file(\n",
    "                path,\n",
    "                filter_terms=FILTER_TERMS,\n",
    "                text_columns=[\"Content\"],\n",
    "                encoding=\"utf-8\",\n",
    "                compression=\"gzip\",\n",
    "                delimiter=\";\",\n",
    "                window_size=WINDOW_SIZE,\n",
    "                nlp_pipeline=nlp_pipeline\n",
    "            )\n",
    "            for path in tqdm(sg_files, unit=\"file\")\n",
    "        ),\n",
    "    )\n",
    "    if sg_files\n",
    "    else Corpus()\n",
    ")\n",
    "\n",
    "len(sg_corpus)"
   ]
  },
  {
   "cell_type": "markdown",
   "metadata": {},
   "source": [
    "### Show the Passages that were created in the corpus"
   ]
  },
  {
   "cell_type": "code",
   "execution_count": 15,
   "metadata": {},
   "outputs": [
    {
     "name": "stdout",
     "output_type": "stream",
     "text": [
      "303 Passage('vegetarische schnitzels en vegetarische worsten is het een gotspe om te pleiten voor vermindering van regeldruk en voorschriften bij de bescherming van natuur en milieu. Een veel te hoog percentage milieueffectenrapporten, 63% tot 66%, toonde vanaf 2012 essentiële tekortkomingen. Het kost tijd, energie', {'': '204', 'RecId': 'h-ek-20162017-14-3', 'chamber': 'EersteKamer', 'date': '2017-01-17', 'speakers': 'De voorzitter :|Mevrouw Teunissen ( PvdD ):|Mevrouw Vos ( GroenLinks ):|De heer Van Hattem ( PVV ):|Mevrouw Stienen ( D66 ):|De heer Verheijen ( PvdA ):|Mevrouw Meijer ( SP ):|De voorzitter :|Minister Schultz van Haegen-Maas Geesteranus :|Mevrouw Vos ( GroenLinks ):|Minister Schultz van Haegen-Maas Geesteranus :|Mevrouw Vos ( GroenLinks ):|Minister Schultz van Haegen-Maas Geesteranus :|De heer Verheijen ( PvdA ):|Minister Schultz van Haegen-Maas Geesteranus :|De heer Verheijen ( PvdA ):|Minister Schultz van Haegen-Maas Geesteranus :|De heer Van Hattem ( PVV ):|Minister Schultz van Haegen-Maas Geesteranus :|De heer Van Hattem ( PVV ):|Minister Schultz van Haegen-Maas Geesteranus :|Minister Schultz van Haegen-Maas Geesteranus :|De heer Van Hattem ( PVV ):|Minister Schultz van Haegen-Maas Geesteranus :|De heer Van Hattem ( PVV ):|Minister Schultz van Haegen-Maas Geesteranus :|De voorzitter :|De heer Van Hattem ( PVV ):|Minister Schultz van Haegen-Maas Geesteranus :|De heer Verheijen ( PvdA ):|Minister Schultz van Haegen-Maas Geesteranus :|De heer Verheijen ( PvdA ):|Minister Schultz van Haegen-Maas Geesteranus :|De voorzitter :|De heer Van Hattem ( PVV ):|Minister Schultz van Haegen-Maas Geesteranus :|De heer Van Hattem ( PVV ):|Minister Schultz van Haegen-Maas Geesteranus :', 'title': 'handelingen', 'year': '2017'}, Highlighting(start=198, end=212))\n",
      "308 Passage('het milieueffectenrapport waren niet alle Natura 2000-gebieden opgenomen. Een slepende kwestie. En dit is een van de vele voorbeelden van een langdurig proces waarbij de kwaliteit van de rapporten tekortschiet. Daarnaast vertroebelt de lage kwaliteit van milieueffectenrapporten de maatschappelijke discussie', {'': '204', 'RecId': 'h-ek-20162017-14-3', 'chamber': 'EersteKamer', 'date': '2017-01-17', 'speakers': 'De voorzitter :|Mevrouw Teunissen ( PvdD ):|Mevrouw Vos ( GroenLinks ):|De heer Van Hattem ( PVV ):|Mevrouw Stienen ( D66 ):|De heer Verheijen ( PvdA ):|Mevrouw Meijer ( SP ):|De voorzitter :|Minister Schultz van Haegen-Maas Geesteranus :|Mevrouw Vos ( GroenLinks ):|Minister Schultz van Haegen-Maas Geesteranus :|Mevrouw Vos ( GroenLinks ):|Minister Schultz van Haegen-Maas Geesteranus :|De heer Verheijen ( PvdA ):|Minister Schultz van Haegen-Maas Geesteranus :|De heer Verheijen ( PvdA ):|Minister Schultz van Haegen-Maas Geesteranus :|De heer Van Hattem ( PVV ):|Minister Schultz van Haegen-Maas Geesteranus :|De heer Van Hattem ( PVV ):|Minister Schultz van Haegen-Maas Geesteranus :|Minister Schultz van Haegen-Maas Geesteranus :|De heer Van Hattem ( PVV ):|Minister Schultz van Haegen-Maas Geesteranus :|De heer Van Hattem ( PVV ):|Minister Schultz van Haegen-Maas Geesteranus :|De voorzitter :|De heer Van Hattem ( PVV ):|Minister Schultz van Haegen-Maas Geesteranus :|De heer Verheijen ( PvdA ):|Minister Schultz van Haegen-Maas Geesteranus :|De heer Verheijen ( PvdA ):|Minister Schultz van Haegen-Maas Geesteranus :|De voorzitter :|De heer Van Hattem ( PVV ):|Minister Schultz van Haegen-Maas Geesteranus :|De heer Van Hattem ( PVV ):|Minister Schultz van Haegen-Maas Geesteranus :', 'title': 'handelingen', 'year': '2017'}, Highlighting(start=4, end=18))\n",
      "308 Passage('het milieueffectenrapport waren niet alle Natura 2000-gebieden opgenomen. Een slepende kwestie. En dit is een van de vele voorbeelden van een langdurig proces waarbij de kwaliteit van de rapporten tekortschiet. Daarnaast vertroebelt de lage kwaliteit van milieueffectenrapporten de maatschappelijke discussie', {'': '204', 'RecId': 'h-ek-20162017-14-3', 'chamber': 'EersteKamer', 'date': '2017-01-17', 'speakers': 'De voorzitter :|Mevrouw Teunissen ( PvdD ):|Mevrouw Vos ( GroenLinks ):|De heer Van Hattem ( PVV ):|Mevrouw Stienen ( D66 ):|De heer Verheijen ( PvdA ):|Mevrouw Meijer ( SP ):|De voorzitter :|Minister Schultz van Haegen-Maas Geesteranus :|Mevrouw Vos ( GroenLinks ):|Minister Schultz van Haegen-Maas Geesteranus :|Mevrouw Vos ( GroenLinks ):|Minister Schultz van Haegen-Maas Geesteranus :|De heer Verheijen ( PvdA ):|Minister Schultz van Haegen-Maas Geesteranus :|De heer Verheijen ( PvdA ):|Minister Schultz van Haegen-Maas Geesteranus :|De heer Van Hattem ( PVV ):|Minister Schultz van Haegen-Maas Geesteranus :|De heer Van Hattem ( PVV ):|Minister Schultz van Haegen-Maas Geesteranus :|Minister Schultz van Haegen-Maas Geesteranus :|De heer Van Hattem ( PVV ):|Minister Schultz van Haegen-Maas Geesteranus :|De heer Van Hattem ( PVV ):|Minister Schultz van Haegen-Maas Geesteranus :|De voorzitter :|De heer Van Hattem ( PVV ):|Minister Schultz van Haegen-Maas Geesteranus :|De heer Verheijen ( PvdA ):|Minister Schultz van Haegen-Maas Geesteranus :|De heer Verheijen ( PvdA ):|Minister Schultz van Haegen-Maas Geesteranus :|De voorzitter :|De heer Van Hattem ( PVV ):|Minister Schultz van Haegen-Maas Geesteranus :|De heer Van Hattem ( PVV ):|Minister Schultz van Haegen-Maas Geesteranus :', 'title': 'handelingen', 'year': '2017'}, Highlighting(start=255, end=269))\n",
      "308 Passage('discussie over de wenselijkheid van bepaalde projecten. Die discussie kan aan de voorkant niet goed gevoerd worden als goede, onafhankelijke wetenschappelijke informatie over de milieueffecten ontbreekt. Onduidelijk is bovendien wat er nu bedoeld wordt met \"bekwame deskundigen\" en \"voldoende deskundigheid\".', {'': '204', 'RecId': 'h-ek-20162017-14-3', 'chamber': 'EersteKamer', 'date': '2017-01-17', 'speakers': 'De voorzitter :|Mevrouw Teunissen ( PvdD ):|Mevrouw Vos ( GroenLinks ):|De heer Van Hattem ( PVV ):|Mevrouw Stienen ( D66 ):|De heer Verheijen ( PvdA ):|Mevrouw Meijer ( SP ):|De voorzitter :|Minister Schultz van Haegen-Maas Geesteranus :|Mevrouw Vos ( GroenLinks ):|Minister Schultz van Haegen-Maas Geesteranus :|Mevrouw Vos ( GroenLinks ):|Minister Schultz van Haegen-Maas Geesteranus :|De heer Verheijen ( PvdA ):|Minister Schultz van Haegen-Maas Geesteranus :|De heer Verheijen ( PvdA ):|Minister Schultz van Haegen-Maas Geesteranus :|De heer Van Hattem ( PVV ):|Minister Schultz van Haegen-Maas Geesteranus :|De heer Van Hattem ( PVV ):|Minister Schultz van Haegen-Maas Geesteranus :|Minister Schultz van Haegen-Maas Geesteranus :|De heer Van Hattem ( PVV ):|Minister Schultz van Haegen-Maas Geesteranus :|De heer Van Hattem ( PVV ):|Minister Schultz van Haegen-Maas Geesteranus :|De voorzitter :|De heer Van Hattem ( PVV ):|Minister Schultz van Haegen-Maas Geesteranus :|De heer Verheijen ( PvdA ):|Minister Schultz van Haegen-Maas Geesteranus :|De heer Verheijen ( PvdA ):|Minister Schultz van Haegen-Maas Geesteranus :|De voorzitter :|De heer Van Hattem ( PVV ):|Minister Schultz van Haegen-Maas Geesteranus :|De heer Van Hattem ( PVV ):|Minister Schultz van Haegen-Maas Geesteranus :', 'title': 'handelingen', 'year': '2017'}, Highlighting(start=178, end=192))\n",
      "306 Passage('deskundigheid\". Waar zijn de criteria waaruit kan worden afgeleid wie een betrouwbare partij is voor het opstellen van een milieueffectenrapport? Graag een reactie van de minister. Hoe gaat de minister een betere kwaliteit borgen? Hoe gaat zij ervoor zorgen dat het veel te hoge percentage tekortschietende', {'': '204', 'RecId': 'h-ek-20162017-14-3', 'chamber': 'EersteKamer', 'date': '2017-01-17', 'speakers': 'De voorzitter :|Mevrouw Teunissen ( PvdD ):|Mevrouw Vos ( GroenLinks ):|De heer Van Hattem ( PVV ):|Mevrouw Stienen ( D66 ):|De heer Verheijen ( PvdA ):|Mevrouw Meijer ( SP ):|De voorzitter :|Minister Schultz van Haegen-Maas Geesteranus :|Mevrouw Vos ( GroenLinks ):|Minister Schultz van Haegen-Maas Geesteranus :|Mevrouw Vos ( GroenLinks ):|Minister Schultz van Haegen-Maas Geesteranus :|De heer Verheijen ( PvdA ):|Minister Schultz van Haegen-Maas Geesteranus :|De heer Verheijen ( PvdA ):|Minister Schultz van Haegen-Maas Geesteranus :|De heer Van Hattem ( PVV ):|Minister Schultz van Haegen-Maas Geesteranus :|De heer Van Hattem ( PVV ):|Minister Schultz van Haegen-Maas Geesteranus :|Minister Schultz van Haegen-Maas Geesteranus :|De heer Van Hattem ( PVV ):|Minister Schultz van Haegen-Maas Geesteranus :|De heer Van Hattem ( PVV ):|Minister Schultz van Haegen-Maas Geesteranus :|De voorzitter :|De heer Van Hattem ( PVV ):|Minister Schultz van Haegen-Maas Geesteranus :|De heer Verheijen ( PvdA ):|Minister Schultz van Haegen-Maas Geesteranus :|De heer Verheijen ( PvdA ):|Minister Schultz van Haegen-Maas Geesteranus :|De voorzitter :|De heer Van Hattem ( PVV ):|Minister Schultz van Haegen-Maas Geesteranus :|De heer Van Hattem ( PVV ):|Minister Schultz van Haegen-Maas Geesteranus :', 'title': 'handelingen', 'year': '2017'}, Highlighting(start=123, end=137))\n",
      "305 Passage('milieueffectrapportage door de Commissie m.e.r. draagt bij aan kwalitatief goede kennis en informatie over onder andere milieueffecten, en daarmee aan een goede besluitvorming. Laat dat dus niet over aan de goede wil van het bevoegd gezag, maar leg het vast in de wet. Ook voor de participatie van burgers', {'': '204', 'RecId': 'h-ek-20162017-14-3', 'chamber': 'EersteKamer', 'date': '2017-01-17', 'speakers': 'De voorzitter :|Mevrouw Teunissen ( PvdD ):|Mevrouw Vos ( GroenLinks ):|De heer Van Hattem ( PVV ):|Mevrouw Stienen ( D66 ):|De heer Verheijen ( PvdA ):|Mevrouw Meijer ( SP ):|De voorzitter :|Minister Schultz van Haegen-Maas Geesteranus :|Mevrouw Vos ( GroenLinks ):|Minister Schultz van Haegen-Maas Geesteranus :|Mevrouw Vos ( GroenLinks ):|Minister Schultz van Haegen-Maas Geesteranus :|De heer Verheijen ( PvdA ):|Minister Schultz van Haegen-Maas Geesteranus :|De heer Verheijen ( PvdA ):|Minister Schultz van Haegen-Maas Geesteranus :|De heer Van Hattem ( PVV ):|Minister Schultz van Haegen-Maas Geesteranus :|De heer Van Hattem ( PVV ):|Minister Schultz van Haegen-Maas Geesteranus :|Minister Schultz van Haegen-Maas Geesteranus :|De heer Van Hattem ( PVV ):|Minister Schultz van Haegen-Maas Geesteranus :|De heer Van Hattem ( PVV ):|Minister Schultz van Haegen-Maas Geesteranus :|De voorzitter :|De heer Van Hattem ( PVV ):|Minister Schultz van Haegen-Maas Geesteranus :|De heer Verheijen ( PvdA ):|Minister Schultz van Haegen-Maas Geesteranus :|De heer Verheijen ( PvdA ):|Minister Schultz van Haegen-Maas Geesteranus :|De voorzitter :|De heer Van Hattem ( PVV ):|Minister Schultz van Haegen-Maas Geesteranus :|De heer Van Hattem ( PVV ):|Minister Schultz van Haegen-Maas Geesteranus :', 'title': 'handelingen', 'year': '2017'}, Highlighting(start=120, end=134))\n",
      "305 Passage('onafhankelijke toetsing van de milieueffectrapportage zeer belangrijk. Burgers staan al op achterstand ten opzichte van initiatiefnemers en overheden. Voor hen is een onafhankelijke toetsing van de informatie over een project, de milieueffecten en de mogelijke alternatieven heel belangrijk. Het versterkt', {'': '204', 'RecId': 'h-ek-20162017-14-3', 'chamber': 'EersteKamer', 'date': '2017-01-17', 'speakers': 'De voorzitter :|Mevrouw Teunissen ( PvdD ):|Mevrouw Vos ( GroenLinks ):|De heer Van Hattem ( PVV ):|Mevrouw Stienen ( D66 ):|De heer Verheijen ( PvdA ):|Mevrouw Meijer ( SP ):|De voorzitter :|Minister Schultz van Haegen-Maas Geesteranus :|Mevrouw Vos ( GroenLinks ):|Minister Schultz van Haegen-Maas Geesteranus :|Mevrouw Vos ( GroenLinks ):|Minister Schultz van Haegen-Maas Geesteranus :|De heer Verheijen ( PvdA ):|Minister Schultz van Haegen-Maas Geesteranus :|De heer Verheijen ( PvdA ):|Minister Schultz van Haegen-Maas Geesteranus :|De heer Van Hattem ( PVV ):|Minister Schultz van Haegen-Maas Geesteranus :|De heer Van Hattem ( PVV ):|Minister Schultz van Haegen-Maas Geesteranus :|Minister Schultz van Haegen-Maas Geesteranus :|De heer Van Hattem ( PVV ):|Minister Schultz van Haegen-Maas Geesteranus :|De heer Van Hattem ( PVV ):|Minister Schultz van Haegen-Maas Geesteranus :|De voorzitter :|De heer Van Hattem ( PVV ):|Minister Schultz van Haegen-Maas Geesteranus :|De heer Verheijen ( PvdA ):|Minister Schultz van Haegen-Maas Geesteranus :|De heer Verheijen ( PvdA ):|Minister Schultz van Haegen-Maas Geesteranus :|De voorzitter :|De heer Van Hattem ( PVV ):|Minister Schultz van Haegen-Maas Geesteranus :|De heer Van Hattem ( PVV ):|Minister Schultz van Haegen-Maas Geesteranus :', 'title': 'handelingen', 'year': '2017'}, Highlighting(start=230, end=244))\n",
      "301 Passage('minister ons heeft toegezegd. Is zij bereid, alsnog die verplichting voor een onafhankelijke m.e.r. voor complexe projecten te handhaven? Daarnaast hebben wij een probleem met het schrappen van de verplichting tot monitoring van de milieueffecten, zeker als het om complexe projecten gaat. Het bevoegd', {'': '204', 'RecId': 'h-ek-20162017-14-3', 'chamber': 'EersteKamer', 'date': '2017-01-17', 'speakers': 'De voorzitter :|Mevrouw Teunissen ( PvdD ):|Mevrouw Vos ( GroenLinks ):|De heer Van Hattem ( PVV ):|Mevrouw Stienen ( D66 ):|De heer Verheijen ( PvdA ):|Mevrouw Meijer ( SP ):|De voorzitter :|Minister Schultz van Haegen-Maas Geesteranus :|Mevrouw Vos ( GroenLinks ):|Minister Schultz van Haegen-Maas Geesteranus :|Mevrouw Vos ( GroenLinks ):|Minister Schultz van Haegen-Maas Geesteranus :|De heer Verheijen ( PvdA ):|Minister Schultz van Haegen-Maas Geesteranus :|De heer Verheijen ( PvdA ):|Minister Schultz van Haegen-Maas Geesteranus :|De heer Van Hattem ( PVV ):|Minister Schultz van Haegen-Maas Geesteranus :|De heer Van Hattem ( PVV ):|Minister Schultz van Haegen-Maas Geesteranus :|Minister Schultz van Haegen-Maas Geesteranus :|De heer Van Hattem ( PVV ):|Minister Schultz van Haegen-Maas Geesteranus :|De heer Van Hattem ( PVV ):|Minister Schultz van Haegen-Maas Geesteranus :|De voorzitter :|De heer Van Hattem ( PVV ):|Minister Schultz van Haegen-Maas Geesteranus :|De heer Verheijen ( PvdA ):|Minister Schultz van Haegen-Maas Geesteranus :|De heer Verheijen ( PvdA ):|Minister Schultz van Haegen-Maas Geesteranus :|De voorzitter :|De heer Van Hattem ( PVV ):|Minister Schultz van Haegen-Maas Geesteranus :|De heer Van Hattem ( PVV ):|Minister Schultz van Haegen-Maas Geesteranus :', 'title': 'handelingen', 'year': '2017'}, Highlighting(start=232, end=246))\n",
      "305 Passage('bevoegd gezag moet expliciet besluiten of monitoring van effecten moet plaatsvinden en, zo ja, van welke effecten, op welke wijze en hoelang. Mijn fractie ziet hierin het risico dat bepaalde milieueffecten niet gemonitord worden, terwijl dat wel van belang is voor natuur, milieu en gezondheid. Wij vragen', {'': '204', 'RecId': 'h-ek-20162017-14-3', 'chamber': 'EersteKamer', 'date': '2017-01-17', 'speakers': 'De voorzitter :|Mevrouw Teunissen ( PvdD ):|Mevrouw Vos ( GroenLinks ):|De heer Van Hattem ( PVV ):|Mevrouw Stienen ( D66 ):|De heer Verheijen ( PvdA ):|Mevrouw Meijer ( SP ):|De voorzitter :|Minister Schultz van Haegen-Maas Geesteranus :|Mevrouw Vos ( GroenLinks ):|Minister Schultz van Haegen-Maas Geesteranus :|Mevrouw Vos ( GroenLinks ):|Minister Schultz van Haegen-Maas Geesteranus :|De heer Verheijen ( PvdA ):|Minister Schultz van Haegen-Maas Geesteranus :|De heer Verheijen ( PvdA ):|Minister Schultz van Haegen-Maas Geesteranus :|De heer Van Hattem ( PVV ):|Minister Schultz van Haegen-Maas Geesteranus :|De heer Van Hattem ( PVV ):|Minister Schultz van Haegen-Maas Geesteranus :|Minister Schultz van Haegen-Maas Geesteranus :|De heer Van Hattem ( PVV ):|Minister Schultz van Haegen-Maas Geesteranus :|De heer Van Hattem ( PVV ):|Minister Schultz van Haegen-Maas Geesteranus :|De voorzitter :|De heer Van Hattem ( PVV ):|Minister Schultz van Haegen-Maas Geesteranus :|De heer Verheijen ( PvdA ):|Minister Schultz van Haegen-Maas Geesteranus :|De heer Verheijen ( PvdA ):|Minister Schultz van Haegen-Maas Geesteranus :|De voorzitter :|De heer Van Hattem ( PVV ):|Minister Schultz van Haegen-Maas Geesteranus :|De heer Van Hattem ( PVV ):|Minister Schultz van Haegen-Maas Geesteranus :', 'title': 'handelingen', 'year': '2017'}, Highlighting(start=191, end=205))\n",
      "318 Passage('de minister, waarom er niet altijd een onafhankelijke toetsing is op basis van bestaand wetenschappelijk onderzoek, op basis waarvan de te monitoren milieueffecten worden vastgesteld. Daarnaast hebben we zorgen over de kwaliteit van de monitoring. Waarom kiest het kabinet niet voor een landelijke kwaliteitsstandaard?', {'': '204', 'RecId': 'h-ek-20162017-14-3', 'chamber': 'EersteKamer', 'date': '2017-01-17', 'speakers': 'De voorzitter :|Mevrouw Teunissen ( PvdD ):|Mevrouw Vos ( GroenLinks ):|De heer Van Hattem ( PVV ):|Mevrouw Stienen ( D66 ):|De heer Verheijen ( PvdA ):|Mevrouw Meijer ( SP ):|De voorzitter :|Minister Schultz van Haegen-Maas Geesteranus :|Mevrouw Vos ( GroenLinks ):|Minister Schultz van Haegen-Maas Geesteranus :|Mevrouw Vos ( GroenLinks ):|Minister Schultz van Haegen-Maas Geesteranus :|De heer Verheijen ( PvdA ):|Minister Schultz van Haegen-Maas Geesteranus :|De heer Verheijen ( PvdA ):|Minister Schultz van Haegen-Maas Geesteranus :|De heer Van Hattem ( PVV ):|Minister Schultz van Haegen-Maas Geesteranus :|De heer Van Hattem ( PVV ):|Minister Schultz van Haegen-Maas Geesteranus :|Minister Schultz van Haegen-Maas Geesteranus :|De heer Van Hattem ( PVV ):|Minister Schultz van Haegen-Maas Geesteranus :|De heer Van Hattem ( PVV ):|Minister Schultz van Haegen-Maas Geesteranus :|De voorzitter :|De heer Van Hattem ( PVV ):|Minister Schultz van Haegen-Maas Geesteranus :|De heer Verheijen ( PvdA ):|Minister Schultz van Haegen-Maas Geesteranus :|De heer Verheijen ( PvdA ):|Minister Schultz van Haegen-Maas Geesteranus :|De voorzitter :|De heer Van Hattem ( PVV ):|Minister Schultz van Haegen-Maas Geesteranus :|De heer Van Hattem ( PVV ):|Minister Schultz van Haegen-Maas Geesteranus :', 'title': 'handelingen', 'year': '2017'}, Highlighting(start=149, end=163))\n",
      "301 Passage('rechter en de grote hoeveelheid kennis en informatie die nodig is om kans op succes te hebben. Ook in antwoord op onze vraag hoe geborgd wordt dat alle belangrijke milieueffecten worden meegenomen en gemonitord, verwijst de minister naar de mogelijkheid om naar de rechter te stappen. Zo wordt borging', {'': '204', 'RecId': 'h-ek-20162017-14-3', 'chamber': 'EersteKamer', 'date': '2017-01-17', 'speakers': 'De voorzitter :|Mevrouw Teunissen ( PvdD ):|Mevrouw Vos ( GroenLinks ):|De heer Van Hattem ( PVV ):|Mevrouw Stienen ( D66 ):|De heer Verheijen ( PvdA ):|Mevrouw Meijer ( SP ):|De voorzitter :|Minister Schultz van Haegen-Maas Geesteranus :|Mevrouw Vos ( GroenLinks ):|Minister Schultz van Haegen-Maas Geesteranus :|Mevrouw Vos ( GroenLinks ):|Minister Schultz van Haegen-Maas Geesteranus :|De heer Verheijen ( PvdA ):|Minister Schultz van Haegen-Maas Geesteranus :|De heer Verheijen ( PvdA ):|Minister Schultz van Haegen-Maas Geesteranus :|De heer Van Hattem ( PVV ):|Minister Schultz van Haegen-Maas Geesteranus :|De heer Van Hattem ( PVV ):|Minister Schultz van Haegen-Maas Geesteranus :|Minister Schultz van Haegen-Maas Geesteranus :|De heer Van Hattem ( PVV ):|Minister Schultz van Haegen-Maas Geesteranus :|De heer Van Hattem ( PVV ):|Minister Schultz van Haegen-Maas Geesteranus :|De voorzitter :|De heer Van Hattem ( PVV ):|Minister Schultz van Haegen-Maas Geesteranus :|De heer Verheijen ( PvdA ):|Minister Schultz van Haegen-Maas Geesteranus :|De heer Verheijen ( PvdA ):|Minister Schultz van Haegen-Maas Geesteranus :|De voorzitter :|De heer Van Hattem ( PVV ):|Minister Schultz van Haegen-Maas Geesteranus :|De heer Van Hattem ( PVV ):|Minister Schultz van Haegen-Maas Geesteranus :', 'title': 'handelingen', 'year': '2017'}, Highlighting(start=164, end=178))\n",
      "318 Passage('scheiding van functies niet voldoende plaatsvindt. Want wanneer het bevoegd gezag, bijvoorbeeld burgemeester en wethouders, zowel de initiatiefnemer van een project is als degene die de kwaliteit van de informatie over milieueffecten, gezondheidseffecten en de besluitvorming moet borgen, kan er belangenverstrengeling', {'': '204', 'RecId': 'h-ek-20162017-14-3', 'chamber': 'EersteKamer', 'date': '2017-01-17', 'speakers': 'De voorzitter :|Mevrouw Teunissen ( PvdD ):|Mevrouw Vos ( GroenLinks ):|De heer Van Hattem ( PVV ):|Mevrouw Stienen ( D66 ):|De heer Verheijen ( PvdA ):|Mevrouw Meijer ( SP ):|De voorzitter :|Minister Schultz van Haegen-Maas Geesteranus :|Mevrouw Vos ( GroenLinks ):|Minister Schultz van Haegen-Maas Geesteranus :|Mevrouw Vos ( GroenLinks ):|Minister Schultz van Haegen-Maas Geesteranus :|De heer Verheijen ( PvdA ):|Minister Schultz van Haegen-Maas Geesteranus :|De heer Verheijen ( PvdA ):|Minister Schultz van Haegen-Maas Geesteranus :|De heer Van Hattem ( PVV ):|Minister Schultz van Haegen-Maas Geesteranus :|De heer Van Hattem ( PVV ):|Minister Schultz van Haegen-Maas Geesteranus :|Minister Schultz van Haegen-Maas Geesteranus :|De heer Van Hattem ( PVV ):|Minister Schultz van Haegen-Maas Geesteranus :|De heer Van Hattem ( PVV ):|Minister Schultz van Haegen-Maas Geesteranus :|De voorzitter :|De heer Van Hattem ( PVV ):|Minister Schultz van Haegen-Maas Geesteranus :|De heer Verheijen ( PvdA ):|Minister Schultz van Haegen-Maas Geesteranus :|De heer Verheijen ( PvdA ):|Minister Schultz van Haegen-Maas Geesteranus :|De voorzitter :|De heer Van Hattem ( PVV ):|Minister Schultz van Haegen-Maas Geesteranus :|De heer Van Hattem ( PVV ):|Minister Schultz van Haegen-Maas Geesteranus :', 'title': 'handelingen', 'year': '2017'}, Highlighting(start=219, end=233))\n",
      "310 Passage('zelf mogen niet betrokken zijn bij de beoordeling van de kwaliteit van de informatie die nodig is voor een goede besluitvorming, zoals de beoordeling van de milieueffecten en de gezondheidseffecten. Het kabinet heeft de bepaling hierover in de richtlijn een-op-een overgenomen in het voorliggende wetsvoorstel.', {'': '204', 'RecId': 'h-ek-20162017-14-3', 'chamber': 'EersteKamer', 'date': '2017-01-17', 'speakers': 'De voorzitter :|Mevrouw Teunissen ( PvdD ):|Mevrouw Vos ( GroenLinks ):|De heer Van Hattem ( PVV ):|Mevrouw Stienen ( D66 ):|De heer Verheijen ( PvdA ):|Mevrouw Meijer ( SP ):|De voorzitter :|Minister Schultz van Haegen-Maas Geesteranus :|Mevrouw Vos ( GroenLinks ):|Minister Schultz van Haegen-Maas Geesteranus :|Mevrouw Vos ( GroenLinks ):|Minister Schultz van Haegen-Maas Geesteranus :|De heer Verheijen ( PvdA ):|Minister Schultz van Haegen-Maas Geesteranus :|De heer Verheijen ( PvdA ):|Minister Schultz van Haegen-Maas Geesteranus :|De heer Van Hattem ( PVV ):|Minister Schultz van Haegen-Maas Geesteranus :|De heer Van Hattem ( PVV ):|Minister Schultz van Haegen-Maas Geesteranus :|Minister Schultz van Haegen-Maas Geesteranus :|De heer Van Hattem ( PVV ):|Minister Schultz van Haegen-Maas Geesteranus :|De heer Van Hattem ( PVV ):|Minister Schultz van Haegen-Maas Geesteranus :|De voorzitter :|De heer Van Hattem ( PVV ):|Minister Schultz van Haegen-Maas Geesteranus :|De heer Verheijen ( PvdA ):|Minister Schultz van Haegen-Maas Geesteranus :|De heer Verheijen ( PvdA ):|Minister Schultz van Haegen-Maas Geesteranus :|De voorzitter :|De heer Van Hattem ( PVV ):|Minister Schultz van Haegen-Maas Geesteranus :|De heer Van Hattem ( PVV ):|Minister Schultz van Haegen-Maas Geesteranus :', 'title': 'handelingen', 'year': '2017'}, Highlighting(start=157, end=171))\n",
      "303 Passage('voor een goede beoordeling van de milieueffecten en de borging van de kwaliteit van de besluitvorming. Om dat binnen één afdeling te laten plaatsvinden, lijkt mijn fractie volstrekt onvoldoende. Ik verwijs hierbij ook naar de uitspraak van de Raad van State van 17 december 2014 en naar een prejudiciële', {'': '204', 'RecId': 'h-ek-20162017-14-3', 'chamber': 'EersteKamer', 'date': '2017-01-17', 'speakers': 'De voorzitter :|Mevrouw Teunissen ( PvdD ):|Mevrouw Vos ( GroenLinks ):|De heer Van Hattem ( PVV ):|Mevrouw Stienen ( D66 ):|De heer Verheijen ( PvdA ):|Mevrouw Meijer ( SP ):|De voorzitter :|Minister Schultz van Haegen-Maas Geesteranus :|Mevrouw Vos ( GroenLinks ):|Minister Schultz van Haegen-Maas Geesteranus :|Mevrouw Vos ( GroenLinks ):|Minister Schultz van Haegen-Maas Geesteranus :|De heer Verheijen ( PvdA ):|Minister Schultz van Haegen-Maas Geesteranus :|De heer Verheijen ( PvdA ):|Minister Schultz van Haegen-Maas Geesteranus :|De heer Van Hattem ( PVV ):|Minister Schultz van Haegen-Maas Geesteranus :|De heer Van Hattem ( PVV ):|Minister Schultz van Haegen-Maas Geesteranus :|Minister Schultz van Haegen-Maas Geesteranus :|De heer Van Hattem ( PVV ):|Minister Schultz van Haegen-Maas Geesteranus :|De heer Van Hattem ( PVV ):|Minister Schultz van Haegen-Maas Geesteranus :|De voorzitter :|De heer Van Hattem ( PVV ):|Minister Schultz van Haegen-Maas Geesteranus :|De heer Verheijen ( PvdA ):|Minister Schultz van Haegen-Maas Geesteranus :|De heer Verheijen ( PvdA ):|Minister Schultz van Haegen-Maas Geesteranus :|De voorzitter :|De heer Van Hattem ( PVV ):|Minister Schultz van Haegen-Maas Geesteranus :|De heer Van Hattem ( PVV ):|Minister Schultz van Haegen-Maas Geesteranus :', 'title': 'handelingen', 'year': '2017'}, Highlighting(start=34, end=48))\n",
      "304 Passage('vaker dan nu het geval is milieueffecten gemonitord zullen moeten worden. De onderbouwing van de regering voor deze kostenverschuiving is op eurofiele gronden: ook andere lidstaten zullen kiezen voor deze kostenverschuiving naar de initiatiefnemer en daarmee wordt bijgedragen aan een level playing field', {'': '204', 'RecId': 'h-ek-20162017-14-3', 'chamber': 'EersteKamer', 'date': '2017-01-17', 'speakers': 'De voorzitter :|Mevrouw Teunissen ( PvdD ):|Mevrouw Vos ( GroenLinks ):|De heer Van Hattem ( PVV ):|Mevrouw Stienen ( D66 ):|De heer Verheijen ( PvdA ):|Mevrouw Meijer ( SP ):|De voorzitter :|Minister Schultz van Haegen-Maas Geesteranus :|Mevrouw Vos ( GroenLinks ):|Minister Schultz van Haegen-Maas Geesteranus :|Mevrouw Vos ( GroenLinks ):|Minister Schultz van Haegen-Maas Geesteranus :|De heer Verheijen ( PvdA ):|Minister Schultz van Haegen-Maas Geesteranus :|De heer Verheijen ( PvdA ):|Minister Schultz van Haegen-Maas Geesteranus :|De heer Van Hattem ( PVV ):|Minister Schultz van Haegen-Maas Geesteranus :|De heer Van Hattem ( PVV ):|Minister Schultz van Haegen-Maas Geesteranus :|Minister Schultz van Haegen-Maas Geesteranus :|De heer Van Hattem ( PVV ):|Minister Schultz van Haegen-Maas Geesteranus :|De heer Van Hattem ( PVV ):|Minister Schultz van Haegen-Maas Geesteranus :|De voorzitter :|De heer Van Hattem ( PVV ):|Minister Schultz van Haegen-Maas Geesteranus :|De heer Verheijen ( PvdA ):|Minister Schultz van Haegen-Maas Geesteranus :|De heer Verheijen ( PvdA ):|Minister Schultz van Haegen-Maas Geesteranus :|De voorzitter :|De heer Van Hattem ( PVV ):|Minister Schultz van Haegen-Maas Geesteranus :|De heer Van Hattem ( PVV ):|Minister Schultz van Haegen-Maas Geesteranus :', 'title': 'handelingen', 'year': '2017'}, Highlighting(start=26, end=40))\n",
      "303 Passage('de locatie en de omvang van de activiteit en de aard en omvang van de milieueffecten.\" Zorgt dit niet voor een behoorlijke aantasting van de rechtszekerheid en de nodige mate van willekeur, waarbij mogelijk per gemeente of zelfs per project windparken anders gemonitord zullen worden? Graag een reactie.', {'': '204', 'RecId': 'h-ek-20162017-14-3', 'chamber': 'EersteKamer', 'date': '2017-01-17', 'speakers': 'De voorzitter :|Mevrouw Teunissen ( PvdD ):|Mevrouw Vos ( GroenLinks ):|De heer Van Hattem ( PVV ):|Mevrouw Stienen ( D66 ):|De heer Verheijen ( PvdA ):|Mevrouw Meijer ( SP ):|De voorzitter :|Minister Schultz van Haegen-Maas Geesteranus :|Mevrouw Vos ( GroenLinks ):|Minister Schultz van Haegen-Maas Geesteranus :|Mevrouw Vos ( GroenLinks ):|Minister Schultz van Haegen-Maas Geesteranus :|De heer Verheijen ( PvdA ):|Minister Schultz van Haegen-Maas Geesteranus :|De heer Verheijen ( PvdA ):|Minister Schultz van Haegen-Maas Geesteranus :|De heer Van Hattem ( PVV ):|Minister Schultz van Haegen-Maas Geesteranus :|De heer Van Hattem ( PVV ):|Minister Schultz van Haegen-Maas Geesteranus :|Minister Schultz van Haegen-Maas Geesteranus :|De heer Van Hattem ( PVV ):|Minister Schultz van Haegen-Maas Geesteranus :|De heer Van Hattem ( PVV ):|Minister Schultz van Haegen-Maas Geesteranus :|De voorzitter :|De heer Van Hattem ( PVV ):|Minister Schultz van Haegen-Maas Geesteranus :|De heer Verheijen ( PvdA ):|Minister Schultz van Haegen-Maas Geesteranus :|De heer Verheijen ( PvdA ):|Minister Schultz van Haegen-Maas Geesteranus :|De voorzitter :|De heer Van Hattem ( PVV ):|Minister Schultz van Haegen-Maas Geesteranus :|De heer Van Hattem ( PVV ):|Minister Schultz van Haegen-Maas Geesteranus :', 'title': 'handelingen', 'year': '2017'}, Highlighting(start=70, end=84))\n",
      "300 Passage('alleen in het geval van de plan-MER —als die in dit voorbeeld aan de orde zou zijn — maar ook in geval van een project-MER, zeker als er dan op detailniveau veel beter inzicht te verkrijgen is in de milieueffecten van het onderhavige project. De afweging of dat nodig is, moet in alle vrijheid kunnen', {'': '204', 'RecId': 'h-ek-20162017-14-3', 'chamber': 'EersteKamer', 'date': '2017-01-17', 'speakers': 'De voorzitter :|Mevrouw Teunissen ( PvdD ):|Mevrouw Vos ( GroenLinks ):|De heer Van Hattem ( PVV ):|Mevrouw Stienen ( D66 ):|De heer Verheijen ( PvdA ):|Mevrouw Meijer ( SP ):|De voorzitter :|Minister Schultz van Haegen-Maas Geesteranus :|Mevrouw Vos ( GroenLinks ):|Minister Schultz van Haegen-Maas Geesteranus :|Mevrouw Vos ( GroenLinks ):|Minister Schultz van Haegen-Maas Geesteranus :|De heer Verheijen ( PvdA ):|Minister Schultz van Haegen-Maas Geesteranus :|De heer Verheijen ( PvdA ):|Minister Schultz van Haegen-Maas Geesteranus :|De heer Van Hattem ( PVV ):|Minister Schultz van Haegen-Maas Geesteranus :|De heer Van Hattem ( PVV ):|Minister Schultz van Haegen-Maas Geesteranus :|Minister Schultz van Haegen-Maas Geesteranus :|De heer Van Hattem ( PVV ):|Minister Schultz van Haegen-Maas Geesteranus :|De heer Van Hattem ( PVV ):|Minister Schultz van Haegen-Maas Geesteranus :|De voorzitter :|De heer Van Hattem ( PVV ):|Minister Schultz van Haegen-Maas Geesteranus :|De heer Verheijen ( PvdA ):|Minister Schultz van Haegen-Maas Geesteranus :|De heer Verheijen ( PvdA ):|Minister Schultz van Haegen-Maas Geesteranus :|De voorzitter :|De heer Van Hattem ( PVV ):|Minister Schultz van Haegen-Maas Geesteranus :|De heer Van Hattem ( PVV ):|Minister Schultz van Haegen-Maas Geesteranus :', 'title': 'handelingen', 'year': '2017'}, Highlighting(start=199, end=213))\n",
      "302 Passage('lopen? Wat gebeurt er dan? En welke ruimte biedt deze nieuwe wet vervolgens aan burgers, organisaties of bedrijven om de gemeente erop aan te spreken als er besloten wordt geen onafhankelijk advies in te roepen? Het klinkt technisch, maar voor ons is van belang dat in dit hele proces de milieueffecten', {'': '204', 'RecId': 'h-ek-20162017-14-3', 'chamber': 'EersteKamer', 'date': '2017-01-17', 'speakers': 'De voorzitter :|Mevrouw Teunissen ( PvdD ):|Mevrouw Vos ( GroenLinks ):|De heer Van Hattem ( PVV ):|Mevrouw Stienen ( D66 ):|De heer Verheijen ( PvdA ):|Mevrouw Meijer ( SP ):|De voorzitter :|Minister Schultz van Haegen-Maas Geesteranus :|Mevrouw Vos ( GroenLinks ):|Minister Schultz van Haegen-Maas Geesteranus :|Mevrouw Vos ( GroenLinks ):|Minister Schultz van Haegen-Maas Geesteranus :|De heer Verheijen ( PvdA ):|Minister Schultz van Haegen-Maas Geesteranus :|De heer Verheijen ( PvdA ):|Minister Schultz van Haegen-Maas Geesteranus :|De heer Van Hattem ( PVV ):|Minister Schultz van Haegen-Maas Geesteranus :|De heer Van Hattem ( PVV ):|Minister Schultz van Haegen-Maas Geesteranus :|Minister Schultz van Haegen-Maas Geesteranus :|De heer Van Hattem ( PVV ):|Minister Schultz van Haegen-Maas Geesteranus :|De heer Van Hattem ( PVV ):|Minister Schultz van Haegen-Maas Geesteranus :|De voorzitter :|De heer Van Hattem ( PVV ):|Minister Schultz van Haegen-Maas Geesteranus :|De heer Verheijen ( PvdA ):|Minister Schultz van Haegen-Maas Geesteranus :|De heer Verheijen ( PvdA ):|Minister Schultz van Haegen-Maas Geesteranus :|De voorzitter :|De heer Van Hattem ( PVV ):|Minister Schultz van Haegen-Maas Geesteranus :|De heer Van Hattem ( PVV ):|Minister Schultz van Haegen-Maas Geesteranus :', 'title': 'handelingen', 'year': '2017'}, Highlighting(start=288, end=302))\n",
      "302 Passage('immers op basis van een door deze partij gegeven beschrijving van de kenmerken van de activiteit of maatregelen om aanzienlijke negatieve milieueffecten te vermijden of voorkomen, door het bevoegd gezag ontheven worden van een MER-procedure. Intenties kunnen voldoende zijn. Nu ben ik er sterk voor dat', {'': '204', 'RecId': 'h-ek-20162017-14-3', 'chamber': 'EersteKamer', 'date': '2017-01-17', 'speakers': 'De voorzitter :|Mevrouw Teunissen ( PvdD ):|Mevrouw Vos ( GroenLinks ):|De heer Van Hattem ( PVV ):|Mevrouw Stienen ( D66 ):|De heer Verheijen ( PvdA ):|Mevrouw Meijer ( SP ):|De voorzitter :|Minister Schultz van Haegen-Maas Geesteranus :|Mevrouw Vos ( GroenLinks ):|Minister Schultz van Haegen-Maas Geesteranus :|Mevrouw Vos ( GroenLinks ):|Minister Schultz van Haegen-Maas Geesteranus :|De heer Verheijen ( PvdA ):|Minister Schultz van Haegen-Maas Geesteranus :|De heer Verheijen ( PvdA ):|Minister Schultz van Haegen-Maas Geesteranus :|De heer Van Hattem ( PVV ):|Minister Schultz van Haegen-Maas Geesteranus :|De heer Van Hattem ( PVV ):|Minister Schultz van Haegen-Maas Geesteranus :|Minister Schultz van Haegen-Maas Geesteranus :|De heer Van Hattem ( PVV ):|Minister Schultz van Haegen-Maas Geesteranus :|De heer Van Hattem ( PVV ):|Minister Schultz van Haegen-Maas Geesteranus :|De voorzitter :|De heer Van Hattem ( PVV ):|Minister Schultz van Haegen-Maas Geesteranus :|De heer Verheijen ( PvdA ):|Minister Schultz van Haegen-Maas Geesteranus :|De heer Verheijen ( PvdA ):|Minister Schultz van Haegen-Maas Geesteranus :|De voorzitter :|De heer Van Hattem ( PVV ):|Minister Schultz van Haegen-Maas Geesteranus :|De heer Van Hattem ( PVV ):|Minister Schultz van Haegen-Maas Geesteranus :', 'title': 'handelingen', 'year': '2017'}, Highlighting(start=138, end=152))\n",
      "305 Passage('uiteenlopende milieueffecten. Of en, zo ja, welke monitoring zinvol is, is natuurlijk heel erg afhankelijk van de aard, de omvang en de locatie van het project. Er zijn ook weer verschillende methoden om bepaalde effecten te monitoren. Ik kreeg er vanmorgen twee onder ogen. Dat is allereerst de integrale', {'': '204', 'RecId': 'h-ek-20162017-14-3', 'chamber': 'EersteKamer', 'date': '2017-01-17', 'speakers': 'De voorzitter :|Mevrouw Teunissen ( PvdD ):|Mevrouw Vos ( GroenLinks ):|De heer Van Hattem ( PVV ):|Mevrouw Stienen ( D66 ):|De heer Verheijen ( PvdA ):|Mevrouw Meijer ( SP ):|De voorzitter :|Minister Schultz van Haegen-Maas Geesteranus :|Mevrouw Vos ( GroenLinks ):|Minister Schultz van Haegen-Maas Geesteranus :|Mevrouw Vos ( GroenLinks ):|Minister Schultz van Haegen-Maas Geesteranus :|De heer Verheijen ( PvdA ):|Minister Schultz van Haegen-Maas Geesteranus :|De heer Verheijen ( PvdA ):|Minister Schultz van Haegen-Maas Geesteranus :|De heer Van Hattem ( PVV ):|Minister Schultz van Haegen-Maas Geesteranus :|De heer Van Hattem ( PVV ):|Minister Schultz van Haegen-Maas Geesteranus :|Minister Schultz van Haegen-Maas Geesteranus :|De heer Van Hattem ( PVV ):|Minister Schultz van Haegen-Maas Geesteranus :|De heer Van Hattem ( PVV ):|Minister Schultz van Haegen-Maas Geesteranus :|De voorzitter :|De heer Van Hattem ( PVV ):|Minister Schultz van Haegen-Maas Geesteranus :|De heer Verheijen ( PvdA ):|Minister Schultz van Haegen-Maas Geesteranus :|De heer Verheijen ( PvdA ):|Minister Schultz van Haegen-Maas Geesteranus :|De voorzitter :|De heer Van Hattem ( PVV ):|Minister Schultz van Haegen-Maas Geesteranus :|De heer Van Hattem ( PVV ):|Minister Schultz van Haegen-Maas Geesteranus :', 'title': 'handelingen', 'year': '2017'}, Highlighting(start=14, end=28))\n"
     ]
    }
   ],
   "source": [
    "for p in sg_corpus.passages[:20]:\n",
    "    print(len(p), p)"
   ]
  },
  {
   "cell_type": "markdown",
   "metadata": {},
   "source": [
    "### Merge"
   ]
  },
  {
   "cell_type": "code",
   "execution_count": 16,
   "metadata": {},
   "outputs": [
    {
     "data": {
      "text/plain": [
       "4934"
      ]
     },
     "execution_count": 16,
     "metadata": {},
     "output_type": "execute_result"
    }
   ],
   "source": [
    "corpus = anp_corpus # + sg_corpus\n",
    "len(corpus)"
   ]
  },
  {
   "cell_type": "markdown",
   "metadata": {},
   "source": [
    "## Load Model"
   ]
  },
  {
   "cell_type": "code",
   "execution_count": 17,
   "metadata": {},
   "outputs": [
    {
     "name": "stderr",
     "output_type": "stream",
     "text": [
      "/Users/jose/Repos/tempo-embeddings/.venv/lib/python3.9/site-packages/urllib3/__init__.py:34: NotOpenSSLWarning: urllib3 v2 only supports OpenSSL 1.1.1+, currently the 'ssl' module is compiled with 'LibreSSL 2.8.3'. See: https://github.com/urllib3/urllib3/issues/3020\n",
      "  warnings.warn(\n",
      "/Users/jose/Repos/tempo-embeddings/.venv/lib/python3.9/site-packages/transformers/utils/generic.py:260: UserWarning: torch.utils._pytree._register_pytree_node is deprecated. Please use torch.utils._pytree.register_pytree_node instead.\n",
      "  torch.utils._pytree._register_pytree_node(\n"
     ]
    },
    {
     "data": {
      "text/plain": [
       "<tempo_embeddings.embeddings.model.SentenceTransformerModelWrapper at 0x177871580>"
      ]
     },
     "execution_count": 17,
     "metadata": {},
     "output_type": "execute_result"
    }
   ],
   "source": [
    "%autoreload now\n",
    "from tempo_embeddings.embeddings.model import EmbeddingsMethod\n",
    "from tempo_embeddings.embeddings.model import  SentenceTransformerModelWrapper\n",
    "\n",
    "kwargs = {\"accelerate\": True}\n",
    "\n",
    "### Sentence Transformers\n",
    "MODEL_NAME = \"NetherlandsForensicInstitute/robbert-2022-dutch-sentence-transformers\"\n",
    "# MODEL_NAME = \"textgain/allnli-GroNLP-bert-base-dutch-cased\"\n",
    "model_class = SentenceTransformerModelWrapper\n",
    "\n",
    "model = model_class.from_pretrained(MODEL_NAME, **kwargs)\n",
    "model.embeddings_method = EmbeddingsMethod.MEAN\n",
    "model"
   ]
  },
  {
   "cell_type": "markdown",
   "metadata": {},
   "source": [
    "## Create or Open existing Database"
   ]
  },
  {
   "cell_type": "code",
   "execution_count": 19,
   "metadata": {},
   "outputs": [
    {
     "name": "stderr",
     "output_type": "stream",
     "text": [
      "02:04:53 INFO:HTTP Request: GET http://localhost:8080/v1/.well-known/openid-configuration \"HTTP/1.1 404 Not Found\"\n",
      "02:04:53 INFO:HTTP Request: GET http://localhost:8080/v1/meta \"HTTP/1.1 200 OK\"\n",
      "02:04:53 INFO:HTTP Request: GET https://pypi.org/pypi/weaviate-client/json \"HTTP/1.1 200 OK\"\n",
      "02:04:53 INFO:<class 'weaviate.client.WeaviateClient'>\n",
      "02:04:53 INFO:HTTP Request: GET http://localhost:8080/v1/.well-known/ready \"HTTP/1.1 200 OK\"\n",
      "02:04:53 INFO:Weaviate Server Is Up: True\n",
      "02:04:53 INFO:HTTP Request: GET http://localhost:8080/v1/.well-known/ready \"HTTP/1.1 200 OK\"\n"
     ]
    }
   ],
   "source": [
    "import os\n",
    "from tempo_embeddings.embeddings.weaviate_database import WeaviateDatabaseManager\n",
    "\n",
    "# from dotenv import load_dotenv\n",
    "# load_dotenv()\n",
    "# MODEL_NAME = \"NetherlandsForensicInstitute/robbert-2022-dutch-sentence-transformers\"\n",
    "# EMBED_CONFIG = {\"type\":\"hf\", \"api_key\": os.getenv('HUGGING_FACE_API_KEY')}\n",
    "\n",
    "EMBED_CONFIG = {\"type\": \"default\", \"model\": model} \n",
    "db = WeaviateDatabaseManager(embedder_name=MODEL_NAME,embedder_config=EMBED_CONFIG)\n",
    "db.connect()\n",
    "\n",
    "collection_name = \"AnpSgCorpus\""
   ]
  },
  {
   "cell_type": "code",
   "execution_count": 20,
   "metadata": {},
   "outputs": [],
   "source": [
    "%autoreload now"
   ]
  },
  {
   "cell_type": "markdown",
   "metadata": {},
   "source": [
    "## Compute & Save Embeddings (If DB didn't existed)"
   ]
  },
  {
   "cell_type": "code",
   "execution_count": 21,
   "metadata": {},
   "outputs": [
    {
     "name": "stderr",
     "output_type": "stream",
     "text": [
      "02:04:58 INFO:HTTP Request: GET http://localhost:8080/v1/.well-known/openid-configuration \"HTTP/1.1 404 Not Found\"\n",
      "02:04:58 INFO:HTTP Request: GET http://localhost:8080/v1/meta \"HTTP/1.1 200 OK\"\n",
      "02:04:58 INFO:HTTP Request: GET https://pypi.org/pypi/weaviate-client/json \"HTTP/1.1 200 OK\"\n",
      "Embeddings: 100%|██████████| 617/617 [01:22<00:00,  7.45batch/s]\n",
      "Embeddings: 100%|█████████▉| 616/617 [01:22<00:00,  7.43batch/s]\n",
      "02:06:21 INFO:Added 4934 new documents.\n",
      "02:06:21 INFO:Created NEW collection 'AnpSgCorpus'\n"
     ]
    }
   ],
   "source": [
    "try:\n",
    "    db.create_new_collection(collection_name, corpus)\n",
    "except ValueError:\n",
    "    print(f\"Collection '{collection_name}' already exists and has {db.get_collection_count(collection_name)} records\")\n",
    "    "
   ]
  },
  {
   "cell_type": "markdown",
   "metadata": {},
   "source": [
    "## TEST: Retrieve Records from Database"
   ]
  },
  {
   "cell_type": "code",
   "execution_count": 22,
   "metadata": {},
   "outputs": [
    {
     "name": "stderr",
     "output_type": "stream",
     "text": [
      "02:06:57 INFO:HTTP Request: GET http://localhost:8080/v1/.well-known/openid-configuration \"HTTP/1.1 404 Not Found\"\n",
      "02:06:57 INFO:HTTP Request: GET http://localhost:8080/v1/meta \"HTTP/1.1 200 OK\"\n",
      "02:06:57 INFO:HTTP Request: GET https://pypi.org/pypi/weaviate-client/json \"HTTP/1.1 200 OK\"\n"
     ]
    },
    {
     "name": "stdout",
     "output_type": "stream",
     "text": [
      "98\n"
     ]
    }
   ],
   "source": [
    "%autoreload now\n",
    "\n",
    "corpus_mini = db.get_corpus(collection_name, filter_words=[\"duurzaam\"])\n",
    "print(len(corpus_mini))"
   ]
  },
  {
   "cell_type": "code",
   "execution_count": 23,
   "metadata": {},
   "outputs": [
    {
     "name": "stderr",
     "output_type": "stream",
     "text": [
      "02:07:03 INFO:HTTP Request: GET http://localhost:8080/v1/.well-known/openid-configuration \"HTTP/1.1 404 Not Found\"\n",
      "02:07:03 INFO:HTTP Request: GET http://localhost:8080/v1/meta \"HTTP/1.1 200 OK\"\n",
      "02:07:03 INFO:HTTP Request: GET https://pypi.org/pypi/weaviate-client/json \"HTTP/1.1 200 OK\"\n",
      "Embeddings: 100%|██████████| 13/13 [00:01<00:00,  7.07batch/s]\n",
      "Embeddings:  92%|█████████▏| 12/13 [00:01<00:00,  6.52batch/s]\n",
      "02:07:05 INFO:Added 98 new documents.\n",
      "02:07:05 INFO:Created NEW collection 'AnpDuurzaam'\n"
     ]
    }
   ],
   "source": [
    "if len(corpus_mini):\n",
    "    db.create_new_collection(\"AnpDuurzaam\", corpus_mini)"
   ]
  }
 ],
 "metadata": {
  "kernelspec": {
   "display_name": ".venv",
   "language": "python",
   "name": "python3"
  },
  "language_info": {
   "codemirror_mode": {
    "name": "ipython",
    "version": 3
   },
   "file_extension": ".py",
   "mimetype": "text/x-python",
   "name": "python",
   "nbconvert_exporter": "python",
   "pygments_lexer": "ipython3",
   "version": "3.9.6"
  },
  "orig_nbformat": 4
 },
 "nbformat": 4,
 "nbformat_minor": 2
}
