{
 "cells": [
  {
   "cell_type": "markdown",
   "metadata": {},
   "source": [
    "# Dutch Corpora\n",
    "\n",
    "### Instal tempo-embeddings"
   ]
  },
  {
   "cell_type": "code",
   "execution_count": 1,
   "metadata": {},
   "outputs": [
    {
     "name": "stdout",
     "output_type": "stream",
     "text": [
      "Processing /Users/jose/Repos/tempo-embeddings\n",
      "  Installing build dependencies ... \u001b[?25ldone\n",
      "\u001b[?25h  Getting requirements to build wheel ... \u001b[?25ldone\n",
      "\u001b[?25h  Preparing metadata (pyproject.toml) ... \u001b[?25ldone\n",
      "\u001b[?25hRequirement already satisfied: accelerate~=0.22.0 in /Users/jose/Repos/tempo-embeddings/.venv/lib/python3.9/site-packages (from tempo_embeddings==0.0.1) (0.22.0)\n",
      "Requirement already satisfied: seaborn~=0.13.0 in /Users/jose/Repos/tempo-embeddings/.venv/lib/python3.9/site-packages (from tempo_embeddings==0.0.1) (0.13.1)\n",
      "Requirement already satisfied: transformers~=4.32.1 in /Users/jose/Repos/tempo-embeddings/.venv/lib/python3.9/site-packages (from tempo_embeddings==0.0.1) (4.32.1)\n",
      "Requirement already satisfied: torch~=2.3.1 in /Users/jose/Repos/tempo-embeddings/.venv/lib/python3.9/site-packages (from tempo_embeddings==0.0.1) (2.3.1)\n",
      "Requirement already satisfied: torchvision>=0.15.2 in /Users/jose/Repos/tempo-embeddings/.venv/lib/python3.9/site-packages (from tempo_embeddings==0.0.1) (0.18.1)\n",
      "Requirement already satisfied: torchaudio>=2.0.2 in /Users/jose/Repos/tempo-embeddings/.venv/lib/python3.9/site-packages (from tempo_embeddings==0.0.1) (2.3.1)\n",
      "Requirement already satisfied: umap-learn~=0.5.4 in /Users/jose/Repos/tempo-embeddings/.venv/lib/python3.9/site-packages (from tempo_embeddings==0.0.1) (0.5.5)\n",
      "Requirement already satisfied: wizmap~=0.1.2 in /Users/jose/Repos/tempo-embeddings/.venv/lib/python3.9/site-packages (from tempo_embeddings==0.0.1) (0.1.2)\n",
      "Requirement already satisfied: matplotlib~=3.7.2 in /Users/jose/Repos/tempo-embeddings/.venv/lib/python3.9/site-packages (from tempo_embeddings==0.0.1) (3.7.4)\n",
      "Requirement already satisfied: sacremoses~=0.0.53 in /Users/jose/Repos/tempo-embeddings/.venv/lib/python3.9/site-packages (from tempo_embeddings==0.0.1) (0.0.53)\n",
      "Requirement already satisfied: scikit-learn~=1.3.0 in /Users/jose/Repos/tempo-embeddings/.venv/lib/python3.9/site-packages (from tempo_embeddings==0.0.1) (1.3.2)\n",
      "Requirement already satisfied: chromadb~=0.4.22 in /Users/jose/Repos/tempo-embeddings/.venv/lib/python3.9/site-packages (from tempo_embeddings==0.0.1) (0.4.22)\n",
      "Requirement already satisfied: weaviate-client in /Users/jose/Repos/tempo-embeddings/.venv/lib/python3.9/site-packages (from tempo_embeddings==0.0.1) (4.6.1)\n",
      "Requirement already satisfied: pandas in /Users/jose/Repos/tempo-embeddings/.venv/lib/python3.9/site-packages (from tempo_embeddings==0.0.1) (2.2.0)\n",
      "Requirement already satisfied: datashader in /Users/jose/Repos/tempo-embeddings/.venv/lib/python3.9/site-packages (from tempo_embeddings==0.0.1) (0.16.0)\n",
      "Requirement already satisfied: bokeh~=3.3.2 in /Users/jose/Repos/tempo-embeddings/.venv/lib/python3.9/site-packages (from tempo_embeddings==0.0.1) (3.3.3)\n",
      "Requirement already satisfied: holoviews in /Users/jose/Repos/tempo-embeddings/.venv/lib/python3.9/site-packages (from tempo_embeddings==0.0.1) (1.18.1)\n",
      "Requirement already satisfied: dash~=2.11.1 in /Users/jose/Repos/tempo-embeddings/.venv/lib/python3.9/site-packages (from tempo_embeddings==0.0.1) (2.11.1)\n",
      "Requirement already satisfied: numpy>=1.17 in /Users/jose/Repos/tempo-embeddings/.venv/lib/python3.9/site-packages (from accelerate~=0.22.0->tempo_embeddings==0.0.1) (1.26.3)\n",
      "Requirement already satisfied: packaging>=20.0 in /Users/jose/Repos/tempo-embeddings/.venv/lib/python3.9/site-packages (from accelerate~=0.22.0->tempo_embeddings==0.0.1) (23.2)\n",
      "Requirement already satisfied: psutil in /Users/jose/Repos/tempo-embeddings/.venv/lib/python3.9/site-packages (from accelerate~=0.22.0->tempo_embeddings==0.0.1) (5.9.8)\n",
      "Requirement already satisfied: pyyaml in /Users/jose/Repos/tempo-embeddings/.venv/lib/python3.9/site-packages (from accelerate~=0.22.0->tempo_embeddings==0.0.1) (6.0.1)\n",
      "Requirement already satisfied: Jinja2>=2.9 in /Users/jose/Repos/tempo-embeddings/.venv/lib/python3.9/site-packages (from bokeh~=3.3.2->tempo_embeddings==0.0.1) (3.1.3)\n",
      "Requirement already satisfied: contourpy>=1 in /Users/jose/Repos/tempo-embeddings/.venv/lib/python3.9/site-packages (from bokeh~=3.3.2->tempo_embeddings==0.0.1) (1.2.0)\n",
      "Requirement already satisfied: pillow>=7.1.0 in /Users/jose/Repos/tempo-embeddings/.venv/lib/python3.9/site-packages (from bokeh~=3.3.2->tempo_embeddings==0.0.1) (10.2.0)\n",
      "Requirement already satisfied: tornado>=5.1 in /Users/jose/Repos/tempo-embeddings/.venv/lib/python3.9/site-packages (from bokeh~=3.3.2->tempo_embeddings==0.0.1) (6.4)\n",
      "Requirement already satisfied: xyzservices>=2021.09.1 in /Users/jose/Repos/tempo-embeddings/.venv/lib/python3.9/site-packages (from bokeh~=3.3.2->tempo_embeddings==0.0.1) (2023.10.1)\n",
      "Requirement already satisfied: build>=1.0.3 in /Users/jose/Repos/tempo-embeddings/.venv/lib/python3.9/site-packages (from chromadb~=0.4.22->tempo_embeddings==0.0.1) (1.0.3)\n",
      "Requirement already satisfied: requests>=2.28 in /Users/jose/Repos/tempo-embeddings/.venv/lib/python3.9/site-packages (from chromadb~=0.4.22->tempo_embeddings==0.0.1) (2.31.0)\n",
      "Requirement already satisfied: pydantic>=1.9 in /Users/jose/Repos/tempo-embeddings/.venv/lib/python3.9/site-packages (from chromadb~=0.4.22->tempo_embeddings==0.0.1) (2.5.3)\n",
      "Requirement already satisfied: chroma-hnswlib==0.7.3 in /Users/jose/Repos/tempo-embeddings/.venv/lib/python3.9/site-packages (from chromadb~=0.4.22->tempo_embeddings==0.0.1) (0.7.3)\n",
      "Requirement already satisfied: fastapi>=0.95.2 in /Users/jose/Repos/tempo-embeddings/.venv/lib/python3.9/site-packages (from chromadb~=0.4.22->tempo_embeddings==0.0.1) (0.109.0)\n",
      "Requirement already satisfied: uvicorn>=0.18.3 in /Users/jose/Repos/tempo-embeddings/.venv/lib/python3.9/site-packages (from uvicorn[standard]>=0.18.3->chromadb~=0.4.22->tempo_embeddings==0.0.1) (0.26.0)\n",
      "Requirement already satisfied: posthog>=2.4.0 in /Users/jose/Repos/tempo-embeddings/.venv/lib/python3.9/site-packages (from chromadb~=0.4.22->tempo_embeddings==0.0.1) (3.3.2)\n",
      "Requirement already satisfied: typing-extensions>=4.5.0 in /Users/jose/Repos/tempo-embeddings/.venv/lib/python3.9/site-packages (from chromadb~=0.4.22->tempo_embeddings==0.0.1) (4.9.0)\n",
      "Requirement already satisfied: pulsar-client>=3.1.0 in /Users/jose/Repos/tempo-embeddings/.venv/lib/python3.9/site-packages (from chromadb~=0.4.22->tempo_embeddings==0.0.1) (3.4.0)\n",
      "Requirement already satisfied: onnxruntime>=1.14.1 in /Users/jose/Repos/tempo-embeddings/.venv/lib/python3.9/site-packages (from chromadb~=0.4.22->tempo_embeddings==0.0.1) (1.16.3)\n",
      "Requirement already satisfied: opentelemetry-api>=1.2.0 in /Users/jose/Repos/tempo-embeddings/.venv/lib/python3.9/site-packages (from chromadb~=0.4.22->tempo_embeddings==0.0.1) (1.22.0)\n",
      "Requirement already satisfied: opentelemetry-exporter-otlp-proto-grpc>=1.2.0 in /Users/jose/Repos/tempo-embeddings/.venv/lib/python3.9/site-packages (from chromadb~=0.4.22->tempo_embeddings==0.0.1) (1.11.1)\n",
      "Requirement already satisfied: opentelemetry-instrumentation-fastapi>=0.41b0 in /Users/jose/Repos/tempo-embeddings/.venv/lib/python3.9/site-packages (from chromadb~=0.4.22->tempo_embeddings==0.0.1) (0.43b0)\n",
      "Requirement already satisfied: opentelemetry-sdk>=1.2.0 in /Users/jose/Repos/tempo-embeddings/.venv/lib/python3.9/site-packages (from chromadb~=0.4.22->tempo_embeddings==0.0.1) (1.22.0)\n",
      "Requirement already satisfied: tokenizers>=0.13.2 in /Users/jose/Repos/tempo-embeddings/.venv/lib/python3.9/site-packages (from chromadb~=0.4.22->tempo_embeddings==0.0.1) (0.13.3)\n",
      "Requirement already satisfied: pypika>=0.48.9 in /Users/jose/Repos/tempo-embeddings/.venv/lib/python3.9/site-packages (from chromadb~=0.4.22->tempo_embeddings==0.0.1) (0.48.9)\n",
      "Requirement already satisfied: tqdm>=4.65.0 in /Users/jose/Repos/tempo-embeddings/.venv/lib/python3.9/site-packages (from chromadb~=0.4.22->tempo_embeddings==0.0.1) (4.66.1)\n",
      "Requirement already satisfied: overrides>=7.3.1 in /Users/jose/Repos/tempo-embeddings/.venv/lib/python3.9/site-packages (from chromadb~=0.4.22->tempo_embeddings==0.0.1) (7.6.0)\n",
      "Requirement already satisfied: importlib-resources in /Users/jose/Repos/tempo-embeddings/.venv/lib/python3.9/site-packages (from chromadb~=0.4.22->tempo_embeddings==0.0.1) (6.1.1)\n",
      "Requirement already satisfied: grpcio>=1.58.0 in /Users/jose/Repos/tempo-embeddings/.venv/lib/python3.9/site-packages (from chromadb~=0.4.22->tempo_embeddings==0.0.1) (1.63.0)\n",
      "Requirement already satisfied: bcrypt>=4.0.1 in /Users/jose/Repos/tempo-embeddings/.venv/lib/python3.9/site-packages (from chromadb~=0.4.22->tempo_embeddings==0.0.1) (4.1.2)\n",
      "Requirement already satisfied: typer>=0.9.0 in /Users/jose/Repos/tempo-embeddings/.venv/lib/python3.9/site-packages (from chromadb~=0.4.22->tempo_embeddings==0.0.1) (0.9.0)\n",
      "Requirement already satisfied: kubernetes>=28.1.0 in /Users/jose/Repos/tempo-embeddings/.venv/lib/python3.9/site-packages (from chromadb~=0.4.22->tempo_embeddings==0.0.1) (29.0.0)\n",
      "Requirement already satisfied: tenacity>=8.2.3 in /Users/jose/Repos/tempo-embeddings/.venv/lib/python3.9/site-packages (from chromadb~=0.4.22->tempo_embeddings==0.0.1) (8.2.3)\n",
      "Requirement already satisfied: mmh3>=4.0.1 in /Users/jose/Repos/tempo-embeddings/.venv/lib/python3.9/site-packages (from chromadb~=0.4.22->tempo_embeddings==0.0.1) (4.1.0)\n",
      "Requirement already satisfied: Flask<2.3.0,>=1.0.4 in /Users/jose/Repos/tempo-embeddings/.venv/lib/python3.9/site-packages (from dash~=2.11.1->tempo_embeddings==0.0.1) (2.2.5)\n",
      "Requirement already satisfied: Werkzeug<2.3.0 in /Users/jose/Repos/tempo-embeddings/.venv/lib/python3.9/site-packages (from dash~=2.11.1->tempo_embeddings==0.0.1) (2.2.3)\n",
      "Requirement already satisfied: plotly>=5.0.0 in /Users/jose/Repos/tempo-embeddings/.venv/lib/python3.9/site-packages (from dash~=2.11.1->tempo_embeddings==0.0.1) (5.18.0)\n",
      "Requirement already satisfied: dash-html-components==2.0.0 in /Users/jose/Repos/tempo-embeddings/.venv/lib/python3.9/site-packages (from dash~=2.11.1->tempo_embeddings==0.0.1) (2.0.0)\n",
      "Requirement already satisfied: dash-core-components==2.0.0 in /Users/jose/Repos/tempo-embeddings/.venv/lib/python3.9/site-packages (from dash~=2.11.1->tempo_embeddings==0.0.1) (2.0.0)\n",
      "Requirement already satisfied: dash-table==5.0.0 in /Users/jose/Repos/tempo-embeddings/.venv/lib/python3.9/site-packages (from dash~=2.11.1->tempo_embeddings==0.0.1) (5.0.0)\n",
      "Requirement already satisfied: retrying in /Users/jose/Repos/tempo-embeddings/.venv/lib/python3.9/site-packages (from dash~=2.11.1->tempo_embeddings==0.0.1) (1.3.4)\n",
      "Requirement already satisfied: ansi2html in /Users/jose/Repos/tempo-embeddings/.venv/lib/python3.9/site-packages (from dash~=2.11.1->tempo_embeddings==0.0.1) (1.9.1)\n",
      "Requirement already satisfied: nest-asyncio in /Users/jose/Repos/tempo-embeddings/.venv/lib/python3.9/site-packages (from dash~=2.11.1->tempo_embeddings==0.0.1) (1.6.0)\n",
      "Requirement already satisfied: cycler>=0.10 in /Users/jose/Repos/tempo-embeddings/.venv/lib/python3.9/site-packages (from matplotlib~=3.7.2->tempo_embeddings==0.0.1) (0.12.1)\n",
      "Requirement already satisfied: fonttools>=4.22.0 in /Users/jose/Repos/tempo-embeddings/.venv/lib/python3.9/site-packages (from matplotlib~=3.7.2->tempo_embeddings==0.0.1) (4.47.2)\n",
      "Requirement already satisfied: kiwisolver>=1.0.1 in /Users/jose/Repos/tempo-embeddings/.venv/lib/python3.9/site-packages (from matplotlib~=3.7.2->tempo_embeddings==0.0.1) (1.4.5)\n",
      "Requirement already satisfied: pyparsing>=2.3.1 in /Users/jose/Repos/tempo-embeddings/.venv/lib/python3.9/site-packages (from matplotlib~=3.7.2->tempo_embeddings==0.0.1) (3.1.1)\n",
      "Requirement already satisfied: python-dateutil>=2.7 in /Users/jose/Repos/tempo-embeddings/.venv/lib/python3.9/site-packages (from matplotlib~=3.7.2->tempo_embeddings==0.0.1) (2.8.2)\n",
      "Requirement already satisfied: pytz>=2020.1 in /Users/jose/Repos/tempo-embeddings/.venv/lib/python3.9/site-packages (from pandas->tempo_embeddings==0.0.1) (2023.3.post1)\n",
      "Requirement already satisfied: tzdata>=2022.7 in /Users/jose/Repos/tempo-embeddings/.venv/lib/python3.9/site-packages (from pandas->tempo_embeddings==0.0.1) (2023.4)\n",
      "Requirement already satisfied: regex in /Users/jose/Repos/tempo-embeddings/.venv/lib/python3.9/site-packages (from sacremoses~=0.0.53->tempo_embeddings==0.0.1) (2023.12.25)\n",
      "Requirement already satisfied: six in /Users/jose/Repos/tempo-embeddings/.venv/lib/python3.9/site-packages (from sacremoses~=0.0.53->tempo_embeddings==0.0.1) (1.16.0)\n",
      "Requirement already satisfied: click in /Users/jose/Repos/tempo-embeddings/.venv/lib/python3.9/site-packages (from sacremoses~=0.0.53->tempo_embeddings==0.0.1) (8.1.7)\n",
      "Requirement already satisfied: joblib in /Users/jose/Repos/tempo-embeddings/.venv/lib/python3.9/site-packages (from sacremoses~=0.0.53->tempo_embeddings==0.0.1) (1.3.2)\n",
      "Requirement already satisfied: scipy>=1.5.0 in /Users/jose/Repos/tempo-embeddings/.venv/lib/python3.9/site-packages (from scikit-learn~=1.3.0->tempo_embeddings==0.0.1) (1.12.0)\n",
      "Requirement already satisfied: threadpoolctl>=2.0.0 in /Users/jose/Repos/tempo-embeddings/.venv/lib/python3.9/site-packages (from scikit-learn~=1.3.0->tempo_embeddings==0.0.1) (3.2.0)\n",
      "Requirement already satisfied: filelock in /Users/jose/Repos/tempo-embeddings/.venv/lib/python3.9/site-packages (from torch~=2.3.1->tempo_embeddings==0.0.1) (3.13.1)\n",
      "Requirement already satisfied: sympy in /Users/jose/Repos/tempo-embeddings/.venv/lib/python3.9/site-packages (from torch~=2.3.1->tempo_embeddings==0.0.1) (1.12)\n",
      "Requirement already satisfied: networkx in /Users/jose/Repos/tempo-embeddings/.venv/lib/python3.9/site-packages (from torch~=2.3.1->tempo_embeddings==0.0.1) (3.2.1)\n",
      "Requirement already satisfied: fsspec in /Users/jose/Repos/tempo-embeddings/.venv/lib/python3.9/site-packages (from torch~=2.3.1->tempo_embeddings==0.0.1) (2023.12.2)\n",
      "Requirement already satisfied: huggingface-hub<1.0,>=0.15.1 in /Users/jose/Repos/tempo-embeddings/.venv/lib/python3.9/site-packages (from transformers~=4.32.1->tempo_embeddings==0.0.1) (0.20.3)\n",
      "Requirement already satisfied: safetensors>=0.3.1 in /Users/jose/Repos/tempo-embeddings/.venv/lib/python3.9/site-packages (from transformers~=4.32.1->tempo_embeddings==0.0.1) (0.4.1)\n",
      "Requirement already satisfied: numba>=0.51.2 in /Users/jose/Repos/tempo-embeddings/.venv/lib/python3.9/site-packages (from umap-learn~=0.5.4->tempo_embeddings==0.0.1) (0.58.1)\n",
      "Requirement already satisfied: pynndescent>=0.5 in /Users/jose/Repos/tempo-embeddings/.venv/lib/python3.9/site-packages (from umap-learn~=0.5.4->tempo_embeddings==0.0.1) (0.5.11)\n",
      "Requirement already satisfied: ipython in /Users/jose/Repos/tempo-embeddings/.venv/lib/python3.9/site-packages (from wizmap~=0.1.2->tempo_embeddings==0.0.1) (8.18.1)\n",
      "Requirement already satisfied: quadtreed3 in /Users/jose/Repos/tempo-embeddings/.venv/lib/python3.9/site-packages (from wizmap~=0.1.2->tempo_embeddings==0.0.1) (0.1.1)\n",
      "Requirement already satisfied: ndjson in /Users/jose/Repos/tempo-embeddings/.venv/lib/python3.9/site-packages (from wizmap~=0.1.2->tempo_embeddings==0.0.1) (0.3.1)\n",
      "Requirement already satisfied: colorcet in /Users/jose/Repos/tempo-embeddings/.venv/lib/python3.9/site-packages (from datashader->tempo_embeddings==0.0.1) (3.0.1)\n",
      "Requirement already satisfied: dask in /Users/jose/Repos/tempo-embeddings/.venv/lib/python3.9/site-packages (from datashader->tempo_embeddings==0.0.1) (2024.1.0)\n",
      "Requirement already satisfied: multipledispatch in /Users/jose/Repos/tempo-embeddings/.venv/lib/python3.9/site-packages (from datashader->tempo_embeddings==0.0.1) (1.0.0)\n",
      "Requirement already satisfied: param in /Users/jose/Repos/tempo-embeddings/.venv/lib/python3.9/site-packages (from datashader->tempo_embeddings==0.0.1) (2.0.2)\n",
      "Requirement already satisfied: pyct in /Users/jose/Repos/tempo-embeddings/.venv/lib/python3.9/site-packages (from datashader->tempo_embeddings==0.0.1) (0.5.0)\n",
      "Requirement already satisfied: toolz in /Users/jose/Repos/tempo-embeddings/.venv/lib/python3.9/site-packages (from datashader->tempo_embeddings==0.0.1) (0.12.0)\n",
      "Requirement already satisfied: xarray in /Users/jose/Repos/tempo-embeddings/.venv/lib/python3.9/site-packages (from datashader->tempo_embeddings==0.0.1) (2024.1.0)\n",
      "Requirement already satisfied: pyviz-comms>=0.7.4 in /Users/jose/Repos/tempo-embeddings/.venv/lib/python3.9/site-packages (from holoviews->tempo_embeddings==0.0.1) (3.0.1)\n",
      "Requirement already satisfied: panel>=1.0 in /Users/jose/Repos/tempo-embeddings/.venv/lib/python3.9/site-packages (from holoviews->tempo_embeddings==0.0.1) (1.3.7)\n",
      "Requirement already satisfied: httpx<=0.27.0,>=0.25.0 in /Users/jose/Repos/tempo-embeddings/.venv/lib/python3.9/site-packages (from weaviate-client->tempo_embeddings==0.0.1) (0.27.0)\n",
      "Requirement already satisfied: validators==0.28.1 in /Users/jose/Repos/tempo-embeddings/.venv/lib/python3.9/site-packages (from weaviate-client->tempo_embeddings==0.0.1) (0.28.1)\n",
      "Requirement already satisfied: authlib<2.0.0,>=1.2.1 in /Users/jose/Repos/tempo-embeddings/.venv/lib/python3.9/site-packages (from weaviate-client->tempo_embeddings==0.0.1) (1.3.0)\n",
      "Requirement already satisfied: grpcio-tools<2.0.0,>=1.57.0 in /Users/jose/Repos/tempo-embeddings/.venv/lib/python3.9/site-packages (from weaviate-client->tempo_embeddings==0.0.1) (1.63.0)\n",
      "Requirement already satisfied: grpcio-health-checking<2.0.0,>=1.57.0 in /Users/jose/Repos/tempo-embeddings/.venv/lib/python3.9/site-packages (from weaviate-client->tempo_embeddings==0.0.1) (1.63.0)\n",
      "Requirement already satisfied: cryptography in /Users/jose/Repos/tempo-embeddings/.venv/lib/python3.9/site-packages (from authlib<2.0.0,>=1.2.1->weaviate-client->tempo_embeddings==0.0.1) (42.0.7)\n",
      "Requirement already satisfied: pyproject_hooks in /Users/jose/Repos/tempo-embeddings/.venv/lib/python3.9/site-packages (from build>=1.0.3->chromadb~=0.4.22->tempo_embeddings==0.0.1) (1.0.0)\n",
      "Requirement already satisfied: importlib-metadata>=4.6 in /Users/jose/Repos/tempo-embeddings/.venv/lib/python3.9/site-packages (from build>=1.0.3->chromadb~=0.4.22->tempo_embeddings==0.0.1) (6.11.0)\n",
      "Requirement already satisfied: tomli>=1.1.0 in /Users/jose/Repos/tempo-embeddings/.venv/lib/python3.9/site-packages (from build>=1.0.3->chromadb~=0.4.22->tempo_embeddings==0.0.1) (2.0.1)\n",
      "Requirement already satisfied: starlette<0.36.0,>=0.35.0 in /Users/jose/Repos/tempo-embeddings/.venv/lib/python3.9/site-packages (from fastapi>=0.95.2->chromadb~=0.4.22->tempo_embeddings==0.0.1) (0.35.1)\n",
      "Requirement already satisfied: itsdangerous>=2.0 in /Users/jose/Repos/tempo-embeddings/.venv/lib/python3.9/site-packages (from Flask<2.3.0,>=1.0.4->dash~=2.11.1->tempo_embeddings==0.0.1) (2.1.2)\n",
      "Requirement already satisfied: protobuf<6.0dev,>=5.26.1 in /Users/jose/Repos/tempo-embeddings/.venv/lib/python3.9/site-packages (from grpcio-health-checking<2.0.0,>=1.57.0->weaviate-client->tempo_embeddings==0.0.1) (5.27.1)\n",
      "Requirement already satisfied: setuptools in /Users/jose/Repos/tempo-embeddings/.venv/lib/python3.9/site-packages (from grpcio-tools<2.0.0,>=1.57.0->weaviate-client->tempo_embeddings==0.0.1) (58.0.4)\n",
      "Requirement already satisfied: anyio in /Users/jose/Repos/tempo-embeddings/.venv/lib/python3.9/site-packages (from httpx<=0.27.0,>=0.25.0->weaviate-client->tempo_embeddings==0.0.1) (4.2.0)\n",
      "Requirement already satisfied: certifi in /Users/jose/Repos/tempo-embeddings/.venv/lib/python3.9/site-packages (from httpx<=0.27.0,>=0.25.0->weaviate-client->tempo_embeddings==0.0.1) (2023.11.17)\n",
      "Requirement already satisfied: httpcore==1.* in /Users/jose/Repos/tempo-embeddings/.venv/lib/python3.9/site-packages (from httpx<=0.27.0,>=0.25.0->weaviate-client->tempo_embeddings==0.0.1) (1.0.5)\n",
      "Requirement already satisfied: idna in /Users/jose/Repos/tempo-embeddings/.venv/lib/python3.9/site-packages (from httpx<=0.27.0,>=0.25.0->weaviate-client->tempo_embeddings==0.0.1) (3.6)\n",
      "Requirement already satisfied: sniffio in /Users/jose/Repos/tempo-embeddings/.venv/lib/python3.9/site-packages (from httpx<=0.27.0,>=0.25.0->weaviate-client->tempo_embeddings==0.0.1) (1.3.0)\n",
      "Requirement already satisfied: h11<0.15,>=0.13 in /Users/jose/Repos/tempo-embeddings/.venv/lib/python3.9/site-packages (from httpcore==1.*->httpx<=0.27.0,>=0.25.0->weaviate-client->tempo_embeddings==0.0.1) (0.14.0)\n",
      "Requirement already satisfied: zipp>=3.1.0 in /Users/jose/Repos/tempo-embeddings/.venv/lib/python3.9/site-packages (from importlib-resources->chromadb~=0.4.22->tempo_embeddings==0.0.1) (3.17.0)\n",
      "Requirement already satisfied: MarkupSafe>=2.0 in /Users/jose/Repos/tempo-embeddings/.venv/lib/python3.9/site-packages (from Jinja2>=2.9->bokeh~=3.3.2->tempo_embeddings==0.0.1) (2.1.4)\n",
      "Requirement already satisfied: google-auth>=1.0.1 in /Users/jose/Repos/tempo-embeddings/.venv/lib/python3.9/site-packages (from kubernetes>=28.1.0->chromadb~=0.4.22->tempo_embeddings==0.0.1) (2.26.2)\n",
      "Requirement already satisfied: websocket-client!=0.40.0,!=0.41.*,!=0.42.*,>=0.32.0 in /Users/jose/Repos/tempo-embeddings/.venv/lib/python3.9/site-packages (from kubernetes>=28.1.0->chromadb~=0.4.22->tempo_embeddings==0.0.1) (1.7.0)\n",
      "Requirement already satisfied: requests-oauthlib in /Users/jose/Repos/tempo-embeddings/.venv/lib/python3.9/site-packages (from kubernetes>=28.1.0->chromadb~=0.4.22->tempo_embeddings==0.0.1) (1.3.1)\n",
      "Requirement already satisfied: oauthlib>=3.2.2 in /Users/jose/Repos/tempo-embeddings/.venv/lib/python3.9/site-packages (from kubernetes>=28.1.0->chromadb~=0.4.22->tempo_embeddings==0.0.1) (3.2.2)\n",
      "Requirement already satisfied: urllib3>=1.24.2 in /Users/jose/Repos/tempo-embeddings/.venv/lib/python3.9/site-packages (from kubernetes>=28.1.0->chromadb~=0.4.22->tempo_embeddings==0.0.1) (2.1.0)\n",
      "Requirement already satisfied: llvmlite<0.42,>=0.41.0dev0 in /Users/jose/Repos/tempo-embeddings/.venv/lib/python3.9/site-packages (from numba>=0.51.2->umap-learn~=0.5.4->tempo_embeddings==0.0.1) (0.41.1)\n",
      "Requirement already satisfied: coloredlogs in /Users/jose/Repos/tempo-embeddings/.venv/lib/python3.9/site-packages (from onnxruntime>=1.14.1->chromadb~=0.4.22->tempo_embeddings==0.0.1) (15.0.1)\n",
      "Requirement already satisfied: flatbuffers in /Users/jose/Repos/tempo-embeddings/.venv/lib/python3.9/site-packages (from onnxruntime>=1.14.1->chromadb~=0.4.22->tempo_embeddings==0.0.1) (23.5.26)\n",
      "Requirement already satisfied: deprecated>=1.2.6 in /Users/jose/Repos/tempo-embeddings/.venv/lib/python3.9/site-packages (from opentelemetry-api>=1.2.0->chromadb~=0.4.22->tempo_embeddings==0.0.1) (1.2.14)\n",
      "Requirement already satisfied: googleapis-common-protos~=1.52 in /Users/jose/Repos/tempo-embeddings/.venv/lib/python3.9/site-packages (from opentelemetry-exporter-otlp-proto-grpc>=1.2.0->chromadb~=0.4.22->tempo_embeddings==0.0.1) (1.63.1)\n",
      "Requirement already satisfied: opentelemetry-proto==1.11.1 in /Users/jose/Repos/tempo-embeddings/.venv/lib/python3.9/site-packages (from opentelemetry-exporter-otlp-proto-grpc>=1.2.0->chromadb~=0.4.22->tempo_embeddings==0.0.1) (1.11.1)\n",
      "Requirement already satisfied: backoff<2.0.0,>=1.10.0 in /Users/jose/Repos/tempo-embeddings/.venv/lib/python3.9/site-packages (from opentelemetry-exporter-otlp-proto-grpc>=1.2.0->chromadb~=0.4.22->tempo_embeddings==0.0.1) (1.11.1)\n",
      "Requirement already satisfied: opentelemetry-instrumentation-asgi==0.43b0 in /Users/jose/Repos/tempo-embeddings/.venv/lib/python3.9/site-packages (from opentelemetry-instrumentation-fastapi>=0.41b0->chromadb~=0.4.22->tempo_embeddings==0.0.1) (0.43b0)\n",
      "Requirement already satisfied: opentelemetry-instrumentation==0.43b0 in /Users/jose/Repos/tempo-embeddings/.venv/lib/python3.9/site-packages (from opentelemetry-instrumentation-fastapi>=0.41b0->chromadb~=0.4.22->tempo_embeddings==0.0.1) (0.43b0)\n",
      "Requirement already satisfied: opentelemetry-semantic-conventions==0.43b0 in /Users/jose/Repos/tempo-embeddings/.venv/lib/python3.9/site-packages (from opentelemetry-instrumentation-fastapi>=0.41b0->chromadb~=0.4.22->tempo_embeddings==0.0.1) (0.43b0)\n",
      "Requirement already satisfied: opentelemetry-util-http==0.43b0 in /Users/jose/Repos/tempo-embeddings/.venv/lib/python3.9/site-packages (from opentelemetry-instrumentation-fastapi>=0.41b0->chromadb~=0.4.22->tempo_embeddings==0.0.1) (0.43b0)\n",
      "Requirement already satisfied: wrapt<2.0.0,>=1.0.0 in /Users/jose/Repos/tempo-embeddings/.venv/lib/python3.9/site-packages (from opentelemetry-instrumentation==0.43b0->opentelemetry-instrumentation-fastapi>=0.41b0->chromadb~=0.4.22->tempo_embeddings==0.0.1) (1.16.0)\n",
      "Requirement already satisfied: asgiref~=3.0 in /Users/jose/Repos/tempo-embeddings/.venv/lib/python3.9/site-packages (from opentelemetry-instrumentation-asgi==0.43b0->opentelemetry-instrumentation-fastapi>=0.41b0->chromadb~=0.4.22->tempo_embeddings==0.0.1) (3.7.2)\n",
      "Requirement already satisfied: markdown in /Users/jose/Repos/tempo-embeddings/.venv/lib/python3.9/site-packages (from panel>=1.0->holoviews->tempo_embeddings==0.0.1) (3.5.2)\n",
      "Requirement already satisfied: markdown-it-py in /Users/jose/Repos/tempo-embeddings/.venv/lib/python3.9/site-packages (from panel>=1.0->holoviews->tempo_embeddings==0.0.1) (3.0.0)\n",
      "Requirement already satisfied: linkify-it-py in /Users/jose/Repos/tempo-embeddings/.venv/lib/python3.9/site-packages (from panel>=1.0->holoviews->tempo_embeddings==0.0.1) (2.0.2)\n",
      "Requirement already satisfied: mdit-py-plugins in /Users/jose/Repos/tempo-embeddings/.venv/lib/python3.9/site-packages (from panel>=1.0->holoviews->tempo_embeddings==0.0.1) (0.4.0)\n",
      "Requirement already satisfied: bleach in /Users/jose/Repos/tempo-embeddings/.venv/lib/python3.9/site-packages (from panel>=1.0->holoviews->tempo_embeddings==0.0.1) (6.1.0)\n",
      "Requirement already satisfied: monotonic>=1.5 in /Users/jose/Repos/tempo-embeddings/.venv/lib/python3.9/site-packages (from posthog>=2.4.0->chromadb~=0.4.22->tempo_embeddings==0.0.1) (1.6)\n",
      "Requirement already satisfied: annotated-types>=0.4.0 in /Users/jose/Repos/tempo-embeddings/.venv/lib/python3.9/site-packages (from pydantic>=1.9->chromadb~=0.4.22->tempo_embeddings==0.0.1) (0.6.0)\n",
      "Requirement already satisfied: pydantic-core==2.14.6 in /Users/jose/Repos/tempo-embeddings/.venv/lib/python3.9/site-packages (from pydantic>=1.9->chromadb~=0.4.22->tempo_embeddings==0.0.1) (2.14.6)\n",
      "Requirement already satisfied: charset-normalizer<4,>=2 in /Users/jose/Repos/tempo-embeddings/.venv/lib/python3.9/site-packages (from requests>=2.28->chromadb~=0.4.22->tempo_embeddings==0.0.1) (3.3.2)\n",
      "Requirement already satisfied: httptools>=0.5.0 in /Users/jose/Repos/tempo-embeddings/.venv/lib/python3.9/site-packages (from uvicorn[standard]>=0.18.3->chromadb~=0.4.22->tempo_embeddings==0.0.1) (0.6.1)\n",
      "Requirement already satisfied: python-dotenv>=0.13 in /Users/jose/Repos/tempo-embeddings/.venv/lib/python3.9/site-packages (from uvicorn[standard]>=0.18.3->chromadb~=0.4.22->tempo_embeddings==0.0.1) (1.0.0)\n",
      "Requirement already satisfied: uvloop!=0.15.0,!=0.15.1,>=0.14.0 in /Users/jose/Repos/tempo-embeddings/.venv/lib/python3.9/site-packages (from uvicorn[standard]>=0.18.3->chromadb~=0.4.22->tempo_embeddings==0.0.1) (0.19.0)\n",
      "Requirement already satisfied: watchfiles>=0.13 in /Users/jose/Repos/tempo-embeddings/.venv/lib/python3.9/site-packages (from uvicorn[standard]>=0.18.3->chromadb~=0.4.22->tempo_embeddings==0.0.1) (0.21.0)\n",
      "Requirement already satisfied: websockets>=10.4 in /Users/jose/Repos/tempo-embeddings/.venv/lib/python3.9/site-packages (from uvicorn[standard]>=0.18.3->chromadb~=0.4.22->tempo_embeddings==0.0.1) (12.0)\n",
      "Requirement already satisfied: cloudpickle>=1.5.0 in /Users/jose/Repos/tempo-embeddings/.venv/lib/python3.9/site-packages (from dask->datashader->tempo_embeddings==0.0.1) (3.0.0)\n",
      "Requirement already satisfied: partd>=1.2.0 in /Users/jose/Repos/tempo-embeddings/.venv/lib/python3.9/site-packages (from dask->datashader->tempo_embeddings==0.0.1) (1.4.1)\n",
      "Requirement already satisfied: decorator in /Users/jose/Repos/tempo-embeddings/.venv/lib/python3.9/site-packages (from ipython->wizmap~=0.1.2->tempo_embeddings==0.0.1) (5.1.1)\n",
      "Requirement already satisfied: jedi>=0.16 in /Users/jose/Repos/tempo-embeddings/.venv/lib/python3.9/site-packages (from ipython->wizmap~=0.1.2->tempo_embeddings==0.0.1) (0.19.1)\n",
      "Requirement already satisfied: matplotlib-inline in /Users/jose/Repos/tempo-embeddings/.venv/lib/python3.9/site-packages (from ipython->wizmap~=0.1.2->tempo_embeddings==0.0.1) (0.1.6)\n",
      "Requirement already satisfied: prompt-toolkit<3.1.0,>=3.0.41 in /Users/jose/Repos/tempo-embeddings/.venv/lib/python3.9/site-packages (from ipython->wizmap~=0.1.2->tempo_embeddings==0.0.1) (3.0.43)\n",
      "Requirement already satisfied: pygments>=2.4.0 in /Users/jose/Repos/tempo-embeddings/.venv/lib/python3.9/site-packages (from ipython->wizmap~=0.1.2->tempo_embeddings==0.0.1) (2.17.2)\n",
      "Requirement already satisfied: stack-data in /Users/jose/Repos/tempo-embeddings/.venv/lib/python3.9/site-packages (from ipython->wizmap~=0.1.2->tempo_embeddings==0.0.1) (0.6.3)\n",
      "Requirement already satisfied: traitlets>=5 in /Users/jose/Repos/tempo-embeddings/.venv/lib/python3.9/site-packages (from ipython->wizmap~=0.1.2->tempo_embeddings==0.0.1) (5.14.1)\n",
      "Requirement already satisfied: exceptiongroup in /Users/jose/Repos/tempo-embeddings/.venv/lib/python3.9/site-packages (from ipython->wizmap~=0.1.2->tempo_embeddings==0.0.1) (1.2.0)\n",
      "Requirement already satisfied: pexpect>4.3 in /Users/jose/Repos/tempo-embeddings/.venv/lib/python3.9/site-packages (from ipython->wizmap~=0.1.2->tempo_embeddings==0.0.1) (4.9.0)\n",
      "Requirement already satisfied: mpmath>=0.19 in /Users/jose/Repos/tempo-embeddings/.venv/lib/python3.9/site-packages (from sympy->torch~=2.3.1->tempo_embeddings==0.0.1) (1.3.0)\n",
      "Requirement already satisfied: cachetools<6.0,>=2.0.0 in /Users/jose/Repos/tempo-embeddings/.venv/lib/python3.9/site-packages (from google-auth>=1.0.1->kubernetes>=28.1.0->chromadb~=0.4.22->tempo_embeddings==0.0.1) (5.3.2)\n",
      "Requirement already satisfied: pyasn1-modules>=0.2.1 in /Users/jose/Repos/tempo-embeddings/.venv/lib/python3.9/site-packages (from google-auth>=1.0.1->kubernetes>=28.1.0->chromadb~=0.4.22->tempo_embeddings==0.0.1) (0.3.0)\n",
      "Requirement already satisfied: rsa<5,>=3.1.4 in /Users/jose/Repos/tempo-embeddings/.venv/lib/python3.9/site-packages (from google-auth>=1.0.1->kubernetes>=28.1.0->chromadb~=0.4.22->tempo_embeddings==0.0.1) (4.9)\n",
      "Requirement already satisfied: parso<0.9.0,>=0.8.3 in /Users/jose/Repos/tempo-embeddings/.venv/lib/python3.9/site-packages (from jedi>=0.16->ipython->wizmap~=0.1.2->tempo_embeddings==0.0.1) (0.8.3)\n",
      "Requirement already satisfied: locket in /Users/jose/Repos/tempo-embeddings/.venv/lib/python3.9/site-packages (from partd>=1.2.0->dask->datashader->tempo_embeddings==0.0.1) (1.0.0)\n",
      "Requirement already satisfied: ptyprocess>=0.5 in /Users/jose/Repos/tempo-embeddings/.venv/lib/python3.9/site-packages (from pexpect>4.3->ipython->wizmap~=0.1.2->tempo_embeddings==0.0.1) (0.7.0)\n",
      "Requirement already satisfied: wcwidth in /Users/jose/Repos/tempo-embeddings/.venv/lib/python3.9/site-packages (from prompt-toolkit<3.1.0,>=3.0.41->ipython->wizmap~=0.1.2->tempo_embeddings==0.0.1) (0.2.13)\n",
      "Requirement already satisfied: webencodings in /Users/jose/Repos/tempo-embeddings/.venv/lib/python3.9/site-packages (from bleach->panel>=1.0->holoviews->tempo_embeddings==0.0.1) (0.5.1)\n",
      "Requirement already satisfied: humanfriendly>=9.1 in /Users/jose/Repos/tempo-embeddings/.venv/lib/python3.9/site-packages (from coloredlogs->onnxruntime>=1.14.1->chromadb~=0.4.22->tempo_embeddings==0.0.1) (10.0)\n",
      "Requirement already satisfied: cffi>=1.12 in /Users/jose/Repos/tempo-embeddings/.venv/lib/python3.9/site-packages (from cryptography->authlib<2.0.0,>=1.2.1->weaviate-client->tempo_embeddings==0.0.1) (1.16.0)\n",
      "Requirement already satisfied: uc-micro-py in /Users/jose/Repos/tempo-embeddings/.venv/lib/python3.9/site-packages (from linkify-it-py->panel>=1.0->holoviews->tempo_embeddings==0.0.1) (1.0.2)\n",
      "Requirement already satisfied: mdurl~=0.1 in /Users/jose/Repos/tempo-embeddings/.venv/lib/python3.9/site-packages (from markdown-it-py->panel>=1.0->holoviews->tempo_embeddings==0.0.1) (0.1.2)\n",
      "Requirement already satisfied: executing>=1.2.0 in /Users/jose/Repos/tempo-embeddings/.venv/lib/python3.9/site-packages (from stack-data->ipython->wizmap~=0.1.2->tempo_embeddings==0.0.1) (2.0.1)\n",
      "Requirement already satisfied: asttokens>=2.1.0 in /Users/jose/Repos/tempo-embeddings/.venv/lib/python3.9/site-packages (from stack-data->ipython->wizmap~=0.1.2->tempo_embeddings==0.0.1) (2.4.1)\n",
      "Requirement already satisfied: pure-eval in /Users/jose/Repos/tempo-embeddings/.venv/lib/python3.9/site-packages (from stack-data->ipython->wizmap~=0.1.2->tempo_embeddings==0.0.1) (0.2.2)\n",
      "Requirement already satisfied: pycparser in /Users/jose/Repos/tempo-embeddings/.venv/lib/python3.9/site-packages (from cffi>=1.12->cryptography->authlib<2.0.0,>=1.2.1->weaviate-client->tempo_embeddings==0.0.1) (2.21)\n",
      "Requirement already satisfied: pyasn1<0.6.0,>=0.4.6 in /Users/jose/Repos/tempo-embeddings/.venv/lib/python3.9/site-packages (from pyasn1-modules>=0.2.1->google-auth>=1.0.1->kubernetes>=28.1.0->chromadb~=0.4.22->tempo_embeddings==0.0.1) (0.5.1)\n",
      "Building wheels for collected packages: tempo_embeddings\n",
      "  Building wheel for tempo_embeddings (pyproject.toml) ... \u001b[?25ldone\n",
      "\u001b[?25h  Created wheel for tempo_embeddings: filename=tempo_embeddings-0.0.1-py3-none-any.whl size=37491 sha256=9f341469a743b0838e26e34b61ff54f8baa039a705650bf70d00f6803df1625a\n",
      "  Stored in directory: /Users/jose/Library/Caches/pip/wheels/de/25/96/d92b7a130b730e0ab67770d76841f36cb3d1f9cda32a4a539b\n",
      "Successfully built tempo_embeddings\n",
      "Installing collected packages: tempo_embeddings\n",
      "  Attempting uninstall: tempo_embeddings\n",
      "    Found existing installation: tempo_embeddings 0.0.1\n",
      "    Uninstalling tempo_embeddings-0.0.1:\n",
      "      Successfully uninstalled tempo_embeddings-0.0.1\n",
      "Successfully installed tempo_embeddings-0.0.1\n",
      "Note: you may need to restart the kernel to use updated packages.\n"
     ]
    }
   ],
   "source": [
    "# Install tempo-embeddings from GitHub\n",
    "# This can also refer to a specific version or branch\n",
    "%pip install ..\n",
    "\n",
    "# %pip install --upgrade pip  # Required for properly resolving dependencies\n",
    "# %pip uninstall -y tempo_embeddings  # Remove existing installation\n",
    "# %pip install --upgrade git+https://github.com/Semantics-of-Sustainability/tempo-embeddings.git\n"
   ]
  },
  {
   "cell_type": "markdown",
   "metadata": {},
   "source": [
    "### Import tempo-embeddings and start logging"
   ]
  },
  {
   "cell_type": "code",
   "execution_count": 2,
   "metadata": {},
   "outputs": [],
   "source": [
    "# make sure installation has succeeded\n",
    "import tempo_embeddings\n",
    "\n",
    "from importlib import reload\n",
    "import logging\n",
    "reload(logging)\n",
    "logging.basicConfig(format='%(asctime)s %(levelname)s:%(message)s', level=logging.INFO, datefmt='%I:%M:%S')\n",
    "\n",
    "%load_ext autoreload"
   ]
  },
  {
   "cell_type": "markdown",
   "metadata": {},
   "source": [
    "### Optional: Load NLP Pipeline\n",
    "\n",
    "It is possible to use the Stanza library to pre-tokenize and split the text into sentences. This process is not perfect (it tends to overfragment the text if it has too many rare characters) and takes some extra amount of time and memory resources. If `nlp_pipeline = None` then a naive tokenization is done by splitting with spaces and stripping punctuation characters from the text."
   ]
  },
  {
   "cell_type": "code",
   "execution_count": 3,
   "metadata": {},
   "outputs": [
    {
     "name": "stdout",
     "output_type": "stream",
     "text": [
      "Requirement already satisfied: stanza==1.7.0 in /Users/jose/Repos/tempo-embeddings/.venv/lib/python3.9/site-packages (1.7.0)\n",
      "Requirement already satisfied: emoji in /Users/jose/Repos/tempo-embeddings/.venv/lib/python3.9/site-packages (from stanza==1.7.0) (2.10.1)\n",
      "Requirement already satisfied: numpy in /Users/jose/Repos/tempo-embeddings/.venv/lib/python3.9/site-packages (from stanza==1.7.0) (1.26.3)\n",
      "Requirement already satisfied: protobuf>=3.15.0 in /Users/jose/Repos/tempo-embeddings/.venv/lib/python3.9/site-packages (from stanza==1.7.0) (5.27.1)\n",
      "Requirement already satisfied: requests in /Users/jose/Repos/tempo-embeddings/.venv/lib/python3.9/site-packages (from stanza==1.7.0) (2.31.0)\n",
      "Requirement already satisfied: networkx in /Users/jose/Repos/tempo-embeddings/.venv/lib/python3.9/site-packages (from stanza==1.7.0) (3.2.1)\n",
      "Requirement already satisfied: toml in /Users/jose/Repos/tempo-embeddings/.venv/lib/python3.9/site-packages (from stanza==1.7.0) (0.10.2)\n",
      "Requirement already satisfied: torch>=1.3.0 in /Users/jose/Repos/tempo-embeddings/.venv/lib/python3.9/site-packages (from stanza==1.7.0) (2.3.1)\n",
      "Requirement already satisfied: tqdm in /Users/jose/Repos/tempo-embeddings/.venv/lib/python3.9/site-packages (from stanza==1.7.0) (4.66.1)\n",
      "Requirement already satisfied: filelock in /Users/jose/Repos/tempo-embeddings/.venv/lib/python3.9/site-packages (from torch>=1.3.0->stanza==1.7.0) (3.13.1)\n",
      "Requirement already satisfied: typing-extensions>=4.8.0 in /Users/jose/Repos/tempo-embeddings/.venv/lib/python3.9/site-packages (from torch>=1.3.0->stanza==1.7.0) (4.9.0)\n",
      "Requirement already satisfied: sympy in /Users/jose/Repos/tempo-embeddings/.venv/lib/python3.9/site-packages (from torch>=1.3.0->stanza==1.7.0) (1.12)\n",
      "Requirement already satisfied: jinja2 in /Users/jose/Repos/tempo-embeddings/.venv/lib/python3.9/site-packages (from torch>=1.3.0->stanza==1.7.0) (3.1.3)\n",
      "Requirement already satisfied: fsspec in /Users/jose/Repos/tempo-embeddings/.venv/lib/python3.9/site-packages (from torch>=1.3.0->stanza==1.7.0) (2023.12.2)\n",
      "Requirement already satisfied: charset-normalizer<4,>=2 in /Users/jose/Repos/tempo-embeddings/.venv/lib/python3.9/site-packages (from requests->stanza==1.7.0) (3.3.2)\n",
      "Requirement already satisfied: idna<4,>=2.5 in /Users/jose/Repos/tempo-embeddings/.venv/lib/python3.9/site-packages (from requests->stanza==1.7.0) (3.6)\n",
      "Requirement already satisfied: urllib3<3,>=1.21.1 in /Users/jose/Repos/tempo-embeddings/.venv/lib/python3.9/site-packages (from requests->stanza==1.7.0) (2.1.0)\n",
      "Requirement already satisfied: certifi>=2017.4.17 in /Users/jose/Repos/tempo-embeddings/.venv/lib/python3.9/site-packages (from requests->stanza==1.7.0) (2023.11.17)\n",
      "Requirement already satisfied: MarkupSafe>=2.0 in /Users/jose/Repos/tempo-embeddings/.venv/lib/python3.9/site-packages (from jinja2->torch>=1.3.0->stanza==1.7.0) (2.1.4)\n",
      "Requirement already satisfied: mpmath>=0.19 in /Users/jose/Repos/tempo-embeddings/.venv/lib/python3.9/site-packages (from sympy->torch>=1.3.0->stanza==1.7.0) (1.3.0)\n",
      "Note: you may need to restart the kernel to use updated packages.\n"
     ]
    }
   ],
   "source": [
    "%pip install stanza==1.7.0"
   ]
  },
  {
   "cell_type": "code",
   "execution_count": 4,
   "metadata": {},
   "outputs": [],
   "source": [
    "nlp_pipeline = None\n",
    "\n",
    "# import stanza\n",
    "# stanza.download('nl')\n",
    "# nlp_pipeline = stanza.Pipeline(\"nl\", processors='tokenize')"
   ]
  },
  {
   "cell_type": "markdown",
   "metadata": {},
   "source": [
    "## Load Data\n",
    "\n",
    "The data needs to be downloaded and provided in the path configured in the next cell.\n",
    "\n",
    "NOTE: You have to manually adapt the `DATA_DIR` below."
   ]
  },
  {
   "cell_type": "code",
   "execution_count": 5,
   "metadata": {},
   "outputs": [],
   "source": [
    "%autoreload now\n",
    "\n",
    "import operator\n",
    "from functools import reduce\n",
    "from pathlib import Path\n",
    "from tqdm import tqdm\n",
    "from tempo_embeddings.text.corpus import Corpus"
   ]
  },
  {
   "cell_type": "code",
   "execution_count": 17,
   "metadata": {},
   "outputs": [
    {
     "data": {
      "text/plain": [
       "['milieuproblemen',\n",
       " 'Milieunormen',\n",
       " 'Milieubeweging ',\n",
       " 'Milieu-aspecten',\n",
       " 'milieueffecten',\n",
       " 'Milieumaatregelen',\n",
       " 'Milieuvriendelijk ',\n",
       " 'Milieubeleid',\n",
       " 'milieuoogpunt',\n",
       " 'koolzuur',\n",
       " 'koolzuurgas',\n",
       " 'stikstofdioxide',\n",
       " 'zwaveldioxide',\n",
       " 'isolatie',\n",
       " 'Rookgassen',\n",
       " 'verzuring',\n",
       " 'Zuinig',\n",
       " 'vervuilde',\n",
       " 'niet-vervuilde',\n",
       " 'luchtvervuiling',\n",
       " 'luchtverontreiniging',\n",
       " 'energieverbruik',\n",
       " 'electriciteitsverbruik',\n",
       " 'energieverspilling',\n",
       " 'isolatie',\n",
       " 'energieverslindend',\n",
       " 'heffing',\n",
       " 'Broeikaseffect',\n",
       " 'broeikas-effect',\n",
       " 'broeikasgassen',\n",
       " 'Energiebesparingsmogelijkheden',\n",
       " 'CO2-uitstoot',\n",
       " 'wereldklimaat']"
      ]
     },
     "execution_count": 17,
     "metadata": {},
     "output_type": "execute_result"
    }
   ],
   "source": [
    "WINDOW_SIZE = 300 # Size of passages in characters\n",
    "USE_FULL_SENTENCES = False # For now, this parameter overrides the window size. Instead of splitting arbitrarily the passages in WINDO_SIZE chunks, each Sentence will be a Passage\n",
    "\n",
    "RANDOM_SAMPLE_ANP = 200\n",
    "RANDOM_SAMPLE_STATEN_GENERAAL = 200\n",
    "\n",
    "STATEN_GENERAAL_BLACKLIST = [\"1987\"]\n",
    "\n",
    "FILTER_TERMS = [\"duurzaam\"]  # Search term(s) for filtering the corpus. If empty, it will only create Passages for the pieces of text that match the FILTER_TERMS\n",
    "FILTER_TERMS = open(\"sustainability-filter-words.txt\").read().split(\"\\n\")\n",
    "FILTER_TERMS"
   ]
  },
  {
   "cell_type": "code",
   "execution_count": 7,
   "metadata": {},
   "outputs": [],
   "source": [
    "## NOTE: Adapt the `DATA_DIR` below manually!\n",
    "## For a shared Google Drive, create a shortcut into your own Google Drive\n",
    "## See https://stackoverflow.com/questions/54351852/accessing-shared-with-me-with-colab\n",
    "\n",
    "try:\n",
    "    import google.colab\n",
    "    IN_COLAB = True\n",
    "except ModuleNotFoundError:\n",
    "    IN_COLAB = False\n",
    "\n",
    "LOCAL_PATHS: list[Path] = [\n",
    "    Path.home() / \"Documents\" / \"SemanticsOfSustainability\" / \"data\" / \"Joris\",\n",
    "    Path.home() / \"SEED_DATA\" / \"SemanticsSustainability\", # local angel\n",
    "    Path(\"/data/volume_2/data\"),  # Research Cloud\n",
    "    Path(\"/data/storage-semantics-of-sustainability/data/\"), # New Research Cloud\n",
    "    Path(\"/home/cschnober/data/\"),  # Snellius\n",
    "]\n",
    "\n",
    "if IN_COLAB:\n",
    "    from google.colab import drive\n",
    "\n",
    "    drive.mount(\"/content/drive\")\n",
    "\n",
    "    DATA_DIR = Path(\"/content/drive/MyDrive/Data/\")\n",
    "else:\n",
    "    try:\n",
    "        DATA_DIR = next(path for path in LOCAL_PATHS if path.is_dir())\n",
    "    except StopIteration as e:\n",
    "        raise DirectoryNotFoundError(f\"Data directory not found.\") from e\n",
    "\n",
    "assert DATA_DIR.is_dir(), f\"Data dir '{DATA_DIR}' not found.\""
   ]
  },
  {
   "cell_type": "markdown",
   "metadata": {},
   "source": [
    "### ANP"
   ]
  },
  {
   "cell_type": "code",
   "execution_count": 8,
   "metadata": {},
   "outputs": [],
   "source": [
    "ANP_DIR = DATA_DIR / \"ANP\"\n",
    "assert RANDOM_SAMPLE_ANP == 0 or ANP_DIR.is_dir(), f\"{ANP_DIR} not found.\""
   ]
  },
  {
   "cell_type": "code",
   "execution_count": 9,
   "metadata": {},
   "outputs": [
    {
     "name": "stdout",
     "output_type": "stream",
     "text": [
      "Found 2 ANP Files\n"
     ]
    },
    {
     "data": {
      "text/plain": [
       "[PosixPath('/Users/jose/SEED_DATA/SemanticsSustainability/ANP/ANP_1983.csv.gz'),\n",
       " PosixPath('/Users/jose/SEED_DATA/SemanticsSustainability/ANP/ANP_1984.csv.gz')]"
      ]
     },
     "execution_count": 9,
     "metadata": {},
     "output_type": "execute_result"
    }
   ],
   "source": [
    "import random\n",
    "\n",
    "\n",
    "random.seed(0)\n",
    "\n",
    "anp_files = list(ANP_DIR.glob(\"ANP_????.csv.gz\"))\n",
    "\n",
    "if RANDOM_SAMPLE_ANP and len(anp_files) > RANDOM_SAMPLE_ANP:\n",
    "    anp_files = random.sample(\n",
    "        list(ANP_DIR.glob(\"ANP_????.csv.gz\")), k=RANDOM_SAMPLE_ANP\n",
    "    )\n",
    "\n",
    "print(f\"Found {len(anp_files)} ANP Files\")\n",
    "anp_files[:10]"
   ]
  },
  {
   "cell_type": "code",
   "execution_count": 10,
   "metadata": {},
   "outputs": [
    {
     "name": "stderr",
     "output_type": "stream",
     "text": [
      "100%|██████████| 2/2 [00:02<00:00,  1.05s/file]\n"
     ]
    },
    {
     "data": {
      "text/plain": [
       "22331"
      ]
     },
     "execution_count": 10,
     "metadata": {},
     "output_type": "execute_result"
    }
   ],
   "source": [
    "anp_corpus = (\n",
    "    reduce(\n",
    "        operator.add,\n",
    "        (\n",
    "            Corpus.from_csv_file(\n",
    "                path,\n",
    "                filter_terms=FILTER_TERMS,\n",
    "                text_columns=[\"content\"],\n",
    "                encoding=\"iso8859_15\",\n",
    "                compression=\"gzip\",\n",
    "                delimiter=\";\",\n",
    "                window_size=WINDOW_SIZE,\n",
    "                nlp_pipeline=nlp_pipeline\n",
    "            )\n",
    "            for path in tqdm(anp_files, unit=\"file\")\n",
    "        ),\n",
    "    )\n",
    "    if anp_files\n",
    "    else Corpus()\n",
    ")\n",
    "\n",
    "len(anp_corpus)"
   ]
  },
  {
   "cell_type": "code",
   "execution_count": 25,
   "metadata": {},
   "outputs": [
    {
     "name": "stdout",
     "output_type": "stream",
     "text": [
      "299\n"
     ]
    },
    {
     "data": {
      "text/html": [
       "Hed.  blank  Datum:  1 1 83  Tijd:  Onderwerp: nieuwjaar in <b>nederland</b>  1. ???^--------^?????????^?^?????????????^_ De jaarwisseling is in ons land over het algemeen rustig ver2- . lopen. Voor zover op dit ogenblik bekend, is het alleen in 3. den Haag en in Tilburg rumoerig geweest. In den Haag werd"
      ],
      "text/plain": [
       "<IPython.core.display.HTML object>"
      ]
     },
     "metadata": {},
     "output_type": "display_data"
    },
    {
     "name": "stdout",
     "output_type": "stream",
     "text": [
      "307\n"
     ]
    },
    {
     "data": {
      "text/html": [
       "Wed.:  blank  Datum:  1 1 83  Tijd:  ko  Onderwerp: nieuwjaar <b>nederland</b>  1.  2.  3.  De jaarwisseling is op de meeste plaatsen in het land, voor  7.  8.  9.  10.  11  12  13.  14.  15.  zover op dit ogenblik bekend, rustig verlopen. Maar na enen is het in den Haag rumoerig geworden; aa  /gooiden jongelui/("
      ],
      "text/plain": [
       "<IPython.core.display.HTML object>"
      ]
     },
     "metadata": {},
     "output_type": "display_data"
    },
    {
     "name": "stdout",
     "output_type": "stream",
     "text": [
      "303\n"
     ]
    },
    {
     "data": {
      "text/html": [
       "Hed.: blank  ) a^n:  1 1 83  Ttjd:  go  Onderv  nieuwjaar in <b>nederland</b>  3.  4.  6.  7.  9.  10  11.  12  13.  14.  De jaarwisseling is in ons land over het algemeen rustig verlopen-  verlopen. Voor zover op dit ogenblik bekend, is het alleen in  den Haag en in Tilburg rumoerig geweest. In den Haag werd"
      ],
      "text/plain": [
       "<IPython.core.display.HTML object>"
      ]
     },
     "metadata": {},
     "output_type": "display_data"
    },
    {
     "name": "stdout",
     "output_type": "stream",
     "text": [
      "306\n"
     ]
    },
    {
     "data": {
      "text/html": [
       "14.  15.  Volgens betrouwbare bronnen in Suriname proberen steeds meer studenten van de universiteit van Paramaribo voor het vervolg van  hun studies naar <b>Nederland</b> te komen.  Een Zimbahwese minister beschuldigt Zuidafrika van het vormen van een brigade uit mensen van in Matabeleland die in die zuidelijke"
      ],
      "text/plain": [
       "<IPython.core.display.HTML object>"
      ]
     },
     "metadata": {},
     "output_type": "display_data"
    },
    {
     "name": "stdout",
     "output_type": "stream",
     "text": [
      "301\n"
     ]
    },
    {
     "data": {
      "text/html": [
       "gisteren waartussen zeven uur' s avonds en  5.  vier uur' s ochtends. Uit betrouwbare bronnen in Paramaribo  komt het bericht dat steeds meer studenten van de universiteit  7.  van Paramaribo uitwijken naar <b>Nederland</b>. Volgens deze bronnen  hebben tot nu toe 100 van de 12 honderd studenten de wens  9."
      ],
      "text/plain": [
       "<IPython.core.display.HTML object>"
      ]
     },
     "metadata": {},
     "output_type": "display_data"
    },
    {
     "name": "stdout",
     "output_type": "stream",
     "text": [
      "192\n"
     ]
    },
    {
     "data": {
      "text/html": [
       "9.  ge-uit, hun studies in <b>Nederland</b> vcort te zetten. Een aantal  10.  docehten van de Surinaamse universiteit is al in Nederland en  it  de colleges liegen geheel stil.  Bron: anp  Regets: 10"
      ],
      "text/plain": [
       "<IPython.core.display.HTML object>"
      ]
     },
     "metadata": {},
     "output_type": "display_data"
    },
    {
     "name": "stdout",
     "output_type": "stream",
     "text": [
      "192\n"
     ]
    },
    {
     "data": {
      "text/html": [
       "9.  ge-uit, hun studies in Nederland vcort te zetten. Een aantal  10.  docehten van de Surinaamse universiteit is al in <b>Nederland</b> en  it  de colleges liegen geheel stil.  Bron: anp  Regets: 10"
      ],
      "text/plain": [
       "<IPython.core.display.HTML object>"
      ]
     },
     "metadata": {},
     "output_type": "display_data"
    },
    {
     "name": "stdout",
     "output_type": "stream",
     "text": [
      "306\n"
     ]
    },
    {
     "data": {
      "text/html": [
       "wereldkampioen Hennie Stamsnijder, die 24 seconden na de winnaar 6. binnenkwam. - De rit werd gereden op het parcours waar volgend 7. jaar de <b>Nederland</b>se enï^wèreldkampioenschappea worden gehouden. 8. Er waren enkele valpartijen, onder anderen van Stamsnijder die 9. vond dat het parcours nog niet geschikt"
      ],
      "text/plain": [
       "<IPython.core.display.HTML object>"
      ]
     },
     "metadata": {},
     "output_type": "display_data"
    },
    {
     "name": "stdout",
     "output_type": "stream",
     "text": [
      "300\n"
     ]
    },
    {
     "data": {
      "text/html": [
       "geworden dat loopt van middernacht-  middernacht tot 4 uur' s morgens. - Eerst was dat tussen 7 uur  5.  ' s avonds en 4 uur' s ochtends. ? Uit betrouwbare bronnen in  Paramaribo komt het bericht dat steeds meer studenten van de  7.  universiteit van Paramaribo uitwüken naar <b>Nederland</b>. Er zouden  al"
      ],
      "text/plain": [
       "<IPython.core.display.HTML object>"
      ]
     },
     "metadata": {},
     "output_type": "display_data"
    },
    {
     "name": "stdout",
     "output_type": "stream",
     "text": [
      "144\n"
     ]
    },
    {
     "data": {
      "text/html": [
       "honderd van de 12-honder^ studenten de wens hebben geuit  9.  de studie in <b>Nederland</b> voort te zetten. -. -. -. -  15.  Bron: gy  Regets: bjjna 9"
      ],
      "text/plain": [
       "<IPython.core.display.HTML object>"
      ]
     },
     "metadata": {},
     "output_type": "display_data"
    },
    {
     "name": "stdout",
     "output_type": "stream",
     "text": [
      "301\n"
     ]
    },
    {
     "data": {
      "text/html": [
       "Eerst was dat tussen 7 uur 5. ' s avonds en 4 uur' s ochtends. ? Uit betrouwbare bronnen in 6. Paramaribo komt het bericht dat steeds meer studenteb van de 7. universiteit van Paramaribo uitwijken naar <b>Nederland</b>. Er zoudea 8. al honderd van de 12-honder^ studenten de wens hebben geuit 9. de studie in"
      ],
      "text/plain": [
       "<IPython.core.display.HTML object>"
      ]
     },
     "metadata": {},
     "output_type": "display_data"
    },
    {
     "name": "stdout",
     "output_type": "stream",
     "text": [
      "92\n"
     ]
    },
    {
     "data": {
      "text/html": [
       "<b>Nederland</b> voort te zetten. -. -. -. - 10. n -  12  13.  14.  15.  Bron:  SV  Regets: bijna 9"
      ],
      "text/plain": [
       "<IPython.core.display.HTML object>"
      ]
     },
     "metadata": {},
     "output_type": "display_data"
    },
    {
     "name": "stdout",
     "output_type": "stream",
     "text": [
      "307\n"
     ]
    },
    {
     "data": {
      "text/html": [
       "ochtends. Tot gisteren waartussen zeven uur' s avonds en vier uur' s ochtends. Uit betrouwbare bronnen in Paramaribo komï het bericht dat steeds meer studenten van de Universiteit van Paramaribo uitwijken naar <b>Nederland</b>. Volgens deze bronnen hebben tot nu toe 100 van de 12-honderd studenten de wens ge-uit,"
      ],
      "text/plain": [
       "<IPython.core.display.HTML object>"
      ]
     },
     "metadata": {},
     "output_type": "display_data"
    },
    {
     "name": "stdout",
     "output_type": "stream",
     "text": [
      "223\n"
     ]
    },
    {
     "data": {
      "text/html": [
       "ge-uit, hun studies in <b>Nederland</b> voort te zetten. Een aantal docehten van de Surinaamse universiteit is al in Nederland en  h,  ^ /< 3 /-< a ^nï /\" ^.  '  de colleges! liggen geheol stil.  14. 15. Bron: anp ' Regets: 10 ^g."
      ],
      "text/plain": [
       "<IPython.core.display.HTML object>"
      ]
     },
     "metadata": {},
     "output_type": "display_data"
    },
    {
     "name": "stdout",
     "output_type": "stream",
     "text": [
      "223\n"
     ]
    },
    {
     "data": {
      "text/html": [
       "ge-uit, hun studies in Nederland voort te zetten. Een aantal docehten van de Surinaamse universiteit is al in <b>Nederland</b> en  h,  ^ /< 3 /-< a ^nï /\" ^.  '  de colleges! liggen geheol stil.  14. 15. Bron: anp ' Regets: 10 ^g."
      ],
      "text/plain": [
       "<IPython.core.display.HTML object>"
      ]
     },
     "metadata": {},
     "output_type": "display_data"
    },
    {
     "name": "stdout",
     "output_type": "stream",
     "text": [
      "304\n"
     ]
    },
    {
     "data": {
      "text/html": [
       "derde plaats eindigde oud- wereldkampioen Hennie Stamsnijder, die 24 seconden na de winnaar binnenkwam. - De rit werd gereden op het parcours waar volgend  jaar de <b>Nederland</b>se enLfwereldkampioenschappea worden gehouden. Er waren enkele valpartijen, onder anderen van Stamsnijder die vond dat het parcours"
      ],
      "text/plain": [
       "<IPython.core.display.HTML object>"
      ]
     },
     "metadata": {},
     "output_type": "display_data"
    },
    {
     "name": "stdout",
     "output_type": "stream",
     "text": [
      "301\n"
     ]
    },
    {
     "data": {
      "text/html": [
       "Hed.:  spa  Datum:  3 1 82  Tijd:  f  Onderwerp:  een schipbreuk  3.  De4aPaaaS3fHaMfkustvaarder Johanna is op Nieuwjaarsdag op de rotsen bij Hartland Point in Zuid Engeland gelopen, en vervolgen;  leeggeplunderd door de plaatselijke bevolking. De bemanning van de Jonaïiha, /drie <b>Nederland</b>ers en vier"
      ],
      "text/plain": [
       "<IPython.core.display.HTML object>"
      ]
     },
     "metadata": {},
     "output_type": "display_data"
    },
    {
     "name": "stdout",
     "output_type": "stream",
     "text": [
      "302\n"
     ]
    },
    {
     "data": {
      "text/html": [
       "Red.: Datum: Tijd: Onderwerp: kreek 3. 1. 83 18oo sv gasunie sv  1.  De daling in de afzet van de <b>Nederland</b>se Gas Unie is vorig jaar doorgegaan. In 1982 verkocht de Gas Unie in totaal 70 miljard s kubieke meter, ruim 10 miljard minder dan in' 81. Volgens de hoofddirecteur van de unie, de heer Kardaun,"
      ],
      "text/plain": [
       "<IPython.core.display.HTML object>"
      ]
     },
     "metadata": {},
     "output_type": "display_data"
    },
    {
     "name": "stdout",
     "output_type": "stream",
     "text": [
      "309\n"
     ]
    },
    {
     "data": {
      "text/html": [
       "de FNV heeft gepubliceerd. De nota zal door de FNV-bonden worden gebruikt als handleiding bij de komende c. a. o. -besprekingen. De federatie <b>nederland</b>se vakbeweging streeft de komende vier jaar naar een geleidelijke verkorting van de werkweek tot 36 uur. Maar daarvoor hoeven de werknemers niet de eventedige"
      ],
      "text/plain": [
       "<IPython.core.display.HTML object>"
      ]
     },
     "metadata": {},
     "output_type": "display_data"
    },
    {
     "name": "stdout",
     "output_type": "stream",
     "text": [
      "301\n"
     ]
    },
    {
     "data": {
      "text/html": [
       "Red.  duijv  Datum:  3 1 8^  Tijd: Onderwerp: 2230 minder stroomverbruik  3.  Het electriciteitsverbruik in <b>Nederland</b> is het afgelopen jaar gedaald met 2 komma 2 procent in vergelijking met 1981. Die daling is nog groter dan enkele maanden geleden werd verwacht. De vermindering van het stroomverbruik"
      ],
      "text/plain": [
       "<IPython.core.display.HTML object>"
      ]
     },
     "metadata": {},
     "output_type": "display_data"
    }
   ],
   "source": [
    "from IPython.display import HTML\n",
    "for p in anp_corpus.passages[:20]:\n",
    "    print(len(p.text))\n",
    "    display(HTML(p.highlighted_text()))"
   ]
  },
  {
   "cell_type": "markdown",
   "metadata": {},
   "source": [
    "### Staten Generaal"
   ]
  },
  {
   "cell_type": "code",
   "execution_count": null,
   "metadata": {},
   "outputs": [],
   "source": [
    "STATEN_GENERAAL_DIR = DATA_DIR / \"StatenGeneraal\"\n",
    "\n",
    "assert RANDOM_SAMPLE_STATEN_GENERAAL == 0 or STATEN_GENERAAL_DIR.is_dir()"
   ]
  },
  {
   "cell_type": "code",
   "execution_count": null,
   "metadata": {},
   "outputs": [],
   "source": [
    "glob195x = \"StatenGeneraal_19[0-9]?.csv.gz\"  # Pattern for files from 1950-1999\n",
    "glob20xx = \"StatenGeneraal_2???.csv.gz\"  # Pattern for files from 2000\n",
    "\n",
    "files_195x = list(STATEN_GENERAAL_DIR.glob(glob195x))\n",
    "files_20xx = list(STATEN_GENERAAL_DIR.glob(glob20xx))\n",
    "\n",
    "sg_files = [\n",
    "    file\n",
    "    # Merge files from patterns\n",
    "    for file in files_20xx + files_195x\n",
    "    # Remove blacklisted files:\n",
    "    for blacklisted in STATEN_GENERAAL_BLACKLIST\n",
    "    if blacklisted not in file.name\n",
    "]\n",
    "\n",
    "if RANDOM_SAMPLE_STATEN_GENERAAL and RANDOM_SAMPLE_STATEN_GENERAAL < len(sg_files):\n",
    "    sg_files = random.sample(sg_files, k=RANDOM_SAMPLE_STATEN_GENERAAL)\n",
    "\n",
    "print(f\"Found {len(sg_files)} STAATEN_G Files\")\n",
    "sorted(sg_files[:10])"
   ]
  },
  {
   "cell_type": "code",
   "execution_count": null,
   "metadata": {},
   "outputs": [],
   "source": [
    "%autoreload now\n",
    "\n",
    "import csv\n",
    "\n",
    "csv.field_size_limit(100000000)\n",
    "\n",
    "sg_corpus = (\n",
    "    reduce(\n",
    "        operator.add,\n",
    "        (\n",
    "            Corpus.from_csv_file(\n",
    "                path,\n",
    "                filter_terms=FILTER_TERMS,\n",
    "                text_columns=[\"Content\"],\n",
    "                encoding=\"utf-8\",\n",
    "                compression=\"gzip\",\n",
    "                delimiter=\";\",\n",
    "                window_size=WINDOW_SIZE,\n",
    "                nlp_pipeline=nlp_pipeline\n",
    "            )\n",
    "            for path in tqdm(sg_files, unit=\"file\")\n",
    "        ),\n",
    "    )\n",
    "    if sg_files\n",
    "    else Corpus()\n",
    ")\n",
    "\n",
    "len(sg_corpus)"
   ]
  },
  {
   "cell_type": "markdown",
   "metadata": {},
   "source": [
    "### Show the Passages that were created in the corpus"
   ]
  },
  {
   "cell_type": "code",
   "execution_count": null,
   "metadata": {},
   "outputs": [],
   "source": [
    "for p in sg_corpus.passages[:20]:\n",
    "    print(len(p), p)"
   ]
  },
  {
   "cell_type": "markdown",
   "metadata": {},
   "source": [
    "### Merge"
   ]
  },
  {
   "cell_type": "code",
   "execution_count": null,
   "metadata": {},
   "outputs": [],
   "source": [
    "corpus = anp_corpus # + sg_corpus\n",
    "len(corpus)"
   ]
  },
  {
   "cell_type": "markdown",
   "metadata": {},
   "source": [
    "## Load Model"
   ]
  },
  {
   "cell_type": "code",
   "execution_count": null,
   "metadata": {},
   "outputs": [],
   "source": [
    "%autoreload now\n",
    "from tempo_embeddings.embeddings.model import EmbeddingsMethod\n",
    "from tempo_embeddings.embeddings.model import  SentenceTransformerModelWrapper\n",
    "\n",
    "kwargs = {\"accelerate\": True}\n",
    "\n",
    "### Sentence Transformers\n",
    "MODEL_NAME = \"NetherlandsForensicInstitute/robbert-2022-dutch-sentence-transformers\"\n",
    "# MODEL_NAME = \"textgain/allnli-GroNLP-bert-base-dutch-cased\"\n",
    "model_class = SentenceTransformerModelWrapper\n",
    "\n",
    "model = model_class.from_pretrained(MODEL_NAME, **kwargs)\n",
    "model.embeddings_method = EmbeddingsMethod.MEAN\n",
    "model"
   ]
  },
  {
   "cell_type": "markdown",
   "metadata": {},
   "source": [
    "## Create or Open existing Database"
   ]
  },
  {
   "cell_type": "code",
   "execution_count": null,
   "metadata": {},
   "outputs": [],
   "source": [
    "import os\n",
    "from tempo_embeddings.embeddings.weaviate_database import WeaviateDatabaseManager\n",
    "\n",
    "# from dotenv import load_dotenv\n",
    "# load_dotenv()\n",
    "# MODEL_NAME = \"NetherlandsForensicInstitute/robbert-2022-dutch-sentence-transformers\"\n",
    "# EMBED_CONFIG = {\"type\":\"hf\", \"api_key\": os.getenv('HUGGING_FACE_API_KEY')}\n",
    "\n",
    "EMBED_CONFIG = {\"type\": \"default\", \"model\": model} \n",
    "db = WeaviateDatabaseManager(embedder_name=MODEL_NAME,embedder_config=EMBED_CONFIG)\n",
    "db.connect()\n",
    "\n",
    "collection_name = \"AnpSgCorpus\""
   ]
  },
  {
   "cell_type": "code",
   "execution_count": null,
   "metadata": {},
   "outputs": [],
   "source": [
    "%autoreload now"
   ]
  },
  {
   "cell_type": "markdown",
   "metadata": {},
   "source": [
    "## Compute & Save Embeddings (If DB didn't existed)"
   ]
  },
  {
   "cell_type": "code",
   "execution_count": null,
   "metadata": {},
   "outputs": [],
   "source": [
    "try:\n",
    "    db.create_new_collection(collection_name, corpus)\n",
    "except ValueError:\n",
    "    print(f\"Collection '{collection_name}' already exists and has {db.get_collection_count(collection_name)} records\")\n",
    "    "
   ]
  },
  {
   "cell_type": "markdown",
   "metadata": {},
   "source": [
    "## TEST: Retrieve Records from Database"
   ]
  },
  {
   "cell_type": "code",
   "execution_count": null,
   "metadata": {},
   "outputs": [],
   "source": [
    "%autoreload now\n",
    "\n",
    "corpus_mini = db.get_corpus(collection_name, filter_words=[\"duurzaam\"])\n",
    "print(len(corpus_mini))"
   ]
  },
  {
   "cell_type": "code",
   "execution_count": null,
   "metadata": {},
   "outputs": [],
   "source": []
  },
  {
   "cell_type": "code",
   "execution_count": null,
   "metadata": {},
   "outputs": [],
   "source": [
    "if len(corpus_mini):\n",
    "    db.create_new_collection(\"AnpDuurzaam\", corpus_mini)"
   ]
  }
 ],
 "metadata": {
  "kernelspec": {
   "display_name": ".venv",
   "language": "python",
   "name": "python3"
  },
  "language_info": {
   "codemirror_mode": {
    "name": "ipython",
    "version": 3
   },
   "file_extension": ".py",
   "mimetype": "text/x-python",
   "name": "python",
   "nbconvert_exporter": "python",
   "pygments_lexer": "ipython3",
   "version": "3.9.6"
  },
  "orig_nbformat": 4
 },
 "nbformat": 4,
 "nbformat_minor": 2
}
