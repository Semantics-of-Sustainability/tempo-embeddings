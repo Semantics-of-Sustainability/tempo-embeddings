{
 "cells": [
  {
   "cell_type": "code",
   "execution_count": 1,
   "metadata": {},
   "outputs": [],
   "source": [
    "# # Install tempo-embeddings from GitHub\n",
    "# # This can also refer to a specific version or branch\n",
    "\n",
    "# %pip install --upgrade pip  # Required for properly resolving dependencies\n",
    "# %pip uninstall -y tempo_embeddings  # Remove existing installation\n",
    "# %pip install --upgrade git+https://github.com/Semantics-of-Sustainability/tempo-embeddings.git"
   ]
  },
  {
   "cell_type": "code",
   "execution_count": 2,
   "metadata": {},
   "outputs": [],
   "source": [
    "# make sure installation has succeeded\n",
    "import tempo_embeddings\n",
    "\n",
    "from importlib import reload\n",
    "import logging\n",
    "reload(logging)\n",
    "logging.basicConfig(format='%(asctime)s %(levelname)s:%(message)s', level=logging.INFO, datefmt='%I:%M:%S')"
   ]
  },
  {
   "cell_type": "code",
   "execution_count": 3,
   "metadata": {},
   "outputs": [],
   "source": [
    "%load_ext autoreload"
   ]
  },
  {
   "cell_type": "code",
   "execution_count": 4,
   "metadata": {},
   "outputs": [],
   "source": [
    "try:\n",
    "    import google.colab\n",
    "\n",
    "    IN_COLAB = True\n",
    "except ModuleNotFoundError:\n",
    "    IN_COLAB = False"
   ]
  },
  {
   "cell_type": "markdown",
   "metadata": {},
   "source": [
    "## Load Collection from Database"
   ]
  },
  {
   "cell_type": "code",
   "execution_count": 5,
   "metadata": {},
   "outputs": [],
   "source": [
    "%autoreload now\n",
    "\n",
    "from pathlib import Path\n",
    "from tqdm import tqdm\n",
    "from tempo_embeddings.text.corpus import Corpus"
   ]
  },
  {
   "cell_type": "code",
   "execution_count": 6,
   "metadata": {},
   "outputs": [
    {
     "name": "stderr",
     "output_type": "stream",
     "text": [
      "/Users/jose/Repos/tempo-embeddings/.venv/lib/python3.9/site-packages/urllib3/__init__.py:34: NotOpenSSLWarning: urllib3 v2 only supports OpenSSL 1.1.1+, currently the 'ssl' module is compiled with 'LibreSSL 2.8.3'. See: https://github.com/urllib3/urllib3/issues/3020\n",
      "  warnings.warn(\n",
      "11:07:21 INFO:Anonymized telemetry enabled. See                     https://docs.trychroma.com/telemetry for more information.\n",
      "11:07:21 INFO:Path 'testing_db' already exists. Loading DB configuration:\n",
      "{'embedder_name': 'NetherlandsForensicInstitute/robbert-2022-dutch-sentence-transformers', 'embedder_type': 'custom_model', 'existing_collections': ['anp_sg_corpus', 'anp_duurzam']}\n",
      "11:07:21 INFO:Retrieved existing collection 'anp_sg_corpus'\n"
     ]
    },
    {
     "name": "stdout",
     "output_type": "stream",
     "text": [
      "Available collections in DB: ['anp_sg_corpus', 'anp_duurzam']\n",
      "1558\n"
     ]
    }
   ],
   "source": [
    "from tempo_embeddings.embeddings.vector_database import ChromaDatabaseManager\n",
    "\n",
    "# Here we load only the ANP collection because metadata field names diverge across datasets\n",
    "db = ChromaDatabaseManager(db_path=\"testing_db\", batch_size=24)\n",
    "db.connect()\n",
    "\n",
    "print(f\"Available collections in DB: {db.get_available_collections()}\")\n",
    "\n",
    "anp_sg_collection = db.get_existing_collection(\"anp_sg_corpus\")\n",
    "print(anp_sg_collection.count())"
   ]
  },
  {
   "cell_type": "markdown",
   "metadata": {},
   "source": [
    "## Create Sub-Collections"
   ]
  },
  {
   "cell_type": "code",
   "execution_count": 7,
   "metadata": {},
   "outputs": [],
   "source": [
    "from ipywidgets import interact, interactive, fixed, interact_manual\n",
    "import ipywidgets as widgets"
   ]
  },
  {
   "cell_type": "code",
   "execution_count": 8,
   "metadata": {},
   "outputs": [],
   "source": [
    "widget_year_range=widgets.IntRangeSlider(description='Year Range: ', min=1900, max=2020, step=1, value=(1980,1984))\n",
    "widget_terms=widgets.Text(description='Filter Terms (comma separated)', value=\"duurzaam\")\n",
    "widget_neighbors=widgets.IntSlider(description=\"Expand Neighborhood Size: \", min=0, max=10, value=5)"
   ]
  },
  {
   "cell_type": "code",
   "execution_count": 9,
   "metadata": {},
   "outputs": [
    {
     "data": {
      "application/vnd.jupyter.widget-view+json": {
       "model_id": "d4fc92bdf88941a2be300d9e27813732",
       "version_major": 2,
       "version_minor": 0
      },
      "text/plain": [
       "Text(value='duurzaam', description='Filter Terms (comma separated)')"
      ]
     },
     "metadata": {},
     "output_type": "display_data"
    },
    {
     "data": {
      "application/vnd.jupyter.widget-view+json": {
       "model_id": "4c12782d1fa34928948c99622b1e4b0b",
       "version_major": 2,
       "version_minor": 0
      },
      "text/plain": [
       "IntRangeSlider(value=(1980, 1984), description='Year Range: ', max=2020, min=1900)"
      ]
     },
     "metadata": {},
     "output_type": "display_data"
    },
    {
     "data": {
      "application/vnd.jupyter.widget-view+json": {
       "model_id": "cd0d59c14159466cb33672b841a9ead3",
       "version_major": 2,
       "version_minor": 0
      },
      "text/plain": [
       "IntSlider(value=5, description='Expand Neighborhood Size: ', max=10)"
      ]
     },
     "metadata": {},
     "output_type": "display_data"
    }
   ],
   "source": [
    "display(widget_terms)\n",
    "display(widget_year_range)\n",
    "display(widget_neighbors)"
   ]
  },
  {
   "cell_type": "code",
   "execution_count": 10,
   "metadata": {},
   "outputs": [
    {
     "name": "stdout",
     "output_type": "stream",
     "text": [
      "Searching terms [] between year 1980 and 1984\n",
      "Found 54 items that match!\n"
     ]
    }
   ],
   "source": [
    "# Unpack values form Widget\n",
    "year_from, year_to = widget_year_range.value\n",
    "years = [str(x) for x in range(year_from, year_to+1)]\n",
    "FILTER_TERMS = []#[s.strip() for s in widget_terms.value.split(\",\")]\n",
    "# Execute Database Query\n",
    "where_range = {\"year\": {\"$in\": years}}\n",
    "print(f\"Searching terms {FILTER_TERMS} between year {year_from} and {year_to}\")\n",
    "corpus = db.get_corpus(anp_sg_collection, filter_words=FILTER_TERMS, where_obj=where_range, include_embeddings=True, limit=10000)\n",
    "print(f\"Found {len(corpus)} items that match!\")"
   ]
  },
  {
   "cell_type": "markdown",
   "metadata": {},
   "source": [
    "## Choose Year and Plot Passages"
   ]
  },
  {
   "cell_type": "code",
   "execution_count": 11,
   "metadata": {},
   "outputs": [
    {
     "name": "stdout",
     "output_type": "stream",
     "text": [
      "Total Datapoints in the neighborhoods = 270\n",
      "Distance Info: Max = 0.6446640491485596 | Min = -1.3113021850585938e-06 | Average = 0.2709869815243615\n",
      "UMAP( verbose=True)\n",
      "Thu May 16 11:07:21 2024 Construct fuzzy simplicial set\n",
      "Thu May 16 11:07:21 2024 Finding Nearest Neighbors\n",
      "Thu May 16 11:07:22 2024 Finished Nearest Neighbor Search\n",
      "Thu May 16 11:07:23 2024 Construct embedding\n"
     ]
    },
    {
     "data": {
      "application/vnd.jupyter.widget-view+json": {
       "model_id": "21c62ae177524f299dd7a10cd603d46e",
       "version_major": 2,
       "version_minor": 0
      },
      "text/plain": [
       "Epochs completed:   0%|            0/500 [00:00]"
      ]
     },
     "metadata": {},
     "output_type": "display_data"
    },
    {
     "name": "stdout",
     "output_type": "stream",
     "text": [
      "\tcompleted  0  /  500 epochs\n",
      "\tcompleted  50  /  500 epochs\n",
      "\tcompleted  100  /  500 epochs\n",
      "\tcompleted  150  /  500 epochs\n",
      "\tcompleted  200  /  500 epochs\n",
      "\tcompleted  250  /  500 epochs\n",
      "\tcompleted  300  /  500 epochs\n",
      "\tcompleted  350  /  500 epochs\n",
      "\tcompleted  400  /  500 epochs\n",
      "\tcompleted  450  /  500 epochs\n",
      "Thu May 16 11:07:25 2024 Finished embedding\n",
      "(324, 2)\n"
     ]
    }
   ],
   "source": [
    "import statistics\n",
    "def get_corpus_with_neighborhoods(collection, corpus, k_neighbors):\n",
    "    all_neighbors = []\n",
    "    all_distances = []\n",
    "    for p in corpus.passages:\n",
    "        neighbors = db.query_vector_neighbors(collection, vector=p.embedding, k_neighbors=k_neighbors)\n",
    "        for passage, distance in neighbors:\n",
    "            all_neighbors.append(passage)\n",
    "            all_distances.append(distance)\n",
    "    print(f\"Total Datapoints in the neighborhoods = {len(all_neighbors)}\")\n",
    "    print(f\"Distance Info: Max = {max(all_distances)} | Min = {min(all_distances)} | Average = {statistics.mean(all_distances)}\")\n",
    "    # Join original passages + new found neighbors\n",
    "    all_passages = corpus.passages + all_neighbors\n",
    "    corpus = Corpus(all_passages)\n",
    "    corpus.embeddings = db.compress_embeddings(corpus)\n",
    "    print(corpus.embeddings.shape)\n",
    "    return corpus\n",
    "\n",
    "corpus = get_corpus_with_neighborhoods(anp_sg_collection, corpus, k_neighbors=widget_neighbors.value)"
   ]
  },
  {
   "cell_type": "markdown",
   "metadata": {},
   "source": [
    "## Cluster"
   ]
  },
  {
   "cell_type": "code",
   "execution_count": 12,
   "metadata": {},
   "outputs": [
    {
     "name": "stdout",
     "output_type": "stream",
     "text": [
      "Found 17 clusters in the corpus. (min cluster size is 8)\n",
      "41 Subcorpus(2, [0, 11, 12, 28, 41, 45, 54, 55, 56, 57])\n",
      "19 Subcorpus(7, [1, 31, 35, 49, 59, 60, 61, 63, 183, 209])\n",
      "20 Subcorpus(8, [2, 7, 26, 64, 65, 89, 90, 103, 158, 178])\n",
      "20 Subcorpus(9, [3, 6, 19, 39, 69, 70, 71, 72, 84, 85])\n",
      "13 Subcorpus(3, [4, 16, 32, 74, 75, 76, 78, 134, 135, 136])\n",
      "36 Subcorpus(4, [5, 20, 37, 50, 53, 66, 79, 81, 91, 93])\n",
      "16 Subcorpus(10, [8, 9, 29, 77, 94, 95, 99, 137, 138, 188])\n",
      "10 Subcorpus(14, [10, 23, 104, 105, 169, 170, 182, 213, 243, 268])\n",
      "50 Subcorpus(1, [13, 15, 17, 18, 24, 33, 38, 106, 108, 119])\n",
      "18 Subcorpus(6, [14, 22, 46, 124, 125, 126, 127, 128, 164, 165])\n",
      "8 Subcorpus(15, [21, 40, 159, 160, 163, 254, 255, 256])\n",
      "11 Subcorpus(11, [25, 42, 62, 179, 180, 211, 232, 233, 264, 265])\n",
      "15 Subcorpus(0, [27, 30, 100, 101, 189, 190, 204, 205, 226, 238])\n",
      "18 Subcorpus(5, [34, 47, 67, 68, 83, 92, 97, 156, 177, 191])\n",
      "10 Subcorpus(12, [36, 48, 234, 235, 247, 248, 294, 295, 297, 303])\n",
      "8 Subcorpus(13, [43, 52, 80, 82, 269, 270, 314, 315])\n",
      "11 Subcorpus(16, [44, 51, 98, 193, 201, 202, 208, 274, 275, 309])\n"
     ]
    }
   ],
   "source": [
    "stopwords_file = Path(\"stopwords-filter-nl.txt\")\n",
    "\n",
    "with open(stopwords_file.absolute(), \"rt\") as f:\n",
    "    stopwords = set(f.read().splitlines())\n",
    "\n",
    "stopwords.update(\n",
    "    {\n",
    "        \"wij\",\n",
    "        \"we\",\n",
    "        \"moeten\",\n",
    "        \"heer\",\n",
    "        \"mevrouw\",\n",
    "        \"minister\",\n",
    "        \"voorzitter\",\n",
    "        \"gaat\",\n",
    "        \"wel\",\n",
    "        \"den\",\n",
    "    }\n",
    ")\n",
    "\n",
    "%autoreload now\n",
    "\n",
    "# Arguments: min_cluster_size=10, cluster_selection_epsilon=0.1, ...\n",
    "# See https://scikit-learn.org/stable/modules/generated/sklearn.cluster.HDBSCAN.html for full list\n",
    "\n",
    "# e.g. min_samples=10, cluster_selection_epsilon=0.2, cluster_selection_method=\"leaf\"\n",
    "c_size = 8\n",
    "clusters = corpus.cluster(min_cluster_size=c_size, cluster_selection_epsilon=0.1)\n",
    "print(f\"Found {len(clusters)} clusters in the corpus. (min cluster size is {c_size})\")\n",
    "for c in clusters:\n",
    "    print(len(c.passages), c)"
   ]
  },
  {
   "cell_type": "markdown",
   "metadata": {},
   "source": [
    "## Cluster"
   ]
  },
  {
   "cell_type": "code",
   "execution_count": 13,
   "metadata": {},
   "outputs": [
    {
     "name": "stdout",
     "output_type": "stream",
     "text": [
      "    year\n",
      "0   1983\n",
      "1   1983\n",
      "2   1983\n",
      "3   1983\n",
      "4   1983\n",
      "5   1983\n",
      "6   1983\n",
      "7   1983\n",
      "8   1983\n",
      "9   1983\n",
      "10  1983\n",
      "11  1983\n",
      "12  1983\n",
      "13  1983\n",
      "14  1983\n",
      "15  1983\n",
      "16  1983\n",
      "17  1983\n",
      "18  1983\n",
      "19  1983\n",
      "20  1983\n",
      "21  1983\n",
      "22  1983\n",
      "23  1983\n",
      "24  1983\n",
      "25  1983\n",
      "26  1983\n",
      "27  1983\n",
      "28  1983\n",
      "29  1983\n",
      "30  1983\n",
      "31  1983\n",
      "32  1983\n",
      "33  1983\n",
      "34  1983\n",
      "35  2017\n",
      "36  1983\n",
      "37  1983\n",
      "38  1983\n",
      "39  1983\n",
      "40  1983\n",
      "Subcorpus('betere; nabije; ondanks; toekomst; verwachting', [0, 11, 12, 28, 41, 45, 54, 55, 56, 57])\n",
      "    year\n",
      "0   1984\n",
      "1   1984\n",
      "2   1984\n",
      "3   1984\n",
      "4   1984\n",
      "5   1984\n",
      "6   1984\n",
      "7   2018\n",
      "8   1984\n",
      "9   1984\n",
      "10  1984\n",
      "11  1984\n",
      "12  1984\n",
      "13  1984\n",
      "14  1984\n",
      "15  1984\n",
      "16  1984\n",
      "17  1984\n",
      "18  1984\n",
      "Subcorpus('beiroet; maatregelen; regering; vaag; vorming', [1, 31, 35, 49, 59, 60, 61, 63, 183, 209])\n",
      "    year\n",
      "0   1983\n",
      "1   1983\n",
      "2   1983\n",
      "3   1983\n",
      "4   1983\n",
      "5   1983\n",
      "6   1983\n",
      "7   1983\n",
      "8   1983\n",
      "9   1983\n",
      "10  1983\n",
      "11  1983\n",
      "12  1983\n",
      "13  1983\n",
      "14  1983\n",
      "15  1983\n",
      "16  1983\n",
      "17  1983\n",
      "18  1983\n",
      "19  1983\n",
      "Subcorpus('afzonderlijke; economen; economiën; terreinen; verschillende', [2, 7, 26, 64, 65, 89, 90, 103, 158, 178])\n",
      "    year\n",
      "0   1984\n",
      "1   1984\n",
      "2   1984\n",
      "3   1984\n",
      "4   1984\n",
      "5   1984\n",
      "6   1984\n",
      "7   1984\n",
      "8   1984\n",
      "9   1984\n",
      "10  1984\n",
      "11  1984\n",
      "12  1984\n",
      "13  1984\n",
      "14  1984\n",
      "15  1984\n",
      "16  1984\n",
      "17  1984\n",
      "18  1984\n",
      "19  1984\n",
      "Subcorpus('aup; bestuur; chemische; concern; dsm', [3, 6, 19, 39, 69, 70, 71, 72, 84, 85])\n",
      "    year\n",
      "0   1983\n",
      "1   1983\n",
      "2   1983\n",
      "3   1983\n",
      "4   1983\n",
      "5   1983\n",
      "6   2018\n",
      "7   1983\n",
      "8   1983\n",
      "9   1983\n",
      "10  1983\n",
      "11  1983\n",
      "12  1983\n",
      "Subcorpus('antillen; aruba; nederlandse; rtc; zes', [4, 16, 32, 74, 75, 76, 78, 134, 135, 136])\n",
      "    year\n",
      "0   1984\n",
      "1   1983\n",
      "2   1983\n",
      "3   1983\n",
      "4   1984\n",
      "5   1984\n",
      "6   1984\n",
      "7   1984\n",
      "8   1984\n",
      "9   1983\n",
      "10  1984\n",
      "11  1984\n",
      "12  1984\n",
      "13  1983\n",
      "14  1984\n",
      "15  1983\n",
      "16  1983\n",
      "17  1983\n",
      "18  1984\n",
      "19  1984\n",
      "20  1984\n",
      "21  1984\n",
      "22  1983\n",
      "23  1983\n",
      "24  1984\n",
      "25  1984\n",
      "26  1984\n",
      "27  1984\n",
      "28  1983\n",
      "29  1983\n",
      "30  1984\n",
      "31  1983\n",
      "32  1984\n",
      "33  1984\n",
      "34  1984\n",
      "35  1984\n",
      "Subcorpus('belancrrijkste; economie; oassen; oeso; wereldeconomie', [5, 20, 37, 50, 53, 66, 79, 81, 91, 93])\n",
      "    year\n",
      "0   1984\n",
      "1   1983\n",
      "2   1984\n",
      "3   2017\n",
      "4   1984\n",
      "5   1984\n",
      "6   1983\n",
      "7   2017\n",
      "8   2017\n",
      "9   1983\n",
      "10  1984\n",
      "11  1984\n",
      "12  2017\n",
      "13  2017\n",
      "14  1984\n",
      "15  1984\n",
      "Subcorpus('afloop; financiën; heffen; landen; verklaarde', [8, 9, 29, 77, 94, 95, 99, 137, 138, 188])\n",
      "   year\n",
      "0  1984\n",
      "1  1984\n",
      "2  1984\n",
      "3  1984\n",
      "4  1984\n",
      "5  1984\n",
      "6  1984\n",
      "7  1984\n",
      "8  1984\n",
      "9  1984\n",
      "Subcorpus('lidstaten; organisatie; volgende; week; werking', [10, 23, 104, 105, 169, 170, 182, 213, 243, 268])\n",
      "    year\n",
      "0   1983\n",
      "1   1983\n",
      "2   1983\n",
      "3   1983\n",
      "4   1983\n",
      "5   1983\n",
      "6   1983\n",
      "7   1983\n",
      "8   1983\n",
      "9   1983\n",
      "10  1983\n",
      "11  1983\n",
      "12  1983\n",
      "13  1983\n",
      "14  1983\n",
      "15  1983\n",
      "16  1983\n",
      "17  1983\n",
      "18  1983\n",
      "19  1983\n",
      "20  1983\n",
      "21  1983\n",
      "22  1983\n",
      "23  1983\n",
      "24  1983\n",
      "25  1983\n",
      "26  1983\n",
      "27  1983\n",
      "28  1983\n",
      "29  1983\n",
      "30  1983\n",
      "31  1983\n",
      "32  1983\n",
      "33  1983\n",
      "34  1983\n",
      "35  1983\n",
      "36  1983\n",
      "37  1983\n",
      "38  1983\n",
      "39  1983\n",
      "40  1983\n",
      "41  1983\n",
      "42  1983\n",
      "43  1983\n",
      "44  1983\n",
      "45  1983\n",
      "46  1983\n",
      "47  1983\n",
      "48  1983\n",
      "49  1983\n",
      "Subcorpus('april; boekjaar; eind; gemeenschap; opbouwen', [13, 15, 17, 18, 24, 33, 38, 106, 108, 119])\n",
      "    year\n",
      "0   1983\n",
      "1   1983\n",
      "2   1983\n",
      "3   1983\n",
      "4   1983\n",
      "5   1983\n",
      "6   2017\n",
      "7   2017\n",
      "8   1983\n",
      "9   1983\n",
      "10  1983\n",
      "11  2018\n",
      "12  2018\n",
      "13  1983\n",
      "14  1983\n",
      "15  1983\n",
      "16  2018\n",
      "17  2017\n",
      "Subcorpus('beschikbaar; laatste; per; rijkswegen; toeslag', [14, 22, 46, 124, 125, 126, 127, 128, 164, 165])\n",
      "   year\n",
      "0  1983\n",
      "1  1983\n",
      "2  1983\n",
      "3  1983\n",
      "4  2018\n",
      "5  1983\n",
      "6  1983\n",
      "7  2017\n",
      "Subcorpus('afspraken; banken; centrale; merkt; rentetarieven', [21, 40, 159, 160, 163, 254, 255, 256])\n",
      "    year\n",
      "0   1984\n",
      "1   1984\n",
      "2   1984\n",
      "3   1984\n",
      "4   1984\n",
      "5   1984\n",
      "6   1984\n",
      "7   1984\n",
      "8   1984\n",
      "9   1984\n",
      "10  1984\n",
      "Subcorpus('beroep; betrokken; dringend; komen; territoriale', [25, 42, 62, 179, 180, 211, 232, 233, 264, 265])\n",
      "    year\n",
      "0   1983\n",
      "1   1983\n",
      "2   1983\n",
      "3   1983\n",
      "4   1983\n",
      "5   1983\n",
      "6   1983\n",
      "7   1983\n",
      "8   1983\n",
      "9   1983\n",
      "10  1983\n",
      "11  1983\n",
      "12  1983\n",
      "13  1983\n",
      "14  1983\n",
      "Subcorpus('houden; stabiel; termijn; verder; vereist', [27, 30, 100, 101, 189, 190, 204, 205, 226, 238])\n",
      "    year\n",
      "0   1984\n",
      "1   1983\n",
      "2   1984\n",
      "3   1983\n",
      "4   1984\n",
      "5   1984\n",
      "6   1984\n",
      "7   1984\n",
      "8   1984\n",
      "9   1984\n",
      "10  1984\n",
      "11  1984\n",
      "12  1984\n",
      "13  1983\n",
      "14  1984\n",
      "15  1984\n",
      "16  1984\n",
      "17  1984\n",
      "Subcorpus('financien; nassen; onc; volaens; èerp', [34, 47, 67, 68, 83, 92, 97, 156, 177, 191])\n",
      "   year\n",
      "0  1983\n",
      "1  1983\n",
      "2  1983\n",
      "3  1983\n",
      "4  2017\n",
      "5  1983\n",
      "6  1983\n",
      "7  1983\n",
      "8  2017\n",
      "9  2017\n",
      "Subcorpus('commissie; durft; kansen; regets; westen', [36, 48, 234, 235, 247, 248, 294, 295, 297, 303])\n",
      "   year\n",
      "0  1984\n",
      "1  1984\n",
      "2  1984\n",
      "3  1984\n",
      "4  1984\n",
      "5  1984\n",
      "6  1984\n",
      "7  1984\n",
      "Subcorpus('deor; groei; sterke; ver; wereldhande', [43, 52, 80, 82, 269, 270, 314, 315])\n",
      "    year\n",
      "0   1984\n",
      "1   1984\n",
      "2   1984\n",
      "3   1984\n",
      "4   1984\n",
      "5   1984\n",
      "6   1984\n",
      "7   1984\n",
      "8   1984\n",
      "9   1984\n",
      "10  1984\n",
      "Subcorpus('confe; landen; moe; pas; rentie', [44, 51, 98, 193, 201, 202, 208, 274, 275, 309])\n"
     ]
    },
    {
     "name": "stderr",
     "output_type": "stream",
     "text": [
      "/Users/jose/Repos/tempo-embeddings/.venv/lib/python3.9/site-packages/sklearn/feature_extraction/text.py:525: UserWarning: The parameter 'token_pattern' will not be used since 'tokenizer' is not None'\n",
      "  warnings.warn(\n"
     ]
    }
   ],
   "source": [
    "import os\n",
    "if not os.path.exists(\"clusters\"): \n",
    "    os.makedirs(\"clusters\")\n",
    "\n",
    "selected_metadata = [\"year\"]\n",
    "\n",
    "all_clusters_records, df_cluster_labels, df_cluster_meta = [], [], []\n",
    "for cluster in clusters:\n",
    "    cluster.set_topic_label(exclude_words=frozenset(stopwords | set(FILTER_TERMS)), n=5)\n",
    "    df = cluster.to_dataframe()\n",
    "    # df = df.drop_duplicates(subset=[\"ID_DB\"])\n",
    "    # if \"year\" in df.columns(): df_cluster_years.append(df[\"year\"])\n",
    "    centroid = cluster.centroid()\n",
    "    label = cluster.label\n",
    "    cluster_size = len(cluster.passages)\n",
    "    # Compute Cluster Stats as a Subcorpus\n",
    "    top_words = \" \".join(cluster.top_words(exclude_words=frozenset(stopwords | set(FILTER_TERMS)), n=10))\n",
    "    all_clusters_records.append((f\"{label}\\t{cluster_size}\\t{centroid}\\t{top_words}\\n\"))\n",
    "    df_cluster_labels.append(cluster.label)\n",
    "    df_cluster_meta.append(df[selected_metadata])\n",
    "    print(df[selected_metadata])\n",
    "    # Save the Cluster Passages in a File\n",
    "    file_prefix = f\"cluster_{year_from}_{year_to}_{cluster.label.replace('; ', '_')}\"\n",
    "    df.to_csv(f\"clusters/{file_prefix}.tsv\", sep=\"\\t\", index=False) \n",
    "    print(cluster)"
   ]
  },
  {
   "cell_type": "code",
   "execution_count": 14,
   "metadata": {},
   "outputs": [],
   "source": [
    "with open(f\"clusters/clusters_all_{year_from}_{year_to}.csv\", \"wt\") as f:\n",
    "    f.write(\"Label\\tSize\\tCentroid\\tTopWords\\n\")\n",
    "    for rec in all_clusters_records:\n",
    "        f.write(rec)"
   ]
  },
  {
   "cell_type": "code",
   "execution_count": 25,
   "metadata": {},
   "outputs": [
    {
     "name": "stderr",
     "output_type": "stream",
     "text": [
      "11:13:46 INFO:Using categorical units to plot a list of strings that are all parsable as floats or dates. If these strings should be plotted as numbers, cast to the appropriate data type before plotting.\n",
      "11:13:46 INFO:Using categorical units to plot a list of strings that are all parsable as floats or dates. If these strings should be plotted as numbers, cast to the appropriate data type before plotting.\n",
      "11:13:46 INFO:Using categorical units to plot a list of strings that are all parsable as floats or dates. If these strings should be plotted as numbers, cast to the appropriate data type before plotting.\n",
      "11:13:46 INFO:Using categorical units to plot a list of strings that are all parsable as floats or dates. If these strings should be plotted as numbers, cast to the appropriate data type before plotting.\n",
      "11:13:46 INFO:Using categorical units to plot a list of strings that are all parsable as floats or dates. If these strings should be plotted as numbers, cast to the appropriate data type before plotting.\n",
      "11:13:46 INFO:Using categorical units to plot a list of strings that are all parsable as floats or dates. If these strings should be plotted as numbers, cast to the appropriate data type before plotting.\n",
      "11:13:46 INFO:Using categorical units to plot a list of strings that are all parsable as floats or dates. If these strings should be plotted as numbers, cast to the appropriate data type before plotting.\n",
      "11:13:46 INFO:Using categorical units to plot a list of strings that are all parsable as floats or dates. If these strings should be plotted as numbers, cast to the appropriate data type before plotting.\n",
      "11:13:46 INFO:Using categorical units to plot a list of strings that are all parsable as floats or dates. If these strings should be plotted as numbers, cast to the appropriate data type before plotting.\n",
      "11:13:46 INFO:Using categorical units to plot a list of strings that are all parsable as floats or dates. If these strings should be plotted as numbers, cast to the appropriate data type before plotting.\n",
      "11:13:46 INFO:Using categorical units to plot a list of strings that are all parsable as floats or dates. If these strings should be plotted as numbers, cast to the appropriate data type before plotting.\n",
      "11:13:46 INFO:Using categorical units to plot a list of strings that are all parsable as floats or dates. If these strings should be plotted as numbers, cast to the appropriate data type before plotting.\n",
      "11:13:46 INFO:Using categorical units to plot a list of strings that are all parsable as floats or dates. If these strings should be plotted as numbers, cast to the appropriate data type before plotting.\n",
      "11:13:46 INFO:Using categorical units to plot a list of strings that are all parsable as floats or dates. If these strings should be plotted as numbers, cast to the appropriate data type before plotting.\n",
      "11:13:46 INFO:Using categorical units to plot a list of strings that are all parsable as floats or dates. If these strings should be plotted as numbers, cast to the appropriate data type before plotting.\n",
      "11:13:46 INFO:Using categorical units to plot a list of strings that are all parsable as floats or dates. If these strings should be plotted as numbers, cast to the appropriate data type before plotting.\n"
     ]
    },
    {
     "data": {
      "image/png": "[encoded data removed]",
      "text/plain": [
       "<Figure size 1000x3000 with 8 Axes>"
      ]
     },
     "metadata": {},
     "output_type": "display_data"
    }
   ],
   "source": [
    "import matplotlib.pyplot as plt\n",
    "\n",
    "# Variable name to plot\n",
    "variable_name = 'year'\n",
    "\n",
    "num_rows = len(df_cluster_meta)//2\n",
    "if num_rows%2 != 0: \n",
    "    num_rows += 1\n",
    "# If there are too many cluster we will just plot the first 10\n",
    "if num_rows > 10:\n",
    "    num_rows = 10\n",
    "\n",
    "# Create subplots\n",
    "fig, axs = plt.subplots(num_rows, 2, figsize=(10, 30))\n",
    "\n",
    "# Iterate through each DataFrame and plot histogram\n",
    "axs = axs.flatten()\n",
    "for i, df in enumerate(df_cluster_meta):\n",
    "    ax = axs[i]\n",
    "    ax.hist(df[variable_name])\n",
    "    ax.set_title(f'{df_cluster_labels[i]}', fontsize=10)\n",
    "    ax.set_xlabel(variable_name)\n",
    "    ax.set_ylabel('Frequency')\n",
    "    if i+1 == num_rows*2:\n",
    "        break\n",
    "\n",
    "# Adjust layout\n",
    "plt.tight_layout()\n",
    "plt.show()"
   ]
  },
  {
   "cell_type": "markdown",
   "metadata": {},
   "source": [
    "# Visualize Embeddings"
   ]
  },
  {
   "cell_type": "code",
   "execution_count": 26,
   "metadata": {},
   "outputs": [
    {
     "data": {
      "text/html": [
       "    <style>\n",
       "        .bk-notebook-logo {\n",
       "            display: block;\n",
       "            width: 20px;\n",
       "            height: 20px;\n",
       "            background-image: url(data:image/png;base64,iVBORw0KGgoAAAANSUhEUgAAABQAAAAUCAYAAACNiR0NAAAABHNCSVQICAgIfAhkiAAAAAlwSFlzAAALEgAACxIB0t1+/AAAABx0RVh0U29mdHdhcmUAQWRvYmUgRmlyZXdvcmtzIENTNui8sowAAAOkSURBVDiNjZRtaJVlGMd/1/08zzln5zjP1LWcU9N0NkN8m2CYjpgQYQXqSs0I84OLIC0hkEKoPtiH3gmKoiJDU7QpLgoLjLIQCpEsNJ1vqUOdO7ppbuec5+V+rj4ctwzd8IIbbi6u+8f1539dt3A78eXC7QizUF7gyV1fD1Yqg4JWz84yffhm0qkFqBogB9rM8tZdtwVsPUhWhGcFJngGeWrPzHm5oaMmkfEg1usvLFyc8jLRqDOMru7AyC8saQr7GG7f5fvDeH7Ej8CM66nIF+8yngt6HWaKh7k49Soy9nXurCi1o3qUbS3zWfrYeQDTB/Qj6kX6Ybhw4B+bOYoLKCC9H3Nu/leUTZ1JdRWkkn2ldcCamzrcf47KKXdAJllSlxAOkRgyHsGC/zRday5Qld9DyoM4/q/rUoy/CXh3jzOu3bHUVZeU+DEn8FInkPBFlu3+nW3Nw0mk6vCDiWg8CeJaxEwuHS3+z5RgY+YBR6V1Z1nxSOfoaPa4LASWxxdNp+VWTk7+4vzaou8v8PN+xo+KY2xsw6une2frhw05CTYOmQvsEhjhWjn0bmXPjpE1+kplmmkP3suftwTubK9Vq22qKmrBhpY4jvd5afdRA3wGjFAgcnTK2s4hY0/GPNIb0nErGMCRxWOOX64Z8RAC4oCXdklmEvcL8o0BfkNK4lUg9HTl+oPlQxdNo3Mg4Nv175e/1LDGzZen30MEjRUtmXSfiTVu1kK8W4txyV6BMKlbgk3lMwYCiusNy9fVfvvwMxv8Ynl6vxoByANLTWplvuj/nF9m2+PDtt1eiHPBr1oIfhCChQMBw6Aw0UulqTKZdfVvfG7VcfIqLG9bcldL/+pdWTLxLUy8Qq38heUIjh4XlzZxzQm19lLFlr8vdQ97rjZVOLf8nclzckbcD4wxXMidpX30sFd37Fv/GtwwhzhxGVAprjbg0gCAEeIgwCZyTV2Z1REEW8O4py0wsjeloKoMr6iCY6dP92H6Vw/oTyICIthibxjm/DfN9lVz8IqtqKYLUXfoKVMVQVVJOElGjrnnUt9T9wbgp8AyYKaGlqingHZU/uG2NTZSVqwHQTWkx9hxjkpWDaCg6Ckj5qebgBVbT3V3NNXMSiWSDdGV3hrtzla7J+duwPOToIg42ChPQOQjspnSlp1V+Gjdged7+8UN5CRAV7a5EdFNwCjEaBR27b3W890TE7g24NAP/mMDXRWrGoFPQI9ls/MWO2dWFAar/xcOIImbbpA3zgAAAABJRU5ErkJggg==);\n",
       "        }\n",
       "    </style>\n",
       "    <div>\n",
       "        <a href=\"https://bokeh.org\" target=\"_blank\" class=\"bk-notebook-logo\"></a>\n",
       "        <span id=\"c97fc54e-5560-4c5a-a4ca-cc2acd3c96b7\">Loading BokehJS ...</span>\n",
       "    </div>\n"
      ]
     },
     "metadata": {},
     "output_type": "display_data"
    },
    {
     "data": {
      "application/javascript": "(function(root) {\n  function now() {\n    return new Date();\n  }\n\n  const force = true;\n\n  if (typeof root._bokeh_onload_callbacks === \"undefined\" || force === true) {\n    root._bokeh_onload_callbacks = [];\n    root._bokeh_is_loading = undefined;\n  }\n\nconst JS_MIME_TYPE = 'application/javascript';\n  const HTML_MIME_TYPE = 'text/html';\n  const EXEC_MIME_TYPE = 'application/vnd.bokehjs_exec.v0+json';\n  const CLASS_NAME = 'output_bokeh rendered_html';\n\n  /**\n   * Render data to the DOM node\n   */\n  function render(props, node) {\n    const script = document.createElement(\"script\");\n    node.appendChild(script);\n  }\n\n  /**\n   * Handle when an output is cleared or removed\n   */\n  function handleClearOutput(event, handle) {\n    function drop(id) {\n      const view = Bokeh.index.get_by_id(id)\n      if (view != null) {\n        view.model.document.clear()\n        Bokeh.index.delete(view)\n      }\n    }\n\n    const cell = handle.cell;\n\n    const id = cell.output_area._bokeh_element_id;\n    const server_id = cell.output_area._bokeh_server_id;\n\n    // Clean up Bokeh references\n    if (id != null) {\n      drop(id)\n    }\n\n    if (server_id !== undefined) {\n      // Clean up Bokeh references\n      const cmd_clean = \"from bokeh.io.state import curstate; print(curstate().uuid_to_server['\" + server_id + \"'].get_sessions()[0].document.roots[0]._id)\";\n      cell.notebook.kernel.execute(cmd_clean, {\n        iopub: {\n          output: function(msg) {\n            const id = msg.content.text.trim()\n            drop(id)\n          }\n        }\n      });\n      // Destroy server and session\n      const cmd_destroy = \"import bokeh.io.notebook as ion; ion.destroy_server('\" + server_id + \"')\";\n      cell.notebook.kernel.execute(cmd_destroy);\n    }\n  }\n\n  /**\n   * Handle when a new output is added\n   */\n  function handleAddOutput(event, handle) {\n    const output_area = handle.output_area;\n    const output = handle.output;\n\n    // limit handleAddOutput to display_data with EXEC_MIME_TYPE content only\n    if ((output.output_type != \"display_data\") || (!Object.prototype.hasOwnProperty.call(output.data, EXEC_MIME_TYPE))) {\n      return\n    }\n\n    const toinsert = output_area.element.find(\".\" + CLASS_NAME.split(' ')[0]);\n\n    if (output.metadata[EXEC_MIME_TYPE][\"id\"] !== undefined) {\n      toinsert[toinsert.length - 1].firstChild.textContent = output.data[JS_MIME_TYPE];\n      // store reference to embed id on output_area\n      output_area._bokeh_element_id = output.metadata[EXEC_MIME_TYPE][\"id\"];\n    }\n    if (output.metadata[EXEC_MIME_TYPE][\"server_id\"] !== undefined) {\n      const bk_div = document.createElement(\"div\");\n      bk_div.innerHTML = output.data[HTML_MIME_TYPE];\n      const script_attrs = bk_div.children[0].attributes;\n      for (let i = 0; i < script_attrs.length; i++) {\n        toinsert[toinsert.length - 1].firstChild.setAttribute(script_attrs[i].name, script_attrs[i].value);\n        toinsert[toinsert.length - 1].firstChild.textContent = bk_div.children[0].textContent\n      }\n      // store reference to server id on output_area\n      output_area._bokeh_server_id = output.metadata[EXEC_MIME_TYPE][\"server_id\"];\n    }\n  }\n\n  function register_renderer(events, OutputArea) {\n\n    function append_mime(data, metadata, element) {\n      // create a DOM node to render to\n      const toinsert = this.create_output_subarea(\n        metadata,\n        CLASS_NAME,\n        EXEC_MIME_TYPE\n      );\n      this.keyboard_manager.register_events(toinsert);\n      // Render to node\n      const props = {data: data, metadata: metadata[EXEC_MIME_TYPE]};\n      render(props, toinsert[toinsert.length - 1]);\n      element.append(toinsert);\n      return toinsert\n    }\n\n    /* Handle when an output is cleared or removed */\n    events.on('clear_output.CodeCell', handleClearOutput);\n    events.on('delete.Cell', handleClearOutput);\n\n    /* Handle when a new output is added */\n    events.on('output_added.OutputArea', handleAddOutput);\n\n    /**\n     * Register the mime type and append_mime function with output_area\n     */\n    OutputArea.prototype.register_mime_type(EXEC_MIME_TYPE, append_mime, {\n      /* Is output safe? */\n      safe: true,\n      /* Index of renderer in `output_area.display_order` */\n      index: 0\n    });\n  }\n\n  // register the mime type if in Jupyter Notebook environment and previously unregistered\n  if (root.Jupyter !== undefined) {\n    const events = require('base/js/events');\n    const OutputArea = require('notebook/js/outputarea').OutputArea;\n\n    if (OutputArea.prototype.mime_types().indexOf(EXEC_MIME_TYPE) == -1) {\n      register_renderer(events, OutputArea);\n    }\n  }\n  if (typeof (root._bokeh_timeout) === \"undefined\" || force === true) {\n    root._bokeh_timeout = Date.now() + 5000;\n    root._bokeh_failed_load = false;\n  }\n\n  const NB_LOAD_WARNING = {'data': {'text/html':\n     \"<div style='background-color: #fdd'>\\n\"+\n     \"<p>\\n\"+\n     \"BokehJS does not appear to have successfully loaded. If loading BokehJS from CDN, this \\n\"+\n     \"may be due to a slow or bad network connection. Possible fixes:\\n\"+\n     \"</p>\\n\"+\n     \"<ul>\\n\"+\n     \"<li>re-rerun `output_notebook()` to attempt to load from CDN again, or</li>\\n\"+\n     \"<li>use INLINE resources instead, as so:</li>\\n\"+\n     \"</ul>\\n\"+\n     \"<code>\\n\"+\n     \"from bokeh.resources import INLINE\\n\"+\n     \"output_notebook(resources=INLINE)\\n\"+\n     \"</code>\\n\"+\n     \"</div>\"}};\n\n  function display_loaded() {\n    const el = document.getElementById(\"c97fc54e-5560-4c5a-a4ca-cc2acd3c96b7\");\n    if (el != null) {\n      el.textContent = \"BokehJS is loading...\";\n    }\n    if (root.Bokeh !== undefined) {\n      if (el != null) {\n        el.textContent = \"BokehJS \" + root.Bokeh.version + \" successfully loaded.\";\n      }\n    } else if (Date.now() < root._bokeh_timeout) {\n      setTimeout(display_loaded, 100)\n    }\n  }\n\n  function run_callbacks() {\n    try {\n      root._bokeh_onload_callbacks.forEach(function(callback) {\n        if (callback != null)\n          callback();\n      });\n    } finally {\n      delete root._bokeh_onload_callbacks\n    }\n    console.debug(\"Bokeh: all callbacks have finished\");\n  }\n\n  function load_libs(css_urls, js_urls, callback) {\n    if (css_urls == null) css_urls = [];\n    if (js_urls == null) js_urls = [];\n\n    root._bokeh_onload_callbacks.push(callback);\n    if (root._bokeh_is_loading > 0) {\n      console.debug(\"Bokeh: BokehJS is being loaded, scheduling callback at\", now());\n      return null;\n    }\n    if (js_urls == null || js_urls.length === 0) {\n      run_callbacks();\n      return null;\n    }\n    console.debug(\"Bokeh: BokehJS not loaded, scheduling load and callback at\", now());\n    root._bokeh_is_loading = css_urls.length + js_urls.length;\n\n    function on_load() {\n      root._bokeh_is_loading--;\n      if (root._bokeh_is_loading === 0) {\n        console.debug(\"Bokeh: all BokehJS libraries/stylesheets loaded\");\n        run_callbacks()\n      }\n    }\n\n    function on_error(url) {\n      console.error(\"failed to load \" + url);\n    }\n\n    for (let i = 0; i < css_urls.length; i++) {\n      const url = css_urls[i];\n      const element = document.createElement(\"link\");\n      element.onload = on_load;\n      element.onerror = on_error.bind(null, url);\n      element.rel = \"stylesheet\";\n      element.type = \"text/css\";\n      element.href = url;\n      console.debug(\"Bokeh: injecting link tag for BokehJS stylesheet: \", url);\n      document.body.appendChild(element);\n    }\n\n    for (let i = 0; i < js_urls.length; i++) {\n      const url = js_urls[i];\n      const element = document.createElement('script');\n      element.onload = on_load;\n      element.onerror = on_error.bind(null, url);\n      element.async = false;\n      element.src = url;\n      console.debug(\"Bokeh: injecting script tag for BokehJS library: \", url);\n      document.head.appendChild(element);\n    }\n  };\n\n  function inject_raw_css(css) {\n    const element = document.createElement(\"style\");\n    element.appendChild(document.createTextNode(css));\n    document.body.appendChild(element);\n  }\n\n  const js_urls = [\"https://cdn.bokeh.org/bokeh/release/bokeh-3.3.3.min.js\", \"https://cdn.bokeh.org/bokeh/release/bokeh-gl-3.3.3.min.js\", \"https://cdn.bokeh.org/bokeh/release/bokeh-widgets-3.3.3.min.js\", \"https://cdn.bokeh.org/bokeh/release/bokeh-tables-3.3.3.min.js\", \"https://cdn.bokeh.org/bokeh/release/bokeh-mathjax-3.3.3.min.js\"];\n  const css_urls = [];\n\n  const inline_js = [    function(Bokeh) {\n      Bokeh.set_log_level(\"info\");\n    },\nfunction(Bokeh) {\n    }\n  ];\n\n  function run_inline_js() {\n    if (root.Bokeh !== undefined || force === true) {\n          for (let i = 0; i < inline_js.length; i++) {\n      inline_js[i].call(root, root.Bokeh);\n    }\nif (force === true) {\n        display_loaded();\n      }} else if (Date.now() < root._bokeh_timeout) {\n      setTimeout(run_inline_js, 100);\n    } else if (!root._bokeh_failed_load) {\n      console.log(\"Bokeh: BokehJS failed to load within specified timeout.\");\n      root._bokeh_failed_load = true;\n    } else if (force !== true) {\n      const cell = $(document.getElementById(\"c97fc54e-5560-4c5a-a4ca-cc2acd3c96b7\")).parents('.cell').data().cell;\n      cell.output_area.append_execute_result(NB_LOAD_WARNING)\n    }\n  }\n\n  if (root._bokeh_is_loading === 0) {\n    console.debug(\"Bokeh: BokehJS loaded, going straight to plotting\");\n    run_inline_js();\n  } else {\n    load_libs(css_urls, js_urls, function() {\n      console.debug(\"Bokeh: BokehJS plotting callback run at\", now());\n      run_inline_js();\n    });\n  }\n}(window));",
      "application/vnd.bokehjs_load.v0+json": ""
     },
     "metadata": {},
     "output_type": "display_data"
    },
    {
     "name": "stderr",
     "output_type": "stream",
     "text": [
      "11:14:55 INFO:Starting Bokeh server version 3.3.3 (running on Tornado 6.4)\n",
      "11:14:55 INFO:User authentication hooks NOT provided (default user enabled)\n"
     ]
    },
    {
     "data": {
      "application/vnd.bokehjs_exec.v0+json": "",
      "text/html": [
       "<script id=\"p1038\">\n",
       "  (function() {\n",
       "    const xhr = new XMLHttpRequest()\n",
       "    xhr.responseType = 'blob';\n",
       "    xhr.open('GET', \"http://localhost:52167/autoload.js?bokeh-autoload-element=p1038&bokeh-absolute-url=http://localhost:52167&resources=none\", true);\n",
       "    xhr.onload = function (event) {\n",
       "      const script = document.createElement('script');\n",
       "      const src = URL.createObjectURL(event.target.response);\n",
       "      script.src = src;\n",
       "      document.body.appendChild(script);\n",
       "    };\n",
       "    xhr.send();\n",
       "  })();\n",
       "</script>"
      ]
     },
     "metadata": {
      "application/vnd.bokehjs_exec.v0+json": {
       "server_id": "8969ec6a9f0c445f9e65463b934b94b3"
      }
     },
     "output_type": "display_data"
    },
    {
     "name": "stderr",
     "output_type": "stream",
     "text": [
      "11:14:55 INFO:WebSocket connection opened\n",
      "11:14:55 INFO:ServerConnection created\n"
     ]
    }
   ],
   "source": [
    "import os\n",
    "from bokeh.io import output_notebook\n",
    "from bokeh.plotting import show\n",
    "from tempo_embeddings.visualization.bokeh import BokehInteractiveVisualizer\n",
    "\n",
    "output_notebook()\n",
    "\n",
    "meta_fields = corpus.metadata_fields()\n",
    "meta_fields = [\"year\", \"date\", \"issue\"]\n",
    "\n",
    "visualizer = BokehInteractiveVisualizer(\n",
    "    *clusters, metadata_fields=meta_fields, width=2000, height=1000\n",
    ")\n",
    "\n",
    "os.environ[\n",
    "    \"BOKEH_ALLOW_WS_ORIGIN\"\n",
    "] = \"*\"\n",
    "\n",
    "show(visualizer.create_document)"
   ]
  }
 ],
 "metadata": {
  "kernelspec": {
   "display_name": "Python 3 (ipykernel)",
   "language": "python",
   "name": "python3"
  },
  "language_info": {
   "codemirror_mode": {
    "name": "ipython",
    "version": 3
   },
   "file_extension": ".py",
   "mimetype": "text/x-python",
   "name": "python",
   "nbconvert_exporter": "python",
   "pygments_lexer": "ipython3",
   "version": "3.9.6"
  }
 },
 "nbformat": 4,
 "nbformat_minor": 4
}
