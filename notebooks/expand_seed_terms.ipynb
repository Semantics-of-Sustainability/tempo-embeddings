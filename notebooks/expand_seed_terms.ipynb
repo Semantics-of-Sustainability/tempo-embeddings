{
 "cells": [
  {
   "cell_type": "code",
   "execution_count": 1,
   "metadata": {},
   "outputs": [],
   "source": [
    "## For now we are using the convenient word2vec models that are available here: https://zenodo.org/records/3237380\n",
    "## There were trained on dutch news corpora (6 newspaper sources) from 1950-1989 and are separated by decade: 24 models\n",
    "## We use all the models to extract the Top-K similar terms to a given list of seed terms.\n",
    "\n",
    "# %pip install gensim==4.3.2\n",
    "# %pip install seaborn==0.13.1\n",
    "# %pip install qgridnext"
   ]
  },
  {
   "cell_type": "code",
   "execution_count": 2,
   "metadata": {},
   "outputs": [
    {
     "name": "stderr",
     "output_type": "stream",
     "text": [
      "/Users/jose/Repos/tempo-embeddings/.venv/lib/python3.9/site-packages/urllib3/__init__.py:34: NotOpenSSLWarning: urllib3 v2 only supports OpenSSL 1.1.1+, currently the 'ssl' module is compiled with 'LibreSSL 2.8.3'. See: https://github.com/urllib3/urllib3/issues/3020\n",
      "  warnings.warn(\n"
     ]
    },
    {
     "data": {
      "text/plain": [
       "<gensim.models.keyedvectors.KeyedVectors at 0x102fa8c10>"
      ]
     },
     "execution_count": 2,
     "metadata": {},
     "output_type": "execute_result"
    }
   ],
   "source": [
    "from pathlib import Path\n",
    "from gensim.models import KeyedVectors\n",
    "\n",
    "ROOT_DIR = Path.home() / \"SEED_DATA/SemanticsSustainability/historic_w2v_models\"\n",
    "\n",
    "model = KeyedVectors.load_word2vec_format(f\"{ROOT_DIR}/ah_nrc_1950_1959.w2v\", binary=True)\n",
    "model"
   ]
  },
  {
   "cell_type": "code",
   "execution_count": 3,
   "metadata": {},
   "outputs": [],
   "source": [
    "from glob import glob\n",
    "from collections import defaultdict\n",
    "import re\n",
    "import pandas as pd\n",
    "\n",
    "\n",
    "def get_term_from_w2v(term, model, topn):\n",
    "    try:\n",
    "        similar = [x for (x,y) in model.most_similar(term, topn=topn)]\n",
    "    except KeyError:\n",
    "        similar = []\n",
    "    return similar\n",
    "\n",
    "def get_top_terms(source, start_y, seed_terms, model, topn):\n",
    "    related_terms = []\n",
    "    for term in seed_terms:\n",
    "        similar = get_term_from_w2v(term, model, topn)          \n",
    "        related_terms.append({\n",
    "            'seed_term': term,\n",
    "            'related_terms': similar,\n",
    "            'source': source,\n",
    "            'decade': start_y\n",
    "        })\n",
    "    return related_terms\n",
    "\n",
    "def extract_related_terms(output_name):\n",
    "    all_related_terms = []\n",
    "    seed_terms = open(\"sustainability-filter-words-all.txt\").read().split(\"\\n\")\n",
    "    for filepath in glob(f\"{ROOT_DIR}/*.w2v\"):\n",
    "        if re.match(r\".*\\d{4}.w2v\", filepath):\n",
    "            named_info = re.search(r\".*/(?P<source>\\w+)_(?P<start>\\d{4})_(?P<end>\\d{4}).w2v\", filepath)\n",
    "            model = KeyedVectors.load_word2vec_format(filepath, binary=True)\n",
    "            all_related_terms += get_top_terms(named_info.group(\"source\"), int(named_info.group(\"start\")), seed_terms, model, topn=10)\n",
    "    df = pd.DataFrame(all_related_terms).explode('related_terms')\n",
    "    df.reset_index(drop=True, inplace=True)\n",
    "    df.to_csv(f\"{output_name}.csv\")\n",
    "    pd.DataFrame(df['related_terms']).dropna().to_csv(f\"{output_name}.txt\", index=False, header=False)\n",
    "    return df\n",
    "\n",
    "\n",
    "expanded_filename = \"sustainability-filter-w2v-expanded\"\n",
    "if Path(f\"{expanded_filename}.csv\").exists():\n",
    "    extracted_terms = pd.read_csv(f\"{expanded_filename}.csv\", index_col=0)\n",
    "else:\n",
    "    extracted_terms = extract_related_terms(expanded_filename)"
   ]
  },
  {
   "cell_type": "code",
   "execution_count": 4,
   "metadata": {},
   "outputs": [
    {
     "data": {
      "text/html": [
       "<div>\n",
       "<style scoped>\n",
       "    .dataframe tbody tr th:only-of-type {\n",
       "        vertical-align: middle;\n",
       "    }\n",
       "\n",
       "    .dataframe tbody tr th {\n",
       "        vertical-align: top;\n",
       "    }\n",
       "\n",
       "    .dataframe thead th {\n",
       "        text-align: right;\n",
       "    }\n",
       "</style>\n",
       "<table border=\"1\" class=\"dataframe\">\n",
       "  <thead>\n",
       "    <tr style=\"text-align: right;\">\n",
       "      <th></th>\n",
       "      <th>seed_term</th>\n",
       "      <th>related_terms</th>\n",
       "      <th>source</th>\n",
       "      <th>decade</th>\n",
       "    </tr>\n",
       "  </thead>\n",
       "  <tbody>\n",
       "    <tr>\n",
       "      <th>0</th>\n",
       "      <td>duurzaam</td>\n",
       "      <td>belastingstelsel</td>\n",
       "      <td>parool</td>\n",
       "      <td>1960</td>\n",
       "    </tr>\n",
       "    <tr>\n",
       "      <th>1</th>\n",
       "      <td>duurzaam</td>\n",
       "      <td>rechtvaardig</td>\n",
       "      <td>parool</td>\n",
       "      <td>1960</td>\n",
       "    </tr>\n",
       "    <tr>\n",
       "      <th>2</th>\n",
       "      <td>duurzaam</td>\n",
       "      <td>zedelijk</td>\n",
       "      <td>parool</td>\n",
       "      <td>1960</td>\n",
       "    </tr>\n",
       "    <tr>\n",
       "      <th>3</th>\n",
       "      <td>duurzaam</td>\n",
       "      <td>zwakken</td>\n",
       "      <td>parool</td>\n",
       "      <td>1960</td>\n",
       "    </tr>\n",
       "    <tr>\n",
       "      <th>4</th>\n",
       "      <td>duurzaam</td>\n",
       "      <td>relativeert</td>\n",
       "      <td>parool</td>\n",
       "      <td>1960</td>\n",
       "    </tr>\n",
       "    <tr>\n",
       "      <th>...</th>\n",
       "      <td>...</td>\n",
       "      <td>...</td>\n",
       "      <td>...</td>\n",
       "      <td>...</td>\n",
       "    </tr>\n",
       "    <tr>\n",
       "      <th>8611</th>\n",
       "      <td>broeikas-effect</td>\n",
       "      <td>NaN</td>\n",
       "      <td>telegraaf</td>\n",
       "      <td>1960</td>\n",
       "    </tr>\n",
       "    <tr>\n",
       "      <th>8612</th>\n",
       "      <td>broeikasgassen</td>\n",
       "      <td>NaN</td>\n",
       "      <td>telegraaf</td>\n",
       "      <td>1960</td>\n",
       "    </tr>\n",
       "    <tr>\n",
       "      <th>8613</th>\n",
       "      <td>Energiebesparingsmogelijkheden</td>\n",
       "      <td>NaN</td>\n",
       "      <td>telegraaf</td>\n",
       "      <td>1960</td>\n",
       "    </tr>\n",
       "    <tr>\n",
       "      <th>8614</th>\n",
       "      <td>CO2-uitstoot</td>\n",
       "      <td>NaN</td>\n",
       "      <td>telegraaf</td>\n",
       "      <td>1960</td>\n",
       "    </tr>\n",
       "    <tr>\n",
       "      <th>8615</th>\n",
       "      <td>wereldklimaat</td>\n",
       "      <td>NaN</td>\n",
       "      <td>telegraaf</td>\n",
       "      <td>1960</td>\n",
       "    </tr>\n",
       "  </tbody>\n",
       "</table>\n",
       "<p>8616 rows × 4 columns</p>\n",
       "</div>"
      ],
      "text/plain": [
       "                           seed_term     related_terms     source  decade\n",
       "0                           duurzaam  belastingstelsel     parool    1960\n",
       "1                           duurzaam      rechtvaardig     parool    1960\n",
       "2                           duurzaam          zedelijk     parool    1960\n",
       "3                           duurzaam           zwakken     parool    1960\n",
       "4                           duurzaam       relativeert     parool    1960\n",
       "...                              ...               ...        ...     ...\n",
       "8611                 broeikas-effect               NaN  telegraaf    1960\n",
       "8612                  broeikasgassen               NaN  telegraaf    1960\n",
       "8613  Energiebesparingsmogelijkheden               NaN  telegraaf    1960\n",
       "8614                    CO2-uitstoot               NaN  telegraaf    1960\n",
       "8615                   wereldklimaat               NaN  telegraaf    1960\n",
       "\n",
       "[8616 rows x 4 columns]"
      ]
     },
     "execution_count": 4,
     "metadata": {},
     "output_type": "execute_result"
    }
   ],
   "source": [
    "extracted_terms"
   ]
  },
  {
   "cell_type": "code",
   "execution_count": 5,
   "metadata": {},
   "outputs": [],
   "source": [
    "import matplotlib.pyplot as plt\n",
    "\n",
    "\n",
    "# Count the occurrences of each hobby for each name\n",
    "related_term_counts = extracted_terms.groupby('decade')['related_terms'].value_counts().unstack(fill_value=0)\n",
    "related_term_counts = related_term_counts.transpose()\n",
    "related_term_counts['Total'] = related_term_counts.sum(axis=1)\n",
    "related_term_counts = related_term_counts.sort_values(by='Total', ascending=False)"
   ]
  },
  {
   "cell_type": "code",
   "execution_count": 6,
   "metadata": {},
   "outputs": [
    {
     "data": {
      "application/vnd.jupyter.widget-view+json": {
       "model_id": "f3a900fc40f74cb59a8f8fc0d7b11fbe",
       "version_major": 2,
       "version_minor": 0
      },
      "text/plain": [
       "QgridWidget(grid_options={'fullWidthRows': True, 'syncColumnCellResize': True, 'forceFitColumns': True, 'defau…"
      ]
     },
     "execution_count": 6,
     "metadata": {},
     "output_type": "execute_result"
    }
   ],
   "source": [
    "from qgridnext import show_grid\n",
    "show_grid(related_term_counts)"
   ]
  },
  {
   "cell_type": "code",
   "execution_count": 7,
   "metadata": {},
   "outputs": [
    {
     "data": {
      "application/vnd.jupyter.widget-view+json": {
       "model_id": "ceca8fc13f504eb7aa96c4e16a84c84c",
       "version_major": 2,
       "version_minor": 0
      },
      "text/plain": [
       "QgridWidget(grid_options={'fullWidthRows': True, 'syncColumnCellResize': True, 'forceFitColumns': True, 'defau…"
      ]
     },
     "execution_count": 7,
     "metadata": {},
     "output_type": "execute_result"
    }
   ],
   "source": [
    "terms_per_decade = related_term_counts.sum(axis=0)\n",
    "show_grid(terms_per_decade)"
   ]
  }
 ],
 "metadata": {
  "kernelspec": {
   "display_name": ".venv",
   "language": "python",
   "name": "python3"
  },
  "language_info": {
   "codemirror_mode": {
    "name": "ipython",
    "version": 3
   },
   "file_extension": ".py",
   "mimetype": "text/x-python",
   "name": "python",
   "nbconvert_exporter": "python",
   "pygments_lexer": "ipython3",
   "version": "3.9.6"
  }
 },
 "nbformat": 4,
 "nbformat_minor": 2
}
