{
 "cells": [
  {
   "cell_type": "markdown",
   "metadata": {},
   "source": [
    "## Load Packages"
   ]
  },
  {
   "cell_type": "code",
   "execution_count": 17,
   "metadata": {},
   "outputs": [
    {
     "name": "stdout",
     "output_type": "stream",
     "text": [
      "Obtaining file:///Users/jose/Repos/tempo-embeddings\n",
      "  Installing build dependencies ... \u001b[?25ldone\n",
      "\u001b[?25h  Checking if build backend supports build_editable ... \u001b[?25ldone\n",
      "\u001b[?25h  Getting requirements to build editable ... \u001b[?25ldone\n",
      "\u001b[?25h  Preparing editable metadata (pyproject.toml) ... \u001b[?25ldone\n",
      "\u001b[?25hRequirement already satisfied: accelerate~=0.22.0 in /Users/jose/Repos/tempo-embeddings/.venv/lib/python3.9/site-packages (from tempo_embeddings==0.0.1) (0.22.0)\n",
      "Requirement already satisfied: kneed~=0.8.5 in /Users/jose/Repos/tempo-embeddings/.venv/lib/python3.9/site-packages (from tempo_embeddings==0.0.1) (0.8.5)\n",
      "Requirement already satisfied: seaborn~=0.13.0 in /Users/jose/Repos/tempo-embeddings/.venv/lib/python3.9/site-packages (from tempo_embeddings==0.0.1) (0.13.1)\n",
      "Requirement already satisfied: transformers~=4.39.0 in /Users/jose/Repos/tempo-embeddings/.venv/lib/python3.9/site-packages (from tempo_embeddings==0.0.1) (4.39.3)\n",
      "Requirement already satisfied: torch>=2.2.2 in /Users/jose/Repos/tempo-embeddings/.venv/lib/python3.9/site-packages (from tempo_embeddings==0.0.1) (2.4.0)\n",
      "Requirement already satisfied: umap-learn~=0.5.4 in /Users/jose/Repos/tempo-embeddings/.venv/lib/python3.9/site-packages (from tempo_embeddings==0.0.1) (0.5.5)\n",
      "Requirement already satisfied: wizmap~=0.1.2 in /Users/jose/Repos/tempo-embeddings/.venv/lib/python3.9/site-packages (from tempo_embeddings==0.0.1) (0.1.2)\n",
      "Requirement already satisfied: matplotlib~=3.7.2 in /Users/jose/Repos/tempo-embeddings/.venv/lib/python3.9/site-packages (from tempo_embeddings==0.0.1) (3.7.4)\n",
      "Requirement already satisfied: sacremoses~=0.0.53 in /Users/jose/Repos/tempo-embeddings/.venv/lib/python3.9/site-packages (from tempo_embeddings==0.0.1) (0.0.53)\n",
      "Requirement already satisfied: scikit-learn~=1.3.0 in /Users/jose/Repos/tempo-embeddings/.venv/lib/python3.9/site-packages (from tempo_embeddings==0.0.1) (1.3.2)\n",
      "Requirement already satisfied: sentence-splitter~=1.4.0 in /Users/jose/Repos/tempo-embeddings/.venv/lib/python3.9/site-packages (from tempo_embeddings==0.0.1) (1.4)\n",
      "Requirement already satisfied: stanza~=1.7.0 in /Users/jose/Repos/tempo-embeddings/.venv/lib/python3.9/site-packages (from tempo_embeddings==0.0.1) (1.7.0)\n",
      "Requirement already satisfied: chromadb~=0.4.22 in /Users/jose/Repos/tempo-embeddings/.venv/lib/python3.9/site-packages (from tempo_embeddings==0.0.1) (0.4.22)\n",
      "Requirement already satisfied: weaviate-client~=4.6.5 in /Users/jose/Repos/tempo-embeddings/.venv/lib/python3.9/site-packages (from tempo_embeddings==0.0.1) (4.6.5)\n",
      "Requirement already satisfied: wtpsplit~=2.0.5 in /Users/jose/Repos/tempo-embeddings/.venv/lib/python3.9/site-packages (from tempo_embeddings==0.0.1) (2.0.5)\n",
      "Requirement already satisfied: pydantic~=2.8.2 in /Users/jose/Repos/tempo-embeddings/.venv/lib/python3.9/site-packages (from tempo_embeddings==0.0.1) (2.8.2)\n",
      "Requirement already satisfied: pandas in /Users/jose/Repos/tempo-embeddings/.venv/lib/python3.9/site-packages (from tempo_embeddings==0.0.1) (2.2.0)\n",
      "Requirement already satisfied: datashader in /Users/jose/Repos/tempo-embeddings/.venv/lib/python3.9/site-packages (from tempo_embeddings==0.0.1) (0.16.0)\n",
      "Requirement already satisfied: bokeh~=3.3.2 in /Users/jose/Repos/tempo-embeddings/.venv/lib/python3.9/site-packages (from tempo_embeddings==0.0.1) (3.3.3)\n",
      "Requirement already satisfied: holoviews in /Users/jose/Repos/tempo-embeddings/.venv/lib/python3.9/site-packages (from tempo_embeddings==0.0.1) (1.18.1)\n",
      "Requirement already satisfied: dash~=2.11.1 in /Users/jose/Repos/tempo-embeddings/.venv/lib/python3.9/site-packages (from tempo_embeddings==0.0.1) (2.11.1)\n",
      "Requirement already satisfied: numpy>=1.17 in /Users/jose/Repos/tempo-embeddings/.venv/lib/python3.9/site-packages (from accelerate~=0.22.0->tempo_embeddings==0.0.1) (1.26.3)\n",
      "Requirement already satisfied: packaging>=20.0 in /Users/jose/Repos/tempo-embeddings/.venv/lib/python3.9/site-packages (from accelerate~=0.22.0->tempo_embeddings==0.0.1) (24.1)\n",
      "Requirement already satisfied: psutil in /Users/jose/Repos/tempo-embeddings/.venv/lib/python3.9/site-packages (from accelerate~=0.22.0->tempo_embeddings==0.0.1) (5.9.8)\n",
      "Requirement already satisfied: pyyaml in /Users/jose/Repos/tempo-embeddings/.venv/lib/python3.9/site-packages (from accelerate~=0.22.0->tempo_embeddings==0.0.1) (6.0.1)\n",
      "Requirement already satisfied: Jinja2>=2.9 in /Users/jose/Repos/tempo-embeddings/.venv/lib/python3.9/site-packages (from bokeh~=3.3.2->tempo_embeddings==0.0.1) (3.1.3)\n",
      "Requirement already satisfied: contourpy>=1 in /Users/jose/Repos/tempo-embeddings/.venv/lib/python3.9/site-packages (from bokeh~=3.3.2->tempo_embeddings==0.0.1) (1.2.0)\n",
      "Requirement already satisfied: pillow>=7.1.0 in /Users/jose/Repos/tempo-embeddings/.venv/lib/python3.9/site-packages (from bokeh~=3.3.2->tempo_embeddings==0.0.1) (10.2.0)\n",
      "Requirement already satisfied: tornado>=5.1 in /Users/jose/Repos/tempo-embeddings/.venv/lib/python3.9/site-packages (from bokeh~=3.3.2->tempo_embeddings==0.0.1) (6.4)\n",
      "Requirement already satisfied: xyzservices>=2021.09.1 in /Users/jose/Repos/tempo-embeddings/.venv/lib/python3.9/site-packages (from bokeh~=3.3.2->tempo_embeddings==0.0.1) (2023.10.1)\n",
      "Requirement already satisfied: build>=1.0.3 in /Users/jose/Repos/tempo-embeddings/.venv/lib/python3.9/site-packages (from chromadb~=0.4.22->tempo_embeddings==0.0.1) (1.0.3)\n",
      "Requirement already satisfied: requests>=2.28 in /Users/jose/Repos/tempo-embeddings/.venv/lib/python3.9/site-packages (from chromadb~=0.4.22->tempo_embeddings==0.0.1) (2.31.0)\n",
      "Requirement already satisfied: chroma-hnswlib==0.7.3 in /Users/jose/Repos/tempo-embeddings/.venv/lib/python3.9/site-packages (from chromadb~=0.4.22->tempo_embeddings==0.0.1) (0.7.3)\n",
      "Requirement already satisfied: fastapi>=0.95.2 in /Users/jose/Repos/tempo-embeddings/.venv/lib/python3.9/site-packages (from chromadb~=0.4.22->tempo_embeddings==0.0.1) (0.109.0)\n",
      "Requirement already satisfied: uvicorn>=0.18.3 in /Users/jose/Repos/tempo-embeddings/.venv/lib/python3.9/site-packages (from uvicorn[standard]>=0.18.3->chromadb~=0.4.22->tempo_embeddings==0.0.1) (0.26.0)\n",
      "Requirement already satisfied: posthog>=2.4.0 in /Users/jose/Repos/tempo-embeddings/.venv/lib/python3.9/site-packages (from chromadb~=0.4.22->tempo_embeddings==0.0.1) (3.3.2)\n",
      "Requirement already satisfied: typing-extensions>=4.5.0 in /Users/jose/Repos/tempo-embeddings/.venv/lib/python3.9/site-packages (from chromadb~=0.4.22->tempo_embeddings==0.0.1) (4.12.2)\n",
      "Requirement already satisfied: pulsar-client>=3.1.0 in /Users/jose/Repos/tempo-embeddings/.venv/lib/python3.9/site-packages (from chromadb~=0.4.22->tempo_embeddings==0.0.1) (3.4.0)\n",
      "Requirement already satisfied: onnxruntime>=1.14.1 in /Users/jose/Repos/tempo-embeddings/.venv/lib/python3.9/site-packages (from chromadb~=0.4.22->tempo_embeddings==0.0.1) (1.16.3)\n",
      "Requirement already satisfied: opentelemetry-api>=1.2.0 in /Users/jose/Repos/tempo-embeddings/.venv/lib/python3.9/site-packages (from chromadb~=0.4.22->tempo_embeddings==0.0.1) (1.22.0)\n",
      "Requirement already satisfied: opentelemetry-exporter-otlp-proto-grpc>=1.2.0 in /Users/jose/Repos/tempo-embeddings/.venv/lib/python3.9/site-packages (from chromadb~=0.4.22->tempo_embeddings==0.0.1) (1.11.1)\n",
      "Requirement already satisfied: opentelemetry-instrumentation-fastapi>=0.41b0 in /Users/jose/Repos/tempo-embeddings/.venv/lib/python3.9/site-packages (from chromadb~=0.4.22->tempo_embeddings==0.0.1) (0.43b0)\n",
      "Requirement already satisfied: opentelemetry-sdk>=1.2.0 in /Users/jose/Repos/tempo-embeddings/.venv/lib/python3.9/site-packages (from chromadb~=0.4.22->tempo_embeddings==0.0.1) (1.22.0)\n",
      "Requirement already satisfied: tokenizers>=0.13.2 in /Users/jose/Repos/tempo-embeddings/.venv/lib/python3.9/site-packages (from chromadb~=0.4.22->tempo_embeddings==0.0.1) (0.15.2)\n",
      "Requirement already satisfied: pypika>=0.48.9 in /Users/jose/Repos/tempo-embeddings/.venv/lib/python3.9/site-packages (from chromadb~=0.4.22->tempo_embeddings==0.0.1) (0.48.9)\n",
      "Requirement already satisfied: tqdm>=4.65.0 in /Users/jose/Repos/tempo-embeddings/.venv/lib/python3.9/site-packages (from chromadb~=0.4.22->tempo_embeddings==0.0.1) (4.66.1)\n",
      "Requirement already satisfied: overrides>=7.3.1 in /Users/jose/Repos/tempo-embeddings/.venv/lib/python3.9/site-packages (from chromadb~=0.4.22->tempo_embeddings==0.0.1) (7.6.0)\n",
      "Requirement already satisfied: importlib-resources in /Users/jose/Repos/tempo-embeddings/.venv/lib/python3.9/site-packages (from chromadb~=0.4.22->tempo_embeddings==0.0.1) (6.1.1)\n",
      "Requirement already satisfied: grpcio>=1.58.0 in /Users/jose/Repos/tempo-embeddings/.venv/lib/python3.9/site-packages (from chromadb~=0.4.22->tempo_embeddings==0.0.1) (1.63.0)\n",
      "Requirement already satisfied: bcrypt>=4.0.1 in /Users/jose/Repos/tempo-embeddings/.venv/lib/python3.9/site-packages (from chromadb~=0.4.22->tempo_embeddings==0.0.1) (4.1.2)\n",
      "Requirement already satisfied: typer>=0.9.0 in /Users/jose/Repos/tempo-embeddings/.venv/lib/python3.9/site-packages (from chromadb~=0.4.22->tempo_embeddings==0.0.1) (0.9.0)\n",
      "Requirement already satisfied: kubernetes>=28.1.0 in /Users/jose/Repos/tempo-embeddings/.venv/lib/python3.9/site-packages (from chromadb~=0.4.22->tempo_embeddings==0.0.1) (29.0.0)\n",
      "Requirement already satisfied: tenacity>=8.2.3 in /Users/jose/Repos/tempo-embeddings/.venv/lib/python3.9/site-packages (from chromadb~=0.4.22->tempo_embeddings==0.0.1) (8.2.3)\n",
      "Requirement already satisfied: mmh3>=4.0.1 in /Users/jose/Repos/tempo-embeddings/.venv/lib/python3.9/site-packages (from chromadb~=0.4.22->tempo_embeddings==0.0.1) (4.1.0)\n",
      "Requirement already satisfied: Flask<2.3.0,>=1.0.4 in /Users/jose/Repos/tempo-embeddings/.venv/lib/python3.9/site-packages (from dash~=2.11.1->tempo_embeddings==0.0.1) (2.2.5)\n",
      "Requirement already satisfied: Werkzeug<2.3.0 in /Users/jose/Repos/tempo-embeddings/.venv/lib/python3.9/site-packages (from dash~=2.11.1->tempo_embeddings==0.0.1) (2.2.3)\n",
      "Requirement already satisfied: plotly>=5.0.0 in /Users/jose/Repos/tempo-embeddings/.venv/lib/python3.9/site-packages (from dash~=2.11.1->tempo_embeddings==0.0.1) (5.18.0)\n",
      "Requirement already satisfied: dash-html-components==2.0.0 in /Users/jose/Repos/tempo-embeddings/.venv/lib/python3.9/site-packages (from dash~=2.11.1->tempo_embeddings==0.0.1) (2.0.0)\n",
      "Requirement already satisfied: dash-core-components==2.0.0 in /Users/jose/Repos/tempo-embeddings/.venv/lib/python3.9/site-packages (from dash~=2.11.1->tempo_embeddings==0.0.1) (2.0.0)\n",
      "Requirement already satisfied: dash-table==5.0.0 in /Users/jose/Repos/tempo-embeddings/.venv/lib/python3.9/site-packages (from dash~=2.11.1->tempo_embeddings==0.0.1) (5.0.0)\n",
      "Requirement already satisfied: retrying in /Users/jose/Repos/tempo-embeddings/.venv/lib/python3.9/site-packages (from dash~=2.11.1->tempo_embeddings==0.0.1) (1.3.4)\n",
      "Requirement already satisfied: ansi2html in /Users/jose/Repos/tempo-embeddings/.venv/lib/python3.9/site-packages (from dash~=2.11.1->tempo_embeddings==0.0.1) (1.9.1)\n",
      "Requirement already satisfied: nest-asyncio in /Users/jose/Repos/tempo-embeddings/.venv/lib/python3.9/site-packages (from dash~=2.11.1->tempo_embeddings==0.0.1) (1.6.0)\n",
      "Requirement already satisfied: scipy>=1.0.0 in /Users/jose/Repos/tempo-embeddings/.venv/lib/python3.9/site-packages (from kneed~=0.8.5->tempo_embeddings==0.0.1) (1.12.0)\n",
      "Requirement already satisfied: cycler>=0.10 in /Users/jose/Repos/tempo-embeddings/.venv/lib/python3.9/site-packages (from matplotlib~=3.7.2->tempo_embeddings==0.0.1) (0.12.1)\n",
      "Requirement already satisfied: fonttools>=4.22.0 in /Users/jose/Repos/tempo-embeddings/.venv/lib/python3.9/site-packages (from matplotlib~=3.7.2->tempo_embeddings==0.0.1) (4.47.2)\n",
      "Requirement already satisfied: kiwisolver>=1.0.1 in /Users/jose/Repos/tempo-embeddings/.venv/lib/python3.9/site-packages (from matplotlib~=3.7.2->tempo_embeddings==0.0.1) (1.4.5)\n",
      "Requirement already satisfied: pyparsing>=2.3.1 in /Users/jose/Repos/tempo-embeddings/.venv/lib/python3.9/site-packages (from matplotlib~=3.7.2->tempo_embeddings==0.0.1) (3.1.1)\n",
      "Requirement already satisfied: python-dateutil>=2.7 in /Users/jose/Repos/tempo-embeddings/.venv/lib/python3.9/site-packages (from matplotlib~=3.7.2->tempo_embeddings==0.0.1) (2.8.2)\n",
      "Requirement already satisfied: pytz>=2020.1 in /Users/jose/Repos/tempo-embeddings/.venv/lib/python3.9/site-packages (from pandas->tempo_embeddings==0.0.1) (2023.3.post1)\n",
      "Requirement already satisfied: tzdata>=2022.7 in /Users/jose/Repos/tempo-embeddings/.venv/lib/python3.9/site-packages (from pandas->tempo_embeddings==0.0.1) (2023.4)\n",
      "Requirement already satisfied: annotated-types>=0.4.0 in /Users/jose/Repos/tempo-embeddings/.venv/lib/python3.9/site-packages (from pydantic~=2.8.2->tempo_embeddings==0.0.1) (0.6.0)\n",
      "Requirement already satisfied: pydantic-core==2.20.1 in /Users/jose/Repos/tempo-embeddings/.venv/lib/python3.9/site-packages (from pydantic~=2.8.2->tempo_embeddings==0.0.1) (2.20.1)\n",
      "Requirement already satisfied: regex in /Users/jose/Repos/tempo-embeddings/.venv/lib/python3.9/site-packages (from sacremoses~=0.0.53->tempo_embeddings==0.0.1) (2023.12.25)\n",
      "Requirement already satisfied: six in /Users/jose/Repos/tempo-embeddings/.venv/lib/python3.9/site-packages (from sacremoses~=0.0.53->tempo_embeddings==0.0.1) (1.16.0)\n",
      "Requirement already satisfied: click in /Users/jose/Repos/tempo-embeddings/.venv/lib/python3.9/site-packages (from sacremoses~=0.0.53->tempo_embeddings==0.0.1) (8.1.7)\n",
      "Requirement already satisfied: joblib in /Users/jose/Repos/tempo-embeddings/.venv/lib/python3.9/site-packages (from sacremoses~=0.0.53->tempo_embeddings==0.0.1) (1.3.2)\n",
      "Requirement already satisfied: threadpoolctl>=2.0.0 in /Users/jose/Repos/tempo-embeddings/.venv/lib/python3.9/site-packages (from scikit-learn~=1.3.0->tempo_embeddings==0.0.1) (3.2.0)\n",
      "Requirement already satisfied: emoji in /Users/jose/Repos/tempo-embeddings/.venv/lib/python3.9/site-packages (from stanza~=1.7.0->tempo_embeddings==0.0.1) (2.10.1)\n",
      "Requirement already satisfied: protobuf>=3.15.0 in /Users/jose/Repos/tempo-embeddings/.venv/lib/python3.9/site-packages (from stanza~=1.7.0->tempo_embeddings==0.0.1) (5.27.2)\n",
      "Requirement already satisfied: networkx in /Users/jose/Repos/tempo-embeddings/.venv/lib/python3.9/site-packages (from stanza~=1.7.0->tempo_embeddings==0.0.1) (3.2.1)\n",
      "Requirement already satisfied: toml in /Users/jose/Repos/tempo-embeddings/.venv/lib/python3.9/site-packages (from stanza~=1.7.0->tempo_embeddings==0.0.1) (0.10.2)\n",
      "Requirement already satisfied: filelock in /Users/jose/Repos/tempo-embeddings/.venv/lib/python3.9/site-packages (from torch>=2.2.2->tempo_embeddings==0.0.1) (3.15.4)\n",
      "Requirement already satisfied: sympy in /Users/jose/Repos/tempo-embeddings/.venv/lib/python3.9/site-packages (from torch>=2.2.2->tempo_embeddings==0.0.1) (1.12)\n",
      "Requirement already satisfied: fsspec in /Users/jose/Repos/tempo-embeddings/.venv/lib/python3.9/site-packages (from torch>=2.2.2->tempo_embeddings==0.0.1) (2023.12.2)\n",
      "Requirement already satisfied: huggingface-hub<1.0,>=0.19.3 in /Users/jose/Repos/tempo-embeddings/.venv/lib/python3.9/site-packages (from transformers~=4.39.0->tempo_embeddings==0.0.1) (0.20.3)\n",
      "Requirement already satisfied: safetensors>=0.4.1 in /Users/jose/Repos/tempo-embeddings/.venv/lib/python3.9/site-packages (from transformers~=4.39.0->tempo_embeddings==0.0.1) (0.4.1)\n",
      "Requirement already satisfied: numba>=0.51.2 in /Users/jose/Repos/tempo-embeddings/.venv/lib/python3.9/site-packages (from umap-learn~=0.5.4->tempo_embeddings==0.0.1) (0.58.1)\n",
      "Requirement already satisfied: pynndescent>=0.5 in /Users/jose/Repos/tempo-embeddings/.venv/lib/python3.9/site-packages (from umap-learn~=0.5.4->tempo_embeddings==0.0.1) (0.5.11)\n",
      "Requirement already satisfied: httpx<=0.27.0,>=0.25.0 in /Users/jose/Repos/tempo-embeddings/.venv/lib/python3.9/site-packages (from weaviate-client~=4.6.5->tempo_embeddings==0.0.1) (0.27.0)\n",
      "Requirement already satisfied: validators==0.28.3 in /Users/jose/Repos/tempo-embeddings/.venv/lib/python3.9/site-packages (from weaviate-client~=4.6.5->tempo_embeddings==0.0.1) (0.28.3)\n",
      "Requirement already satisfied: authlib<2.0.0,>=1.2.1 in /Users/jose/Repos/tempo-embeddings/.venv/lib/python3.9/site-packages (from weaviate-client~=4.6.5->tempo_embeddings==0.0.1) (1.3.0)\n",
      "Requirement already satisfied: grpcio-tools<2.0.0,>=1.57.0 in /Users/jose/Repos/tempo-embeddings/.venv/lib/python3.9/site-packages (from weaviate-client~=4.6.5->tempo_embeddings==0.0.1) (1.63.0)\n",
      "Requirement already satisfied: grpcio-health-checking<2.0.0,>=1.57.0 in /Users/jose/Repos/tempo-embeddings/.venv/lib/python3.9/site-packages (from weaviate-client~=4.6.5->tempo_embeddings==0.0.1) (1.63.0)\n",
      "Requirement already satisfied: ipython in /Users/jose/Repos/tempo-embeddings/.venv/lib/python3.9/site-packages (from wizmap~=0.1.2->tempo_embeddings==0.0.1) (8.18.1)\n",
      "Requirement already satisfied: quadtreed3 in /Users/jose/Repos/tempo-embeddings/.venv/lib/python3.9/site-packages (from wizmap~=0.1.2->tempo_embeddings==0.0.1) (0.1.1)\n",
      "Requirement already satisfied: ndjson in /Users/jose/Repos/tempo-embeddings/.venv/lib/python3.9/site-packages (from wizmap~=0.1.2->tempo_embeddings==0.0.1) (0.3.1)\n",
      "Requirement already satisfied: skops in /Users/jose/Repos/tempo-embeddings/.venv/lib/python3.9/site-packages (from wtpsplit~=2.0.5->tempo_embeddings==0.0.1) (0.10.0)\n",
      "Requirement already satisfied: cached-property in /Users/jose/Repos/tempo-embeddings/.venv/lib/python3.9/site-packages (from wtpsplit~=2.0.5->tempo_embeddings==0.0.1) (1.5.2)\n",
      "Requirement already satisfied: mosestokenizer in /Users/jose/Repos/tempo-embeddings/.venv/lib/python3.9/site-packages (from wtpsplit~=2.0.5->tempo_embeddings==0.0.1) (1.2.1)\n",
      "Requirement already satisfied: adapters==0.2.1 in /Users/jose/Repos/tempo-embeddings/.venv/lib/python3.9/site-packages (from wtpsplit~=2.0.5->tempo_embeddings==0.0.1) (0.2.1)\n",
      "Requirement already satisfied: colorcet in /Users/jose/Repos/tempo-embeddings/.venv/lib/python3.9/site-packages (from datashader->tempo_embeddings==0.0.1) (3.0.1)\n",
      "Requirement already satisfied: dask in /Users/jose/Repos/tempo-embeddings/.venv/lib/python3.9/site-packages (from datashader->tempo_embeddings==0.0.1) (2024.1.0)\n",
      "Requirement already satisfied: multipledispatch in /Users/jose/Repos/tempo-embeddings/.venv/lib/python3.9/site-packages (from datashader->tempo_embeddings==0.0.1) (1.0.0)\n",
      "Requirement already satisfied: param in /Users/jose/Repos/tempo-embeddings/.venv/lib/python3.9/site-packages (from datashader->tempo_embeddings==0.0.1) (2.0.2)\n",
      "Requirement already satisfied: pyct in /Users/jose/Repos/tempo-embeddings/.venv/lib/python3.9/site-packages (from datashader->tempo_embeddings==0.0.1) (0.5.0)\n",
      "Requirement already satisfied: toolz in /Users/jose/Repos/tempo-embeddings/.venv/lib/python3.9/site-packages (from datashader->tempo_embeddings==0.0.1) (0.12.0)\n",
      "Requirement already satisfied: xarray in /Users/jose/Repos/tempo-embeddings/.venv/lib/python3.9/site-packages (from datashader->tempo_embeddings==0.0.1) (2024.1.0)\n",
      "Requirement already satisfied: pyviz-comms>=0.7.4 in /Users/jose/Repos/tempo-embeddings/.venv/lib/python3.9/site-packages (from holoviews->tempo_embeddings==0.0.1) (3.0.1)\n",
      "Requirement already satisfied: panel>=1.0 in /Users/jose/Repos/tempo-embeddings/.venv/lib/python3.9/site-packages (from holoviews->tempo_embeddings==0.0.1) (1.3.7)\n",
      "Requirement already satisfied: cryptography in /Users/jose/Repos/tempo-embeddings/.venv/lib/python3.9/site-packages (from authlib<2.0.0,>=1.2.1->weaviate-client~=4.6.5->tempo_embeddings==0.0.1) (42.0.7)\n",
      "Requirement already satisfied: pyproject_hooks in /Users/jose/Repos/tempo-embeddings/.venv/lib/python3.9/site-packages (from build>=1.0.3->chromadb~=0.4.22->tempo_embeddings==0.0.1) (1.0.0)\n",
      "Requirement already satisfied: importlib-metadata>=4.6 in /Users/jose/Repos/tempo-embeddings/.venv/lib/python3.9/site-packages (from build>=1.0.3->chromadb~=0.4.22->tempo_embeddings==0.0.1) (6.11.0)\n",
      "Requirement already satisfied: tomli>=1.1.0 in /Users/jose/Repos/tempo-embeddings/.venv/lib/python3.9/site-packages (from build>=1.0.3->chromadb~=0.4.22->tempo_embeddings==0.0.1) (2.0.1)\n",
      "Requirement already satisfied: starlette<0.36.0,>=0.35.0 in /Users/jose/Repos/tempo-embeddings/.venv/lib/python3.9/site-packages (from fastapi>=0.95.2->chromadb~=0.4.22->tempo_embeddings==0.0.1) (0.35.1)\n",
      "Requirement already satisfied: itsdangerous>=2.0 in /Users/jose/Repos/tempo-embeddings/.venv/lib/python3.9/site-packages (from Flask<2.3.0,>=1.0.4->dash~=2.11.1->tempo_embeddings==0.0.1) (2.1.2)\n",
      "Requirement already satisfied: setuptools in /Users/jose/Repos/tempo-embeddings/.venv/lib/python3.9/site-packages (from grpcio-tools<2.0.0,>=1.57.0->weaviate-client~=4.6.5->tempo_embeddings==0.0.1) (58.0.4)\n",
      "Requirement already satisfied: anyio in /Users/jose/Repos/tempo-embeddings/.venv/lib/python3.9/site-packages (from httpx<=0.27.0,>=0.25.0->weaviate-client~=4.6.5->tempo_embeddings==0.0.1) (4.2.0)\n",
      "Requirement already satisfied: certifi in /Users/jose/Repos/tempo-embeddings/.venv/lib/python3.9/site-packages (from httpx<=0.27.0,>=0.25.0->weaviate-client~=4.6.5->tempo_embeddings==0.0.1) (2023.11.17)\n",
      "Requirement already satisfied: httpcore==1.* in /Users/jose/Repos/tempo-embeddings/.venv/lib/python3.9/site-packages (from httpx<=0.27.0,>=0.25.0->weaviate-client~=4.6.5->tempo_embeddings==0.0.1) (1.0.5)\n",
      "Requirement already satisfied: idna in /Users/jose/Repos/tempo-embeddings/.venv/lib/python3.9/site-packages (from httpx<=0.27.0,>=0.25.0->weaviate-client~=4.6.5->tempo_embeddings==0.0.1) (3.6)\n",
      "Requirement already satisfied: sniffio in /Users/jose/Repos/tempo-embeddings/.venv/lib/python3.9/site-packages (from httpx<=0.27.0,>=0.25.0->weaviate-client~=4.6.5->tempo_embeddings==0.0.1) (1.3.0)\n",
      "Requirement already satisfied: h11<0.15,>=0.13 in /Users/jose/Repos/tempo-embeddings/.venv/lib/python3.9/site-packages (from httpcore==1.*->httpx<=0.27.0,>=0.25.0->weaviate-client~=4.6.5->tempo_embeddings==0.0.1) (0.14.0)\n",
      "Requirement already satisfied: zipp>=3.1.0 in /Users/jose/Repos/tempo-embeddings/.venv/lib/python3.9/site-packages (from importlib-resources->chromadb~=0.4.22->tempo_embeddings==0.0.1) (3.17.0)\n",
      "Requirement already satisfied: MarkupSafe>=2.0 in /Users/jose/Repos/tempo-embeddings/.venv/lib/python3.9/site-packages (from Jinja2>=2.9->bokeh~=3.3.2->tempo_embeddings==0.0.1) (2.1.4)\n",
      "Requirement already satisfied: google-auth>=1.0.1 in /Users/jose/Repos/tempo-embeddings/.venv/lib/python3.9/site-packages (from kubernetes>=28.1.0->chromadb~=0.4.22->tempo_embeddings==0.0.1) (2.26.2)\n",
      "Requirement already satisfied: websocket-client!=0.40.0,!=0.41.*,!=0.42.*,>=0.32.0 in /Users/jose/Repos/tempo-embeddings/.venv/lib/python3.9/site-packages (from kubernetes>=28.1.0->chromadb~=0.4.22->tempo_embeddings==0.0.1) (1.7.0)\n",
      "Requirement already satisfied: requests-oauthlib in /Users/jose/Repos/tempo-embeddings/.venv/lib/python3.9/site-packages (from kubernetes>=28.1.0->chromadb~=0.4.22->tempo_embeddings==0.0.1) (1.3.1)\n",
      "Requirement already satisfied: oauthlib>=3.2.2 in /Users/jose/Repos/tempo-embeddings/.venv/lib/python3.9/site-packages (from kubernetes>=28.1.0->chromadb~=0.4.22->tempo_embeddings==0.0.1) (3.2.2)\n",
      "Requirement already satisfied: urllib3>=1.24.2 in /Users/jose/Repos/tempo-embeddings/.venv/lib/python3.9/site-packages (from kubernetes>=28.1.0->chromadb~=0.4.22->tempo_embeddings==0.0.1) (2.1.0)\n",
      "Requirement already satisfied: llvmlite<0.42,>=0.41.0dev0 in /Users/jose/Repos/tempo-embeddings/.venv/lib/python3.9/site-packages (from numba>=0.51.2->umap-learn~=0.5.4->tempo_embeddings==0.0.1) (0.41.1)\n",
      "Requirement already satisfied: coloredlogs in /Users/jose/Repos/tempo-embeddings/.venv/lib/python3.9/site-packages (from onnxruntime>=1.14.1->chromadb~=0.4.22->tempo_embeddings==0.0.1) (15.0.1)\n",
      "Requirement already satisfied: flatbuffers in /Users/jose/Repos/tempo-embeddings/.venv/lib/python3.9/site-packages (from onnxruntime>=1.14.1->chromadb~=0.4.22->tempo_embeddings==0.0.1) (23.5.26)\n",
      "Requirement already satisfied: deprecated>=1.2.6 in /Users/jose/Repos/tempo-embeddings/.venv/lib/python3.9/site-packages (from opentelemetry-api>=1.2.0->chromadb~=0.4.22->tempo_embeddings==0.0.1) (1.2.14)\n",
      "Requirement already satisfied: googleapis-common-protos~=1.52 in /Users/jose/Repos/tempo-embeddings/.venv/lib/python3.9/site-packages (from opentelemetry-exporter-otlp-proto-grpc>=1.2.0->chromadb~=0.4.22->tempo_embeddings==0.0.1) (1.63.1)\n",
      "Requirement already satisfied: opentelemetry-proto==1.11.1 in /Users/jose/Repos/tempo-embeddings/.venv/lib/python3.9/site-packages (from opentelemetry-exporter-otlp-proto-grpc>=1.2.0->chromadb~=0.4.22->tempo_embeddings==0.0.1) (1.11.1)\n",
      "Requirement already satisfied: backoff<2.0.0,>=1.10.0 in /Users/jose/Repos/tempo-embeddings/.venv/lib/python3.9/site-packages (from opentelemetry-exporter-otlp-proto-grpc>=1.2.0->chromadb~=0.4.22->tempo_embeddings==0.0.1) (1.11.1)\n",
      "Requirement already satisfied: opentelemetry-instrumentation-asgi==0.43b0 in /Users/jose/Repos/tempo-embeddings/.venv/lib/python3.9/site-packages (from opentelemetry-instrumentation-fastapi>=0.41b0->chromadb~=0.4.22->tempo_embeddings==0.0.1) (0.43b0)\n",
      "Requirement already satisfied: opentelemetry-instrumentation==0.43b0 in /Users/jose/Repos/tempo-embeddings/.venv/lib/python3.9/site-packages (from opentelemetry-instrumentation-fastapi>=0.41b0->chromadb~=0.4.22->tempo_embeddings==0.0.1) (0.43b0)\n",
      "Requirement already satisfied: opentelemetry-semantic-conventions==0.43b0 in /Users/jose/Repos/tempo-embeddings/.venv/lib/python3.9/site-packages (from opentelemetry-instrumentation-fastapi>=0.41b0->chromadb~=0.4.22->tempo_embeddings==0.0.1) (0.43b0)\n",
      "Requirement already satisfied: opentelemetry-util-http==0.43b0 in /Users/jose/Repos/tempo-embeddings/.venv/lib/python3.9/site-packages (from opentelemetry-instrumentation-fastapi>=0.41b0->chromadb~=0.4.22->tempo_embeddings==0.0.1) (0.43b0)\n",
      "Requirement already satisfied: wrapt<2.0.0,>=1.0.0 in /Users/jose/Repos/tempo-embeddings/.venv/lib/python3.9/site-packages (from opentelemetry-instrumentation==0.43b0->opentelemetry-instrumentation-fastapi>=0.41b0->chromadb~=0.4.22->tempo_embeddings==0.0.1) (1.16.0)\n",
      "Requirement already satisfied: asgiref~=3.0 in /Users/jose/Repos/tempo-embeddings/.venv/lib/python3.9/site-packages (from opentelemetry-instrumentation-asgi==0.43b0->opentelemetry-instrumentation-fastapi>=0.41b0->chromadb~=0.4.22->tempo_embeddings==0.0.1) (3.7.2)\n",
      "Requirement already satisfied: markdown in /Users/jose/Repos/tempo-embeddings/.venv/lib/python3.9/site-packages (from panel>=1.0->holoviews->tempo_embeddings==0.0.1) (3.5.2)\n",
      "Requirement already satisfied: markdown-it-py in /Users/jose/Repos/tempo-embeddings/.venv/lib/python3.9/site-packages (from panel>=1.0->holoviews->tempo_embeddings==0.0.1) (3.0.0)\n",
      "Requirement already satisfied: linkify-it-py in /Users/jose/Repos/tempo-embeddings/.venv/lib/python3.9/site-packages (from panel>=1.0->holoviews->tempo_embeddings==0.0.1) (2.0.2)\n",
      "Requirement already satisfied: mdit-py-plugins in /Users/jose/Repos/tempo-embeddings/.venv/lib/python3.9/site-packages (from panel>=1.0->holoviews->tempo_embeddings==0.0.1) (0.4.0)\n",
      "Requirement already satisfied: bleach in /Users/jose/Repos/tempo-embeddings/.venv/lib/python3.9/site-packages (from panel>=1.0->holoviews->tempo_embeddings==0.0.1) (6.1.0)\n",
      "Requirement already satisfied: monotonic>=1.5 in /Users/jose/Repos/tempo-embeddings/.venv/lib/python3.9/site-packages (from posthog>=2.4.0->chromadb~=0.4.22->tempo_embeddings==0.0.1) (1.6)\n",
      "Requirement already satisfied: charset-normalizer<4,>=2 in /Users/jose/Repos/tempo-embeddings/.venv/lib/python3.9/site-packages (from requests>=2.28->chromadb~=0.4.22->tempo_embeddings==0.0.1) (3.3.2)\n",
      "Requirement already satisfied: httptools>=0.5.0 in /Users/jose/Repos/tempo-embeddings/.venv/lib/python3.9/site-packages (from uvicorn[standard]>=0.18.3->chromadb~=0.4.22->tempo_embeddings==0.0.1) (0.6.1)\n",
      "Requirement already satisfied: python-dotenv>=0.13 in /Users/jose/Repos/tempo-embeddings/.venv/lib/python3.9/site-packages (from uvicorn[standard]>=0.18.3->chromadb~=0.4.22->tempo_embeddings==0.0.1) (1.0.0)\n",
      "Requirement already satisfied: uvloop!=0.15.0,!=0.15.1,>=0.14.0 in /Users/jose/Repos/tempo-embeddings/.venv/lib/python3.9/site-packages (from uvicorn[standard]>=0.18.3->chromadb~=0.4.22->tempo_embeddings==0.0.1) (0.19.0)\n",
      "Requirement already satisfied: watchfiles>=0.13 in /Users/jose/Repos/tempo-embeddings/.venv/lib/python3.9/site-packages (from uvicorn[standard]>=0.18.3->chromadb~=0.4.22->tempo_embeddings==0.0.1) (0.21.0)\n",
      "Requirement already satisfied: websockets>=10.4 in /Users/jose/Repos/tempo-embeddings/.venv/lib/python3.9/site-packages (from uvicorn[standard]>=0.18.3->chromadb~=0.4.22->tempo_embeddings==0.0.1) (12.0)\n",
      "Requirement already satisfied: cloudpickle>=1.5.0 in /Users/jose/Repos/tempo-embeddings/.venv/lib/python3.9/site-packages (from dask->datashader->tempo_embeddings==0.0.1) (3.0.0)\n",
      "Requirement already satisfied: partd>=1.2.0 in /Users/jose/Repos/tempo-embeddings/.venv/lib/python3.9/site-packages (from dask->datashader->tempo_embeddings==0.0.1) (1.4.1)\n",
      "Requirement already satisfied: decorator in /Users/jose/Repos/tempo-embeddings/.venv/lib/python3.9/site-packages (from ipython->wizmap~=0.1.2->tempo_embeddings==0.0.1) (5.1.1)\n",
      "Requirement already satisfied: jedi>=0.16 in /Users/jose/Repos/tempo-embeddings/.venv/lib/python3.9/site-packages (from ipython->wizmap~=0.1.2->tempo_embeddings==0.0.1) (0.19.1)\n",
      "Requirement already satisfied: matplotlib-inline in /Users/jose/Repos/tempo-embeddings/.venv/lib/python3.9/site-packages (from ipython->wizmap~=0.1.2->tempo_embeddings==0.0.1) (0.1.6)\n",
      "Requirement already satisfied: prompt-toolkit<3.1.0,>=3.0.41 in /Users/jose/Repos/tempo-embeddings/.venv/lib/python3.9/site-packages (from ipython->wizmap~=0.1.2->tempo_embeddings==0.0.1) (3.0.43)\n",
      "Requirement already satisfied: pygments>=2.4.0 in /Users/jose/Repos/tempo-embeddings/.venv/lib/python3.9/site-packages (from ipython->wizmap~=0.1.2->tempo_embeddings==0.0.1) (2.17.2)\n",
      "Requirement already satisfied: stack-data in /Users/jose/Repos/tempo-embeddings/.venv/lib/python3.9/site-packages (from ipython->wizmap~=0.1.2->tempo_embeddings==0.0.1) (0.6.3)\n",
      "Requirement already satisfied: traitlets>=5 in /Users/jose/Repos/tempo-embeddings/.venv/lib/python3.9/site-packages (from ipython->wizmap~=0.1.2->tempo_embeddings==0.0.1) (5.14.1)\n",
      "Requirement already satisfied: exceptiongroup in /Users/jose/Repos/tempo-embeddings/.venv/lib/python3.9/site-packages (from ipython->wizmap~=0.1.2->tempo_embeddings==0.0.1) (1.2.0)\n",
      "Requirement already satisfied: pexpect>4.3 in /Users/jose/Repos/tempo-embeddings/.venv/lib/python3.9/site-packages (from ipython->wizmap~=0.1.2->tempo_embeddings==0.0.1) (4.9.0)\n",
      "Requirement already satisfied: docopt in /Users/jose/Repos/tempo-embeddings/.venv/lib/python3.9/site-packages (from mosestokenizer->wtpsplit~=2.0.5->tempo_embeddings==0.0.1) (0.6.2)\n",
      "Requirement already satisfied: openfile in /Users/jose/Repos/tempo-embeddings/.venv/lib/python3.9/site-packages (from mosestokenizer->wtpsplit~=2.0.5->tempo_embeddings==0.0.1) (0.0.7)\n",
      "Requirement already satisfied: uctools in /Users/jose/Repos/tempo-embeddings/.venv/lib/python3.9/site-packages (from mosestokenizer->wtpsplit~=2.0.5->tempo_embeddings==0.0.1) (1.3.0)\n",
      "Requirement already satisfied: toolwrapper in /Users/jose/Repos/tempo-embeddings/.venv/lib/python3.9/site-packages (from mosestokenizer->wtpsplit~=2.0.5->tempo_embeddings==0.0.1) (2.1.0)\n",
      "Requirement already satisfied: tabulate>=0.8.8 in /Users/jose/Repos/tempo-embeddings/.venv/lib/python3.9/site-packages (from skops->wtpsplit~=2.0.5->tempo_embeddings==0.0.1) (0.9.0)\n",
      "Requirement already satisfied: mpmath>=0.19 in /Users/jose/Repos/tempo-embeddings/.venv/lib/python3.9/site-packages (from sympy->torch>=2.2.2->tempo_embeddings==0.0.1) (1.3.0)\n",
      "Requirement already satisfied: cachetools<6.0,>=2.0.0 in /Users/jose/Repos/tempo-embeddings/.venv/lib/python3.9/site-packages (from google-auth>=1.0.1->kubernetes>=28.1.0->chromadb~=0.4.22->tempo_embeddings==0.0.1) (5.5.0)\n",
      "Requirement already satisfied: pyasn1-modules>=0.2.1 in /Users/jose/Repos/tempo-embeddings/.venv/lib/python3.9/site-packages (from google-auth>=1.0.1->kubernetes>=28.1.0->chromadb~=0.4.22->tempo_embeddings==0.0.1) (0.3.0)\n",
      "Requirement already satisfied: rsa<5,>=3.1.4 in /Users/jose/Repos/tempo-embeddings/.venv/lib/python3.9/site-packages (from google-auth>=1.0.1->kubernetes>=28.1.0->chromadb~=0.4.22->tempo_embeddings==0.0.1) (4.9)\n",
      "Requirement already satisfied: parso<0.9.0,>=0.8.3 in /Users/jose/Repos/tempo-embeddings/.venv/lib/python3.9/site-packages (from jedi>=0.16->ipython->wizmap~=0.1.2->tempo_embeddings==0.0.1) (0.8.3)\n",
      "Requirement already satisfied: locket in /Users/jose/Repos/tempo-embeddings/.venv/lib/python3.9/site-packages (from partd>=1.2.0->dask->datashader->tempo_embeddings==0.0.1) (1.0.0)\n",
      "Requirement already satisfied: ptyprocess>=0.5 in /Users/jose/Repos/tempo-embeddings/.venv/lib/python3.9/site-packages (from pexpect>4.3->ipython->wizmap~=0.1.2->tempo_embeddings==0.0.1) (0.7.0)\n",
      "Requirement already satisfied: wcwidth in /Users/jose/Repos/tempo-embeddings/.venv/lib/python3.9/site-packages (from prompt-toolkit<3.1.0,>=3.0.41->ipython->wizmap~=0.1.2->tempo_embeddings==0.0.1) (0.2.13)\n",
      "Requirement already satisfied: webencodings in /Users/jose/Repos/tempo-embeddings/.venv/lib/python3.9/site-packages (from bleach->panel>=1.0->holoviews->tempo_embeddings==0.0.1) (0.5.1)\n",
      "Requirement already satisfied: humanfriendly>=9.1 in /Users/jose/Repos/tempo-embeddings/.venv/lib/python3.9/site-packages (from coloredlogs->onnxruntime>=1.14.1->chromadb~=0.4.22->tempo_embeddings==0.0.1) (10.0)\n",
      "Requirement already satisfied: cffi>=1.12 in /Users/jose/Repos/tempo-embeddings/.venv/lib/python3.9/site-packages (from cryptography->authlib<2.0.0,>=1.2.1->weaviate-client~=4.6.5->tempo_embeddings==0.0.1) (1.16.0)\n",
      "Requirement already satisfied: uc-micro-py in /Users/jose/Repos/tempo-embeddings/.venv/lib/python3.9/site-packages (from linkify-it-py->panel>=1.0->holoviews->tempo_embeddings==0.0.1) (1.0.2)\n",
      "Requirement already satisfied: mdurl~=0.1 in /Users/jose/Repos/tempo-embeddings/.venv/lib/python3.9/site-packages (from markdown-it-py->panel>=1.0->holoviews->tempo_embeddings==0.0.1) (0.1.2)\n",
      "Requirement already satisfied: executing>=1.2.0 in /Users/jose/Repos/tempo-embeddings/.venv/lib/python3.9/site-packages (from stack-data->ipython->wizmap~=0.1.2->tempo_embeddings==0.0.1) (2.0.1)\n",
      "Requirement already satisfied: asttokens>=2.1.0 in /Users/jose/Repos/tempo-embeddings/.venv/lib/python3.9/site-packages (from stack-data->ipython->wizmap~=0.1.2->tempo_embeddings==0.0.1) (2.4.1)\n",
      "Requirement already satisfied: pure-eval in /Users/jose/Repos/tempo-embeddings/.venv/lib/python3.9/site-packages (from stack-data->ipython->wizmap~=0.1.2->tempo_embeddings==0.0.1) (0.2.2)\n",
      "Requirement already satisfied: pycparser in /Users/jose/Repos/tempo-embeddings/.venv/lib/python3.9/site-packages (from cffi>=1.12->cryptography->authlib<2.0.0,>=1.2.1->weaviate-client~=4.6.5->tempo_embeddings==0.0.1) (2.21)\n",
      "Requirement already satisfied: pyasn1<0.6.0,>=0.4.6 in /Users/jose/Repos/tempo-embeddings/.venv/lib/python3.9/site-packages (from pyasn1-modules>=0.2.1->google-auth>=1.0.1->kubernetes>=28.1.0->chromadb~=0.4.22->tempo_embeddings==0.0.1) (0.5.1)\n",
      "Building wheels for collected packages: tempo_embeddings\n",
      "  Building editable for tempo_embeddings (pyproject.toml) ... \u001b[?25ldone\n",
      "\u001b[?25h  Created wheel for tempo_embeddings: filename=tempo_embeddings-0.0.1-0.editable-py3-none-any.whl size=9582 sha256=3c1f2b8effc8a8f1dd38bcd91828b9c3869b010bf105f7ced87f392e4f75f5c6\n",
      "  Stored in directory: /private/var/folders/79/zf67ls7520x9m4mj7nx6q07w0000gp/T/pip-ephem-wheel-cache-lq970rru/wheels/de/25/96/d92b7a130b730e0ab67770d76841f36cb3d1f9cda32a4a539b\n",
      "Successfully built tempo_embeddings\n",
      "Installing collected packages: tempo_embeddings\n",
      "  Attempting uninstall: tempo_embeddings\n",
      "    Found existing installation: tempo_embeddings 0.0.1\n",
      "    Uninstalling tempo_embeddings-0.0.1:\n",
      "      Successfully uninstalled tempo_embeddings-0.0.1\n",
      "Successfully installed tempo_embeddings-0.0.1\n",
      "Note: you may need to restart the kernel to use updated packages.\n"
     ]
    }
   ],
   "source": [
    "# # Install tempo-embeddings from GitHub\n",
    "# # This can also refer to a specific version or branch\n",
    "\n",
    "%pip install -e ..\n",
    "\n",
    "# %pip install --upgrade pip  # Required for properly resolving dependencies\n",
    "# %pip uninstall -y tempo_embeddings  # Remove existing installation\n",
    "# %pip install --upgrade git+https://github.com/Semantics-of-Sustainability/tempo-embeddings.git"
   ]
  },
  {
   "cell_type": "code",
   "execution_count": 18,
   "metadata": {},
   "outputs": [],
   "source": [
    "# make sure installation has succeeded\n",
    "\n",
    "import logging\n",
    "from importlib import reload\n",
    "\n",
    "reload(logging)\n",
    "logging.basicConfig(\n",
    "    format=\"%(asctime)s %(levelname)s:%(message)s\",\n",
    "    level=logging.INFO,\n",
    "    datefmt=\"%I:%M:%S\",\n",
    ")"
   ]
  },
  {
   "cell_type": "code",
   "execution_count": 19,
   "metadata": {},
   "outputs": [
    {
     "name": "stdout",
     "output_type": "stream",
     "text": [
      "The autoreload extension is already loaded. To reload it, use:\n",
      "  %reload_ext autoreload\n"
     ]
    }
   ],
   "source": [
    "%load_ext autoreload\n",
    "%autoreload now"
   ]
  },
  {
   "cell_type": "code",
   "execution_count": 20,
   "metadata": {},
   "outputs": [],
   "source": [
    "try:\n",
    "    import google.colab  # noqa: F401\n",
    "\n",
    "    IN_COLAB = True\n",
    "except ModuleNotFoundError:\n",
    "    IN_COLAB = False"
   ]
  },
  {
   "cell_type": "code",
   "execution_count": 21,
   "metadata": {},
   "outputs": [],
   "source": [
    "from pathlib import Path\n",
    "\n",
    "from tempo_embeddings.text.corpus import Corpus"
   ]
  },
  {
   "cell_type": "markdown",
   "metadata": {},
   "source": [
    "## Load Database Manager\n",
    "\n",
    "The `db_path` parameter should point to the directory where the database is, so the original configuration and records are loaded. The database was created using the notebook `1_compute_embeddings_nl.ipynb`. If the given path does not exist, a new EMPTY database will be created there. \n",
    "\n",
    "A bigger `batch_size` could make the search faster but if it is too big you might run out of memory."
   ]
  },
  {
   "cell_type": "code",
   "execution_count": 22,
   "metadata": {},
   "outputs": [
    {
     "data": {
      "application/vnd.jupyter.widget-view+json": {
       "model_id": "050a19f99c83469d98f4f29241d6ebbf",
       "version_major": 2,
       "version_minor": 0
      },
      "text/plain": [
       "RadioButtons(description='Weaviate Database Host', index=1, options=('local', 'Research Cloud'), value='Resear…"
      ]
     },
     "execution_count": 22,
     "metadata": {},
     "output_type": "execute_result"
    }
   ],
   "source": [
    "from ipywidgets import widgets\n",
    "\n",
    "host_selector = widgets.RadioButtons(\n",
    "    options=[\"local\", \"Research Cloud\"],\n",
    "    value=\"Research Cloud\",\n",
    "    description=\"Weaviate Database Host\",\n",
    ")\n",
    "host_selector"
   ]
  },
  {
   "cell_type": "code",
   "execution_count": 23,
   "metadata": {},
   "outputs": [
    {
     "data": {
      "application/vnd.jupyter.widget-view+json": {
       "model_id": "f48e2e7624d3478eacd12482bd829793",
       "version_major": 2,
       "version_minor": 0
      },
      "text/plain": [
       "IntText(value=8087, description='Weaviate Database Port')"
      ]
     },
     "execution_count": 23,
     "metadata": {},
     "output_type": "execute_result"
    }
   ],
   "source": [
    "port_selector = widgets.IntText(value=8087, description=\"Weaviate Database Port\")\n",
    "port_selector"
   ]
  },
  {
   "cell_type": "code",
   "execution_count": 24,
   "metadata": {},
   "outputs": [
    {
     "name": "stderr",
     "output_type": "stream",
     "text": [
      "04:01:04 INFO:HTTP Request: GET http://145.38.187.187:8087/v1/.well-known/openid-configuration \"HTTP/1.1 404 Not Found\"\n",
      "04:01:04 INFO:HTTP Request: GET http://145.38.187.187:8087/v1/meta \"HTTP/1.1 200 OK\"\n",
      "04:01:04 INFO:HTTP Request: GET https://pypi.org/pypi/weaviate-client/json \"HTTP/1.1 200 OK\"\n",
      "04:01:08 INFO:HTTP Request: GET http://145.38.187.187:8087/v1/schema/TempoEmbeddings \"HTTP/1.1 200 OK\"\n"
     ]
    }
   ],
   "source": [
    "import weaviate\n",
    "from tempo_embeddings.embeddings.model import SentenceTransformerModelWrapper\n",
    "from tempo_embeddings.embeddings.weaviate_database import WeaviateDatabaseManager\n",
    "from tempo_embeddings.settings import DEFAULT_LANGUAGE_MODEL\n",
    "\n",
    "# KNOWN_HOSTS = {\"local\": \"localhost\", \"Research Cloud\": \"145.38.192.173\"} # Server GPU!\n",
    "KNOWN_HOSTS = {\n",
    "    \"local\": \"localhost\",\n",
    "    \"Research Cloud\": \"145.38.187.187\",\n",
    "}  # NEW Server Light (08-Oct-24)!\n",
    "\n",
    "db = WeaviateDatabaseManager(\n",
    "    client=weaviate.connect_to_local(\n",
    "        host=KNOWN_HOSTS[host_selector.value], port=port_selector.value\n",
    "    ),\n",
    "    model=SentenceTransformerModelWrapper.from_pretrained(DEFAULT_LANGUAGE_MODEL),\n",
    ")"
   ]
  },
  {
   "cell_type": "markdown",
   "metadata": {},
   "source": [
    "## Choose from the available Collections in the Database"
   ]
  },
  {
   "cell_type": "code",
   "execution_count": 25,
   "metadata": {},
   "outputs": [
    {
     "name": "stderr",
     "output_type": "stream",
     "text": [
      "04:01:12 INFO:HTTP Request: POST http://145.38.187.187:8087/v1/graphql \"HTTP/1.1 200 OK\"\n",
      "04:01:12 INFO:HTTP Request: POST http://145.38.187.187:8087/v1/graphql \"HTTP/1.1 200 OK\"\n",
      "04:01:12 INFO:HTTP Request: POST http://145.38.187.187:8087/v1/graphql \"HTTP/1.1 200 OK\"\n",
      "04:01:12 INFO:HTTP Request: POST http://145.38.187.187:8087/v1/graphql \"HTTP/1.1 200 OK\"\n",
      "04:01:12 INFO:HTTP Request: POST http://145.38.187.187:8087/v1/graphql \"HTTP/1.1 200 OK\"\n",
      "04:01:12 INFO:HTTP Request: POST http://145.38.187.187:8087/v1/graphql \"HTTP/1.1 200 OK\"\n",
      "04:01:12 INFO:HTTP Request: POST http://145.38.187.187:8087/v1/graphql \"HTTP/1.1 200 OK\"\n",
      "04:01:12 INFO:HTTP Request: POST http://145.38.187.187:8087/v1/graphql \"HTTP/1.1 200 OK\"\n"
     ]
    },
    {
     "name": "stdout",
     "output_type": "stream",
     "text": [
      "\n",
      "Collection Sizes\n",
      "----------------\n",
      "StatenGeneraal  \t820215\n",
      "Volkskrant      \t781978\n",
      "NRC             \t884143\n",
      "Trouw           \t568898\n",
      "AlgemeenDagblad \t1005229\n",
      "ANP             \t126466\n",
      "Telegraaf       \t631072\n"
     ]
    },
    {
     "data": {
      "application/vnd.jupyter.widget-view+json": {
       "model_id": "aca6ca33b51145cd95d52b1b09442638",
       "version_major": 2,
       "version_minor": 0
      },
      "text/plain": [
       "SelectMultiple(description='Choose a Collection:', index=(5, 0), options=('StatenGeneraal', 'Volkskrant', 'NRC…"
      ]
     },
     "execution_count": 25,
     "metadata": {},
     "output_type": "execute_result"
    }
   ],
   "source": [
    "from ipywidgets import widgets\n",
    "\n",
    "existing_colls = list(db.get_available_collections())\n",
    "collection_selector = widgets.SelectMultiple(\n",
    "    options=existing_colls,\n",
    "    value=[\"ANP\", \"StatenGeneraal\"],\n",
    "    description=\"Choose a Collection:\",\n",
    "    disabled=False,\n",
    "    style={\"description_width\": \"initial\"},\n",
    ")\n",
    "\n",
    "print(\"\\nCollection Sizes\")\n",
    "print(\"----------------\")\n",
    "max_len = max(len(collection) for collection in existing_colls) + 1\n",
    "for collection in existing_colls:\n",
    "    print(f\"{collection:{max_len}}\\t{db.get_collection_count(collection)}\")\n",
    "\n",
    "collection_selector"
   ]
  },
  {
   "cell_type": "markdown",
   "metadata": {},
   "source": [
    "## Create Sub-Corpus\n",
    "\n",
    "To make the processing and visualization easier, we will create a new `Corpus` comprising only a subet of the original Collection. This corpus will contain only the records of interest. This is done by querying the database with keyword and metadata constraints. In this example we allow to look for:\n",
    "\n",
    "- **Filter Terms:** retrieve only passages that contain exactly the given keywords.\n",
    "- **Year Range:** retrieve only the records which are inside the provided years\n",
    "- **Neighbors:** This indicates how much to *expand* the search into more datapoints. The idea is to retrieve the *top_k* neighbors of the initially retrieved passages. Ideally this will give related passages that did not mention any of the keywords explicitly."
   ]
  },
  {
   "cell_type": "code",
   "execution_count": 9,
   "metadata": {},
   "outputs": [],
   "source": [
    "# TODO: replace by SelectionRangeSlider\n",
    "widget_year_range = widgets.IntRangeSlider(\n",
    "    description=\"Year Range: \",\n",
    "    min=1800,\n",
    "    max=2020,\n",
    "    step=1,\n",
    "    value=(1950, 2000),\n",
    "    style={\"description_width\": \"initial\"},\n",
    "    layout=widgets.Layout(width=\"400px\"),\n",
    ")\n",
    "widget_terms = widgets.Text(\n",
    "    description=\"Filter Terms (comma separated)\",\n",
    "    value=\"duurzaam\",\n",
    "    style={\"description_width\": \"initial\"},\n",
    "    layout=widgets.Layout(width=\"600px\"),\n",
    ")\n",
    "widget_neighbors = widgets.IntSlider(\n",
    "    description=\"Expand Neighborhood Size: \",\n",
    "    min=0,\n",
    "    max=10,\n",
    "    value=5,\n",
    "    style={\"description_width\": \"initial\"},\n",
    "    layout=widgets.Layout(width=\"400px\"),\n",
    ")"
   ]
  },
  {
   "cell_type": "markdown",
   "metadata": {},
   "source": [
    "### Display the Widgets to choose the parameters"
   ]
  },
  {
   "cell_type": "code",
   "execution_count": 10,
   "metadata": {},
   "outputs": [
    {
     "data": {
      "application/vnd.jupyter.widget-view+json": {
       "model_id": "96965657c8ac44b7b574f075e0b76a19",
       "version_major": 2,
       "version_minor": 0
      },
      "text/plain": [
       "Text(value='duurzaam', description='Filter Terms (comma separated)', layout=Layout(width='600px'), style=TextS…"
      ]
     },
     "metadata": {},
     "output_type": "display_data"
    },
    {
     "data": {
      "application/vnd.jupyter.widget-view+json": {
       "model_id": "8e892fca30bb4628a29546caad8edd7b",
       "version_major": 2,
       "version_minor": 0
      },
      "text/plain": [
       "IntRangeSlider(value=(1950, 2000), description='Year Range: ', layout=Layout(width='400px'), max=2020, min=180…"
      ]
     },
     "metadata": {},
     "output_type": "display_data"
    }
   ],
   "source": [
    "display(widget_terms)\n",
    "display(widget_year_range)"
   ]
  },
  {
   "cell_type": "markdown",
   "metadata": {},
   "source": [
    "### Execute the Search\n",
    "\n",
    "No need to move the code manually here. All parameters are grabbed from the widget values"
   ]
  },
  {
   "cell_type": "code",
   "execution_count": 11,
   "metadata": {
    "notebookRunGroups": {
     "groupValue": "2"
    }
   },
   "outputs": [
    {
     "name": "stderr",
     "output_type": "stream",
     "text": [
      "01:55:24 INFO:Dropping UMAP model while merging corpora .\n",
      "01:55:24 INFO:Merging corpora with identical vectorizers, reusing it.\n"
     ]
    },
    {
     "name": "stdout",
     "output_type": "stream",
     "text": [
      "Searching terms ['duurzaam'] between year 1950 and 2000\n"
     ]
    },
    {
     "name": "stderr",
     "output_type": "stream",
     "text": [
      "01:55:35 INFO:Dropping UMAP model while merging corpora .\n",
      "01:55:35 INFO:Merging corpora with identical vectorizers, reusing it.\n"
     ]
    },
    {
     "name": "stdout",
     "output_type": "stream",
     "text": [
      "Found 9485 items that match!\n"
     ]
    }
   ],
   "source": [
    "# Unpack values form Widget\n",
    "year_from, year_to = widget_year_range.value\n",
    "FILTER_TERMS = [s.strip() for s in widget_terms.value.split(\",\")]\n",
    "# Execute Database Query\n",
    "where_range = {\"year_from\": year_from, \"year_to\": year_to}\n",
    "print(f\"Searching terms {FILTER_TERMS} between year {year_from} and {year_to}\")\n",
    "corpus = sum(\n",
    "    (\n",
    "        db.get_corpus(\n",
    "            collection,\n",
    "            filter_words=FILTER_TERMS,\n",
    "            year_from=year_from,\n",
    "            year_to=year_to,\n",
    "            include_embeddings=True,\n",
    "            limit=10000,\n",
    "        )\n",
    "        for collection in collection_selector.value\n",
    "    ),\n",
    "    start=Corpus([]),\n",
    ")\n",
    "print(f\"Found {len(corpus)} items that match!\")"
   ]
  },
  {
   "cell_type": "markdown",
   "metadata": {},
   "source": [
    "## Cluster the Corpus"
   ]
  },
  {
   "cell_type": "code",
   "execution_count": 12,
   "metadata": {},
   "outputs": [
    {
     "name": "stderr",
     "output_type": "stream",
     "text": [
      "OMP: Info #276: omp_set_nested routine deprecated, please use omp_set_max_active_levels instead.\n"
     ]
    },
    {
     "data": {
      "text/plain": [
       "array([[ 6.21053743,  5.48949718],\n",
       "       [ 7.7494874 ,  6.34135103],\n",
       "       [ 9.12733364,  6.33163738],\n",
       "       ...,\n",
       "       [ 8.91673756,  9.95978069],\n",
       "       [10.29898548, 11.33841419],\n",
       "       [10.02689552,  4.10463333]])"
      ]
     },
     "execution_count": 12,
     "metadata": {},
     "output_type": "execute_result"
    }
   ],
   "source": [
    "corpus.compress_embeddings()"
   ]
  },
  {
   "cell_type": "code",
   "execution_count": 20,
   "metadata": {},
   "outputs": [
    {
     "name": "stderr",
     "output_type": "stream",
     "text": [
      "/Users/jose/Repos/tempo-embeddings/.venv/lib/python3.9/site-packages/sklearn/feature_extraction/text.py:525: UserWarning: The parameter 'token_pattern' will not be used since 'tokenizer' is not None'\n",
      "  warnings.warn(\n"
     ]
    }
   ],
   "source": [
    "# Make sure (TF-)IDF is computed on the full corpus\n",
    "corpus.fit_vectorizer()"
   ]
  },
  {
   "cell_type": "markdown",
   "metadata": {},
   "source": [
    "### Choose Minimum Cluster Size"
   ]
  },
  {
   "cell_type": "code",
   "execution_count": 33,
   "metadata": {},
   "outputs": [],
   "source": [
    "min_cluster_size_widget = widgets.IntSlider(\n",
    "    value=50,\n",
    "    min=5,\n",
    "    max=len(corpus) // 10,\n",
    "    step=1,\n",
    "    description=\"Minimum Cluster Size:\",\n",
    "    disabled=False,\n",
    "    continuous_update=False,\n",
    "    orientation=\"horizontal\",\n",
    "    readout=True,\n",
    "    readout_format=\"d\",\n",
    "    style={\"description_width\": \"initial\"},\n",
    ")"
   ]
  },
  {
   "cell_type": "code",
   "execution_count": 34,
   "metadata": {},
   "outputs": [
    {
     "data": {
      "application/vnd.jupyter.widget-view+json": {
       "model_id": "180740e7e8294ab996e57aad0dac77d8",
       "version_major": 2,
       "version_minor": 0
      },
      "text/plain": [
       "IntSlider(value=50, continuous_update=False, description='Minimum Cluster Size:', max=948, min=5, style=Slider…"
      ]
     },
     "execution_count": 34,
     "metadata": {},
     "output_type": "execute_result"
    }
   ],
   "source": [
    "min_cluster_size_widget"
   ]
  },
  {
   "cell_type": "markdown",
   "metadata": {},
   "source": [
    "### Execute Clustering"
   ]
  },
  {
   "cell_type": "code",
   "execution_count": 35,
   "metadata": {},
   "outputs": [
    {
     "name": "stdout",
     "output_type": "stream",
     "text": [
      "Found 28 clusters in the corpus. (min cluster size is 50)\n"
     ]
    },
    {
     "name": "stderr",
     "output_type": "stream",
     "text": [
      "/Users/jose/Repos/tempo-embeddings/.venv/lib/python3.9/site-packages/sklearn/cluster/_hdbscan/hdbscan.py:819: DeprecationWarning: Conversion of an array with ndim > 0 to a scalar is deprecated, and will error in future. Ensure you extract a single element from your array before performing this operation. (Deprecated NumPy 1.25.)\n",
      "  self.labels_, self.probabilities_ = tree_to_labels(\n"
     ]
    }
   ],
   "source": [
    "# Arguments: min_cluster_size=10, cluster_selection_epsilon=0.1, ...\n",
    "# See https://scikit-learn.org/stable/modules/generated/sklearn.cluster.HDBSCAN.html for full list\n",
    "\n",
    "# e.g. min_samples=10, cluster_selection_epsilon=0.2, cluster_selection_method=\"leaf\"\n",
    "clusters = list(\n",
    "    corpus.cluster(\n",
    "        min_cluster_size=min_cluster_size_widget.value, cluster_selection_epsilon=0.1\n",
    "    )\n",
    ")\n",
    "print(\n",
    "    f\"Found {len(clusters)} clusters in the corpus. (min cluster size is {min_cluster_size_widget.value})\"\n",
    ")\n",
    "\n",
    "if len(clusters) > 100:\n",
    "    raise ValueError(\n",
    "        \"Seems like you have too many clusters! Try with a bigger value for min_cluster_size to avoid memory issues\"\n",
    "    )\n",
    "\n",
    "max_cluster_size = max(len(c.passages) for c in clusters)"
   ]
  },
  {
   "cell_type": "markdown",
   "metadata": {},
   "source": [
    "### Expand clusters"
   ]
  },
  {
   "cell_type": "code",
   "execution_count": 36,
   "metadata": {},
   "outputs": [
    {
     "data": {
      "application/vnd.jupyter.widget-view+json": {
       "model_id": "2df20dd6cfe54bd1aebbd1b6ce23429e",
       "version_major": 2,
       "version_minor": 0
      },
      "text/plain": [
       "IntSlider(value=5, description='Expand Neighborhood Size: ', layout=Layout(width='400px'), max=10, style=Slide…"
      ]
     },
     "metadata": {},
     "output_type": "display_data"
    }
   ],
   "source": [
    "display(widget_neighbors)"
   ]
  },
  {
   "cell_type": "code",
   "execution_count": 37,
   "metadata": {},
   "outputs": [
    {
     "name": "stderr",
     "output_type": "stream",
     "text": [
      "Expanding:   0%|          | 0/28 [00:00<?, ?cluster/s]02:14:57 INFO:HTTP Request: POST http://145.38.192.173:8087/v1/graphql \"HTTP/1.1 200 OK\"\n",
      "02:14:58 INFO:Merging corpora with identical UMAP models, reusing it.\n",
      "Expanding:   4%|▎         | 1/28 [00:01<00:32,  1.21s/cluster]02:14:58 INFO:HTTP Request: POST http://145.38.192.173:8087/v1/graphql \"HTTP/1.1 200 OK\"\n",
      "02:15:03 INFO:Merging corpora with identical UMAP models, reusing it.\n",
      "Expanding:   7%|▋         | 2/28 [00:06<01:29,  3.45s/cluster]02:15:03 INFO:HTTP Request: POST http://145.38.192.173:8087/v1/graphql \"HTTP/1.1 200 OK\"\n",
      "02:15:06 INFO:Merging corpora with identical UMAP models, reusing it.\n",
      "Expanding:  11%|█         | 3/28 [00:08<01:17,  3.09s/cluster]02:15:06 INFO:HTTP Request: POST http://145.38.192.173:8087/v1/graphql \"HTTP/1.1 200 OK\"\n",
      "02:15:07 INFO:Merging corpora with identical UMAP models, reusing it.\n",
      "Expanding:  14%|█▍        | 4/28 [00:09<00:54,  2.29s/cluster]02:15:07 INFO:HTTP Request: POST http://145.38.192.173:8087/v1/graphql \"HTTP/1.1 200 OK\"\n",
      "02:15:08 INFO:Merging corpora with identical UMAP models, reusing it.\n",
      "Expanding:  18%|█▊        | 5/28 [00:11<00:42,  1.87s/cluster]02:15:08 INFO:HTTP Request: POST http://145.38.192.173:8087/v1/graphql \"HTTP/1.1 200 OK\"\n",
      "02:15:14 INFO:Merging corpora with identical UMAP models, reusing it.\n",
      "Expanding:  21%|██▏       | 6/28 [00:16<01:11,  3.24s/cluster]02:15:14 INFO:HTTP Request: POST http://145.38.192.173:8087/v1/graphql \"HTTP/1.1 200 OK\"\n",
      "02:15:14 INFO:Merging corpora with identical UMAP models, reusing it.\n",
      "Expanding:  25%|██▌       | 7/28 [00:17<00:49,  2.35s/cluster]02:15:14 INFO:HTTP Request: POST http://145.38.192.173:8087/v1/graphql \"HTTP/1.1 200 OK\"\n",
      "02:15:17 INFO:Merging corpora with identical UMAP models, reusing it.\n",
      "Expanding:  29%|██▊       | 8/28 [00:19<00:46,  2.32s/cluster]02:15:17 INFO:HTTP Request: POST http://145.38.192.173:8087/v1/graphql \"HTTP/1.1 200 OK\"\n",
      "02:15:19 INFO:Merging corpora with identical UMAP models, reusing it.\n",
      "Expanding:  32%|███▏      | 9/28 [00:22<00:44,  2.35s/cluster]02:15:19 INFO:HTTP Request: POST http://145.38.192.173:8087/v1/graphql \"HTTP/1.1 200 OK\"\n",
      "02:15:19 INFO:Merging corpora with identical UMAP models, reusing it.\n",
      "Expanding:  36%|███▌      | 10/28 [00:22<00:31,  1.73s/cluster]02:15:19 INFO:HTTP Request: POST http://145.38.192.173:8087/v1/graphql \"HTTP/1.1 200 OK\"\n",
      "02:15:20 INFO:Merging corpora with identical UMAP models, reusing it.\n",
      "Expanding:  39%|███▉      | 11/28 [00:22<00:22,  1.33s/cluster]02:15:20 INFO:HTTP Request: POST http://145.38.192.173:8087/v1/graphql \"HTTP/1.1 200 OK\"\n",
      "02:15:20 INFO:Merging corpora with identical UMAP models, reusing it.\n",
      "Expanding:  43%|████▎     | 12/28 [00:23<00:17,  1.08s/cluster]02:15:20 INFO:HTTP Request: POST http://145.38.192.173:8087/v1/graphql \"HTTP/1.1 200 OK\"\n",
      "02:15:21 INFO:Merging corpora with identical UMAP models, reusing it.\n",
      "Expanding:  46%|████▋     | 13/28 [00:23<00:13,  1.10cluster/s]02:15:21 INFO:HTTP Request: POST http://145.38.192.173:8087/v1/graphql \"HTTP/1.1 200 OK\"\n",
      "02:15:21 INFO:Merging corpora with identical UMAP models, reusing it.\n",
      "Expanding:  50%|█████     | 14/28 [00:24<00:11,  1.26cluster/s]02:15:21 INFO:HTTP Request: POST http://145.38.192.173:8087/v1/graphql \"HTTP/1.1 200 OK\"\n",
      "02:15:22 INFO:Merging corpora with identical UMAP models, reusing it.\n",
      "Expanding:  54%|█████▎    | 15/28 [00:25<00:09,  1.38cluster/s]02:15:22 INFO:HTTP Request: POST http://145.38.192.173:8087/v1/graphql \"HTTP/1.1 200 OK\"\n",
      "02:15:22 INFO:Merging corpora with identical UMAP models, reusing it.\n",
      "Expanding:  57%|█████▋    | 16/28 [00:25<00:07,  1.70cluster/s]02:15:22 INFO:HTTP Request: POST http://145.38.192.173:8087/v1/graphql \"HTTP/1.1 200 OK\"\n",
      "02:15:23 INFO:Merging corpora with identical UMAP models, reusing it.\n",
      "Expanding:  61%|██████    | 17/28 [00:26<00:08,  1.29cluster/s]02:15:23 INFO:HTTP Request: POST http://145.38.192.173:8087/v1/graphql \"HTTP/1.1 200 OK\"\n",
      "02:15:24 INFO:Merging corpora with identical UMAP models, reusing it.\n",
      "Expanding:  64%|██████▍   | 18/28 [00:26<00:06,  1.56cluster/s]02:15:24 INFO:HTTP Request: POST http://145.38.192.173:8087/v1/graphql \"HTTP/1.1 200 OK\"\n",
      "02:15:24 INFO:Merging corpora with identical UMAP models, reusing it.\n",
      "Expanding:  68%|██████▊   | 19/28 [00:27<00:04,  1.84cluster/s]02:15:24 INFO:HTTP Request: POST http://145.38.192.173:8087/v1/graphql \"HTTP/1.1 200 OK\"\n",
      "02:15:24 INFO:Merging corpora with identical UMAP models, reusing it.\n",
      "Expanding:  71%|███████▏  | 20/28 [00:27<00:03,  2.02cluster/s]02:15:24 INFO:HTTP Request: POST http://145.38.192.173:8087/v1/graphql \"HTTP/1.1 200 OK\"\n",
      "02:15:25 INFO:Merging corpora with identical UMAP models, reusing it.\n",
      "Expanding:  75%|███████▌  | 21/28 [00:27<00:03,  2.24cluster/s]02:15:25 INFO:HTTP Request: POST http://145.38.192.173:8087/v1/graphql \"HTTP/1.1 200 OK\"\n",
      "02:15:25 INFO:Merging corpora with identical UMAP models, reusing it.\n",
      "Expanding:  79%|███████▊  | 22/28 [00:28<00:02,  2.39cluster/s]02:15:25 INFO:HTTP Request: POST http://145.38.192.173:8087/v1/graphql \"HTTP/1.1 200 OK\"\n",
      "02:15:25 INFO:Merging corpora with identical UMAP models, reusing it.\n",
      "Expanding:  82%|████████▏ | 23/28 [00:28<00:02,  2.31cluster/s]02:15:26 INFO:HTTP Request: POST http://145.38.192.173:8087/v1/graphql \"HTTP/1.1 200 OK\"\n",
      "02:15:26 INFO:Merging corpora with identical UMAP models, reusing it.\n",
      "Expanding:  86%|████████▌ | 24/28 [00:29<00:01,  2.51cluster/s]02:15:26 INFO:HTTP Request: POST http://145.38.192.173:8087/v1/graphql \"HTTP/1.1 200 OK\"\n",
      "02:15:26 INFO:Merging corpora with identical UMAP models, reusing it.\n",
      "Expanding:  89%|████████▉ | 25/28 [00:29<00:01,  2.79cluster/s]02:15:26 INFO:HTTP Request: POST http://145.38.192.173:8087/v1/graphql \"HTTP/1.1 200 OK\"\n",
      "02:15:26 INFO:Merging corpora with identical UMAP models, reusing it.\n",
      "Expanding:  93%|█████████▎| 26/28 [00:29<00:00,  3.01cluster/s]02:15:26 INFO:HTTP Request: POST http://145.38.192.173:8087/v1/graphql \"HTTP/1.1 200 OK\"\n",
      "02:15:27 INFO:Merging corpora with identical UMAP models, reusing it.\n",
      "Expanding:  96%|█████████▋| 27/28 [00:29<00:00,  3.04cluster/s]02:15:27 INFO:HTTP Request: POST http://145.38.192.173:8087/v1/graphql \"HTTP/1.1 200 OK\"\n",
      "02:15:27 INFO:Merging corpora with identical UMAP models, reusing it.\n",
      "Expanding: 100%|██████████| 28/28 [00:30<00:00,  1.07s/cluster]\n"
     ]
    }
   ],
   "source": [
    "from tqdm import tqdm\n",
    "\n",
    "for cluster in tqdm(clusters, unit=\"cluster\", desc=\"Expanding\"):\n",
    "    cluster += db.neighbours(cluster, k=widget_neighbors.value)"
   ]
  },
  {
   "cell_type": "markdown",
   "metadata": {},
   "source": [
    "### Label the Clusters (TF-IDF)\n",
    "#### Load Stopwords to avoid including them in the Cluster Labels"
   ]
  },
  {
   "cell_type": "code",
   "execution_count": 24,
   "metadata": {},
   "outputs": [],
   "source": [
    "stopwords_file = Path(\"../tempo_embeddings/data/stopwords-filter-nl.txt\")\n",
    "\n",
    "with open(stopwords_file.absolute(), \"rt\") as f:\n",
    "    stopwords = set(f.read().splitlines())"
   ]
  },
  {
   "cell_type": "markdown",
   "metadata": {},
   "source": [
    "#### Iterate Clusters to assign labels and save a sample of Passages for inspection"
   ]
  },
  {
   "cell_type": "code",
   "execution_count": 26,
   "metadata": {},
   "outputs": [
    {
     "name": "stdout",
     "output_type": "stream",
     "text": [
      "Corpus('concept; veilig; verkeer; verkeersveiligheid; vervoersysteem', 367 passages)\n",
      "Corpus('beleid; bezit; herstel; karakter; vorming', 2179 passages)\n",
      "Corpus('aanpak; bouwen; kader; plan; project', 803 passages)\n",
      "Corpus('land; nederland; verblijf; vreemdelingen; wijziging', 196 passages)\n",
      "Corpus('begrip; term; woord; «duurzaam»; „duurzaam', 257 passages)\n",
      "Corpus('Outliers', 1481 passages)\n",
      "Corpus('aardgasbeleid; energie; energiebeleid; kernenergie; overwegende', 37 passages)\n",
      "Corpus('bosbeheer; bossen; geproduceerd; hout; tropisch', 991 passages)\n",
      "Corpus('gehuwden; gescheiden; gezamenlijke; huishouding; voeren', 744 passages)\n",
      "Corpus('regering; schip; visbestanden; visserij; visserijbeleid', 63 passages)\n",
      "Corpus('echtgenoot; gehuwde; gescheiden; pensioen; vrouw', 92 passages)\n",
      "Corpus('beleid; gebruik; internationale; nederland; nederlandse', 139 passages)\n",
      "Corpus('gezamenlijke; graad; huishouding; persoon; voert', 34 passages)\n",
      "Corpus('lijden; ondraaglijk; patiënt; verzoek; weloverwogen', 54 passages)\n",
      "Corpus('antillen; aruba; eilanden; hecht; samenwerkingsverband', 60 passages)\n",
      "Corpus('1985; adressant; adressante; inspecteur; staatssecretaris', 47 passages)\n",
      "Corpus('afstand; gezag; kind; lid; ouders', 38 passages)\n",
      "Corpus('gescheiden; jaar; kind; lid; werknemer', 69 passages)\n",
      "Corpus('ecosystemen; msc; noordzee; waarden; waddenzee', 43 passages)\n",
      "Corpus('groei; milieuvriendelijk; ontwikkeling; produceren; systeem', 53 passages)\n",
      "Corpus('beleid; ecologische; gebruik; landbouw; landgebruik', 326 passages)\n",
      "Corpus('elkaar; huwelijk; samenleven; samenlevingsverband; verantwoordelijkheid', 69 passages)\n",
      "Corpus('aardgas; aardgasbeleid; gas; gasunie; productie', 30 passages)\n",
      "Corpus('echtgenoten; echtscheiding; huwelijk; ontwricht; rechter', 98 passages)\n",
      "Corpus('consument; consumeren; gesproken; milieuvriendelijke; produceren', 45 passages)\n",
      "Corpus('geleide; inzake; staatssecretaris; weten; zaken', 80 passages)\n",
      "Corpus('25746; bedrijf; daadwerkelijk; grond; varkenshouderij', 49 passages)\n",
      "Corpus('belastingplichtige; echtgenoot; gescheiden; inkomen; levende', 189 passages)\n",
      "Corpus('economische; leefomgeving; milieu; milieubeleid; trendbreuk', 27 passages)\n",
      "Corpus('24606; belangen; overgangswet; tijdelijk; verzorgingshuizen', 47 passages)\n",
      "Corpus('arbeid; inkomen; inkomsten; minimum; wao', 34 passages)\n",
      "Corpus('aangemerkt; gehuwd; kind; opgevoed; pleegkind', 44 passages)\n",
      "Corpus('gebruik; huurder; indien; nemen; verhuurder', 26 passages)\n",
      "Corpus('gewezen; jaar; lid; onderdeel; uitkeringen', 47 passages)\n",
      "Corpus('deelgenoot; leefde; overlijden; periodieke; uitkering', 47 passages)\n",
      "Corpus('gebruik; grondwater; onvoldoende; waterbeheer; watersystemen', 65 passages)\n",
      "Corpus('aandelen; activa; eenheid; vaste; vennootschap', 31 passages)\n",
      "Corpus('arbeidsongeschikte; gedeeltelijk; inkomensvoorziening; oudere; zelfstandigen', 31 passages)\n",
      "Corpus('beschouwd; duurder; sterk; tweede; vraag', 37 passages)\n",
      "Corpus('behoud; biologische; diversiteit; gebruik; toerisme', 34 passages)\n",
      "Corpus('duurzaamheidsnormen; gebaseerd; gebruik; milieu; milieufuncties', 66 passages)\n",
      "Corpus('aanvang; kalenderjaar; nederland; ontheffing; wonende', 46 passages)\n",
      "Corpus('aangemerkt; degene; echtgenoot; huishouding; persoon', 51 passages)\n",
      "Corpus('berekening; dni; inkomen; nationaal; onderzoek', 32 passages)\n",
      "Corpus('landbouw; manifest; milieu; natuur; samengaan', 39 passages)\n",
      "Corpus('energie; grondstof; komt; stroom; waarbij', 41 passages)\n",
      "Corpus('1990; bouwen; gebruik; grondstoffen; ruimtelijke', 41 passages)\n",
      "Corpus('1994; lnv; nmp; prov; vrom', 41 passages)\n",
      "Corpus('aantoonbaar; geproduceerd; keurmerk; label; merkteken', 25 passages)\n"
     ]
    }
   ],
   "source": [
    "import os\n",
    "\n",
    "if not os.path.exists(\"clusters\"):\n",
    "    os.makedirs(\"clusters\")\n",
    "\n",
    "selected_metadata = [\"year\"]\n",
    "cluster_sample = 10\n",
    "centroid_based_sample = True\n",
    "\n",
    "all_clusters_records, df_cluster_labels, df_cluster_meta = [], [], []\n",
    "for cluster in clusters:\n",
    "    cluster.set_topic_label(exclude_words=frozenset(stopwords | set(FILTER_TERMS)), n=5)\n",
    "    df = cluster.to_dataframe()\n",
    "    centroid = cluster.centroid()\n",
    "    label = cluster.label\n",
    "    cluster_size = len(cluster.passages)\n",
    "    # Compute Cluster Stats as a Subcorpus\n",
    "    top_words = \" \".join(\n",
    "        cluster.top_words(exclude_words=frozenset(stopwords | set(FILTER_TERMS)), n=10)\n",
    "    )\n",
    "    all_clusters_records.append((f\"{label}\\t{cluster_size}\\t{centroid}\\t{top_words}\\n\"))\n",
    "    df_cluster_labels.append(cluster.label)\n",
    "    df_cluster_meta.append(df[selected_metadata])\n",
    "    # Save a sample of the Cluster Passages in a File (the cluster_sample_size closest to the centroid)\n",
    "    file_prefix = f\"cluster_{year_from}_{year_to}_{cluster.label.replace('; ', '_')}\"\n",
    "    df_sample = cluster.sample(cluster_sample, centroid_based_sample).to_dataframe()\n",
    "    df_sample.to_csv(f\"clusters/{file_prefix}.tsv\", sep=\"\\t\", index=False)\n",
    "    print(cluster)"
   ]
  },
  {
   "cell_type": "code",
   "execution_count": 27,
   "metadata": {},
   "outputs": [],
   "source": [
    "with open(f\"clusters/clusters_all_{year_from}_{year_to}.csv\", \"wt\") as f:\n",
    "    f.write(\"Label\\tSize\\tCentroid\\tTopWords\\n\")\n",
    "    for rec in all_clusters_records:\n",
    "        f.write(rec)"
   ]
  },
  {
   "cell_type": "markdown",
   "metadata": {},
   "source": [
    "### Plot Cluster Content Distributions"
   ]
  },
  {
   "cell_type": "code",
   "execution_count": 28,
   "metadata": {},
   "outputs": [
    {
     "name": "stderr",
     "output_type": "stream",
     "text": [
      "/Users/jose/Repos/tempo-embeddings/.venv/lib/python3.9/site-packages/ipywidgets/widgets/interaction.py:43: DeprecationWarning: `ipykernel.pylab.backend_inline` is deprecated, directly use `matplotlib_inline.backend_inline`\n",
      "  from ipykernel.pylab.backend_inline import flush_figures\n"
     ]
    },
    {
     "data": {
      "application/vnd.jupyter.widget-view+json": {
       "model_id": "37304957556642dda417018dfc8c2443",
       "version_major": 2,
       "version_minor": 0
      },
      "text/plain": [
       "interactive(children=(Dropdown(description='Choose a Cluster:', options=(('concept; veilig; verkeer; verkeersv…"
      ]
     },
     "metadata": {},
     "output_type": "display_data"
    },
    {
     "data": {
      "text/plain": [
       "<function __main__.plot_cluster_distribution(cluster_index, column_name, num_bins)>"
      ]
     },
     "execution_count": 28,
     "metadata": {},
     "output_type": "execute_result"
    }
   ],
   "source": [
    "import logging\n",
    "\n",
    "import matplotlib.pyplot as plt\n",
    "from ipywidgets import interact\n",
    "\n",
    "logging.getLogger(\"matplotlib\").setLevel(logging.WARNING)\n",
    "\n",
    "\n",
    "# TODO: Maybe use something better than pyplot so the histogram is prettier and more flexible\n",
    "def plot_cluster_distribution(cluster_index, column_name, num_bins):\n",
    "    df = df_cluster_meta[cluster_index]\n",
    "    cluster_name = df_cluster_labels[cluster_index]\n",
    "    plt.figure(figsize=(10, 6))\n",
    "    plt.hist(df[column_name], edgecolor=\"black\", bins=num_bins)\n",
    "    plt.xlabel(f\"{column_name}\", fontsize=14)\n",
    "    plt.xticks(rotation=90)\n",
    "    plt.ylabel(\"Frequency\", fontsize=14)\n",
    "    plt.title(f\"{cluster_name}\", fontsize=16)\n",
    "    plt.show()\n",
    "\n",
    "\n",
    "cluster_selector = widgets.Dropdown(\n",
    "    options=[(lbl, i) for i, lbl in enumerate(df_cluster_labels)],\n",
    "    description=\"Choose a Cluster:\",\n",
    "    disabled=False,\n",
    "    style={\"description_width\": \"initial\"},\n",
    ")\n",
    "\n",
    "# Would be better to choose a BIN_SIZE: so it plots per year, per decade, per 25 years, etc...\n",
    "hist_bins_selector = widgets.Dropdown(\n",
    "    options=[x + 1 for x in range(100)],\n",
    "    value=10,\n",
    "    description=\"Choose Number of Bins:\",\n",
    "    disabled=False,\n",
    "    style={\"description_width\": \"initial\"},\n",
    ")\n",
    "\n",
    "variable_selector = widgets.Dropdown(\n",
    "    options=selected_metadata,\n",
    "    description=\"Choose a Column to Plot:\",\n",
    "    disabled=False,\n",
    "    style={\"description_width\": \"initial\"},\n",
    ")\n",
    "\n",
    "interact(\n",
    "    plot_cluster_distribution,\n",
    "    cluster_index=cluster_selector,\n",
    "    column_name=variable_selector,\n",
    "    num_bins=hist_bins_selector,\n",
    ")"
   ]
  },
  {
   "cell_type": "markdown",
   "metadata": {},
   "source": [
    "## Visualize Embeddings (All Clusters)"
   ]
  },
  {
   "cell_type": "code",
   "execution_count": 29,
   "metadata": {},
   "outputs": [],
   "source": [
    "try:\n",
    "    del visualizer\n",
    "except NameError:\n",
    "    pass"
   ]
  },
  {
   "cell_type": "code",
   "execution_count": 32,
   "metadata": {},
   "outputs": [
    {
     "data": {
      "text/html": [
       "    <style>\n",
       "        .bk-notebook-logo {\n",
       "            display: block;\n",
       "            width: 20px;\n",
       "            height: 20px;\n",
       "            background-image: url(data:image/png;base64,iVBORw0KGgoAAAANSUhEUgAAABQAAAAUCAYAAACNiR0NAAAABHNCSVQICAgIfAhkiAAAAAlwSFlzAAALEgAACxIB0t1+/AAAABx0RVh0U29mdHdhcmUAQWRvYmUgRmlyZXdvcmtzIENTNui8sowAAAOkSURBVDiNjZRtaJVlGMd/1/08zzln5zjP1LWcU9N0NkN8m2CYjpgQYQXqSs0I84OLIC0hkEKoPtiH3gmKoiJDU7QpLgoLjLIQCpEsNJ1vqUOdO7ppbuec5+V+rj4ctwzd8IIbbi6u+8f1539dt3A78eXC7QizUF7gyV1fD1Yqg4JWz84yffhm0qkFqBogB9rM8tZdtwVsPUhWhGcFJngGeWrPzHm5oaMmkfEg1usvLFyc8jLRqDOMru7AyC8saQr7GG7f5fvDeH7Ej8CM66nIF+8yngt6HWaKh7k49Soy9nXurCi1o3qUbS3zWfrYeQDTB/Qj6kX6Ybhw4B+bOYoLKCC9H3Nu/leUTZ1JdRWkkn2ldcCamzrcf47KKXdAJllSlxAOkRgyHsGC/zRday5Qld9DyoM4/q/rUoy/CXh3jzOu3bHUVZeU+DEn8FInkPBFlu3+nW3Nw0mk6vCDiWg8CeJaxEwuHS3+z5RgY+YBR6V1Z1nxSOfoaPa4LASWxxdNp+VWTk7+4vzaou8v8PN+xo+KY2xsw6une2frhw05CTYOmQvsEhjhWjn0bmXPjpE1+kplmmkP3suftwTubK9Vq22qKmrBhpY4jvd5afdRA3wGjFAgcnTK2s4hY0/GPNIb0nErGMCRxWOOX64Z8RAC4oCXdklmEvcL8o0BfkNK4lUg9HTl+oPlQxdNo3Mg4Nv175e/1LDGzZen30MEjRUtmXSfiTVu1kK8W4txyV6BMKlbgk3lMwYCiusNy9fVfvvwMxv8Ynl6vxoByANLTWplvuj/nF9m2+PDtt1eiHPBr1oIfhCChQMBw6Aw0UulqTKZdfVvfG7VcfIqLG9bcldL/+pdWTLxLUy8Qq38heUIjh4XlzZxzQm19lLFlr8vdQ97rjZVOLf8nclzckbcD4wxXMidpX30sFd37Fv/GtwwhzhxGVAprjbg0gCAEeIgwCZyTV2Z1REEW8O4py0wsjeloKoMr6iCY6dP92H6Vw/oTyICIthibxjm/DfN9lVz8IqtqKYLUXfoKVMVQVVJOElGjrnnUt9T9wbgp8AyYKaGlqingHZU/uG2NTZSVqwHQTWkx9hxjkpWDaCg6Ckj5qebgBVbT3V3NNXMSiWSDdGV3hrtzla7J+duwPOToIg42ChPQOQjspnSlp1V+Gjdged7+8UN5CRAV7a5EdFNwCjEaBR27b3W890TE7g24NAP/mMDXRWrGoFPQI9ls/MWO2dWFAar/xcOIImbbpA3zgAAAABJRU5ErkJggg==);\n",
       "        }\n",
       "    </style>\n",
       "    <div>\n",
       "        <a href=\"https://bokeh.org\" target=\"_blank\" class=\"bk-notebook-logo\"></a>\n",
       "        <span id=\"fbd89af1-334d-4528-a115-30a4740961e2\">Loading BokehJS ...</span>\n",
       "    </div>\n"
      ]
     },
     "metadata": {},
     "output_type": "display_data"
    },
    {
     "data": {
      "application/javascript": "(function(root) {\n  function now() {\n    return new Date();\n  }\n\n  const force = true;\n\n  if (typeof root._bokeh_onload_callbacks === \"undefined\" || force === true) {\n    root._bokeh_onload_callbacks = [];\n    root._bokeh_is_loading = undefined;\n  }\n\nconst JS_MIME_TYPE = 'application/javascript';\n  const HTML_MIME_TYPE = 'text/html';\n  const EXEC_MIME_TYPE = 'application/vnd.bokehjs_exec.v0+json';\n  const CLASS_NAME = 'output_bokeh rendered_html';\n\n  /**\n   * Render data to the DOM node\n   */\n  function render(props, node) {\n    const script = document.createElement(\"script\");\n    node.appendChild(script);\n  }\n\n  /**\n   * Handle when an output is cleared or removed\n   */\n  function handleClearOutput(event, handle) {\n    function drop(id) {\n      const view = Bokeh.index.get_by_id(id)\n      if (view != null) {\n        view.model.document.clear()\n        Bokeh.index.delete(view)\n      }\n    }\n\n    const cell = handle.cell;\n\n    const id = cell.output_area._bokeh_element_id;\n    const server_id = cell.output_area._bokeh_server_id;\n\n    // Clean up Bokeh references\n    if (id != null) {\n      drop(id)\n    }\n\n    if (server_id !== undefined) {\n      // Clean up Bokeh references\n      const cmd_clean = \"from bokeh.io.state import curstate; print(curstate().uuid_to_server['\" + server_id + \"'].get_sessions()[0].document.roots[0]._id)\";\n      cell.notebook.kernel.execute(cmd_clean, {\n        iopub: {\n          output: function(msg) {\n            const id = msg.content.text.trim()\n            drop(id)\n          }\n        }\n      });\n      // Destroy server and session\n      const cmd_destroy = \"import bokeh.io.notebook as ion; ion.destroy_server('\" + server_id + \"')\";\n      cell.notebook.kernel.execute(cmd_destroy);\n    }\n  }\n\n  /**\n   * Handle when a new output is added\n   */\n  function handleAddOutput(event, handle) {\n    const output_area = handle.output_area;\n    const output = handle.output;\n\n    // limit handleAddOutput to display_data with EXEC_MIME_TYPE content only\n    if ((output.output_type != \"display_data\") || (!Object.prototype.hasOwnProperty.call(output.data, EXEC_MIME_TYPE))) {\n      return\n    }\n\n    const toinsert = output_area.element.find(\".\" + CLASS_NAME.split(' ')[0]);\n\n    if (output.metadata[EXEC_MIME_TYPE][\"id\"] !== undefined) {\n      toinsert[toinsert.length - 1].firstChild.textContent = output.data[JS_MIME_TYPE];\n      // store reference to embed id on output_area\n      output_area._bokeh_element_id = output.metadata[EXEC_MIME_TYPE][\"id\"];\n    }\n    if (output.metadata[EXEC_MIME_TYPE][\"server_id\"] !== undefined) {\n      const bk_div = document.createElement(\"div\");\n      bk_div.innerHTML = output.data[HTML_MIME_TYPE];\n      const script_attrs = bk_div.children[0].attributes;\n      for (let i = 0; i < script_attrs.length; i++) {\n        toinsert[toinsert.length - 1].firstChild.setAttribute(script_attrs[i].name, script_attrs[i].value);\n        toinsert[toinsert.length - 1].firstChild.textContent = bk_div.children[0].textContent\n      }\n      // store reference to server id on output_area\n      output_area._bokeh_server_id = output.metadata[EXEC_MIME_TYPE][\"server_id\"];\n    }\n  }\n\n  function register_renderer(events, OutputArea) {\n\n    function append_mime(data, metadata, element) {\n      // create a DOM node to render to\n      const toinsert = this.create_output_subarea(\n        metadata,\n        CLASS_NAME,\n        EXEC_MIME_TYPE\n      );\n      this.keyboard_manager.register_events(toinsert);\n      // Render to node\n      const props = {data: data, metadata: metadata[EXEC_MIME_TYPE]};\n      render(props, toinsert[toinsert.length - 1]);\n      element.append(toinsert);\n      return toinsert\n    }\n\n    /* Handle when an output is cleared or removed */\n    events.on('clear_output.CodeCell', handleClearOutput);\n    events.on('delete.Cell', handleClearOutput);\n\n    /* Handle when a new output is added */\n    events.on('output_added.OutputArea', handleAddOutput);\n\n    /**\n     * Register the mime type and append_mime function with output_area\n     */\n    OutputArea.prototype.register_mime_type(EXEC_MIME_TYPE, append_mime, {\n      /* Is output safe? */\n      safe: true,\n      /* Index of renderer in `output_area.display_order` */\n      index: 0\n    });\n  }\n\n  // register the mime type if in Jupyter Notebook environment and previously unregistered\n  if (root.Jupyter !== undefined) {\n    const events = require('base/js/events');\n    const OutputArea = require('notebook/js/outputarea').OutputArea;\n\n    if (OutputArea.prototype.mime_types().indexOf(EXEC_MIME_TYPE) == -1) {\n      register_renderer(events, OutputArea);\n    }\n  }\n  if (typeof (root._bokeh_timeout) === \"undefined\" || force === true) {\n    root._bokeh_timeout = Date.now() + 5000;\n    root._bokeh_failed_load = false;\n  }\n\n  const NB_LOAD_WARNING = {'data': {'text/html':\n     \"<div style='background-color: #fdd'>\\n\"+\n     \"<p>\\n\"+\n     \"BokehJS does not appear to have successfully loaded. If loading BokehJS from CDN, this \\n\"+\n     \"may be due to a slow or bad network connection. Possible fixes:\\n\"+\n     \"</p>\\n\"+\n     \"<ul>\\n\"+\n     \"<li>re-rerun `output_notebook()` to attempt to load from CDN again, or</li>\\n\"+\n     \"<li>use INLINE resources instead, as so:</li>\\n\"+\n     \"</ul>\\n\"+\n     \"<code>\\n\"+\n     \"from bokeh.resources import INLINE\\n\"+\n     \"output_notebook(resources=INLINE)\\n\"+\n     \"</code>\\n\"+\n     \"</div>\"}};\n\n  function display_loaded() {\n    const el = document.getElementById(\"fbd89af1-334d-4528-a115-30a4740961e2\");\n    if (el != null) {\n      el.textContent = \"BokehJS is loading...\";\n    }\n    if (root.Bokeh !== undefined) {\n      if (el != null) {\n        el.textContent = \"BokehJS \" + root.Bokeh.version + \" successfully loaded.\";\n      }\n    } else if (Date.now() < root._bokeh_timeout) {\n      setTimeout(display_loaded, 100)\n    }\n  }\n\n  function run_callbacks() {\n    try {\n      root._bokeh_onload_callbacks.forEach(function(callback) {\n        if (callback != null)\n          callback();\n      });\n    } finally {\n      delete root._bokeh_onload_callbacks\n    }\n    console.debug(\"Bokeh: all callbacks have finished\");\n  }\n\n  function load_libs(css_urls, js_urls, callback) {\n    if (css_urls == null) css_urls = [];\n    if (js_urls == null) js_urls = [];\n\n    root._bokeh_onload_callbacks.push(callback);\n    if (root._bokeh_is_loading > 0) {\n      console.debug(\"Bokeh: BokehJS is being loaded, scheduling callback at\", now());\n      return null;\n    }\n    if (js_urls == null || js_urls.length === 0) {\n      run_callbacks();\n      return null;\n    }\n    console.debug(\"Bokeh: BokehJS not loaded, scheduling load and callback at\", now());\n    root._bokeh_is_loading = css_urls.length + js_urls.length;\n\n    function on_load() {\n      root._bokeh_is_loading--;\n      if (root._bokeh_is_loading === 0) {\n        console.debug(\"Bokeh: all BokehJS libraries/stylesheets loaded\");\n        run_callbacks()\n      }\n    }\n\n    function on_error(url) {\n      console.error(\"failed to load \" + url);\n    }\n\n    for (let i = 0; i < css_urls.length; i++) {\n      const url = css_urls[i];\n      const element = document.createElement(\"link\");\n      element.onload = on_load;\n      element.onerror = on_error.bind(null, url);\n      element.rel = \"stylesheet\";\n      element.type = \"text/css\";\n      element.href = url;\n      console.debug(\"Bokeh: injecting link tag for BokehJS stylesheet: \", url);\n      document.body.appendChild(element);\n    }\n\n    for (let i = 0; i < js_urls.length; i++) {\n      const url = js_urls[i];\n      const element = document.createElement('script');\n      element.onload = on_load;\n      element.onerror = on_error.bind(null, url);\n      element.async = false;\n      element.src = url;\n      console.debug(\"Bokeh: injecting script tag for BokehJS library: \", url);\n      document.head.appendChild(element);\n    }\n  };\n\n  function inject_raw_css(css) {\n    const element = document.createElement(\"style\");\n    element.appendChild(document.createTextNode(css));\n    document.body.appendChild(element);\n  }\n\n  const js_urls = [\"https://cdn.bokeh.org/bokeh/release/bokeh-3.3.3.min.js\", \"https://cdn.bokeh.org/bokeh/release/bokeh-gl-3.3.3.min.js\", \"https://cdn.bokeh.org/bokeh/release/bokeh-widgets-3.3.3.min.js\", \"https://cdn.bokeh.org/bokeh/release/bokeh-tables-3.3.3.min.js\", \"https://cdn.bokeh.org/bokeh/release/bokeh-mathjax-3.3.3.min.js\"];\n  const css_urls = [];\n\n  const inline_js = [    function(Bokeh) {\n      Bokeh.set_log_level(\"info\");\n    },\nfunction(Bokeh) {\n    }\n  ];\n\n  function run_inline_js() {\n    if (root.Bokeh !== undefined || force === true) {\n          for (let i = 0; i < inline_js.length; i++) {\n      inline_js[i].call(root, root.Bokeh);\n    }\nif (force === true) {\n        display_loaded();\n      }} else if (Date.now() < root._bokeh_timeout) {\n      setTimeout(run_inline_js, 100);\n    } else if (!root._bokeh_failed_load) {\n      console.log(\"Bokeh: BokehJS failed to load within specified timeout.\");\n      root._bokeh_failed_load = true;\n    } else if (force !== true) {\n      const cell = $(document.getElementById(\"fbd89af1-334d-4528-a115-30a4740961e2\")).parents('.cell').data().cell;\n      cell.output_area.append_execute_result(NB_LOAD_WARNING)\n    }\n  }\n\n  if (root._bokeh_is_loading === 0) {\n    console.debug(\"Bokeh: BokehJS loaded, going straight to plotting\");\n    run_inline_js();\n  } else {\n    load_libs(css_urls, js_urls, function() {\n      console.debug(\"Bokeh: BokehJS plotting callback run at\", now());\n      run_inline_js();\n    });\n  }\n}(window));",
      "application/vnd.bokehjs_load.v0+json": ""
     },
     "metadata": {},
     "output_type": "display_data"
    },
    {
     "name": "stderr",
     "output_type": "stream",
     "text": [
      "02:14:03 INFO:Starting Bokeh server version 3.3.3 (running on Tornado 6.4)\n",
      "02:14:03 INFO:User authentication hooks NOT provided (default user enabled)\n"
     ]
    },
    {
     "data": {
      "application/vnd.bokehjs_exec.v0+json": "",
      "text/html": [
       "<script id=\"p2522\">\n",
       "  (function() {\n",
       "    const xhr = new XMLHttpRequest()\n",
       "    xhr.responseType = 'blob';\n",
       "    xhr.open('GET', \"http://localhost:62811/autoload.js?bokeh-autoload-element=p2522&bokeh-absolute-url=http://localhost:62811&resources=none\", true);\n",
       "    xhr.onload = function (event) {\n",
       "      const script = document.createElement('script');\n",
       "      const src = URL.createObjectURL(event.target.response);\n",
       "      script.src = src;\n",
       "      document.body.appendChild(script);\n",
       "    };\n",
       "    xhr.send();\n",
       "  })();\n",
       "</script>"
      ]
     },
     "metadata": {
      "application/vnd.bokehjs_exec.v0+json": {
       "server_id": "88f64c720129432391f584c0cec95c3a"
      }
     },
     "output_type": "display_data"
    },
    {
     "name": "stderr",
     "output_type": "stream",
     "text": [
      "02:14:03 WARNING:Legend heigt exceeds plot height (500). Increasing number of columns to 2.\n",
      "02:14:03 INFO:WebSocket connection opened\n",
      "02:14:03 INFO:ServerConnection created\n"
     ]
    }
   ],
   "source": [
    "import os\n",
    "\n",
    "from bokeh.io import output_notebook\n",
    "from bokeh.plotting import show\n",
    "\n",
    "from tempo_embeddings.visualization.bokeh import BokehInteractiveVisualizer\n",
    "\n",
    "output_notebook()\n",
    "\n",
    "meta_fields = corpus.metadata_fields()\n",
    "meta_fields = [\"year\", \"date\", \"issue\", \"provenance\"]\n",
    "\n",
    "visualizer = BokehInteractiveVisualizer(\n",
    "    *clusters, metadata_fields=meta_fields, width=1200, height=500\n",
    ")\n",
    "\n",
    "os.environ[\"BOKEH_ALLOW_WS_ORIGIN\"] = \"*\"\n",
    "\n",
    "show(visualizer.create_document)"
   ]
  }
 ],
 "metadata": {
  "kernelspec": {
   "display_name": "Python 3 (ipykernel)",
   "language": "python",
   "name": "python3"
  },
  "language_info": {
   "codemirror_mode": {
    "name": "ipython",
    "version": 3
   },
   "file_extension": ".py",
   "mimetype": "text/x-python",
   "name": "python",
   "nbconvert_exporter": "python",
   "pygments_lexer": "ipython3",
   "version": "3.9.6"
  }
 },
 "nbformat": 4,
 "nbformat_minor": 4
}
