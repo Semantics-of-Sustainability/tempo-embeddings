{
 "cells": [
  {
   "cell_type": "code",
   "execution_count": null,
   "metadata": {},
   "outputs": [],
   "source": [
    "%pip install -q ipywidgets"
   ]
  },
  {
   "cell_type": "code",
   "execution_count": null,
   "metadata": {},
   "outputs": [],
   "source": [
    "%load_ext autoreload\n",
    "%autoreload now\n",
    "import tempo_embeddings\n",
    "import ipywidgets as widgets"
   ]
  },
  {
   "cell_type": "markdown",
   "metadata": {},
   "source": [
    "#### Connect to Existing Database"
   ]
  },
  {
   "cell_type": "code",
   "execution_count": null,
   "metadata": {},
   "outputs": [],
   "source": [
    "from tempo_embeddings.embeddings.vector_database import ChromaDatabaseManager\n",
    "\n",
    "db = ChromaDatabaseManager(db_path=\"testing_db_big\", batch_size=24)\n",
    "db.connect()"
   ]
  },
  {
   "cell_type": "markdown",
   "metadata": {},
   "source": [
    "#### Choose from Existing Collections in the DB"
   ]
  },
  {
   "cell_type": "code",
   "execution_count": null,
   "metadata": {},
   "outputs": [],
   "source": [
    "existing_colls = db.get_available_collections()\n",
    "collection_selector = widgets.Dropdown(\n",
    "    options=existing_colls,\n",
    "    description='Collection:',\n",
    "    disabled=False,\n",
    ")\n",
    "collection_selector"
   ]
  },
  {
   "cell_type": "markdown",
   "metadata": {},
   "source": [
    "#### Analyze collections"
   ]
  },
  {
   "cell_type": "markdown",
   "metadata": {},
   "source": [
    "Number of records in collections:"
   ]
  },
  {
   "cell_type": "code",
   "execution_count": null,
   "metadata": {},
   "outputs": [],
   "source": [
    "collection = db.get_existing_collection(collection_selector.value)\n",
    "print(collection.count())"
   ]
  },
  {
   "cell_type": "code",
   "execution_count": null,
   "metadata": {},
   "outputs": [],
   "source": [
    "print(\"Metadatas in collection (value, count) pairs\")\n",
    "stats = db.get_metadata_stats(collection, include_only=[\"date\", \"year\", \"issue\"])\n",
    "for field, val_dict in stats.items():\n",
    "    print(f\"\\n----- {field} -----\")\n",
    "    print(sorted(val_dict.items(), key= lambda x: - x[1]))"
   ]
  },
  {
   "cell_type": "markdown",
   "metadata": {},
   "source": [
    "Plot records by metadata"
   ]
  },
  {
   "cell_type": "code",
   "execution_count": null,
   "metadata": {},
   "outputs": [],
   "source": [
    "## WARNING: The DataFrame only works if the Dataset is of reasonable size (e.g. below 50K records)\n",
    "\n",
    "corpus = db.get_corpus(collection)\n",
    "df = corpus.to_dataframe()\n",
    "\n",
    "print(f\"Data Shape = {df.shape}\")\n",
    "df.head()"
   ]
  },
  {
   "cell_type": "code",
   "execution_count": null,
   "metadata": {},
   "outputs": [],
   "source": [
    "field_selector = widgets.Dropdown(\n",
    "    options=list(df.columns),\n",
    "    description='Metadata Field:',\n",
    "    disabled=False,\n",
    "    value=\"year\"\n",
    ")\n",
    "field_selector"
   ]
  },
  {
   "cell_type": "code",
   "execution_count": null,
   "metadata": {},
   "outputs": [],
   "source": [
    "meta_field = field_selector.value\n",
    "print(f\"Distribution by {meta_field}\")\n",
    "print(df[meta_field].value_counts())\n",
    "df[meta_field].sort_values().hist(xrot=90, figsize=(30,10))"
   ]
  }
 ],
 "metadata": {
  "kernelspec": {
   "display_name": ".venv",
   "language": "python",
   "name": "python3"
  },
  "language_info": {
   "codemirror_mode": {
    "name": "ipython",
    "version": 3
   },
   "file_extension": ".py",
   "mimetype": "text/x-python",
   "name": "python",
   "nbconvert_exporter": "python",
   "pygments_lexer": "ipython3",
   "version": "3.9.6"
  }
 },
 "nbformat": 4,
 "nbformat_minor": 2
}
