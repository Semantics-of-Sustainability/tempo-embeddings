{
 "cells": [
  {
   "cell_type": "markdown",
   "metadata": {},
   "source": [
    "# Installation"
   ]
  },
  {
   "cell_type": "code",
   "execution_count": 71,
   "metadata": {},
   "outputs": [
    {
     "name": "stdout",
     "output_type": "stream",
     "text": [
      "The autoreload extension is already loaded. To reload it, use:\n",
      "  %reload_ext autoreload\n"
     ]
    }
   ],
   "source": [
    "%load_ext autoreload"
   ]
  },
  {
   "cell_type": "code",
   "execution_count": 72,
   "metadata": {},
   "outputs": [
    {
     "name": "stdout",
     "output_type": "stream",
     "text": [
      "Obtaining file:///Users/carstenschnober/Documents/SemanticsOfSustainability/workspace/tempo-embeddings\n",
      "  Installing build dependencies ... \u001b[?25ldone\n",
      "\u001b[?25h  Checking if build backend supports build_editable ... \u001b[?25ldone\n",
      "\u001b[?25h  Getting requirements to build editable ... \u001b[?25ldone\n",
      "\u001b[?25h  Preparing editable metadata (pyproject.toml) ... \u001b[?25ldone\n",
      "\u001b[?25hRequirement already satisfied: accelerate~=0.22.0 in /Users/carstenschnober/Documents/SemanticsOfSustainability/workspace/tempo-embeddings/.venv/lib/python3.11/site-packages (from tempo_embeddings==0.0.1) (0.22.0)\n",
      "Requirement already satisfied: seaborn~=0.13.0 in /Users/carstenschnober/Documents/SemanticsOfSustainability/workspace/tempo-embeddings/.venv/lib/python3.11/site-packages (from tempo_embeddings==0.0.1) (0.13.0)\n",
      "Requirement already satisfied: transformers~=4.39.0 in /Users/carstenschnober/Documents/SemanticsOfSustainability/workspace/tempo-embeddings/.venv/lib/python3.11/site-packages (from tempo_embeddings==0.0.1) (4.39.3)\n",
      "Requirement already satisfied: torch~=2.4.0 in /Users/carstenschnober/Documents/SemanticsOfSustainability/workspace/tempo-embeddings/.venv/lib/python3.11/site-packages (from tempo_embeddings==0.0.1) (2.4.0)\n",
      "Requirement already satisfied: umap-learn~=0.5.4 in /Users/carstenschnober/Documents/SemanticsOfSustainability/workspace/tempo-embeddings/.venv/lib/python3.11/site-packages (from tempo_embeddings==0.0.1) (0.5.4)\n",
      "Requirement already satisfied: wizmap~=0.1.2 in /Users/carstenschnober/Documents/SemanticsOfSustainability/workspace/tempo-embeddings/.venv/lib/python3.11/site-packages (from tempo_embeddings==0.0.1) (0.1.2)\n",
      "Requirement already satisfied: matplotlib~=3.7.2 in /Users/carstenschnober/Documents/SemanticsOfSustainability/workspace/tempo-embeddings/.venv/lib/python3.11/site-packages (from tempo_embeddings==0.0.1) (3.7.5)\n",
      "Requirement already satisfied: sacremoses~=0.0.53 in /Users/carstenschnober/Documents/SemanticsOfSustainability/workspace/tempo-embeddings/.venv/lib/python3.11/site-packages (from tempo_embeddings==0.0.1) (0.0.53)\n",
      "Requirement already satisfied: scikit-learn~=1.3.0 in /Users/carstenschnober/Documents/SemanticsOfSustainability/workspace/tempo-embeddings/.venv/lib/python3.11/site-packages (from tempo_embeddings==0.0.1) (1.3.0)\n",
      "Requirement already satisfied: sentence-splitter~=1.4.0 in /Users/carstenschnober/Documents/SemanticsOfSustainability/workspace/tempo-embeddings/.venv/lib/python3.11/site-packages (from tempo_embeddings==0.0.1) (1.4)\n",
      "Requirement already satisfied: stanza~=1.7.0 in /Users/carstenschnober/Documents/SemanticsOfSustainability/workspace/tempo-embeddings/.venv/lib/python3.11/site-packages (from tempo_embeddings==0.0.1) (1.7.0)\n",
      "Requirement already satisfied: chromadb~=0.4.22 in /Users/carstenschnober/Documents/SemanticsOfSustainability/workspace/tempo-embeddings/.venv/lib/python3.11/site-packages (from tempo_embeddings==0.0.1) (0.4.22)\n",
      "Requirement already satisfied: weaviate-client~=4.6.5 in /Users/carstenschnober/Documents/SemanticsOfSustainability/workspace/tempo-embeddings/.venv/lib/python3.11/site-packages (from tempo_embeddings==0.0.1) (4.6.7)\n",
      "Requirement already satisfied: wtpsplit~=2.0.5 in /Users/carstenschnober/Documents/SemanticsOfSustainability/workspace/tempo-embeddings/.venv/lib/python3.11/site-packages (from tempo_embeddings==0.0.1) (2.0.5)\n",
      "Requirement already satisfied: pydantic~=2.8.2 in /Users/carstenschnober/Documents/SemanticsOfSustainability/workspace/tempo-embeddings/.venv/lib/python3.11/site-packages (from tempo_embeddings==0.0.1) (2.8.2)\n",
      "Requirement already satisfied: pandas in /Users/carstenschnober/Documents/SemanticsOfSustainability/workspace/tempo-embeddings/.venv/lib/python3.11/site-packages (from tempo_embeddings==0.0.1) (2.0.3)\n",
      "Requirement already satisfied: datashader in /Users/carstenschnober/Documents/SemanticsOfSustainability/workspace/tempo-embeddings/.venv/lib/python3.11/site-packages (from tempo_embeddings==0.0.1) (0.16.3)\n",
      "Requirement already satisfied: bokeh~=3.3.2 in /Users/carstenschnober/Documents/SemanticsOfSustainability/workspace/tempo-embeddings/.venv/lib/python3.11/site-packages (from tempo_embeddings==0.0.1) (3.3.2)\n",
      "Requirement already satisfied: holoviews in /Users/carstenschnober/Documents/SemanticsOfSustainability/workspace/tempo-embeddings/.venv/lib/python3.11/site-packages (from tempo_embeddings==0.0.1) (1.17.0)\n",
      "Requirement already satisfied: dash~=2.11.1 in /Users/carstenschnober/Documents/SemanticsOfSustainability/workspace/tempo-embeddings/.venv/lib/python3.11/site-packages (from tempo_embeddings==0.0.1) (2.11.1)\n",
      "Requirement already satisfied: numpy>=1.17 in /Users/carstenschnober/Documents/SemanticsOfSustainability/workspace/tempo-embeddings/.venv/lib/python3.11/site-packages (from accelerate~=0.22.0->tempo_embeddings==0.0.1) (1.24.4)\n",
      "Requirement already satisfied: packaging>=20.0 in /Users/carstenschnober/Documents/SemanticsOfSustainability/workspace/tempo-embeddings/.venv/lib/python3.11/site-packages (from accelerate~=0.22.0->tempo_embeddings==0.0.1) (23.1)\n",
      "Requirement already satisfied: psutil in /Users/carstenschnober/Documents/SemanticsOfSustainability/workspace/tempo-embeddings/.venv/lib/python3.11/site-packages (from accelerate~=0.22.0->tempo_embeddings==0.0.1) (5.9.5)\n",
      "Requirement already satisfied: pyyaml in /Users/carstenschnober/Documents/SemanticsOfSustainability/workspace/tempo-embeddings/.venv/lib/python3.11/site-packages (from accelerate~=0.22.0->tempo_embeddings==0.0.1) (6.0)\n",
      "Requirement already satisfied: Jinja2>=2.9 in /Users/carstenschnober/Documents/SemanticsOfSustainability/workspace/tempo-embeddings/.venv/lib/python3.11/site-packages (from bokeh~=3.3.2->tempo_embeddings==0.0.1) (3.1.4)\n",
      "Requirement already satisfied: contourpy>=1 in /Users/carstenschnober/Documents/SemanticsOfSustainability/workspace/tempo-embeddings/.venv/lib/python3.11/site-packages (from bokeh~=3.3.2->tempo_embeddings==0.0.1) (1.1.0)\n",
      "Requirement already satisfied: pillow>=7.1.0 in /Users/carstenschnober/Documents/SemanticsOfSustainability/workspace/tempo-embeddings/.venv/lib/python3.11/site-packages (from bokeh~=3.3.2->tempo_embeddings==0.0.1) (10.0.0)\n",
      "Requirement already satisfied: tornado>=5.1 in /Users/carstenschnober/Documents/SemanticsOfSustainability/workspace/tempo-embeddings/.venv/lib/python3.11/site-packages (from bokeh~=3.3.2->tempo_embeddings==0.0.1) (6.3.2)\n",
      "Requirement already satisfied: xyzservices>=2021.09.1 in /Users/carstenschnober/Documents/SemanticsOfSustainability/workspace/tempo-embeddings/.venv/lib/python3.11/site-packages (from bokeh~=3.3.2->tempo_embeddings==0.0.1) (2023.7.0)\n",
      "Requirement already satisfied: build>=1.0.3 in /Users/carstenschnober/Documents/SemanticsOfSustainability/workspace/tempo-embeddings/.venv/lib/python3.11/site-packages (from chromadb~=0.4.22->tempo_embeddings==0.0.1) (1.0.3)\n",
      "Requirement already satisfied: requests>=2.28 in /Users/carstenschnober/Documents/SemanticsOfSustainability/workspace/tempo-embeddings/.venv/lib/python3.11/site-packages (from chromadb~=0.4.22->tempo_embeddings==0.0.1) (2.31.0)\n",
      "Requirement already satisfied: chroma-hnswlib==0.7.3 in /Users/carstenschnober/Documents/SemanticsOfSustainability/workspace/tempo-embeddings/.venv/lib/python3.11/site-packages (from chromadb~=0.4.22->tempo_embeddings==0.0.1) (0.7.3)\n",
      "Requirement already satisfied: fastapi>=0.95.2 in /Users/carstenschnober/Documents/SemanticsOfSustainability/workspace/tempo-embeddings/.venv/lib/python3.11/site-packages (from chromadb~=0.4.22->tempo_embeddings==0.0.1) (0.109.2)\n",
      "Requirement already satisfied: uvicorn>=0.18.3 in /Users/carstenschnober/Documents/SemanticsOfSustainability/workspace/tempo-embeddings/.venv/lib/python3.11/site-packages (from uvicorn[standard]>=0.18.3->chromadb~=0.4.22->tempo_embeddings==0.0.1) (0.27.1)\n",
      "Requirement already satisfied: posthog>=2.4.0 in /Users/carstenschnober/Documents/SemanticsOfSustainability/workspace/tempo-embeddings/.venv/lib/python3.11/site-packages (from chromadb~=0.4.22->tempo_embeddings==0.0.1) (3.4.1)\n",
      "Requirement already satisfied: typing-extensions>=4.5.0 in /Users/carstenschnober/Documents/SemanticsOfSustainability/workspace/tempo-embeddings/.venv/lib/python3.11/site-packages (from chromadb~=0.4.22->tempo_embeddings==0.0.1) (4.9.0)\n",
      "Requirement already satisfied: pulsar-client>=3.1.0 in /Users/carstenschnober/Documents/SemanticsOfSustainability/workspace/tempo-embeddings/.venv/lib/python3.11/site-packages (from chromadb~=0.4.22->tempo_embeddings==0.0.1) (3.4.0)\n",
      "Requirement already satisfied: onnxruntime>=1.14.1 in /Users/carstenschnober/Documents/SemanticsOfSustainability/workspace/tempo-embeddings/.venv/lib/python3.11/site-packages (from chromadb~=0.4.22->tempo_embeddings==0.0.1) (1.17.0)\n",
      "Requirement already satisfied: opentelemetry-api>=1.2.0 in /Users/carstenschnober/Documents/SemanticsOfSustainability/workspace/tempo-embeddings/.venv/lib/python3.11/site-packages (from chromadb~=0.4.22->tempo_embeddings==0.0.1) (1.22.0)\n",
      "Requirement already satisfied: opentelemetry-exporter-otlp-proto-grpc>=1.2.0 in /Users/carstenschnober/Documents/SemanticsOfSustainability/workspace/tempo-embeddings/.venv/lib/python3.11/site-packages (from chromadb~=0.4.22->tempo_embeddings==0.0.1) (1.11.1)\n",
      "Requirement already satisfied: opentelemetry-instrumentation-fastapi>=0.41b0 in /Users/carstenschnober/Documents/SemanticsOfSustainability/workspace/tempo-embeddings/.venv/lib/python3.11/site-packages (from chromadb~=0.4.22->tempo_embeddings==0.0.1) (0.43b0)\n",
      "Requirement already satisfied: opentelemetry-sdk>=1.2.0 in /Users/carstenschnober/Documents/SemanticsOfSustainability/workspace/tempo-embeddings/.venv/lib/python3.11/site-packages (from chromadb~=0.4.22->tempo_embeddings==0.0.1) (1.22.0)\n",
      "Requirement already satisfied: tokenizers>=0.13.2 in /Users/carstenschnober/Documents/SemanticsOfSustainability/workspace/tempo-embeddings/.venv/lib/python3.11/site-packages (from chromadb~=0.4.22->tempo_embeddings==0.0.1) (0.15.2)\n",
      "Requirement already satisfied: pypika>=0.48.9 in /Users/carstenschnober/Documents/SemanticsOfSustainability/workspace/tempo-embeddings/.venv/lib/python3.11/site-packages (from chromadb~=0.4.22->tempo_embeddings==0.0.1) (0.48.9)\n",
      "Requirement already satisfied: tqdm>=4.65.0 in /Users/carstenschnober/Documents/SemanticsOfSustainability/workspace/tempo-embeddings/.venv/lib/python3.11/site-packages (from chromadb~=0.4.22->tempo_embeddings==0.0.1) (4.66.5)\n",
      "Requirement already satisfied: overrides>=7.3.1 in /Users/carstenschnober/Documents/SemanticsOfSustainability/workspace/tempo-embeddings/.venv/lib/python3.11/site-packages (from chromadb~=0.4.22->tempo_embeddings==0.0.1) (7.7.0)\n",
      "Requirement already satisfied: importlib-resources in /Users/carstenschnober/Documents/SemanticsOfSustainability/workspace/tempo-embeddings/.venv/lib/python3.11/site-packages (from chromadb~=0.4.22->tempo_embeddings==0.0.1) (6.1.1)\n",
      "Requirement already satisfied: grpcio>=1.58.0 in /Users/carstenschnober/Documents/SemanticsOfSustainability/workspace/tempo-embeddings/.venv/lib/python3.11/site-packages (from chromadb~=0.4.22->tempo_embeddings==0.0.1) (1.64.1)\n",
      "Requirement already satisfied: bcrypt>=4.0.1 in /Users/carstenschnober/Documents/SemanticsOfSustainability/workspace/tempo-embeddings/.venv/lib/python3.11/site-packages (from chromadb~=0.4.22->tempo_embeddings==0.0.1) (4.1.2)\n",
      "Requirement already satisfied: typer>=0.9.0 in /Users/carstenschnober/Documents/SemanticsOfSustainability/workspace/tempo-embeddings/.venv/lib/python3.11/site-packages (from chromadb~=0.4.22->tempo_embeddings==0.0.1) (0.9.0)\n",
      "Requirement already satisfied: kubernetes>=28.1.0 in /Users/carstenschnober/Documents/SemanticsOfSustainability/workspace/tempo-embeddings/.venv/lib/python3.11/site-packages (from chromadb~=0.4.22->tempo_embeddings==0.0.1) (29.0.0)\n",
      "Requirement already satisfied: tenacity>=8.2.3 in /Users/carstenschnober/Documents/SemanticsOfSustainability/workspace/tempo-embeddings/.venv/lib/python3.11/site-packages (from chromadb~=0.4.22->tempo_embeddings==0.0.1) (8.2.3)\n",
      "Requirement already satisfied: mmh3>=4.0.1 in /Users/carstenschnober/Documents/SemanticsOfSustainability/workspace/tempo-embeddings/.venv/lib/python3.11/site-packages (from chromadb~=0.4.22->tempo_embeddings==0.0.1) (4.1.0)\n",
      "Requirement already satisfied: Flask<2.3.0,>=1.0.4 in /Users/carstenschnober/Documents/SemanticsOfSustainability/workspace/tempo-embeddings/.venv/lib/python3.11/site-packages (from dash~=2.11.1->tempo_embeddings==0.0.1) (2.2.5)\n",
      "Requirement already satisfied: Werkzeug<2.3.0 in /Users/carstenschnober/Documents/SemanticsOfSustainability/workspace/tempo-embeddings/.venv/lib/python3.11/site-packages (from dash~=2.11.1->tempo_embeddings==0.0.1) (2.2.3)\n",
      "Requirement already satisfied: plotly>=5.0.0 in /Users/carstenschnober/Documents/SemanticsOfSustainability/workspace/tempo-embeddings/.venv/lib/python3.11/site-packages (from dash~=2.11.1->tempo_embeddings==0.0.1) (5.15.0)\n",
      "Requirement already satisfied: dash-html-components==2.0.0 in /Users/carstenschnober/Documents/SemanticsOfSustainability/workspace/tempo-embeddings/.venv/lib/python3.11/site-packages (from dash~=2.11.1->tempo_embeddings==0.0.1) (2.0.0)\n",
      "Requirement already satisfied: dash-core-components==2.0.0 in /Users/carstenschnober/Documents/SemanticsOfSustainability/workspace/tempo-embeddings/.venv/lib/python3.11/site-packages (from dash~=2.11.1->tempo_embeddings==0.0.1) (2.0.0)\n",
      "Requirement already satisfied: dash-table==5.0.0 in /Users/carstenschnober/Documents/SemanticsOfSustainability/workspace/tempo-embeddings/.venv/lib/python3.11/site-packages (from dash~=2.11.1->tempo_embeddings==0.0.1) (5.0.0)\n",
      "Requirement already satisfied: retrying in /Users/carstenschnober/Documents/SemanticsOfSustainability/workspace/tempo-embeddings/.venv/lib/python3.11/site-packages (from dash~=2.11.1->tempo_embeddings==0.0.1) (1.3.4)\n",
      "Requirement already satisfied: ansi2html in /Users/carstenschnober/Documents/SemanticsOfSustainability/workspace/tempo-embeddings/.venv/lib/python3.11/site-packages (from dash~=2.11.1->tempo_embeddings==0.0.1) (1.8.0)\n",
      "Requirement already satisfied: nest-asyncio in /Users/carstenschnober/Documents/SemanticsOfSustainability/workspace/tempo-embeddings/.venv/lib/python3.11/site-packages (from dash~=2.11.1->tempo_embeddings==0.0.1) (1.5.6)\n",
      "Requirement already satisfied: cycler>=0.10 in /Users/carstenschnober/Documents/SemanticsOfSustainability/workspace/tempo-embeddings/.venv/lib/python3.11/site-packages (from matplotlib~=3.7.2->tempo_embeddings==0.0.1) (0.11.0)\n",
      "Requirement already satisfied: fonttools>=4.22.0 in /Users/carstenschnober/Documents/SemanticsOfSustainability/workspace/tempo-embeddings/.venv/lib/python3.11/site-packages (from matplotlib~=3.7.2->tempo_embeddings==0.0.1) (4.41.0)\n",
      "Requirement already satisfied: kiwisolver>=1.0.1 in /Users/carstenschnober/Documents/SemanticsOfSustainability/workspace/tempo-embeddings/.venv/lib/python3.11/site-packages (from matplotlib~=3.7.2->tempo_embeddings==0.0.1) (1.4.4)\n",
      "Requirement already satisfied: pyparsing>=2.3.1 in /Users/carstenschnober/Documents/SemanticsOfSustainability/workspace/tempo-embeddings/.venv/lib/python3.11/site-packages (from matplotlib~=3.7.2->tempo_embeddings==0.0.1) (3.0.9)\n",
      "Requirement already satisfied: python-dateutil>=2.7 in /Users/carstenschnober/Documents/SemanticsOfSustainability/workspace/tempo-embeddings/.venv/lib/python3.11/site-packages (from matplotlib~=3.7.2->tempo_embeddings==0.0.1) (2.8.2)\n",
      "Requirement already satisfied: pytz>=2020.1 in /Users/carstenschnober/Documents/SemanticsOfSustainability/workspace/tempo-embeddings/.venv/lib/python3.11/site-packages (from pandas->tempo_embeddings==0.0.1) (2023.3)\n",
      "Requirement already satisfied: tzdata>=2022.1 in /Users/carstenschnober/Documents/SemanticsOfSustainability/workspace/tempo-embeddings/.venv/lib/python3.11/site-packages (from pandas->tempo_embeddings==0.0.1) (2023.3)\n",
      "Requirement already satisfied: annotated-types>=0.4.0 in /Users/carstenschnober/Documents/SemanticsOfSustainability/workspace/tempo-embeddings/.venv/lib/python3.11/site-packages (from pydantic~=2.8.2->tempo_embeddings==0.0.1) (0.6.0)\n",
      "Requirement already satisfied: pydantic-core==2.20.1 in /Users/carstenschnober/Documents/SemanticsOfSustainability/workspace/tempo-embeddings/.venv/lib/python3.11/site-packages (from pydantic~=2.8.2->tempo_embeddings==0.0.1) (2.20.1)\n",
      "Requirement already satisfied: regex in /Users/carstenschnober/Documents/SemanticsOfSustainability/workspace/tempo-embeddings/.venv/lib/python3.11/site-packages (from sacremoses~=0.0.53->tempo_embeddings==0.0.1) (2023.6.3)\n",
      "Requirement already satisfied: six in /Users/carstenschnober/Documents/SemanticsOfSustainability/workspace/tempo-embeddings/.venv/lib/python3.11/site-packages (from sacremoses~=0.0.53->tempo_embeddings==0.0.1) (1.16.0)\n",
      "Requirement already satisfied: click in /Users/carstenschnober/Documents/SemanticsOfSustainability/workspace/tempo-embeddings/.venv/lib/python3.11/site-packages (from sacremoses~=0.0.53->tempo_embeddings==0.0.1) (8.1.6)\n",
      "Requirement already satisfied: joblib in /Users/carstenschnober/Documents/SemanticsOfSustainability/workspace/tempo-embeddings/.venv/lib/python3.11/site-packages (from sacremoses~=0.0.53->tempo_embeddings==0.0.1) (1.3.1)\n",
      "Requirement already satisfied: scipy>=1.5.0 in /Users/carstenschnober/Documents/SemanticsOfSustainability/workspace/tempo-embeddings/.venv/lib/python3.11/site-packages (from scikit-learn~=1.3.0->tempo_embeddings==0.0.1) (1.11.1)\n",
      "Requirement already satisfied: threadpoolctl>=2.0.0 in /Users/carstenschnober/Documents/SemanticsOfSustainability/workspace/tempo-embeddings/.venv/lib/python3.11/site-packages (from scikit-learn~=1.3.0->tempo_embeddings==0.0.1) (3.2.0)\n",
      "Requirement already satisfied: emoji in /Users/carstenschnober/Documents/SemanticsOfSustainability/workspace/tempo-embeddings/.venv/lib/python3.11/site-packages (from stanza~=1.7.0->tempo_embeddings==0.0.1) (2.12.1)\n",
      "Requirement already satisfied: protobuf>=3.15.0 in /Users/carstenschnober/Documents/SemanticsOfSustainability/workspace/tempo-embeddings/.venv/lib/python3.11/site-packages (from stanza~=1.7.0->tempo_embeddings==0.0.1) (5.27.1)\n",
      "Requirement already satisfied: networkx in /Users/carstenschnober/Documents/SemanticsOfSustainability/workspace/tempo-embeddings/.venv/lib/python3.11/site-packages (from stanza~=1.7.0->tempo_embeddings==0.0.1) (3.1)\n",
      "Requirement already satisfied: toml in /Users/carstenschnober/Documents/SemanticsOfSustainability/workspace/tempo-embeddings/.venv/lib/python3.11/site-packages (from stanza~=1.7.0->tempo_embeddings==0.0.1) (0.10.2)\n",
      "Requirement already satisfied: filelock in /Users/carstenschnober/Documents/SemanticsOfSustainability/workspace/tempo-embeddings/.venv/lib/python3.11/site-packages (from torch~=2.4.0->tempo_embeddings==0.0.1) (3.12.2)\n",
      "Requirement already satisfied: sympy in /Users/carstenschnober/Documents/SemanticsOfSustainability/workspace/tempo-embeddings/.venv/lib/python3.11/site-packages (from torch~=2.4.0->tempo_embeddings==0.0.1) (1.12)\n",
      "Requirement already satisfied: fsspec in /Users/carstenschnober/Documents/SemanticsOfSustainability/workspace/tempo-embeddings/.venv/lib/python3.11/site-packages (from torch~=2.4.0->tempo_embeddings==0.0.1) (2023.6.0)\n",
      "Requirement already satisfied: huggingface-hub<1.0,>=0.19.3 in /Users/carstenschnober/Documents/SemanticsOfSustainability/workspace/tempo-embeddings/.venv/lib/python3.11/site-packages (from transformers~=4.39.0->tempo_embeddings==0.0.1) (0.24.5)\n",
      "Requirement already satisfied: safetensors>=0.4.1 in /Users/carstenschnober/Documents/SemanticsOfSustainability/workspace/tempo-embeddings/.venv/lib/python3.11/site-packages (from transformers~=4.39.0->tempo_embeddings==0.0.1) (0.4.4)\n",
      "Requirement already satisfied: numba>=0.51.2 in /Users/carstenschnober/Documents/SemanticsOfSustainability/workspace/tempo-embeddings/.venv/lib/python3.11/site-packages (from umap-learn~=0.5.4->tempo_embeddings==0.0.1) (0.57.1)\n",
      "Requirement already satisfied: pynndescent>=0.5 in /Users/carstenschnober/Documents/SemanticsOfSustainability/workspace/tempo-embeddings/.venv/lib/python3.11/site-packages (from umap-learn~=0.5.4->tempo_embeddings==0.0.1) (0.5.10)\n",
      "Requirement already satisfied: httpx<=0.27.0,>=0.25.0 in /Users/carstenschnober/Documents/SemanticsOfSustainability/workspace/tempo-embeddings/.venv/lib/python3.11/site-packages (from weaviate-client~=4.6.5->tempo_embeddings==0.0.1) (0.27.0)\n",
      "Requirement already satisfied: validators==0.33.0 in /Users/carstenschnober/Documents/SemanticsOfSustainability/workspace/tempo-embeddings/.venv/lib/python3.11/site-packages (from weaviate-client~=4.6.5->tempo_embeddings==0.0.1) (0.33.0)\n",
      "Requirement already satisfied: authlib<2.0.0,>=1.2.1 in /Users/carstenschnober/Documents/SemanticsOfSustainability/workspace/tempo-embeddings/.venv/lib/python3.11/site-packages (from weaviate-client~=4.6.5->tempo_embeddings==0.0.1) (1.3.1)\n",
      "Requirement already satisfied: grpcio-tools<2.0.0,>=1.57.0 in /Users/carstenschnober/Documents/SemanticsOfSustainability/workspace/tempo-embeddings/.venv/lib/python3.11/site-packages (from weaviate-client~=4.6.5->tempo_embeddings==0.0.1) (1.64.1)\n",
      "Requirement already satisfied: grpcio-health-checking<2.0.0,>=1.57.0 in /Users/carstenschnober/Documents/SemanticsOfSustainability/workspace/tempo-embeddings/.venv/lib/python3.11/site-packages (from weaviate-client~=4.6.5->tempo_embeddings==0.0.1) (1.64.1)\n",
      "Requirement already satisfied: ipython in /Users/carstenschnober/Documents/SemanticsOfSustainability/workspace/tempo-embeddings/.venv/lib/python3.11/site-packages (from wizmap~=0.1.2->tempo_embeddings==0.0.1) (8.14.0)\n",
      "Requirement already satisfied: quadtreed3 in /Users/carstenschnober/Documents/SemanticsOfSustainability/workspace/tempo-embeddings/.venv/lib/python3.11/site-packages (from wizmap~=0.1.2->tempo_embeddings==0.0.1) (0.1.1)\n",
      "Requirement already satisfied: ndjson in /Users/carstenschnober/Documents/SemanticsOfSustainability/workspace/tempo-embeddings/.venv/lib/python3.11/site-packages (from wizmap~=0.1.2->tempo_embeddings==0.0.1) (0.3.1)\n",
      "Requirement already satisfied: skops in /Users/carstenschnober/Documents/SemanticsOfSustainability/workspace/tempo-embeddings/.venv/lib/python3.11/site-packages (from wtpsplit~=2.0.5->tempo_embeddings==0.0.1) (0.10.0)\n",
      "Requirement already satisfied: cached-property in /Users/carstenschnober/Documents/SemanticsOfSustainability/workspace/tempo-embeddings/.venv/lib/python3.11/site-packages (from wtpsplit~=2.0.5->tempo_embeddings==0.0.1) (1.5.2)\n",
      "Requirement already satisfied: mosestokenizer in /Users/carstenschnober/Documents/SemanticsOfSustainability/workspace/tempo-embeddings/.venv/lib/python3.11/site-packages (from wtpsplit~=2.0.5->tempo_embeddings==0.0.1) (1.2.1)\n",
      "Requirement already satisfied: adapters==0.2.1 in /Users/carstenschnober/Documents/SemanticsOfSustainability/workspace/tempo-embeddings/.venv/lib/python3.11/site-packages (from wtpsplit~=2.0.5->tempo_embeddings==0.0.1) (0.2.1)\n",
      "Requirement already satisfied: colorcet in /Users/carstenschnober/Documents/SemanticsOfSustainability/workspace/tempo-embeddings/.venv/lib/python3.11/site-packages (from datashader->tempo_embeddings==0.0.1) (3.0.1)\n",
      "Requirement already satisfied: dask in /Users/carstenschnober/Documents/SemanticsOfSustainability/workspace/tempo-embeddings/.venv/lib/python3.11/site-packages (from datashader->tempo_embeddings==0.0.1) (2023.7.1)\n",
      "Requirement already satisfied: multipledispatch in /Users/carstenschnober/Documents/SemanticsOfSustainability/workspace/tempo-embeddings/.venv/lib/python3.11/site-packages (from datashader->tempo_embeddings==0.0.1) (1.0.0)\n",
      "Requirement already satisfied: param in /Users/carstenschnober/Documents/SemanticsOfSustainability/workspace/tempo-embeddings/.venv/lib/python3.11/site-packages (from datashader->tempo_embeddings==0.0.1) (2.0.1)\n",
      "Requirement already satisfied: pyct in /Users/carstenschnober/Documents/SemanticsOfSustainability/workspace/tempo-embeddings/.venv/lib/python3.11/site-packages (from datashader->tempo_embeddings==0.0.1) (0.5.0)\n",
      "Requirement already satisfied: toolz in /Users/carstenschnober/Documents/SemanticsOfSustainability/workspace/tempo-embeddings/.venv/lib/python3.11/site-packages (from datashader->tempo_embeddings==0.0.1) (0.12.0)\n",
      "Requirement already satisfied: xarray in /Users/carstenschnober/Documents/SemanticsOfSustainability/workspace/tempo-embeddings/.venv/lib/python3.11/site-packages (from datashader->tempo_embeddings==0.0.1) (2023.7.0)\n",
      "Requirement already satisfied: pyviz-comms>=0.7.4 in /Users/carstenschnober/Documents/SemanticsOfSustainability/workspace/tempo-embeddings/.venv/lib/python3.11/site-packages (from holoviews->tempo_embeddings==0.0.1) (2.3.2)\n",
      "Requirement already satisfied: panel>=0.13.1 in /Users/carstenschnober/Documents/SemanticsOfSustainability/workspace/tempo-embeddings/.venv/lib/python3.11/site-packages (from holoviews->tempo_embeddings==0.0.1) (1.3.4)\n",
      "Requirement already satisfied: cryptography in /Users/carstenschnober/Documents/SemanticsOfSustainability/workspace/tempo-embeddings/.venv/lib/python3.11/site-packages (from authlib<2.0.0,>=1.2.1->weaviate-client~=4.6.5->tempo_embeddings==0.0.1) (42.0.8)\n",
      "Requirement already satisfied: pyproject_hooks in /Users/carstenschnober/Documents/SemanticsOfSustainability/workspace/tempo-embeddings/.venv/lib/python3.11/site-packages (from build>=1.0.3->chromadb~=0.4.22->tempo_embeddings==0.0.1) (1.0.0)\n",
      "Requirement already satisfied: starlette<0.37.0,>=0.36.3 in /Users/carstenschnober/Documents/SemanticsOfSustainability/workspace/tempo-embeddings/.venv/lib/python3.11/site-packages (from fastapi>=0.95.2->chromadb~=0.4.22->tempo_embeddings==0.0.1) (0.36.3)\n",
      "Requirement already satisfied: itsdangerous>=2.0 in /Users/carstenschnober/Documents/SemanticsOfSustainability/workspace/tempo-embeddings/.venv/lib/python3.11/site-packages (from Flask<2.3.0,>=1.0.4->dash~=2.11.1->tempo_embeddings==0.0.1) (2.1.2)\n",
      "Requirement already satisfied: setuptools in /Users/carstenschnober/Documents/SemanticsOfSustainability/workspace/tempo-embeddings/.venv/lib/python3.11/site-packages (from grpcio-tools<2.0.0,>=1.57.0->weaviate-client~=4.6.5->tempo_embeddings==0.0.1) (72.1.0)\n",
      "Requirement already satisfied: anyio in /Users/carstenschnober/Documents/SemanticsOfSustainability/workspace/tempo-embeddings/.venv/lib/python3.11/site-packages (from httpx<=0.27.0,>=0.25.0->weaviate-client~=4.6.5->tempo_embeddings==0.0.1) (4.2.0)\n",
      "Requirement already satisfied: certifi in /Users/carstenschnober/Documents/SemanticsOfSustainability/workspace/tempo-embeddings/.venv/lib/python3.11/site-packages (from httpx<=0.27.0,>=0.25.0->weaviate-client~=4.6.5->tempo_embeddings==0.0.1) (2023.5.7)\n",
      "Requirement already satisfied: httpcore==1.* in /Users/carstenschnober/Documents/SemanticsOfSustainability/workspace/tempo-embeddings/.venv/lib/python3.11/site-packages (from httpx<=0.27.0,>=0.25.0->weaviate-client~=4.6.5->tempo_embeddings==0.0.1) (1.0.5)\n",
      "Requirement already satisfied: idna in /Users/carstenschnober/Documents/SemanticsOfSustainability/workspace/tempo-embeddings/.venv/lib/python3.11/site-packages (from httpx<=0.27.0,>=0.25.0->weaviate-client~=4.6.5->tempo_embeddings==0.0.1) (3.4)\n",
      "Requirement already satisfied: sniffio in /Users/carstenschnober/Documents/SemanticsOfSustainability/workspace/tempo-embeddings/.venv/lib/python3.11/site-packages (from httpx<=0.27.0,>=0.25.0->weaviate-client~=4.6.5->tempo_embeddings==0.0.1) (1.3.0)\n",
      "Requirement already satisfied: h11<0.15,>=0.13 in /Users/carstenschnober/Documents/SemanticsOfSustainability/workspace/tempo-embeddings/.venv/lib/python3.11/site-packages (from httpcore==1.*->httpx<=0.27.0,>=0.25.0->weaviate-client~=4.6.5->tempo_embeddings==0.0.1) (0.14.0)\n",
      "Requirement already satisfied: MarkupSafe>=2.0 in /Users/carstenschnober/Documents/SemanticsOfSustainability/workspace/tempo-embeddings/.venv/lib/python3.11/site-packages (from Jinja2>=2.9->bokeh~=3.3.2->tempo_embeddings==0.0.1) (2.1.3)\n",
      "Requirement already satisfied: google-auth>=1.0.1 in /Users/carstenschnober/Documents/SemanticsOfSustainability/workspace/tempo-embeddings/.venv/lib/python3.11/site-packages (from kubernetes>=28.1.0->chromadb~=0.4.22->tempo_embeddings==0.0.1) (2.28.0)\n",
      "Requirement already satisfied: websocket-client!=0.40.0,!=0.41.*,!=0.42.*,>=0.32.0 in /Users/carstenschnober/Documents/SemanticsOfSustainability/workspace/tempo-embeddings/.venv/lib/python3.11/site-packages (from kubernetes>=28.1.0->chromadb~=0.4.22->tempo_embeddings==0.0.1) (1.7.0)\n",
      "Requirement already satisfied: requests-oauthlib in /Users/carstenschnober/Documents/SemanticsOfSustainability/workspace/tempo-embeddings/.venv/lib/python3.11/site-packages (from kubernetes>=28.1.0->chromadb~=0.4.22->tempo_embeddings==0.0.1) (1.3.1)\n",
      "Requirement already satisfied: oauthlib>=3.2.2 in /Users/carstenschnober/Documents/SemanticsOfSustainability/workspace/tempo-embeddings/.venv/lib/python3.11/site-packages (from kubernetes>=28.1.0->chromadb~=0.4.22->tempo_embeddings==0.0.1) (3.2.2)\n",
      "Requirement already satisfied: urllib3>=1.24.2 in /Users/carstenschnober/Documents/SemanticsOfSustainability/workspace/tempo-embeddings/.venv/lib/python3.11/site-packages (from kubernetes>=28.1.0->chromadb~=0.4.22->tempo_embeddings==0.0.1) (2.0.3)\n",
      "Requirement already satisfied: llvmlite<0.41,>=0.40.0dev0 in /Users/carstenschnober/Documents/SemanticsOfSustainability/workspace/tempo-embeddings/.venv/lib/python3.11/site-packages (from numba>=0.51.2->umap-learn~=0.5.4->tempo_embeddings==0.0.1) (0.40.1)\n",
      "Requirement already satisfied: coloredlogs in /Users/carstenschnober/Documents/SemanticsOfSustainability/workspace/tempo-embeddings/.venv/lib/python3.11/site-packages (from onnxruntime>=1.14.1->chromadb~=0.4.22->tempo_embeddings==0.0.1) (15.0.1)\n",
      "Requirement already satisfied: flatbuffers in /Users/carstenschnober/Documents/SemanticsOfSustainability/workspace/tempo-embeddings/.venv/lib/python3.11/site-packages (from onnxruntime>=1.14.1->chromadb~=0.4.22->tempo_embeddings==0.0.1) (23.5.26)\n",
      "Requirement already satisfied: deprecated>=1.2.6 in /Users/carstenschnober/Documents/SemanticsOfSustainability/workspace/tempo-embeddings/.venv/lib/python3.11/site-packages (from opentelemetry-api>=1.2.0->chromadb~=0.4.22->tempo_embeddings==0.0.1) (1.2.14)\n",
      "Requirement already satisfied: importlib-metadata<7.0,>=6.0 in /Users/carstenschnober/Documents/SemanticsOfSustainability/workspace/tempo-embeddings/.venv/lib/python3.11/site-packages (from opentelemetry-api>=1.2.0->chromadb~=0.4.22->tempo_embeddings==0.0.1) (6.8.0)\n",
      "Requirement already satisfied: googleapis-common-protos~=1.52 in /Users/carstenschnober/Documents/SemanticsOfSustainability/workspace/tempo-embeddings/.venv/lib/python3.11/site-packages (from opentelemetry-exporter-otlp-proto-grpc>=1.2.0->chromadb~=0.4.22->tempo_embeddings==0.0.1) (1.63.1)\n",
      "Requirement already satisfied: opentelemetry-proto==1.11.1 in /Users/carstenschnober/Documents/SemanticsOfSustainability/workspace/tempo-embeddings/.venv/lib/python3.11/site-packages (from opentelemetry-exporter-otlp-proto-grpc>=1.2.0->chromadb~=0.4.22->tempo_embeddings==0.0.1) (1.11.1)\n",
      "Requirement already satisfied: backoff<2.0.0,>=1.10.0 in /Users/carstenschnober/Documents/SemanticsOfSustainability/workspace/tempo-embeddings/.venv/lib/python3.11/site-packages (from opentelemetry-exporter-otlp-proto-grpc>=1.2.0->chromadb~=0.4.22->tempo_embeddings==0.0.1) (1.11.1)\n",
      "Requirement already satisfied: opentelemetry-instrumentation-asgi==0.43b0 in /Users/carstenschnober/Documents/SemanticsOfSustainability/workspace/tempo-embeddings/.venv/lib/python3.11/site-packages (from opentelemetry-instrumentation-fastapi>=0.41b0->chromadb~=0.4.22->tempo_embeddings==0.0.1) (0.43b0)\n",
      "Requirement already satisfied: opentelemetry-instrumentation==0.43b0 in /Users/carstenschnober/Documents/SemanticsOfSustainability/workspace/tempo-embeddings/.venv/lib/python3.11/site-packages (from opentelemetry-instrumentation-fastapi>=0.41b0->chromadb~=0.4.22->tempo_embeddings==0.0.1) (0.43b0)\n",
      "Requirement already satisfied: opentelemetry-semantic-conventions==0.43b0 in /Users/carstenschnober/Documents/SemanticsOfSustainability/workspace/tempo-embeddings/.venv/lib/python3.11/site-packages (from opentelemetry-instrumentation-fastapi>=0.41b0->chromadb~=0.4.22->tempo_embeddings==0.0.1) (0.43b0)\n",
      "Requirement already satisfied: opentelemetry-util-http==0.43b0 in /Users/carstenschnober/Documents/SemanticsOfSustainability/workspace/tempo-embeddings/.venv/lib/python3.11/site-packages (from opentelemetry-instrumentation-fastapi>=0.41b0->chromadb~=0.4.22->tempo_embeddings==0.0.1) (0.43b0)\n",
      "Requirement already satisfied: wrapt<2.0.0,>=1.0.0 in /Users/carstenschnober/Documents/SemanticsOfSustainability/workspace/tempo-embeddings/.venv/lib/python3.11/site-packages (from opentelemetry-instrumentation==0.43b0->opentelemetry-instrumentation-fastapi>=0.41b0->chromadb~=0.4.22->tempo_embeddings==0.0.1) (1.15.0)\n",
      "Requirement already satisfied: asgiref~=3.0 in /Users/carstenschnober/Documents/SemanticsOfSustainability/workspace/tempo-embeddings/.venv/lib/python3.11/site-packages (from opentelemetry-instrumentation-asgi==0.43b0->opentelemetry-instrumentation-fastapi>=0.41b0->chromadb~=0.4.22->tempo_embeddings==0.0.1) (3.7.2)\n",
      "Requirement already satisfied: markdown in /Users/carstenschnober/Documents/SemanticsOfSustainability/workspace/tempo-embeddings/.venv/lib/python3.11/site-packages (from panel>=0.13.1->holoviews->tempo_embeddings==0.0.1) (3.4.4)\n",
      "Requirement already satisfied: markdown-it-py in /Users/carstenschnober/Documents/SemanticsOfSustainability/workspace/tempo-embeddings/.venv/lib/python3.11/site-packages (from panel>=0.13.1->holoviews->tempo_embeddings==0.0.1) (3.0.0)\n",
      "Requirement already satisfied: linkify-it-py in /Users/carstenschnober/Documents/SemanticsOfSustainability/workspace/tempo-embeddings/.venv/lib/python3.11/site-packages (from panel>=0.13.1->holoviews->tempo_embeddings==0.0.1) (2.0.2)\n",
      "Requirement already satisfied: mdit-py-plugins in /Users/carstenschnober/Documents/SemanticsOfSustainability/workspace/tempo-embeddings/.venv/lib/python3.11/site-packages (from panel>=0.13.1->holoviews->tempo_embeddings==0.0.1) (0.4.0)\n",
      "Requirement already satisfied: bleach in /Users/carstenschnober/Documents/SemanticsOfSustainability/workspace/tempo-embeddings/.venv/lib/python3.11/site-packages (from panel>=0.13.1->holoviews->tempo_embeddings==0.0.1) (6.0.0)\n",
      "Requirement already satisfied: monotonic>=1.5 in /Users/carstenschnober/Documents/SemanticsOfSustainability/workspace/tempo-embeddings/.venv/lib/python3.11/site-packages (from posthog>=2.4.0->chromadb~=0.4.22->tempo_embeddings==0.0.1) (1.6)\n",
      "Requirement already satisfied: charset-normalizer<4,>=2 in /Users/carstenschnober/Documents/SemanticsOfSustainability/workspace/tempo-embeddings/.venv/lib/python3.11/site-packages (from requests>=2.28->chromadb~=0.4.22->tempo_embeddings==0.0.1) (3.2.0)\n",
      "Requirement already satisfied: httptools>=0.5.0 in /Users/carstenschnober/Documents/SemanticsOfSustainability/workspace/tempo-embeddings/.venv/lib/python3.11/site-packages (from uvicorn[standard]>=0.18.3->chromadb~=0.4.22->tempo_embeddings==0.0.1) (0.6.1)\n",
      "Requirement already satisfied: python-dotenv>=0.13 in /Users/carstenschnober/Documents/SemanticsOfSustainability/workspace/tempo-embeddings/.venv/lib/python3.11/site-packages (from uvicorn[standard]>=0.18.3->chromadb~=0.4.22->tempo_embeddings==0.0.1) (1.0.1)\n",
      "Requirement already satisfied: uvloop!=0.15.0,!=0.15.1,>=0.14.0 in /Users/carstenschnober/Documents/SemanticsOfSustainability/workspace/tempo-embeddings/.venv/lib/python3.11/site-packages (from uvicorn[standard]>=0.18.3->chromadb~=0.4.22->tempo_embeddings==0.0.1) (0.19.0)\n",
      "Requirement already satisfied: watchfiles>=0.13 in /Users/carstenschnober/Documents/SemanticsOfSustainability/workspace/tempo-embeddings/.venv/lib/python3.11/site-packages (from uvicorn[standard]>=0.18.3->chromadb~=0.4.22->tempo_embeddings==0.0.1) (0.21.0)\n",
      "Requirement already satisfied: websockets>=10.4 in /Users/carstenschnober/Documents/SemanticsOfSustainability/workspace/tempo-embeddings/.venv/lib/python3.11/site-packages (from uvicorn[standard]>=0.18.3->chromadb~=0.4.22->tempo_embeddings==0.0.1) (12.0)\n",
      "Requirement already satisfied: cloudpickle>=1.5.0 in /Users/carstenschnober/Documents/SemanticsOfSustainability/workspace/tempo-embeddings/.venv/lib/python3.11/site-packages (from dask->datashader->tempo_embeddings==0.0.1) (2.2.1)\n",
      "Requirement already satisfied: partd>=1.2.0 in /Users/carstenschnober/Documents/SemanticsOfSustainability/workspace/tempo-embeddings/.venv/lib/python3.11/site-packages (from dask->datashader->tempo_embeddings==0.0.1) (1.4.0)\n",
      "Requirement already satisfied: backcall in /Users/carstenschnober/Documents/SemanticsOfSustainability/workspace/tempo-embeddings/.venv/lib/python3.11/site-packages (from ipython->wizmap~=0.1.2->tempo_embeddings==0.0.1) (0.2.0)\n",
      "Requirement already satisfied: decorator in /Users/carstenschnober/Documents/SemanticsOfSustainability/workspace/tempo-embeddings/.venv/lib/python3.11/site-packages (from ipython->wizmap~=0.1.2->tempo_embeddings==0.0.1) (5.1.1)\n",
      "Requirement already satisfied: jedi>=0.16 in /Users/carstenschnober/Documents/SemanticsOfSustainability/workspace/tempo-embeddings/.venv/lib/python3.11/site-packages (from ipython->wizmap~=0.1.2->tempo_embeddings==0.0.1) (0.18.2)\n",
      "Requirement already satisfied: matplotlib-inline in /Users/carstenschnober/Documents/SemanticsOfSustainability/workspace/tempo-embeddings/.venv/lib/python3.11/site-packages (from ipython->wizmap~=0.1.2->tempo_embeddings==0.0.1) (0.1.6)\n",
      "Requirement already satisfied: pickleshare in /Users/carstenschnober/Documents/SemanticsOfSustainability/workspace/tempo-embeddings/.venv/lib/python3.11/site-packages (from ipython->wizmap~=0.1.2->tempo_embeddings==0.0.1) (0.7.5)\n",
      "Requirement already satisfied: prompt-toolkit!=3.0.37,<3.1.0,>=3.0.30 in /Users/carstenschnober/Documents/SemanticsOfSustainability/workspace/tempo-embeddings/.venv/lib/python3.11/site-packages (from ipython->wizmap~=0.1.2->tempo_embeddings==0.0.1) (3.0.36)\n",
      "Requirement already satisfied: pygments>=2.4.0 in /Users/carstenschnober/Documents/SemanticsOfSustainability/workspace/tempo-embeddings/.venv/lib/python3.11/site-packages (from ipython->wizmap~=0.1.2->tempo_embeddings==0.0.1) (2.15.1)\n",
      "Requirement already satisfied: stack-data in /Users/carstenschnober/Documents/SemanticsOfSustainability/workspace/tempo-embeddings/.venv/lib/python3.11/site-packages (from ipython->wizmap~=0.1.2->tempo_embeddings==0.0.1) (0.6.2)\n",
      "Requirement already satisfied: traitlets>=5 in /Users/carstenschnober/Documents/SemanticsOfSustainability/workspace/tempo-embeddings/.venv/lib/python3.11/site-packages (from ipython->wizmap~=0.1.2->tempo_embeddings==0.0.1) (5.9.0)\n",
      "Requirement already satisfied: pexpect>4.3 in /Users/carstenschnober/Documents/SemanticsOfSustainability/workspace/tempo-embeddings/.venv/lib/python3.11/site-packages (from ipython->wizmap~=0.1.2->tempo_embeddings==0.0.1) (4.8.0)\n",
      "Requirement already satisfied: appnope in /Users/carstenschnober/Documents/SemanticsOfSustainability/workspace/tempo-embeddings/.venv/lib/python3.11/site-packages (from ipython->wizmap~=0.1.2->tempo_embeddings==0.0.1) (0.1.3)\n",
      "Requirement already satisfied: docopt in /Users/carstenschnober/Documents/SemanticsOfSustainability/workspace/tempo-embeddings/.venv/lib/python3.11/site-packages (from mosestokenizer->wtpsplit~=2.0.5->tempo_embeddings==0.0.1) (0.6.2)\n",
      "Requirement already satisfied: openfile in /Users/carstenschnober/Documents/SemanticsOfSustainability/workspace/tempo-embeddings/.venv/lib/python3.11/site-packages (from mosestokenizer->wtpsplit~=2.0.5->tempo_embeddings==0.0.1) (0.0.7)\n",
      "Requirement already satisfied: uctools in /Users/carstenschnober/Documents/SemanticsOfSustainability/workspace/tempo-embeddings/.venv/lib/python3.11/site-packages (from mosestokenizer->wtpsplit~=2.0.5->tempo_embeddings==0.0.1) (1.3.0)\n",
      "Requirement already satisfied: toolwrapper in /Users/carstenschnober/Documents/SemanticsOfSustainability/workspace/tempo-embeddings/.venv/lib/python3.11/site-packages (from mosestokenizer->wtpsplit~=2.0.5->tempo_embeddings==0.0.1) (2.1.0)\n",
      "Requirement already satisfied: tabulate>=0.8.8 in /Users/carstenschnober/Documents/SemanticsOfSustainability/workspace/tempo-embeddings/.venv/lib/python3.11/site-packages (from skops->wtpsplit~=2.0.5->tempo_embeddings==0.0.1) (0.9.0)\n",
      "Requirement already satisfied: mpmath>=0.19 in /Users/carstenschnober/Documents/SemanticsOfSustainability/workspace/tempo-embeddings/.venv/lib/python3.11/site-packages (from sympy->torch~=2.4.0->tempo_embeddings==0.0.1) (1.3.0)\n",
      "Requirement already satisfied: cachetools<6.0,>=2.0.0 in /Users/carstenschnober/Documents/SemanticsOfSustainability/workspace/tempo-embeddings/.venv/lib/python3.11/site-packages (from google-auth>=1.0.1->kubernetes>=28.1.0->chromadb~=0.4.22->tempo_embeddings==0.0.1) (5.3.1)\n",
      "Requirement already satisfied: pyasn1-modules>=0.2.1 in /Users/carstenschnober/Documents/SemanticsOfSustainability/workspace/tempo-embeddings/.venv/lib/python3.11/site-packages (from google-auth>=1.0.1->kubernetes>=28.1.0->chromadb~=0.4.22->tempo_embeddings==0.0.1) (0.3.0)\n",
      "Requirement already satisfied: rsa<5,>=3.1.4 in /Users/carstenschnober/Documents/SemanticsOfSustainability/workspace/tempo-embeddings/.venv/lib/python3.11/site-packages (from google-auth>=1.0.1->kubernetes>=28.1.0->chromadb~=0.4.22->tempo_embeddings==0.0.1) (4.9)\n",
      "Requirement already satisfied: zipp>=0.5 in /Users/carstenschnober/Documents/SemanticsOfSustainability/workspace/tempo-embeddings/.venv/lib/python3.11/site-packages (from importlib-metadata<7.0,>=6.0->opentelemetry-api>=1.2.0->chromadb~=0.4.22->tempo_embeddings==0.0.1) (3.16.2)\n",
      "Requirement already satisfied: parso<0.9.0,>=0.8.0 in /Users/carstenschnober/Documents/SemanticsOfSustainability/workspace/tempo-embeddings/.venv/lib/python3.11/site-packages (from jedi>=0.16->ipython->wizmap~=0.1.2->tempo_embeddings==0.0.1) (0.8.3)\n",
      "Requirement already satisfied: locket in /Users/carstenschnober/Documents/SemanticsOfSustainability/workspace/tempo-embeddings/.venv/lib/python3.11/site-packages (from partd>=1.2.0->dask->datashader->tempo_embeddings==0.0.1) (1.0.0)\n",
      "Requirement already satisfied: ptyprocess>=0.5 in /Users/carstenschnober/Documents/SemanticsOfSustainability/workspace/tempo-embeddings/.venv/lib/python3.11/site-packages (from pexpect>4.3->ipython->wizmap~=0.1.2->tempo_embeddings==0.0.1) (0.7.0)\n",
      "Requirement already satisfied: wcwidth in /Users/carstenschnober/Documents/SemanticsOfSustainability/workspace/tempo-embeddings/.venv/lib/python3.11/site-packages (from prompt-toolkit!=3.0.37,<3.1.0,>=3.0.30->ipython->wizmap~=0.1.2->tempo_embeddings==0.0.1) (0.2.6)\n",
      "Requirement already satisfied: webencodings in /Users/carstenschnober/Documents/SemanticsOfSustainability/workspace/tempo-embeddings/.venv/lib/python3.11/site-packages (from bleach->panel>=0.13.1->holoviews->tempo_embeddings==0.0.1) (0.5.1)\n",
      "Requirement already satisfied: humanfriendly>=9.1 in /Users/carstenschnober/Documents/SemanticsOfSustainability/workspace/tempo-embeddings/.venv/lib/python3.11/site-packages (from coloredlogs->onnxruntime>=1.14.1->chromadb~=0.4.22->tempo_embeddings==0.0.1) (10.0)\n",
      "Requirement already satisfied: cffi>=1.12 in /Users/carstenschnober/Documents/SemanticsOfSustainability/workspace/tempo-embeddings/.venv/lib/python3.11/site-packages (from cryptography->authlib<2.0.0,>=1.2.1->weaviate-client~=4.6.5->tempo_embeddings==0.0.1) (1.16.0)\n",
      "Requirement already satisfied: uc-micro-py in /Users/carstenschnober/Documents/SemanticsOfSustainability/workspace/tempo-embeddings/.venv/lib/python3.11/site-packages (from linkify-it-py->panel>=0.13.1->holoviews->tempo_embeddings==0.0.1) (1.0.2)\n",
      "Requirement already satisfied: mdurl~=0.1 in /Users/carstenschnober/Documents/SemanticsOfSustainability/workspace/tempo-embeddings/.venv/lib/python3.11/site-packages (from markdown-it-py->panel>=0.13.1->holoviews->tempo_embeddings==0.0.1) (0.1.2)\n",
      "Requirement already satisfied: executing>=1.2.0 in /Users/carstenschnober/Documents/SemanticsOfSustainability/workspace/tempo-embeddings/.venv/lib/python3.11/site-packages (from stack-data->ipython->wizmap~=0.1.2->tempo_embeddings==0.0.1) (1.2.0)\n",
      "Requirement already satisfied: asttokens>=2.1.0 in /Users/carstenschnober/Documents/SemanticsOfSustainability/workspace/tempo-embeddings/.venv/lib/python3.11/site-packages (from stack-data->ipython->wizmap~=0.1.2->tempo_embeddings==0.0.1) (2.2.1)\n",
      "Requirement already satisfied: pure-eval in /Users/carstenschnober/Documents/SemanticsOfSustainability/workspace/tempo-embeddings/.venv/lib/python3.11/site-packages (from stack-data->ipython->wizmap~=0.1.2->tempo_embeddings==0.0.1) (0.2.2)\n",
      "Requirement already satisfied: pycparser in /Users/carstenschnober/Documents/SemanticsOfSustainability/workspace/tempo-embeddings/.venv/lib/python3.11/site-packages (from cffi>=1.12->cryptography->authlib<2.0.0,>=1.2.1->weaviate-client~=4.6.5->tempo_embeddings==0.0.1) (2.22)\n",
      "Requirement already satisfied: pyasn1<0.6.0,>=0.4.6 in /Users/carstenschnober/Documents/SemanticsOfSustainability/workspace/tempo-embeddings/.venv/lib/python3.11/site-packages (from pyasn1-modules>=0.2.1->google-auth>=1.0.1->kubernetes>=28.1.0->chromadb~=0.4.22->tempo_embeddings==0.0.1) (0.5.1)\n",
      "Building wheels for collected packages: tempo_embeddings\n",
      "  Building editable for tempo_embeddings (pyproject.toml) ... \u001b[?25ldone\n",
      "\u001b[?25h  Created wheel for tempo_embeddings: filename=tempo_embeddings-0.0.1-0.editable-py3-none-any.whl size=9609 sha256=40ef13842cdea3e9c95629eec0d7b99bbf078208e412c751cadb9fdc65f1369e\n",
      "  Stored in directory: /private/var/folders/d8/j5_fyf8941j_492zvf8948y40000gn/T/pip-ephem-wheel-cache-k4c0ki85/wheels/9d/dd/1c/d0e8ab6bde11a84556c00bd645333aaad0b90e2c38e11b0ed1\n",
      "Successfully built tempo_embeddings\n",
      "Installing collected packages: tempo_embeddings\n",
      "  Attempting uninstall: tempo_embeddings\n",
      "    Found existing installation: tempo_embeddings 0.0.1\n",
      "    Uninstalling tempo_embeddings-0.0.1:\n",
      "      Successfully uninstalled tempo_embeddings-0.0.1\n",
      "Successfully installed tempo_embeddings-0.0.1\n",
      "Note: you may need to restart the kernel to use updated packages.\n"
     ]
    }
   ],
   "source": [
    "%pip install -e .."
   ]
  },
  {
   "cell_type": "code",
   "execution_count": 73,
   "metadata": {},
   "outputs": [
    {
     "name": "stdout",
     "output_type": "stream",
     "text": [
      "Requirement already satisfied: ipywidgets in /Users/carstenschnober/Documents/SemanticsOfSustainability/workspace/tempo-embeddings/.venv/lib/python3.11/site-packages (8.1.3)\n",
      "Requirement already satisfied: comm>=0.1.3 in /Users/carstenschnober/Documents/SemanticsOfSustainability/workspace/tempo-embeddings/.venv/lib/python3.11/site-packages (from ipywidgets) (0.1.3)\n",
      "Requirement already satisfied: ipython>=6.1.0 in /Users/carstenschnober/Documents/SemanticsOfSustainability/workspace/tempo-embeddings/.venv/lib/python3.11/site-packages (from ipywidgets) (8.14.0)\n",
      "Requirement already satisfied: traitlets>=4.3.1 in /Users/carstenschnober/Documents/SemanticsOfSustainability/workspace/tempo-embeddings/.venv/lib/python3.11/site-packages (from ipywidgets) (5.9.0)\n",
      "Requirement already satisfied: widgetsnbextension~=4.0.11 in /Users/carstenschnober/Documents/SemanticsOfSustainability/workspace/tempo-embeddings/.venv/lib/python3.11/site-packages (from ipywidgets) (4.0.11)\n",
      "Requirement already satisfied: jupyterlab-widgets~=3.0.11 in /Users/carstenschnober/Documents/SemanticsOfSustainability/workspace/tempo-embeddings/.venv/lib/python3.11/site-packages (from ipywidgets) (3.0.11)\n",
      "Requirement already satisfied: backcall in /Users/carstenschnober/Documents/SemanticsOfSustainability/workspace/tempo-embeddings/.venv/lib/python3.11/site-packages (from ipython>=6.1.0->ipywidgets) (0.2.0)\n",
      "Requirement already satisfied: decorator in /Users/carstenschnober/Documents/SemanticsOfSustainability/workspace/tempo-embeddings/.venv/lib/python3.11/site-packages (from ipython>=6.1.0->ipywidgets) (5.1.1)\n",
      "Requirement already satisfied: jedi>=0.16 in /Users/carstenschnober/Documents/SemanticsOfSustainability/workspace/tempo-embeddings/.venv/lib/python3.11/site-packages (from ipython>=6.1.0->ipywidgets) (0.18.2)\n",
      "Requirement already satisfied: matplotlib-inline in /Users/carstenschnober/Documents/SemanticsOfSustainability/workspace/tempo-embeddings/.venv/lib/python3.11/site-packages (from ipython>=6.1.0->ipywidgets) (0.1.6)\n",
      "Requirement already satisfied: pickleshare in /Users/carstenschnober/Documents/SemanticsOfSustainability/workspace/tempo-embeddings/.venv/lib/python3.11/site-packages (from ipython>=6.1.0->ipywidgets) (0.7.5)\n",
      "Requirement already satisfied: prompt-toolkit!=3.0.37,<3.1.0,>=3.0.30 in /Users/carstenschnober/Documents/SemanticsOfSustainability/workspace/tempo-embeddings/.venv/lib/python3.11/site-packages (from ipython>=6.1.0->ipywidgets) (3.0.36)\n",
      "Requirement already satisfied: pygments>=2.4.0 in /Users/carstenschnober/Documents/SemanticsOfSustainability/workspace/tempo-embeddings/.venv/lib/python3.11/site-packages (from ipython>=6.1.0->ipywidgets) (2.15.1)\n",
      "Requirement already satisfied: stack-data in /Users/carstenschnober/Documents/SemanticsOfSustainability/workspace/tempo-embeddings/.venv/lib/python3.11/site-packages (from ipython>=6.1.0->ipywidgets) (0.6.2)\n",
      "Requirement already satisfied: pexpect>4.3 in /Users/carstenschnober/Documents/SemanticsOfSustainability/workspace/tempo-embeddings/.venv/lib/python3.11/site-packages (from ipython>=6.1.0->ipywidgets) (4.8.0)\n",
      "Requirement already satisfied: appnope in /Users/carstenschnober/Documents/SemanticsOfSustainability/workspace/tempo-embeddings/.venv/lib/python3.11/site-packages (from ipython>=6.1.0->ipywidgets) (0.1.3)\n",
      "Requirement already satisfied: parso<0.9.0,>=0.8.0 in /Users/carstenschnober/Documents/SemanticsOfSustainability/workspace/tempo-embeddings/.venv/lib/python3.11/site-packages (from jedi>=0.16->ipython>=6.1.0->ipywidgets) (0.8.3)\n",
      "Requirement already satisfied: ptyprocess>=0.5 in /Users/carstenschnober/Documents/SemanticsOfSustainability/workspace/tempo-embeddings/.venv/lib/python3.11/site-packages (from pexpect>4.3->ipython>=6.1.0->ipywidgets) (0.7.0)\n",
      "Requirement already satisfied: wcwidth in /Users/carstenschnober/Documents/SemanticsOfSustainability/workspace/tempo-embeddings/.venv/lib/python3.11/site-packages (from prompt-toolkit!=3.0.37,<3.1.0,>=3.0.30->ipython>=6.1.0->ipywidgets) (0.2.6)\n",
      "Requirement already satisfied: executing>=1.2.0 in /Users/carstenschnober/Documents/SemanticsOfSustainability/workspace/tempo-embeddings/.venv/lib/python3.11/site-packages (from stack-data->ipython>=6.1.0->ipywidgets) (1.2.0)\n",
      "Requirement already satisfied: asttokens>=2.1.0 in /Users/carstenschnober/Documents/SemanticsOfSustainability/workspace/tempo-embeddings/.venv/lib/python3.11/site-packages (from stack-data->ipython>=6.1.0->ipywidgets) (2.2.1)\n",
      "Requirement already satisfied: pure-eval in /Users/carstenschnober/Documents/SemanticsOfSustainability/workspace/tempo-embeddings/.venv/lib/python3.11/site-packages (from stack-data->ipython>=6.1.0->ipywidgets) (0.2.2)\n",
      "Requirement already satisfied: six in /Users/carstenschnober/Documents/SemanticsOfSustainability/workspace/tempo-embeddings/.venv/lib/python3.11/site-packages (from asttokens>=2.1.0->stack-data->ipython>=6.1.0->ipywidgets) (1.16.0)\n",
      "Note: you may need to restart the kernel to use updated packages.\n"
     ]
    }
   ],
   "source": [
    "%pip install ipywidgets"
   ]
  },
  {
   "cell_type": "markdown",
   "metadata": {},
   "source": [
    "# Initialize Database"
   ]
  },
  {
   "cell_type": "code",
   "execution_count": 74,
   "metadata": {},
   "outputs": [
    {
     "data": {
      "application/vnd.jupyter.widget-view+json": {
       "model_id": "2cf931310eb341869707467b78b8e074",
       "version_major": 2,
       "version_minor": 0
      },
      "text/plain": [
       "Dropdown(description='DB Server:', index=1, options=(('local', 'localhost'), ('Research Cloud', '145.38.192.17…"
      ]
     },
     "execution_count": 74,
     "metadata": {},
     "output_type": "execute_result"
    }
   ],
   "source": [
    "from ipywidgets import widgets\n",
    "\n",
    "host_selector = widgets.Dropdown(\n",
    "    options=[(\"local\", \"localhost\"), (\"Research Cloud\", \"145.38.192.173\")],\n",
    "    value=\"145.38.192.173\",\n",
    "    description=\"DB Server:\",\n",
    ")\n",
    "host_selector"
   ]
  },
  {
   "cell_type": "code",
   "execution_count": 75,
   "metadata": {},
   "outputs": [],
   "source": [
    "%autoreload now"
   ]
  },
  {
   "cell_type": "code",
   "execution_count": 76,
   "metadata": {},
   "outputs": [],
   "source": [
    "import weaviate\n",
    "from tempo_embeddings.embeddings.model import SentenceTransformerModelWrapper\n",
    "from tempo_embeddings.embeddings.weaviate_database import WeaviateDatabaseManager\n",
    "from tempo_embeddings.settings import DEFAULT_LANGUAGE_MODEL\n",
    "\n",
    "db = WeaviateDatabaseManager(\n",
    "    client=weaviate.connect_to_local(host=host_selector.value, port=8087),\n",
    "    model=SentenceTransformerModelWrapper.from_pretrained(DEFAULT_LANGUAGE_MODEL),\n",
    ")"
   ]
  },
  {
   "cell_type": "markdown",
   "metadata": {},
   "source": [
    "# Search"
   ]
  },
  {
   "cell_type": "code",
   "execution_count": 77,
   "metadata": {},
   "outputs": [
    {
     "data": {
      "application/vnd.jupyter.widget-view+json": {
       "model_id": "f9daf4fb9030440598cfd55328459e95",
       "version_major": 2,
       "version_minor": 0
      },
      "text/plain": [
       "SelectMultiple(description='Choose a Collection:', index=(1, 3), options=('AlgemeenDagblad', 'ANP', 'Telegraaf…"
      ]
     },
     "execution_count": 77,
     "metadata": {},
     "output_type": "execute_result"
    }
   ],
   "source": [
    "from ipywidgets import widgets\n",
    "\n",
    "collection_selector = widgets.SelectMultiple(\n",
    "    options=list(db.get_available_collections()),\n",
    "    value=[\"ANP\", \"StatenGeneraal\"],\n",
    "    description=\"Choose a Collection:\",\n",
    "    disabled=False,\n",
    "    style={\"description_width\": \"initial\"},\n",
    ")\n",
    "collection_selector"
   ]
  },
  {
   "cell_type": "code",
   "execution_count": 78,
   "metadata": {},
   "outputs": [
    {
     "data": {
      "application/vnd.jupyter.widget-view+json": {
       "model_id": "f3caca3a36b24a2cad4035ec147ef7a5",
       "version_major": 2,
       "version_minor": 0
      },
      "text/plain": [
       "Text(value='', description='Search Term:', placeholder='Enter a term')"
      ]
     },
     "execution_count": 78,
     "metadata": {},
     "output_type": "execute_result"
    }
   ],
   "source": [
    "text_widget = widgets.Text(\n",
    "    placeholder=\"Enter a term\", description=\"Search Term:\", disabled=False\n",
    ")\n",
    "text_widget"
   ]
  },
  {
   "cell_type": "code",
   "execution_count": 134,
   "metadata": {},
   "outputs": [
    {
     "name": "stderr",
     "output_type": "stream",
     "text": [
      "/var/folders/d8/j5_fyf8941j_492zvf8948y40000gn/T/ipykernel_84213/1482495306.py:24: UserWarning: Legend does not support handles for Annotation instances.\n",
      "See: https://matplotlib.org/stable/tutorials/intermediate/legend_guide.html#implementing-a-custom-legend-handler\n",
      "  ax.legend()\n"
     ]
    },
    {
     "data": {
      "text/plain": [
       "<matplotlib.legend.Legend at 0x3aa3da6d0>"
      ]
     },
     "execution_count": 134,
     "metadata": {},
     "output_type": "execute_result"
    },
    {
     "data": {
      "image/png": "[encoded data removed]",
      "text/plain": [
       "<Figure size 640x480 with 1 Axes>"
      ]
     },
     "metadata": {},
     "output_type": "display_data"
    }
   ],
   "source": [
    "import matplotlib.pyplot as plt\n",
    "\n",
    "fig, ax = plt.subplots()\n",
    "\n",
    "ax.set_title(f\"Passages containing the term '{text_widget.value}'\")\n",
    "\n",
    "ax.set_ylabel(\"Total/Matching Passages (log scale)\")\n",
    "ax.set_yscale(\"log\")\n",
    "\n",
    "main_legend = ax.legend(collection_selector.value)\n",
    "\n",
    "for collection in collection_selector.value:\n",
    "    doc_freq = db.doc_frequency(text_widget.value, collection)\n",
    "    total_count = db.doc_frequency(\"\", collection)\n",
    "\n",
    "    bar_matches = ax.bar(collection, doc_freq, label=f\"{collection} - Matches\")\n",
    "    ax.bar_label(bar_matches, label_type=\"edge\")\n",
    "\n",
    "    bar_total = ax.bar(collection, total_count - doc_freq, bottom=doc_freq)\n",
    "    ax.bar_label(bar_total, label_type=\"edge\", label=f\"{collection} - Total\")\n",
    "\n",
    "# TODO: make sub-legends\n",
    "ax.legend()"
   ]
  }
 ],
 "metadata": {
  "kernelspec": {
   "display_name": ".venv",
   "language": "python",
   "name": "python3"
  },
  "language_info": {
   "codemirror_mode": {
    "name": "ipython",
    "version": 3
   },
   "file_extension": ".py",
   "mimetype": "text/x-python",
   "name": "python",
   "nbconvert_exporter": "python",
   "pygments_lexer": "ipython3",
   "version": "3.11.2"
  }
 },
 "nbformat": 4,
 "nbformat_minor": 2
}
