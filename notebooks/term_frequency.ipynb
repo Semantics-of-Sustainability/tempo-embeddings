{
 "cells": [
  {
   "cell_type": "markdown",
   "metadata": {},
   "source": [
    "# Installation"
   ]
  },
  {
   "cell_type": "markdown",
   "metadata": {},
   "source": [
    "Run all the cells in the notebook, in order to install/update the necessary software.\n",
    "\n",
    "Widgets are used for defining individual research parameters. They are filled with reasonable example values."
   ]
  },
  {
   "cell_type": "code",
   "execution_count": 123,
   "metadata": {},
   "outputs": [
    {
     "name": "stdout",
     "output_type": "stream",
     "text": [
      "The autoreload extension is already loaded. To reload it, use:\n",
      "  %reload_ext autoreload\n"
     ]
    }
   ],
   "source": [
    "%load_ext autoreload"
   ]
  },
  {
   "cell_type": "code",
   "execution_count": 124,
   "metadata": {},
   "outputs": [
    {
     "name": "stdout",
     "output_type": "stream",
     "text": [
      "Found existing installation: tempo_embeddings 0.0.1\n",
      "Uninstalling tempo_embeddings-0.0.1:\n",
      "  Successfully uninstalled tempo_embeddings-0.0.1\n",
      "Note: you may need to restart the kernel to use updated packages.\n",
      "Obtaining file:///Users/carstenschnober/Documents/SemanticsOfSustainability/workspace/tempo-embeddings\n",
      "  Installing build dependencies ... \u001b[?25ldone\n",
      "\u001b[?25h  Checking if build backend supports build_editable ... \u001b[?25ldone\n",
      "\u001b[?25h  Getting requirements to build editable ... \u001b[?25ldone\n",
      "\u001b[?25h  Preparing editable metadata (pyproject.toml) ... \u001b[?25ldone\n",
      "\u001b[?25hRequirement already satisfied: accelerate~=0.22.0 in /Users/carstenschnober/Documents/SemanticsOfSustainability/workspace/tempo-embeddings/.venv/lib/python3.11/site-packages (from tempo_embeddings==0.0.1) (0.22.0)\n",
      "Requirement already satisfied: chromadb~=0.5.18 in /Users/carstenschnober/Documents/SemanticsOfSustainability/workspace/tempo-embeddings/.venv/lib/python3.11/site-packages (from tempo_embeddings==0.0.1) (0.5.18)\n",
      "Requirement already satisfied: jupyter-scatter~=0.19.0 in /Users/carstenschnober/Documents/SemanticsOfSustainability/workspace/tempo-embeddings/.venv/lib/python3.11/site-packages (from tempo_embeddings==0.0.1) (0.19.1)\n",
      "Requirement already satisfied: kneed~=0.8.5 in /Users/carstenschnober/Documents/SemanticsOfSustainability/workspace/tempo-embeddings/.venv/lib/python3.11/site-packages (from tempo_embeddings==0.0.1) (0.8.5)\n",
      "Requirement already satisfied: python-dateutil~=2.9.0.post0 in /Users/carstenschnober/Documents/SemanticsOfSustainability/workspace/tempo-embeddings/.venv/lib/python3.11/site-packages (from tempo_embeddings==0.0.1) (2.9.0.post0)\n",
      "Requirement already satisfied: sacremoses~=0.0.53 in /Users/carstenschnober/Documents/SemanticsOfSustainability/workspace/tempo-embeddings/.venv/lib/python3.11/site-packages (from tempo_embeddings==0.0.1) (0.0.53)\n",
      "Requirement already satisfied: scikit-learn~=1.5.2 in /Users/carstenschnober/Documents/SemanticsOfSustainability/workspace/tempo-embeddings/.venv/lib/python3.11/site-packages (from tempo_embeddings==0.0.1) (1.5.2)\n",
      "Requirement already satisfied: seaborn~=0.13.0 in /Users/carstenschnober/Documents/SemanticsOfSustainability/workspace/tempo-embeddings/.venv/lib/python3.11/site-packages (from tempo_embeddings==0.0.1) (0.13.2)\n",
      "Requirement already satisfied: sentence_splitter~=1.4.0 in /Users/carstenschnober/Documents/SemanticsOfSustainability/workspace/tempo-embeddings/.venv/lib/python3.11/site-packages (from tempo_embeddings==0.0.1) (1.4)\n",
      "Requirement already satisfied: stanza~=1.7.0 in /Users/carstenschnober/Documents/SemanticsOfSustainability/workspace/tempo-embeddings/.venv/lib/python3.11/site-packages (from tempo_embeddings==0.0.1) (1.7.0)\n",
      "Requirement already satisfied: torch>=2.2.2 in /Users/carstenschnober/Documents/SemanticsOfSustainability/workspace/tempo-embeddings/.venv/lib/python3.11/site-packages (from tempo_embeddings==0.0.1) (2.5.0)\n",
      "Requirement already satisfied: transformers~=4.39.0 in /Users/carstenschnober/Documents/SemanticsOfSustainability/workspace/tempo-embeddings/.venv/lib/python3.11/site-packages (from tempo_embeddings==0.0.1) (4.39.3)\n",
      "Requirement already satisfied: umap-learn~=0.5.4 in /Users/carstenschnober/Documents/SemanticsOfSustainability/workspace/tempo-embeddings/.venv/lib/python3.11/site-packages (from tempo_embeddings==0.0.1) (0.5.6)\n",
      "Requirement already satisfied: weaviate-client~=4.6.5 in /Users/carstenschnober/Documents/SemanticsOfSustainability/workspace/tempo-embeddings/.venv/lib/python3.11/site-packages (from tempo_embeddings==0.0.1) (4.6.7)\n",
      "Requirement already satisfied: wizmap~=0.1.2 in /Users/carstenschnober/Documents/SemanticsOfSustainability/workspace/tempo-embeddings/.venv/lib/python3.11/site-packages (from tempo_embeddings==0.0.1) (0.1.3)\n",
      "Requirement already satisfied: wtpsplit~=2.0.5 in /Users/carstenschnober/Documents/SemanticsOfSustainability/workspace/tempo-embeddings/.venv/lib/python3.11/site-packages (from tempo_embeddings==0.0.1) (2.0.8)\n",
      "Requirement already satisfied: huggingface-hub~=0.25.0 in /Users/carstenschnober/Documents/SemanticsOfSustainability/workspace/tempo-embeddings/.venv/lib/python3.11/site-packages (from tempo_embeddings==0.0.1) (0.25.2)\n",
      "Requirement already satisfied: pydantic~=2.8.2 in /Users/carstenschnober/Documents/SemanticsOfSustainability/workspace/tempo-embeddings/.venv/lib/python3.11/site-packages (from tempo_embeddings==0.0.1) (2.8.2)\n",
      "Requirement already satisfied: bokeh~=3.3.2 in /Users/carstenschnober/Documents/SemanticsOfSustainability/workspace/tempo-embeddings/.venv/lib/python3.11/site-packages (from tempo_embeddings==0.0.1) (3.3.4)\n",
      "Requirement already satisfied: dash~=2.11.1 in /Users/carstenschnober/Documents/SemanticsOfSustainability/workspace/tempo-embeddings/.venv/lib/python3.11/site-packages (from tempo_embeddings==0.0.1) (2.11.1)\n",
      "Requirement already satisfied: datashader in /Users/carstenschnober/Documents/SemanticsOfSustainability/workspace/tempo-embeddings/.venv/lib/python3.11/site-packages (from tempo_embeddings==0.0.1) (0.16.3)\n",
      "Requirement already satisfied: holoviews in /Users/carstenschnober/Documents/SemanticsOfSustainability/workspace/tempo-embeddings/.venv/lib/python3.11/site-packages (from tempo_embeddings==0.0.1) (1.19.1)\n",
      "Requirement already satisfied: pandas in /Users/carstenschnober/Documents/SemanticsOfSustainability/workspace/tempo-embeddings/.venv/lib/python3.11/site-packages (from tempo_embeddings==0.0.1) (2.2.3)\n",
      "Requirement already satisfied: numpy>=1.17 in /Users/carstenschnober/Documents/SemanticsOfSustainability/workspace/tempo-embeddings/.venv/lib/python3.11/site-packages (from accelerate~=0.22.0->tempo_embeddings==0.0.1) (2.0.2)\n",
      "Requirement already satisfied: packaging>=20.0 in /Users/carstenschnober/Documents/SemanticsOfSustainability/workspace/tempo-embeddings/.venv/lib/python3.11/site-packages (from accelerate~=0.22.0->tempo_embeddings==0.0.1) (24.1)\n",
      "Requirement already satisfied: psutil in /Users/carstenschnober/Documents/SemanticsOfSustainability/workspace/tempo-embeddings/.venv/lib/python3.11/site-packages (from accelerate~=0.22.0->tempo_embeddings==0.0.1) (6.1.0)\n",
      "Requirement already satisfied: pyyaml in /Users/carstenschnober/Documents/SemanticsOfSustainability/workspace/tempo-embeddings/.venv/lib/python3.11/site-packages (from accelerate~=0.22.0->tempo_embeddings==0.0.1) (6.0.2)\n",
      "Requirement already satisfied: Jinja2>=2.9 in /Users/carstenschnober/Documents/SemanticsOfSustainability/workspace/tempo-embeddings/.venv/lib/python3.11/site-packages (from bokeh~=3.3.2->tempo_embeddings==0.0.1) (3.1.4)\n",
      "Requirement already satisfied: contourpy>=1 in /Users/carstenschnober/Documents/SemanticsOfSustainability/workspace/tempo-embeddings/.venv/lib/python3.11/site-packages (from bokeh~=3.3.2->tempo_embeddings==0.0.1) (1.3.0)\n",
      "Requirement already satisfied: pillow>=7.1.0 in /Users/carstenschnober/Documents/SemanticsOfSustainability/workspace/tempo-embeddings/.venv/lib/python3.11/site-packages (from bokeh~=3.3.2->tempo_embeddings==0.0.1) (11.0.0)\n",
      "Requirement already satisfied: tornado>=5.1 in /Users/carstenschnober/Documents/SemanticsOfSustainability/workspace/tempo-embeddings/.venv/lib/python3.11/site-packages (from bokeh~=3.3.2->tempo_embeddings==0.0.1) (6.4.1)\n",
      "Requirement already satisfied: xyzservices>=2021.09.1 in /Users/carstenschnober/Documents/SemanticsOfSustainability/workspace/tempo-embeddings/.venv/lib/python3.11/site-packages (from bokeh~=3.3.2->tempo_embeddings==0.0.1) (2024.9.0)\n",
      "Requirement already satisfied: build>=1.0.3 in /Users/carstenschnober/Documents/SemanticsOfSustainability/workspace/tempo-embeddings/.venv/lib/python3.11/site-packages (from chromadb~=0.5.18->tempo_embeddings==0.0.1) (1.2.2.post1)\n",
      "Requirement already satisfied: chroma-hnswlib==0.7.6 in /Users/carstenschnober/Documents/SemanticsOfSustainability/workspace/tempo-embeddings/.venv/lib/python3.11/site-packages (from chromadb~=0.5.18->tempo_embeddings==0.0.1) (0.7.6)\n",
      "Requirement already satisfied: fastapi>=0.95.2 in /Users/carstenschnober/Documents/SemanticsOfSustainability/workspace/tempo-embeddings/.venv/lib/python3.11/site-packages (from chromadb~=0.5.18->tempo_embeddings==0.0.1) (0.115.2)\n",
      "Requirement already satisfied: uvicorn>=0.18.3 in /Users/carstenschnober/Documents/SemanticsOfSustainability/workspace/tempo-embeddings/.venv/lib/python3.11/site-packages (from uvicorn[standard]>=0.18.3->chromadb~=0.5.18->tempo_embeddings==0.0.1) (0.32.0)\n",
      "Requirement already satisfied: posthog>=2.4.0 in /Users/carstenschnober/Documents/SemanticsOfSustainability/workspace/tempo-embeddings/.venv/lib/python3.11/site-packages (from chromadb~=0.5.18->tempo_embeddings==0.0.1) (3.7.0)\n",
      "Requirement already satisfied: typing-extensions>=4.5.0 in /Users/carstenschnober/Documents/SemanticsOfSustainability/workspace/tempo-embeddings/.venv/lib/python3.11/site-packages (from chromadb~=0.5.18->tempo_embeddings==0.0.1) (4.12.2)\n",
      "Requirement already satisfied: onnxruntime>=1.14.1 in /Users/carstenschnober/Documents/SemanticsOfSustainability/workspace/tempo-embeddings/.venv/lib/python3.11/site-packages (from chromadb~=0.5.18->tempo_embeddings==0.0.1) (1.19.2)\n",
      "Requirement already satisfied: opentelemetry-api>=1.2.0 in /Users/carstenschnober/Documents/SemanticsOfSustainability/workspace/tempo-embeddings/.venv/lib/python3.11/site-packages (from chromadb~=0.5.18->tempo_embeddings==0.0.1) (1.27.0)\n",
      "Requirement already satisfied: opentelemetry-exporter-otlp-proto-grpc>=1.2.0 in /Users/carstenschnober/Documents/SemanticsOfSustainability/workspace/tempo-embeddings/.venv/lib/python3.11/site-packages (from chromadb~=0.5.18->tempo_embeddings==0.0.1) (1.11.1)\n",
      "Requirement already satisfied: opentelemetry-instrumentation-fastapi>=0.41b0 in /Users/carstenschnober/Documents/SemanticsOfSustainability/workspace/tempo-embeddings/.venv/lib/python3.11/site-packages (from chromadb~=0.5.18->tempo_embeddings==0.0.1) (0.48b0)\n",
      "Requirement already satisfied: opentelemetry-sdk>=1.2.0 in /Users/carstenschnober/Documents/SemanticsOfSustainability/workspace/tempo-embeddings/.venv/lib/python3.11/site-packages (from chromadb~=0.5.18->tempo_embeddings==0.0.1) (1.27.0)\n",
      "Requirement already satisfied: tokenizers>=0.13.2 in /Users/carstenschnober/Documents/SemanticsOfSustainability/workspace/tempo-embeddings/.venv/lib/python3.11/site-packages (from chromadb~=0.5.18->tempo_embeddings==0.0.1) (0.15.2)\n",
      "Requirement already satisfied: pypika>=0.48.9 in /Users/carstenschnober/Documents/SemanticsOfSustainability/workspace/tempo-embeddings/.venv/lib/python3.11/site-packages (from chromadb~=0.5.18->tempo_embeddings==0.0.1) (0.48.9)\n",
      "Requirement already satisfied: tqdm>=4.65.0 in /Users/carstenschnober/Documents/SemanticsOfSustainability/workspace/tempo-embeddings/.venv/lib/python3.11/site-packages (from chromadb~=0.5.18->tempo_embeddings==0.0.1) (4.66.5)\n",
      "Requirement already satisfied: overrides>=7.3.1 in /Users/carstenschnober/Documents/SemanticsOfSustainability/workspace/tempo-embeddings/.venv/lib/python3.11/site-packages (from chromadb~=0.5.18->tempo_embeddings==0.0.1) (7.7.0)\n",
      "Requirement already satisfied: importlib-resources in /Users/carstenschnober/Documents/SemanticsOfSustainability/workspace/tempo-embeddings/.venv/lib/python3.11/site-packages (from chromadb~=0.5.18->tempo_embeddings==0.0.1) (6.4.5)\n",
      "Requirement already satisfied: grpcio>=1.58.0 in /Users/carstenschnober/Documents/SemanticsOfSustainability/workspace/tempo-embeddings/.venv/lib/python3.11/site-packages (from chromadb~=0.5.18->tempo_embeddings==0.0.1) (1.67.0)\n",
      "Requirement already satisfied: bcrypt>=4.0.1 in /Users/carstenschnober/Documents/SemanticsOfSustainability/workspace/tempo-embeddings/.venv/lib/python3.11/site-packages (from chromadb~=0.5.18->tempo_embeddings==0.0.1) (4.2.0)\n",
      "Requirement already satisfied: typer>=0.9.0 in /Users/carstenschnober/Documents/SemanticsOfSustainability/workspace/tempo-embeddings/.venv/lib/python3.11/site-packages (from chromadb~=0.5.18->tempo_embeddings==0.0.1) (0.12.5)\n",
      "Requirement already satisfied: kubernetes>=28.1.0 in /Users/carstenschnober/Documents/SemanticsOfSustainability/workspace/tempo-embeddings/.venv/lib/python3.11/site-packages (from chromadb~=0.5.18->tempo_embeddings==0.0.1) (31.0.0)\n",
      "Requirement already satisfied: tenacity>=8.2.3 in /Users/carstenschnober/Documents/SemanticsOfSustainability/workspace/tempo-embeddings/.venv/lib/python3.11/site-packages (from chromadb~=0.5.18->tempo_embeddings==0.0.1) (9.0.0)\n",
      "Requirement already satisfied: mmh3>=4.0.1 in /Users/carstenschnober/Documents/SemanticsOfSustainability/workspace/tempo-embeddings/.venv/lib/python3.11/site-packages (from chromadb~=0.5.18->tempo_embeddings==0.0.1) (5.0.1)\n",
      "Requirement already satisfied: orjson>=3.9.12 in /Users/carstenschnober/Documents/SemanticsOfSustainability/workspace/tempo-embeddings/.venv/lib/python3.11/site-packages (from chromadb~=0.5.18->tempo_embeddings==0.0.1) (3.10.7)\n",
      "Requirement already satisfied: httpx>=0.27.0 in /Users/carstenschnober/Documents/SemanticsOfSustainability/workspace/tempo-embeddings/.venv/lib/python3.11/site-packages (from chromadb~=0.5.18->tempo_embeddings==0.0.1) (0.27.0)\n",
      "Requirement already satisfied: rich>=10.11.0 in /Users/carstenschnober/Documents/SemanticsOfSustainability/workspace/tempo-embeddings/.venv/lib/python3.11/site-packages (from chromadb~=0.5.18->tempo_embeddings==0.0.1) (13.9.2)\n",
      "Requirement already satisfied: Flask<2.3.0,>=1.0.4 in /Users/carstenschnober/Documents/SemanticsOfSustainability/workspace/tempo-embeddings/.venv/lib/python3.11/site-packages (from dash~=2.11.1->tempo_embeddings==0.0.1) (2.2.5)\n",
      "Requirement already satisfied: Werkzeug<2.3.0 in /Users/carstenschnober/Documents/SemanticsOfSustainability/workspace/tempo-embeddings/.venv/lib/python3.11/site-packages (from dash~=2.11.1->tempo_embeddings==0.0.1) (2.2.3)\n",
      "Requirement already satisfied: plotly>=5.0.0 in /Users/carstenschnober/Documents/SemanticsOfSustainability/workspace/tempo-embeddings/.venv/lib/python3.11/site-packages (from dash~=2.11.1->tempo_embeddings==0.0.1) (5.24.1)\n",
      "Requirement already satisfied: dash-html-components==2.0.0 in /Users/carstenschnober/Documents/SemanticsOfSustainability/workspace/tempo-embeddings/.venv/lib/python3.11/site-packages (from dash~=2.11.1->tempo_embeddings==0.0.1) (2.0.0)\n",
      "Requirement already satisfied: dash-core-components==2.0.0 in /Users/carstenschnober/Documents/SemanticsOfSustainability/workspace/tempo-embeddings/.venv/lib/python3.11/site-packages (from dash~=2.11.1->tempo_embeddings==0.0.1) (2.0.0)\n",
      "Requirement already satisfied: dash-table==5.0.0 in /Users/carstenschnober/Documents/SemanticsOfSustainability/workspace/tempo-embeddings/.venv/lib/python3.11/site-packages (from dash~=2.11.1->tempo_embeddings==0.0.1) (5.0.0)\n",
      "Requirement already satisfied: requests in /Users/carstenschnober/Documents/SemanticsOfSustainability/workspace/tempo-embeddings/.venv/lib/python3.11/site-packages (from dash~=2.11.1->tempo_embeddings==0.0.1) (2.32.3)\n",
      "Requirement already satisfied: retrying in /Users/carstenschnober/Documents/SemanticsOfSustainability/workspace/tempo-embeddings/.venv/lib/python3.11/site-packages (from dash~=2.11.1->tempo_embeddings==0.0.1) (1.3.4)\n",
      "Requirement already satisfied: ansi2html in /Users/carstenschnober/Documents/SemanticsOfSustainability/workspace/tempo-embeddings/.venv/lib/python3.11/site-packages (from dash~=2.11.1->tempo_embeddings==0.0.1) (1.9.2)\n",
      "Requirement already satisfied: nest-asyncio in /Users/carstenschnober/Documents/SemanticsOfSustainability/workspace/tempo-embeddings/.venv/lib/python3.11/site-packages (from dash~=2.11.1->tempo_embeddings==0.0.1) (1.6.0)\n",
      "Requirement already satisfied: filelock in /Users/carstenschnober/Documents/SemanticsOfSustainability/workspace/tempo-embeddings/.venv/lib/python3.11/site-packages (from huggingface-hub~=0.25.0->tempo_embeddings==0.0.1) (3.16.1)\n",
      "Requirement already satisfied: fsspec>=2023.5.0 in /Users/carstenschnober/Documents/SemanticsOfSustainability/workspace/tempo-embeddings/.venv/lib/python3.11/site-packages (from huggingface-hub~=0.25.0->tempo_embeddings==0.0.1) (2024.9.0)\n",
      "Requirement already satisfied: anywidget>=0.9.0 in /Users/carstenschnober/Documents/SemanticsOfSustainability/workspace/tempo-embeddings/.venv/lib/python3.11/site-packages (from jupyter-scatter~=0.19.0->tempo_embeddings==0.0.1) (0.9.13)\n",
      "Requirement already satisfied: ipython in /Users/carstenschnober/Documents/SemanticsOfSustainability/workspace/tempo-embeddings/.venv/lib/python3.11/site-packages (from jupyter-scatter~=0.19.0->tempo_embeddings==0.0.1) (8.28.0)\n",
      "Requirement already satisfied: ipywidgets<9,>=7.6 in /Users/carstenschnober/Documents/SemanticsOfSustainability/workspace/tempo-embeddings/.venv/lib/python3.11/site-packages (from jupyter-scatter~=0.19.0->tempo_embeddings==0.0.1) (8.1.5)\n",
      "Requirement already satisfied: matplotlib in /Users/carstenschnober/Documents/SemanticsOfSustainability/workspace/tempo-embeddings/.venv/lib/python3.11/site-packages (from jupyter-scatter~=0.19.0->tempo_embeddings==0.0.1) (3.9.2)\n",
      "Requirement already satisfied: scipy in /Users/carstenschnober/Documents/SemanticsOfSustainability/workspace/tempo-embeddings/.venv/lib/python3.11/site-packages (from jupyter-scatter~=0.19.0->tempo_embeddings==0.0.1) (1.14.1)\n",
      "Requirement already satisfied: traittypes>=0.2.1 in /Users/carstenschnober/Documents/SemanticsOfSustainability/workspace/tempo-embeddings/.venv/lib/python3.11/site-packages (from jupyter-scatter~=0.19.0->tempo_embeddings==0.0.1) (0.2.1)\n",
      "Requirement already satisfied: pytz>=2020.1 in /Users/carstenschnober/Documents/SemanticsOfSustainability/workspace/tempo-embeddings/.venv/lib/python3.11/site-packages (from pandas->tempo_embeddings==0.0.1) (2024.2)\n",
      "Requirement already satisfied: tzdata>=2022.7 in /Users/carstenschnober/Documents/SemanticsOfSustainability/workspace/tempo-embeddings/.venv/lib/python3.11/site-packages (from pandas->tempo_embeddings==0.0.1) (2024.2)\n",
      "Requirement already satisfied: annotated-types>=0.4.0 in /Users/carstenschnober/Documents/SemanticsOfSustainability/workspace/tempo-embeddings/.venv/lib/python3.11/site-packages (from pydantic~=2.8.2->tempo_embeddings==0.0.1) (0.7.0)\n",
      "Requirement already satisfied: pydantic-core==2.20.1 in /Users/carstenschnober/Documents/SemanticsOfSustainability/workspace/tempo-embeddings/.venv/lib/python3.11/site-packages (from pydantic~=2.8.2->tempo_embeddings==0.0.1) (2.20.1)\n",
      "Requirement already satisfied: six>=1.5 in /Users/carstenschnober/Documents/SemanticsOfSustainability/workspace/tempo-embeddings/.venv/lib/python3.11/site-packages (from python-dateutil~=2.9.0.post0->tempo_embeddings==0.0.1) (1.16.0)\n",
      "Requirement already satisfied: regex in /Users/carstenschnober/Documents/SemanticsOfSustainability/workspace/tempo-embeddings/.venv/lib/python3.11/site-packages (from sacremoses~=0.0.53->tempo_embeddings==0.0.1) (2024.9.11)\n",
      "Requirement already satisfied: click in /Users/carstenschnober/Documents/SemanticsOfSustainability/workspace/tempo-embeddings/.venv/lib/python3.11/site-packages (from sacremoses~=0.0.53->tempo_embeddings==0.0.1) (8.1.7)\n",
      "Requirement already satisfied: joblib in /Users/carstenschnober/Documents/SemanticsOfSustainability/workspace/tempo-embeddings/.venv/lib/python3.11/site-packages (from sacremoses~=0.0.53->tempo_embeddings==0.0.1) (1.4.2)\n",
      "Requirement already satisfied: threadpoolctl>=3.1.0 in /Users/carstenschnober/Documents/SemanticsOfSustainability/workspace/tempo-embeddings/.venv/lib/python3.11/site-packages (from scikit-learn~=1.5.2->tempo_embeddings==0.0.1) (3.5.0)\n",
      "Requirement already satisfied: emoji in /Users/carstenschnober/Documents/SemanticsOfSustainability/workspace/tempo-embeddings/.venv/lib/python3.11/site-packages (from stanza~=1.7.0->tempo_embeddings==0.0.1) (2.14.0)\n",
      "Requirement already satisfied: protobuf>=3.15.0 in /Users/carstenschnober/Documents/SemanticsOfSustainability/workspace/tempo-embeddings/.venv/lib/python3.11/site-packages (from stanza~=1.7.0->tempo_embeddings==0.0.1) (5.28.2)\n",
      "Requirement already satisfied: networkx in /Users/carstenschnober/Documents/SemanticsOfSustainability/workspace/tempo-embeddings/.venv/lib/python3.11/site-packages (from stanza~=1.7.0->tempo_embeddings==0.0.1) (3.4.1)\n",
      "Requirement already satisfied: toml in /Users/carstenschnober/Documents/SemanticsOfSustainability/workspace/tempo-embeddings/.venv/lib/python3.11/site-packages (from stanza~=1.7.0->tempo_embeddings==0.0.1) (0.10.2)\n",
      "Requirement already satisfied: sympy==1.13.1 in /Users/carstenschnober/Documents/SemanticsOfSustainability/workspace/tempo-embeddings/.venv/lib/python3.11/site-packages (from torch>=2.2.2->tempo_embeddings==0.0.1) (1.13.1)\n",
      "Requirement already satisfied: mpmath<1.4,>=1.1.0 in /Users/carstenschnober/Documents/SemanticsOfSustainability/workspace/tempo-embeddings/.venv/lib/python3.11/site-packages (from sympy==1.13.1->torch>=2.2.2->tempo_embeddings==0.0.1) (1.3.0)\n",
      "Requirement already satisfied: safetensors>=0.4.1 in /Users/carstenschnober/Documents/SemanticsOfSustainability/workspace/tempo-embeddings/.venv/lib/python3.11/site-packages (from transformers~=4.39.0->tempo_embeddings==0.0.1) (0.4.5)\n",
      "Requirement already satisfied: numba>=0.51.2 in /Users/carstenschnober/Documents/SemanticsOfSustainability/workspace/tempo-embeddings/.venv/lib/python3.11/site-packages (from umap-learn~=0.5.4->tempo_embeddings==0.0.1) (0.60.0)\n",
      "Requirement already satisfied: pynndescent>=0.5 in /Users/carstenschnober/Documents/SemanticsOfSustainability/workspace/tempo-embeddings/.venv/lib/python3.11/site-packages (from umap-learn~=0.5.4->tempo_embeddings==0.0.1) (0.5.13)\n",
      "Requirement already satisfied: validators==0.33.0 in /Users/carstenschnober/Documents/SemanticsOfSustainability/workspace/tempo-embeddings/.venv/lib/python3.11/site-packages (from weaviate-client~=4.6.5->tempo_embeddings==0.0.1) (0.33.0)\n",
      "Requirement already satisfied: authlib<2.0.0,>=1.2.1 in /Users/carstenschnober/Documents/SemanticsOfSustainability/workspace/tempo-embeddings/.venv/lib/python3.11/site-packages (from weaviate-client~=4.6.5->tempo_embeddings==0.0.1) (1.3.2)\n",
      "Requirement already satisfied: grpcio-tools<2.0.0,>=1.57.0 in /Users/carstenschnober/Documents/SemanticsOfSustainability/workspace/tempo-embeddings/.venv/lib/python3.11/site-packages (from weaviate-client~=4.6.5->tempo_embeddings==0.0.1) (1.67.0)\n",
      "Requirement already satisfied: grpcio-health-checking<2.0.0,>=1.57.0 in /Users/carstenschnober/Documents/SemanticsOfSustainability/workspace/tempo-embeddings/.venv/lib/python3.11/site-packages (from weaviate-client~=4.6.5->tempo_embeddings==0.0.1) (1.67.0)\n",
      "Requirement already satisfied: quadtreed3 in /Users/carstenschnober/Documents/SemanticsOfSustainability/workspace/tempo-embeddings/.venv/lib/python3.11/site-packages (from wizmap~=0.1.2->tempo_embeddings==0.0.1) (0.1.1)\n",
      "Requirement already satisfied: ndjson in /Users/carstenschnober/Documents/SemanticsOfSustainability/workspace/tempo-embeddings/.venv/lib/python3.11/site-packages (from wizmap~=0.1.2->tempo_embeddings==0.0.1) (0.3.1)\n",
      "Requirement already satisfied: skops in /Users/carstenschnober/Documents/SemanticsOfSustainability/workspace/tempo-embeddings/.venv/lib/python3.11/site-packages (from wtpsplit~=2.0.5->tempo_embeddings==0.0.1) (0.10.0)\n",
      "Requirement already satisfied: cached-property in /Users/carstenschnober/Documents/SemanticsOfSustainability/workspace/tempo-embeddings/.venv/lib/python3.11/site-packages (from wtpsplit~=2.0.5->tempo_embeddings==0.0.1) (1.5.2)\n",
      "Requirement already satisfied: mosestokenizer in /Users/carstenschnober/Documents/SemanticsOfSustainability/workspace/tempo-embeddings/.venv/lib/python3.11/site-packages (from wtpsplit~=2.0.5->tempo_embeddings==0.0.1) (1.2.1)\n",
      "Requirement already satisfied: adapters in /Users/carstenschnober/Documents/SemanticsOfSustainability/workspace/tempo-embeddings/.venv/lib/python3.11/site-packages (from wtpsplit~=2.0.5->tempo_embeddings==0.0.1) (0.2.1)\n",
      "Requirement already satisfied: colorcet in /Users/carstenschnober/Documents/SemanticsOfSustainability/workspace/tempo-embeddings/.venv/lib/python3.11/site-packages (from datashader->tempo_embeddings==0.0.1) (3.1.0)\n",
      "Requirement already satisfied: dask in /Users/carstenschnober/Documents/SemanticsOfSustainability/workspace/tempo-embeddings/.venv/lib/python3.11/site-packages (from datashader->tempo_embeddings==0.0.1) (2024.10.0)\n",
      "Requirement already satisfied: multipledispatch in /Users/carstenschnober/Documents/SemanticsOfSustainability/workspace/tempo-embeddings/.venv/lib/python3.11/site-packages (from datashader->tempo_embeddings==0.0.1) (1.0.0)\n",
      "Requirement already satisfied: param in /Users/carstenschnober/Documents/SemanticsOfSustainability/workspace/tempo-embeddings/.venv/lib/python3.11/site-packages (from datashader->tempo_embeddings==0.0.1) (2.1.1)\n",
      "Requirement already satisfied: pyct in /Users/carstenschnober/Documents/SemanticsOfSustainability/workspace/tempo-embeddings/.venv/lib/python3.11/site-packages (from datashader->tempo_embeddings==0.0.1) (0.5.0)\n",
      "Requirement already satisfied: toolz in /Users/carstenschnober/Documents/SemanticsOfSustainability/workspace/tempo-embeddings/.venv/lib/python3.11/site-packages (from datashader->tempo_embeddings==0.0.1) (1.0.0)\n",
      "Requirement already satisfied: xarray in /Users/carstenschnober/Documents/SemanticsOfSustainability/workspace/tempo-embeddings/.venv/lib/python3.11/site-packages (from datashader->tempo_embeddings==0.0.1) (2024.9.0)\n",
      "Requirement already satisfied: panel>=1.0 in /Users/carstenschnober/Documents/SemanticsOfSustainability/workspace/tempo-embeddings/.venv/lib/python3.11/site-packages (from holoviews->tempo_embeddings==0.0.1) (1.3.8)\n",
      "Requirement already satisfied: pyviz-comms>=2.1 in /Users/carstenschnober/Documents/SemanticsOfSustainability/workspace/tempo-embeddings/.venv/lib/python3.11/site-packages (from holoviews->tempo_embeddings==0.0.1) (3.0.3)\n",
      "Requirement already satisfied: psygnal>=0.8.1 in /Users/carstenschnober/Documents/SemanticsOfSustainability/workspace/tempo-embeddings/.venv/lib/python3.11/site-packages (from anywidget>=0.9.0->jupyter-scatter~=0.19.0->tempo_embeddings==0.0.1) (0.11.1)\n",
      "Requirement already satisfied: cryptography in /Users/carstenschnober/Documents/SemanticsOfSustainability/workspace/tempo-embeddings/.venv/lib/python3.11/site-packages (from authlib<2.0.0,>=1.2.1->weaviate-client~=4.6.5->tempo_embeddings==0.0.1) (43.0.1)\n",
      "Requirement already satisfied: pyproject_hooks in /Users/carstenschnober/Documents/SemanticsOfSustainability/workspace/tempo-embeddings/.venv/lib/python3.11/site-packages (from build>=1.0.3->chromadb~=0.5.18->tempo_embeddings==0.0.1) (1.2.0)\n",
      "Requirement already satisfied: starlette<0.41.0,>=0.37.2 in /Users/carstenschnober/Documents/SemanticsOfSustainability/workspace/tempo-embeddings/.venv/lib/python3.11/site-packages (from fastapi>=0.95.2->chromadb~=0.5.18->tempo_embeddings==0.0.1) (0.40.0)\n",
      "Requirement already satisfied: itsdangerous>=2.0 in /Users/carstenschnober/Documents/SemanticsOfSustainability/workspace/tempo-embeddings/.venv/lib/python3.11/site-packages (from Flask<2.3.0,>=1.0.4->dash~=2.11.1->tempo_embeddings==0.0.1) (2.2.0)\n",
      "Requirement already satisfied: setuptools in /Users/carstenschnober/Documents/SemanticsOfSustainability/workspace/tempo-embeddings/.venv/lib/python3.11/site-packages (from grpcio-tools<2.0.0,>=1.57.0->weaviate-client~=4.6.5->tempo_embeddings==0.0.1) (65.5.0)\n",
      "Requirement already satisfied: anyio in /Users/carstenschnober/Documents/SemanticsOfSustainability/workspace/tempo-embeddings/.venv/lib/python3.11/site-packages (from httpx>=0.27.0->chromadb~=0.5.18->tempo_embeddings==0.0.1) (4.6.2.post1)\n",
      "Requirement already satisfied: certifi in /Users/carstenschnober/Documents/SemanticsOfSustainability/workspace/tempo-embeddings/.venv/lib/python3.11/site-packages (from httpx>=0.27.0->chromadb~=0.5.18->tempo_embeddings==0.0.1) (2024.8.30)\n",
      "Requirement already satisfied: httpcore==1.* in /Users/carstenschnober/Documents/SemanticsOfSustainability/workspace/tempo-embeddings/.venv/lib/python3.11/site-packages (from httpx>=0.27.0->chromadb~=0.5.18->tempo_embeddings==0.0.1) (1.0.6)\n",
      "Requirement already satisfied: idna in /Users/carstenschnober/Documents/SemanticsOfSustainability/workspace/tempo-embeddings/.venv/lib/python3.11/site-packages (from httpx>=0.27.0->chromadb~=0.5.18->tempo_embeddings==0.0.1) (3.10)\n",
      "Requirement already satisfied: sniffio in /Users/carstenschnober/Documents/SemanticsOfSustainability/workspace/tempo-embeddings/.venv/lib/python3.11/site-packages (from httpx>=0.27.0->chromadb~=0.5.18->tempo_embeddings==0.0.1) (1.3.1)\n",
      "Requirement already satisfied: h11<0.15,>=0.13 in /Users/carstenschnober/Documents/SemanticsOfSustainability/workspace/tempo-embeddings/.venv/lib/python3.11/site-packages (from httpcore==1.*->httpx>=0.27.0->chromadb~=0.5.18->tempo_embeddings==0.0.1) (0.14.0)\n",
      "Requirement already satisfied: comm>=0.1.3 in /Users/carstenschnober/Documents/SemanticsOfSustainability/workspace/tempo-embeddings/.venv/lib/python3.11/site-packages (from ipywidgets<9,>=7.6->jupyter-scatter~=0.19.0->tempo_embeddings==0.0.1) (0.2.2)\n",
      "Requirement already satisfied: traitlets>=4.3.1 in /Users/carstenschnober/Documents/SemanticsOfSustainability/workspace/tempo-embeddings/.venv/lib/python3.11/site-packages (from ipywidgets<9,>=7.6->jupyter-scatter~=0.19.0->tempo_embeddings==0.0.1) (5.14.3)\n",
      "Requirement already satisfied: widgetsnbextension~=4.0.12 in /Users/carstenschnober/Documents/SemanticsOfSustainability/workspace/tempo-embeddings/.venv/lib/python3.11/site-packages (from ipywidgets<9,>=7.6->jupyter-scatter~=0.19.0->tempo_embeddings==0.0.1) (4.0.13)\n",
      "Requirement already satisfied: jupyterlab-widgets~=3.0.12 in /Users/carstenschnober/Documents/SemanticsOfSustainability/workspace/tempo-embeddings/.venv/lib/python3.11/site-packages (from ipywidgets<9,>=7.6->jupyter-scatter~=0.19.0->tempo_embeddings==0.0.1) (3.0.13)\n",
      "Requirement already satisfied: decorator in /Users/carstenschnober/Documents/SemanticsOfSustainability/workspace/tempo-embeddings/.venv/lib/python3.11/site-packages (from ipython->jupyter-scatter~=0.19.0->tempo_embeddings==0.0.1) (5.1.1)\n",
      "Requirement already satisfied: jedi>=0.16 in /Users/carstenschnober/Documents/SemanticsOfSustainability/workspace/tempo-embeddings/.venv/lib/python3.11/site-packages (from ipython->jupyter-scatter~=0.19.0->tempo_embeddings==0.0.1) (0.19.1)\n",
      "Requirement already satisfied: matplotlib-inline in /Users/carstenschnober/Documents/SemanticsOfSustainability/workspace/tempo-embeddings/.venv/lib/python3.11/site-packages (from ipython->jupyter-scatter~=0.19.0->tempo_embeddings==0.0.1) (0.1.7)\n",
      "Requirement already satisfied: prompt-toolkit<3.1.0,>=3.0.41 in /Users/carstenschnober/Documents/SemanticsOfSustainability/workspace/tempo-embeddings/.venv/lib/python3.11/site-packages (from ipython->jupyter-scatter~=0.19.0->tempo_embeddings==0.0.1) (3.0.48)\n",
      "Requirement already satisfied: pygments>=2.4.0 in /Users/carstenschnober/Documents/SemanticsOfSustainability/workspace/tempo-embeddings/.venv/lib/python3.11/site-packages (from ipython->jupyter-scatter~=0.19.0->tempo_embeddings==0.0.1) (2.18.0)\n",
      "Requirement already satisfied: stack-data in /Users/carstenschnober/Documents/SemanticsOfSustainability/workspace/tempo-embeddings/.venv/lib/python3.11/site-packages (from ipython->jupyter-scatter~=0.19.0->tempo_embeddings==0.0.1) (0.6.3)\n",
      "Requirement already satisfied: pexpect>4.3 in /Users/carstenschnober/Documents/SemanticsOfSustainability/workspace/tempo-embeddings/.venv/lib/python3.11/site-packages (from ipython->jupyter-scatter~=0.19.0->tempo_embeddings==0.0.1) (4.9.0)\n",
      "Requirement already satisfied: MarkupSafe>=2.0 in /Users/carstenschnober/Documents/SemanticsOfSustainability/workspace/tempo-embeddings/.venv/lib/python3.11/site-packages (from Jinja2>=2.9->bokeh~=3.3.2->tempo_embeddings==0.0.1) (3.0.1)\n",
      "Requirement already satisfied: google-auth>=1.0.1 in /Users/carstenschnober/Documents/SemanticsOfSustainability/workspace/tempo-embeddings/.venv/lib/python3.11/site-packages (from kubernetes>=28.1.0->chromadb~=0.5.18->tempo_embeddings==0.0.1) (2.35.0)\n",
      "Requirement already satisfied: websocket-client!=0.40.0,!=0.41.*,!=0.42.*,>=0.32.0 in /Users/carstenschnober/Documents/SemanticsOfSustainability/workspace/tempo-embeddings/.venv/lib/python3.11/site-packages (from kubernetes>=28.1.0->chromadb~=0.5.18->tempo_embeddings==0.0.1) (1.8.0)\n",
      "Requirement already satisfied: requests-oauthlib in /Users/carstenschnober/Documents/SemanticsOfSustainability/workspace/tempo-embeddings/.venv/lib/python3.11/site-packages (from kubernetes>=28.1.0->chromadb~=0.5.18->tempo_embeddings==0.0.1) (2.0.0)\n",
      "Requirement already satisfied: oauthlib>=3.2.2 in /Users/carstenschnober/Documents/SemanticsOfSustainability/workspace/tempo-embeddings/.venv/lib/python3.11/site-packages (from kubernetes>=28.1.0->chromadb~=0.5.18->tempo_embeddings==0.0.1) (3.2.2)\n",
      "Requirement already satisfied: urllib3>=1.24.2 in /Users/carstenschnober/Documents/SemanticsOfSustainability/workspace/tempo-embeddings/.venv/lib/python3.11/site-packages (from kubernetes>=28.1.0->chromadb~=0.5.18->tempo_embeddings==0.0.1) (2.2.3)\n",
      "Requirement already satisfied: durationpy>=0.7 in /Users/carstenschnober/Documents/SemanticsOfSustainability/workspace/tempo-embeddings/.venv/lib/python3.11/site-packages (from kubernetes>=28.1.0->chromadb~=0.5.18->tempo_embeddings==0.0.1) (0.9)\n",
      "Requirement already satisfied: cycler>=0.10 in /Users/carstenschnober/Documents/SemanticsOfSustainability/workspace/tempo-embeddings/.venv/lib/python3.11/site-packages (from matplotlib->jupyter-scatter~=0.19.0->tempo_embeddings==0.0.1) (0.12.1)\n",
      "Requirement already satisfied: fonttools>=4.22.0 in /Users/carstenschnober/Documents/SemanticsOfSustainability/workspace/tempo-embeddings/.venv/lib/python3.11/site-packages (from matplotlib->jupyter-scatter~=0.19.0->tempo_embeddings==0.0.1) (4.54.1)\n",
      "Requirement already satisfied: kiwisolver>=1.3.1 in /Users/carstenschnober/Documents/SemanticsOfSustainability/workspace/tempo-embeddings/.venv/lib/python3.11/site-packages (from matplotlib->jupyter-scatter~=0.19.0->tempo_embeddings==0.0.1) (1.4.7)\n",
      "Requirement already satisfied: pyparsing>=2.3.1 in /Users/carstenschnober/Documents/SemanticsOfSustainability/workspace/tempo-embeddings/.venv/lib/python3.11/site-packages (from matplotlib->jupyter-scatter~=0.19.0->tempo_embeddings==0.0.1) (3.2.0)\n",
      "Requirement already satisfied: llvmlite<0.44,>=0.43.0dev0 in /Users/carstenschnober/Documents/SemanticsOfSustainability/workspace/tempo-embeddings/.venv/lib/python3.11/site-packages (from numba>=0.51.2->umap-learn~=0.5.4->tempo_embeddings==0.0.1) (0.43.0)\n",
      "Requirement already satisfied: coloredlogs in /Users/carstenschnober/Documents/SemanticsOfSustainability/workspace/tempo-embeddings/.venv/lib/python3.11/site-packages (from onnxruntime>=1.14.1->chromadb~=0.5.18->tempo_embeddings==0.0.1) (15.0.1)\n",
      "Requirement already satisfied: flatbuffers in /Users/carstenschnober/Documents/SemanticsOfSustainability/workspace/tempo-embeddings/.venv/lib/python3.11/site-packages (from onnxruntime>=1.14.1->chromadb~=0.5.18->tempo_embeddings==0.0.1) (24.3.25)\n",
      "Requirement already satisfied: deprecated>=1.2.6 in /Users/carstenschnober/Documents/SemanticsOfSustainability/workspace/tempo-embeddings/.venv/lib/python3.11/site-packages (from opentelemetry-api>=1.2.0->chromadb~=0.5.18->tempo_embeddings==0.0.1) (1.2.14)\n",
      "Requirement already satisfied: importlib-metadata<=8.4.0,>=6.0 in /Users/carstenschnober/Documents/SemanticsOfSustainability/workspace/tempo-embeddings/.venv/lib/python3.11/site-packages (from opentelemetry-api>=1.2.0->chromadb~=0.5.18->tempo_embeddings==0.0.1) (8.4.0)\n",
      "Requirement already satisfied: googleapis-common-protos~=1.52 in /Users/carstenschnober/Documents/SemanticsOfSustainability/workspace/tempo-embeddings/.venv/lib/python3.11/site-packages (from opentelemetry-exporter-otlp-proto-grpc>=1.2.0->chromadb~=0.5.18->tempo_embeddings==0.0.1) (1.65.0)\n",
      "Requirement already satisfied: opentelemetry-proto==1.11.1 in /Users/carstenschnober/Documents/SemanticsOfSustainability/workspace/tempo-embeddings/.venv/lib/python3.11/site-packages (from opentelemetry-exporter-otlp-proto-grpc>=1.2.0->chromadb~=0.5.18->tempo_embeddings==0.0.1) (1.11.1)\n",
      "Requirement already satisfied: backoff<2.0.0,>=1.10.0 in /Users/carstenschnober/Documents/SemanticsOfSustainability/workspace/tempo-embeddings/.venv/lib/python3.11/site-packages (from opentelemetry-exporter-otlp-proto-grpc>=1.2.0->chromadb~=0.5.18->tempo_embeddings==0.0.1) (1.11.1)\n",
      "Requirement already satisfied: opentelemetry-instrumentation-asgi==0.48b0 in /Users/carstenschnober/Documents/SemanticsOfSustainability/workspace/tempo-embeddings/.venv/lib/python3.11/site-packages (from opentelemetry-instrumentation-fastapi>=0.41b0->chromadb~=0.5.18->tempo_embeddings==0.0.1) (0.48b0)\n",
      "Requirement already satisfied: opentelemetry-instrumentation==0.48b0 in /Users/carstenschnober/Documents/SemanticsOfSustainability/workspace/tempo-embeddings/.venv/lib/python3.11/site-packages (from opentelemetry-instrumentation-fastapi>=0.41b0->chromadb~=0.5.18->tempo_embeddings==0.0.1) (0.48b0)\n",
      "Requirement already satisfied: opentelemetry-semantic-conventions==0.48b0 in /Users/carstenschnober/Documents/SemanticsOfSustainability/workspace/tempo-embeddings/.venv/lib/python3.11/site-packages (from opentelemetry-instrumentation-fastapi>=0.41b0->chromadb~=0.5.18->tempo_embeddings==0.0.1) (0.48b0)\n",
      "Requirement already satisfied: opentelemetry-util-http==0.48b0 in /Users/carstenschnober/Documents/SemanticsOfSustainability/workspace/tempo-embeddings/.venv/lib/python3.11/site-packages (from opentelemetry-instrumentation-fastapi>=0.41b0->chromadb~=0.5.18->tempo_embeddings==0.0.1) (0.48b0)\n",
      "Requirement already satisfied: wrapt<2.0.0,>=1.0.0 in /Users/carstenschnober/Documents/SemanticsOfSustainability/workspace/tempo-embeddings/.venv/lib/python3.11/site-packages (from opentelemetry-instrumentation==0.48b0->opentelemetry-instrumentation-fastapi>=0.41b0->chromadb~=0.5.18->tempo_embeddings==0.0.1) (1.16.0)\n",
      "Requirement already satisfied: asgiref~=3.0 in /Users/carstenschnober/Documents/SemanticsOfSustainability/workspace/tempo-embeddings/.venv/lib/python3.11/site-packages (from opentelemetry-instrumentation-asgi==0.48b0->opentelemetry-instrumentation-fastapi>=0.41b0->chromadb~=0.5.18->tempo_embeddings==0.0.1) (3.8.1)\n",
      "Requirement already satisfied: markdown in /Users/carstenschnober/Documents/SemanticsOfSustainability/workspace/tempo-embeddings/.venv/lib/python3.11/site-packages (from panel>=1.0->holoviews->tempo_embeddings==0.0.1) (3.7)\n",
      "Requirement already satisfied: markdown-it-py in /Users/carstenschnober/Documents/SemanticsOfSustainability/workspace/tempo-embeddings/.venv/lib/python3.11/site-packages (from panel>=1.0->holoviews->tempo_embeddings==0.0.1) (3.0.0)\n",
      "Requirement already satisfied: linkify-it-py in /Users/carstenschnober/Documents/SemanticsOfSustainability/workspace/tempo-embeddings/.venv/lib/python3.11/site-packages (from panel>=1.0->holoviews->tempo_embeddings==0.0.1) (2.0.3)\n",
      "Requirement already satisfied: mdit-py-plugins in /Users/carstenschnober/Documents/SemanticsOfSustainability/workspace/tempo-embeddings/.venv/lib/python3.11/site-packages (from panel>=1.0->holoviews->tempo_embeddings==0.0.1) (0.4.2)\n",
      "Requirement already satisfied: bleach in /Users/carstenschnober/Documents/SemanticsOfSustainability/workspace/tempo-embeddings/.venv/lib/python3.11/site-packages (from panel>=1.0->holoviews->tempo_embeddings==0.0.1) (6.1.0)\n",
      "Requirement already satisfied: monotonic>=1.5 in /Users/carstenschnober/Documents/SemanticsOfSustainability/workspace/tempo-embeddings/.venv/lib/python3.11/site-packages (from posthog>=2.4.0->chromadb~=0.5.18->tempo_embeddings==0.0.1) (1.6)\n",
      "Requirement already satisfied: charset-normalizer<4,>=2 in /Users/carstenschnober/Documents/SemanticsOfSustainability/workspace/tempo-embeddings/.venv/lib/python3.11/site-packages (from requests->dash~=2.11.1->tempo_embeddings==0.0.1) (3.4.0)\n",
      "Requirement already satisfied: shellingham>=1.3.0 in /Users/carstenschnober/Documents/SemanticsOfSustainability/workspace/tempo-embeddings/.venv/lib/python3.11/site-packages (from typer>=0.9.0->chromadb~=0.5.18->tempo_embeddings==0.0.1) (1.5.4)\n",
      "Requirement already satisfied: httptools>=0.5.0 in /Users/carstenschnober/Documents/SemanticsOfSustainability/workspace/tempo-embeddings/.venv/lib/python3.11/site-packages (from uvicorn[standard]>=0.18.3->chromadb~=0.5.18->tempo_embeddings==0.0.1) (0.6.4)\n",
      "Requirement already satisfied: python-dotenv>=0.13 in /Users/carstenschnober/Documents/SemanticsOfSustainability/workspace/tempo-embeddings/.venv/lib/python3.11/site-packages (from uvicorn[standard]>=0.18.3->chromadb~=0.5.18->tempo_embeddings==0.0.1) (1.0.1)\n",
      "Requirement already satisfied: uvloop!=0.15.0,!=0.15.1,>=0.14.0 in /Users/carstenschnober/Documents/SemanticsOfSustainability/workspace/tempo-embeddings/.venv/lib/python3.11/site-packages (from uvicorn[standard]>=0.18.3->chromadb~=0.5.18->tempo_embeddings==0.0.1) (0.21.0)\n",
      "Requirement already satisfied: watchfiles>=0.13 in /Users/carstenschnober/Documents/SemanticsOfSustainability/workspace/tempo-embeddings/.venv/lib/python3.11/site-packages (from uvicorn[standard]>=0.18.3->chromadb~=0.5.18->tempo_embeddings==0.0.1) (0.24.0)\n",
      "Requirement already satisfied: websockets>=10.4 in /Users/carstenschnober/Documents/SemanticsOfSustainability/workspace/tempo-embeddings/.venv/lib/python3.11/site-packages (from uvicorn[standard]>=0.18.3->chromadb~=0.5.18->tempo_embeddings==0.0.1) (13.1)\n",
      "Requirement already satisfied: cloudpickle>=3.0.0 in /Users/carstenschnober/Documents/SemanticsOfSustainability/workspace/tempo-embeddings/.venv/lib/python3.11/site-packages (from dask->datashader->tempo_embeddings==0.0.1) (3.1.0)\n",
      "Requirement already satisfied: partd>=1.4.0 in /Users/carstenschnober/Documents/SemanticsOfSustainability/workspace/tempo-embeddings/.venv/lib/python3.11/site-packages (from dask->datashader->tempo_embeddings==0.0.1) (1.4.2)\n",
      "Requirement already satisfied: docopt in /Users/carstenschnober/Documents/SemanticsOfSustainability/workspace/tempo-embeddings/.venv/lib/python3.11/site-packages (from mosestokenizer->wtpsplit~=2.0.5->tempo_embeddings==0.0.1) (0.6.2)\n",
      "Requirement already satisfied: openfile in /Users/carstenschnober/Documents/SemanticsOfSustainability/workspace/tempo-embeddings/.venv/lib/python3.11/site-packages (from mosestokenizer->wtpsplit~=2.0.5->tempo_embeddings==0.0.1) (0.0.7)\n",
      "Requirement already satisfied: uctools in /Users/carstenschnober/Documents/SemanticsOfSustainability/workspace/tempo-embeddings/.venv/lib/python3.11/site-packages (from mosestokenizer->wtpsplit~=2.0.5->tempo_embeddings==0.0.1) (1.3.0)\n",
      "Requirement already satisfied: toolwrapper in /Users/carstenschnober/Documents/SemanticsOfSustainability/workspace/tempo-embeddings/.venv/lib/python3.11/site-packages (from mosestokenizer->wtpsplit~=2.0.5->tempo_embeddings==0.0.1) (2.1.0)\n",
      "Requirement already satisfied: tabulate>=0.8.8 in /Users/carstenschnober/Documents/SemanticsOfSustainability/workspace/tempo-embeddings/.venv/lib/python3.11/site-packages (from skops->wtpsplit~=2.0.5->tempo_embeddings==0.0.1) (0.9.0)\n",
      "Requirement already satisfied: cachetools<6.0,>=2.0.0 in /Users/carstenschnober/Documents/SemanticsOfSustainability/workspace/tempo-embeddings/.venv/lib/python3.11/site-packages (from google-auth>=1.0.1->kubernetes>=28.1.0->chromadb~=0.5.18->tempo_embeddings==0.0.1) (5.5.0)\n",
      "Requirement already satisfied: pyasn1-modules>=0.2.1 in /Users/carstenschnober/Documents/SemanticsOfSustainability/workspace/tempo-embeddings/.venv/lib/python3.11/site-packages (from google-auth>=1.0.1->kubernetes>=28.1.0->chromadb~=0.5.18->tempo_embeddings==0.0.1) (0.4.1)\n",
      "Requirement already satisfied: rsa<5,>=3.1.4 in /Users/carstenschnober/Documents/SemanticsOfSustainability/workspace/tempo-embeddings/.venv/lib/python3.11/site-packages (from google-auth>=1.0.1->kubernetes>=28.1.0->chromadb~=0.5.18->tempo_embeddings==0.0.1) (4.9)\n",
      "Requirement already satisfied: zipp>=0.5 in /Users/carstenschnober/Documents/SemanticsOfSustainability/workspace/tempo-embeddings/.venv/lib/python3.11/site-packages (from importlib-metadata<=8.4.0,>=6.0->opentelemetry-api>=1.2.0->chromadb~=0.5.18->tempo_embeddings==0.0.1) (3.20.2)\n",
      "Requirement already satisfied: parso<0.9.0,>=0.8.3 in /Users/carstenschnober/Documents/SemanticsOfSustainability/workspace/tempo-embeddings/.venv/lib/python3.11/site-packages (from jedi>=0.16->ipython->jupyter-scatter~=0.19.0->tempo_embeddings==0.0.1) (0.8.4)\n",
      "Requirement already satisfied: mdurl~=0.1 in /Users/carstenschnober/Documents/SemanticsOfSustainability/workspace/tempo-embeddings/.venv/lib/python3.11/site-packages (from markdown-it-py->panel>=1.0->holoviews->tempo_embeddings==0.0.1) (0.1.2)\n",
      "Requirement already satisfied: locket in /Users/carstenschnober/Documents/SemanticsOfSustainability/workspace/tempo-embeddings/.venv/lib/python3.11/site-packages (from partd>=1.4.0->dask->datashader->tempo_embeddings==0.0.1) (1.0.0)\n",
      "Requirement already satisfied: ptyprocess>=0.5 in /Users/carstenschnober/Documents/SemanticsOfSustainability/workspace/tempo-embeddings/.venv/lib/python3.11/site-packages (from pexpect>4.3->ipython->jupyter-scatter~=0.19.0->tempo_embeddings==0.0.1) (0.7.0)\n",
      "Requirement already satisfied: wcwidth in /Users/carstenschnober/Documents/SemanticsOfSustainability/workspace/tempo-embeddings/.venv/lib/python3.11/site-packages (from prompt-toolkit<3.1.0,>=3.0.41->ipython->jupyter-scatter~=0.19.0->tempo_embeddings==0.0.1) (0.2.13)\n",
      "Requirement already satisfied: webencodings in /Users/carstenschnober/Documents/SemanticsOfSustainability/workspace/tempo-embeddings/.venv/lib/python3.11/site-packages (from bleach->panel>=1.0->holoviews->tempo_embeddings==0.0.1) (0.5.1)\n",
      "Requirement already satisfied: humanfriendly>=9.1 in /Users/carstenschnober/Documents/SemanticsOfSustainability/workspace/tempo-embeddings/.venv/lib/python3.11/site-packages (from coloredlogs->onnxruntime>=1.14.1->chromadb~=0.5.18->tempo_embeddings==0.0.1) (10.0)\n",
      "Requirement already satisfied: cffi>=1.12 in /Users/carstenschnober/Documents/SemanticsOfSustainability/workspace/tempo-embeddings/.venv/lib/python3.11/site-packages (from cryptography->authlib<2.0.0,>=1.2.1->weaviate-client~=4.6.5->tempo_embeddings==0.0.1) (1.17.1)\n",
      "Requirement already satisfied: uc-micro-py in /Users/carstenschnober/Documents/SemanticsOfSustainability/workspace/tempo-embeddings/.venv/lib/python3.11/site-packages (from linkify-it-py->panel>=1.0->holoviews->tempo_embeddings==0.0.1) (1.0.3)\n",
      "Requirement already satisfied: executing>=1.2.0 in /Users/carstenschnober/Documents/SemanticsOfSustainability/workspace/tempo-embeddings/.venv/lib/python3.11/site-packages (from stack-data->ipython->jupyter-scatter~=0.19.0->tempo_embeddings==0.0.1) (2.1.0)\n",
      "Requirement already satisfied: asttokens>=2.1.0 in /Users/carstenschnober/Documents/SemanticsOfSustainability/workspace/tempo-embeddings/.venv/lib/python3.11/site-packages (from stack-data->ipython->jupyter-scatter~=0.19.0->tempo_embeddings==0.0.1) (2.4.1)\n",
      "Requirement already satisfied: pure-eval in /Users/carstenschnober/Documents/SemanticsOfSustainability/workspace/tempo-embeddings/.venv/lib/python3.11/site-packages (from stack-data->ipython->jupyter-scatter~=0.19.0->tempo_embeddings==0.0.1) (0.2.3)\n",
      "Requirement already satisfied: pycparser in /Users/carstenschnober/Documents/SemanticsOfSustainability/workspace/tempo-embeddings/.venv/lib/python3.11/site-packages (from cffi>=1.12->cryptography->authlib<2.0.0,>=1.2.1->weaviate-client~=4.6.5->tempo_embeddings==0.0.1) (2.22)\n",
      "Requirement already satisfied: pyasn1<0.7.0,>=0.4.6 in /Users/carstenschnober/Documents/SemanticsOfSustainability/workspace/tempo-embeddings/.venv/lib/python3.11/site-packages (from pyasn1-modules>=0.2.1->google-auth>=1.0.1->kubernetes>=28.1.0->chromadb~=0.5.18->tempo_embeddings==0.0.1) (0.6.1)\n",
      "Building wheels for collected packages: tempo_embeddings\n",
      "  Building editable for tempo_embeddings (pyproject.toml) ... \u001b[?25ldone\n",
      "\u001b[?25h  Created wheel for tempo_embeddings: filename=tempo_embeddings-0.0.1-0.editable-py3-none-any.whl size=9831 sha256=8919ea9668fef130b1ee16bfb4bf451748cfee31df52ebfc88819968e54a5199\n",
      "  Stored in directory: /private/var/folders/d8/j5_fyf8941j_492zvf8948y40000gn/T/pip-ephem-wheel-cache-_wg3di8g/wheels/9d/dd/1c/d0e8ab6bde11a84556c00bd645333aaad0b90e2c38e11b0ed1\n",
      "Successfully built tempo_embeddings\n",
      "Installing collected packages: tempo_embeddings\n",
      "Successfully installed tempo_embeddings-0.0.1\n",
      "Note: you may need to restart the kernel to use updated packages.\n"
     ]
    }
   ],
   "source": [
    "%pip uninstall -y tempo_embeddings\n",
    "%pip install -e .."
   ]
  },
  {
   "cell_type": "code",
   "execution_count": 125,
   "metadata": {},
   "outputs": [
    {
     "name": "stdout",
     "output_type": "stream",
     "text": [
      "Requirement already satisfied: ipywidgets in /Users/carstenschnober/Documents/SemanticsOfSustainability/workspace/tempo-embeddings/.venv/lib/python3.11/site-packages (8.1.5)\n",
      "Requirement already satisfied: comm>=0.1.3 in /Users/carstenschnober/Documents/SemanticsOfSustainability/workspace/tempo-embeddings/.venv/lib/python3.11/site-packages (from ipywidgets) (0.2.2)\n",
      "Requirement already satisfied: ipython>=6.1.0 in /Users/carstenschnober/Documents/SemanticsOfSustainability/workspace/tempo-embeddings/.venv/lib/python3.11/site-packages (from ipywidgets) (8.28.0)\n",
      "Requirement already satisfied: traitlets>=4.3.1 in /Users/carstenschnober/Documents/SemanticsOfSustainability/workspace/tempo-embeddings/.venv/lib/python3.11/site-packages (from ipywidgets) (5.14.3)\n",
      "Requirement already satisfied: widgetsnbextension~=4.0.12 in /Users/carstenschnober/Documents/SemanticsOfSustainability/workspace/tempo-embeddings/.venv/lib/python3.11/site-packages (from ipywidgets) (4.0.13)\n",
      "Requirement already satisfied: jupyterlab-widgets~=3.0.12 in /Users/carstenschnober/Documents/SemanticsOfSustainability/workspace/tempo-embeddings/.venv/lib/python3.11/site-packages (from ipywidgets) (3.0.13)\n",
      "Requirement already satisfied: decorator in /Users/carstenschnober/Documents/SemanticsOfSustainability/workspace/tempo-embeddings/.venv/lib/python3.11/site-packages (from ipython>=6.1.0->ipywidgets) (5.1.1)\n",
      "Requirement already satisfied: jedi>=0.16 in /Users/carstenschnober/Documents/SemanticsOfSustainability/workspace/tempo-embeddings/.venv/lib/python3.11/site-packages (from ipython>=6.1.0->ipywidgets) (0.19.1)\n",
      "Requirement already satisfied: matplotlib-inline in /Users/carstenschnober/Documents/SemanticsOfSustainability/workspace/tempo-embeddings/.venv/lib/python3.11/site-packages (from ipython>=6.1.0->ipywidgets) (0.1.7)\n",
      "Requirement already satisfied: prompt-toolkit<3.1.0,>=3.0.41 in /Users/carstenschnober/Documents/SemanticsOfSustainability/workspace/tempo-embeddings/.venv/lib/python3.11/site-packages (from ipython>=6.1.0->ipywidgets) (3.0.48)\n",
      "Requirement already satisfied: pygments>=2.4.0 in /Users/carstenschnober/Documents/SemanticsOfSustainability/workspace/tempo-embeddings/.venv/lib/python3.11/site-packages (from ipython>=6.1.0->ipywidgets) (2.18.0)\n",
      "Requirement already satisfied: stack-data in /Users/carstenschnober/Documents/SemanticsOfSustainability/workspace/tempo-embeddings/.venv/lib/python3.11/site-packages (from ipython>=6.1.0->ipywidgets) (0.6.3)\n",
      "Requirement already satisfied: typing-extensions>=4.6 in /Users/carstenschnober/Documents/SemanticsOfSustainability/workspace/tempo-embeddings/.venv/lib/python3.11/site-packages (from ipython>=6.1.0->ipywidgets) (4.12.2)\n",
      "Requirement already satisfied: pexpect>4.3 in /Users/carstenschnober/Documents/SemanticsOfSustainability/workspace/tempo-embeddings/.venv/lib/python3.11/site-packages (from ipython>=6.1.0->ipywidgets) (4.9.0)\n",
      "Requirement already satisfied: parso<0.9.0,>=0.8.3 in /Users/carstenschnober/Documents/SemanticsOfSustainability/workspace/tempo-embeddings/.venv/lib/python3.11/site-packages (from jedi>=0.16->ipython>=6.1.0->ipywidgets) (0.8.4)\n",
      "Requirement already satisfied: ptyprocess>=0.5 in /Users/carstenschnober/Documents/SemanticsOfSustainability/workspace/tempo-embeddings/.venv/lib/python3.11/site-packages (from pexpect>4.3->ipython>=6.1.0->ipywidgets) (0.7.0)\n",
      "Requirement already satisfied: wcwidth in /Users/carstenschnober/Documents/SemanticsOfSustainability/workspace/tempo-embeddings/.venv/lib/python3.11/site-packages (from prompt-toolkit<3.1.0,>=3.0.41->ipython>=6.1.0->ipywidgets) (0.2.13)\n",
      "Requirement already satisfied: executing>=1.2.0 in /Users/carstenschnober/Documents/SemanticsOfSustainability/workspace/tempo-embeddings/.venv/lib/python3.11/site-packages (from stack-data->ipython>=6.1.0->ipywidgets) (2.1.0)\n",
      "Requirement already satisfied: asttokens>=2.1.0 in /Users/carstenschnober/Documents/SemanticsOfSustainability/workspace/tempo-embeddings/.venv/lib/python3.11/site-packages (from stack-data->ipython>=6.1.0->ipywidgets) (2.4.1)\n",
      "Requirement already satisfied: pure-eval in /Users/carstenschnober/Documents/SemanticsOfSustainability/workspace/tempo-embeddings/.venv/lib/python3.11/site-packages (from stack-data->ipython>=6.1.0->ipywidgets) (0.2.3)\n",
      "Requirement already satisfied: six>=1.12.0 in /Users/carstenschnober/Documents/SemanticsOfSustainability/workspace/tempo-embeddings/.venv/lib/python3.11/site-packages (from asttokens>=2.1.0->stack-data->ipython>=6.1.0->ipywidgets) (1.16.0)\n",
      "Note: you may need to restart the kernel to use updated packages.\n"
     ]
    }
   ],
   "source": [
    "%pip install ipywidgets"
   ]
  },
  {
   "cell_type": "markdown",
   "metadata": {},
   "source": [
    "# Initialize Database\n",
    "\n",
    "This part of the notebook makes the initial connection to the database"
   ]
  },
  {
   "cell_type": "code",
   "execution_count": 126,
   "metadata": {},
   "outputs": [
    {
     "data": {
      "application/vnd.jupyter.widget-view+json": {
       "model_id": "9ac65995a833489893f19d6d79a2539a",
       "version_major": 2,
       "version_minor": 0
      },
      "text/plain": [
       "Dropdown(description='DB Server:', options=(('UU', ('semantics-of-sustainability.hum.uu.nl', 443, True)), ('Re…"
      ]
     },
     "execution_count": 126,
     "metadata": {},
     "output_type": "execute_result"
    }
   ],
   "source": [
    "from ipywidgets import widgets\n",
    "\n",
    "from tempo_embeddings.settings import WEAVIATE_SERVERS\n",
    "\n",
    "default_host = WEAVIATE_SERVERS[0][1]\n",
    "\n",
    "host_selector = widgets.Dropdown(\n",
    "    options=WEAVIATE_SERVERS, value=default_host, description=\"DB Server:\"\n",
    ")\n",
    "host_selector"
   ]
  },
  {
   "cell_type": "code",
   "execution_count": 127,
   "metadata": {},
   "outputs": [
    {
     "data": {
      "application/vnd.jupyter.widget-view+json": {
       "model_id": "fdb491844f8d479bb796a1da7c6963d9",
       "version_major": 2,
       "version_minor": 0
      },
      "text/plain": [
       "Password(description='Weaviate API Key')"
      ]
     },
     "execution_count": 127,
     "metadata": {},
     "output_type": "execute_result"
    }
   ],
   "source": [
    "from tempo_embeddings import settings\n",
    "\n",
    "weaviate_api_key = widgets.Password(\n",
    "    description=\"Weaviate API Key\", value=settings.WEAVIATE_API_KEY or \"\"\n",
    ")\n",
    "weaviate_api_key"
   ]
  },
  {
   "cell_type": "code",
   "execution_count": 128,
   "metadata": {},
   "outputs": [
    {
     "name": "stderr",
     "output_type": "stream",
     "text": [
      "/Users/carstenschnober/Documents/SemanticsOfSustainability/workspace/tempo-embeddings/.venv/lib/python3.11/site-packages/weaviate/warnings.py:133: DeprecationWarning:\n",
      "\n",
      "Dep005: You are using weaviate-client version 4.6.7. The latest version is 4.10.2.\n",
      "            Consider upgrading to the latest version. See https://weaviate.io/developers/weaviate/client-libraries/python for details.\n",
      "\n"
     ]
    }
   ],
   "source": [
    "from tempo_embeddings.embeddings.weaviate_database import WeaviateDatabaseManager\n",
    "from tempo_embeddings.settings import DEFAULT_LANGUAGE_MODEL\n",
    "\n",
    "host, port, secure = host_selector.value\n",
    "\n",
    "db = WeaviateDatabaseManager.from_args(\n",
    "    model_name=DEFAULT_LANGUAGE_MODEL,\n",
    "    http_host=host,\n",
    "    http_port=port,\n",
    "    http_secure=secure,\n",
    "    api_key=weaviate_api_key.value,\n",
    ")"
   ]
  },
  {
   "cell_type": "markdown",
   "metadata": {},
   "source": [
    "# Search\n",
    "\n",
    "The `Search` part of the notebook defines the initial corpus to work with.\n",
    "\n",
    "It defines one or multiple corpora, and a search term. Only documents from the selected corpora that contain the search term(s) are part of the initial corpus.\n",
    "\n",
    "Furthermore, documents can be excluded through their metadata, for instance if their `genre` field has the value `advertentie`."
   ]
  },
  {
   "cell_type": "code",
   "execution_count": 129,
   "metadata": {},
   "outputs": [
    {
     "data": {
      "application/vnd.jupyter.widget-view+json": {
       "model_id": "e6d4b44b3b86488fb217c80ddf742e6c",
       "version_major": 2,
       "version_minor": 0
      },
      "text/plain": [
       "SelectMultiple(description='Choose one or multiple collections:', index=(3,), layout=Layout(width='max-content…"
      ]
     },
     "execution_count": 129,
     "metadata": {},
     "output_type": "execute_result"
    }
   ],
   "source": [
    "from ipywidgets import widgets\n",
    "\n",
    "corpora = sorted(db.get_available_collections())\n",
    "\n",
    "collection_selector = widgets.SelectMultiple(\n",
    "    options=corpora,\n",
    "    value=[\"PeopleAndParliament\"],\n",
    "    description=\"Choose one or multiple collections:\",\n",
    "    disabled=False,\n",
    "    layout={\"width\": \"max-content\"},\n",
    "    rows=len(corpora),\n",
    ")\n",
    "collection_selector"
   ]
  },
  {
   "cell_type": "code",
   "execution_count": 130,
   "metadata": {},
   "outputs": [
    {
     "data": {
      "application/vnd.jupyter.widget-view+json": {
       "model_id": "e3282ca4c3bd44279eb2fce863b3ced2",
       "version_major": 2,
       "version_minor": 0
      },
      "text/plain": [
       "VBox(children=(Text(value='duurzaam', description='Search Term:'), Text(value='milieu', description='Search Te…"
      ]
     },
     "execution_count": 130,
     "metadata": {},
     "output_type": "execute_result"
    }
   ],
   "source": [
    "text_widgets = [\n",
    "    widgets.Text(description=\"Search Term:\", value=\"duurzaam\"),\n",
    "    widgets.Text(\n",
    "        description=\"Search Term:\", value=\"milieu\", placeholder=\"Enter a term\"\n",
    "    ),\n",
    "    widgets.Text(description=\"Search Term:\", placeholder=\"Enter a term\"),\n",
    "    widgets.Text(description=\"Search Term:\", placeholder=\"Enter a term\"),\n",
    "    widgets.Text(description=\"Search Term:\", placeholder=\"Enter a term\"),\n",
    "]\n",
    "\n",
    "widgets.VBox(text_widgets)"
   ]
  },
  {
   "cell_type": "markdown",
   "metadata": {},
   "source": [
    "# Plot Frequencies\n",
    "\n",
    "This section gives an overview over de relative frequency of the search term(s) defined above.\n",
    "\n",
    "Note: dependending on the number and size of selected corpora, this may take very long -- and possibly time out so that an error is thrown.\n",
    "You can either ignore this, or wait a short while and retry until the server has finished processing the request."
   ]
  },
  {
   "cell_type": "code",
   "execution_count": 131,
   "metadata": {},
   "outputs": [
    {
     "data": {
      "image/png": "[encoded data removed]",
      "text/plain": [
       "<Figure size 600x400 with 1 Axes>"
      ]
     },
     "metadata": {},
     "output_type": "display_data"
    }
   ],
   "source": [
    "import matplotlib.pyplot as plt\n",
    "\n",
    "search_terms: list[str] = [\n",
    "    widget.value.strip() for widget in text_widgets if widget.value\n",
    "]\n",
    "if not search_terms:\n",
    "    raise RuntimeError(\"No seach terms provided.\")\n",
    "\n",
    "fig, axs = plt.subplots(\n",
    "    len(collection_selector.value),\n",
    "    sharey=True,\n",
    "    figsize=(3 * len(search_terms), 4 * len(collection_selector.value)),\n",
    ")\n",
    "plt.subplots_adjust(hspace=0.5)  # Increase the height space between subplots\n",
    "\n",
    "if len(collection_selector.value) == 1:\n",
    "    axs = [axs]\n",
    "\n",
    "\n",
    "for ax, collection in zip(axs, collection_selector.value):\n",
    "    total_count = db.doc_frequency(\"\", collection)\n",
    "\n",
    "    ax.set_title(f\"Matching Passages in '{collection}'\")\n",
    "    ax.set_ylabel(\"Matching Passages\")\n",
    "\n",
    "    term_freqs = [db.doc_frequency(term, collection) for term in search_terms]\n",
    "\n",
    "    ax.bar(search_terms, term_freqs)"
   ]
  },
  {
   "cell_type": "markdown",
   "metadata": {},
   "source": [
    "## Frequencies Per Year\n",
    "\n",
    "This subsection further refines the corpus selection through selecting a range of year, and gives more frequency insights."
   ]
  },
  {
   "cell_type": "code",
   "execution_count": 132,
   "metadata": {},
   "outputs": [
    {
     "data": {
      "application/vnd.jupyter.widget-view+json": {
       "model_id": "81bef30192f94d20898e67bc4c3bd7ac",
       "version_major": 2,
       "version_minor": 0
      },
      "text/plain": [
       "SelectionRangeSlider(description='Years', index=(100, 174), options=('1850', '1851', '1852', '1853', '1854', '…"
      ]
     },
     "execution_count": 132,
     "metadata": {},
     "output_type": "execute_result"
    }
   ],
   "source": [
    "start = 1850\n",
    "end = 2024\n",
    "\n",
    "year_range = widgets.SelectionRangeSlider(\n",
    "    options=[str(i) for i in range(start, end + 1)],\n",
    "    index=(1950 - start, end - start),\n",
    "    description=\"Years\",\n",
    ")\n",
    "year_range"
   ]
  },
  {
   "cell_type": "code",
   "execution_count": 133,
   "metadata": {},
   "outputs": [
    {
     "name": "stderr",
     "output_type": "stream",
     "text": [
      "100%|██████████| 1/1 [00:06<00:00,  6.39s/collection]\n"
     ]
    }
   ],
   "source": [
    "import pandas as pd\n",
    "from tqdm import tqdm\n",
    "\n",
    "doc_freqs = pd.DataFrame(\n",
    "    columns=search_terms,\n",
    "    index=pd.MultiIndex.from_product(\n",
    "        (\n",
    "            collection_selector.value,\n",
    "            range(int(year_range.value[0]), int(year_range.value[1])),\n",
    "        ),\n",
    "        names=[\"collection\", \"year\"],\n",
    "    ),\n",
    ")\n",
    "\n",
    "for collection in tqdm(collection_selector.value, unit=\"collection\"):\n",
    "    for term in search_terms:\n",
    "        term_freqs = db.doc_frequencies_per_year(\n",
    "            term, collection, int(year_range.value[0]), int(year_range.value[1])\n",
    "        )\n",
    "        for year, freq in term_freqs.items():\n",
    "            doc_freqs.at[(collection, year), term] = freq"
   ]
  },
  {
   "cell_type": "code",
   "execution_count": 134,
   "metadata": {},
   "outputs": [
    {
     "data": {
      "text/plain": [
       "Index(['PeopleAndParliament'], dtype='object', name='collection')"
      ]
     },
     "execution_count": 134,
     "metadata": {},
     "output_type": "execute_result"
    }
   ],
   "source": [
    "doc_freqs.index.get_level_values(\"collection\").unique()"
   ]
  },
  {
   "cell_type": "code",
   "execution_count": 135,
   "metadata": {},
   "outputs": [
    {
     "data": {
      "image/png": "[encoded data removed]",
      "text/plain": [
       "<Figure size 2000x500 with 1 Axes>"
      ]
     },
     "metadata": {},
     "output_type": "display_data"
    }
   ],
   "source": [
    "window_size = 5\n",
    "\n",
    "for collection in doc_freqs.index.get_level_values(\"collection\").unique():\n",
    "    doc_freqs.loc[collection].rolling(window_size).mean().plot(\n",
    "        figsize=(20, 5),\n",
    "        title=f\"Frequency in '{collection} (Rolling Average over {window_size} years)\",\n",
    "        xlabel=\"Year\",\n",
    "        ylabel=\"Frequency\",\n",
    "    )"
   ]
  },
  {
   "cell_type": "markdown",
   "metadata": {},
   "source": [
    "# Create Corpus\n",
    "\n",
    "This section creates the actual corpus for in-depth analysis below."
   ]
  },
  {
   "cell_type": "code",
   "execution_count": 136,
   "metadata": {},
   "outputs": [],
   "source": [
    "corpora = [\n",
    "    db.get_corpus(\n",
    "        collection,\n",
    "        [term],\n",
    "        year_from=year_range.value[0],\n",
    "        year_to=year_range.value[1],\n",
    "        include_embeddings=True,\n",
    "        limit=5000,\n",
    "    )\n",
    "    for collection in collection_selector.value\n",
    "    for term in search_terms\n",
    "]"
   ]
  },
  {
   "cell_type": "markdown",
   "metadata": {},
   "source": [
    "## Expand Corpus with Close Passages\n",
    "\n",
    "This section expands the corpus created above by semantically close passages. The passages above have been selected through the search term(s), along with metadata and year range.\n",
    "\n",
    "Here, further passages are added by retrieving similar passages, regardless of the exact words.\n",
    "\n",
    "The `distance` indicates the relative proximity required for such added text passages."
   ]
  },
  {
   "cell_type": "code",
   "execution_count": 137,
   "metadata": {},
   "outputs": [
    {
     "data": {
      "application/vnd.jupyter.widget-view+json": {
       "model_id": "8ca84a9304944fdeb9c5d971fedddb32",
       "version_major": 2,
       "version_minor": 0
      },
      "text/plain": [
       "FloatSlider(value=0.4, description='Distance Threshold', max=1.0, step=0.01)"
      ]
     },
     "execution_count": 137,
     "metadata": {},
     "output_type": "execute_result"
    }
   ],
   "source": [
    "distance_widget = widgets.FloatSlider(\n",
    "    value=0.4, min=0, max=1, step=0.01, description=\"Distance Threshold\"\n",
    ")\n",
    "\n",
    "distance_widget"
   ]
  },
  {
   "cell_type": "code",
   "execution_count": 138,
   "metadata": {},
   "outputs": [
    {
     "data": {
      "application/vnd.jupyter.widget-view+json": {
       "model_id": "d958601571e3482cacb410689070db3b",
       "version_major": 2,
       "version_minor": 0
      },
      "text/plain": [
       "BoundedIntText(value=1000, description='Maximum number of neighbours per collection', max=10000, step=100)"
      ]
     },
     "execution_count": 138,
     "metadata": {},
     "output_type": "execute_result"
    }
   ],
   "source": [
    "max_neighbours = widgets.BoundedIntText(\n",
    "    description=\"Maximum number of neighbours per collection\",\n",
    "    value=1000,\n",
    "    min=0,\n",
    "    max=10000,\n",
    "    step=100,\n",
    ")\n",
    "max_neighbours"
   ]
  },
  {
   "cell_type": "code",
   "execution_count": 139,
   "metadata": {},
   "outputs": [
    {
     "name": "stderr",
     "output_type": "stream",
     "text": [
      "Getting Neighbours:   0%|          | 0/2 [00:00<?, ?collection/s]WARNING:WeaviateDatabaseManager:Limiting maximum number of neighbors to 10000 (was: 10973) while querying 'PeopleAndParliament'.\n",
      "Getting Neighbours:  50%|█████     | 1/2 [00:07<00:07,  7.71s/collection]WARNING:WeaviateDatabaseManager:Limiting maximum number of neighbors to 10000 (was: 10973) while querying 'PeopleAndParliament'.\n",
      "Getting Neighbours: 100%|██████████| 2/2 [00:14<00:00,  7.41s/collection]\n"
     ]
    }
   ],
   "source": [
    "from tqdm import tqdm\n",
    "\n",
    "from tempo_embeddings.text.corpus import Corpus\n",
    "from tempo_embeddings.text.passage import Passage\n",
    "from tempo_embeddings.text.year_span import YearSpan\n",
    "\n",
    "all_passages: set[Passage] = {\n",
    "    passage for corpus in corpora for passage in corpus.passages\n",
    "}\n",
    "\n",
    "neighbours: dict[Corpus, Corpus] = {\n",
    "    collection: db.neighbours(\n",
    "        collection,\n",
    "        k=max_neighbours.value,\n",
    "        collections=collection_selector.value,\n",
    "        distance=distance_widget.value,\n",
    "        year_span=YearSpan(year_range.value[0], year_range.value[1]),\n",
    "        exclude_passages=all_passages,\n",
    "    )\n",
    "    for collection in tqdm(corpora, unit=\"collection\", desc=\"Getting Neighbours\")\n",
    "}"
   ]
  },
  {
   "cell_type": "code",
   "execution_count": 140,
   "metadata": {},
   "outputs": [
    {
     "name": "stdout",
     "output_type": "stream",
     "text": [
      "Collection Label               \tSize\tNeighbours with Distance < 0.4\n",
      "PeopleAndParliament: 'duurzaam'\t5000\t1000\n",
      "PeopleAndParliament: 'milieu'  \t5000\t1000\n"
     ]
    }
   ],
   "source": [
    "label_length: int = max(len(collection.label) for collection in corpora)\n",
    "\n",
    "print(\n",
    "    f\"{'Collection Label'.ljust(label_length)}\\tSize\\tNeighbours with Distance < {distance_widget.value}\"\n",
    ")\n",
    "for collection in corpora:\n",
    "    print(\n",
    "        f\"{collection.label.ljust(label_length)}\\t{len(collection)}\\t{len(neighbours[collection])}\"\n",
    "    )"
   ]
  },
  {
   "cell_type": "code",
   "execution_count": 141,
   "metadata": {},
   "outputs": [],
   "source": [
    "# Remove empty neighbours collections\n",
    "\n",
    "for collection, _neighbours in neighbours.items():\n",
    "    if len(_neighbours) == 0:\n",
    "        print(f\"Removing empty '{collection}'\")\n",
    "        neighbours.pop(collection)"
   ]
  },
  {
   "cell_type": "markdown",
   "metadata": {},
   "source": [
    "## Merge Collections\n",
    "\n",
    "The different parts retrieved in the above steps are merged into a single `Corpus` object."
   ]
  },
  {
   "cell_type": "code",
   "execution_count": 142,
   "metadata": {},
   "outputs": [],
   "source": [
    "from tempo_embeddings.text.corpus import Corpus\n",
    "\n",
    "subcorpora = corpora + (list(neighbours.values()) if neighbours else [])\n",
    "\n",
    "merged_corpus = sum(subcorpora, Corpus())\n",
    "merged_corpus.label = \"Newspapers plus Neighbours\""
   ]
  },
  {
   "cell_type": "markdown",
   "metadata": {},
   "source": [
    "# Plot Corpus\n",
    "\n",
    "This is the main entry point for investigating the corpus.\n",
    "Each dot in the graph represents a single passage. Hover over a point to see its content and its metadata.\n",
    "\n",
    "The contained text passages are plotted in a 2-dimensional plot. \n",
    "The plot furthermore provides interactive widgets to filter the data based on categorical (e.g. `source`) and continuos data (e.g. year rage).\n",
    "\n",
    "The Lasso tool allows selection arbitrary points by drawing a shape around the points of interest.\n",
    "If no points are selected, all visible points are taken into account for the actions performed by the buttons:\n",
    "\n",
    "- The *Cluster* button divides the selected points into groups of similar (hence close) text passages. It creates a new plot in a new tab; the initial data remains accessible by switching back to the first tab. The new tab supports the same operations again.\n",
    "- The *Top Words* button outputs the most significant words of the selected points.\n",
    "- The *Export* button writes the selected points to a CSV file.\n",
    "- The *Plot by Field* button create a plot with relative frequencies for the selected data, based on a specific metadata field\n"
   ]
  },
  {
   "cell_type": "code",
   "execution_count": 143,
   "metadata": {},
   "outputs": [
    {
     "data": {
      "text/plain": [
       "array([[ 1.71330702, -2.83982706],\n",
       "       [ 3.4559176 , -2.03707361],\n",
       "       [ 1.72729921, -1.28197062],\n",
       "       ...,\n",
       "       [ 4.4045248 ,  6.47691584],\n",
       "       [ 4.37473249,  6.45963812],\n",
       "       [ 4.37268686,  6.46627665]])"
      ]
     },
     "execution_count": 143,
     "metadata": {},
     "output_type": "execute_result"
    }
   ],
   "source": [
    "merged_corpus.compress_embeddings()  # Compute a 2D representation of the embeddings"
   ]
  },
  {
   "cell_type": "markdown",
   "metadata": {},
   "source": [
    "## Add Stopwords\n",
    "\n",
    "Enter more words to be filtered out when computing the top words in the scatter plot.\n",
    "\n",
    "This is **not updated dynamically**; re-run the subsequent cells after modifying the stopword list below."
   ]
  },
  {
   "cell_type": "code",
   "execution_count": 144,
   "metadata": {},
   "outputs": [
    {
     "data": {
      "application/vnd.jupyter.widget-view+json": {
       "model_id": "ca42be96e8054f608e0d4c2ddcb8bfba",
       "version_major": 2,
       "version_minor": 0
      },
      "text/plain": [
       "Textarea(value='', description='Additional Stopwords', placeholder='Enter additional stopwords, one per line',…"
      ]
     },
     "execution_count": 144,
     "metadata": {},
     "output_type": "execute_result"
    }
   ],
   "source": [
    "stopwords_widget = widgets.Textarea(\n",
    "    placeholder=\"Enter additional stopwords, one per line\",\n",
    "    description=\"Additional Stopwords\",\n",
    "    rows=10,\n",
    ")\n",
    "stopwords_widget"
   ]
  },
  {
   "cell_type": "code",
   "execution_count": 145,
   "metadata": {},
   "outputs": [
    {
     "name": "stderr",
     "output_type": "stream",
     "text": [
      "/Users/carstenschnober/Documents/SemanticsOfSustainability/workspace/tempo-embeddings/.venv/lib/python3.11/site-packages/sklearn/feature_extraction/text.py:521: UserWarning:\n",
      "\n",
      "The parameter 'token_pattern' will not be used since 'tokenizer' is not None'\n",
      "\n"
     ]
    }
   ],
   "source": [
    "from tempo_embeddings.settings import STOPWORDS\n",
    "from tempo_embeddings.text.keyword_extractor import KeywordExtractor\n",
    "\n",
    "# Generate a `KeywordExtractor` instance to extract keywords from the corpus\n",
    "\n",
    "stopwords: set[str] = (\n",
    "    STOPWORDS\n",
    "    | set(search_terms)\n",
    "    | {word.strip() for word in stopwords_widget.value.split(\"\\n\") if word.strip()}\n",
    ")\n",
    "keyword_extractor = KeywordExtractor(merged_corpus, exclude_words=stopwords).fit()"
   ]
  },
  {
   "cell_type": "markdown",
   "metadata": {},
   "source": [
    "## Select filters\n",
    "\n",
    "Select the fields that are provided for filtering the data.\n",
    "\n",
    "Also select fields that might only be useful after clustering; some fields might be hidden in the initial view, but appear after clustering the data.\n",
    "\n",
    "The preselection is based on fields in the `PeopleAndParliament` dataset that are populated to an extent that makes them useful.\n",
    "\n",
    "The scatter plot is **not updated dynamically** if you change the selected fields afterwards.\n",
    "To apply the filters, re-run the cell generating the plot."
   ]
  },
  {
   "cell_type": "code",
   "execution_count": 153,
   "metadata": {},
   "outputs": [
    {
     "data": {
      "application/vnd.jupyter.widget-view+json": {
       "model_id": "722cab33ac9f49d59c7e17ef61c7300f",
       "version_major": 2,
       "version_minor": 0
      },
      "text/plain": [
       "HBox(children=(Label(value='Fields to create filters for (if applicable per selection). Click to remove or add…"
      ]
     },
     "execution_count": 153,
     "metadata": {},
     "output_type": "execute_result"
    }
   ],
   "source": [
    "people_and_parliament_filter_fields = [\n",
    "    \"chamber\",\n",
    "    \"cluster\",\n",
    "    \"collection\",\n",
    "    \"debate_title\",\n",
    "    \"label\",\n",
    "    \"party_id\",\n",
    "    \"role\",\n",
    "    \"speaker\",\n",
    "    \"topic\",\n",
    "]\n",
    "\n",
    "filter_fields = widgets.TagsInput(\n",
    "    allowed_tags=list(merged_corpus.metadata_fields()),\n",
    "    value=[\n",
    "        field\n",
    "        for field in people_and_parliament_filter_fields\n",
    "        if field in merged_corpus.metadata_fields()\n",
    "    ],\n",
    ")\n",
    "\n",
    "widgets.HBox(\n",
    "    [\n",
    "        widgets.Label(\n",
    "            \"Fields to create filters for (if applicable per selection). Click to remove or add more fields.\"\n",
    "        ),\n",
    "        filter_fields,\n",
    "    ]\n",
    ")"
   ]
  },
  {
   "cell_type": "markdown",
   "metadata": {},
   "source": [
    "## Create the plot"
   ]
  },
  {
   "cell_type": "code",
   "execution_count": 154,
   "metadata": {},
   "outputs": [],
   "source": [
    "%matplotlib inline"
   ]
  },
  {
   "cell_type": "code",
   "execution_count": 155,
   "metadata": {},
   "outputs": [
    {
     "data": {
      "application/vnd.jupyter.widget-view+json": {
       "model_id": "bd2f801623254292b78720b187a80854",
       "version_major": 2,
       "version_minor": 0
      },
      "text/plain": [
       "Tab(children=(VBox(children=(HBox(children=(VBox(children=(Button(button_style='primary', icon='arrows', layou…"
      ]
     },
     "metadata": {},
     "output_type": "display_data"
    }
   ],
   "source": [
    "from tempo_embeddings.visualization.jscatter import JScatterContainer\n",
    "\n",
    "visualizer = JScatterContainer(\n",
    "    subcorpora,\n",
    "    keyword_extractor=keyword_extractor,\n",
    "    tooltip_fields=[\"debate_title\", \"text\"],\n",
    "    categorical_fields=filter_fields.value,\n",
    ")\n",
    "visualizer.visualize()"
   ]
  }
 ],
 "metadata": {
  "kernelspec": {
   "display_name": "Python 3 (ipykernel)",
   "language": "python",
   "name": "python3"
  },
  "language_info": {
   "codemirror_mode": {
    "name": "ipython",
    "version": 3
   },
   "file_extension": ".py",
   "mimetype": "text/x-python",
   "name": "python",
   "nbconvert_exporter": "python",
   "pygments_lexer": "ipython3",
   "version": "3.11.2"
  }
 },
 "nbformat": 4,
 "nbformat_minor": 4
}
