{
 "cells": [
  {
   "cell_type": "markdown",
   "metadata": {},
   "source": [
    "# Dutch Corpora\n",
    "\n",
    "### Instal tempo-embeddings"
   ]
  },
  {
   "cell_type": "code",
   "execution_count": 1,
   "metadata": {},
   "outputs": [
    {
     "name": "stdout",
     "output_type": "stream",
     "text": [
      "Obtaining file:///Users/carstenschnober/Documents/SemanticsOfSustainability/workspace/tempo-embeddings\n",
      "  Installing build dependencies ... \u001b[?25ldone\n",
      "\u001b[?25h  Checking if build backend supports build_editable ... \u001b[?25ldone\n",
      "\u001b[?25h  Getting requirements to build editable ... \u001b[?25ldone\n",
      "\u001b[?25h  Preparing editable metadata (pyproject.toml) ... \u001b[?25ldone\n",
      "\u001b[?25hRequirement already satisfied: accelerate~=0.22.0 in /Users/carstenschnober/Documents/SemanticsOfSustainability/workspace/tempo-embeddings/.venv/lib/python3.11/site-packages (from tempo_embeddings==0.0.1) (0.22.0)\n",
      "Requirement already satisfied: seaborn~=0.13.0 in /Users/carstenschnober/Documents/SemanticsOfSustainability/workspace/tempo-embeddings/.venv/lib/python3.11/site-packages (from tempo_embeddings==0.0.1) (0.13.0)\n",
      "Requirement already satisfied: transformers~=4.32.1 in /Users/carstenschnober/Documents/SemanticsOfSustainability/workspace/tempo-embeddings/.venv/lib/python3.11/site-packages (from tempo_embeddings==0.0.1) (4.32.1)\n",
      "Requirement already satisfied: torch~=2.4.0 in /Users/carstenschnober/Documents/SemanticsOfSustainability/workspace/tempo-embeddings/.venv/lib/python3.11/site-packages (from tempo_embeddings==0.0.1) (2.4.0)\n",
      "Requirement already satisfied: umap-learn~=0.5.4 in /Users/carstenschnober/Documents/SemanticsOfSustainability/workspace/tempo-embeddings/.venv/lib/python3.11/site-packages (from tempo_embeddings==0.0.1) (0.5.4)\n",
      "Requirement already satisfied: wizmap~=0.1.2 in /Users/carstenschnober/Documents/SemanticsOfSustainability/workspace/tempo-embeddings/.venv/lib/python3.11/site-packages (from tempo_embeddings==0.0.1) (0.1.2)\n",
      "Requirement already satisfied: matplotlib~=3.7.2 in /Users/carstenschnober/Documents/SemanticsOfSustainability/workspace/tempo-embeddings/.venv/lib/python3.11/site-packages (from tempo_embeddings==0.0.1) (3.7.2)\n",
      "Requirement already satisfied: sacremoses~=0.0.53 in /Users/carstenschnober/Documents/SemanticsOfSustainability/workspace/tempo-embeddings/.venv/lib/python3.11/site-packages (from tempo_embeddings==0.0.1) (0.0.53)\n",
      "Requirement already satisfied: scikit-learn~=1.3.0 in /Users/carstenschnober/Documents/SemanticsOfSustainability/workspace/tempo-embeddings/.venv/lib/python3.11/site-packages (from tempo_embeddings==0.0.1) (1.3.0)\n",
      "Requirement already satisfied: chromadb~=0.4.22 in /Users/carstenschnober/Documents/SemanticsOfSustainability/workspace/tempo-embeddings/.venv/lib/python3.11/site-packages (from tempo_embeddings==0.0.1) (0.4.22)\n",
      "Collecting weaviate-client~=4.6.5 (from tempo_embeddings==0.0.1)\n",
      "  Using cached weaviate_client-4.6.7-py3-none-any.whl.metadata (3.3 kB)\n",
      "Requirement already satisfied: pydantic~=2.8.2 in /Users/carstenschnober/Documents/SemanticsOfSustainability/workspace/tempo-embeddings/.venv/lib/python3.11/site-packages (from tempo_embeddings==0.0.1) (2.8.2)\n",
      "Requirement already satisfied: pandas in /Users/carstenschnober/Documents/SemanticsOfSustainability/workspace/tempo-embeddings/.venv/lib/python3.11/site-packages (from tempo_embeddings==0.0.1) (2.0.3)\n",
      "Requirement already satisfied: datashader in /Users/carstenschnober/Documents/SemanticsOfSustainability/workspace/tempo-embeddings/.venv/lib/python3.11/site-packages (from tempo_embeddings==0.0.1) (0.15.1)\n",
      "Requirement already satisfied: bokeh~=3.3.2 in /Users/carstenschnober/Documents/SemanticsOfSustainability/workspace/tempo-embeddings/.venv/lib/python3.11/site-packages (from tempo_embeddings==0.0.1) (3.3.2)\n",
      "Requirement already satisfied: holoviews in /Users/carstenschnober/Documents/SemanticsOfSustainability/workspace/tempo-embeddings/.venv/lib/python3.11/site-packages (from tempo_embeddings==0.0.1) (1.17.0)\n",
      "Requirement already satisfied: dash~=2.11.1 in /Users/carstenschnober/Documents/SemanticsOfSustainability/workspace/tempo-embeddings/.venv/lib/python3.11/site-packages (from tempo_embeddings==0.0.1) (2.11.1)\n",
      "Requirement already satisfied: numpy>=1.17 in /Users/carstenschnober/Documents/SemanticsOfSustainability/workspace/tempo-embeddings/.venv/lib/python3.11/site-packages (from accelerate~=0.22.0->tempo_embeddings==0.0.1) (1.24.4)\n",
      "Requirement already satisfied: packaging>=20.0 in /Users/carstenschnober/Documents/SemanticsOfSustainability/workspace/tempo-embeddings/.venv/lib/python3.11/site-packages (from accelerate~=0.22.0->tempo_embeddings==0.0.1) (23.1)\n",
      "Requirement already satisfied: psutil in /Users/carstenschnober/Documents/SemanticsOfSustainability/workspace/tempo-embeddings/.venv/lib/python3.11/site-packages (from accelerate~=0.22.0->tempo_embeddings==0.0.1) (5.9.5)\n",
      "Requirement already satisfied: pyyaml in /Users/carstenschnober/Documents/SemanticsOfSustainability/workspace/tempo-embeddings/.venv/lib/python3.11/site-packages (from accelerate~=0.22.0->tempo_embeddings==0.0.1) (6.0)\n",
      "Requirement already satisfied: Jinja2>=2.9 in /Users/carstenschnober/Documents/SemanticsOfSustainability/workspace/tempo-embeddings/.venv/lib/python3.11/site-packages (from bokeh~=3.3.2->tempo_embeddings==0.0.1) (3.1.2)\n",
      "Requirement already satisfied: contourpy>=1 in /Users/carstenschnober/Documents/SemanticsOfSustainability/workspace/tempo-embeddings/.venv/lib/python3.11/site-packages (from bokeh~=3.3.2->tempo_embeddings==0.0.1) (1.1.0)\n",
      "Requirement already satisfied: pillow>=7.1.0 in /Users/carstenschnober/Documents/SemanticsOfSustainability/workspace/tempo-embeddings/.venv/lib/python3.11/site-packages (from bokeh~=3.3.2->tempo_embeddings==0.0.1) (10.0.0)\n",
      "Requirement already satisfied: tornado>=5.1 in /Users/carstenschnober/Documents/SemanticsOfSustainability/workspace/tempo-embeddings/.venv/lib/python3.11/site-packages (from bokeh~=3.3.2->tempo_embeddings==0.0.1) (6.3.2)\n",
      "Requirement already satisfied: xyzservices>=2021.09.1 in /Users/carstenschnober/Documents/SemanticsOfSustainability/workspace/tempo-embeddings/.venv/lib/python3.11/site-packages (from bokeh~=3.3.2->tempo_embeddings==0.0.1) (2023.7.0)\n",
      "Requirement already satisfied: build>=1.0.3 in /Users/carstenschnober/Documents/SemanticsOfSustainability/workspace/tempo-embeddings/.venv/lib/python3.11/site-packages (from chromadb~=0.4.22->tempo_embeddings==0.0.1) (1.0.3)\n",
      "Requirement already satisfied: requests>=2.28 in /Users/carstenschnober/Documents/SemanticsOfSustainability/workspace/tempo-embeddings/.venv/lib/python3.11/site-packages (from chromadb~=0.4.22->tempo_embeddings==0.0.1) (2.31.0)\n",
      "Requirement already satisfied: chroma-hnswlib==0.7.3 in /Users/carstenschnober/Documents/SemanticsOfSustainability/workspace/tempo-embeddings/.venv/lib/python3.11/site-packages (from chromadb~=0.4.22->tempo_embeddings==0.0.1) (0.7.3)\n",
      "Requirement already satisfied: fastapi>=0.95.2 in /Users/carstenschnober/Documents/SemanticsOfSustainability/workspace/tempo-embeddings/.venv/lib/python3.11/site-packages (from chromadb~=0.4.22->tempo_embeddings==0.0.1) (0.109.2)\n",
      "Requirement already satisfied: uvicorn>=0.18.3 in /Users/carstenschnober/Documents/SemanticsOfSustainability/workspace/tempo-embeddings/.venv/lib/python3.11/site-packages (from uvicorn[standard]>=0.18.3->chromadb~=0.4.22->tempo_embeddings==0.0.1) (0.27.1)\n",
      "Requirement already satisfied: posthog>=2.4.0 in /Users/carstenschnober/Documents/SemanticsOfSustainability/workspace/tempo-embeddings/.venv/lib/python3.11/site-packages (from chromadb~=0.4.22->tempo_embeddings==0.0.1) (3.4.1)\n",
      "Requirement already satisfied: typing-extensions>=4.5.0 in /Users/carstenschnober/Documents/SemanticsOfSustainability/workspace/tempo-embeddings/.venv/lib/python3.11/site-packages (from chromadb~=0.4.22->tempo_embeddings==0.0.1) (4.9.0)\n",
      "Requirement already satisfied: pulsar-client>=3.1.0 in /Users/carstenschnober/Documents/SemanticsOfSustainability/workspace/tempo-embeddings/.venv/lib/python3.11/site-packages (from chromadb~=0.4.22->tempo_embeddings==0.0.1) (3.4.0)\n",
      "Requirement already satisfied: onnxruntime>=1.14.1 in /Users/carstenschnober/Documents/SemanticsOfSustainability/workspace/tempo-embeddings/.venv/lib/python3.11/site-packages (from chromadb~=0.4.22->tempo_embeddings==0.0.1) (1.17.0)\n",
      "Requirement already satisfied: opentelemetry-api>=1.2.0 in /Users/carstenschnober/Documents/SemanticsOfSustainability/workspace/tempo-embeddings/.venv/lib/python3.11/site-packages (from chromadb~=0.4.22->tempo_embeddings==0.0.1) (1.22.0)\n",
      "Requirement already satisfied: opentelemetry-exporter-otlp-proto-grpc>=1.2.0 in /Users/carstenschnober/Documents/SemanticsOfSustainability/workspace/tempo-embeddings/.venv/lib/python3.11/site-packages (from chromadb~=0.4.22->tempo_embeddings==0.0.1) (1.11.1)\n",
      "Requirement already satisfied: opentelemetry-instrumentation-fastapi>=0.41b0 in /Users/carstenschnober/Documents/SemanticsOfSustainability/workspace/tempo-embeddings/.venv/lib/python3.11/site-packages (from chromadb~=0.4.22->tempo_embeddings==0.0.1) (0.43b0)\n",
      "Requirement already satisfied: opentelemetry-sdk>=1.2.0 in /Users/carstenschnober/Documents/SemanticsOfSustainability/workspace/tempo-embeddings/.venv/lib/python3.11/site-packages (from chromadb~=0.4.22->tempo_embeddings==0.0.1) (1.22.0)\n",
      "Requirement already satisfied: tokenizers>=0.13.2 in /Users/carstenschnober/Documents/SemanticsOfSustainability/workspace/tempo-embeddings/.venv/lib/python3.11/site-packages (from chromadb~=0.4.22->tempo_embeddings==0.0.1) (0.13.3)\n",
      "Requirement already satisfied: pypika>=0.48.9 in /Users/carstenschnober/Documents/SemanticsOfSustainability/workspace/tempo-embeddings/.venv/lib/python3.11/site-packages (from chromadb~=0.4.22->tempo_embeddings==0.0.1) (0.48.9)\n",
      "Requirement already satisfied: tqdm>=4.65.0 in /Users/carstenschnober/Documents/SemanticsOfSustainability/workspace/tempo-embeddings/.venv/lib/python3.11/site-packages (from chromadb~=0.4.22->tempo_embeddings==0.0.1) (4.65.0)\n",
      "Requirement already satisfied: overrides>=7.3.1 in /Users/carstenschnober/Documents/SemanticsOfSustainability/workspace/tempo-embeddings/.venv/lib/python3.11/site-packages (from chromadb~=0.4.22->tempo_embeddings==0.0.1) (7.7.0)\n",
      "Requirement already satisfied: importlib-resources in /Users/carstenschnober/Documents/SemanticsOfSustainability/workspace/tempo-embeddings/.venv/lib/python3.11/site-packages (from chromadb~=0.4.22->tempo_embeddings==0.0.1) (6.1.1)\n",
      "Requirement already satisfied: grpcio>=1.58.0 in /Users/carstenschnober/Documents/SemanticsOfSustainability/workspace/tempo-embeddings/.venv/lib/python3.11/site-packages (from chromadb~=0.4.22->tempo_embeddings==0.0.1) (1.64.1)\n",
      "Requirement already satisfied: bcrypt>=4.0.1 in /Users/carstenschnober/Documents/SemanticsOfSustainability/workspace/tempo-embeddings/.venv/lib/python3.11/site-packages (from chromadb~=0.4.22->tempo_embeddings==0.0.1) (4.1.2)\n",
      "Requirement already satisfied: typer>=0.9.0 in /Users/carstenschnober/Documents/SemanticsOfSustainability/workspace/tempo-embeddings/.venv/lib/python3.11/site-packages (from chromadb~=0.4.22->tempo_embeddings==0.0.1) (0.9.0)\n",
      "Requirement already satisfied: kubernetes>=28.1.0 in /Users/carstenschnober/Documents/SemanticsOfSustainability/workspace/tempo-embeddings/.venv/lib/python3.11/site-packages (from chromadb~=0.4.22->tempo_embeddings==0.0.1) (29.0.0)\n",
      "Requirement already satisfied: tenacity>=8.2.3 in /Users/carstenschnober/Documents/SemanticsOfSustainability/workspace/tempo-embeddings/.venv/lib/python3.11/site-packages (from chromadb~=0.4.22->tempo_embeddings==0.0.1) (8.2.3)\n",
      "Requirement already satisfied: mmh3>=4.0.1 in /Users/carstenschnober/Documents/SemanticsOfSustainability/workspace/tempo-embeddings/.venv/lib/python3.11/site-packages (from chromadb~=0.4.22->tempo_embeddings==0.0.1) (4.1.0)\n",
      "Requirement already satisfied: Flask<2.3.0,>=1.0.4 in /Users/carstenschnober/Documents/SemanticsOfSustainability/workspace/tempo-embeddings/.venv/lib/python3.11/site-packages (from dash~=2.11.1->tempo_embeddings==0.0.1) (2.2.5)\n",
      "Requirement already satisfied: Werkzeug<2.3.0 in /Users/carstenschnober/Documents/SemanticsOfSustainability/workspace/tempo-embeddings/.venv/lib/python3.11/site-packages (from dash~=2.11.1->tempo_embeddings==0.0.1) (2.2.3)\n",
      "Requirement already satisfied: plotly>=5.0.0 in /Users/carstenschnober/Documents/SemanticsOfSustainability/workspace/tempo-embeddings/.venv/lib/python3.11/site-packages (from dash~=2.11.1->tempo_embeddings==0.0.1) (5.15.0)\n",
      "Requirement already satisfied: dash-html-components==2.0.0 in /Users/carstenschnober/Documents/SemanticsOfSustainability/workspace/tempo-embeddings/.venv/lib/python3.11/site-packages (from dash~=2.11.1->tempo_embeddings==0.0.1) (2.0.0)\n",
      "Requirement already satisfied: dash-core-components==2.0.0 in /Users/carstenschnober/Documents/SemanticsOfSustainability/workspace/tempo-embeddings/.venv/lib/python3.11/site-packages (from dash~=2.11.1->tempo_embeddings==0.0.1) (2.0.0)\n",
      "Requirement already satisfied: dash-table==5.0.0 in /Users/carstenschnober/Documents/SemanticsOfSustainability/workspace/tempo-embeddings/.venv/lib/python3.11/site-packages (from dash~=2.11.1->tempo_embeddings==0.0.1) (5.0.0)\n",
      "Requirement already satisfied: retrying in /Users/carstenschnober/Documents/SemanticsOfSustainability/workspace/tempo-embeddings/.venv/lib/python3.11/site-packages (from dash~=2.11.1->tempo_embeddings==0.0.1) (1.3.4)\n",
      "Requirement already satisfied: ansi2html in /Users/carstenschnober/Documents/SemanticsOfSustainability/workspace/tempo-embeddings/.venv/lib/python3.11/site-packages (from dash~=2.11.1->tempo_embeddings==0.0.1) (1.8.0)\n",
      "Requirement already satisfied: nest-asyncio in /Users/carstenschnober/Documents/SemanticsOfSustainability/workspace/tempo-embeddings/.venv/lib/python3.11/site-packages (from dash~=2.11.1->tempo_embeddings==0.0.1) (1.5.6)\n",
      "Requirement already satisfied: cycler>=0.10 in /Users/carstenschnober/Documents/SemanticsOfSustainability/workspace/tempo-embeddings/.venv/lib/python3.11/site-packages (from matplotlib~=3.7.2->tempo_embeddings==0.0.1) (0.11.0)\n",
      "Requirement already satisfied: fonttools>=4.22.0 in /Users/carstenschnober/Documents/SemanticsOfSustainability/workspace/tempo-embeddings/.venv/lib/python3.11/site-packages (from matplotlib~=3.7.2->tempo_embeddings==0.0.1) (4.41.0)\n",
      "Requirement already satisfied: kiwisolver>=1.0.1 in /Users/carstenschnober/Documents/SemanticsOfSustainability/workspace/tempo-embeddings/.venv/lib/python3.11/site-packages (from matplotlib~=3.7.2->tempo_embeddings==0.0.1) (1.4.4)\n",
      "Requirement already satisfied: pyparsing<3.1,>=2.3.1 in /Users/carstenschnober/Documents/SemanticsOfSustainability/workspace/tempo-embeddings/.venv/lib/python3.11/site-packages (from matplotlib~=3.7.2->tempo_embeddings==0.0.1) (3.0.9)\n",
      "Requirement already satisfied: python-dateutil>=2.7 in /Users/carstenschnober/Documents/SemanticsOfSustainability/workspace/tempo-embeddings/.venv/lib/python3.11/site-packages (from matplotlib~=3.7.2->tempo_embeddings==0.0.1) (2.8.2)\n",
      "Requirement already satisfied: pytz>=2020.1 in /Users/carstenschnober/Documents/SemanticsOfSustainability/workspace/tempo-embeddings/.venv/lib/python3.11/site-packages (from pandas->tempo_embeddings==0.0.1) (2023.3)\n",
      "Requirement already satisfied: tzdata>=2022.1 in /Users/carstenschnober/Documents/SemanticsOfSustainability/workspace/tempo-embeddings/.venv/lib/python3.11/site-packages (from pandas->tempo_embeddings==0.0.1) (2023.3)\n",
      "Requirement already satisfied: annotated-types>=0.4.0 in /Users/carstenschnober/Documents/SemanticsOfSustainability/workspace/tempo-embeddings/.venv/lib/python3.11/site-packages (from pydantic~=2.8.2->tempo_embeddings==0.0.1) (0.6.0)\n",
      "Requirement already satisfied: pydantic-core==2.20.1 in /Users/carstenschnober/Documents/SemanticsOfSustainability/workspace/tempo-embeddings/.venv/lib/python3.11/site-packages (from pydantic~=2.8.2->tempo_embeddings==0.0.1) (2.20.1)\n",
      "Requirement already satisfied: regex in /Users/carstenschnober/Documents/SemanticsOfSustainability/workspace/tempo-embeddings/.venv/lib/python3.11/site-packages (from sacremoses~=0.0.53->tempo_embeddings==0.0.1) (2023.6.3)\n",
      "Requirement already satisfied: six in /Users/carstenschnober/Documents/SemanticsOfSustainability/workspace/tempo-embeddings/.venv/lib/python3.11/site-packages (from sacremoses~=0.0.53->tempo_embeddings==0.0.1) (1.16.0)\n",
      "Requirement already satisfied: click in /Users/carstenschnober/Documents/SemanticsOfSustainability/workspace/tempo-embeddings/.venv/lib/python3.11/site-packages (from sacremoses~=0.0.53->tempo_embeddings==0.0.1) (8.1.6)\n",
      "Requirement already satisfied: joblib in /Users/carstenschnober/Documents/SemanticsOfSustainability/workspace/tempo-embeddings/.venv/lib/python3.11/site-packages (from sacremoses~=0.0.53->tempo_embeddings==0.0.1) (1.3.1)\n",
      "Requirement already satisfied: scipy>=1.5.0 in /Users/carstenschnober/Documents/SemanticsOfSustainability/workspace/tempo-embeddings/.venv/lib/python3.11/site-packages (from scikit-learn~=1.3.0->tempo_embeddings==0.0.1) (1.11.1)\n",
      "Requirement already satisfied: threadpoolctl>=2.0.0 in /Users/carstenschnober/Documents/SemanticsOfSustainability/workspace/tempo-embeddings/.venv/lib/python3.11/site-packages (from scikit-learn~=1.3.0->tempo_embeddings==0.0.1) (3.2.0)\n",
      "Requirement already satisfied: filelock in /Users/carstenschnober/Documents/SemanticsOfSustainability/workspace/tempo-embeddings/.venv/lib/python3.11/site-packages (from torch~=2.4.0->tempo_embeddings==0.0.1) (3.12.2)\n",
      "Requirement already satisfied: sympy in /Users/carstenschnober/Documents/SemanticsOfSustainability/workspace/tempo-embeddings/.venv/lib/python3.11/site-packages (from torch~=2.4.0->tempo_embeddings==0.0.1) (1.12)\n",
      "Requirement already satisfied: networkx in /Users/carstenschnober/Documents/SemanticsOfSustainability/workspace/tempo-embeddings/.venv/lib/python3.11/site-packages (from torch~=2.4.0->tempo_embeddings==0.0.1) (3.1)\n",
      "Requirement already satisfied: fsspec in /Users/carstenschnober/Documents/SemanticsOfSustainability/workspace/tempo-embeddings/.venv/lib/python3.11/site-packages (from torch~=2.4.0->tempo_embeddings==0.0.1) (2023.6.0)\n",
      "Requirement already satisfied: huggingface-hub<1.0,>=0.15.1 in /Users/carstenschnober/Documents/SemanticsOfSustainability/workspace/tempo-embeddings/.venv/lib/python3.11/site-packages (from transformers~=4.32.1->tempo_embeddings==0.0.1) (0.16.4)\n",
      "Requirement already satisfied: safetensors>=0.3.1 in /Users/carstenschnober/Documents/SemanticsOfSustainability/workspace/tempo-embeddings/.venv/lib/python3.11/site-packages (from transformers~=4.32.1->tempo_embeddings==0.0.1) (0.3.3)\n",
      "Requirement already satisfied: numba>=0.51.2 in /Users/carstenschnober/Documents/SemanticsOfSustainability/workspace/tempo-embeddings/.venv/lib/python3.11/site-packages (from umap-learn~=0.5.4->tempo_embeddings==0.0.1) (0.57.1)\n",
      "Requirement already satisfied: pynndescent>=0.5 in /Users/carstenschnober/Documents/SemanticsOfSustainability/workspace/tempo-embeddings/.venv/lib/python3.11/site-packages (from umap-learn~=0.5.4->tempo_embeddings==0.0.1) (0.5.10)\n",
      "Requirement already satisfied: httpx<=0.27.0,>=0.25.0 in /Users/carstenschnober/Documents/SemanticsOfSustainability/workspace/tempo-embeddings/.venv/lib/python3.11/site-packages (from weaviate-client~=4.6.5->tempo_embeddings==0.0.1) (0.27.0)\n",
      "Requirement already satisfied: validators==0.33.0 in /Users/carstenschnober/Documents/SemanticsOfSustainability/workspace/tempo-embeddings/.venv/lib/python3.11/site-packages (from weaviate-client~=4.6.5->tempo_embeddings==0.0.1) (0.33.0)\n",
      "Requirement already satisfied: authlib<2.0.0,>=1.2.1 in /Users/carstenschnober/Documents/SemanticsOfSustainability/workspace/tempo-embeddings/.venv/lib/python3.11/site-packages (from weaviate-client~=4.6.5->tempo_embeddings==0.0.1) (1.3.1)\n",
      "Requirement already satisfied: grpcio-tools<2.0.0,>=1.57.0 in /Users/carstenschnober/Documents/SemanticsOfSustainability/workspace/tempo-embeddings/.venv/lib/python3.11/site-packages (from weaviate-client~=4.6.5->tempo_embeddings==0.0.1) (1.64.1)\n",
      "Requirement already satisfied: grpcio-health-checking<2.0.0,>=1.57.0 in /Users/carstenschnober/Documents/SemanticsOfSustainability/workspace/tempo-embeddings/.venv/lib/python3.11/site-packages (from weaviate-client~=4.6.5->tempo_embeddings==0.0.1) (1.64.1)\n",
      "Requirement already satisfied: ipython in /Users/carstenschnober/Documents/SemanticsOfSustainability/workspace/tempo-embeddings/.venv/lib/python3.11/site-packages (from wizmap~=0.1.2->tempo_embeddings==0.0.1) (8.14.0)\n",
      "Requirement already satisfied: quadtreed3 in /Users/carstenschnober/Documents/SemanticsOfSustainability/workspace/tempo-embeddings/.venv/lib/python3.11/site-packages (from wizmap~=0.1.2->tempo_embeddings==0.0.1) (0.1.1)\n",
      "Requirement already satisfied: ndjson in /Users/carstenschnober/Documents/SemanticsOfSustainability/workspace/tempo-embeddings/.venv/lib/python3.11/site-packages (from wizmap~=0.1.2->tempo_embeddings==0.0.1) (0.3.1)\n",
      "Requirement already satisfied: colorcet in /Users/carstenschnober/Documents/SemanticsOfSustainability/workspace/tempo-embeddings/.venv/lib/python3.11/site-packages (from datashader->tempo_embeddings==0.0.1) (3.0.1)\n",
      "Requirement already satisfied: dask in /Users/carstenschnober/Documents/SemanticsOfSustainability/workspace/tempo-embeddings/.venv/lib/python3.11/site-packages (from datashader->tempo_embeddings==0.0.1) (2023.7.1)\n",
      "Requirement already satisfied: datashape in /Users/carstenschnober/Documents/SemanticsOfSustainability/workspace/tempo-embeddings/.venv/lib/python3.11/site-packages (from datashader->tempo_embeddings==0.0.1) (0.5.2)\n",
      "Requirement already satisfied: param in /Users/carstenschnober/Documents/SemanticsOfSustainability/workspace/tempo-embeddings/.venv/lib/python3.11/site-packages (from datashader->tempo_embeddings==0.0.1) (2.0.1)\n",
      "Requirement already satisfied: pyct in /Users/carstenschnober/Documents/SemanticsOfSustainability/workspace/tempo-embeddings/.venv/lib/python3.11/site-packages (from datashader->tempo_embeddings==0.0.1) (0.5.0)\n",
      "Requirement already satisfied: toolz in /Users/carstenschnober/Documents/SemanticsOfSustainability/workspace/tempo-embeddings/.venv/lib/python3.11/site-packages (from datashader->tempo_embeddings==0.0.1) (0.12.0)\n",
      "Requirement already satisfied: xarray in /Users/carstenschnober/Documents/SemanticsOfSustainability/workspace/tempo-embeddings/.venv/lib/python3.11/site-packages (from datashader->tempo_embeddings==0.0.1) (2023.7.0)\n",
      "Requirement already satisfied: pyviz-comms>=0.7.4 in /Users/carstenschnober/Documents/SemanticsOfSustainability/workspace/tempo-embeddings/.venv/lib/python3.11/site-packages (from holoviews->tempo_embeddings==0.0.1) (2.3.2)\n",
      "Requirement already satisfied: panel>=0.13.1 in /Users/carstenschnober/Documents/SemanticsOfSustainability/workspace/tempo-embeddings/.venv/lib/python3.11/site-packages (from holoviews->tempo_embeddings==0.0.1) (1.3.4)\n",
      "Requirement already satisfied: cryptography in /Users/carstenschnober/Documents/SemanticsOfSustainability/workspace/tempo-embeddings/.venv/lib/python3.11/site-packages (from authlib<2.0.0,>=1.2.1->weaviate-client~=4.6.5->tempo_embeddings==0.0.1) (42.0.8)\n",
      "Requirement already satisfied: pyproject_hooks in /Users/carstenschnober/Documents/SemanticsOfSustainability/workspace/tempo-embeddings/.venv/lib/python3.11/site-packages (from build>=1.0.3->chromadb~=0.4.22->tempo_embeddings==0.0.1) (1.0.0)\n",
      "Requirement already satisfied: starlette<0.37.0,>=0.36.3 in /Users/carstenschnober/Documents/SemanticsOfSustainability/workspace/tempo-embeddings/.venv/lib/python3.11/site-packages (from fastapi>=0.95.2->chromadb~=0.4.22->tempo_embeddings==0.0.1) (0.36.3)\n",
      "Requirement already satisfied: itsdangerous>=2.0 in /Users/carstenschnober/Documents/SemanticsOfSustainability/workspace/tempo-embeddings/.venv/lib/python3.11/site-packages (from Flask<2.3.0,>=1.0.4->dash~=2.11.1->tempo_embeddings==0.0.1) (2.1.2)\n",
      "Requirement already satisfied: protobuf<6.0dev,>=5.26.1 in /Users/carstenschnober/Documents/SemanticsOfSustainability/workspace/tempo-embeddings/.venv/lib/python3.11/site-packages (from grpcio-health-checking<2.0.0,>=1.57.0->weaviate-client~=4.6.5->tempo_embeddings==0.0.1) (5.27.1)\n",
      "Requirement already satisfied: setuptools in /Users/carstenschnober/Documents/SemanticsOfSustainability/workspace/tempo-embeddings/.venv/lib/python3.11/site-packages (from grpcio-tools<2.0.0,>=1.57.0->weaviate-client~=4.6.5->tempo_embeddings==0.0.1) (65.5.0)\n",
      "Requirement already satisfied: anyio in /Users/carstenschnober/Documents/SemanticsOfSustainability/workspace/tempo-embeddings/.venv/lib/python3.11/site-packages (from httpx<=0.27.0,>=0.25.0->weaviate-client~=4.6.5->tempo_embeddings==0.0.1) (4.2.0)\n",
      "Requirement already satisfied: certifi in /Users/carstenschnober/Documents/SemanticsOfSustainability/workspace/tempo-embeddings/.venv/lib/python3.11/site-packages (from httpx<=0.27.0,>=0.25.0->weaviate-client~=4.6.5->tempo_embeddings==0.0.1) (2023.5.7)\n",
      "Requirement already satisfied: httpcore==1.* in /Users/carstenschnober/Documents/SemanticsOfSustainability/workspace/tempo-embeddings/.venv/lib/python3.11/site-packages (from httpx<=0.27.0,>=0.25.0->weaviate-client~=4.6.5->tempo_embeddings==0.0.1) (1.0.5)\n",
      "Requirement already satisfied: idna in /Users/carstenschnober/Documents/SemanticsOfSustainability/workspace/tempo-embeddings/.venv/lib/python3.11/site-packages (from httpx<=0.27.0,>=0.25.0->weaviate-client~=4.6.5->tempo_embeddings==0.0.1) (3.4)\n",
      "Requirement already satisfied: sniffio in /Users/carstenschnober/Documents/SemanticsOfSustainability/workspace/tempo-embeddings/.venv/lib/python3.11/site-packages (from httpx<=0.27.0,>=0.25.0->weaviate-client~=4.6.5->tempo_embeddings==0.0.1) (1.3.0)\n",
      "Requirement already satisfied: h11<0.15,>=0.13 in /Users/carstenschnober/Documents/SemanticsOfSustainability/workspace/tempo-embeddings/.venv/lib/python3.11/site-packages (from httpcore==1.*->httpx<=0.27.0,>=0.25.0->weaviate-client~=4.6.5->tempo_embeddings==0.0.1) (0.14.0)\n",
      "Requirement already satisfied: MarkupSafe>=2.0 in /Users/carstenschnober/Documents/SemanticsOfSustainability/workspace/tempo-embeddings/.venv/lib/python3.11/site-packages (from Jinja2>=2.9->bokeh~=3.3.2->tempo_embeddings==0.0.1) (2.1.3)\n",
      "Requirement already satisfied: google-auth>=1.0.1 in /Users/carstenschnober/Documents/SemanticsOfSustainability/workspace/tempo-embeddings/.venv/lib/python3.11/site-packages (from kubernetes>=28.1.0->chromadb~=0.4.22->tempo_embeddings==0.0.1) (2.28.0)\n",
      "Requirement already satisfied: websocket-client!=0.40.0,!=0.41.*,!=0.42.*,>=0.32.0 in /Users/carstenschnober/Documents/SemanticsOfSustainability/workspace/tempo-embeddings/.venv/lib/python3.11/site-packages (from kubernetes>=28.1.0->chromadb~=0.4.22->tempo_embeddings==0.0.1) (1.7.0)\n",
      "Requirement already satisfied: requests-oauthlib in /Users/carstenschnober/Documents/SemanticsOfSustainability/workspace/tempo-embeddings/.venv/lib/python3.11/site-packages (from kubernetes>=28.1.0->chromadb~=0.4.22->tempo_embeddings==0.0.1) (1.3.1)\n",
      "Requirement already satisfied: oauthlib>=3.2.2 in /Users/carstenschnober/Documents/SemanticsOfSustainability/workspace/tempo-embeddings/.venv/lib/python3.11/site-packages (from kubernetes>=28.1.0->chromadb~=0.4.22->tempo_embeddings==0.0.1) (3.2.2)\n",
      "Requirement already satisfied: urllib3>=1.24.2 in /Users/carstenschnober/Documents/SemanticsOfSustainability/workspace/tempo-embeddings/.venv/lib/python3.11/site-packages (from kubernetes>=28.1.0->chromadb~=0.4.22->tempo_embeddings==0.0.1) (2.0.3)\n",
      "Requirement already satisfied: llvmlite<0.41,>=0.40.0dev0 in /Users/carstenschnober/Documents/SemanticsOfSustainability/workspace/tempo-embeddings/.venv/lib/python3.11/site-packages (from numba>=0.51.2->umap-learn~=0.5.4->tempo_embeddings==0.0.1) (0.40.1)\n",
      "Requirement already satisfied: coloredlogs in /Users/carstenschnober/Documents/SemanticsOfSustainability/workspace/tempo-embeddings/.venv/lib/python3.11/site-packages (from onnxruntime>=1.14.1->chromadb~=0.4.22->tempo_embeddings==0.0.1) (15.0.1)\n",
      "Requirement already satisfied: flatbuffers in /Users/carstenschnober/Documents/SemanticsOfSustainability/workspace/tempo-embeddings/.venv/lib/python3.11/site-packages (from onnxruntime>=1.14.1->chromadb~=0.4.22->tempo_embeddings==0.0.1) (23.5.26)\n",
      "Requirement already satisfied: deprecated>=1.2.6 in /Users/carstenschnober/Documents/SemanticsOfSustainability/workspace/tempo-embeddings/.venv/lib/python3.11/site-packages (from opentelemetry-api>=1.2.0->chromadb~=0.4.22->tempo_embeddings==0.0.1) (1.2.14)\n",
      "Requirement already satisfied: importlib-metadata<7.0,>=6.0 in /Users/carstenschnober/Documents/SemanticsOfSustainability/workspace/tempo-embeddings/.venv/lib/python3.11/site-packages (from opentelemetry-api>=1.2.0->chromadb~=0.4.22->tempo_embeddings==0.0.1) (6.8.0)\n",
      "Requirement already satisfied: googleapis-common-protos~=1.52 in /Users/carstenschnober/Documents/SemanticsOfSustainability/workspace/tempo-embeddings/.venv/lib/python3.11/site-packages (from opentelemetry-exporter-otlp-proto-grpc>=1.2.0->chromadb~=0.4.22->tempo_embeddings==0.0.1) (1.63.1)\n",
      "Requirement already satisfied: opentelemetry-proto==1.11.1 in /Users/carstenschnober/Documents/SemanticsOfSustainability/workspace/tempo-embeddings/.venv/lib/python3.11/site-packages (from opentelemetry-exporter-otlp-proto-grpc>=1.2.0->chromadb~=0.4.22->tempo_embeddings==0.0.1) (1.11.1)\n",
      "Requirement already satisfied: backoff<2.0.0,>=1.10.0 in /Users/carstenschnober/Documents/SemanticsOfSustainability/workspace/tempo-embeddings/.venv/lib/python3.11/site-packages (from opentelemetry-exporter-otlp-proto-grpc>=1.2.0->chromadb~=0.4.22->tempo_embeddings==0.0.1) (1.11.1)\n",
      "Requirement already satisfied: opentelemetry-instrumentation-asgi==0.43b0 in /Users/carstenschnober/Documents/SemanticsOfSustainability/workspace/tempo-embeddings/.venv/lib/python3.11/site-packages (from opentelemetry-instrumentation-fastapi>=0.41b0->chromadb~=0.4.22->tempo_embeddings==0.0.1) (0.43b0)\n",
      "Requirement already satisfied: opentelemetry-instrumentation==0.43b0 in /Users/carstenschnober/Documents/SemanticsOfSustainability/workspace/tempo-embeddings/.venv/lib/python3.11/site-packages (from opentelemetry-instrumentation-fastapi>=0.41b0->chromadb~=0.4.22->tempo_embeddings==0.0.1) (0.43b0)\n",
      "Requirement already satisfied: opentelemetry-semantic-conventions==0.43b0 in /Users/carstenschnober/Documents/SemanticsOfSustainability/workspace/tempo-embeddings/.venv/lib/python3.11/site-packages (from opentelemetry-instrumentation-fastapi>=0.41b0->chromadb~=0.4.22->tempo_embeddings==0.0.1) (0.43b0)\n",
      "Requirement already satisfied: opentelemetry-util-http==0.43b0 in /Users/carstenschnober/Documents/SemanticsOfSustainability/workspace/tempo-embeddings/.venv/lib/python3.11/site-packages (from opentelemetry-instrumentation-fastapi>=0.41b0->chromadb~=0.4.22->tempo_embeddings==0.0.1) (0.43b0)\n",
      "Requirement already satisfied: wrapt<2.0.0,>=1.0.0 in /Users/carstenschnober/Documents/SemanticsOfSustainability/workspace/tempo-embeddings/.venv/lib/python3.11/site-packages (from opentelemetry-instrumentation==0.43b0->opentelemetry-instrumentation-fastapi>=0.41b0->chromadb~=0.4.22->tempo_embeddings==0.0.1) (1.15.0)\n",
      "Requirement already satisfied: asgiref~=3.0 in /Users/carstenschnober/Documents/SemanticsOfSustainability/workspace/tempo-embeddings/.venv/lib/python3.11/site-packages (from opentelemetry-instrumentation-asgi==0.43b0->opentelemetry-instrumentation-fastapi>=0.41b0->chromadb~=0.4.22->tempo_embeddings==0.0.1) (3.7.2)\n",
      "Requirement already satisfied: markdown in /Users/carstenschnober/Documents/SemanticsOfSustainability/workspace/tempo-embeddings/.venv/lib/python3.11/site-packages (from panel>=0.13.1->holoviews->tempo_embeddings==0.0.1) (3.4.4)\n",
      "Requirement already satisfied: markdown-it-py in /Users/carstenschnober/Documents/SemanticsOfSustainability/workspace/tempo-embeddings/.venv/lib/python3.11/site-packages (from panel>=0.13.1->holoviews->tempo_embeddings==0.0.1) (3.0.0)\n",
      "Requirement already satisfied: linkify-it-py in /Users/carstenschnober/Documents/SemanticsOfSustainability/workspace/tempo-embeddings/.venv/lib/python3.11/site-packages (from panel>=0.13.1->holoviews->tempo_embeddings==0.0.1) (2.0.2)\n",
      "Requirement already satisfied: mdit-py-plugins in /Users/carstenschnober/Documents/SemanticsOfSustainability/workspace/tempo-embeddings/.venv/lib/python3.11/site-packages (from panel>=0.13.1->holoviews->tempo_embeddings==0.0.1) (0.4.0)\n",
      "Requirement already satisfied: bleach in /Users/carstenschnober/Documents/SemanticsOfSustainability/workspace/tempo-embeddings/.venv/lib/python3.11/site-packages (from panel>=0.13.1->holoviews->tempo_embeddings==0.0.1) (6.0.0)\n",
      "Requirement already satisfied: monotonic>=1.5 in /Users/carstenschnober/Documents/SemanticsOfSustainability/workspace/tempo-embeddings/.venv/lib/python3.11/site-packages (from posthog>=2.4.0->chromadb~=0.4.22->tempo_embeddings==0.0.1) (1.6)\n",
      "Requirement already satisfied: charset-normalizer<4,>=2 in /Users/carstenschnober/Documents/SemanticsOfSustainability/workspace/tempo-embeddings/.venv/lib/python3.11/site-packages (from requests>=2.28->chromadb~=0.4.22->tempo_embeddings==0.0.1) (3.2.0)\n",
      "Requirement already satisfied: httptools>=0.5.0 in /Users/carstenschnober/Documents/SemanticsOfSustainability/workspace/tempo-embeddings/.venv/lib/python3.11/site-packages (from uvicorn[standard]>=0.18.3->chromadb~=0.4.22->tempo_embeddings==0.0.1) (0.6.1)\n",
      "Requirement already satisfied: python-dotenv>=0.13 in /Users/carstenschnober/Documents/SemanticsOfSustainability/workspace/tempo-embeddings/.venv/lib/python3.11/site-packages (from uvicorn[standard]>=0.18.3->chromadb~=0.4.22->tempo_embeddings==0.0.1) (1.0.1)\n",
      "Requirement already satisfied: uvloop!=0.15.0,!=0.15.1,>=0.14.0 in /Users/carstenschnober/Documents/SemanticsOfSustainability/workspace/tempo-embeddings/.venv/lib/python3.11/site-packages (from uvicorn[standard]>=0.18.3->chromadb~=0.4.22->tempo_embeddings==0.0.1) (0.19.0)\n",
      "Requirement already satisfied: watchfiles>=0.13 in /Users/carstenschnober/Documents/SemanticsOfSustainability/workspace/tempo-embeddings/.venv/lib/python3.11/site-packages (from uvicorn[standard]>=0.18.3->chromadb~=0.4.22->tempo_embeddings==0.0.1) (0.21.0)\n",
      "Requirement already satisfied: websockets>=10.4 in /Users/carstenschnober/Documents/SemanticsOfSustainability/workspace/tempo-embeddings/.venv/lib/python3.11/site-packages (from uvicorn[standard]>=0.18.3->chromadb~=0.4.22->tempo_embeddings==0.0.1) (12.0)\n",
      "Requirement already satisfied: cloudpickle>=1.5.0 in /Users/carstenschnober/Documents/SemanticsOfSustainability/workspace/tempo-embeddings/.venv/lib/python3.11/site-packages (from dask->datashader->tempo_embeddings==0.0.1) (2.2.1)\n",
      "Requirement already satisfied: partd>=1.2.0 in /Users/carstenschnober/Documents/SemanticsOfSustainability/workspace/tempo-embeddings/.venv/lib/python3.11/site-packages (from dask->datashader->tempo_embeddings==0.0.1) (1.4.0)\n",
      "Requirement already satisfied: multipledispatch>=0.4.7 in /Users/carstenschnober/Documents/SemanticsOfSustainability/workspace/tempo-embeddings/.venv/lib/python3.11/site-packages (from datashape->datashader->tempo_embeddings==0.0.1) (1.0.0)\n",
      "Requirement already satisfied: backcall in /Users/carstenschnober/Documents/SemanticsOfSustainability/workspace/tempo-embeddings/.venv/lib/python3.11/site-packages (from ipython->wizmap~=0.1.2->tempo_embeddings==0.0.1) (0.2.0)\n",
      "Requirement already satisfied: decorator in /Users/carstenschnober/Documents/SemanticsOfSustainability/workspace/tempo-embeddings/.venv/lib/python3.11/site-packages (from ipython->wizmap~=0.1.2->tempo_embeddings==0.0.1) (5.1.1)\n",
      "Requirement already satisfied: jedi>=0.16 in /Users/carstenschnober/Documents/SemanticsOfSustainability/workspace/tempo-embeddings/.venv/lib/python3.11/site-packages (from ipython->wizmap~=0.1.2->tempo_embeddings==0.0.1) (0.18.2)\n",
      "Requirement already satisfied: matplotlib-inline in /Users/carstenschnober/Documents/SemanticsOfSustainability/workspace/tempo-embeddings/.venv/lib/python3.11/site-packages (from ipython->wizmap~=0.1.2->tempo_embeddings==0.0.1) (0.1.6)\n",
      "Requirement already satisfied: pickleshare in /Users/carstenschnober/Documents/SemanticsOfSustainability/workspace/tempo-embeddings/.venv/lib/python3.11/site-packages (from ipython->wizmap~=0.1.2->tempo_embeddings==0.0.1) (0.7.5)\n",
      "Requirement already satisfied: prompt-toolkit!=3.0.37,<3.1.0,>=3.0.30 in /Users/carstenschnober/Documents/SemanticsOfSustainability/workspace/tempo-embeddings/.venv/lib/python3.11/site-packages (from ipython->wizmap~=0.1.2->tempo_embeddings==0.0.1) (3.0.39)\n",
      "Requirement already satisfied: pygments>=2.4.0 in /Users/carstenschnober/Documents/SemanticsOfSustainability/workspace/tempo-embeddings/.venv/lib/python3.11/site-packages (from ipython->wizmap~=0.1.2->tempo_embeddings==0.0.1) (2.15.1)\n",
      "Requirement already satisfied: stack-data in /Users/carstenschnober/Documents/SemanticsOfSustainability/workspace/tempo-embeddings/.venv/lib/python3.11/site-packages (from ipython->wizmap~=0.1.2->tempo_embeddings==0.0.1) (0.6.2)\n",
      "Requirement already satisfied: traitlets>=5 in /Users/carstenschnober/Documents/SemanticsOfSustainability/workspace/tempo-embeddings/.venv/lib/python3.11/site-packages (from ipython->wizmap~=0.1.2->tempo_embeddings==0.0.1) (5.9.0)\n",
      "Requirement already satisfied: pexpect>4.3 in /Users/carstenschnober/Documents/SemanticsOfSustainability/workspace/tempo-embeddings/.venv/lib/python3.11/site-packages (from ipython->wizmap~=0.1.2->tempo_embeddings==0.0.1) (4.8.0)\n",
      "Requirement already satisfied: appnope in /Users/carstenschnober/Documents/SemanticsOfSustainability/workspace/tempo-embeddings/.venv/lib/python3.11/site-packages (from ipython->wizmap~=0.1.2->tempo_embeddings==0.0.1) (0.1.3)\n",
      "Requirement already satisfied: mpmath>=0.19 in /Users/carstenschnober/Documents/SemanticsOfSustainability/workspace/tempo-embeddings/.venv/lib/python3.11/site-packages (from sympy->torch~=2.4.0->tempo_embeddings==0.0.1) (1.3.0)\n",
      "Requirement already satisfied: cachetools<6.0,>=2.0.0 in /Users/carstenschnober/Documents/SemanticsOfSustainability/workspace/tempo-embeddings/.venv/lib/python3.11/site-packages (from google-auth>=1.0.1->kubernetes>=28.1.0->chromadb~=0.4.22->tempo_embeddings==0.0.1) (5.3.1)\n",
      "Requirement already satisfied: pyasn1-modules>=0.2.1 in /Users/carstenschnober/Documents/SemanticsOfSustainability/workspace/tempo-embeddings/.venv/lib/python3.11/site-packages (from google-auth>=1.0.1->kubernetes>=28.1.0->chromadb~=0.4.22->tempo_embeddings==0.0.1) (0.3.0)\n",
      "Requirement already satisfied: rsa<5,>=3.1.4 in /Users/carstenschnober/Documents/SemanticsOfSustainability/workspace/tempo-embeddings/.venv/lib/python3.11/site-packages (from google-auth>=1.0.1->kubernetes>=28.1.0->chromadb~=0.4.22->tempo_embeddings==0.0.1) (4.9)\n",
      "Requirement already satisfied: zipp>=0.5 in /Users/carstenschnober/Documents/SemanticsOfSustainability/workspace/tempo-embeddings/.venv/lib/python3.11/site-packages (from importlib-metadata<7.0,>=6.0->opentelemetry-api>=1.2.0->chromadb~=0.4.22->tempo_embeddings==0.0.1) (3.16.2)\n",
      "Requirement already satisfied: parso<0.9.0,>=0.8.0 in /Users/carstenschnober/Documents/SemanticsOfSustainability/workspace/tempo-embeddings/.venv/lib/python3.11/site-packages (from jedi>=0.16->ipython->wizmap~=0.1.2->tempo_embeddings==0.0.1) (0.8.3)\n",
      "Requirement already satisfied: locket in /Users/carstenschnober/Documents/SemanticsOfSustainability/workspace/tempo-embeddings/.venv/lib/python3.11/site-packages (from partd>=1.2.0->dask->datashader->tempo_embeddings==0.0.1) (1.0.0)\n",
      "Requirement already satisfied: ptyprocess>=0.5 in /Users/carstenschnober/Documents/SemanticsOfSustainability/workspace/tempo-embeddings/.venv/lib/python3.11/site-packages (from pexpect>4.3->ipython->wizmap~=0.1.2->tempo_embeddings==0.0.1) (0.7.0)\n",
      "Requirement already satisfied: wcwidth in /Users/carstenschnober/Documents/SemanticsOfSustainability/workspace/tempo-embeddings/.venv/lib/python3.11/site-packages (from prompt-toolkit!=3.0.37,<3.1.0,>=3.0.30->ipython->wizmap~=0.1.2->tempo_embeddings==0.0.1) (0.2.6)\n",
      "Requirement already satisfied: webencodings in /Users/carstenschnober/Documents/SemanticsOfSustainability/workspace/tempo-embeddings/.venv/lib/python3.11/site-packages (from bleach->panel>=0.13.1->holoviews->tempo_embeddings==0.0.1) (0.5.1)\n",
      "Requirement already satisfied: humanfriendly>=9.1 in /Users/carstenschnober/Documents/SemanticsOfSustainability/workspace/tempo-embeddings/.venv/lib/python3.11/site-packages (from coloredlogs->onnxruntime>=1.14.1->chromadb~=0.4.22->tempo_embeddings==0.0.1) (10.0)\n",
      "Requirement already satisfied: cffi>=1.12 in /Users/carstenschnober/Documents/SemanticsOfSustainability/workspace/tempo-embeddings/.venv/lib/python3.11/site-packages (from cryptography->authlib<2.0.0,>=1.2.1->weaviate-client~=4.6.5->tempo_embeddings==0.0.1) (1.16.0)\n",
      "Requirement already satisfied: uc-micro-py in /Users/carstenschnober/Documents/SemanticsOfSustainability/workspace/tempo-embeddings/.venv/lib/python3.11/site-packages (from linkify-it-py->panel>=0.13.1->holoviews->tempo_embeddings==0.0.1) (1.0.2)\n",
      "Requirement already satisfied: mdurl~=0.1 in /Users/carstenschnober/Documents/SemanticsOfSustainability/workspace/tempo-embeddings/.venv/lib/python3.11/site-packages (from markdown-it-py->panel>=0.13.1->holoviews->tempo_embeddings==0.0.1) (0.1.2)\n",
      "Requirement already satisfied: executing>=1.2.0 in /Users/carstenschnober/Documents/SemanticsOfSustainability/workspace/tempo-embeddings/.venv/lib/python3.11/site-packages (from stack-data->ipython->wizmap~=0.1.2->tempo_embeddings==0.0.1) (1.2.0)\n",
      "Requirement already satisfied: asttokens>=2.1.0 in /Users/carstenschnober/Documents/SemanticsOfSustainability/workspace/tempo-embeddings/.venv/lib/python3.11/site-packages (from stack-data->ipython->wizmap~=0.1.2->tempo_embeddings==0.0.1) (2.2.1)\n",
      "Requirement already satisfied: pure-eval in /Users/carstenschnober/Documents/SemanticsOfSustainability/workspace/tempo-embeddings/.venv/lib/python3.11/site-packages (from stack-data->ipython->wizmap~=0.1.2->tempo_embeddings==0.0.1) (0.2.2)\n",
      "Requirement already satisfied: pycparser in /Users/carstenschnober/Documents/SemanticsOfSustainability/workspace/tempo-embeddings/.venv/lib/python3.11/site-packages (from cffi>=1.12->cryptography->authlib<2.0.0,>=1.2.1->weaviate-client~=4.6.5->tempo_embeddings==0.0.1) (2.22)\n",
      "Requirement already satisfied: pyasn1<0.6.0,>=0.4.6 in /Users/carstenschnober/Documents/SemanticsOfSustainability/workspace/tempo-embeddings/.venv/lib/python3.11/site-packages (from pyasn1-modules>=0.2.1->google-auth>=1.0.1->kubernetes>=28.1.0->chromadb~=0.4.22->tempo_embeddings==0.0.1) (0.5.1)\n",
      "Using cached weaviate_client-4.6.7-py3-none-any.whl (328 kB)\n",
      "Building wheels for collected packages: tempo_embeddings\n",
      "  Building editable for tempo_embeddings (pyproject.toml) ... \u001b[?25ldone\n",
      "\u001b[?25h  Created wheel for tempo_embeddings: filename=tempo_embeddings-0.0.1-0.editable-py3-none-any.whl size=9565 sha256=9b3a402d87942ec563d815b05d6300b7b5e18446018b71a2754bb4080bc4617b\n",
      "  Stored in directory: /private/var/folders/d8/j5_fyf8941j_492zvf8948y40000gn/T/pip-ephem-wheel-cache-_f8bfysn/wheels/9d/dd/1c/d0e8ab6bde11a84556c00bd645333aaad0b90e2c38e11b0ed1\n",
      "Successfully built tempo_embeddings\n",
      "Installing collected packages: weaviate-client, tempo_embeddings\n",
      "  Attempting uninstall: weaviate-client\n",
      "    Found existing installation: weaviate-client 4.7.1\n",
      "    Uninstalling weaviate-client-4.7.1:\n",
      "      Successfully uninstalled weaviate-client-4.7.1\n",
      "  Attempting uninstall: tempo_embeddings\n",
      "    Found existing installation: tempo_embeddings 0.0.1\n",
      "    Uninstalling tempo_embeddings-0.0.1:\n",
      "      Successfully uninstalled tempo_embeddings-0.0.1\n",
      "Successfully installed tempo_embeddings-0.0.1 weaviate-client-4.6.7\n",
      "\n",
      "\u001b[1m[\u001b[0m\u001b[34;49mnotice\u001b[0m\u001b[1;39;49m]\u001b[0m\u001b[39;49m A new release of pip is available: \u001b[0m\u001b[31;49m24.1.2\u001b[0m\u001b[39;49m -> \u001b[0m\u001b[32;49m24.2\u001b[0m\n",
      "\u001b[1m[\u001b[0m\u001b[34;49mnotice\u001b[0m\u001b[1;39;49m]\u001b[0m\u001b[39;49m To update, run: \u001b[0m\u001b[32;49mpip install --upgrade pip\u001b[0m\n",
      "Note: you may need to restart the kernel to use updated packages.\n"
     ]
    }
   ],
   "source": [
    "%pip install -U -e ..\n",
    "\n",
    "# Optional Install tempo-embeddings from GitHub\n",
    "# This can also refer to a specific version or branch\n",
    "\n",
    "# %pip install --upgrade pip  # Required for properly resolving dependencies\n",
    "# %pip uninstall -y tempo_embeddings  # Remove existing installation\n",
    "# %pip install --upgrade git+https://github.com/Semantics-of-Sustainability/tempo-embeddings.git"
   ]
  },
  {
   "cell_type": "markdown",
   "metadata": {},
   "source": [
    "## Load Data\n",
    "\n",
    "The data needs to be downloaded and provided in the path configured in the next cell.\n",
    "\n",
    "NOTE: You have to manually adapt the `DATA_DIR` below."
   ]
  },
  {
   "cell_type": "code",
   "execution_count": 5,
   "metadata": {},
   "outputs": [],
   "source": [
    "import operator\n",
    "from functools import reduce\n",
    "\n",
    "from tqdm import tqdm\n",
    "\n",
    "from tempo_embeddings.text.corpus import Corpus"
   ]
  },
  {
   "cell_type": "code",
   "execution_count": 6,
   "metadata": {},
   "outputs": [
    {
     "data": {
      "text/plain": [
       "['milieuproblemen',\n",
       " 'Milieunormen',\n",
       " 'Milieubeweging ',\n",
       " 'Milieu-aspecten',\n",
       " 'milieueffecten',\n",
       " 'Milieumaatregelen',\n",
       " 'Milieuvriendelijk ',\n",
       " 'Milieubeleid',\n",
       " 'milieuoogpunt',\n",
       " 'koolzuur',\n",
       " 'koolzuurgas',\n",
       " 'stikstofdioxide',\n",
       " 'zwaveldioxide',\n",
       " 'isolatie',\n",
       " 'Rookgassen',\n",
       " 'verzuring',\n",
       " 'Zuinig',\n",
       " 'vervuilde',\n",
       " 'niet-vervuilde',\n",
       " 'luchtvervuiling',\n",
       " 'luchtverontreiniging',\n",
       " 'energieverbruik',\n",
       " 'electriciteitsverbruik',\n",
       " 'energieverspilling',\n",
       " 'isolatie',\n",
       " 'energieverslindend',\n",
       " 'heffing',\n",
       " 'Broeikaseffect',\n",
       " 'broeikas-effect',\n",
       " 'broeikasgassen',\n",
       " 'Energiebesparingsmogelijkheden',\n",
       " 'CO2-uitstoot',\n",
       " 'wereldklimaat']"
      ]
     },
     "execution_count": 6,
     "metadata": {},
     "output_type": "execute_result"
    }
   ],
   "source": [
    "WINDOW_SIZE = 300  # Size of passages in characters\n",
    "USE_FULL_SENTENCES = False  # For now, this parameter overrides the window size. Instead of splitting arbitrarily the passages in WINDO_SIZE chunks, each Sentence will be a Passage\n",
    "\n",
    "RANDOM_SAMPLE_ANP = 200\n",
    "RANDOM_SAMPLE_STATEN_GENERAAL = 200\n",
    "\n",
    "STATEN_GENERAAL_BLACKLIST = [\"1987\"]\n",
    "\n",
    "FILTER_TERMS = [\n",
    "    \"duurzaam\",\n",
    "    \"milieu\",\n",
    "]  # Search term(s) for filtering the corpus. If empty, it will only create Passages for the pieces of text that match the FILTER_TERMS\n",
    "FILTER_TERMS = open(\"sustainability-filter-words.txt\").read().split(\"\\n\")\n",
    "FILTER_TERMS"
   ]
  },
  {
   "cell_type": "code",
   "execution_count": 7,
   "metadata": {},
   "outputs": [],
   "source": [
    "## NOTE: Adapt the `DATA_DIR` below manually!\n",
    "## For a shared Google Drive, create a shortcut into your own Google Drive\n",
    "## See https://stackoverflow.com/questions/54351852/accessing-shared-with-me-with-colab\n",
    "\n",
    "from tempo_embeddings.settings import CORPUS_DIR\n",
    "\n",
    "try:\n",
    "    import google.colab  # noqa: F401\n",
    "\n",
    "    IN_COLAB = True\n",
    "except ModuleNotFoundError:\n",
    "    IN_COLAB = False\n",
    "\n",
    "assert CORPUS_DIR is not None"
   ]
  },
  {
   "cell_type": "markdown",
   "metadata": {},
   "source": [
    "## Load Model"
   ]
  },
  {
   "cell_type": "code",
   "execution_count": 13,
   "metadata": {},
   "outputs": [
    {
     "data": {
      "text/plain": [
       "<tempo_embeddings.embeddings.model.SentenceTransformerModelWrapper at 0x334782ed0>"
      ]
     },
     "execution_count": 13,
     "metadata": {},
     "output_type": "execute_result"
    }
   ],
   "source": [
    "from tempo_embeddings.embeddings.model import (\n",
    "    EmbeddingsMethod,\n",
    "    SentenceTransformerModelWrapper,\n",
    ")\n",
    "\n",
    "kwargs = {\"accelerate\": True}\n",
    "\n",
    "### Sentence Transformers\n",
    "MODEL_NAME = \"NetherlandsForensicInstitute/robbert-2022-dutch-sentence-transformers\"\n",
    "# MODEL_NAME = \"textgain/allnli-GroNLP-bert-base-dutch-cased\"\n",
    "model_class = SentenceTransformerModelWrapper\n",
    "\n",
    "model = model_class.from_pretrained(MODEL_NAME, **kwargs)\n",
    "model.embeddings_method = EmbeddingsMethod.MEAN\n",
    "model"
   ]
  },
  {
   "cell_type": "markdown",
   "metadata": {},
   "source": [
    "# Database Access"
   ]
  },
  {
   "cell_type": "code",
   "execution_count": 14,
   "metadata": {},
   "outputs": [
    {
     "name": "stderr",
     "output_type": "stream",
     "text": [
      "12:04:57 INFO:HTTP Request: GET http://localhost:8087/v1/.well-known/openid-configuration \"HTTP/1.1 404 Not Found\"\n"
     ]
    },
    {
     "name": "stderr",
     "output_type": "stream",
     "text": [
      "12:04:57 INFO:HTTP Request: GET http://localhost:8087/v1/meta \"HTTP/1.1 200 OK\"\n",
      "12:04:57 INFO:HTTP Request: GET https://pypi.org/pypi/weaviate-client/json \"HTTP/1.1 200 OK\"\n",
      "12:04:57 INFO:HTTP Request: GET http://localhost:8087/v1/schema/TempoEmbeddings \"HTTP/1.1 200 OK\"\n",
      "12:04:57 INFO:HTTP Request: GET http://localhost:8087/v1/schema/TempoEmbeddings \"HTTP/1.1 200 OK\"\n"
     ]
    }
   ],
   "source": [
    "import weaviate\n",
    "from tempo_embeddings.embeddings import WeaviateDatabaseManager\n",
    "\n",
    "db = WeaviateDatabaseManager(client=weaviate.connect_to_local(port=8087), model=model)"
   ]
  },
  {
   "cell_type": "markdown",
   "metadata": {},
   "source": [
    "### ANP"
   ]
  },
  {
   "cell_type": "code",
   "execution_count": 15,
   "metadata": {},
   "outputs": [],
   "source": [
    "COLLECTION_NAME = \"ANP\"\n",
    "ANP_DIR = CORPUS_DIR / COLLECTION_NAME\n",
    "assert RANDOM_SAMPLE_ANP == 0 or ANP_DIR.is_dir(), f\"{ANP_DIR} not found.\""
   ]
  },
  {
   "cell_type": "code",
   "execution_count": 16,
   "metadata": {},
   "outputs": [
    {
     "name": "stdout",
     "output_type": "stream",
     "text": [
      "Found 48 ANP Files\n"
     ]
    },
    {
     "data": {
      "text/plain": [
       "[PosixPath('/Volumes/i-lab.data.uu.nl/research-semantics-of-sustainability/semantics-of-sustainability/data/ANP/ANP_1937.csv.gz'),\n",
       " PosixPath('/Volumes/i-lab.data.uu.nl/research-semantics-of-sustainability/semantics-of-sustainability/data/ANP/ANP_1938.csv.gz'),\n",
       " PosixPath('/Volumes/i-lab.data.uu.nl/research-semantics-of-sustainability/semantics-of-sustainability/data/ANP/ANP_1939.csv.gz'),\n",
       " PosixPath('/Volumes/i-lab.data.uu.nl/research-semantics-of-sustainability/semantics-of-sustainability/data/ANP/ANP_1940.csv.gz'),\n",
       " PosixPath('/Volumes/i-lab.data.uu.nl/research-semantics-of-sustainability/semantics-of-sustainability/data/ANP/ANP_1941.csv.gz'),\n",
       " PosixPath('/Volumes/i-lab.data.uu.nl/research-semantics-of-sustainability/semantics-of-sustainability/data/ANP/ANP_1942.csv.gz'),\n",
       " PosixPath('/Volumes/i-lab.data.uu.nl/research-semantics-of-sustainability/semantics-of-sustainability/data/ANP/ANP_1943.csv.gz'),\n",
       " PosixPath('/Volumes/i-lab.data.uu.nl/research-semantics-of-sustainability/semantics-of-sustainability/data/ANP/ANP_1944.csv.gz'),\n",
       " PosixPath('/Volumes/i-lab.data.uu.nl/research-semantics-of-sustainability/semantics-of-sustainability/data/ANP/ANP_1945.csv.gz'),\n",
       " PosixPath('/Volumes/i-lab.data.uu.nl/research-semantics-of-sustainability/semantics-of-sustainability/data/ANP/ANP_1946.csv.gz')]"
      ]
     },
     "execution_count": 16,
     "metadata": {},
     "output_type": "execute_result"
    }
   ],
   "source": [
    "import random\n",
    "\n",
    "random.seed(0)\n",
    "\n",
    "anp_files = list(ANP_DIR.glob(\"ANP_????.csv.gz\"))\n",
    "\n",
    "if RANDOM_SAMPLE_ANP and len(anp_files) > RANDOM_SAMPLE_ANP:\n",
    "    anp_files = random.sample(anp_files, k=RANDOM_SAMPLE_ANP)\n",
    "\n",
    "print(f\"Found {len(anp_files)} ANP Files\")\n",
    "anp_files[:10]"
   ]
  },
  {
   "cell_type": "code",
   "execution_count": 17,
   "metadata": {},
   "outputs": [
    {
     "name": "stderr",
     "output_type": "stream",
     "text": [
      "12:05:17 INFO:HTTP Request: POST http://localhost:8087/v1/graphql \"HTTP/1.1 200 OK\"\n",
      "12:05:17 WARNING:No 'ANP' files ingested yet\n"
     ]
    },
    {
     "name": "stdout",
     "output_type": "stream",
     "text": [
      "Already ingested 'ANP' files: set()\n"
     ]
    }
   ],
   "source": [
    "import logging\n",
    "\n",
    "ingested_files: set[str] = set()\n",
    "try:\n",
    "    ingested_files.update(*db.filenames(COLLECTION_NAME))\n",
    "except ValueError:\n",
    "    logging.warning(f\"No '{COLLECTION_NAME}' files ingested yet\")\n",
    "\n",
    "print(f\"Already ingested '{COLLECTION_NAME}' files: {ingested_files}\")"
   ]
  },
  {
   "cell_type": "code",
   "execution_count": 18,
   "metadata": {},
   "outputs": [
    {
     "name": "stderr",
     "output_type": "stream",
     "text": [
      "100%|██████████| 48/48 [11:05<00:00, 13.85s/file]\n"
     ]
    },
    {
     "data": {
      "text/plain": [
       "26728"
      ]
     },
     "execution_count": 18,
     "metadata": {},
     "output_type": "execute_result"
    }
   ],
   "source": [
    "anp_corpus = (\n",
    "    reduce(\n",
    "        operator.add,\n",
    "        (\n",
    "            Corpus.from_csv_file(\n",
    "                path,\n",
    "                filter_terms=FILTER_TERMS,\n",
    "                text_columns=[\"content\"],\n",
    "                encoding=\"iso8859_15\",\n",
    "                compression=\"gzip\",\n",
    "                delimiter=\";\",\n",
    "                window_size=WINDOW_SIZE,\n",
    "                nlp_pipeline=None,\n",
    "            )\n",
    "            for path in tqdm(anp_files, unit=\"file\")\n",
    "            if path.name not in ingested_files\n",
    "        ),\n",
    "    )\n",
    "    if anp_files\n",
    "    else Corpus()\n",
    ")\n",
    "\n",
    "len(anp_corpus)"
   ]
  },
  {
   "cell_type": "code",
   "execution_count": 19,
   "metadata": {},
   "outputs": [
    {
     "name": "stderr",
     "output_type": "stream",
     "text": [
      "12:16:30 INFO:HTTP Request: GET http://localhost:8087/v1/schema/ANP \"HTTP/1.1 404 Not Found\"\n",
      "12:16:30 INFO:HTTP Request: POST http://localhost:8087/v1/objects \"HTTP/1.1 200 OK\"\n",
      "12:16:30 INFO:HTTP Request: POST http://localhost:8087/v1/schema \"HTTP/1.1 200 OK\"\n",
      "Embeddings:   0%|          | 0/3342 [00:00<?, ?batch/s]/Users/carstenschnober/Documents/SemanticsOfSustainability/workspace/tempo-embeddings/.venv/lib/python3.11/site-packages/weaviate/warnings.py:202: DeprecationWarning: Dep020: The `all_responses` attribute in the `BatchResults` object is deprecated and will be removed by Q4 2024. Please instead use the `errors` and `uuids` attributes.\n",
      "  warnings.warn(\n",
      "Embeddings: 100%|█████████▉| 3341/3342 [06:43<00:00,  8.27batch/s]\n",
      "Embeddings: 100%|█████████▉| 3340/3342 [06:43<00:00,  8.27batch/s]\n"
     ]
    }
   ],
   "source": [
    "db.ingest(corpus=anp_corpus, name=COLLECTION_NAME)"
   ]
  },
  {
   "cell_type": "code",
   "execution_count": 20,
   "metadata": {},
   "outputs": [
    {
     "name": "stderr",
     "output_type": "stream",
     "text": [
      "01:13:40 INFO:HTTP Request: POST http://localhost:8087/v1/graphql \"HTTP/1.1 200 OK\"\n",
      "01:13:40 INFO:HTTP Request: POST http://localhost:8087/v1/graphql \"HTTP/1.1 200 OK\"\n"
     ]
    },
    {
     "data": {
      "text/plain": [
       "{'anp_1949_06_28_54_ocr.xml',\n",
       " 'anp_1954_03_03_14_ocr.xml',\n",
       " 'anp_1958_09_29_56_ocr.xml',\n",
       " 'anp_1961_01_20_94_ocr.xml',\n",
       " 'anp_1962_01_19_43_ocr.xml',\n",
       " 'anp_1962_10_01_56_ocr.xml',\n",
       " 'anp_1965_01_29_79_ocr.xml',\n",
       " 'anp_1968_09_26_100_ocr.xml',\n",
       " 'anp_1968_09_26_106_ocr.xml',\n",
       " 'anp_1969_10_06_121_ocr.xml',\n",
       " 'anp_1969_10_27_99_ocr.xml',\n",
       " 'anp_1970_06_24_35_ocr.xml',\n",
       " 'anp_1970_10_14_58_ocr.xml',\n",
       " 'anp_1972_09_15_86_ocr.xml',\n",
       " 'anp_1973_11_08_23_ocr.xml',\n",
       " 'anp_1973_11_08_86_ocr.xml',\n",
       " 'anp_1974_06_02_104_ocr.xml',\n",
       " 'anp_1975_06_17_118_ocr.xml',\n",
       " 'anp_1976_04_28_12_ocr.xml',\n",
       " 'anp_1976_06_09_142_ocr.xml',\n",
       " 'anp_1976_06_24_129_ocr.xml',\n",
       " 'anp_1979_09_19_56_ocr.xml',\n",
       " 'anp_1979_10_02_142_ocr.xml',\n",
       " 'anp_1979_11_06_14_ocr.xml',\n",
       " 'anp_1979_11_30_69_ocr.xml',\n",
       " 'anp_1980_05_13_155_ocr.xml',\n",
       " 'anp_1980_05_13_1_ocr.xml',\n",
       " 'anp_1980_06_21_21_ocr.xml',\n",
       " 'anp_1980_07_05_70_ocr.xml',\n",
       " 'anp_1980_11_06_14_ocr.xml',\n",
       " 'anp_1980_11_14_32_ocr.xml',\n",
       " 'anp_1981_02_11_100_ocr.xml',\n",
       " 'anp_1981_02_11_110_ocr.xml',\n",
       " 'anp_1981_02_11_127_ocr.xml',\n",
       " 'anp_1981_02_11_21_ocr.xml',\n",
       " 'anp_1981_02_11_28_ocr.xml',\n",
       " 'anp_1981_02_11_50_ocr.xml',\n",
       " 'anp_1981_07_30_78_ocr.xml',\n",
       " 'anp_1981_11_11_55_ocr.xml',\n",
       " 'anp_1981_12_17_131_ocr.xml',\n",
       " 'anp_1981_12_17_134_ocr.xml',\n",
       " 'anp_1982_04_23_147_ocr.xml',\n",
       " 'anp_1982_04_23_152_ocr.xml',\n",
       " 'anp_1982_05_08_182_ocr.xml',\n",
       " 'anp_1982_06_13_35_ocr.xml',\n",
       " 'anp_1982_07_28_41_ocr.xml',\n",
       " 'anp_1982_07_28_80_ocr.xml',\n",
       " 'anp_1982_07_28_90_ocr.xml',\n",
       " 'anp_1982_08_24_123_ocr.xml',\n",
       " 'anp_1982_08_24_127_ocr.xml',\n",
       " 'anp_1982_08_24_131_ocr.xml',\n",
       " 'anp_1982_08_24_18_ocr.xml',\n",
       " 'anp_1982_08_24_29_ocr.xml',\n",
       " 'anp_1982_09_24_68_ocr.xml',\n",
       " 'anp_1982_09_24_91_ocr.xml',\n",
       " 'anp_1982_10_06_65_ocr.xml',\n",
       " 'anp_1982_10_26_138_ocr.xml',\n",
       " 'anp_1982_10_26_141_ocr.xml',\n",
       " 'anp_1982_10_26_26_ocr.xml',\n",
       " 'anp_1982_10_26_80_ocr.xml',\n",
       " 'anp_1982_12_09_54_ocr.xml',\n",
       " 'anp_1983_02_01_66_ocr.xml',\n",
       " 'anp_1983_03_13_101_ocr.xml',\n",
       " 'anp_1983_03_13_69_ocr.xml',\n",
       " 'anp_1983_04_28_125_ocr.xml',\n",
       " 'anp_1983_04_28_52_ocr.xml',\n",
       " 'anp_1983_05_21_114_ocr.xml',\n",
       " 'anp_1983_05_21_50_ocr.xml',\n",
       " 'anp_1983_06_25_165_ocr.xml',\n",
       " 'anp_1983_07_17_105_ocr.xml',\n",
       " 'anp_1983_07_29_119_ocr.xml',\n",
       " 'anp_1983_08_18_130_ocr.xml',\n",
       " 'anp_1983_09_21_75_ocr.xml',\n",
       " 'anp_1983_09_21_96_ocr.xml',\n",
       " 'anp_1983_10_15_104_ocr.xml',\n",
       " 'anp_1983_10_28_125_ocr.xml',\n",
       " 'anp_1983_10_28_127_ocr.xml',\n",
       " 'anp_1983_10_28_38_ocr.xml',\n",
       " 'anp_1983_12_19_116_ocr.xml',\n",
       " 'anp_1983_12_19_31_ocr.xml',\n",
       " 'anp_1983_12_22_92_ocr.xml',\n",
       " 'anp_1983_12_23_158_ocr.xml',\n",
       " 'anp_1984_02_29_137_ocr.xml',\n",
       " 'anp_1984_02_29_142_ocr.xml',\n",
       " 'anp_1984_02_29_20_ocr.xml',\n",
       " 'anp_1984_02_29_29_ocr.xml',\n",
       " 'anp_1984_03_06_101_ocr.xml',\n",
       " 'anp_1984_03_06_36_ocr.xml',\n",
       " 'anp_1984_03_06_71_ocr.xml',\n",
       " 'anp_1984_03_06_88_ocr.xml',\n",
       " 'anp_1984_03_28_44_ocr.xml',\n",
       " 'anp_1984_04_09_64_ocr.xml',\n",
       " 'anp_1984_04_09_72_ocr.xml',\n",
       " 'anp_1984_04_12_173_ocr.xml',\n",
       " 'anp_1984_04_12_17_ocr.xml',\n",
       " 'anp_1984_04_12_2_ocr.xml',\n",
       " 'anp_1984_07_11_35_ocr.xml',\n",
       " 'anp_1984_07_24_78_ocr.xml',\n",
       " 'anp_1984_07_24_80_ocr.xml',\n",
       " 'anp_1984_07_25_167_ocr.xml'}"
      ]
     },
     "execution_count": 20,
     "metadata": {},
     "output_type": "execute_result"
    }
   ],
   "source": [
    "set(db.filenames(COLLECTION_NAME))"
   ]
  },
  {
   "cell_type": "markdown",
   "metadata": {},
   "source": [
    "### Staten Generaal"
   ]
  },
  {
   "cell_type": "code",
   "execution_count": 21,
   "metadata": {},
   "outputs": [],
   "source": [
    "COLLECTION_NAME = \"StatenGeneraal\"\n",
    "STATEN_GENERAAL_DIR = CORPUS_DIR / COLLECTION_NAME\n",
    "\n",
    "assert RANDOM_SAMPLE_STATEN_GENERAAL == 0 or STATEN_GENERAAL_DIR.is_dir()"
   ]
  },
  {
   "cell_type": "code",
   "execution_count": 22,
   "metadata": {},
   "outputs": [
    {
     "name": "stdout",
     "output_type": "stream",
     "text": [
      "Found 118 STAATEN_G Files\n"
     ]
    },
    {
     "data": {
      "text/plain": [
       "[PosixPath('/Volumes/i-lab.data.uu.nl/research-semantics-of-sustainability/semantics-of-sustainability/data/StatenGeneraal/StatenGeneraal_2000.csv.gz'),\n",
       " PosixPath('/Volumes/i-lab.data.uu.nl/research-semantics-of-sustainability/semantics-of-sustainability/data/StatenGeneraal/StatenGeneraal_2001.csv.gz'),\n",
       " PosixPath('/Volumes/i-lab.data.uu.nl/research-semantics-of-sustainability/semantics-of-sustainability/data/StatenGeneraal/StatenGeneraal_2002.csv.gz'),\n",
       " PosixPath('/Volumes/i-lab.data.uu.nl/research-semantics-of-sustainability/semantics-of-sustainability/data/StatenGeneraal/StatenGeneraal_2003.csv.gz'),\n",
       " PosixPath('/Volumes/i-lab.data.uu.nl/research-semantics-of-sustainability/semantics-of-sustainability/data/StatenGeneraal/StatenGeneraal_2004.csv.gz'),\n",
       " PosixPath('/Volumes/i-lab.data.uu.nl/research-semantics-of-sustainability/semantics-of-sustainability/data/StatenGeneraal/StatenGeneraal_2005.csv.gz'),\n",
       " PosixPath('/Volumes/i-lab.data.uu.nl/research-semantics-of-sustainability/semantics-of-sustainability/data/StatenGeneraal/StatenGeneraal_2006.csv.gz'),\n",
       " PosixPath('/Volumes/i-lab.data.uu.nl/research-semantics-of-sustainability/semantics-of-sustainability/data/StatenGeneraal/StatenGeneraal_2007.csv.gz'),\n",
       " PosixPath('/Volumes/i-lab.data.uu.nl/research-semantics-of-sustainability/semantics-of-sustainability/data/StatenGeneraal/StatenGeneraal_2008.csv.gz'),\n",
       " PosixPath('/Volumes/i-lab.data.uu.nl/research-semantics-of-sustainability/semantics-of-sustainability/data/StatenGeneraal/StatenGeneraal_2009.csv.gz')]"
      ]
     },
     "execution_count": 22,
     "metadata": {},
     "output_type": "execute_result"
    }
   ],
   "source": [
    "glob195x = \"StatenGeneraal_19[0-9]?.csv.gz\"  # Pattern for files from 1950-1999\n",
    "glob20xx = \"StatenGeneraal_2???.csv.gz\"  # Pattern for files from 2000\n",
    "\n",
    "files_195x = list(STATEN_GENERAAL_DIR.glob(glob195x))\n",
    "files_20xx = list(STATEN_GENERAAL_DIR.glob(glob20xx))\n",
    "\n",
    "sg_files = [\n",
    "    file\n",
    "    # Merge files from patterns\n",
    "    for file in files_20xx + files_195x\n",
    "    # Remove blacklisted files:\n",
    "    for blacklisted in STATEN_GENERAAL_BLACKLIST\n",
    "    if blacklisted not in file.name\n",
    "]\n",
    "\n",
    "if RANDOM_SAMPLE_STATEN_GENERAAL and RANDOM_SAMPLE_STATEN_GENERAAL < len(sg_files):\n",
    "    sg_files = random.sample(sg_files, k=RANDOM_SAMPLE_STATEN_GENERAAL)\n",
    "\n",
    "print(f\"Found {len(sg_files)} STAATEN_G Files\")\n",
    "sorted(sg_files[:10])"
   ]
  },
  {
   "cell_type": "code",
   "execution_count": 23,
   "metadata": {},
   "outputs": [
    {
     "name": "stderr",
     "output_type": "stream",
     "text": [
      "01:15:23 INFO:HTTP Request: POST http://localhost:8087/v1/graphql \"HTTP/1.1 200 OK\"\n",
      "01:15:23 WARNING:No 'StatenGeneraal' files ingested yet\n"
     ]
    },
    {
     "data": {
      "text/plain": [
       "set()"
      ]
     },
     "execution_count": 23,
     "metadata": {},
     "output_type": "execute_result"
    }
   ],
   "source": [
    "import logging\n",
    "\n",
    "ingested_files: set[str] = set()\n",
    "try:\n",
    "    ingested_files.update(db.filenames(COLLECTION_NAME))\n",
    "except ValueError:\n",
    "    logging.warning(f\"No '{COLLECTION_NAME}' files ingested yet\")\n",
    "\n",
    "ingested_files"
   ]
  },
  {
   "cell_type": "code",
   "execution_count": 24,
   "metadata": {},
   "outputs": [
    {
     "name": "stderr",
     "output_type": "stream",
     "text": [
      "100%|██████████| 118/118 [52:09<00:00, 26.52s/file]\n"
     ]
    },
    {
     "data": {
      "text/plain": [
       "478029"
      ]
     },
     "execution_count": 24,
     "metadata": {},
     "output_type": "execute_result"
    }
   ],
   "source": [
    "import csv\n",
    "\n",
    "csv.field_size_limit(100000000)\n",
    "\n",
    "sg_corpus = (\n",
    "    reduce(\n",
    "        operator.add,\n",
    "        (\n",
    "            Corpus.from_csv_file(\n",
    "                path,\n",
    "                filter_terms=FILTER_TERMS,\n",
    "                text_columns=[\"Content\"],\n",
    "                encoding=\"utf-8\",\n",
    "                compression=\"gzip\",\n",
    "                delimiter=\";\",\n",
    "                window_size=WINDOW_SIZE,\n",
    "                nlp_pipeline=None,\n",
    "            )\n",
    "            for path in tqdm(sg_files, unit=\"file\")\n",
    "            if path.name not in ingested_files\n",
    "        ),\n",
    "    )\n",
    "    if sg_files\n",
    "    else Corpus()\n",
    ")\n",
    "\n",
    "len(sg_corpus)"
   ]
  },
  {
   "cell_type": "code",
   "execution_count": 25,
   "metadata": {},
   "outputs": [
    {
     "name": "stderr",
     "output_type": "stream",
     "text": [
      "02:07:39 INFO:HTTP Request: GET http://localhost:8087/v1/schema/StatenGeneraal \"HTTP/1.1 404 Not Found\"\n",
      "02:07:39 INFO:HTTP Request: POST http://localhost:8087/v1/objects \"HTTP/1.1 200 OK\"\n",
      "02:07:39 INFO:HTTP Request: POST http://localhost:8087/v1/schema \"HTTP/1.1 200 OK\"\n",
      "Embeddings: 100%|██████████| 59754/59754 [2:00:26<00:00,  8.27batch/s]    \n",
      "Embeddings: 100%|█████████▉| 59753/59754 [2:00:26<00:00,  8.27batch/s]\n"
     ]
    }
   ],
   "source": [
    "db.ingest(sg_corpus, name=COLLECTION_NAME)"
   ]
  },
  {
   "cell_type": "markdown",
   "metadata": {},
   "source": [
    "### Show the Passages that were created in the corpus"
   ]
  },
  {
   "cell_type": "code",
   "execution_count": 27,
   "metadata": {},
   "outputs": [
    {
     "name": "stdout",
     "output_type": "stream",
     "text": [
      "303 Passage('dat de taakstraf een praktisch voordeel heeft en dat deze goedkoper is dan vrijheidsontneming. In deze tijd van bezuinigingen, vervolgt de minister, wegen deze argumenten zeker mee. Nu kun je hier in een periode van begrotingsoverschotten sowieso vraagtekens bij stellen, maar belangrijker bezwaar tegen', {'RecId': 'h-tk-19992000-2851-2868', 'chamber': 'TweedeKamer', 'date': '2000-01-18', 'speakers': 'De heer Dittrich D66|De heer Rouvoet RPF|De heer Dittrich D66|De heer Van de Camp CDA|De heer Dittrich D66|De heer Van de Camp CDA|De heer Dittrich D66|De heer Niederer VVD|De heer Dittrich D66|De heer Van de Camp CDA|De heer Dittrich D66|De heer Van de Camp CDA|De heer Dittrich D66|De heer Van de Camp CDA|De heer Dittrich D66|Mevrouw Halsema GroenLinks|De heer Dittrich D66|Mevrouw Halsema GroenLinks|De heer Dittrich D66|De heer Niederer VVD|De heer Rouvoet RPF|De heer Niederer VVD|De heer Rouvoet RPF|De heer Niederer VVD|De heer Dittrich D66|De heer Niederer VVD|De heer Dittrich D66|De heer Niederer VVD|Mevrouw Halsema GroenLinks|De heer Niederer VVD|Mevrouw Halsema GroenLinks|De heer Niederer VVD|Mevrouw Halsema GroenLinks|De heer Niederer VVD|Mevrouw Halsema GroenLinks|De heer Niederer VVD|Mevrouw Halsema GroenLinks|De heer Niederer VVD|De heer Van de Camp CDA|De heer Niederer VVD|De heer Van de Camp CDA|De heer Niederer VVD|De heer Van de Camp CDA|De heer Niederer VVD|De heer Van de Camp CDA|De heer Niederer VVD|De heer Van de Camp CDA|De heer Niederer VVD|De heer Van de Camp CDA|De heer Niederer VVD|De heer Van de Camp CDA|De heer Niederer VVD|De heer Van de Camp CDA|De heer Niederer VVD|De heer Dittrich D66|De heer Niederer VVD|De heer Dittrich D66|De heer Niederer VVD|De heer Rouvoet RPF|De heer Niederer VVD|De heer Rouvoet RPF|De heer Niederer VVD|De heer Rouvoet RPF|De heer Rouvoet RPF|De heer Van de Camp CDA|De heer Rouvoet RPF|De heer Van de Camp CDA|De heer Rouvoet RPF|De heer Van de Camp CDA|De heer Rouvoet RPF|De heer Van de Camp CDA|De heer Rouvoet RPF|De heer Niederer VVD|De heer Van de Camp CDA|De heer Niederer VVD|De heer Van de Camp CDA|Minister Korthals|De heer Van de Camp CDA|De heer Van de Camp CDA|De heer Rouvoet RPF|De heer Van de Camp CDA|De heer Van der Staaij SGP|De heer Rouvoet RPF|De heer Van der Staaij SGP|De heer Rouvoet RPF|De heer Van der Staaij SGP|De heer Zijlstra PvdA|Mevrouw Halsema GroenLinks|De heer Zijlstra PvdA|Mevrouw Halsema GroenLinks|De heer Zijlstra PvdA|Mevrouw Halsema GroenLinks|De heer Rouvoet RPF|Mevrouw Halsema GroenLinks', 'title': 'handelingen', 'year': '2000', 'passage': 'dat de taakstraf een praktisch voordeel heeft en dat deze goedkoper is dan vrijheidsontneming. In deze tijd van bezuinigingen, vervolgt de minister, wegen deze argumenten zeker mee. Nu kun je hier in een periode van begrotingsoverschotten sowieso vraagtekens bij stellen, maar belangrijker bezwaar tegen', 'highlighting': '114_120'}, Highlighting(start=114, end=120))\n",
      "304 Passage('vaker een PvdA meegemaakt die een VVD-verkiezingsprogramma uitvoerde, bijvoorbeeld als het ging om bezuinigingen. Ik ben er daarom absoluut niet gerust op dat wij het daarmee geregeld hebben. Voorzitter! Zoals gezegd, de SP ziet de publieke omroep anders. De publieke omroep moet rots in de branding zijn', {'RecId': 'h-tk-19992000-2868-2901', 'chamber': 'TweedeKamer', 'date': '2000-01-18', 'speakers': 'Mevrouw Van Zuijlen PvdA|De heer Bakker D66|Mevrouw Van Zuijlen PvdA|De heer Bakker D66|Mevrouw Van Zuijlen PvdA|De heer Bakker D66|Mevrouw Van Zuijlen PvdA|De heer Bakker D66|Mevrouw Van Zuijlen PvdA|De heer Atsma CDA|Mevrouw Van Zuijlen PvdA|De heer Atsma CDA|Mevrouw Van Zuijlen PvdA|De heer Atsma CDA|Mevrouw Van Zuijlen PvdA|Mevrouw Halsema GroenLinks|Mevrouw Van Zuijlen PvdA|Mevrouw Halsema Groen Links|Mevrouw Van Zuijlen PvdA|Mevrouw Halsema GroenLinks|Mevrouw Van Zuijlen PvdA|De heer Nicolaï VVD|Mevrouw Van Zuijlen PvdA|De heer Nicolaï VVD|Mevrouw Van Zuijlen PvdA|De heer Nicolaï VVD|Mevrouw Van Zuijlen PvdA|De heer Nicolaï VVD|Mevrouw Van Zuijlen PvdA|De heer Van Bommel SP|Mevrouw Van Zuijlen PvdA|De heer Van Bommel SP|Mevrouw Van Zuijlen PvdA|De heer Van Bommel SP|Mevrouw Van Zuijlen PvdA|De heer Van Bommel SP|Mevrouw Van Zuijlen PvdA|Mevrouw Halsema GroenLinks|Mevrouw Van Zuijlen PvdA|Mevrouw Halsema GroenLinks|Mevrouw Van Zuijlen PvdA|De heer Bakker D66|Mevrouw Van Zuijlen PvdA|De heer Stellingwerf RPF|Mevrouw Van Zuijlen PvdA|De heer Stellingwerf RPF|Mevrouw Van Zuijlen PvdA|De heer Atsma CDA|Mevrouw Van Zuijlen PvdA|De heer Atsma CDA|De heer Nicolaï VVD|Mevrouw Van Zuijlen PvdA|De heer Nicolaï VVD|Mevrouw Van Zuijlen PvdA|Mevrouw Halsema GroenLinks|Mevrouw Van Zuijlen PvdA|Mevrouw Halsema GroenLinks|Mevrouw Van Zuijlen PvdA|Mevrouw Halsema GroenLinks|Mevrouw Van Zuijlen PvdA|Mevrouw Halsema GroenLinks|Mevrouw Van Zuijlen PvdA|Mevrouw Halsema GroenLinks|Mevrouw Van Zuijlen PvdA|Mevrouw Halsema GroenLinks|Mevrouw Van Zuijlen PvdA|De heer Stellingwerf RPF|Mevrouw Van Zuijlen PvdA|De heer Stellingwerf RPF|Mevrouw Van Zuijlen PvdA|De heer Stellingwerf RPF|Mevrouw Van Zuijlen PvdA|De heer Bakker D66|Mevrouw Van Zuijlen PvdA|De heer Bakker D66|Mevrouw Van Zuijlen PvdA|De heer Stellingwerf RPF|Mevrouw Van Zuijlen PvdA|De heer Stellingwerf RPF|Mevrouw Van Zuijlen PvdA|De heer Stellingwerf RPF|Mevrouw Van Zuijlen PvdA|Mevrouw Halsema GroenLinks|De heer Bakker D66|Mevrouw Halsema GroenLinks|De heer Bakker D66|Mevrouw Halsema GroenLinks|De heer Nicolaï VVD|Mevrouw Halsema GroenLinks|De heer Nicolaï VVD|Mevrouw Halsema GroenLinks|De heer Nicolaï VVD|Mevrouw Halsema GroenLinks|De heer Nicolaï VVD|Mevrouw Halsema GroenLinks|De heer Stellingwerf RPF|Mevrouw Halsema GroenLinks|De heer Stellingwerf RPF|Mevrouw Halsema GroenLinks|De heer Stellingwerf RPF|Mevrouw Halsema GroenLinks|De heer Stellingwerf RPF|Mevrouw Halsema GroenLinks|De heer Van Bommel SP|Mevrouw Halsema GroenLinks|De heer Van Bommel SP|Mevrouw Halsema GroenLinks|De heer Van Bommel SP|Mevrouw Halsema GroenLinks|De heer Bakker D66|Mevrouw Halsema GroenLinks|Mevrouw Van Zuijlen PvdA|Mevrouw Halsema GroenLinks|De heer Stellingwerf RPF|Mevrouw Halsema GroenLinks|De heer Bakker D66|Mevrouw Halsema GroenLinks|De heer Bakker D66|Mevrouw Halsema GroenLinks|De heer Bakker D66|Mevrouw Halsema GroenLinks|De heer Bakker D66|Mevrouw Halsema GroenLinks|De heer Bakker D66|Mevrouw Halsema GroenLinks|De heer Bakker D66|Mevrouw Halsema GroenLinks|De heer Bakker D66|Mevrouw Halsema GroenLinks|Mevrouw Van Zuijlen PvdA|Mevrouw Halsema GroenLinks|Mevrouw Van Zuijlen PvdA|Mevrouw Halsema GroenLinks|Mevrouw Van Zuijlen PvdA|Mevrouw Halsema GroenLinks|Mevrouw Van Zuijlen PvdA|Mevrouw Halsema GroenLinks|Staatssecretaris Van der Ploeg|Mevrouw Halsema GroenLinks|De heer Bakker D66|Mevrouw Halsema GroenLinks|De heer Bakker D66|Mevrouw Halsema GroenLinks|De heer Bakker D66|Mevrouw Halsema GroenLinks|De heer Van der Vlies SGP|De heer Van Bommel SP|De heer Bakker D66|De heer Van Bommel SP|De heer Bakker D66|De heer Van Bommel SP|De heer Bakker D66|De heer Bakker D66|De heer Bakker D66|De heer Bakker D66|De heer Van Bommel SP|De heer Bakker D66|De heer Van Bommel SP|De heer Bakker D66|De heer Nicolaï VVD|De heer Van Bommel SP|De heer Nicolaï VVD|De heer Van Bommel SP|Mevrouw Van Zuijlen PvdA|De heer Van Bommel SP|Mevrouw Van Zuijlen PvdA|De heer Van Bommel SP|Mevrouw Halsema GroenLinks|De heer Van Bommel SP|De heer Bakker D66|De heer Van Bommel SP|De heer Bakker D66|Mevrouw Halsema GroenLinks|De heer Bakker D66|Mevrouw Halsema GroenLinks|De heer Bakker D66|Mevrouw Halsema GroenLinks|De heer Bakker D66|De heer Nicolaï VVD|De heer Bakker D66|De heer Atsma CDA|De heer Bakker D66|De heer Atsma CDA|De heer Bakker D66|De heer Atsma CDA|De heer Bakker D66|De heer Stellingwerf RPF|De heer Bakker D66|De heer Stellingwerf RPF|De heer Bakker D66|Mevrouw Halsema GroenLinks|De heer Bakker D66|Mevrouw Van Zuijlen PvdA|De heer Bakker D66|De heer Nicolaï VVD|De heer Bakker D66|De heer Van Bommel SP|De heer Bakker D66|De heer Nicolaï VVD|De heer Bakker D66|De heer Nicolaï VVD|De heer Bakker D66|Mevrouw Halsema GroenLinks|De heer Bakker D66|Mevrouw Halsema GroenLinks|De heer Bakker D66|Mevrouw Halsema GroenLinks|De heer Bakker D66|Mevrouw Halsema GroenLinks|De heer Bakker D66|Mevrouw Halsema GroenLinks|De heer Bakker D66|Mevrouw Halsema GroenLinks|De heer Bakker D66|De heer Stellingwerf RPF|De heer Bakker D66|Mevrouw Halsema GroenLinks|De heer Bakker D66|Mevrouw Halsema GroenLinks|De heer Bakker D66|Mevrouw Halsema GroenLinks|De heer Stellingwerf RPF|De heer Stellingwerf RPF|De heer Bakker D66|De heer Stellingwerf RPF|De heer Bakker D66|De heer Stellingwerf RPF|Mevrouw Halsema GroenLinks|De heer Stellingwerf RPF|Mevrouw Halsema GroenLinks|De heer Stellingwerf RPF|Mevrouw Halsema GroenLinks|De heer Stellingwerf RPF|Mevrouw Halsema GroenLinks|Mevrouw Van Zuijlen PvdA|De heer Stellingwerf RPF|De heer Atsma CDA|De heer Stellingwerf RPF|De heer Atsma CDA|De heer Stellingwerf RPF|Mevrouw Halsema GroenLinks|De heer Stellingwerf RPF|Mevrouw Halsema GroenLinks|De heer Stellingwerf RPF|De heer Bakker D66|De heer Stellingwerf RPF', 'title': 'handelingen', 'year': '2000', 'passage': 'vaker een PvdA meegemaakt die een VVD-verkiezingsprogramma uitvoerde, bijvoorbeeld als het ging om bezuinigingen. Ik ben er daarom absoluut niet gerust op dat wij het daarmee geregeld hebben. Voorzitter! Zoals gezegd, de SP ziet de publieke omroep anders. De publieke omroep moet rots in de branding zijn', 'highlighting': '101_107'}, Highlighting(start=101, end=107))\n",
      "300 Passage('Beroepswet en enige andere wetten, alsmede enige rechtspositionele voorzieningen in verband met de opheffing van het College van beroep studiefinanciering (Wet opheffing College van beroep studiefinanciering) (26960); Uitbreiding van het toepassingsgebied van de Wet beheer rijkswaterstaatswerken tot', {'RecId': 'h-tk-19992000-2901-2907', 'chamber': 'TweedeKamer', 'date': '2000-01-18', 'speakers': 'no speakers', 'title': 'handelingen', 'year': '2000', 'passage': 'betrekking tot een naheffingsaanslag motorrijtuigenbelasting; een, van J. van Dienst te Haarlem, met betrekking tot een betalingsregeling voor een belastingschuld; een, van Lubberts, V.O.F., met betrekking tot een verzoek van teruggaaf BTW buiten vijfjaarstermijn; een, van R.P. Burghout te Zoetermeer,', 'highlighting': '21_28'}, Highlighting(start=101, end=108))\n",
      "300 Passage('Beroepswet en enige andere wetten, alsmede enige rechtspositionele voorzieningen in verband met de opheffing van het College van beroep studiefinanciering (Wet opheffing College van beroep studiefinanciering) (26960); Uitbreiding van het toepassingsgebied van de Wet beheer rijkswaterstaatswerken tot', {'RecId': 'h-tk-19992000-2901-2907', 'chamber': 'TweedeKamer', 'date': '2000-01-18', 'speakers': 'no speakers', 'title': 'handelingen', 'year': '2000', 'passage': 'betrekking tot een naheffingsaanslag motorrijtuigenbelasting; een, van J. van Dienst te Haarlem, met betrekking tot een betalingsregeling voor een belastingschuld; een, van Lubberts, V.O.F., met betrekking tot een verzoek van teruggaaf BTW buiten vijfjaarstermijn; een, van R.P. Burghout te Zoetermeer,', 'highlighting': '21_28'}, Highlighting(start=162, end=169))\n",
      "302 Passage('geleide van de notitie Voorbereiding Europese Raad te Lissabon; een, ten geleide van het werkprogramma van de AIV \"Adviesaanvraag humanitaire interventie\"; een, ten geleide van het voortgangsrapport Commissie EU-voedselhulp aan Rusland; vier, van de minister van Justitie, te weten: een, over opheffing', {'RecId': 'h-tk-19992000-2901-2907', 'chamber': 'TweedeKamer', 'date': '2000-01-18', 'speakers': 'no speakers', 'title': 'handelingen', 'year': '2000', 'passage': 'betrekking tot een naheffingsaanslag motorrijtuigenbelasting; een, van J. van Dienst te Haarlem, met betrekking tot een betalingsregeling voor een belastingschuld; een, van Lubberts, V.O.F., met betrekking tot een verzoek van teruggaaf BTW buiten vijfjaarstermijn; een, van R.P. Burghout te Zoetermeer,', 'highlighting': '21_28'}, Highlighting(start=295, end=302))\n",
      "310 Passage('Evaluatiecommissie BOOT; de bijdrageregeling voor \"dubbelgepakte\" tankeigenaren en de uitvoering van de toezegging gedaan in het AO van 23 maart 1999; een, inzake ondertekening protocol ter bestrijding van verzuring, eutrofiëring en ozonvorming op leefniveau; een, van de staatssecretaris van Volkshuisvesting,', {'RecId': 'h-tk-19992000-2901-2907', 'chamber': 'TweedeKamer', 'date': '2000-01-18', 'speakers': 'no speakers', 'title': 'handelingen', 'year': '2000', 'passage': 'betrekking tot een naheffingsaanslag motorrijtuigenbelasting; een, van J. van Dienst te Haarlem, met betrekking tot een betalingsregeling voor een belastingschuld; een, van Lubberts, V.O.F., met betrekking tot een verzoek van teruggaaf BTW buiten vijfjaarstermijn; een, van R.P. Burghout te Zoetermeer,', 'highlighting': '21_28'}, Highlighting(start=206, end=215))\n",
      "310 Passage('Amsterdam, met betrekking tot kwijtschelding van inkomstenbelasting/premie volksverzekeringen 1997; een, van W.F. van Breda te Streefkerk, met betrekking tot beschikking van de belastingdienst Ondernemingen Enschede i.v.m. heffing Ziekenfondswet voor zelfstandigen; een, van F. Jonkman te Gouda, met betrekking', {'RecId': 'h-tk-19992000-2901-2907', 'chamber': 'TweedeKamer', 'date': '2000-01-18', 'speakers': 'no speakers', 'title': 'handelingen', 'year': '2000', 'passage': 'betrekking tot een naheffingsaanslag motorrijtuigenbelasting; een, van J. van Dienst te Haarlem, met betrekking tot een betalingsregeling voor een belastingschuld; een, van Lubberts, V.O.F., met betrekking tot een verzoek van teruggaaf BTW buiten vijfjaarstermijn; een, van R.P. Burghout te Zoetermeer,', 'highlighting': '21_28'}, Highlighting(start=223, end=230))\n",
      "302 Passage('betrekking tot een naheffingsaanslag motorrijtuigenbelasting; een, van J. van Dienst te Haarlem, met betrekking tot een betalingsregeling voor een belastingschuld; een, van Lubberts, V.O.F., met betrekking tot een verzoek van teruggaaf BTW buiten vijfjaarstermijn; een, van R.P. Burghout te Zoetermeer,', {'RecId': 'h-tk-19992000-2901-2907', 'chamber': 'TweedeKamer', 'date': '2000-01-18', 'speakers': 'no speakers', 'title': 'handelingen', 'year': '2000', 'passage': 'betrekking tot een naheffingsaanslag motorrijtuigenbelasting; een, van J. van Dienst te Haarlem, met betrekking tot een betalingsregeling voor een belastingschuld; een, van Lubberts, V.O.F., met betrekking tot een verzoek van teruggaaf BTW buiten vijfjaarstermijn; een, van R.P. Burghout te Zoetermeer,', 'highlighting': '21_28'}, Highlighting(start=21, end=28))\n",
      "301 Passage(\"marginale programma's uitzendt, kijkt toch nog maar een heel klein percentage, de grachtengordeltypes, naar de publieke omroep? Komt dan misschien zelfs niet de legitimatie van de fiscale heffing een beetje ter discussie te staan? De heer Nicolaï VVD Dat laatste is niet zo, tenzij u die ter discussie\", {'RecId': 'h-tk-19992000-2909-2930', 'chamber': 'TweedeKamer', 'date': '2000-01-19', 'speakers': 'De heer Atsma CDA|Mevrouw Van Zuijlen PvdA|De heer Atsma CDA|Mevrouw Van Zuijlen PvdA|De heer Atsma CDA|De heer Van Bommel SP|De heer Atsma CDA|De heer Van Bommel SP|De heer Atsma CDA|De heer Van Bommel SP|De heer Atsma CDA|Mevrouw Van Zuijlen PvdA|De heer Atsma CDA|Mevrouw Halsema GroenLinks|De heer Atsma CDA|Mevrouw Halsema GroenLinks|De heer Atsma CDA|Mevrouw Halsema GroenLinks|De heer Atsma CDA|Mevrouw Halsema GroenLinks|De heer Atsma CDA|Mevrouw Halsema GroenLinks|De heer Atsma CDA|Mevrouw Halsema GroenLinks|De heer Atsma CDA|De heer Van Bommel SP|De heer Atsma CDA|De heer Van Bommel SP|De heer Atsma CDA|De heer Van Bommel SP|De heer Atsma CDA|De heer Nicolaï VVD|De heer Atsma CDA|De heer Nicolaï VVD|De heer Atsma CDA|De heer Nicolaï VVD|De heer Atsma CDA|De heer Bakker D66|De heer Atsma CDA|De heer Bakker D66|De heer Atsma CDA|De heer Bakker D66|De heer Atsma CDA|De heer Bakker D66|De heer Atsma CDA|De heer Bakker D66|De heer Atsma CDA|De heer Nicolaï VVD|De heer Atsma CDA|De heer Nicolaï VVD|De heer Atsma CDA|Mevrouw Halsema GroenLinks|De heer Atsma CDA|De heer Nicolaï VVD|De heer Atsma CDA|De heer Nicolaï VVD|De heer Atsma CDA|De heer Nicolaï VVD|De heer Atsma CDA|De heer Nicolaï VVD|De heer Atsma CDA|De heer Stellingwerf RPF|De heer Atsma CDA|Mevrouw Halsema GroenLinks|De heer Atsma CDA|Mevrouw Halsema GroenLinks|De heer Atsma CDA|Mevrouw Van Zuijlen PvdA|De heer Atsma CDA|Mevrouw Van Zuijlen PvdA|De heer Atsma CDA|Mevrouw Halsema GroenLinks|De heer Atsma CDA|De heer Nicolaï VVD|De heer Atsma CDA|De heer Nicolaï VVD|De heer Atsma CDA|De heer Nicolaï VVD|Mevrouw Halsema GroenLinks|De heer Nicolaï VVD|Mevrouw Halsema GroenLinks|De heer Nicolaï VVD|De heer Stellingwerf RPF|De heer Nicolaï VVD|De heer Stellingwerf RPF|De heer Nicolaï VVD|De heer Van Bommel SP|De heer Nicolaï VVD|De heer Atsma CDA|De heer Nicolaï VVD|Mevrouw Van Zuijlen PvdA|De heer Nicolaï VVD|Mevrouw Halsema GroenLinks|De heer Nicolaï VVD|De heer Van Bommel SP|De heer Van Bommel SP|De heer Nicolaï VVD|De heer Nicolaï VVD|De heer Nicolaï VVD|De heer Stellingwerf RPF|De heer Nicolaï VVD|De heer Stellingwerf RPF|De heer Nicolaï VVD|De heer Stellingwerf RPF|De heer Nicolaï VVD|De heer Stellingwerf RPF|De heer Nicolaï VVD|Mevrouw Halsema GroenLinks|De heer Nicolaï VVD|Mevrouw Halsema GroenLinks|De heer Nicolaï VVD|Mevrouw Halsema GroenLinks|De heer Nicolaï VVD|Mevrouw Van Zuijlen PvdA|De heer Nicolaï VVD|Mevrouw Van Zuijlen PvdA|De heer Nicolaï VVD|Mevrouw Van Zuijlen PvdA|De heer Nicolaï VVD|Mevrouw Van Zuijlen PvdA|De heer Nicolaï VVD|Mevrouw Halsema GroenLinks|De heer Nicolaï VVD|Mevrouw Halsema GroenLinks|De heer Nicolaï VVD|Mevrouw Halsema GroenLinks|De heer Nicolaï VVD|De heer Atsma CDA|De heer Nicolaï VVD|De heer Atsma CDA|De heer Nicolaï VVD|Mevrouw Van Zuijlen PvdA|De heer Nicolaï VVD|De heer Atsma CDA|De heer Nicolaï VVD|De heer Atsma CDA|De heer Nicolaï VVD|De heer Atsma CDA|De heer Nicolaï VVD|De heer Stellingwerf RPF|De heer Nicolaï VVD|De heer Bakker D66|De heer Nicolaï VVD|De heer Bakker D66|De heer Nicolaï VVD|Mevrouw Van Zuijlen PvdA|Mevrouw Halsema GroenLinks|Mevrouw Van Zuijlen PvdA|Mevrouw Halsema GroenLinks|De heer Nicolaï VVD|Mevrouw Halsema GroenLinks|De heer Nicolaï VVD|De heer Atsma CDA|De heer Nicolaï VVD|De heer Atsma CDA|De heer Nicolaï VVD|De heer Atsma CDA|De heer Nicolaï VVD|De heer Atsma CDA|De heer Nicolaï VVD|De heer Atsma CDA|De heer Nicolaï VVD|De heer Atsma CDA|De heer Nicolaï VVD|De heer Atsma CDA|De heer Nicolaï VVD|De heer Atsma CDA|De heer Nicolaï VVD|De heer Atsma CDA|De heer Nicolaï VVD|Mevrouw Halsema GroenLinks|De heer Nicolaï VVD|Mevrouw Halsema GroenLinks|De heer Nicolaï VVD|Mevrouw Halsema GroenLinks|De heer Nicolaï VVD|De heer Stellingwerf RPF|De heer Nicolaï VVD|Mevrouw Halsema GroenLinks|De heer Nicolaï VVD|Mevrouw Halsema GroenLinks|De heer Nicolaï VVD|Mevrouw Halsema GroenLinks|De heer Nicolaï VVD|De heer Atsma CDA|De heer Nicolaï VVD', 'title': 'handelingen', 'year': '2000', 'passage': \"marginale programma's uitzendt, kijkt toch nog maar een heel klein percentage, de grachtengordeltypes, naar de publieke omroep? Komt dan misschien zelfs niet de legitimatie van de fiscale heffing een beetje ter discussie te staan? De heer Nicolaï VVD Dat laatste is niet zo, tenzij u die ter discussie\", 'highlighting': '188_195'}, Highlighting(start=188, end=195))\n",
      "300 Passage('taakstraffen. Voor de komende jaren zijn voldoende middelen in de rijksbegroting daarvoor gereserveerd. Mevrouw Halsema heeft gevraagd of het bezuinigingsaspect geen oneigenlijk argument is om voor taakstraffen te kiezen. Ook de heer Rouvoet vraagt zich af of de verruiming van taakstraffen wel nodig', {'RecId': 'h-tk-19992000-2930-2954', 'chamber': 'TweedeKamer', 'date': '2000-01-19', 'speakers': 'Minister Korthals|De heer Van de Camp CDA|Minister Korthals|De heer Van de Camp CDA|Minister Korthals|De heer Van de Camp CDA|Minister Korthals|De heer Van de Camp CDA|Minister Korthals|Mevrouw Halsema GroenLinks|Minister Korthals|De heer Dittrich D66|Minister Korthals|De heer Van der Staaij SGP|Minister Korthals|De heer Van der Staaij SGP|Minister Korthals|Mevrouw Halsema GroenLinks|Minister Korthals|De heer Niederer VVD|Minister Korthals|Mevrouw Halsema GroenLinks|Minister Korthals|Mevrouw Halsema GroenLinks|Minister Korthals|De heer Rouvoet RPF|Minister Korthals|Mevrouw Halsema GroenLinks|Minister Korthals|De heer Van der Staaij SGP|Minister Korthals|Mevrouw Halsema GroenLinks|Minister Korthals|De heer Rouvoet RPF|Minister Korthals|De Rouvoet RPF|Minister Korthals|Mevrouw Halsema GroenLinks|Minister Korthals|Mevrouw Halsema GroenLinks|Minister Korthals|Mevrouw Halsema GroenLinks|Minister Korthals|De heer Rouvoet RPF|Minister Korthals|De heer Niederer VVD|Minister Korthals|De heer Niederer VVD|Minister Korthals|De heer Van de Camp CDA|Minister Korthals|De heer Van de Camp CDA|Minister Korthals|De heer Van de Camp CDA|Minister Korthals|De heer Van de Camp CDA|Minister Korthals|De heer Rouvoet RPF|Minister Korthals|De heer Rouvoet RPF|Minister Korthals|De heer Van de Camp CDA|Minister Korthals|De heer Van de Camp CDA|Minister Korthals|De heer Van de Camp CDA|Mevrouw Halsema GroenLinks|De heer Van de Camp CDA|Minister Korthals|De heer Van de Camp CDA|Minister Korthals|De heer Van de Camp CDA|Minister Korthals|De heer Van de Camp CDA|Minister Korthals|De heer Van de Camp CDA|Minister Korthals|De heer Van de Camp CDA|Minister Korthals|De heer Van de Camp CDA|Minister Korthals|Mevrouw Halsema GroenLinks|Minister Korthals|Mevrouw Halsema GroenLinks|Minister Korthals|De heer Dittrich D66|Minister Korthals|De heer Rouvoet RPF|Minister Korthals|Mevrouw Halsema GroenLinks|Minister Korthals|Mevrouw Halsema GroenLinks|Minister Korthals|Mevrouw Halsema GroenLinks|Minister Korthals|Mevrouw Halsema GroenLinks|Minister Korthals|De heer Zijlstra PvdA|Minister Korthals|De heer Dittrich D66|Minister Korthals|De heer Rouvoet RPF|Minister Korthals|De heer Rouvoet RPF|Minister Korthals|De heer Rouvoet RPF|Minister Korthals|De heer Van der Staaij SGP|Minister Korthals|De heer Dittrich D66|De heer Zijlstra PvdA|De heer Dittrich D66|De heer Niederer VVD|De heer Dittrich D66|De heer Niederer VVD|De heer Dittrich D66|De heer Niederer VVD|De heer Dittrich D66|De heer Niederer VVD|De heer Dittrich D66|De heer Niederer VVD|De heer Rouvoet RPF|De heer Van de Camp CDA|De heer Van de Camp CDA|De heer Van de Camp CDA|De heer Dittrich D66|De heer Van de Camp CDA|De heer Van der Staaij SGP|De heer Zijlstra PvdA|Mevrouw Halsema GroenLinks|Mevrouw Halsema GroenLinks|De heer Rouvoet RPF|Mevrouw Halsema GroenLinks|De heer Rouvoet RPF|Mevrouw Halsema GroenLinks|De heer Niederer VVD|Mevrouw Halsema GroenLinks|De heer Niederer VVD|Mevrouw Halsema GroenLinks|De heer Niederer VVD|Mevrouw Halsema GroenLinks|Minister Korthals|De heer Dittrich D66|Minister Korthals|De heer Dittrich D66|Minister Korthals|De heer Dittrich D66|Minister Korthals|De heer Dittrich D66|Minister Korthals|De heer Dittrich D66|Minister Korthals|De heer Dittrich D66|Minister Korthals|De heer Rouvoet RPF|Minister Korthals|De heer Rouvoet RPF|Minister Korthals|De heer Niederer VVD|Minister Korthals|De heer Rouvoet RPF|Minister Korthals|De heer Rouvoet RPF|Minister Korthals|De heer Van der Staaij SGP|Minister Korthals|De heer Van der Staaij SGP|Minister Korthals|De heer Van de Camp CDA|Minister Korthals|De heer Zijlstra PvdA|Minister Korthals', 'title': 'handelingen', 'year': '2000', 'passage': 'blij om. De minister gaf ook aan dat hij het argument van bezuiniging een oneigenlijk argument vond nu de taakstraf aanvaard was als zelfstandige hoofdstraf. Daar ben ik ook blij om. Ik meen dat ik niet in hoef te gaan op het amendement van de heer Van der Camp, voorzover dat nog niet is ingetrokken.', 'highlighting': '60_66'}, Highlighting(start=144, end=150))\n",
      "304 Passage('van de taakstraffen mag niet in het teken staan van het oplossen van cellentekorten of het inboeken van bezuinigingen. Terughoudendheid blijft bij ons een belangrijk trefwoord voor de verdere ontwikkeling van taakstraffen. Ik zou graag een reactie van de minister horen op de stelling die zijn voorganger', {'RecId': 'h-tk-19992000-2930-2954', 'chamber': 'TweedeKamer', 'date': '2000-01-19', 'speakers': 'Minister Korthals|De heer Van de Camp CDA|Minister Korthals|De heer Van de Camp CDA|Minister Korthals|De heer Van de Camp CDA|Minister Korthals|De heer Van de Camp CDA|Minister Korthals|Mevrouw Halsema GroenLinks|Minister Korthals|De heer Dittrich D66|Minister Korthals|De heer Van der Staaij SGP|Minister Korthals|De heer Van der Staaij SGP|Minister Korthals|Mevrouw Halsema GroenLinks|Minister Korthals|De heer Niederer VVD|Minister Korthals|Mevrouw Halsema GroenLinks|Minister Korthals|Mevrouw Halsema GroenLinks|Minister Korthals|De heer Rouvoet RPF|Minister Korthals|Mevrouw Halsema GroenLinks|Minister Korthals|De heer Van der Staaij SGP|Minister Korthals|Mevrouw Halsema GroenLinks|Minister Korthals|De heer Rouvoet RPF|Minister Korthals|De Rouvoet RPF|Minister Korthals|Mevrouw Halsema GroenLinks|Minister Korthals|Mevrouw Halsema GroenLinks|Minister Korthals|Mevrouw Halsema GroenLinks|Minister Korthals|De heer Rouvoet RPF|Minister Korthals|De heer Niederer VVD|Minister Korthals|De heer Niederer VVD|Minister Korthals|De heer Van de Camp CDA|Minister Korthals|De heer Van de Camp CDA|Minister Korthals|De heer Van de Camp CDA|Minister Korthals|De heer Van de Camp CDA|Minister Korthals|De heer Rouvoet RPF|Minister Korthals|De heer Rouvoet RPF|Minister Korthals|De heer Van de Camp CDA|Minister Korthals|De heer Van de Camp CDA|Minister Korthals|De heer Van de Camp CDA|Mevrouw Halsema GroenLinks|De heer Van de Camp CDA|Minister Korthals|De heer Van de Camp CDA|Minister Korthals|De heer Van de Camp CDA|Minister Korthals|De heer Van de Camp CDA|Minister Korthals|De heer Van de Camp CDA|Minister Korthals|De heer Van de Camp CDA|Minister Korthals|De heer Van de Camp CDA|Minister Korthals|Mevrouw Halsema GroenLinks|Minister Korthals|Mevrouw Halsema GroenLinks|Minister Korthals|De heer Dittrich D66|Minister Korthals|De heer Rouvoet RPF|Minister Korthals|Mevrouw Halsema GroenLinks|Minister Korthals|Mevrouw Halsema GroenLinks|Minister Korthals|Mevrouw Halsema GroenLinks|Minister Korthals|Mevrouw Halsema GroenLinks|Minister Korthals|De heer Zijlstra PvdA|Minister Korthals|De heer Dittrich D66|Minister Korthals|De heer Rouvoet RPF|Minister Korthals|De heer Rouvoet RPF|Minister Korthals|De heer Rouvoet RPF|Minister Korthals|De heer Van der Staaij SGP|Minister Korthals|De heer Dittrich D66|De heer Zijlstra PvdA|De heer Dittrich D66|De heer Niederer VVD|De heer Dittrich D66|De heer Niederer VVD|De heer Dittrich D66|De heer Niederer VVD|De heer Dittrich D66|De heer Niederer VVD|De heer Dittrich D66|De heer Niederer VVD|De heer Rouvoet RPF|De heer Van de Camp CDA|De heer Van de Camp CDA|De heer Van de Camp CDA|De heer Dittrich D66|De heer Van de Camp CDA|De heer Van der Staaij SGP|De heer Zijlstra PvdA|Mevrouw Halsema GroenLinks|Mevrouw Halsema GroenLinks|De heer Rouvoet RPF|Mevrouw Halsema GroenLinks|De heer Rouvoet RPF|Mevrouw Halsema GroenLinks|De heer Niederer VVD|Mevrouw Halsema GroenLinks|De heer Niederer VVD|Mevrouw Halsema GroenLinks|De heer Niederer VVD|Mevrouw Halsema GroenLinks|Minister Korthals|De heer Dittrich D66|Minister Korthals|De heer Dittrich D66|Minister Korthals|De heer Dittrich D66|Minister Korthals|De heer Dittrich D66|Minister Korthals|De heer Dittrich D66|Minister Korthals|De heer Dittrich D66|Minister Korthals|De heer Rouvoet RPF|Minister Korthals|De heer Rouvoet RPF|Minister Korthals|De heer Niederer VVD|Minister Korthals|De heer Rouvoet RPF|Minister Korthals|De heer Rouvoet RPF|Minister Korthals|De heer Van der Staaij SGP|Minister Korthals|De heer Van der Staaij SGP|Minister Korthals|De heer Van de Camp CDA|Minister Korthals|De heer Zijlstra PvdA|Minister Korthals', 'title': 'handelingen', 'year': '2000', 'passage': 'blij om. De minister gaf ook aan dat hij het argument van bezuiniging een oneigenlijk argument vond nu de taakstraf aanvaard was als zelfstandige hoofdstraf. Daar ben ik ook blij om. Ik meen dat ik niet in hoef te gaan op het amendement van de heer Van der Camp, voorzover dat nog niet is ingetrokken.', 'highlighting': '60_66'}, Highlighting(start=106, end=112))\n",
      "301 Passage('blij om. De minister gaf ook aan dat hij het argument van bezuiniging een oneigenlijk argument vond nu de taakstraf aanvaard was als zelfstandige hoofdstraf. Daar ben ik ook blij om. Ik meen dat ik niet in hoef te gaan op het amendement van de heer Van der Camp, voorzover dat nog niet is ingetrokken.', {'RecId': 'h-tk-19992000-2930-2954', 'chamber': 'TweedeKamer', 'date': '2000-01-19', 'speakers': 'Minister Korthals|De heer Van de Camp CDA|Minister Korthals|De heer Van de Camp CDA|Minister Korthals|De heer Van de Camp CDA|Minister Korthals|De heer Van de Camp CDA|Minister Korthals|Mevrouw Halsema GroenLinks|Minister Korthals|De heer Dittrich D66|Minister Korthals|De heer Van der Staaij SGP|Minister Korthals|De heer Van der Staaij SGP|Minister Korthals|Mevrouw Halsema GroenLinks|Minister Korthals|De heer Niederer VVD|Minister Korthals|Mevrouw Halsema GroenLinks|Minister Korthals|Mevrouw Halsema GroenLinks|Minister Korthals|De heer Rouvoet RPF|Minister Korthals|Mevrouw Halsema GroenLinks|Minister Korthals|De heer Van der Staaij SGP|Minister Korthals|Mevrouw Halsema GroenLinks|Minister Korthals|De heer Rouvoet RPF|Minister Korthals|De Rouvoet RPF|Minister Korthals|Mevrouw Halsema GroenLinks|Minister Korthals|Mevrouw Halsema GroenLinks|Minister Korthals|Mevrouw Halsema GroenLinks|Minister Korthals|De heer Rouvoet RPF|Minister Korthals|De heer Niederer VVD|Minister Korthals|De heer Niederer VVD|Minister Korthals|De heer Van de Camp CDA|Minister Korthals|De heer Van de Camp CDA|Minister Korthals|De heer Van de Camp CDA|Minister Korthals|De heer Van de Camp CDA|Minister Korthals|De heer Rouvoet RPF|Minister Korthals|De heer Rouvoet RPF|Minister Korthals|De heer Van de Camp CDA|Minister Korthals|De heer Van de Camp CDA|Minister Korthals|De heer Van de Camp CDA|Mevrouw Halsema GroenLinks|De heer Van de Camp CDA|Minister Korthals|De heer Van de Camp CDA|Minister Korthals|De heer Van de Camp CDA|Minister Korthals|De heer Van de Camp CDA|Minister Korthals|De heer Van de Camp CDA|Minister Korthals|De heer Van de Camp CDA|Minister Korthals|De heer Van de Camp CDA|Minister Korthals|Mevrouw Halsema GroenLinks|Minister Korthals|Mevrouw Halsema GroenLinks|Minister Korthals|De heer Dittrich D66|Minister Korthals|De heer Rouvoet RPF|Minister Korthals|Mevrouw Halsema GroenLinks|Minister Korthals|Mevrouw Halsema GroenLinks|Minister Korthals|Mevrouw Halsema GroenLinks|Minister Korthals|Mevrouw Halsema GroenLinks|Minister Korthals|De heer Zijlstra PvdA|Minister Korthals|De heer Dittrich D66|Minister Korthals|De heer Rouvoet RPF|Minister Korthals|De heer Rouvoet RPF|Minister Korthals|De heer Rouvoet RPF|Minister Korthals|De heer Van der Staaij SGP|Minister Korthals|De heer Dittrich D66|De heer Zijlstra PvdA|De heer Dittrich D66|De heer Niederer VVD|De heer Dittrich D66|De heer Niederer VVD|De heer Dittrich D66|De heer Niederer VVD|De heer Dittrich D66|De heer Niederer VVD|De heer Dittrich D66|De heer Niederer VVD|De heer Rouvoet RPF|De heer Van de Camp CDA|De heer Van de Camp CDA|De heer Van de Camp CDA|De heer Dittrich D66|De heer Van de Camp CDA|De heer Van der Staaij SGP|De heer Zijlstra PvdA|Mevrouw Halsema GroenLinks|Mevrouw Halsema GroenLinks|De heer Rouvoet RPF|Mevrouw Halsema GroenLinks|De heer Rouvoet RPF|Mevrouw Halsema GroenLinks|De heer Niederer VVD|Mevrouw Halsema GroenLinks|De heer Niederer VVD|Mevrouw Halsema GroenLinks|De heer Niederer VVD|Mevrouw Halsema GroenLinks|Minister Korthals|De heer Dittrich D66|Minister Korthals|De heer Dittrich D66|Minister Korthals|De heer Dittrich D66|Minister Korthals|De heer Dittrich D66|Minister Korthals|De heer Dittrich D66|Minister Korthals|De heer Dittrich D66|Minister Korthals|De heer Rouvoet RPF|Minister Korthals|De heer Rouvoet RPF|Minister Korthals|De heer Niederer VVD|Minister Korthals|De heer Rouvoet RPF|Minister Korthals|De heer Rouvoet RPF|Minister Korthals|De heer Van der Staaij SGP|Minister Korthals|De heer Van der Staaij SGP|Minister Korthals|De heer Van de Camp CDA|Minister Korthals|De heer Zijlstra PvdA|Minister Korthals', 'title': 'handelingen', 'year': '2000', 'passage': 'blij om. De minister gaf ook aan dat hij het argument van bezuiniging een oneigenlijk argument vond nu de taakstraf aanvaard was als zelfstandige hoofdstraf. Daar ben ik ook blij om. Ik meen dat ik niet in hoef te gaan op het amendement van de heer Van der Camp, voorzover dat nog niet is ingetrokken.', 'highlighting': '60_66'}, Highlighting(start=60, end=66))\n",
      "311 Passage('enige andere wetten, alsmede enige rechtspositionele voorzieningen in verband met de opheffing van het College van beroep studiefinanciering (Wet opheffing College van beroep studiefinanciering) (26960); - het wetsvoorstel Wijziging van de Wet op de rechterlijke organisatie en de Wet rechtspositie rechterlijke', {'RecId': 'h-tk-19992000-2954-2954', 'chamber': 'TweedeKamer', 'date': '2000-01-19', 'speakers': 'no speakers', 'title': 'handelingen', 'year': '2000', 'passage': 'enige andere wetten, alsmede enige rechtspositionele voorzieningen in verband met de opheffing van het College van beroep studiefinanciering (Wet opheffing College van beroep studiefinanciering) (26960); - het wetsvoorstel Wijziging van de Wet op de rechterlijke organisatie en de Wet rechtspositie rechterlijke', 'highlighting': '148_155'}, Highlighting(start=87, end=94))\n",
      "311 Passage('enige andere wetten, alsmede enige rechtspositionele voorzieningen in verband met de opheffing van het College van beroep studiefinanciering (Wet opheffing College van beroep studiefinanciering) (26960); - het wetsvoorstel Wijziging van de Wet op de rechterlijke organisatie en de Wet rechtspositie rechterlijke', {'RecId': 'h-tk-19992000-2954-2954', 'chamber': 'TweedeKamer', 'date': '2000-01-19', 'speakers': 'no speakers', 'title': 'handelingen', 'year': '2000', 'passage': 'enige andere wetten, alsmede enige rechtspositionele voorzieningen in verband met de opheffing van het College van beroep studiefinanciering (Wet opheffing College van beroep studiefinanciering) (26960); - het wetsvoorstel Wijziging van de Wet op de rechterlijke organisatie en de Wet rechtspositie rechterlijke', 'highlighting': '148_155'}, Highlighting(start=148, end=155))\n",
      "302 Passage('omroepbijdrage, die nu niet meer bestaat, een lastenverhogend effect heeft. Daar moet je mee oppassen. Het maakt niet uit of het een doelheffing of een gewone heffing was, het was een heffing. De heer Stellingwerf RPF Leidt het feit dat u een en ander niet als een probleem ervaart niet tot de neiging,', {'RecId': 'h-tk-19992000-2955-2979', 'chamber': 'TweedeKamer', 'date': '2000-01-20', 'speakers': 'Staatssecretaris Van der Ploeg|Mevrouw Van Zuijlen PvdA|Staatssecretaris Van der Ploeg|Mevrouw Van Zuijlen PvdA|Staatssecretaris Van der Ploeg|De heer Bakker D66|Staatssecretaris Van der Ploeg|De heer Bakker D66|Staatssecretaris Van der Ploeg|De heer Bakker D66|Staatssecretaris Van der Ploeg|Mevrouw Halsema GroenLinks|Staatssecretaris Van der Ploeg|Mevrouw Halsema GroenLinks|Staatssecretaris Van der Ploeg|Mevrouw Halsema GroenLinks|Staatssecretaris Van der Ploeg|Mevrouw Halsema GroenLinks|Staatssecretaris Van der Ploeg|De heer Van Bommel SP|Staatssecretaris Van der Ploeg|De heer Van Bommel SP|Staatssecretaris Van der Ploeg|De heer Bakker D66|Staatssecretaris Van der Ploeg|De heer Bakker D66|Staatssecretaris Van der Ploeg|De heer Atsma CDA|Staatssecretaris Van der Ploeg|De heer Stellingwerf RPF|Staatssecretaris Van der Ploeg|De heer Stellingwerf RPF|Staatssecretaris Van der Ploeg|De heer Stellingwerf RPF|Mevrouw Halsema GroenLinks|Staatssecretaris Van der Ploeg|Mevrouw Halsema GroenLinks|Staatssecretaris Van der Ploeg|Mevrouw Halsema GroenLinks|Staatssecretaris Van der Ploeg|De heer Atsma CDA|Staatssecretaris Van der Ploeg|Mevrouw Halsema GroenLinks|Staatssecretaris Van der Ploeg|De heer Atsma CDA|Staatssecretaris Van der Ploeg|De heer Atsma CDA|Staatssecretaris Van der Ploeg|De heer Atsma CDA|De heer Van Bommel SP|Staatssecretaris Van der Ploeg|De heer Van Bommel SP|Staatssecretaris Van der Ploeg|De heer Stellingwerf RPF|Staatssecretaris Van der Ploeg|De heer Stellingwerf RPF|Staatssecretaris Van der Ploeg|De heer Stellingwerf RPF|Staatssecretaris Van der Ploeg|Mevrouw Van Zuijlen PvdA|Staatssecretaris Van der Ploeg|Mevrouw Van Zuijlen PvdA|Staatssecretaris Van der Ploeg|Mevrouw Van Zuijlen PvdA|Staatssecretaris Van der Ploeg|De heer Bakker D66|Staatssecretaris Van der Ploeg|De heer Bakker D66|De heer Stellingwerf RPF|Staatssecretaris Van der Ploeg|Mevrouw Halsema GroenLinks|Staatssecretaris Van der Ploeg|De heer Bakker D66|Staatssecretaris Van der Ploeg|De heer Van Bommel SP|Staatssecretaris Van der Ploeg|De heer Van Bommel SP|Staatssecretaris Van der Ploeg|De heer Van Bommel SP|De heer Van Bommel SP|De heer Van Bommel SP|De heer Van Bommel SP|Staatssecretaris Van der Ploeg|De heer Atsma CDA|Staatssecretaris Van der Ploeg|Mevrouw Halsema GroenLinks|Staatssecretaris Van der Ploeg|Mevrouw Halsema GroenLinks|Staatssecretaris Van der Ploeg|De heer Nicolaï VVD|Staatssecretaris Van der Ploeg|Mevrouw Halsema GroenLinks|Staatssecretaris Van der Ploeg|Mevrouw Halsema GroenLinks|Staatssecretaris Van der Ploeg|Mevrouw Halsema GroenLinks|Staatssecretaris Van der Ploeg|Mevrouw Van Zuijlen PvdA|Staatssecretaris Van der Ploeg|Mevrouw Van Zuijlen PvdA|Staatssecretaris Van der Ploeg|Mevrouw Van Zuijlen PvdA|Staatssecretaris Van der Ploeg|De heer Nicolaï VVD|Staatssecretaris Van der Ploeg|De heer Nicolaï VVD|Staatssecretaris Van der Ploeg|De heer Nicolaï VVD|Staatssecretaris Van der Ploeg|De heer Nicolaï VVD|De heer Atsma CDA|De heer Stellingwerf RPF|Mevrouw Halsema GroenLinks|Staatssecretaris Van der Ploeg|De heer Atsma CDA|Staatssecretaris Van der Ploeg|Mevrouw Halsema GroenLinks|Staatssecretaris Van der Ploeg|Mevrouw Halsema GroenLinks|Staatssecretaris Van der Ploeg|De heer Van Bommel SP|Staatssecretaris Van der Ploeg|De heer Van Bommel SP|Staatssecretaris Van der Ploeg|De heer Van Bommel SP|Staatssecretaris Van der Ploeg|De heer Stellingwerf RPF|Staatssecretaris Van der Ploeg|De heer Stellingwerf RPF|Staatssecretaris Van der Ploeg|De heer Stellingwerf RPF|Staatssecretaris Van der Ploeg|De heer Stellingwerf RPF|Staatssecretaris Van der Ploeg|De heer Atsma CDA|Staatssecretaris Van der Ploeg|De heer Atsma CDA|Staatssecretaris Van der Ploeg|De heer Stellingwerf RPF|Staatssecretaris Van der Ploeg|De heer Stellingwerf RPF|Staatssecretaris Van der Ploeg|De heer Stellingwerf RPF|De heer Stellingwerf RPF|Staatssecretaris Van der Ploeg|De heer Van Bommel SP|Staatssecretaris Van der Ploeg|De heer Van Bommel SP|Staatssecretaris Van der Ploeg|De heer Van Bommel SP|Staatssecretaris Van der Ploeg|De heer Van Bommel SP|Staatssecretaris Van der Ploeg|De heer Bakker D66|Staatssecretaris Van der Ploeg|De heer Van Bommel SP|Staatssecretaris Van der Ploeg|De heer Van Bommel SP|Staatssecretaris Van der Ploeg|De heer Bakker D66|Staatssecretaris Van der Ploeg|Staatssecretaris Van der Ploeg|De heer Nicolaï VVD|Staatssecretaris Van der Ploeg|De heer Bakker D66|Staatssecretaris Van der Ploeg|De heer Bakker D66|Staatssecretaris Van der Ploeg|De heer Bakker D66|Staatssecretaris Van der Ploeg|De heer Bakker D66|Staatssecretaris Van der Ploeg|De heer Atsma CDA|Staatssecretaris Van der Ploeg|De heer Atsma CDA|Staatssecretaris Van der Ploeg|De heer Bakker D66|Staatssecretaris Van der Ploeg|De heer Nicolaï VVD|Staatssecretaris Van der Ploeg|De heer Nicolaï VVD|Staatssecretaris Van der Ploeg|Staatssecretaris Van der Ploeg|De heer Nicolaï VVD|Staatssecretaris Van der Ploeg|De heer Nicolaï VVD|Staatssecretaris Van der Ploeg|De heer Nicolaï VVD|Staatssecretaris Van der Ploeg|De heer Nicolaï VVD|Staatssecretaris Van der Ploeg|De heer Atsma CDA|Staatssecretaris Van der Ploeg|De heer Atsma CDA|Staatssecretaris Van der Ploeg', 'title': 'handelingen', 'year': '2000', 'passage': 'omroepbijdrage, die nu niet meer bestaat, een lastenverhogend effect heeft. Daar moet je mee oppassen. Het maakt niet uit of het een doelheffing of een gewone heffing was, het was een heffing. De heer Stellingwerf RPF Leidt het feit dat u een en ander niet als een probleem ervaart niet tot de neiging,', 'highlighting': '184_191'}, Highlighting(start=137, end=144))\n",
      "302 Passage('omroepbijdrage, die nu niet meer bestaat, een lastenverhogend effect heeft. Daar moet je mee oppassen. Het maakt niet uit of het een doelheffing of een gewone heffing was, het was een heffing. De heer Stellingwerf RPF Leidt het feit dat u een en ander niet als een probleem ervaart niet tot de neiging,', {'RecId': 'h-tk-19992000-2955-2979', 'chamber': 'TweedeKamer', 'date': '2000-01-20', 'speakers': 'Staatssecretaris Van der Ploeg|Mevrouw Van Zuijlen PvdA|Staatssecretaris Van der Ploeg|Mevrouw Van Zuijlen PvdA|Staatssecretaris Van der Ploeg|De heer Bakker D66|Staatssecretaris Van der Ploeg|De heer Bakker D66|Staatssecretaris Van der Ploeg|De heer Bakker D66|Staatssecretaris Van der Ploeg|Mevrouw Halsema GroenLinks|Staatssecretaris Van der Ploeg|Mevrouw Halsema GroenLinks|Staatssecretaris Van der Ploeg|Mevrouw Halsema GroenLinks|Staatssecretaris Van der Ploeg|Mevrouw Halsema GroenLinks|Staatssecretaris Van der Ploeg|De heer Van Bommel SP|Staatssecretaris Van der Ploeg|De heer Van Bommel SP|Staatssecretaris Van der Ploeg|De heer Bakker D66|Staatssecretaris Van der Ploeg|De heer Bakker D66|Staatssecretaris Van der Ploeg|De heer Atsma CDA|Staatssecretaris Van der Ploeg|De heer Stellingwerf RPF|Staatssecretaris Van der Ploeg|De heer Stellingwerf RPF|Staatssecretaris Van der Ploeg|De heer Stellingwerf RPF|Mevrouw Halsema GroenLinks|Staatssecretaris Van der Ploeg|Mevrouw Halsema GroenLinks|Staatssecretaris Van der Ploeg|Mevrouw Halsema GroenLinks|Staatssecretaris Van der Ploeg|De heer Atsma CDA|Staatssecretaris Van der Ploeg|Mevrouw Halsema GroenLinks|Staatssecretaris Van der Ploeg|De heer Atsma CDA|Staatssecretaris Van der Ploeg|De heer Atsma CDA|Staatssecretaris Van der Ploeg|De heer Atsma CDA|De heer Van Bommel SP|Staatssecretaris Van der Ploeg|De heer Van Bommel SP|Staatssecretaris Van der Ploeg|De heer Stellingwerf RPF|Staatssecretaris Van der Ploeg|De heer Stellingwerf RPF|Staatssecretaris Van der Ploeg|De heer Stellingwerf RPF|Staatssecretaris Van der Ploeg|Mevrouw Van Zuijlen PvdA|Staatssecretaris Van der Ploeg|Mevrouw Van Zuijlen PvdA|Staatssecretaris Van der Ploeg|Mevrouw Van Zuijlen PvdA|Staatssecretaris Van der Ploeg|De heer Bakker D66|Staatssecretaris Van der Ploeg|De heer Bakker D66|De heer Stellingwerf RPF|Staatssecretaris Van der Ploeg|Mevrouw Halsema GroenLinks|Staatssecretaris Van der Ploeg|De heer Bakker D66|Staatssecretaris Van der Ploeg|De heer Van Bommel SP|Staatssecretaris Van der Ploeg|De heer Van Bommel SP|Staatssecretaris Van der Ploeg|De heer Van Bommel SP|De heer Van Bommel SP|De heer Van Bommel SP|De heer Van Bommel SP|Staatssecretaris Van der Ploeg|De heer Atsma CDA|Staatssecretaris Van der Ploeg|Mevrouw Halsema GroenLinks|Staatssecretaris Van der Ploeg|Mevrouw Halsema GroenLinks|Staatssecretaris Van der Ploeg|De heer Nicolaï VVD|Staatssecretaris Van der Ploeg|Mevrouw Halsema GroenLinks|Staatssecretaris Van der Ploeg|Mevrouw Halsema GroenLinks|Staatssecretaris Van der Ploeg|Mevrouw Halsema GroenLinks|Staatssecretaris Van der Ploeg|Mevrouw Van Zuijlen PvdA|Staatssecretaris Van der Ploeg|Mevrouw Van Zuijlen PvdA|Staatssecretaris Van der Ploeg|Mevrouw Van Zuijlen PvdA|Staatssecretaris Van der Ploeg|De heer Nicolaï VVD|Staatssecretaris Van der Ploeg|De heer Nicolaï VVD|Staatssecretaris Van der Ploeg|De heer Nicolaï VVD|Staatssecretaris Van der Ploeg|De heer Nicolaï VVD|De heer Atsma CDA|De heer Stellingwerf RPF|Mevrouw Halsema GroenLinks|Staatssecretaris Van der Ploeg|De heer Atsma CDA|Staatssecretaris Van der Ploeg|Mevrouw Halsema GroenLinks|Staatssecretaris Van der Ploeg|Mevrouw Halsema GroenLinks|Staatssecretaris Van der Ploeg|De heer Van Bommel SP|Staatssecretaris Van der Ploeg|De heer Van Bommel SP|Staatssecretaris Van der Ploeg|De heer Van Bommel SP|Staatssecretaris Van der Ploeg|De heer Stellingwerf RPF|Staatssecretaris Van der Ploeg|De heer Stellingwerf RPF|Staatssecretaris Van der Ploeg|De heer Stellingwerf RPF|Staatssecretaris Van der Ploeg|De heer Stellingwerf RPF|Staatssecretaris Van der Ploeg|De heer Atsma CDA|Staatssecretaris Van der Ploeg|De heer Atsma CDA|Staatssecretaris Van der Ploeg|De heer Stellingwerf RPF|Staatssecretaris Van der Ploeg|De heer Stellingwerf RPF|Staatssecretaris Van der Ploeg|De heer Stellingwerf RPF|De heer Stellingwerf RPF|Staatssecretaris Van der Ploeg|De heer Van Bommel SP|Staatssecretaris Van der Ploeg|De heer Van Bommel SP|Staatssecretaris Van der Ploeg|De heer Van Bommel SP|Staatssecretaris Van der Ploeg|De heer Van Bommel SP|Staatssecretaris Van der Ploeg|De heer Bakker D66|Staatssecretaris Van der Ploeg|De heer Van Bommel SP|Staatssecretaris Van der Ploeg|De heer Van Bommel SP|Staatssecretaris Van der Ploeg|De heer Bakker D66|Staatssecretaris Van der Ploeg|Staatssecretaris Van der Ploeg|De heer Nicolaï VVD|Staatssecretaris Van der Ploeg|De heer Bakker D66|Staatssecretaris Van der Ploeg|De heer Bakker D66|Staatssecretaris Van der Ploeg|De heer Bakker D66|Staatssecretaris Van der Ploeg|De heer Bakker D66|Staatssecretaris Van der Ploeg|De heer Atsma CDA|Staatssecretaris Van der Ploeg|De heer Atsma CDA|Staatssecretaris Van der Ploeg|De heer Bakker D66|Staatssecretaris Van der Ploeg|De heer Nicolaï VVD|Staatssecretaris Van der Ploeg|De heer Nicolaï VVD|Staatssecretaris Van der Ploeg|Staatssecretaris Van der Ploeg|De heer Nicolaï VVD|Staatssecretaris Van der Ploeg|De heer Nicolaï VVD|Staatssecretaris Van der Ploeg|De heer Nicolaï VVD|Staatssecretaris Van der Ploeg|De heer Nicolaï VVD|Staatssecretaris Van der Ploeg|De heer Atsma CDA|Staatssecretaris Van der Ploeg|De heer Atsma CDA|Staatssecretaris Van der Ploeg', 'title': 'handelingen', 'year': '2000', 'passage': 'omroepbijdrage, die nu niet meer bestaat, een lastenverhogend effect heeft. Daar moet je mee oppassen. Het maakt niet uit of het een doelheffing of een gewone heffing was, het was een heffing. De heer Stellingwerf RPF Leidt het feit dat u een en ander niet als een probleem ervaart niet tot de neiging,', 'highlighting': '184_191'}, Highlighting(start=159, end=166))\n",
      "302 Passage('omroepbijdrage, die nu niet meer bestaat, een lastenverhogend effect heeft. Daar moet je mee oppassen. Het maakt niet uit of het een doelheffing of een gewone heffing was, het was een heffing. De heer Stellingwerf RPF Leidt het feit dat u een en ander niet als een probleem ervaart niet tot de neiging,', {'RecId': 'h-tk-19992000-2955-2979', 'chamber': 'TweedeKamer', 'date': '2000-01-20', 'speakers': 'Staatssecretaris Van der Ploeg|Mevrouw Van Zuijlen PvdA|Staatssecretaris Van der Ploeg|Mevrouw Van Zuijlen PvdA|Staatssecretaris Van der Ploeg|De heer Bakker D66|Staatssecretaris Van der Ploeg|De heer Bakker D66|Staatssecretaris Van der Ploeg|De heer Bakker D66|Staatssecretaris Van der Ploeg|Mevrouw Halsema GroenLinks|Staatssecretaris Van der Ploeg|Mevrouw Halsema GroenLinks|Staatssecretaris Van der Ploeg|Mevrouw Halsema GroenLinks|Staatssecretaris Van der Ploeg|Mevrouw Halsema GroenLinks|Staatssecretaris Van der Ploeg|De heer Van Bommel SP|Staatssecretaris Van der Ploeg|De heer Van Bommel SP|Staatssecretaris Van der Ploeg|De heer Bakker D66|Staatssecretaris Van der Ploeg|De heer Bakker D66|Staatssecretaris Van der Ploeg|De heer Atsma CDA|Staatssecretaris Van der Ploeg|De heer Stellingwerf RPF|Staatssecretaris Van der Ploeg|De heer Stellingwerf RPF|Staatssecretaris Van der Ploeg|De heer Stellingwerf RPF|Mevrouw Halsema GroenLinks|Staatssecretaris Van der Ploeg|Mevrouw Halsema GroenLinks|Staatssecretaris Van der Ploeg|Mevrouw Halsema GroenLinks|Staatssecretaris Van der Ploeg|De heer Atsma CDA|Staatssecretaris Van der Ploeg|Mevrouw Halsema GroenLinks|Staatssecretaris Van der Ploeg|De heer Atsma CDA|Staatssecretaris Van der Ploeg|De heer Atsma CDA|Staatssecretaris Van der Ploeg|De heer Atsma CDA|De heer Van Bommel SP|Staatssecretaris Van der Ploeg|De heer Van Bommel SP|Staatssecretaris Van der Ploeg|De heer Stellingwerf RPF|Staatssecretaris Van der Ploeg|De heer Stellingwerf RPF|Staatssecretaris Van der Ploeg|De heer Stellingwerf RPF|Staatssecretaris Van der Ploeg|Mevrouw Van Zuijlen PvdA|Staatssecretaris Van der Ploeg|Mevrouw Van Zuijlen PvdA|Staatssecretaris Van der Ploeg|Mevrouw Van Zuijlen PvdA|Staatssecretaris Van der Ploeg|De heer Bakker D66|Staatssecretaris Van der Ploeg|De heer Bakker D66|De heer Stellingwerf RPF|Staatssecretaris Van der Ploeg|Mevrouw Halsema GroenLinks|Staatssecretaris Van der Ploeg|De heer Bakker D66|Staatssecretaris Van der Ploeg|De heer Van Bommel SP|Staatssecretaris Van der Ploeg|De heer Van Bommel SP|Staatssecretaris Van der Ploeg|De heer Van Bommel SP|De heer Van Bommel SP|De heer Van Bommel SP|De heer Van Bommel SP|Staatssecretaris Van der Ploeg|De heer Atsma CDA|Staatssecretaris Van der Ploeg|Mevrouw Halsema GroenLinks|Staatssecretaris Van der Ploeg|Mevrouw Halsema GroenLinks|Staatssecretaris Van der Ploeg|De heer Nicolaï VVD|Staatssecretaris Van der Ploeg|Mevrouw Halsema GroenLinks|Staatssecretaris Van der Ploeg|Mevrouw Halsema GroenLinks|Staatssecretaris Van der Ploeg|Mevrouw Halsema GroenLinks|Staatssecretaris Van der Ploeg|Mevrouw Van Zuijlen PvdA|Staatssecretaris Van der Ploeg|Mevrouw Van Zuijlen PvdA|Staatssecretaris Van der Ploeg|Mevrouw Van Zuijlen PvdA|Staatssecretaris Van der Ploeg|De heer Nicolaï VVD|Staatssecretaris Van der Ploeg|De heer Nicolaï VVD|Staatssecretaris Van der Ploeg|De heer Nicolaï VVD|Staatssecretaris Van der Ploeg|De heer Nicolaï VVD|De heer Atsma CDA|De heer Stellingwerf RPF|Mevrouw Halsema GroenLinks|Staatssecretaris Van der Ploeg|De heer Atsma CDA|Staatssecretaris Van der Ploeg|Mevrouw Halsema GroenLinks|Staatssecretaris Van der Ploeg|Mevrouw Halsema GroenLinks|Staatssecretaris Van der Ploeg|De heer Van Bommel SP|Staatssecretaris Van der Ploeg|De heer Van Bommel SP|Staatssecretaris Van der Ploeg|De heer Van Bommel SP|Staatssecretaris Van der Ploeg|De heer Stellingwerf RPF|Staatssecretaris Van der Ploeg|De heer Stellingwerf RPF|Staatssecretaris Van der Ploeg|De heer Stellingwerf RPF|Staatssecretaris Van der Ploeg|De heer Stellingwerf RPF|Staatssecretaris Van der Ploeg|De heer Atsma CDA|Staatssecretaris Van der Ploeg|De heer Atsma CDA|Staatssecretaris Van der Ploeg|De heer Stellingwerf RPF|Staatssecretaris Van der Ploeg|De heer Stellingwerf RPF|Staatssecretaris Van der Ploeg|De heer Stellingwerf RPF|De heer Stellingwerf RPF|Staatssecretaris Van der Ploeg|De heer Van Bommel SP|Staatssecretaris Van der Ploeg|De heer Van Bommel SP|Staatssecretaris Van der Ploeg|De heer Van Bommel SP|Staatssecretaris Van der Ploeg|De heer Van Bommel SP|Staatssecretaris Van der Ploeg|De heer Bakker D66|Staatssecretaris Van der Ploeg|De heer Van Bommel SP|Staatssecretaris Van der Ploeg|De heer Van Bommel SP|Staatssecretaris Van der Ploeg|De heer Bakker D66|Staatssecretaris Van der Ploeg|Staatssecretaris Van der Ploeg|De heer Nicolaï VVD|Staatssecretaris Van der Ploeg|De heer Bakker D66|Staatssecretaris Van der Ploeg|De heer Bakker D66|Staatssecretaris Van der Ploeg|De heer Bakker D66|Staatssecretaris Van der Ploeg|De heer Bakker D66|Staatssecretaris Van der Ploeg|De heer Atsma CDA|Staatssecretaris Van der Ploeg|De heer Atsma CDA|Staatssecretaris Van der Ploeg|De heer Bakker D66|Staatssecretaris Van der Ploeg|De heer Nicolaï VVD|Staatssecretaris Van der Ploeg|De heer Nicolaï VVD|Staatssecretaris Van der Ploeg|Staatssecretaris Van der Ploeg|De heer Nicolaï VVD|Staatssecretaris Van der Ploeg|De heer Nicolaï VVD|Staatssecretaris Van der Ploeg|De heer Nicolaï VVD|Staatssecretaris Van der Ploeg|De heer Nicolaï VVD|Staatssecretaris Van der Ploeg|De heer Atsma CDA|Staatssecretaris Van der Ploeg|De heer Atsma CDA|Staatssecretaris Van der Ploeg', 'title': 'handelingen', 'year': '2000', 'passage': 'omroepbijdrage, die nu niet meer bestaat, een lastenverhogend effect heeft. Daar moet je mee oppassen. Het maakt niet uit of het een doelheffing of een gewone heffing was, het was een heffing. De heer Stellingwerf RPF Leidt het feit dat u een en ander niet als een probleem ervaart niet tot de neiging,', 'highlighting': '184_191'}, Highlighting(start=184, end=191))\n",
      "300 Passage('de Meststoffenwet in verband met een aanscherping van de normen van het stelsel van regulerende mineralenheffingen (26840). Overeenkomstig de voorstellen van de voorzitter wordt besloten. Ik bepaal nader, dat het wetgevingsoverleg van de vaste commissie voor Financiën morgen, vrijdag 21 januari, zal', {'RecId': 'h-tk-19992000-2979-2979', 'chamber': 'TweedeKamer', 'date': '2000-01-20', 'speakers': 'no speakers', 'title': 'handelingen', 'year': '2000', 'passage': 'de Meststoffenwet in verband met een aanscherping van de normen van het stelsel van regulerende mineralenheffingen (26840). Overeenkomstig de voorstellen van de voorzitter wordt besloten. Ik bepaal nader, dat het wetgevingsoverleg van de vaste commissie voor Financiën morgen, vrijdag 21 januari, zal', 'highlighting': '105_112'}, Highlighting(start=105, end=112))\n",
      "308 Passage('concessievoorwaarden. Daarom hebben wij hierover een amendement ingediend. De staatssecretaris heeft over de financiële zekerheid interessante opmerkingen gemaakt: hij sprak van de omzetting van de omroepbijdrage en van een fiscale heffing. Hij stelde dat vroeger het Mediabesluit zomaar kon worden veranderd', {'RecId': 'h-tk-19992000-2979-3015', 'chamber': 'TweedeKamer', 'date': '2000-01-20', 'speakers': 'Mevrouw Van Zuijlen PvdA|De heer Atsma CDA|Mevrouw Van Zuijlen PvdA|De heer Atsma CDA|Mevrouw Van Zuijlen PvdA|De heer Atsma CDA|Mevrouw Van Zuijlen PvdA|De heer Atsma CDA|Mevrouw Van Zuijlen PvdA|Mevrouw Van Zuijlen PvdA|Mevrouw Halsema GroenLinks|Mevrouw Van Zuijlen PvdA|De heer Bakker D66|Mevrouw Van Zuijlen PvdA|De heer Stellingwerf RPF|Mevrouw Van Zuijlen PvdA|De heer Stellingwerf RPF|Mevrouw Van Zuijlen PvdA|Mevrouw Halsema GroenLinks|Mevrouw Van Zuijlen PvdA|Mevrouw Halsema GroenLinks|Mevrouw Van Zuijlen PvdA|Mevrouw Halsema GroenLinks|Mevrouw Van Zuijlen PvdA|De heer Stellingwerf RPF|Mevrouw Van Zuijlen PvdA|De heer Atsma CDA|Mevrouw Van Zuijlen PvdA|De heer Atsma CDA|Mevrouw Van Zuijlen PvdA|De heer Atsma CDA|Mevrouw Van Zuijlen PvdA|De heer Atsma CDA|Mevrouw Van Zuijlen PvdA|De heer Atsma CDA|Mevrouw Van Zuijlen PvdA|De heer Van Bommel SP|Mevrouw Van Zuijlen PvdA|De heer Van Bommel SP|Mevrouw Van Zuijlen PvdA|De heer Van Bommel SP|Mevrouw Van Zuijlen PvdA|De heer Van Bommel SP|Mevrouw Van Zuijlen PvdA|Mevrouw Halsema GroenLinks|De heer Van Bommel SP|Mevrouw Halsema GroenLinks|De heer Van Bommel SP|Mevrouw Halsema GroenLinks|De heer Van Bommel SP|Mevrouw Halsema GroenLinks|De heer Atsma CDA|Mevrouw Halsema GroenLinks|De heer Atsma CDA|Mevrouw Halsema GroenLinks|Mevrouw Van Zuijlen PvdA|Mevrouw Halsema GroenLinks|Mevrouw Van Zuijlen PvdA|Mevrouw Halsema GroenLinks|Mevrouw Halsema GroenLinks|De heer Van Bommel SP|De heer Bakker D66|De heer Van Bommel SP|De heer Bakker D66|De heer Van Bommel SP|De heer Bakker D66|De heer Van Bommel SP|De heer Bakker D66|De heer Van Bommel SP|Mevrouw Halsema GroenLinks|De heer Van Bommel SP|Mevrouw Halsema GroenLinks|De heer Van Bommel SP|Mevrouw Halsema GroenLinks|De heer Van Bommel SP|De heer Bakker D66|De heer Atsma CDA|De heer Bakker D66|De heer Atsma CDA|De heer Bakker D66|De heer Van Bommel SP|De heer Bakker D66|Mevrouw Van Zuijlen PvdA|De heer Bakker D66|Mevrouw Halsema GroenLinks|De heer Bakker D66|De heer Van Bommel SP|De heer Bakker D66|De heer Stellingwerf RPF|De heer Stellingwerf RPF|De heer Atsma CDA|Mevrouw Halsema GroenLinks|De heer Atsma CDA|Mevrouw Halsema GroenLinks|De heer Atsma CDA|De heer Nicolaï VVD|De heer Atsma CDA|De heer Nicolaï VVD|De heer Atsma CDA|Mevrouw Van Zuijlen PvdA|De heer Atsma CDA|De heer Nicolaï VVD|De heer Nicolaï VVD|Mevrouw Van Zuijlen PvdA|De heer Nicolaï VVD|Mevrouw Van Zuijlen PvdA|De heer Nicolaï VVD|Mevrouw Halsema GroenLinks|De heer Nicolaï VVD|Mevrouw Halsema GroenLinks|De heer Nicolaï VVD|Mevrouw Halsema GroenLinks|De heer Nicolaï VVD|De heer Nicolaï VVD|Mevrouw Halsema GroenLinks|De heer Nicolaï VVD|Mevrouw Halsema GroenLinks|De heer Nicolaï VVD|Mevrouw Halsema GroenLinks|De heer Nicolaï VVD|Mevrouw Halsema GroenLinks|De heer Nicolaï VVD|De heer Atsma CDA|De heer Nicolaï VVD|Staatssecretaris Van der Ploeg|De heer Nicolaï VVD|Staatssecretaris Van der Ploeg|De heer Atsma CDA|Staatssecretaris Van der Ploeg|De heer Stellingwerf RPF|Staatssecretaris Van der Ploeg|De heer Atsma CDA|Staatssecretaris Van der Ploeg|Mevrouw Halsema GroenLinks|Staatssecretaris Van der Ploeg|Mevrouw Halsema GroenLinks|Staatssecretaris Van der Ploeg|Mevrouw Halsema GroenLinks|Staatssecretaris Van der Ploeg|Mevrouw Halsema GroenLinks|Staatssecretaris Van der Ploeg|Mevrouw Halsema GroenLinks|Staatssecretaris Van der Ploeg|Mevrouw Halsema GroenLinks|Mevrouw Van Zuijlen PvdA|Mevrouw Halsema GroenLinks|Staatssecretaris Van der Ploeg|Mevrouw Halsema GroenLinks|Staatssecretaris Van der Ploeg|Mevrouw Halsema GroenLinks|Staatssecretaris Van der Ploeg|Mevrouw Halsema GroenLinks|Staatssecretaris Van der Ploeg|De heer Van Bommel SP|Staatssecretaris Van der Ploeg|De heer Van Bommel SP|Staatssecretaris Van der Ploeg|Mevrouw Halsema GroenLinks|Staatssecretaris Van der Ploeg|De heer Van Bommel SP|Staatssecretaris Van der Ploeg|De heer Van Bommel SP|Staatssecretaris Van der Ploeg|De heer Atsma CDA|Staatssecretaris Van der Ploeg|De heer Van Bommel SP|De heer Van Bommel SP|De heer Van Bommel SP|Staatssecretaris Van der Ploeg|De heer Van Bommel SP|Staatssecretaris Van der Ploeg|De heer Stellingwerf RPF|Staatssecretaris Van der Ploeg|De heer Stellingwerf RPF|Staatssecretaris Van der Ploeg|De heer Van Bommel SP|Staatssecretaris Van der Ploeg|De heer Van Bommel SP|Staatssecretaris Van der Ploeg|Staatssecretaris Van der Ploeg|De heer Van Bommel SP|Staatssecretaris Van der Ploeg|De heer Van Bommel SP|Staatssecretaris Van der Ploeg|De heer Van Bommel SP|Staatssecretaris Van der Ploeg|De heer Stellingwerf RPF|Staatssecretaris Van der Ploeg|De heer Stellingwerf RPF|Staatssecretaris Van der Ploeg|De heer Stellingwerf RPF|Staatssecretaris Van der Ploeg|Staatssecretaris Van der Ploeg|Staatssecretaris Van der Ploeg|De heer Stellingwerf RPF|Staatssecretaris Van der Ploeg|De heer Stellingwerf RPF|Staatssecretaris Van der Ploeg|De heer Stellingwerf RPF|Staatssecretaris Van der Ploeg|De heer Bakker D66|Staatssecretaris Van der Ploeg|De heer Stellingwerf RPF|Staatssecretaris Van der Ploeg|Mevrouw Van Zuijlen PvdA|Staatssecretaris Van der Ploeg|De heer Stellingwerf RPF|Staatssecretaris Van der Ploeg|De heer Bakker D66|Staatssecretaris Van der Ploeg|De heer Bakker D66|Staatssecretaris Van der Ploeg|De heer Bakker D66|Staatssecretaris Van der Ploeg|De heer Bakker D66|Staatssecretaris Van der Ploeg|De heer Atsma CDA|Staatssecretaris Van der Ploeg|Mevrouw Halsema GroenLinks|Staatssecretaris Van der Ploeg|De heer Atsma CDA|Staatssecretaris Van der Ploeg|De heer Atsma CDA|Staatssecretaris Van der Ploeg|De heer Atsma CDA|Staatssecretaris Van der Ploeg|De heer Atsma CDA|Staatssecretaris Van der Ploeg|De heer Atsma CDA|Staatssecretaris Van der Ploeg|De heer Atsma CDA|Staatssecretaris Van der Ploeg|De heer Atsma CDA|Staatssecretaris Van der Ploeg|De heer Atsma CDA|Staatssecretaris Van der Ploeg|De heer Atsma CDA|Staatssecretaris Van der Ploeg|De heer Atsma CDA|Staatssecretaris Van der Ploeg|De heer Atsma CDA|Staatssecretaris Van der Ploeg|De heer Atsma CDA|Staatssecretaris Van der Ploeg|De heer Atsma CDA|De heer Bakker D66|Staatssecretaris Van der Ploeg|De heer Atsma CDA|Staatssecretaris Van der Ploeg|De heer Nicolaï VVD|Staatssecretaris Van der Ploeg|De heer Nicolaï VVD|Staatssecretaris Van der Ploeg|De heer Nicolaï VVD|Staatssecretaris Van der Ploeg|De heer Nicolaï VVD|Staatssecretaris Van der Ploeg|Mevrouw Halsema GroenLinks|Staatssecretaris Van der Ploeg|De heer Bakker D66|Staatssecretaris Van der Ploeg|De heer Stellingwerf RPF|Staatssecretaris Van der Ploeg|De heer Nicolaï VVD|Staatssecretaris Van der Ploeg|De heer Nicolaï VVD|Staatssecretaris Van der Ploeg', 'title': 'handelingen', 'year': '2000', 'passage': 'polen in het bestel wat ons betreft. Zoals ik eerder betoogde, leidt dat logischerwijs tot opheffing van de netbesturen. Mevrouw Halsema heeft dit in een amendement neergelegd. Dit is een halfjaar geleden al in een algemeen overleg aan de orde geweest. Zowel D66, de PvdA als de VVD hebben er toen voor', 'highlighting': '93_100'}, Highlighting(start=232, end=239))\n",
      "301 Passage('ervan. Hij onderstreepte het belang van een aantal historische verworvenheden. Wij moeten daar heel zuinig op zijn. Ook bijvoorbeeld op de omvang van het publieke bestel; die is in de loop der tijd gegroeid en met het oog op de levensvatbaarheid ervan is het van belang dat de drie televisiezenders en', {'RecId': 'h-tk-19992000-2979-3015', 'chamber': 'TweedeKamer', 'date': '2000-01-20', 'speakers': 'Mevrouw Van Zuijlen PvdA|De heer Atsma CDA|Mevrouw Van Zuijlen PvdA|De heer Atsma CDA|Mevrouw Van Zuijlen PvdA|De heer Atsma CDA|Mevrouw Van Zuijlen PvdA|De heer Atsma CDA|Mevrouw Van Zuijlen PvdA|Mevrouw Van Zuijlen PvdA|Mevrouw Halsema GroenLinks|Mevrouw Van Zuijlen PvdA|De heer Bakker D66|Mevrouw Van Zuijlen PvdA|De heer Stellingwerf RPF|Mevrouw Van Zuijlen PvdA|De heer Stellingwerf RPF|Mevrouw Van Zuijlen PvdA|Mevrouw Halsema GroenLinks|Mevrouw Van Zuijlen PvdA|Mevrouw Halsema GroenLinks|Mevrouw Van Zuijlen PvdA|Mevrouw Halsema GroenLinks|Mevrouw Van Zuijlen PvdA|De heer Stellingwerf RPF|Mevrouw Van Zuijlen PvdA|De heer Atsma CDA|Mevrouw Van Zuijlen PvdA|De heer Atsma CDA|Mevrouw Van Zuijlen PvdA|De heer Atsma CDA|Mevrouw Van Zuijlen PvdA|De heer Atsma CDA|Mevrouw Van Zuijlen PvdA|De heer Atsma CDA|Mevrouw Van Zuijlen PvdA|De heer Van Bommel SP|Mevrouw Van Zuijlen PvdA|De heer Van Bommel SP|Mevrouw Van Zuijlen PvdA|De heer Van Bommel SP|Mevrouw Van Zuijlen PvdA|De heer Van Bommel SP|Mevrouw Van Zuijlen PvdA|Mevrouw Halsema GroenLinks|De heer Van Bommel SP|Mevrouw Halsema GroenLinks|De heer Van Bommel SP|Mevrouw Halsema GroenLinks|De heer Van Bommel SP|Mevrouw Halsema GroenLinks|De heer Atsma CDA|Mevrouw Halsema GroenLinks|De heer Atsma CDA|Mevrouw Halsema GroenLinks|Mevrouw Van Zuijlen PvdA|Mevrouw Halsema GroenLinks|Mevrouw Van Zuijlen PvdA|Mevrouw Halsema GroenLinks|Mevrouw Halsema GroenLinks|De heer Van Bommel SP|De heer Bakker D66|De heer Van Bommel SP|De heer Bakker D66|De heer Van Bommel SP|De heer Bakker D66|De heer Van Bommel SP|De heer Bakker D66|De heer Van Bommel SP|Mevrouw Halsema GroenLinks|De heer Van Bommel SP|Mevrouw Halsema GroenLinks|De heer Van Bommel SP|Mevrouw Halsema GroenLinks|De heer Van Bommel SP|De heer Bakker D66|De heer Atsma CDA|De heer Bakker D66|De heer Atsma CDA|De heer Bakker D66|De heer Van Bommel SP|De heer Bakker D66|Mevrouw Van Zuijlen PvdA|De heer Bakker D66|Mevrouw Halsema GroenLinks|De heer Bakker D66|De heer Van Bommel SP|De heer Bakker D66|De heer Stellingwerf RPF|De heer Stellingwerf RPF|De heer Atsma CDA|Mevrouw Halsema GroenLinks|De heer Atsma CDA|Mevrouw Halsema GroenLinks|De heer Atsma CDA|De heer Nicolaï VVD|De heer Atsma CDA|De heer Nicolaï VVD|De heer Atsma CDA|Mevrouw Van Zuijlen PvdA|De heer Atsma CDA|De heer Nicolaï VVD|De heer Nicolaï VVD|Mevrouw Van Zuijlen PvdA|De heer Nicolaï VVD|Mevrouw Van Zuijlen PvdA|De heer Nicolaï VVD|Mevrouw Halsema GroenLinks|De heer Nicolaï VVD|Mevrouw Halsema GroenLinks|De heer Nicolaï VVD|Mevrouw Halsema GroenLinks|De heer Nicolaï VVD|De heer Nicolaï VVD|Mevrouw Halsema GroenLinks|De heer Nicolaï VVD|Mevrouw Halsema GroenLinks|De heer Nicolaï VVD|Mevrouw Halsema GroenLinks|De heer Nicolaï VVD|Mevrouw Halsema GroenLinks|De heer Nicolaï VVD|De heer Atsma CDA|De heer Nicolaï VVD|Staatssecretaris Van der Ploeg|De heer Nicolaï VVD|Staatssecretaris Van der Ploeg|De heer Atsma CDA|Staatssecretaris Van der Ploeg|De heer Stellingwerf RPF|Staatssecretaris Van der Ploeg|De heer Atsma CDA|Staatssecretaris Van der Ploeg|Mevrouw Halsema GroenLinks|Staatssecretaris Van der Ploeg|Mevrouw Halsema GroenLinks|Staatssecretaris Van der Ploeg|Mevrouw Halsema GroenLinks|Staatssecretaris Van der Ploeg|Mevrouw Halsema GroenLinks|Staatssecretaris Van der Ploeg|Mevrouw Halsema GroenLinks|Staatssecretaris Van der Ploeg|Mevrouw Halsema GroenLinks|Mevrouw Van Zuijlen PvdA|Mevrouw Halsema GroenLinks|Staatssecretaris Van der Ploeg|Mevrouw Halsema GroenLinks|Staatssecretaris Van der Ploeg|Mevrouw Halsema GroenLinks|Staatssecretaris Van der Ploeg|Mevrouw Halsema GroenLinks|Staatssecretaris Van der Ploeg|De heer Van Bommel SP|Staatssecretaris Van der Ploeg|De heer Van Bommel SP|Staatssecretaris Van der Ploeg|Mevrouw Halsema GroenLinks|Staatssecretaris Van der Ploeg|De heer Van Bommel SP|Staatssecretaris Van der Ploeg|De heer Van Bommel SP|Staatssecretaris Van der Ploeg|De heer Atsma CDA|Staatssecretaris Van der Ploeg|De heer Van Bommel SP|De heer Van Bommel SP|De heer Van Bommel SP|Staatssecretaris Van der Ploeg|De heer Van Bommel SP|Staatssecretaris Van der Ploeg|De heer Stellingwerf RPF|Staatssecretaris Van der Ploeg|De heer Stellingwerf RPF|Staatssecretaris Van der Ploeg|De heer Van Bommel SP|Staatssecretaris Van der Ploeg|De heer Van Bommel SP|Staatssecretaris Van der Ploeg|Staatssecretaris Van der Ploeg|De heer Van Bommel SP|Staatssecretaris Van der Ploeg|De heer Van Bommel SP|Staatssecretaris Van der Ploeg|De heer Van Bommel SP|Staatssecretaris Van der Ploeg|De heer Stellingwerf RPF|Staatssecretaris Van der Ploeg|De heer Stellingwerf RPF|Staatssecretaris Van der Ploeg|De heer Stellingwerf RPF|Staatssecretaris Van der Ploeg|Staatssecretaris Van der Ploeg|Staatssecretaris Van der Ploeg|De heer Stellingwerf RPF|Staatssecretaris Van der Ploeg|De heer Stellingwerf RPF|Staatssecretaris Van der Ploeg|De heer Stellingwerf RPF|Staatssecretaris Van der Ploeg|De heer Bakker D66|Staatssecretaris Van der Ploeg|De heer Stellingwerf RPF|Staatssecretaris Van der Ploeg|Mevrouw Van Zuijlen PvdA|Staatssecretaris Van der Ploeg|De heer Stellingwerf RPF|Staatssecretaris Van der Ploeg|De heer Bakker D66|Staatssecretaris Van der Ploeg|De heer Bakker D66|Staatssecretaris Van der Ploeg|De heer Bakker D66|Staatssecretaris Van der Ploeg|De heer Bakker D66|Staatssecretaris Van der Ploeg|De heer Atsma CDA|Staatssecretaris Van der Ploeg|Mevrouw Halsema GroenLinks|Staatssecretaris Van der Ploeg|De heer Atsma CDA|Staatssecretaris Van der Ploeg|De heer Atsma CDA|Staatssecretaris Van der Ploeg|De heer Atsma CDA|Staatssecretaris Van der Ploeg|De heer Atsma CDA|Staatssecretaris Van der Ploeg|De heer Atsma CDA|Staatssecretaris Van der Ploeg|De heer Atsma CDA|Staatssecretaris Van der Ploeg|De heer Atsma CDA|Staatssecretaris Van der Ploeg|De heer Atsma CDA|Staatssecretaris Van der Ploeg|De heer Atsma CDA|Staatssecretaris Van der Ploeg|De heer Atsma CDA|Staatssecretaris Van der Ploeg|De heer Atsma CDA|Staatssecretaris Van der Ploeg|De heer Atsma CDA|Staatssecretaris Van der Ploeg|De heer Atsma CDA|De heer Bakker D66|Staatssecretaris Van der Ploeg|De heer Atsma CDA|Staatssecretaris Van der Ploeg|De heer Nicolaï VVD|Staatssecretaris Van der Ploeg|De heer Nicolaï VVD|Staatssecretaris Van der Ploeg|De heer Nicolaï VVD|Staatssecretaris Van der Ploeg|De heer Nicolaï VVD|Staatssecretaris Van der Ploeg|Mevrouw Halsema GroenLinks|Staatssecretaris Van der Ploeg|De heer Bakker D66|Staatssecretaris Van der Ploeg|De heer Stellingwerf RPF|Staatssecretaris Van der Ploeg|De heer Nicolaï VVD|Staatssecretaris Van der Ploeg|De heer Nicolaï VVD|Staatssecretaris Van der Ploeg', 'title': 'handelingen', 'year': '2000', 'passage': 'polen in het bestel wat ons betreft. Zoals ik eerder betoogde, leidt dat logischerwijs tot opheffing van de netbesturen. Mevrouw Halsema heeft dit in een amendement neergelegd. Dit is een halfjaar geleden al in een algemeen overleg aan de orde geweest. Zowel D66, de PvdA als de VVD hebben er toen voor', 'highlighting': '93_100'}, Highlighting(start=100, end=106))\n"
     ]
    }
   ],
   "source": [
    "for p in sg_corpus.passages[:20]:\n",
    "    print(len(p), p)"
   ]
  },
  {
   "cell_type": "markdown",
   "metadata": {},
   "source": [
    "## TEST: Retrieve Records from Database"
   ]
  },
  {
   "cell_type": "code",
   "execution_count": 34,
   "metadata": {},
   "outputs": [
    {
     "name": "stdout",
     "output_type": "stream",
     "text": [
      "Passage('vrouw, maar ook om die van * 5. duurzaam samenwonende of samenlevende mensen. De heffing van a. loon- en inkomstenbelasting zal in de toekomst moeten plaats7- . vinden op basis van individuele personen, zij het met enige 8. beperkingen. Premier Van Agt heeft dit meegedeeld op zijn 9. wekelijkse persconferentie.', {'year': '1979', 'date': '09-28-1979', 'highlighting': '81_88', 'day': '28', 'month': '9', 'filename': 'anp_1979_09_28_162_ocr.xml', 'issue': '162'}, Highlighting(start=81, end=88))\n",
      "Passage('hebben-  de doelmatigheid doen blijken van een politiek die tegelijk vrede en onafhankelijkheid nastreeft. NEDERLAND, zei Uwe Majesteit, wil zichzelf blijven. Heerlijke en fiere leus, die NEDERLAND allang heeft toegepast en die toeliet- , dat het ongedeerd de tragische krisissen kon ontwijken, die zijne naburen geteisterd hebben. De toenadering van kleine staten verruimt de sfeer van hun actie en van hun gezag. Een solidaire houding kan den oorlog-  buiten onze grenzen weeren. Maar, en Uwe Majesteit heeft het op een verheven plan toegelicht: de vrede om duurzaam te zijn, moet op den grondslag van moreele en geestelijke bewapening worden opgebouwd. In dienst van dit edel ideaal, hoop ik, dat de toenadering en de samenwerking-  van onze beide nation zich zullen ontwikkelen, en toenemen in hechtheid-  en în kracht. Terwijl ik mijn beker hef, wensch ik Uwe Majesteit, en Prinses JULIANA, en Prins BERNHARD, en mijn geliefde Petekind Prinses BEATRIX, uit gansoher harte, geluk en goede gezondheid', {'year': '1938', 'date': '11-21-1938', 'highlighting': '560_568', 'day': '21', 'month': '11', 'filename': 'anp_1938_11_21_4_ocr.xml', 'issue': '4'}, Highlighting(start=560, end=568))\n",
      "Passage('geladen is dan een jaar geleden. Hoewel de last der bezorgdheid zwaar blijft drukken-  en men geen duurzaam vertrouwen kan hebben, voor een internationaal lichaam belast is met de arbitrage van onze geschillen, heb ik, aldus EDEN, groote hoop, dat over een jaar de Europeesche Volken hun twisten zullen hebben bijgelegd en dat de vrede gehandhaafd zal blijven* Over het inbeslag nemen van het Britsche Stoomschip MOLTON deelde EDEN mede, dat de britsche ambassadeur te HENDAYE instructie heeft ontvangen de invrijheidstelling te eischen van schip en opvarenden, terwijl hij tevens zal verklaren, dat de britsche regeering de autoriteiten van de regeering van Franco verantwoordelijk moet stellen voor schade, die het schip kan hebben opgeloopen.', {'year': '1937', 'date': '07-19-1937', 'highlighting': '99_107', 'day': '19', 'month': '07', 'filename': 'anp_1937_07_19_2_ocr.xml', 'issue': '2'}, Highlighting(start=99, end=107))\n",
      "Passage('succesvolle samen- \\'ing in dezen zin xbxox; chynt te waarborgen, waxKXBE Cok de laatste economische overeenkomsi van xx 27 Januari.\\' dragen. Breedvoerig werden de urgente vraagstukken van het //alerzyósche cultureele verkeer besproken. Een met de verzorging van de cultureele betrekkingen belaste commissie is thaps aangewezen en zul reeds 25 dezer haar werkzaamheden aanvangen. Tenslotte wordt in het communique-  vastgesteld, dat volledige overeenstemming kon worden\\' ereikt ten aanzien van re ruitenlandsche politiek van beide regcciingen, .vatraan de bedoeling ten grondslag Ligt den algemeenen vrede te handhaven en duurzaam te verzekeren. -De commentaren, die 3h Ie buitenlandsche pers op net bezoek van von Neurath aan Weenen vnimenen zyn, hebben de redactie v^n de Italiaanahe krant, de\" Tribuna\" een hoofdartikel in Ie pen gegeven, v/aarin vooral stelling wordt genomen tegen ziH zekere icruchten omtrent von leurath\\' s houding op het stuk vaneen xtORexpice eventu- e Je restauratie van de O^stenryksche', {'year': '1937', 'date': '02-23-1937', 'highlighting': '621_629', 'day': '23', 'month': '02', 'filename': 'anp_1937_02_23_6_ocr.xml', 'issue': '6'}, Highlighting(start=621, end=629))\n",
      "Passage('gefaald hebben, is te middernacht-  in AUSTRALIE de algemeene staking in de kolenmijnen begonnen Net uitzondering van de mijnwerkers in West-Australië zijn alle arbeiders van de australische steenkoolmijnen bij dit conflict betrokken.  y-  ^  De Tsjecho-Slowaaksche regeering heeft in e m uitvoerig communique de door haar gedane voorstellen ontleed en nadere bijzonderheden gegeven ten aanzien-  van de negen punten. In dit communique wordt gezegd, dat de regeering zich bij de opstelling der voorstellen voor oogen heeft gehouden, dat het noodzakelijk is de belangrijkste vraagstukken onmldellijk op te lossen, opdat een duurzaam accoord betreffende het nationaliteiten vraagstuk verkregen-  kan worden. Alle andere problemen zullen nader besproken worden. Er zal steeds voor gewaakt worden, dat de souvereiniteit, de onschendbaarheid enyfde eenheid van den staat behouden blijvén. Ten aanzien van het ambtenaren vraagstuk heeft men het beginsel toegepast, dat alle nationaliteiten het recht hebben', {'year': '1938', 'date': '09-09-1938', 'highlighting': '623_631', 'day': '9', 'month': '9', 'filename': 'anp_1938_09_09_4_ocr.xml', 'issue': '4'}, Highlighting(start=623, end=631))\n",
      "Passage('atmosfeer minder geladen i^**y is dan een jaar geleden. Hoewel de last der bezorgdheid zwaar blijft drük- ^hen en men geen duurzaam vertrouwen kan hehben, voor een internationaal lichaam belast is met de arbitrage van onze geschlllen, heb ik, aldus EDEN, groote hoop, dat over een jaar de Europeesche Volken hun twisten zullen hebben bijgelegd en dat de vrede gehandhaafd zal blijven. ^ Over het inbeslag nemen van het Britsche Stoomschip MOLTON deelde EDEN <X^ mede, dat de britsche ambassadeur te HENDAYE instructie heeft ontvangen de invrijheidstelling te eischen van schip en opvarenden, terwijl hij tevens zal verklaren, dat de britsche regeering de autoriteiten van de regeering van Franco verantwoordelijk moet stellen voor schade, die het schip kan hebben opgeloopen.  J', {'year': '1937', 'date': '07-18-1937', 'highlighting': '123_131', 'day': '18', 'month': '07', 'filename': 'anp_1937_07_18_14_ocr.xml', 'issue': '14'}, Highlighting(start=123, end=131))\n",
      "Passage('het Clean Development Mechanism. Een duurzaam mondiaal klimaat is inderdaad een van de meest in het oog springende public goods. Om het broeikaseffect tegen te gaan, moet je absoluut multilateraal samenwerken. Daar hangt een prijskaartje aan, maar moet je dat prijskaartje neerleggen bij de traditionele', {'pages': None, 'year': '2000', 'date': '2000-03-28', 'speakers': 'Minister Van Aartsen|Minister Van Aartsen|De heer Hirsch Ballin CDA|Minister Van Aartsen|De heer Hirsch Ballin CDA|Minister Van Aartsen|Minister Van Aartsen|Minister Van Aartsen|Mevrouw Roscam Abbing-Bos VVD|Minister Van Aartsen|Minister Herfkens|Minister Herfkens|De heer Van Gennip CDA|Minister Herfkens|Mevrouw Lycklama à Nijeholt PvdA|Minister Herfkens|De heer Van Gennip CDA|Minister Herfkens|De heer Van Gennip CDA|Minister Herfkens|Minister Herfkens|Minister Herfkens|De heer Van Gennip CDA|Minister Herfkens|Mevrouw Zwerver GroenLinks|Minister Herfkens|Mevrouw Lycklama à Nijeholt PvdA|Minister Herfkens|Mevrouw Roscam Abbing-Bos VVD|Minister Herfkens|Staatssecretaris Benschop|De heer Van Thijn PvdA', 'description': None, 'highlighting': '136_150', 'chamber': 'EersteKamer', 'type': None, 'leg_period': None, 'title': 'handelingen', 'ocr_link': None, 'recId': 'h-ek-19992000-980-999'}, Highlighting(start=136, end=150))\n",
      "Passage(\"het er in principe over eens zijn dat het een mooie richting is om de consument meer vrijheid te geven. Je maakt echter machtsposities. De vraag is of je met zo'n wet die machtsposities zoveel mogelijk kunt indammen. Een ander punt dat ik wil aansnijden, betreft het duurzaam gas, het besparen en de milieueffecten.\", {'pages': None, 'description': None, 'chamber': 'EersteKamer', 'speakers': 'De heer Hofstede CDA|Mevrouw Bierman-Beukema toe Water VVD|De heer Hofstede CDA|Mevrouw Bierman-Beukema toe Water VVD|De heer Pitstra GroenLinks|De heer Terlouw D66|De heer Pitstra GroenLinks|De heer Terlouw D66|De heer Hofstede CDA|De heer Terlouw D66|De heer Hofstede CDA|De heer Terlouw D66|De heer Van den Berg SGP|De heer Doesburg PvdA|Minister Jorritsma-Lebbink|De heer Pitstra GroenLinks|Minister Jorritsma-Lebbink|De heer Pitstra GroenLinks|Minister Jorritsma-Lebbink|De heer Pitstra GroenLinks|Minister Jorritsma-Lebbink|De heer Hofstede CDA|Minister Jorritsma-Lebbink|De heer Hofstede CDA|Minister Jorritsma-Lebbink|De heer Hofstede CDA|Minister Jorritsma-Lebbink|De heer Hofstede CDA|De heer Hofstede CDA|Minister Jorritsma-Lebbink|De heer Hofstede CDA|Minister Jorritsma-Lebbink|Minister Jorritsma-Lebbink|Minister Jorritsma-Lebbink|De heer Hofstede CDA|Minister Jorritsma-Lebbink|De heer Hofstede CDA|Minister Jorritsma-Lebbink|De heer Hofstede CDA|Minister Jorritsma-Lebbink|Mevrouw Bierman-Beukema toe Water VVD|Minister Jorritsma-Lebbink|Mevrouw Bierman-Beukema toe Water VVD|Minister Jorritsma-Lebbink|De heer Hofstede CDA|Mevrouw Bierman-Beukema toe Water VVD|De heer Pitstra GroenLinks|Minister Jorritsma-Lebbink|De heer Pitstra GroenLinks|De heer Terlouw D66|De heer Van den Berg SGP|De heer Doesburg PvdA|Minister Jorritsma-Lebbink|De heer Hofstede CDA|Minister Jorritsma-Lebbink|De heer Hofstede CDA|Minister Jorritsma-Lebbink|De heer Hofstede CDA|Minister Jorritsma-Lebbink|De heer Pitstra GroenLinks|Minister Jorritsma-Lebbink|De heer Pitstra GroenLinks|Minister Jorritsma-Lebbink|De heer Terlouw D66|Minister Jorritsma-Lebbink|De heer Terlouw D66|Minister Jorritsma-Lebbink|De heer Terlouw D66|Minister Jorritsma-Lebbink', 'year': '2000', 'highlighting': '300_314', 'type': None, 'date': '2000-06-20', 'title': 'handelingen', 'leg_period': None, 'ocr_link': None, 'recId': 'h-ek-19992000-1473-1510'}, Highlighting(start=300, end=314))\n",
      "Passage(\"het er in principe over eens zijn dat het een mooie richting is om de consument meer vrijheid te geven. Je maakt echter machtsposities. De vraag is of je met zo'n wet die machtsposities zoveel mogelijk kunt indammen. Een ander punt dat ik wil aansnijden, betreft het duurzaam gas, het besparen en de milieueffecten.\", {'pages': None, 'description': None, 'type': None, 'speakers': 'De heer Hofstede CDA|Mevrouw Bierman-Beukema toe Water VVD|De heer Hofstede CDA|Mevrouw Bierman-Beukema toe Water VVD|De heer Pitstra GroenLinks|De heer Terlouw D66|De heer Pitstra GroenLinks|De heer Terlouw D66|De heer Hofstede CDA|De heer Terlouw D66|De heer Hofstede CDA|De heer Terlouw D66|De heer Van den Berg SGP|De heer Doesburg PvdA|Minister Jorritsma-Lebbink|De heer Pitstra GroenLinks|Minister Jorritsma-Lebbink|De heer Pitstra GroenLinks|Minister Jorritsma-Lebbink|De heer Pitstra GroenLinks|Minister Jorritsma-Lebbink|De heer Hofstede CDA|Minister Jorritsma-Lebbink|De heer Hofstede CDA|Minister Jorritsma-Lebbink|De heer Hofstede CDA|Minister Jorritsma-Lebbink|De heer Hofstede CDA|De heer Hofstede CDA|Minister Jorritsma-Lebbink|De heer Hofstede CDA|Minister Jorritsma-Lebbink|Minister Jorritsma-Lebbink|Minister Jorritsma-Lebbink|De heer Hofstede CDA|Minister Jorritsma-Lebbink|De heer Hofstede CDA|Minister Jorritsma-Lebbink|De heer Hofstede CDA|Minister Jorritsma-Lebbink|Mevrouw Bierman-Beukema toe Water VVD|Minister Jorritsma-Lebbink|Mevrouw Bierman-Beukema toe Water VVD|Minister Jorritsma-Lebbink|De heer Hofstede CDA|Mevrouw Bierman-Beukema toe Water VVD|De heer Pitstra GroenLinks|Minister Jorritsma-Lebbink|De heer Pitstra GroenLinks|De heer Terlouw D66|De heer Van den Berg SGP|De heer Doesburg PvdA|Minister Jorritsma-Lebbink|De heer Hofstede CDA|Minister Jorritsma-Lebbink|De heer Hofstede CDA|Minister Jorritsma-Lebbink|De heer Hofstede CDA|Minister Jorritsma-Lebbink|De heer Pitstra GroenLinks|Minister Jorritsma-Lebbink|De heer Pitstra GroenLinks|Minister Jorritsma-Lebbink|De heer Terlouw D66|Minister Jorritsma-Lebbink|De heer Terlouw D66|Minister Jorritsma-Lebbink|De heer Terlouw D66|Minister Jorritsma-Lebbink', 'date': '2000-06-20', 'highlighting': '300_314', 'chamber': 'EersteKamer', 'year': '2000', 'leg_period': None, 'title': 'handelingen', 'ocr_link': None, 'recId': 'h-ek-19992000-1473-1510'}, Highlighting(start=300, end=314))\n",
      "Passage(\"het er in principe over eens zijn dat het een mooie richting is om de consument meer vrijheid te geven. Je maakt echter machtsposities. De vraag is of je met zo'n wet die machtsposities zoveel mogelijk kunt indammen. Een ander punt dat ik wil aansnijden, betreft het duurzaam gas, het besparen en de milieueffecten.\", {'pages': None, 'year': '2000', 'highlighting': '300_314', 'speakers': 'De heer Hofstede CDA|Mevrouw Bierman-Beukema toe Water VVD|De heer Hofstede CDA|Mevrouw Bierman-Beukema toe Water VVD|De heer Pitstra GroenLinks|De heer Terlouw D66|De heer Pitstra GroenLinks|De heer Terlouw D66|De heer Hofstede CDA|De heer Terlouw D66|De heer Hofstede CDA|De heer Terlouw D66|De heer Van den Berg SGP|De heer Doesburg PvdA|Minister Jorritsma-Lebbink|De heer Pitstra GroenLinks|Minister Jorritsma-Lebbink|De heer Pitstra GroenLinks|Minister Jorritsma-Lebbink|De heer Pitstra GroenLinks|Minister Jorritsma-Lebbink|De heer Hofstede CDA|Minister Jorritsma-Lebbink|De heer Hofstede CDA|Minister Jorritsma-Lebbink|De heer Hofstede CDA|Minister Jorritsma-Lebbink|De heer Hofstede CDA|De heer Hofstede CDA|Minister Jorritsma-Lebbink|De heer Hofstede CDA|Minister Jorritsma-Lebbink|Minister Jorritsma-Lebbink|Minister Jorritsma-Lebbink|De heer Hofstede CDA|Minister Jorritsma-Lebbink|De heer Hofstede CDA|Minister Jorritsma-Lebbink|De heer Hofstede CDA|Minister Jorritsma-Lebbink|Mevrouw Bierman-Beukema toe Water VVD|Minister Jorritsma-Lebbink|Mevrouw Bierman-Beukema toe Water VVD|Minister Jorritsma-Lebbink|De heer Hofstede CDA|Mevrouw Bierman-Beukema toe Water VVD|De heer Pitstra GroenLinks|Minister Jorritsma-Lebbink|De heer Pitstra GroenLinks|De heer Terlouw D66|De heer Van den Berg SGP|De heer Doesburg PvdA|Minister Jorritsma-Lebbink|De heer Hofstede CDA|Minister Jorritsma-Lebbink|De heer Hofstede CDA|Minister Jorritsma-Lebbink|De heer Hofstede CDA|Minister Jorritsma-Lebbink|De heer Pitstra GroenLinks|Minister Jorritsma-Lebbink|De heer Pitstra GroenLinks|Minister Jorritsma-Lebbink|De heer Terlouw D66|Minister Jorritsma-Lebbink|De heer Terlouw D66|Minister Jorritsma-Lebbink|De heer Terlouw D66|Minister Jorritsma-Lebbink', 'chamber': 'EersteKamer', 'type': None, 'date': '2000-06-20', 'description': None, 'leg_period': None, 'title': 'handelingen', 'recId': 'h-ek-19992000-1473-1510', 'ocr_link': None}, Highlighting(start=300, end=314))\n"
     ]
    }
   ],
   "source": [
    "filter_words = [\"duurzaam\"]\n",
    "collections = [\"ANP\", \"StatenGeneraal\"]\n",
    "\n",
    "corpus_mini = sum(\n",
    "    (\n",
    "        db.get_corpus(collection, filter_words=filter_words)\n",
    "        for collection in collections\n",
    "    ),\n",
    "    start=Corpus(),\n",
    ")\n",
    "print(*corpus_mini.passages[:10], sep=\"\\n\")"
   ]
  }
 ],
 "metadata": {
  "kernelspec": {
   "display_name": ".venv",
   "language": "python",
   "name": "python3"
  },
  "language_info": {
   "codemirror_mode": {
    "name": "ipython",
    "version": 3
   },
   "file_extension": ".py",
   "mimetype": "text/x-python",
   "name": "python",
   "nbconvert_exporter": "python",
   "pygments_lexer": "ipython3",
   "version": "3.11.2"
  },
  "orig_nbformat": 4
 },
 "nbformat": 4,
 "nbformat_minor": 2
}
