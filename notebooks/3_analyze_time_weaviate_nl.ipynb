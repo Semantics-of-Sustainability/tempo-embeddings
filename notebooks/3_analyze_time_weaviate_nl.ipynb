{
 "cells": [
  {
   "cell_type": "markdown",
   "metadata": {},
   "source": [
    "## Load Packages"
   ]
  },
  {
   "cell_type": "code",
   "execution_count": 1,
   "metadata": {},
   "outputs": [
    {
     "name": "stdout",
     "output_type": "stream",
     "text": [
      "Processing /Users/jose/Repos/tempo-embeddings\n",
      "  Installing build dependencies ... \u001b[?25ldone\n",
      "\u001b[?25h  Getting requirements to build wheel ... \u001b[?25ldone\n",
      "\u001b[?25h  Preparing metadata (pyproject.toml) ... \u001b[?25ldone\n",
      "\u001b[?25hRequirement already satisfied: accelerate~=0.22.0 in /Users/jose/Repos/tempo-embeddings/.venv/lib/python3.9/site-packages (from tempo_embeddings==0.0.1) (0.22.0)\n",
      "Requirement already satisfied: seaborn~=0.13.0 in /Users/jose/Repos/tempo-embeddings/.venv/lib/python3.9/site-packages (from tempo_embeddings==0.0.1) (0.13.1)\n",
      "Requirement already satisfied: transformers~=4.32.1 in /Users/jose/Repos/tempo-embeddings/.venv/lib/python3.9/site-packages (from tempo_embeddings==0.0.1) (4.32.1)\n",
      "Requirement already satisfied: torch~=2.0.1 in /Users/jose/Repos/tempo-embeddings/.venv/lib/python3.9/site-packages (from tempo_embeddings==0.0.1) (2.0.1)\n",
      "Requirement already satisfied: torchvision>=0.15.2 in /Users/jose/Repos/tempo-embeddings/.venv/lib/python3.9/site-packages (from tempo_embeddings==0.0.1) (0.15.2)\n",
      "Requirement already satisfied: torchaudio>=2.0.2 in /Users/jose/Repos/tempo-embeddings/.venv/lib/python3.9/site-packages (from tempo_embeddings==0.0.1) (2.0.2)\n",
      "Requirement already satisfied: umap-learn~=0.5.4 in /Users/jose/Repos/tempo-embeddings/.venv/lib/python3.9/site-packages (from tempo_embeddings==0.0.1) (0.5.5)\n",
      "Requirement already satisfied: wizmap~=0.1.2 in /Users/jose/Repos/tempo-embeddings/.venv/lib/python3.9/site-packages (from tempo_embeddings==0.0.1) (0.1.2)\n",
      "Requirement already satisfied: matplotlib~=3.7.2 in /Users/jose/Repos/tempo-embeddings/.venv/lib/python3.9/site-packages (from tempo_embeddings==0.0.1) (3.7.4)\n",
      "Requirement already satisfied: sacremoses~=0.0.53 in /Users/jose/Repos/tempo-embeddings/.venv/lib/python3.9/site-packages (from tempo_embeddings==0.0.1) (0.0.53)\n",
      "Requirement already satisfied: scikit-learn~=1.3.0 in /Users/jose/Repos/tempo-embeddings/.venv/lib/python3.9/site-packages (from tempo_embeddings==0.0.1) (1.3.2)\n",
      "Requirement already satisfied: pandas in /Users/jose/Repos/tempo-embeddings/.venv/lib/python3.9/site-packages (from tempo_embeddings==0.0.1) (2.2.0)\n",
      "Requirement already satisfied: datashader in /Users/jose/Repos/tempo-embeddings/.venv/lib/python3.9/site-packages (from tempo_embeddings==0.0.1) (0.16.0)\n",
      "Requirement already satisfied: bokeh~=3.3.2 in /Users/jose/Repos/tempo-embeddings/.venv/lib/python3.9/site-packages (from tempo_embeddings==0.0.1) (3.3.3)\n",
      "Requirement already satisfied: holoviews in /Users/jose/Repos/tempo-embeddings/.venv/lib/python3.9/site-packages (from tempo_embeddings==0.0.1) (1.18.1)\n",
      "Requirement already satisfied: dash~=2.11.1 in /Users/jose/Repos/tempo-embeddings/.venv/lib/python3.9/site-packages (from tempo_embeddings==0.0.1) (2.11.1)\n",
      "Requirement already satisfied: chromadb~=0.4.22 in /Users/jose/Repos/tempo-embeddings/.venv/lib/python3.9/site-packages (from tempo_embeddings==0.0.1) (0.4.22)\n",
      "Requirement already satisfied: numpy>=1.17 in /Users/jose/Repos/tempo-embeddings/.venv/lib/python3.9/site-packages (from accelerate~=0.22.0->tempo_embeddings==0.0.1) (1.26.3)\n",
      "Requirement already satisfied: packaging>=20.0 in /Users/jose/Repos/tempo-embeddings/.venv/lib/python3.9/site-packages (from accelerate~=0.22.0->tempo_embeddings==0.0.1) (23.2)\n",
      "Requirement already satisfied: psutil in /Users/jose/Repos/tempo-embeddings/.venv/lib/python3.9/site-packages (from accelerate~=0.22.0->tempo_embeddings==0.0.1) (5.9.8)\n",
      "Requirement already satisfied: pyyaml in /Users/jose/Repos/tempo-embeddings/.venv/lib/python3.9/site-packages (from accelerate~=0.22.0->tempo_embeddings==0.0.1) (6.0.1)\n",
      "Requirement already satisfied: Jinja2>=2.9 in /Users/jose/Repos/tempo-embeddings/.venv/lib/python3.9/site-packages (from bokeh~=3.3.2->tempo_embeddings==0.0.1) (3.1.3)\n",
      "Requirement already satisfied: contourpy>=1 in /Users/jose/Repos/tempo-embeddings/.venv/lib/python3.9/site-packages (from bokeh~=3.3.2->tempo_embeddings==0.0.1) (1.2.0)\n",
      "Requirement already satisfied: pillow>=7.1.0 in /Users/jose/Repos/tempo-embeddings/.venv/lib/python3.9/site-packages (from bokeh~=3.3.2->tempo_embeddings==0.0.1) (10.2.0)\n",
      "Requirement already satisfied: tornado>=5.1 in /Users/jose/Repos/tempo-embeddings/.venv/lib/python3.9/site-packages (from bokeh~=3.3.2->tempo_embeddings==0.0.1) (6.4)\n",
      "Requirement already satisfied: xyzservices>=2021.09.1 in /Users/jose/Repos/tempo-embeddings/.venv/lib/python3.9/site-packages (from bokeh~=3.3.2->tempo_embeddings==0.0.1) (2023.10.1)\n",
      "Requirement already satisfied: build>=1.0.3 in /Users/jose/Repos/tempo-embeddings/.venv/lib/python3.9/site-packages (from chromadb~=0.4.22->tempo_embeddings==0.0.1) (1.0.3)\n",
      "Requirement already satisfied: requests>=2.28 in /Users/jose/Repos/tempo-embeddings/.venv/lib/python3.9/site-packages (from chromadb~=0.4.22->tempo_embeddings==0.0.1) (2.31.0)\n",
      "Requirement already satisfied: pydantic>=1.9 in /Users/jose/Repos/tempo-embeddings/.venv/lib/python3.9/site-packages (from chromadb~=0.4.22->tempo_embeddings==0.0.1) (2.5.3)\n",
      "Requirement already satisfied: chroma-hnswlib==0.7.3 in /Users/jose/Repos/tempo-embeddings/.venv/lib/python3.9/site-packages (from chromadb~=0.4.22->tempo_embeddings==0.0.1) (0.7.3)\n",
      "Requirement already satisfied: fastapi>=0.95.2 in /Users/jose/Repos/tempo-embeddings/.venv/lib/python3.9/site-packages (from chromadb~=0.4.22->tempo_embeddings==0.0.1) (0.109.0)\n",
      "Requirement already satisfied: uvicorn>=0.18.3 in /Users/jose/Repos/tempo-embeddings/.venv/lib/python3.9/site-packages (from uvicorn[standard]>=0.18.3->chromadb~=0.4.22->tempo_embeddings==0.0.1) (0.26.0)\n",
      "Requirement already satisfied: posthog>=2.4.0 in /Users/jose/Repos/tempo-embeddings/.venv/lib/python3.9/site-packages (from chromadb~=0.4.22->tempo_embeddings==0.0.1) (3.3.2)\n",
      "Requirement already satisfied: typing-extensions>=4.5.0 in /Users/jose/Repos/tempo-embeddings/.venv/lib/python3.9/site-packages (from chromadb~=0.4.22->tempo_embeddings==0.0.1) (4.9.0)\n",
      "Requirement already satisfied: pulsar-client>=3.1.0 in /Users/jose/Repos/tempo-embeddings/.venv/lib/python3.9/site-packages (from chromadb~=0.4.22->tempo_embeddings==0.0.1) (3.4.0)\n",
      "Requirement already satisfied: onnxruntime>=1.14.1 in /Users/jose/Repos/tempo-embeddings/.venv/lib/python3.9/site-packages (from chromadb~=0.4.22->tempo_embeddings==0.0.1) (1.16.3)\n",
      "Requirement already satisfied: opentelemetry-api>=1.2.0 in /Users/jose/Repos/tempo-embeddings/.venv/lib/python3.9/site-packages (from chromadb~=0.4.22->tempo_embeddings==0.0.1) (1.22.0)\n",
      "Requirement already satisfied: opentelemetry-exporter-otlp-proto-grpc>=1.2.0 in /Users/jose/Repos/tempo-embeddings/.venv/lib/python3.9/site-packages (from chromadb~=0.4.22->tempo_embeddings==0.0.1) (1.22.0)\n",
      "Requirement already satisfied: opentelemetry-instrumentation-fastapi>=0.41b0 in /Users/jose/Repos/tempo-embeddings/.venv/lib/python3.9/site-packages (from chromadb~=0.4.22->tempo_embeddings==0.0.1) (0.43b0)\n",
      "Requirement already satisfied: opentelemetry-sdk>=1.2.0 in /Users/jose/Repos/tempo-embeddings/.venv/lib/python3.9/site-packages (from chromadb~=0.4.22->tempo_embeddings==0.0.1) (1.22.0)\n",
      "Requirement already satisfied: tokenizers>=0.13.2 in /Users/jose/Repos/tempo-embeddings/.venv/lib/python3.9/site-packages (from chromadb~=0.4.22->tempo_embeddings==0.0.1) (0.13.3)\n",
      "Requirement already satisfied: pypika>=0.48.9 in /Users/jose/Repos/tempo-embeddings/.venv/lib/python3.9/site-packages (from chromadb~=0.4.22->tempo_embeddings==0.0.1) (0.48.9)\n",
      "Requirement already satisfied: tqdm>=4.65.0 in /Users/jose/Repos/tempo-embeddings/.venv/lib/python3.9/site-packages (from chromadb~=0.4.22->tempo_embeddings==0.0.1) (4.66.1)\n",
      "Requirement already satisfied: overrides>=7.3.1 in /Users/jose/Repos/tempo-embeddings/.venv/lib/python3.9/site-packages (from chromadb~=0.4.22->tempo_embeddings==0.0.1) (7.6.0)\n",
      "Requirement already satisfied: importlib-resources in /Users/jose/Repos/tempo-embeddings/.venv/lib/python3.9/site-packages (from chromadb~=0.4.22->tempo_embeddings==0.0.1) (6.1.1)\n",
      "Requirement already satisfied: grpcio>=1.58.0 in /Users/jose/Repos/tempo-embeddings/.venv/lib/python3.9/site-packages (from chromadb~=0.4.22->tempo_embeddings==0.0.1) (1.63.0)\n",
      "Requirement already satisfied: bcrypt>=4.0.1 in /Users/jose/Repos/tempo-embeddings/.venv/lib/python3.9/site-packages (from chromadb~=0.4.22->tempo_embeddings==0.0.1) (4.1.2)\n",
      "Requirement already satisfied: typer>=0.9.0 in /Users/jose/Repos/tempo-embeddings/.venv/lib/python3.9/site-packages (from chromadb~=0.4.22->tempo_embeddings==0.0.1) (0.9.0)\n",
      "Requirement already satisfied: kubernetes>=28.1.0 in /Users/jose/Repos/tempo-embeddings/.venv/lib/python3.9/site-packages (from chromadb~=0.4.22->tempo_embeddings==0.0.1) (29.0.0)\n",
      "Requirement already satisfied: tenacity>=8.2.3 in /Users/jose/Repos/tempo-embeddings/.venv/lib/python3.9/site-packages (from chromadb~=0.4.22->tempo_embeddings==0.0.1) (8.2.3)\n",
      "Requirement already satisfied: mmh3>=4.0.1 in /Users/jose/Repos/tempo-embeddings/.venv/lib/python3.9/site-packages (from chromadb~=0.4.22->tempo_embeddings==0.0.1) (4.1.0)\n",
      "Requirement already satisfied: Flask<2.3.0,>=1.0.4 in /Users/jose/Repos/tempo-embeddings/.venv/lib/python3.9/site-packages (from dash~=2.11.1->tempo_embeddings==0.0.1) (2.2.5)\n",
      "Requirement already satisfied: Werkzeug<2.3.0 in /Users/jose/Repos/tempo-embeddings/.venv/lib/python3.9/site-packages (from dash~=2.11.1->tempo_embeddings==0.0.1) (2.2.3)\n",
      "Requirement already satisfied: plotly>=5.0.0 in /Users/jose/Repos/tempo-embeddings/.venv/lib/python3.9/site-packages (from dash~=2.11.1->tempo_embeddings==0.0.1) (5.18.0)\n",
      "Requirement already satisfied: dash-html-components==2.0.0 in /Users/jose/Repos/tempo-embeddings/.venv/lib/python3.9/site-packages (from dash~=2.11.1->tempo_embeddings==0.0.1) (2.0.0)\n",
      "Requirement already satisfied: dash-core-components==2.0.0 in /Users/jose/Repos/tempo-embeddings/.venv/lib/python3.9/site-packages (from dash~=2.11.1->tempo_embeddings==0.0.1) (2.0.0)\n",
      "Requirement already satisfied: dash-table==5.0.0 in /Users/jose/Repos/tempo-embeddings/.venv/lib/python3.9/site-packages (from dash~=2.11.1->tempo_embeddings==0.0.1) (5.0.0)\n",
      "Requirement already satisfied: retrying in /Users/jose/Repos/tempo-embeddings/.venv/lib/python3.9/site-packages (from dash~=2.11.1->tempo_embeddings==0.0.1) (1.3.4)\n",
      "Requirement already satisfied: ansi2html in /Users/jose/Repos/tempo-embeddings/.venv/lib/python3.9/site-packages (from dash~=2.11.1->tempo_embeddings==0.0.1) (1.9.1)\n",
      "Requirement already satisfied: nest-asyncio in /Users/jose/Repos/tempo-embeddings/.venv/lib/python3.9/site-packages (from dash~=2.11.1->tempo_embeddings==0.0.1) (1.6.0)\n",
      "Requirement already satisfied: cycler>=0.10 in /Users/jose/Repos/tempo-embeddings/.venv/lib/python3.9/site-packages (from matplotlib~=3.7.2->tempo_embeddings==0.0.1) (0.12.1)\n",
      "Requirement already satisfied: fonttools>=4.22.0 in /Users/jose/Repos/tempo-embeddings/.venv/lib/python3.9/site-packages (from matplotlib~=3.7.2->tempo_embeddings==0.0.1) (4.47.2)\n",
      "Requirement already satisfied: kiwisolver>=1.0.1 in /Users/jose/Repos/tempo-embeddings/.venv/lib/python3.9/site-packages (from matplotlib~=3.7.2->tempo_embeddings==0.0.1) (1.4.5)\n",
      "Requirement already satisfied: pyparsing>=2.3.1 in /Users/jose/Repos/tempo-embeddings/.venv/lib/python3.9/site-packages (from matplotlib~=3.7.2->tempo_embeddings==0.0.1) (3.1.1)\n",
      "Requirement already satisfied: python-dateutil>=2.7 in /Users/jose/Repos/tempo-embeddings/.venv/lib/python3.9/site-packages (from matplotlib~=3.7.2->tempo_embeddings==0.0.1) (2.8.2)\n",
      "Requirement already satisfied: pytz>=2020.1 in /Users/jose/Repos/tempo-embeddings/.venv/lib/python3.9/site-packages (from pandas->tempo_embeddings==0.0.1) (2023.3.post1)\n",
      "Requirement already satisfied: tzdata>=2022.7 in /Users/jose/Repos/tempo-embeddings/.venv/lib/python3.9/site-packages (from pandas->tempo_embeddings==0.0.1) (2023.4)\n",
      "Requirement already satisfied: regex in /Users/jose/Repos/tempo-embeddings/.venv/lib/python3.9/site-packages (from sacremoses~=0.0.53->tempo_embeddings==0.0.1) (2023.12.25)\n",
      "Requirement already satisfied: six in /Users/jose/Repos/tempo-embeddings/.venv/lib/python3.9/site-packages (from sacremoses~=0.0.53->tempo_embeddings==0.0.1) (1.16.0)\n",
      "Requirement already satisfied: click in /Users/jose/Repos/tempo-embeddings/.venv/lib/python3.9/site-packages (from sacremoses~=0.0.53->tempo_embeddings==0.0.1) (8.1.7)\n",
      "Requirement already satisfied: joblib in /Users/jose/Repos/tempo-embeddings/.venv/lib/python3.9/site-packages (from sacremoses~=0.0.53->tempo_embeddings==0.0.1) (1.3.2)\n",
      "Requirement already satisfied: scipy>=1.5.0 in /Users/jose/Repos/tempo-embeddings/.venv/lib/python3.9/site-packages (from scikit-learn~=1.3.0->tempo_embeddings==0.0.1) (1.12.0)\n",
      "Requirement already satisfied: threadpoolctl>=2.0.0 in /Users/jose/Repos/tempo-embeddings/.venv/lib/python3.9/site-packages (from scikit-learn~=1.3.0->tempo_embeddings==0.0.1) (3.2.0)\n",
      "Requirement already satisfied: filelock in /Users/jose/Repos/tempo-embeddings/.venv/lib/python3.9/site-packages (from torch~=2.0.1->tempo_embeddings==0.0.1) (3.13.1)\n",
      "Requirement already satisfied: sympy in /Users/jose/Repos/tempo-embeddings/.venv/lib/python3.9/site-packages (from torch~=2.0.1->tempo_embeddings==0.0.1) (1.12)\n",
      "Requirement already satisfied: networkx in /Users/jose/Repos/tempo-embeddings/.venv/lib/python3.9/site-packages (from torch~=2.0.1->tempo_embeddings==0.0.1) (3.2.1)\n",
      "Requirement already satisfied: huggingface-hub<1.0,>=0.15.1 in /Users/jose/Repos/tempo-embeddings/.venv/lib/python3.9/site-packages (from transformers~=4.32.1->tempo_embeddings==0.0.1) (0.20.3)\n",
      "Requirement already satisfied: safetensors>=0.3.1 in /Users/jose/Repos/tempo-embeddings/.venv/lib/python3.9/site-packages (from transformers~=4.32.1->tempo_embeddings==0.0.1) (0.4.1)\n",
      "Requirement already satisfied: numba>=0.51.2 in /Users/jose/Repos/tempo-embeddings/.venv/lib/python3.9/site-packages (from umap-learn~=0.5.4->tempo_embeddings==0.0.1) (0.58.1)\n",
      "Requirement already satisfied: pynndescent>=0.5 in /Users/jose/Repos/tempo-embeddings/.venv/lib/python3.9/site-packages (from umap-learn~=0.5.4->tempo_embeddings==0.0.1) (0.5.11)\n",
      "Requirement already satisfied: ipython in /Users/jose/Repos/tempo-embeddings/.venv/lib/python3.9/site-packages (from wizmap~=0.1.2->tempo_embeddings==0.0.1) (8.18.1)\n",
      "Requirement already satisfied: quadtreed3 in /Users/jose/Repos/tempo-embeddings/.venv/lib/python3.9/site-packages (from wizmap~=0.1.2->tempo_embeddings==0.0.1) (0.1.1)\n",
      "Requirement already satisfied: ndjson in /Users/jose/Repos/tempo-embeddings/.venv/lib/python3.9/site-packages (from wizmap~=0.1.2->tempo_embeddings==0.0.1) (0.3.1)\n",
      "Requirement already satisfied: colorcet in /Users/jose/Repos/tempo-embeddings/.venv/lib/python3.9/site-packages (from datashader->tempo_embeddings==0.0.1) (3.0.1)\n",
      "Requirement already satisfied: dask in /Users/jose/Repos/tempo-embeddings/.venv/lib/python3.9/site-packages (from datashader->tempo_embeddings==0.0.1) (2024.1.0)\n",
      "Requirement already satisfied: multipledispatch in /Users/jose/Repos/tempo-embeddings/.venv/lib/python3.9/site-packages (from datashader->tempo_embeddings==0.0.1) (1.0.0)\n",
      "Requirement already satisfied: param in /Users/jose/Repos/tempo-embeddings/.venv/lib/python3.9/site-packages (from datashader->tempo_embeddings==0.0.1) (2.0.2)\n",
      "Requirement already satisfied: pyct in /Users/jose/Repos/tempo-embeddings/.venv/lib/python3.9/site-packages (from datashader->tempo_embeddings==0.0.1) (0.5.0)\n",
      "Requirement already satisfied: toolz in /Users/jose/Repos/tempo-embeddings/.venv/lib/python3.9/site-packages (from datashader->tempo_embeddings==0.0.1) (0.12.0)\n",
      "Requirement already satisfied: xarray in /Users/jose/Repos/tempo-embeddings/.venv/lib/python3.9/site-packages (from datashader->tempo_embeddings==0.0.1) (2024.1.0)\n",
      "Requirement already satisfied: pyviz-comms>=0.7.4 in /Users/jose/Repos/tempo-embeddings/.venv/lib/python3.9/site-packages (from holoviews->tempo_embeddings==0.0.1) (3.0.1)\n",
      "Requirement already satisfied: panel>=1.0 in /Users/jose/Repos/tempo-embeddings/.venv/lib/python3.9/site-packages (from holoviews->tempo_embeddings==0.0.1) (1.3.7)\n",
      "Requirement already satisfied: pyproject_hooks in /Users/jose/Repos/tempo-embeddings/.venv/lib/python3.9/site-packages (from build>=1.0.3->chromadb~=0.4.22->tempo_embeddings==0.0.1) (1.0.0)\n",
      "Requirement already satisfied: importlib-metadata>=4.6 in /Users/jose/Repos/tempo-embeddings/.venv/lib/python3.9/site-packages (from build>=1.0.3->chromadb~=0.4.22->tempo_embeddings==0.0.1) (6.11.0)\n",
      "Requirement already satisfied: tomli>=1.1.0 in /Users/jose/Repos/tempo-embeddings/.venv/lib/python3.9/site-packages (from build>=1.0.3->chromadb~=0.4.22->tempo_embeddings==0.0.1) (2.0.1)\n",
      "Requirement already satisfied: starlette<0.36.0,>=0.35.0 in /Users/jose/Repos/tempo-embeddings/.venv/lib/python3.9/site-packages (from fastapi>=0.95.2->chromadb~=0.4.22->tempo_embeddings==0.0.1) (0.35.1)\n",
      "Requirement already satisfied: itsdangerous>=2.0 in /Users/jose/Repos/tempo-embeddings/.venv/lib/python3.9/site-packages (from Flask<2.3.0,>=1.0.4->dash~=2.11.1->tempo_embeddings==0.0.1) (2.1.2)\n",
      "Requirement already satisfied: fsspec>=2023.5.0 in /Users/jose/Repos/tempo-embeddings/.venv/lib/python3.9/site-packages (from huggingface-hub<1.0,>=0.15.1->transformers~=4.32.1->tempo_embeddings==0.0.1) (2023.12.2)\n",
      "Requirement already satisfied: zipp>=3.1.0 in /Users/jose/Repos/tempo-embeddings/.venv/lib/python3.9/site-packages (from importlib-resources->chromadb~=0.4.22->tempo_embeddings==0.0.1) (3.17.0)\n",
      "Requirement already satisfied: MarkupSafe>=2.0 in /Users/jose/Repos/tempo-embeddings/.venv/lib/python3.9/site-packages (from Jinja2>=2.9->bokeh~=3.3.2->tempo_embeddings==0.0.1) (2.1.4)\n",
      "Requirement already satisfied: certifi>=14.05.14 in /Users/jose/Repos/tempo-embeddings/.venv/lib/python3.9/site-packages (from kubernetes>=28.1.0->chromadb~=0.4.22->tempo_embeddings==0.0.1) (2023.11.17)\n",
      "Requirement already satisfied: google-auth>=1.0.1 in /Users/jose/Repos/tempo-embeddings/.venv/lib/python3.9/site-packages (from kubernetes>=28.1.0->chromadb~=0.4.22->tempo_embeddings==0.0.1) (2.26.2)\n",
      "Requirement already satisfied: websocket-client!=0.40.0,!=0.41.*,!=0.42.*,>=0.32.0 in /Users/jose/Repos/tempo-embeddings/.venv/lib/python3.9/site-packages (from kubernetes>=28.1.0->chromadb~=0.4.22->tempo_embeddings==0.0.1) (1.7.0)\n",
      "Requirement already satisfied: requests-oauthlib in /Users/jose/Repos/tempo-embeddings/.venv/lib/python3.9/site-packages (from kubernetes>=28.1.0->chromadb~=0.4.22->tempo_embeddings==0.0.1) (1.3.1)\n",
      "Requirement already satisfied: oauthlib>=3.2.2 in /Users/jose/Repos/tempo-embeddings/.venv/lib/python3.9/site-packages (from kubernetes>=28.1.0->chromadb~=0.4.22->tempo_embeddings==0.0.1) (3.2.2)\n",
      "Requirement already satisfied: urllib3>=1.24.2 in /Users/jose/Repos/tempo-embeddings/.venv/lib/python3.9/site-packages (from kubernetes>=28.1.0->chromadb~=0.4.22->tempo_embeddings==0.0.1) (2.1.0)\n",
      "Requirement already satisfied: llvmlite<0.42,>=0.41.0dev0 in /Users/jose/Repos/tempo-embeddings/.venv/lib/python3.9/site-packages (from numba>=0.51.2->umap-learn~=0.5.4->tempo_embeddings==0.0.1) (0.41.1)\n",
      "Requirement already satisfied: coloredlogs in /Users/jose/Repos/tempo-embeddings/.venv/lib/python3.9/site-packages (from onnxruntime>=1.14.1->chromadb~=0.4.22->tempo_embeddings==0.0.1) (15.0.1)\n",
      "Requirement already satisfied: flatbuffers in /Users/jose/Repos/tempo-embeddings/.venv/lib/python3.9/site-packages (from onnxruntime>=1.14.1->chromadb~=0.4.22->tempo_embeddings==0.0.1) (23.5.26)\n",
      "Requirement already satisfied: protobuf in /Users/jose/Repos/tempo-embeddings/.venv/lib/python3.9/site-packages (from onnxruntime>=1.14.1->chromadb~=0.4.22->tempo_embeddings==0.0.1) (4.25.3)\n",
      "Requirement already satisfied: deprecated>=1.2.6 in /Users/jose/Repos/tempo-embeddings/.venv/lib/python3.9/site-packages (from opentelemetry-api>=1.2.0->chromadb~=0.4.22->tempo_embeddings==0.0.1) (1.2.14)\n",
      "Requirement already satisfied: backoff<3.0.0,>=1.10.0 in /Users/jose/Repos/tempo-embeddings/.venv/lib/python3.9/site-packages (from opentelemetry-exporter-otlp-proto-grpc>=1.2.0->chromadb~=0.4.22->tempo_embeddings==0.0.1) (2.2.1)\n",
      "Requirement already satisfied: googleapis-common-protos~=1.52 in /Users/jose/Repos/tempo-embeddings/.venv/lib/python3.9/site-packages (from opentelemetry-exporter-otlp-proto-grpc>=1.2.0->chromadb~=0.4.22->tempo_embeddings==0.0.1) (1.62.0)\n",
      "Requirement already satisfied: opentelemetry-exporter-otlp-proto-common==1.22.0 in /Users/jose/Repos/tempo-embeddings/.venv/lib/python3.9/site-packages (from opentelemetry-exporter-otlp-proto-grpc>=1.2.0->chromadb~=0.4.22->tempo_embeddings==0.0.1) (1.22.0)\n",
      "Requirement already satisfied: opentelemetry-proto==1.22.0 in /Users/jose/Repos/tempo-embeddings/.venv/lib/python3.9/site-packages (from opentelemetry-exporter-otlp-proto-grpc>=1.2.0->chromadb~=0.4.22->tempo_embeddings==0.0.1) (1.22.0)\n",
      "Requirement already satisfied: opentelemetry-instrumentation-asgi==0.43b0 in /Users/jose/Repos/tempo-embeddings/.venv/lib/python3.9/site-packages (from opentelemetry-instrumentation-fastapi>=0.41b0->chromadb~=0.4.22->tempo_embeddings==0.0.1) (0.43b0)\n",
      "Requirement already satisfied: opentelemetry-instrumentation==0.43b0 in /Users/jose/Repos/tempo-embeddings/.venv/lib/python3.9/site-packages (from opentelemetry-instrumentation-fastapi>=0.41b0->chromadb~=0.4.22->tempo_embeddings==0.0.1) (0.43b0)\n",
      "Requirement already satisfied: opentelemetry-semantic-conventions==0.43b0 in /Users/jose/Repos/tempo-embeddings/.venv/lib/python3.9/site-packages (from opentelemetry-instrumentation-fastapi>=0.41b0->chromadb~=0.4.22->tempo_embeddings==0.0.1) (0.43b0)\n",
      "Requirement already satisfied: opentelemetry-util-http==0.43b0 in /Users/jose/Repos/tempo-embeddings/.venv/lib/python3.9/site-packages (from opentelemetry-instrumentation-fastapi>=0.41b0->chromadb~=0.4.22->tempo_embeddings==0.0.1) (0.43b0)\n",
      "Requirement already satisfied: setuptools>=16.0 in /Users/jose/Repos/tempo-embeddings/.venv/lib/python3.9/site-packages (from opentelemetry-instrumentation==0.43b0->opentelemetry-instrumentation-fastapi>=0.41b0->chromadb~=0.4.22->tempo_embeddings==0.0.1) (58.0.4)\n",
      "Requirement already satisfied: wrapt<2.0.0,>=1.0.0 in /Users/jose/Repos/tempo-embeddings/.venv/lib/python3.9/site-packages (from opentelemetry-instrumentation==0.43b0->opentelemetry-instrumentation-fastapi>=0.41b0->chromadb~=0.4.22->tempo_embeddings==0.0.1) (1.16.0)\n",
      "Requirement already satisfied: asgiref~=3.0 in /Users/jose/Repos/tempo-embeddings/.venv/lib/python3.9/site-packages (from opentelemetry-instrumentation-asgi==0.43b0->opentelemetry-instrumentation-fastapi>=0.41b0->chromadb~=0.4.22->tempo_embeddings==0.0.1) (3.7.2)\n",
      "Requirement already satisfied: markdown in /Users/jose/Repos/tempo-embeddings/.venv/lib/python3.9/site-packages (from panel>=1.0->holoviews->tempo_embeddings==0.0.1) (3.5.2)\n",
      "Requirement already satisfied: markdown-it-py in /Users/jose/Repos/tempo-embeddings/.venv/lib/python3.9/site-packages (from panel>=1.0->holoviews->tempo_embeddings==0.0.1) (3.0.0)\n",
      "Requirement already satisfied: linkify-it-py in /Users/jose/Repos/tempo-embeddings/.venv/lib/python3.9/site-packages (from panel>=1.0->holoviews->tempo_embeddings==0.0.1) (2.0.2)\n",
      "Requirement already satisfied: mdit-py-plugins in /Users/jose/Repos/tempo-embeddings/.venv/lib/python3.9/site-packages (from panel>=1.0->holoviews->tempo_embeddings==0.0.1) (0.4.0)\n",
      "Requirement already satisfied: bleach in /Users/jose/Repos/tempo-embeddings/.venv/lib/python3.9/site-packages (from panel>=1.0->holoviews->tempo_embeddings==0.0.1) (6.1.0)\n",
      "Requirement already satisfied: monotonic>=1.5 in /Users/jose/Repos/tempo-embeddings/.venv/lib/python3.9/site-packages (from posthog>=2.4.0->chromadb~=0.4.22->tempo_embeddings==0.0.1) (1.6)\n",
      "Requirement already satisfied: annotated-types>=0.4.0 in /Users/jose/Repos/tempo-embeddings/.venv/lib/python3.9/site-packages (from pydantic>=1.9->chromadb~=0.4.22->tempo_embeddings==0.0.1) (0.6.0)\n",
      "Requirement already satisfied: pydantic-core==2.14.6 in /Users/jose/Repos/tempo-embeddings/.venv/lib/python3.9/site-packages (from pydantic>=1.9->chromadb~=0.4.22->tempo_embeddings==0.0.1) (2.14.6)\n",
      "Requirement already satisfied: charset-normalizer<4,>=2 in /Users/jose/Repos/tempo-embeddings/.venv/lib/python3.9/site-packages (from requests>=2.28->chromadb~=0.4.22->tempo_embeddings==0.0.1) (3.3.2)\n",
      "Requirement already satisfied: idna<4,>=2.5 in /Users/jose/Repos/tempo-embeddings/.venv/lib/python3.9/site-packages (from requests>=2.28->chromadb~=0.4.22->tempo_embeddings==0.0.1) (3.6)\n",
      "Requirement already satisfied: h11>=0.8 in /Users/jose/Repos/tempo-embeddings/.venv/lib/python3.9/site-packages (from uvicorn>=0.18.3->uvicorn[standard]>=0.18.3->chromadb~=0.4.22->tempo_embeddings==0.0.1) (0.14.0)\n",
      "Requirement already satisfied: httptools>=0.5.0 in /Users/jose/Repos/tempo-embeddings/.venv/lib/python3.9/site-packages (from uvicorn[standard]>=0.18.3->chromadb~=0.4.22->tempo_embeddings==0.0.1) (0.6.1)\n",
      "Requirement already satisfied: python-dotenv>=0.13 in /Users/jose/Repos/tempo-embeddings/.venv/lib/python3.9/site-packages (from uvicorn[standard]>=0.18.3->chromadb~=0.4.22->tempo_embeddings==0.0.1) (1.0.0)\n",
      "Requirement already satisfied: uvloop!=0.15.0,!=0.15.1,>=0.14.0 in /Users/jose/Repos/tempo-embeddings/.venv/lib/python3.9/site-packages (from uvicorn[standard]>=0.18.3->chromadb~=0.4.22->tempo_embeddings==0.0.1) (0.19.0)\n",
      "Requirement already satisfied: watchfiles>=0.13 in /Users/jose/Repos/tempo-embeddings/.venv/lib/python3.9/site-packages (from uvicorn[standard]>=0.18.3->chromadb~=0.4.22->tempo_embeddings==0.0.1) (0.21.0)\n",
      "Requirement already satisfied: websockets>=10.4 in /Users/jose/Repos/tempo-embeddings/.venv/lib/python3.9/site-packages (from uvicorn[standard]>=0.18.3->chromadb~=0.4.22->tempo_embeddings==0.0.1) (12.0)\n",
      "Requirement already satisfied: cloudpickle>=1.5.0 in /Users/jose/Repos/tempo-embeddings/.venv/lib/python3.9/site-packages (from dask->datashader->tempo_embeddings==0.0.1) (3.0.0)\n",
      "Requirement already satisfied: partd>=1.2.0 in /Users/jose/Repos/tempo-embeddings/.venv/lib/python3.9/site-packages (from dask->datashader->tempo_embeddings==0.0.1) (1.4.1)\n",
      "Requirement already satisfied: decorator in /Users/jose/Repos/tempo-embeddings/.venv/lib/python3.9/site-packages (from ipython->wizmap~=0.1.2->tempo_embeddings==0.0.1) (5.1.1)\n",
      "Requirement already satisfied: jedi>=0.16 in /Users/jose/Repos/tempo-embeddings/.venv/lib/python3.9/site-packages (from ipython->wizmap~=0.1.2->tempo_embeddings==0.0.1) (0.19.1)\n",
      "Requirement already satisfied: matplotlib-inline in /Users/jose/Repos/tempo-embeddings/.venv/lib/python3.9/site-packages (from ipython->wizmap~=0.1.2->tempo_embeddings==0.0.1) (0.1.6)\n",
      "Requirement already satisfied: prompt-toolkit<3.1.0,>=3.0.41 in /Users/jose/Repos/tempo-embeddings/.venv/lib/python3.9/site-packages (from ipython->wizmap~=0.1.2->tempo_embeddings==0.0.1) (3.0.43)\n",
      "Requirement already satisfied: pygments>=2.4.0 in /Users/jose/Repos/tempo-embeddings/.venv/lib/python3.9/site-packages (from ipython->wizmap~=0.1.2->tempo_embeddings==0.0.1) (2.17.2)\n",
      "Requirement already satisfied: stack-data in /Users/jose/Repos/tempo-embeddings/.venv/lib/python3.9/site-packages (from ipython->wizmap~=0.1.2->tempo_embeddings==0.0.1) (0.6.3)\n",
      "Requirement already satisfied: traitlets>=5 in /Users/jose/Repos/tempo-embeddings/.venv/lib/python3.9/site-packages (from ipython->wizmap~=0.1.2->tempo_embeddings==0.0.1) (5.14.1)\n",
      "Requirement already satisfied: exceptiongroup in /Users/jose/Repos/tempo-embeddings/.venv/lib/python3.9/site-packages (from ipython->wizmap~=0.1.2->tempo_embeddings==0.0.1) (1.2.0)\n",
      "Requirement already satisfied: pexpect>4.3 in /Users/jose/Repos/tempo-embeddings/.venv/lib/python3.9/site-packages (from ipython->wizmap~=0.1.2->tempo_embeddings==0.0.1) (4.9.0)\n",
      "Requirement already satisfied: mpmath>=0.19 in /Users/jose/Repos/tempo-embeddings/.venv/lib/python3.9/site-packages (from sympy->torch~=2.0.1->tempo_embeddings==0.0.1) (1.3.0)\n",
      "Requirement already satisfied: cachetools<6.0,>=2.0.0 in /Users/jose/Repos/tempo-embeddings/.venv/lib/python3.9/site-packages (from google-auth>=1.0.1->kubernetes>=28.1.0->chromadb~=0.4.22->tempo_embeddings==0.0.1) (5.3.2)\n",
      "Requirement already satisfied: pyasn1-modules>=0.2.1 in /Users/jose/Repos/tempo-embeddings/.venv/lib/python3.9/site-packages (from google-auth>=1.0.1->kubernetes>=28.1.0->chromadb~=0.4.22->tempo_embeddings==0.0.1) (0.3.0)\n",
      "Requirement already satisfied: rsa<5,>=3.1.4 in /Users/jose/Repos/tempo-embeddings/.venv/lib/python3.9/site-packages (from google-auth>=1.0.1->kubernetes>=28.1.0->chromadb~=0.4.22->tempo_embeddings==0.0.1) (4.9)\n",
      "Requirement already satisfied: parso<0.9.0,>=0.8.3 in /Users/jose/Repos/tempo-embeddings/.venv/lib/python3.9/site-packages (from jedi>=0.16->ipython->wizmap~=0.1.2->tempo_embeddings==0.0.1) (0.8.3)\n",
      "Requirement already satisfied: locket in /Users/jose/Repos/tempo-embeddings/.venv/lib/python3.9/site-packages (from partd>=1.2.0->dask->datashader->tempo_embeddings==0.0.1) (1.0.0)\n",
      "Requirement already satisfied: ptyprocess>=0.5 in /Users/jose/Repos/tempo-embeddings/.venv/lib/python3.9/site-packages (from pexpect>4.3->ipython->wizmap~=0.1.2->tempo_embeddings==0.0.1) (0.7.0)\n",
      "Requirement already satisfied: wcwidth in /Users/jose/Repos/tempo-embeddings/.venv/lib/python3.9/site-packages (from prompt-toolkit<3.1.0,>=3.0.41->ipython->wizmap~=0.1.2->tempo_embeddings==0.0.1) (0.2.13)\n",
      "Requirement already satisfied: anyio<5,>=3.4.0 in /Users/jose/Repos/tempo-embeddings/.venv/lib/python3.9/site-packages (from starlette<0.36.0,>=0.35.0->fastapi>=0.95.2->chromadb~=0.4.22->tempo_embeddings==0.0.1) (4.2.0)\n",
      "Requirement already satisfied: webencodings in /Users/jose/Repos/tempo-embeddings/.venv/lib/python3.9/site-packages (from bleach->panel>=1.0->holoviews->tempo_embeddings==0.0.1) (0.5.1)\n",
      "Requirement already satisfied: humanfriendly>=9.1 in /Users/jose/Repos/tempo-embeddings/.venv/lib/python3.9/site-packages (from coloredlogs->onnxruntime>=1.14.1->chromadb~=0.4.22->tempo_embeddings==0.0.1) (10.0)\n",
      "Requirement already satisfied: uc-micro-py in /Users/jose/Repos/tempo-embeddings/.venv/lib/python3.9/site-packages (from linkify-it-py->panel>=1.0->holoviews->tempo_embeddings==0.0.1) (1.0.2)\n",
      "Requirement already satisfied: mdurl~=0.1 in /Users/jose/Repos/tempo-embeddings/.venv/lib/python3.9/site-packages (from markdown-it-py->panel>=1.0->holoviews->tempo_embeddings==0.0.1) (0.1.2)\n",
      "Requirement already satisfied: executing>=1.2.0 in /Users/jose/Repos/tempo-embeddings/.venv/lib/python3.9/site-packages (from stack-data->ipython->wizmap~=0.1.2->tempo_embeddings==0.0.1) (2.0.1)\n",
      "Requirement already satisfied: asttokens>=2.1.0 in /Users/jose/Repos/tempo-embeddings/.venv/lib/python3.9/site-packages (from stack-data->ipython->wizmap~=0.1.2->tempo_embeddings==0.0.1) (2.4.1)\n",
      "Requirement already satisfied: pure-eval in /Users/jose/Repos/tempo-embeddings/.venv/lib/python3.9/site-packages (from stack-data->ipython->wizmap~=0.1.2->tempo_embeddings==0.0.1) (0.2.2)\n",
      "Requirement already satisfied: sniffio>=1.1 in /Users/jose/Repos/tempo-embeddings/.venv/lib/python3.9/site-packages (from anyio<5,>=3.4.0->starlette<0.36.0,>=0.35.0->fastapi>=0.95.2->chromadb~=0.4.22->tempo_embeddings==0.0.1) (1.3.0)\n",
      "Requirement already satisfied: pyasn1<0.6.0,>=0.4.6 in /Users/jose/Repos/tempo-embeddings/.venv/lib/python3.9/site-packages (from pyasn1-modules>=0.2.1->google-auth>=1.0.1->kubernetes>=28.1.0->chromadb~=0.4.22->tempo_embeddings==0.0.1) (0.5.1)\n",
      "Building wheels for collected packages: tempo_embeddings\n",
      "  Building wheel for tempo_embeddings (pyproject.toml) ... \u001b[?25ldone\n",
      "\u001b[?25h  Created wheel for tempo_embeddings: filename=tempo_embeddings-0.0.1-py3-none-any.whl size=36886 sha256=42837a6b0cfd383e4a8eeef112120f7a880b553f2ba2cf71004ba8c4b9eea2d7\n",
      "  Stored in directory: /Users/jose/Library/Caches/pip/wheels/de/25/96/d92b7a130b730e0ab67770d76841f36cb3d1f9cda32a4a539b\n",
      "Successfully built tempo_embeddings\n",
      "Installing collected packages: tempo_embeddings\n",
      "  Attempting uninstall: tempo_embeddings\n",
      "    Found existing installation: tempo_embeddings 0.0.1\n",
      "    Uninstalling tempo_embeddings-0.0.1:\n",
      "      Successfully uninstalled tempo_embeddings-0.0.1\n",
      "Successfully installed tempo_embeddings-0.0.1\n",
      "Note: you may need to restart the kernel to use updated packages.\n"
     ]
    }
   ],
   "source": [
    "# # Install tempo-embeddings from GitHub\n",
    "# # This can also refer to a specific version or branch\n",
    "\n",
    "%pip install ..\n",
    "\n",
    "# %pip install --upgrade pip  # Required for properly resolving dependencies\n",
    "# %pip uninstall -y tempo_embeddings  # Remove existing installation\n",
    "# %pip install --upgrade git+https://github.com/Semantics-of-Sustainability/tempo-embeddings.git"
   ]
  },
  {
   "cell_type": "code",
   "execution_count": 2,
   "metadata": {},
   "outputs": [],
   "source": [
    "# make sure installation has succeeded\n",
    "import tempo_embeddings\n",
    "\n",
    "from importlib import reload\n",
    "import logging\n",
    "reload(logging)\n",
    "logging.basicConfig(format='%(asctime)s %(levelname)s:%(message)s', level=logging.INFO, datefmt='%I:%M:%S')"
   ]
  },
  {
   "cell_type": "code",
   "execution_count": 3,
   "metadata": {},
   "outputs": [],
   "source": [
    "%load_ext autoreload"
   ]
  },
  {
   "cell_type": "code",
   "execution_count": 4,
   "metadata": {},
   "outputs": [],
   "source": [
    "try:\n",
    "    import google.colab\n",
    "\n",
    "    IN_COLAB = True\n",
    "except ModuleNotFoundError:\n",
    "    IN_COLAB = False"
   ]
  },
  {
   "cell_type": "code",
   "execution_count": 5,
   "metadata": {},
   "outputs": [],
   "source": [
    "%autoreload now\n",
    "\n",
    "from pathlib import Path\n",
    "from tqdm import tqdm\n",
    "from tempo_embeddings.text.corpus import Corpus\n",
    "import ipywidgets as widgets"
   ]
  },
  {
   "cell_type": "markdown",
   "metadata": {},
   "source": [
    "## Load Database Manager\n",
    "\n",
    "The `db_path` parameter should point to the directory where the database is, so the original configuration and records are loaded. The database was created using the notebook `1_compute_embeddings_nl.ipynb`. If the given path does not exist, a new EMPTY database will be created there. \n",
    "\n",
    "A bigger `batch_size` could make the search faster but if it is too big you might run out of memory."
   ]
  },
  {
   "cell_type": "code",
   "execution_count": 6,
   "metadata": {},
   "outputs": [
    {
     "name": "stderr",
     "output_type": "stream",
     "text": [
      "/Users/jose/Repos/tempo-embeddings/.venv/lib/python3.9/site-packages/urllib3/__init__.py:34: NotOpenSSLWarning: urllib3 v2 only supports OpenSSL 1.1.1+, currently the 'ssl' module is compiled with 'LibreSSL 2.8.3'. See: https://github.com/urllib3/urllib3/issues/3020\n",
      "  warnings.warn(\n",
      "/Users/jose/Repos/tempo-embeddings/.venv/lib/python3.9/site-packages/umap/__init__.py:9: ImportWarning: Tensorflow not installed; ParametricUMAP will be unavailable\n",
      "  warn(\n",
      "01:41:14 ERROR:If the type is 'custom_model' or 'default' you should pass the model object under Key 'model'\n",
      "01:41:14 INFO:HTTP Request: GET http://localhost:8080/v1/.well-known/openid-configuration \"HTTP/1.1 404 Not Found\"\n",
      "01:41:14 INFO:HTTP Request: GET http://localhost:8080/v1/meta \"HTTP/1.1 200 OK\"\n",
      "01:41:14 INFO:HTTP Request: GET https://pypi.org/pypi/weaviate-client/json \"HTTP/1.1 200 OK\"\n",
      "01:41:14 INFO:<class 'weaviate.client.WeaviateClient'>\n",
      "01:41:14 INFO:HTTP Request: GET http://localhost:8080/v1/.well-known/ready \"HTTP/1.1 200 OK\"\n",
      "01:41:14 INFO:Weaviate Server Is Up: True\n",
      "01:41:14 INFO:HTTP Request: GET http://localhost:8080/v1/.well-known/ready \"HTTP/1.1 200 OK\"\n"
     ]
    },
    {
     "data": {
      "text/plain": [
       "True"
      ]
     },
     "execution_count": 6,
     "metadata": {},
     "output_type": "execute_result"
    }
   ],
   "source": [
    "from tempo_embeddings.embeddings.weaviate_database import WeaviateDatabaseManager\n",
    "\n",
    "# Here we load only the ANP collection because metadata field names diverge across datasets\n",
    "db = WeaviateDatabaseManager(db_path=\"weaviate_default_db\")\n",
    "db.connect()\n"
   ]
  },
  {
   "cell_type": "markdown",
   "metadata": {},
   "source": [
    "## Choose from the available Collections in the Database"
   ]
  },
  {
   "cell_type": "code",
   "execution_count": 7,
   "metadata": {},
   "outputs": [
    {
     "data": {
      "application/vnd.jupyter.widget-view+json": {
       "model_id": "5f46e2b6d3ba49e6a291d7c112693eab",
       "version_major": 2,
       "version_minor": 0
      },
      "text/plain": [
       "Dropdown(description='Choose a Collection:', options=('AnpSgCorpus', 'AnpDuurzaam'), style=DescriptionStyle(de…"
      ]
     },
     "execution_count": 7,
     "metadata": {},
     "output_type": "execute_result"
    }
   ],
   "source": [
    "existing_colls = db.get_available_collections()\n",
    "collection_selector = widgets.Dropdown(\n",
    "    options=existing_colls,\n",
    "    description='Choose a Collection:',\n",
    "    disabled=False,\n",
    "    style={'description_width': 'initial'} \n",
    ")\n",
    "collection_selector"
   ]
  },
  {
   "cell_type": "markdown",
   "metadata": {},
   "source": [
    "## Show number of records in the selected collection"
   ]
  },
  {
   "cell_type": "code",
   "execution_count": 8,
   "metadata": {},
   "outputs": [
    {
     "name": "stderr",
     "output_type": "stream",
     "text": [
      "01:41:14 INFO:HTTP Request: GET http://localhost:8080/v1/.well-known/openid-configuration \"HTTP/1.1 404 Not Found\"\n",
      "01:41:14 INFO:HTTP Request: GET http://localhost:8080/v1/meta \"HTTP/1.1 200 OK\"\n",
      "01:41:14 INFO:HTTP Request: GET https://pypi.org/pypi/weaviate-client/json \"HTTP/1.1 200 OK\"\n",
      "01:41:14 INFO:HTTP Request: POST http://localhost:8080/v1/graphql \"HTTP/1.1 200 OK\"\n"
     ]
    },
    {
     "name": "stdout",
     "output_type": "stream",
     "text": [
      "\n",
      "Collection 'AnpSgCorpus' has 271137 records\n"
     ]
    }
   ],
   "source": [
    "collection = collection_selector.value\n",
    "print(f\"\\nCollection '{collection_selector.value}' has {db.get_collection_count(collection)} records\")"
   ]
  },
  {
   "cell_type": "markdown",
   "metadata": {},
   "source": [
    "## Create Sub-Corpus\n",
    "\n",
    "To make the processing and visualization easier, we will create a new `Corpus` comprising only a subet of the original Collection. This corpus will contain only the records of interest. This is done by querying the database with keyword and metadata constraints. In this example we allow to look for:\n",
    "\n",
    "- **Filter Terms:** retrieve only passages that contain exactly the given keywords.\n",
    "- **Year Range:** retrieve only the records which are inside the provided years\n",
    "- **Neighbors:** This indicates how much to *expand* the search into more datapoints. The idea is to retrieve the *top_k* neighbors of the initially retrieved passages. Ideally this will give related passages that did not mention any of the keywords explicitly."
   ]
  },
  {
   "cell_type": "code",
   "execution_count": 9,
   "metadata": {},
   "outputs": [],
   "source": [
    "widget_year_range=widgets.IntRangeSlider(description='Year Range: ', min=1900, max=2020, step=1, value=(1980,1984), style={'description_width': 'initial'}, layout=widgets.Layout(width='400px') )\n",
    "widget_terms=widgets.Text(description='Filter Terms (comma separated)', value=\"duurzaam\", style={'description_width': 'initial'}, layout=widgets.Layout(width='600px') )\n",
    "widget_neighbors=widgets.IntSlider(description=\"Expand Neighborhood Size: \", min=0, max=10, value=5, style={'description_width': 'initial'}, layout=widgets.Layout(width='400px') )"
   ]
  },
  {
   "cell_type": "markdown",
   "metadata": {},
   "source": [
    "### Display the Widgets to choose the parameters"
   ]
  },
  {
   "cell_type": "code",
   "execution_count": 10,
   "metadata": {},
   "outputs": [
    {
     "data": {
      "application/vnd.jupyter.widget-view+json": {
       "model_id": "311c5512649a480db520793c7501f813",
       "version_major": 2,
       "version_minor": 0
      },
      "text/plain": [
       "Text(value='duurzaam', description='Filter Terms (comma separated)', layout=Layout(width='600px'), style=TextS…"
      ]
     },
     "metadata": {},
     "output_type": "display_data"
    },
    {
     "data": {
      "application/vnd.jupyter.widget-view+json": {
       "model_id": "2b1f0bd4ae3443ca8b2c2b692ee6042e",
       "version_major": 2,
       "version_minor": 0
      },
      "text/plain": [
       "IntRangeSlider(value=(1980, 1984), description='Year Range: ', layout=Layout(width='400px'), max=2020, min=190…"
      ]
     },
     "metadata": {},
     "output_type": "display_data"
    },
    {
     "data": {
      "application/vnd.jupyter.widget-view+json": {
       "model_id": "56a8c5b8dcde48b7910521e304013a3a",
       "version_major": 2,
       "version_minor": 0
      },
      "text/plain": [
       "IntSlider(value=5, description='Expand Neighborhood Size: ', layout=Layout(width='400px'), max=10, style=Slide…"
      ]
     },
     "metadata": {},
     "output_type": "display_data"
    }
   ],
   "source": [
    "display(widget_terms)\n",
    "display(widget_year_range)\n",
    "display(widget_neighbors)"
   ]
  },
  {
   "cell_type": "markdown",
   "metadata": {},
   "source": [
    "### Execute the Search\n",
    "\n",
    "No need to move the code manually here. All parameters are grabbed from the widget values"
   ]
  },
  {
   "cell_type": "code",
   "execution_count": 11,
   "metadata": {},
   "outputs": [
    {
     "name": "stderr",
     "output_type": "stream",
     "text": [
      "01:41:14 INFO:HTTP Request: GET http://localhost:8080/v1/.well-known/openid-configuration \"HTTP/1.1 404 Not Found\"\n",
      "01:41:14 INFO:HTTP Request: GET http://localhost:8080/v1/meta \"HTTP/1.1 200 OK\"\n",
      "01:41:14 INFO:HTTP Request: GET https://pypi.org/pypi/weaviate-client/json \"HTTP/1.1 200 OK\"\n"
     ]
    },
    {
     "name": "stdout",
     "output_type": "stream",
     "text": [
      "Searching terms ['duurzaam'] between year 1980 and 1984\n",
      "Found 98 items that match!\n"
     ]
    }
   ],
   "source": [
    "# Unpack values form Widget\n",
    "year_from, year_to = widget_year_range.value\n",
    "FILTER_TERMS = [s.strip() for s in widget_terms.value.split(\",\")]\n",
    "# Execute Database Query\n",
    "where_range = {\"year_from\": year_from, \"year_to\": year_to}\n",
    "print(f\"Searching terms {FILTER_TERMS} between year {year_from} and {year_to}\")\n",
    "corpus = db.get_corpus(collection, filter_words=FILTER_TERMS, where_obj=where_range, include_embeddings=True, limit=10000)\n",
    "print(f\"Found {len(corpus)} items that match!\")"
   ]
  },
  {
   "cell_type": "markdown",
   "metadata": {},
   "source": [
    "### Execute the search for neighborhoods\n",
    "\n",
    "For each `Passage` in the `Corpus` created with the search result, we will find *k* neighbors and add them to the original `Corpus`."
   ]
  },
  {
   "cell_type": "code",
   "execution_count": 12,
   "metadata": {},
   "outputs": [
    {
     "name": "stderr",
     "output_type": "stream",
     "text": [
      "01:41:14 INFO:HTTP Request: GET http://localhost:8080/v1/.well-known/openid-configuration \"HTTP/1.1 404 Not Found\"\n",
      "01:41:14 INFO:HTTP Request: GET http://localhost:8080/v1/meta \"HTTP/1.1 200 OK\"\n",
      "01:41:14 INFO:HTTP Request: GET https://pypi.org/pypi/weaviate-client/json \"HTTP/1.1 200 OK\"\n",
      "01:41:14 INFO:HTTP Request: GET http://localhost:8080/v1/.well-known/openid-configuration \"HTTP/1.1 404 Not Found\"\n",
      "01:41:14 INFO:HTTP Request: GET http://localhost:8080/v1/meta \"HTTP/1.1 200 OK\"\n",
      "01:41:14 INFO:HTTP Request: GET https://pypi.org/pypi/weaviate-client/json \"HTTP/1.1 200 OK\"\n",
      "01:41:14 INFO:HTTP Request: GET http://localhost:8080/v1/.well-known/openid-configuration \"HTTP/1.1 404 Not Found\"\n",
      "01:41:14 INFO:HTTP Request: GET http://localhost:8080/v1/meta \"HTTP/1.1 200 OK\"\n",
      "01:41:14 INFO:HTTP Request: GET https://pypi.org/pypi/weaviate-client/json \"HTTP/1.1 200 OK\"\n",
      "01:41:14 INFO:HTTP Request: GET http://localhost:8080/v1/.well-known/openid-configuration \"HTTP/1.1 404 Not Found\"\n",
      "01:41:14 INFO:HTTP Request: GET http://localhost:8080/v1/meta \"HTTP/1.1 200 OK\"\n",
      "01:41:14 INFO:HTTP Request: GET https://pypi.org/pypi/weaviate-client/json \"HTTP/1.1 200 OK\"\n",
      "01:41:14 INFO:HTTP Request: GET http://localhost:8080/v1/.well-known/openid-configuration \"HTTP/1.1 404 Not Found\"\n",
      "01:41:14 INFO:HTTP Request: GET http://localhost:8080/v1/meta \"HTTP/1.1 200 OK\"\n",
      "01:41:14 INFO:HTTP Request: GET https://pypi.org/pypi/weaviate-client/json \"HTTP/1.1 200 OK\"\n",
      "01:41:15 INFO:HTTP Request: GET http://localhost:8080/v1/.well-known/openid-configuration \"HTTP/1.1 404 Not Found\"\n",
      "01:41:15 INFO:HTTP Request: GET http://localhost:8080/v1/meta \"HTTP/1.1 200 OK\"\n",
      "01:41:15 INFO:HTTP Request: GET https://pypi.org/pypi/weaviate-client/json \"HTTP/1.1 200 OK\"\n",
      "01:41:15 INFO:HTTP Request: GET http://localhost:8080/v1/.well-known/openid-configuration \"HTTP/1.1 404 Not Found\"\n",
      "01:41:15 INFO:HTTP Request: GET http://localhost:8080/v1/meta \"HTTP/1.1 200 OK\"\n",
      "01:41:15 INFO:HTTP Request: GET https://pypi.org/pypi/weaviate-client/json \"HTTP/1.1 200 OK\"\n",
      "01:41:15 INFO:HTTP Request: GET http://localhost:8080/v1/.well-known/openid-configuration \"HTTP/1.1 404 Not Found\"\n",
      "01:41:15 INFO:HTTP Request: GET http://localhost:8080/v1/meta \"HTTP/1.1 200 OK\"\n",
      "01:41:15 INFO:HTTP Request: GET https://pypi.org/pypi/weaviate-client/json \"HTTP/1.1 200 OK\"\n",
      "01:41:15 INFO:HTTP Request: GET http://localhost:8080/v1/.well-known/openid-configuration \"HTTP/1.1 404 Not Found\"\n",
      "01:41:15 INFO:HTTP Request: GET http://localhost:8080/v1/meta \"HTTP/1.1 200 OK\"\n",
      "01:41:15 INFO:HTTP Request: GET https://pypi.org/pypi/weaviate-client/json \"HTTP/1.1 200 OK\"\n",
      "01:41:15 INFO:HTTP Request: GET http://localhost:8080/v1/.well-known/openid-configuration \"HTTP/1.1 404 Not Found\"\n",
      "01:41:15 INFO:HTTP Request: GET http://localhost:8080/v1/meta \"HTTP/1.1 200 OK\"\n",
      "01:41:15 INFO:HTTP Request: GET https://pypi.org/pypi/weaviate-client/json \"HTTP/1.1 200 OK\"\n",
      "01:41:15 INFO:HTTP Request: GET http://localhost:8080/v1/.well-known/openid-configuration \"HTTP/1.1 404 Not Found\"\n",
      "01:41:15 INFO:HTTP Request: GET http://localhost:8080/v1/meta \"HTTP/1.1 200 OK\"\n",
      "01:41:15 INFO:HTTP Request: GET https://pypi.org/pypi/weaviate-client/json \"HTTP/1.1 200 OK\"\n",
      "01:41:15 INFO:HTTP Request: GET http://localhost:8080/v1/.well-known/openid-configuration \"HTTP/1.1 404 Not Found\"\n",
      "01:41:15 INFO:HTTP Request: GET http://localhost:8080/v1/meta \"HTTP/1.1 200 OK\"\n",
      "01:41:15 INFO:HTTP Request: GET https://pypi.org/pypi/weaviate-client/json \"HTTP/1.1 200 OK\"\n",
      "01:41:15 INFO:HTTP Request: GET http://localhost:8080/v1/.well-known/openid-configuration \"HTTP/1.1 404 Not Found\"\n",
      "01:41:15 INFO:HTTP Request: GET http://localhost:8080/v1/meta \"HTTP/1.1 200 OK\"\n",
      "01:41:15 INFO:HTTP Request: GET https://pypi.org/pypi/weaviate-client/json \"HTTP/1.1 200 OK\"\n",
      "01:41:15 INFO:HTTP Request: GET http://localhost:8080/v1/.well-known/openid-configuration \"HTTP/1.1 404 Not Found\"\n",
      "01:41:15 INFO:HTTP Request: GET http://localhost:8080/v1/meta \"HTTP/1.1 200 OK\"\n",
      "01:41:15 INFO:HTTP Request: GET https://pypi.org/pypi/weaviate-client/json \"HTTP/1.1 200 OK\"\n",
      "01:41:15 INFO:HTTP Request: GET http://localhost:8080/v1/.well-known/openid-configuration \"HTTP/1.1 404 Not Found\"\n",
      "01:41:15 INFO:HTTP Request: GET http://localhost:8080/v1/meta \"HTTP/1.1 200 OK\"\n",
      "01:41:15 INFO:HTTP Request: GET https://pypi.org/pypi/weaviate-client/json \"HTTP/1.1 200 OK\"\n",
      "01:41:15 INFO:HTTP Request: GET http://localhost:8080/v1/.well-known/openid-configuration \"HTTP/1.1 404 Not Found\"\n",
      "01:41:15 INFO:HTTP Request: GET http://localhost:8080/v1/meta \"HTTP/1.1 200 OK\"\n",
      "01:41:15 INFO:HTTP Request: GET https://pypi.org/pypi/weaviate-client/json \"HTTP/1.1 200 OK\"\n",
      "01:41:15 INFO:HTTP Request: GET http://localhost:8080/v1/.well-known/openid-configuration \"HTTP/1.1 404 Not Found\"\n",
      "01:41:15 INFO:HTTP Request: GET http://localhost:8080/v1/meta \"HTTP/1.1 200 OK\"\n",
      "01:41:15 INFO:HTTP Request: GET https://pypi.org/pypi/weaviate-client/json \"HTTP/1.1 200 OK\"\n",
      "01:41:15 INFO:HTTP Request: GET http://localhost:8080/v1/.well-known/openid-configuration \"HTTP/1.1 404 Not Found\"\n",
      "01:41:15 INFO:HTTP Request: GET http://localhost:8080/v1/meta \"HTTP/1.1 200 OK\"\n",
      "01:41:15 INFO:HTTP Request: GET https://pypi.org/pypi/weaviate-client/json \"HTTP/1.1 200 OK\"\n",
      "01:41:15 INFO:HTTP Request: GET http://localhost:8080/v1/.well-known/openid-configuration \"HTTP/1.1 404 Not Found\"\n",
      "01:41:15 INFO:HTTP Request: GET http://localhost:8080/v1/meta \"HTTP/1.1 200 OK\"\n",
      "01:41:15 INFO:HTTP Request: GET https://pypi.org/pypi/weaviate-client/json \"HTTP/1.1 200 OK\"\n",
      "01:41:15 INFO:HTTP Request: GET http://localhost:8080/v1/.well-known/openid-configuration \"HTTP/1.1 404 Not Found\"\n",
      "01:41:15 INFO:HTTP Request: GET http://localhost:8080/v1/meta \"HTTP/1.1 200 OK\"\n",
      "01:41:15 INFO:HTTP Request: GET https://pypi.org/pypi/weaviate-client/json \"HTTP/1.1 200 OK\"\n",
      "01:41:15 INFO:HTTP Request: GET http://localhost:8080/v1/.well-known/openid-configuration \"HTTP/1.1 404 Not Found\"\n",
      "01:41:15 INFO:HTTP Request: GET http://localhost:8080/v1/meta \"HTTP/1.1 200 OK\"\n",
      "01:41:15 INFO:HTTP Request: GET https://pypi.org/pypi/weaviate-client/json \"HTTP/1.1 200 OK\"\n",
      "01:41:15 INFO:HTTP Request: GET http://localhost:8080/v1/.well-known/openid-configuration \"HTTP/1.1 404 Not Found\"\n",
      "01:41:15 INFO:HTTP Request: GET http://localhost:8080/v1/meta \"HTTP/1.1 200 OK\"\n",
      "01:41:15 INFO:HTTP Request: GET https://pypi.org/pypi/weaviate-client/json \"HTTP/1.1 200 OK\"\n",
      "01:41:15 INFO:HTTP Request: GET http://localhost:8080/v1/.well-known/openid-configuration \"HTTP/1.1 404 Not Found\"\n",
      "01:41:15 INFO:HTTP Request: GET http://localhost:8080/v1/meta \"HTTP/1.1 200 OK\"\n",
      "01:41:15 INFO:HTTP Request: GET https://pypi.org/pypi/weaviate-client/json \"HTTP/1.1 200 OK\"\n",
      "01:41:15 INFO:HTTP Request: GET http://localhost:8080/v1/.well-known/openid-configuration \"HTTP/1.1 404 Not Found\"\n",
      "01:41:15 INFO:HTTP Request: GET http://localhost:8080/v1/meta \"HTTP/1.1 200 OK\"\n",
      "01:41:15 INFO:HTTP Request: GET https://pypi.org/pypi/weaviate-client/json \"HTTP/1.1 200 OK\"\n",
      "01:41:16 INFO:HTTP Request: GET http://localhost:8080/v1/.well-known/openid-configuration \"HTTP/1.1 404 Not Found\"\n",
      "01:41:16 INFO:HTTP Request: GET http://localhost:8080/v1/meta \"HTTP/1.1 200 OK\"\n",
      "01:41:16 INFO:HTTP Request: GET https://pypi.org/pypi/weaviate-client/json \"HTTP/1.1 200 OK\"\n",
      "01:41:16 INFO:HTTP Request: GET http://localhost:8080/v1/.well-known/openid-configuration \"HTTP/1.1 404 Not Found\"\n",
      "01:41:16 INFO:HTTP Request: GET http://localhost:8080/v1/meta \"HTTP/1.1 200 OK\"\n",
      "01:41:16 INFO:HTTP Request: GET https://pypi.org/pypi/weaviate-client/json \"HTTP/1.1 200 OK\"\n",
      "01:41:16 INFO:HTTP Request: GET http://localhost:8080/v1/.well-known/openid-configuration \"HTTP/1.1 404 Not Found\"\n",
      "01:41:16 INFO:HTTP Request: GET http://localhost:8080/v1/meta \"HTTP/1.1 200 OK\"\n",
      "01:41:16 INFO:HTTP Request: GET https://pypi.org/pypi/weaviate-client/json \"HTTP/1.1 200 OK\"\n",
      "01:41:16 INFO:HTTP Request: GET http://localhost:8080/v1/.well-known/openid-configuration \"HTTP/1.1 404 Not Found\"\n",
      "01:41:16 INFO:HTTP Request: GET http://localhost:8080/v1/meta \"HTTP/1.1 200 OK\"\n",
      "01:41:16 INFO:HTTP Request: GET https://pypi.org/pypi/weaviate-client/json \"HTTP/1.1 200 OK\"\n",
      "01:41:16 INFO:HTTP Request: GET http://localhost:8080/v1/.well-known/openid-configuration \"HTTP/1.1 404 Not Found\"\n",
      "01:41:16 INFO:HTTP Request: GET http://localhost:8080/v1/meta \"HTTP/1.1 200 OK\"\n",
      "01:41:16 INFO:HTTP Request: GET https://pypi.org/pypi/weaviate-client/json \"HTTP/1.1 200 OK\"\n",
      "01:41:16 INFO:HTTP Request: GET http://localhost:8080/v1/.well-known/openid-configuration \"HTTP/1.1 404 Not Found\"\n",
      "01:41:16 INFO:HTTP Request: GET http://localhost:8080/v1/meta \"HTTP/1.1 200 OK\"\n",
      "01:41:16 INFO:HTTP Request: GET https://pypi.org/pypi/weaviate-client/json \"HTTP/1.1 200 OK\"\n",
      "01:41:16 INFO:HTTP Request: GET http://localhost:8080/v1/.well-known/openid-configuration \"HTTP/1.1 404 Not Found\"\n",
      "01:41:16 INFO:HTTP Request: GET http://localhost:8080/v1/meta \"HTTP/1.1 200 OK\"\n",
      "01:41:16 INFO:HTTP Request: GET https://pypi.org/pypi/weaviate-client/json \"HTTP/1.1 200 OK\"\n",
      "01:41:16 INFO:HTTP Request: GET http://localhost:8080/v1/.well-known/openid-configuration \"HTTP/1.1 404 Not Found\"\n",
      "01:41:16 INFO:HTTP Request: GET http://localhost:8080/v1/meta \"HTTP/1.1 200 OK\"\n",
      "01:41:16 INFO:HTTP Request: GET https://pypi.org/pypi/weaviate-client/json \"HTTP/1.1 200 OK\"\n",
      "01:41:16 INFO:HTTP Request: GET http://localhost:8080/v1/.well-known/openid-configuration \"HTTP/1.1 404 Not Found\"\n",
      "01:41:16 INFO:HTTP Request: GET http://localhost:8080/v1/meta \"HTTP/1.1 200 OK\"\n",
      "01:41:16 INFO:HTTP Request: GET https://pypi.org/pypi/weaviate-client/json \"HTTP/1.1 200 OK\"\n",
      "01:41:16 INFO:HTTP Request: GET http://localhost:8080/v1/.well-known/openid-configuration \"HTTP/1.1 404 Not Found\"\n",
      "01:41:16 INFO:HTTP Request: GET http://localhost:8080/v1/meta \"HTTP/1.1 200 OK\"\n",
      "01:41:16 INFO:HTTP Request: GET https://pypi.org/pypi/weaviate-client/json \"HTTP/1.1 200 OK\"\n",
      "01:41:16 INFO:HTTP Request: GET http://localhost:8080/v1/.well-known/openid-configuration \"HTTP/1.1 404 Not Found\"\n",
      "01:41:16 INFO:HTTP Request: GET http://localhost:8080/v1/meta \"HTTP/1.1 200 OK\"\n",
      "01:41:16 INFO:HTTP Request: GET https://pypi.org/pypi/weaviate-client/json \"HTTP/1.1 200 OK\"\n",
      "01:41:16 INFO:HTTP Request: GET http://localhost:8080/v1/.well-known/openid-configuration \"HTTP/1.1 404 Not Found\"\n",
      "01:41:16 INFO:HTTP Request: GET http://localhost:8080/v1/meta \"HTTP/1.1 200 OK\"\n",
      "01:41:16 INFO:HTTP Request: GET https://pypi.org/pypi/weaviate-client/json \"HTTP/1.1 200 OK\"\n",
      "01:41:16 INFO:HTTP Request: GET http://localhost:8080/v1/.well-known/openid-configuration \"HTTP/1.1 404 Not Found\"\n",
      "01:41:16 INFO:HTTP Request: GET http://localhost:8080/v1/meta \"HTTP/1.1 200 OK\"\n",
      "01:41:16 INFO:HTTP Request: GET https://pypi.org/pypi/weaviate-client/json \"HTTP/1.1 200 OK\"\n",
      "01:41:16 INFO:HTTP Request: GET http://localhost:8080/v1/.well-known/openid-configuration \"HTTP/1.1 404 Not Found\"\n",
      "01:41:16 INFO:HTTP Request: GET http://localhost:8080/v1/meta \"HTTP/1.1 200 OK\"\n",
      "01:41:16 INFO:HTTP Request: GET https://pypi.org/pypi/weaviate-client/json \"HTTP/1.1 200 OK\"\n",
      "01:41:16 INFO:HTTP Request: GET http://localhost:8080/v1/.well-known/openid-configuration \"HTTP/1.1 404 Not Found\"\n",
      "01:41:16 INFO:HTTP Request: GET http://localhost:8080/v1/meta \"HTTP/1.1 200 OK\"\n",
      "01:41:16 INFO:HTTP Request: GET https://pypi.org/pypi/weaviate-client/json \"HTTP/1.1 200 OK\"\n",
      "01:41:16 INFO:HTTP Request: GET http://localhost:8080/v1/.well-known/openid-configuration \"HTTP/1.1 404 Not Found\"\n",
      "01:41:16 INFO:HTTP Request: GET http://localhost:8080/v1/meta \"HTTP/1.1 200 OK\"\n",
      "01:41:16 INFO:HTTP Request: GET https://pypi.org/pypi/weaviate-client/json \"HTTP/1.1 200 OK\"\n",
      "01:41:16 INFO:HTTP Request: GET http://localhost:8080/v1/.well-known/openid-configuration \"HTTP/1.1 404 Not Found\"\n",
      "01:41:16 INFO:HTTP Request: GET http://localhost:8080/v1/meta \"HTTP/1.1 200 OK\"\n",
      "01:41:16 INFO:HTTP Request: GET https://pypi.org/pypi/weaviate-client/json \"HTTP/1.1 200 OK\"\n",
      "01:41:16 INFO:HTTP Request: GET http://localhost:8080/v1/.well-known/openid-configuration \"HTTP/1.1 404 Not Found\"\n",
      "01:41:17 INFO:HTTP Request: GET http://localhost:8080/v1/meta \"HTTP/1.1 200 OK\"\n",
      "01:41:17 INFO:HTTP Request: GET https://pypi.org/pypi/weaviate-client/json \"HTTP/1.1 200 OK\"\n",
      "01:41:17 INFO:HTTP Request: GET http://localhost:8080/v1/.well-known/openid-configuration \"HTTP/1.1 404 Not Found\"\n",
      "01:41:17 INFO:HTTP Request: GET http://localhost:8080/v1/meta \"HTTP/1.1 200 OK\"\n",
      "01:41:17 INFO:HTTP Request: GET https://pypi.org/pypi/weaviate-client/json \"HTTP/1.1 200 OK\"\n",
      "01:41:17 INFO:HTTP Request: GET http://localhost:8080/v1/.well-known/openid-configuration \"HTTP/1.1 404 Not Found\"\n",
      "01:41:17 INFO:HTTP Request: GET http://localhost:8080/v1/meta \"HTTP/1.1 200 OK\"\n",
      "01:41:17 INFO:HTTP Request: GET https://pypi.org/pypi/weaviate-client/json \"HTTP/1.1 200 OK\"\n",
      "01:41:17 INFO:HTTP Request: GET http://localhost:8080/v1/.well-known/openid-configuration \"HTTP/1.1 404 Not Found\"\n",
      "01:41:17 INFO:HTTP Request: GET http://localhost:8080/v1/meta \"HTTP/1.1 200 OK\"\n",
      "01:41:17 INFO:HTTP Request: GET https://pypi.org/pypi/weaviate-client/json \"HTTP/1.1 200 OK\"\n",
      "01:41:17 INFO:HTTP Request: GET http://localhost:8080/v1/.well-known/openid-configuration \"HTTP/1.1 404 Not Found\"\n",
      "01:41:17 INFO:HTTP Request: GET http://localhost:8080/v1/meta \"HTTP/1.1 200 OK\"\n",
      "01:41:17 INFO:HTTP Request: GET https://pypi.org/pypi/weaviate-client/json \"HTTP/1.1 200 OK\"\n",
      "01:41:17 INFO:HTTP Request: GET http://localhost:8080/v1/.well-known/openid-configuration \"HTTP/1.1 404 Not Found\"\n",
      "01:41:17 INFO:HTTP Request: GET http://localhost:8080/v1/meta \"HTTP/1.1 200 OK\"\n",
      "01:41:17 INFO:HTTP Request: GET https://pypi.org/pypi/weaviate-client/json \"HTTP/1.1 200 OK\"\n",
      "01:41:17 INFO:HTTP Request: GET http://localhost:8080/v1/.well-known/openid-configuration \"HTTP/1.1 404 Not Found\"\n",
      "01:41:17 INFO:HTTP Request: GET http://localhost:8080/v1/meta \"HTTP/1.1 200 OK\"\n",
      "01:41:17 INFO:HTTP Request: GET https://pypi.org/pypi/weaviate-client/json \"HTTP/1.1 200 OK\"\n",
      "01:41:17 INFO:HTTP Request: GET http://localhost:8080/v1/.well-known/openid-configuration \"HTTP/1.1 404 Not Found\"\n",
      "01:41:17 INFO:HTTP Request: GET http://localhost:8080/v1/meta \"HTTP/1.1 200 OK\"\n",
      "01:41:17 INFO:HTTP Request: GET https://pypi.org/pypi/weaviate-client/json \"HTTP/1.1 200 OK\"\n",
      "01:41:17 INFO:HTTP Request: GET http://localhost:8080/v1/.well-known/openid-configuration \"HTTP/1.1 404 Not Found\"\n",
      "01:41:17 INFO:HTTP Request: GET http://localhost:8080/v1/meta \"HTTP/1.1 200 OK\"\n",
      "01:41:17 INFO:HTTP Request: GET https://pypi.org/pypi/weaviate-client/json \"HTTP/1.1 200 OK\"\n",
      "01:41:17 INFO:HTTP Request: GET http://localhost:8080/v1/.well-known/openid-configuration \"HTTP/1.1 404 Not Found\"\n",
      "01:41:17 INFO:HTTP Request: GET http://localhost:8080/v1/meta \"HTTP/1.1 200 OK\"\n",
      "01:41:17 INFO:HTTP Request: GET https://pypi.org/pypi/weaviate-client/json \"HTTP/1.1 200 OK\"\n",
      "01:41:17 INFO:HTTP Request: GET http://localhost:8080/v1/.well-known/openid-configuration \"HTTP/1.1 404 Not Found\"\n",
      "01:41:17 INFO:HTTP Request: GET http://localhost:8080/v1/meta \"HTTP/1.1 200 OK\"\n",
      "01:41:17 INFO:HTTP Request: GET https://pypi.org/pypi/weaviate-client/json \"HTTP/1.1 200 OK\"\n",
      "01:41:17 INFO:HTTP Request: GET http://localhost:8080/v1/.well-known/openid-configuration \"HTTP/1.1 404 Not Found\"\n",
      "01:41:17 INFO:HTTP Request: GET http://localhost:8080/v1/meta \"HTTP/1.1 200 OK\"\n",
      "01:41:17 INFO:HTTP Request: GET https://pypi.org/pypi/weaviate-client/json \"HTTP/1.1 200 OK\"\n",
      "01:41:17 INFO:HTTP Request: GET http://localhost:8080/v1/.well-known/openid-configuration \"HTTP/1.1 404 Not Found\"\n",
      "01:41:17 INFO:HTTP Request: GET http://localhost:8080/v1/meta \"HTTP/1.1 200 OK\"\n",
      "01:41:17 INFO:HTTP Request: GET https://pypi.org/pypi/weaviate-client/json \"HTTP/1.1 200 OK\"\n",
      "01:41:17 INFO:HTTP Request: GET http://localhost:8080/v1/.well-known/openid-configuration \"HTTP/1.1 404 Not Found\"\n",
      "01:41:17 INFO:HTTP Request: GET http://localhost:8080/v1/meta \"HTTP/1.1 200 OK\"\n",
      "01:41:17 INFO:HTTP Request: GET https://pypi.org/pypi/weaviate-client/json \"HTTP/1.1 200 OK\"\n",
      "01:41:17 INFO:HTTP Request: GET http://localhost:8080/v1/.well-known/openid-configuration \"HTTP/1.1 404 Not Found\"\n",
      "01:41:17 INFO:HTTP Request: GET http://localhost:8080/v1/meta \"HTTP/1.1 200 OK\"\n",
      "01:41:17 INFO:HTTP Request: GET https://pypi.org/pypi/weaviate-client/json \"HTTP/1.1 200 OK\"\n",
      "01:41:17 INFO:HTTP Request: GET http://localhost:8080/v1/.well-known/openid-configuration \"HTTP/1.1 404 Not Found\"\n",
      "01:41:17 INFO:HTTP Request: GET http://localhost:8080/v1/meta \"HTTP/1.1 200 OK\"\n",
      "01:41:17 INFO:HTTP Request: GET https://pypi.org/pypi/weaviate-client/json \"HTTP/1.1 200 OK\"\n",
      "01:41:18 INFO:HTTP Request: GET http://localhost:8080/v1/.well-known/openid-configuration \"HTTP/1.1 404 Not Found\"\n",
      "01:41:18 INFO:HTTP Request: GET http://localhost:8080/v1/meta \"HTTP/1.1 200 OK\"\n",
      "01:41:18 INFO:HTTP Request: GET https://pypi.org/pypi/weaviate-client/json \"HTTP/1.1 200 OK\"\n",
      "01:41:18 INFO:HTTP Request: GET http://localhost:8080/v1/.well-known/openid-configuration \"HTTP/1.1 404 Not Found\"\n",
      "01:41:18 INFO:HTTP Request: GET http://localhost:8080/v1/meta \"HTTP/1.1 200 OK\"\n",
      "01:41:18 INFO:HTTP Request: GET https://pypi.org/pypi/weaviate-client/json \"HTTP/1.1 200 OK\"\n",
      "01:41:18 INFO:HTTP Request: GET http://localhost:8080/v1/.well-known/openid-configuration \"HTTP/1.1 404 Not Found\"\n",
      "01:41:18 INFO:HTTP Request: GET http://localhost:8080/v1/meta \"HTTP/1.1 200 OK\"\n",
      "01:41:18 INFO:HTTP Request: GET https://pypi.org/pypi/weaviate-client/json \"HTTP/1.1 200 OK\"\n",
      "01:41:18 INFO:HTTP Request: GET http://localhost:8080/v1/.well-known/openid-configuration \"HTTP/1.1 404 Not Found\"\n",
      "01:41:18 INFO:HTTP Request: GET http://localhost:8080/v1/meta \"HTTP/1.1 200 OK\"\n",
      "01:41:18 INFO:HTTP Request: GET https://pypi.org/pypi/weaviate-client/json \"HTTP/1.1 200 OK\"\n",
      "01:41:18 INFO:HTTP Request: GET http://localhost:8080/v1/.well-known/openid-configuration \"HTTP/1.1 404 Not Found\"\n",
      "01:41:18 INFO:HTTP Request: GET http://localhost:8080/v1/meta \"HTTP/1.1 200 OK\"\n",
      "01:41:18 INFO:HTTP Request: GET https://pypi.org/pypi/weaviate-client/json \"HTTP/1.1 200 OK\"\n",
      "01:41:18 INFO:HTTP Request: GET http://localhost:8080/v1/.well-known/openid-configuration \"HTTP/1.1 404 Not Found\"\n",
      "01:41:18 INFO:HTTP Request: GET http://localhost:8080/v1/meta \"HTTP/1.1 200 OK\"\n",
      "01:41:18 INFO:HTTP Request: GET https://pypi.org/pypi/weaviate-client/json \"HTTP/1.1 200 OK\"\n",
      "01:41:18 INFO:HTTP Request: GET http://localhost:8080/v1/.well-known/openid-configuration \"HTTP/1.1 404 Not Found\"\n",
      "01:41:18 INFO:HTTP Request: GET http://localhost:8080/v1/meta \"HTTP/1.1 200 OK\"\n",
      "01:41:18 INFO:HTTP Request: GET https://pypi.org/pypi/weaviate-client/json \"HTTP/1.1 200 OK\"\n",
      "01:41:18 INFO:HTTP Request: GET http://localhost:8080/v1/.well-known/openid-configuration \"HTTP/1.1 404 Not Found\"\n",
      "01:41:18 INFO:HTTP Request: GET http://localhost:8080/v1/meta \"HTTP/1.1 200 OK\"\n",
      "01:41:18 INFO:HTTP Request: GET https://pypi.org/pypi/weaviate-client/json \"HTTP/1.1 200 OK\"\n",
      "01:41:18 INFO:HTTP Request: GET http://localhost:8080/v1/.well-known/openid-configuration \"HTTP/1.1 404 Not Found\"\n",
      "01:41:18 INFO:HTTP Request: GET http://localhost:8080/v1/meta \"HTTP/1.1 200 OK\"\n",
      "01:41:18 INFO:HTTP Request: GET https://pypi.org/pypi/weaviate-client/json \"HTTP/1.1 200 OK\"\n",
      "01:41:18 INFO:HTTP Request: GET http://localhost:8080/v1/.well-known/openid-configuration \"HTTP/1.1 404 Not Found\"\n",
      "01:41:18 INFO:HTTP Request: GET http://localhost:8080/v1/meta \"HTTP/1.1 200 OK\"\n",
      "01:41:18 INFO:HTTP Request: GET https://pypi.org/pypi/weaviate-client/json \"HTTP/1.1 200 OK\"\n",
      "01:41:18 INFO:HTTP Request: GET http://localhost:8080/v1/.well-known/openid-configuration \"HTTP/1.1 404 Not Found\"\n",
      "01:41:18 INFO:HTTP Request: GET http://localhost:8080/v1/meta \"HTTP/1.1 200 OK\"\n",
      "01:41:18 INFO:HTTP Request: GET https://pypi.org/pypi/weaviate-client/json \"HTTP/1.1 200 OK\"\n",
      "01:41:18 INFO:HTTP Request: GET http://localhost:8080/v1/.well-known/openid-configuration \"HTTP/1.1 404 Not Found\"\n",
      "01:41:18 INFO:HTTP Request: GET http://localhost:8080/v1/meta \"HTTP/1.1 200 OK\"\n",
      "01:41:18 INFO:HTTP Request: GET https://pypi.org/pypi/weaviate-client/json \"HTTP/1.1 200 OK\"\n",
      "01:41:18 INFO:HTTP Request: GET http://localhost:8080/v1/.well-known/openid-configuration \"HTTP/1.1 404 Not Found\"\n",
      "01:41:18 INFO:HTTP Request: GET http://localhost:8080/v1/meta \"HTTP/1.1 200 OK\"\n",
      "01:41:18 INFO:HTTP Request: GET https://pypi.org/pypi/weaviate-client/json \"HTTP/1.1 200 OK\"\n",
      "01:41:18 INFO:HTTP Request: GET http://localhost:8080/v1/.well-known/openid-configuration \"HTTP/1.1 404 Not Found\"\n",
      "01:41:18 INFO:HTTP Request: GET http://localhost:8080/v1/meta \"HTTP/1.1 200 OK\"\n",
      "01:41:18 INFO:HTTP Request: GET https://pypi.org/pypi/weaviate-client/json \"HTTP/1.1 200 OK\"\n",
      "01:41:18 INFO:HTTP Request: GET http://localhost:8080/v1/.well-known/openid-configuration \"HTTP/1.1 404 Not Found\"\n",
      "01:41:18 INFO:HTTP Request: GET http://localhost:8080/v1/meta \"HTTP/1.1 200 OK\"\n",
      "01:41:18 INFO:HTTP Request: GET https://pypi.org/pypi/weaviate-client/json \"HTTP/1.1 200 OK\"\n",
      "01:41:18 INFO:HTTP Request: GET http://localhost:8080/v1/.well-known/openid-configuration \"HTTP/1.1 404 Not Found\"\n",
      "01:41:18 INFO:HTTP Request: GET http://localhost:8080/v1/meta \"HTTP/1.1 200 OK\"\n",
      "01:41:18 INFO:HTTP Request: GET https://pypi.org/pypi/weaviate-client/json \"HTTP/1.1 200 OK\"\n",
      "01:41:18 INFO:HTTP Request: GET http://localhost:8080/v1/.well-known/openid-configuration \"HTTP/1.1 404 Not Found\"\n",
      "01:41:18 INFO:HTTP Request: GET http://localhost:8080/v1/meta \"HTTP/1.1 200 OK\"\n",
      "01:41:18 INFO:HTTP Request: GET https://pypi.org/pypi/weaviate-client/json \"HTTP/1.1 200 OK\"\n",
      "01:41:18 INFO:HTTP Request: GET http://localhost:8080/v1/.well-known/openid-configuration \"HTTP/1.1 404 Not Found\"\n",
      "01:41:18 INFO:HTTP Request: GET http://localhost:8080/v1/meta \"HTTP/1.1 200 OK\"\n",
      "01:41:18 INFO:HTTP Request: GET https://pypi.org/pypi/weaviate-client/json \"HTTP/1.1 200 OK\"\n",
      "01:41:18 INFO:HTTP Request: GET http://localhost:8080/v1/.well-known/openid-configuration \"HTTP/1.1 404 Not Found\"\n",
      "01:41:18 INFO:HTTP Request: GET http://localhost:8080/v1/meta \"HTTP/1.1 200 OK\"\n",
      "01:41:18 INFO:HTTP Request: GET https://pypi.org/pypi/weaviate-client/json \"HTTP/1.1 200 OK\"\n",
      "01:41:19 INFO:HTTP Request: GET http://localhost:8080/v1/.well-known/openid-configuration \"HTTP/1.1 404 Not Found\"\n",
      "01:41:19 INFO:HTTP Request: GET http://localhost:8080/v1/meta \"HTTP/1.1 200 OK\"\n",
      "01:41:19 INFO:HTTP Request: GET https://pypi.org/pypi/weaviate-client/json \"HTTP/1.1 200 OK\"\n",
      "01:41:19 INFO:HTTP Request: GET http://localhost:8080/v1/.well-known/openid-configuration \"HTTP/1.1 404 Not Found\"\n",
      "01:41:19 INFO:HTTP Request: GET http://localhost:8080/v1/meta \"HTTP/1.1 200 OK\"\n",
      "01:41:19 INFO:HTTP Request: GET https://pypi.org/pypi/weaviate-client/json \"HTTP/1.1 200 OK\"\n",
      "01:41:19 INFO:HTTP Request: GET http://localhost:8080/v1/.well-known/openid-configuration \"HTTP/1.1 404 Not Found\"\n",
      "01:41:19 INFO:HTTP Request: GET http://localhost:8080/v1/meta \"HTTP/1.1 200 OK\"\n",
      "01:41:19 INFO:HTTP Request: GET https://pypi.org/pypi/weaviate-client/json \"HTTP/1.1 200 OK\"\n",
      "01:41:19 INFO:HTTP Request: GET http://localhost:8080/v1/.well-known/openid-configuration \"HTTP/1.1 404 Not Found\"\n",
      "01:41:19 INFO:HTTP Request: GET http://localhost:8080/v1/meta \"HTTP/1.1 200 OK\"\n",
      "01:41:19 INFO:HTTP Request: GET https://pypi.org/pypi/weaviate-client/json \"HTTP/1.1 200 OK\"\n",
      "01:41:19 INFO:HTTP Request: GET http://localhost:8080/v1/.well-known/openid-configuration \"HTTP/1.1 404 Not Found\"\n",
      "01:41:19 INFO:HTTP Request: GET http://localhost:8080/v1/meta \"HTTP/1.1 200 OK\"\n",
      "01:41:19 INFO:HTTP Request: GET https://pypi.org/pypi/weaviate-client/json \"HTTP/1.1 200 OK\"\n",
      "01:41:19 INFO:HTTP Request: GET http://localhost:8080/v1/.well-known/openid-configuration \"HTTP/1.1 404 Not Found\"\n",
      "01:41:19 INFO:HTTP Request: GET http://localhost:8080/v1/meta \"HTTP/1.1 200 OK\"\n",
      "01:41:19 INFO:HTTP Request: GET https://pypi.org/pypi/weaviate-client/json \"HTTP/1.1 200 OK\"\n",
      "01:41:19 INFO:HTTP Request: GET http://localhost:8080/v1/.well-known/openid-configuration \"HTTP/1.1 404 Not Found\"\n",
      "01:41:19 INFO:HTTP Request: GET http://localhost:8080/v1/meta \"HTTP/1.1 200 OK\"\n",
      "01:41:19 INFO:HTTP Request: GET https://pypi.org/pypi/weaviate-client/json \"HTTP/1.1 200 OK\"\n",
      "01:41:19 INFO:HTTP Request: GET http://localhost:8080/v1/.well-known/openid-configuration \"HTTP/1.1 404 Not Found\"\n",
      "01:41:19 INFO:HTTP Request: GET http://localhost:8080/v1/meta \"HTTP/1.1 200 OK\"\n",
      "01:41:19 INFO:HTTP Request: GET https://pypi.org/pypi/weaviate-client/json \"HTTP/1.1 200 OK\"\n",
      "01:41:19 INFO:HTTP Request: GET http://localhost:8080/v1/.well-known/openid-configuration \"HTTP/1.1 404 Not Found\"\n",
      "01:41:19 INFO:HTTP Request: GET http://localhost:8080/v1/meta \"HTTP/1.1 200 OK\"\n",
      "01:41:19 INFO:HTTP Request: GET https://pypi.org/pypi/weaviate-client/json \"HTTP/1.1 200 OK\"\n",
      "01:41:19 INFO:HTTP Request: GET http://localhost:8080/v1/.well-known/openid-configuration \"HTTP/1.1 404 Not Found\"\n",
      "01:41:19 INFO:HTTP Request: GET http://localhost:8080/v1/meta \"HTTP/1.1 200 OK\"\n",
      "01:41:19 INFO:HTTP Request: GET https://pypi.org/pypi/weaviate-client/json \"HTTP/1.1 200 OK\"\n",
      "01:41:19 INFO:HTTP Request: GET http://localhost:8080/v1/.well-known/openid-configuration \"HTTP/1.1 404 Not Found\"\n",
      "01:41:19 INFO:HTTP Request: GET http://localhost:8080/v1/meta \"HTTP/1.1 200 OK\"\n",
      "01:41:19 INFO:HTTP Request: GET https://pypi.org/pypi/weaviate-client/json \"HTTP/1.1 200 OK\"\n",
      "01:41:19 INFO:HTTP Request: GET http://localhost:8080/v1/.well-known/openid-configuration \"HTTP/1.1 404 Not Found\"\n",
      "01:41:19 INFO:HTTP Request: GET http://localhost:8080/v1/meta \"HTTP/1.1 200 OK\"\n",
      "01:41:19 INFO:HTTP Request: GET https://pypi.org/pypi/weaviate-client/json \"HTTP/1.1 200 OK\"\n",
      "01:41:19 INFO:HTTP Request: GET http://localhost:8080/v1/.well-known/openid-configuration \"HTTP/1.1 404 Not Found\"\n",
      "01:41:19 INFO:HTTP Request: GET http://localhost:8080/v1/meta \"HTTP/1.1 200 OK\"\n",
      "01:41:19 INFO:HTTP Request: GET https://pypi.org/pypi/weaviate-client/json \"HTTP/1.1 200 OK\"\n",
      "01:41:19 INFO:HTTP Request: GET http://localhost:8080/v1/.well-known/openid-configuration \"HTTP/1.1 404 Not Found\"\n",
      "01:41:19 INFO:HTTP Request: GET http://localhost:8080/v1/meta \"HTTP/1.1 200 OK\"\n",
      "01:41:19 INFO:HTTP Request: GET https://pypi.org/pypi/weaviate-client/json \"HTTP/1.1 200 OK\"\n",
      "01:41:19 INFO:HTTP Request: GET http://localhost:8080/v1/.well-known/openid-configuration \"HTTP/1.1 404 Not Found\"\n",
      "01:41:19 INFO:HTTP Request: GET http://localhost:8080/v1/meta \"HTTP/1.1 200 OK\"\n",
      "01:41:19 INFO:HTTP Request: GET https://pypi.org/pypi/weaviate-client/json \"HTTP/1.1 200 OK\"\n",
      "01:41:19 INFO:HTTP Request: GET http://localhost:8080/v1/.well-known/openid-configuration \"HTTP/1.1 404 Not Found\"\n",
      "01:41:19 INFO:HTTP Request: GET http://localhost:8080/v1/meta \"HTTP/1.1 200 OK\"\n",
      "01:41:19 INFO:HTTP Request: GET https://pypi.org/pypi/weaviate-client/json \"HTTP/1.1 200 OK\"\n",
      "01:41:20 INFO:HTTP Request: GET http://localhost:8080/v1/.well-known/openid-configuration \"HTTP/1.1 404 Not Found\"\n",
      "01:41:20 INFO:HTTP Request: GET http://localhost:8080/v1/meta \"HTTP/1.1 200 OK\"\n",
      "01:41:20 INFO:HTTP Request: GET https://pypi.org/pypi/weaviate-client/json \"HTTP/1.1 200 OK\"\n",
      "01:41:20 INFO:HTTP Request: GET http://localhost:8080/v1/.well-known/openid-configuration \"HTTP/1.1 404 Not Found\"\n",
      "01:41:20 INFO:HTTP Request: GET http://localhost:8080/v1/meta \"HTTP/1.1 200 OK\"\n",
      "01:41:20 INFO:HTTP Request: GET https://pypi.org/pypi/weaviate-client/json \"HTTP/1.1 200 OK\"\n",
      "01:41:20 INFO:HTTP Request: GET http://localhost:8080/v1/.well-known/openid-configuration \"HTTP/1.1 404 Not Found\"\n",
      "01:41:20 INFO:HTTP Request: GET http://localhost:8080/v1/meta \"HTTP/1.1 200 OK\"\n",
      "01:41:20 INFO:HTTP Request: GET https://pypi.org/pypi/weaviate-client/json \"HTTP/1.1 200 OK\"\n",
      "01:41:20 INFO:HTTP Request: GET http://localhost:8080/v1/.well-known/openid-configuration \"HTTP/1.1 404 Not Found\"\n",
      "01:41:20 INFO:HTTP Request: GET http://localhost:8080/v1/meta \"HTTP/1.1 200 OK\"\n",
      "01:41:20 INFO:HTTP Request: GET https://pypi.org/pypi/weaviate-client/json \"HTTP/1.1 200 OK\"\n",
      "01:41:20 INFO:HTTP Request: GET http://localhost:8080/v1/.well-known/openid-configuration \"HTTP/1.1 404 Not Found\"\n",
      "01:41:20 INFO:HTTP Request: GET http://localhost:8080/v1/meta \"HTTP/1.1 200 OK\"\n",
      "01:41:20 INFO:HTTP Request: GET https://pypi.org/pypi/weaviate-client/json \"HTTP/1.1 200 OK\"\n",
      "01:41:20 INFO:HTTP Request: GET http://localhost:8080/v1/.well-known/openid-configuration \"HTTP/1.1 404 Not Found\"\n",
      "01:41:20 INFO:HTTP Request: GET http://localhost:8080/v1/meta \"HTTP/1.1 200 OK\"\n",
      "01:41:20 INFO:HTTP Request: GET https://pypi.org/pypi/weaviate-client/json \"HTTP/1.1 200 OK\"\n"
     ]
    },
    {
     "name": "stdout",
     "output_type": "stream",
     "text": [
      "Total Datapoints in the neighborhoods = 490\n",
      "Distance Info: Max = 0.4341684579849243 | Min = -1.0728836059570312e-06 | Average = 0.13021429022964165\n",
      "UMAP( verbose=True)\n",
      "Thu Jun  6 13:41:20 2024 Construct fuzzy simplicial set\n",
      "Thu Jun  6 13:41:20 2024 Finding Nearest Neighbors\n",
      "Thu Jun  6 13:41:21 2024 Finished Nearest Neighbor Search\n",
      "Thu Jun  6 13:41:22 2024 Construct embedding\n"
     ]
    },
    {
     "data": {
      "application/vnd.jupyter.widget-view+json": {
       "model_id": "359fe3f4dba94c2581502fc7d734c335",
       "version_major": 2,
       "version_minor": 0
      },
      "text/plain": [
       "Epochs completed:   0%|            0/500 [00:00]"
      ]
     },
     "metadata": {},
     "output_type": "display_data"
    },
    {
     "name": "stdout",
     "output_type": "stream",
     "text": [
      "\tcompleted  0  /  500 epochs\n",
      "\tcompleted  50  /  500 epochs\n",
      "\tcompleted  100  /  500 epochs\n",
      "\tcompleted  150  /  500 epochs\n",
      "\tcompleted  200  /  500 epochs\n",
      "\tcompleted  250  /  500 epochs\n",
      "\tcompleted  300  /  500 epochs\n",
      "\tcompleted  350  /  500 epochs\n",
      "\tcompleted  400  /  500 epochs\n",
      "\tcompleted  450  /  500 epochs\n",
      "Thu Jun  6 13:41:24 2024 Finished embedding\n",
      "(588, 2)\n"
     ]
    }
   ],
   "source": [
    "import statistics\n",
    "def get_corpus_with_neighborhoods(collection, corpus, k_neighbors):\n",
    "    all_neighbors = []\n",
    "    all_distances = []\n",
    "    for p in corpus.passages:\n",
    "        neighbors = db.query_vector_neighbors(collection, vector=p.embedding, k_neighbors=k_neighbors)\n",
    "        for passage, distance in neighbors:\n",
    "            all_neighbors.append(passage)\n",
    "            all_distances.append(distance)\n",
    "    print(f\"Total Datapoints in the neighborhoods = {len(all_neighbors)}\")\n",
    "    print(f\"Distance Info: Max = {max(all_distances)} | Min = {min(all_distances)} | Average = {statistics.mean(all_distances)}\")\n",
    "    # Join original passages + new found neighbors\n",
    "    all_passages = corpus.passages + all_neighbors\n",
    "    corpus = Corpus(all_passages)\n",
    "    corpus.embeddings = db.compress_embeddings(corpus)\n",
    "    print(corpus.embeddings.shape)\n",
    "    return corpus\n",
    "\n",
    "corpus = get_corpus_with_neighborhoods(collection, corpus, k_neighbors=widget_neighbors.value)"
   ]
  },
  {
   "cell_type": "markdown",
   "metadata": {},
   "source": [
    "## Cluster the Corpus"
   ]
  },
  {
   "cell_type": "markdown",
   "metadata": {},
   "source": [
    "### Choose Minimum Cluster Size"
   ]
  },
  {
   "cell_type": "code",
   "execution_count": 13,
   "metadata": {},
   "outputs": [],
   "source": [
    "min_cluster_size_widget = widgets.IntSlider(\n",
    "    value=10,\n",
    "    min=5,\n",
    "    max=len(corpus)//2,\n",
    "    step=1,\n",
    "    description='Minimum Cluster Size:',\n",
    "    disabled=False,\n",
    "    continuous_update=False,\n",
    "    orientation='horizontal',\n",
    "    readout=True,\n",
    "    readout_format='d',\n",
    "    style={'description_width': 'initial'}\n",
    ")\n"
   ]
  },
  {
   "cell_type": "code",
   "execution_count": 14,
   "metadata": {},
   "outputs": [
    {
     "data": {
      "application/vnd.jupyter.widget-view+json": {
       "model_id": "dd0be7ee95434a9faa46e3d73ae2bdd0",
       "version_major": 2,
       "version_minor": 0
      },
      "text/plain": [
       "IntSlider(value=10, continuous_update=False, description='Minimum Cluster Size:', max=294, min=5, style=Slider…"
      ]
     },
     "execution_count": 14,
     "metadata": {},
     "output_type": "execute_result"
    }
   ],
   "source": [
    "min_cluster_size_widget"
   ]
  },
  {
   "cell_type": "markdown",
   "metadata": {},
   "source": [
    "### Execute Clustering"
   ]
  },
  {
   "cell_type": "code",
   "execution_count": 15,
   "metadata": {},
   "outputs": [
    {
     "name": "stdout",
     "output_type": "stream",
     "text": [
      "Found 46 clusters in the corpus. (min cluster size is 10)\n",
      "14 Subcorpus(5, [0, 54, 98, 99, 105, 106, 110, 111, 355, 356])\n",
      "12 Subcorpus(10, [1, 53, 100, 101, 103, 104, 112, 357, 363, 364])\n",
      "10 Subcorpus(4, [2, 51, 102, 107, 108, 109, 353, 354, 367, 372])\n",
      "14 Subcorpus(0, [3, 52, 113, 114, 117, 120, 121, 122, 350, 351])\n",
      "10 Subcorpus(32, [4, 50, 115, 116, 118, 119, 348, 349, 360, 361])\n",
      "10 Subcorpus(8, [5, 49, 123, 124, 136, 137, 343, 344, 406, 407])\n",
      "12 Subcorpus(17, [6, 58, 128, 129, 130, 131, 132, 388, 389, 390])\n",
      "16 Subcorpus(20, [7, 61, 125, 126, 127, 133, 134, 135, 317, 345])\n",
      "14 Subcorpus(29, [8, 57, 138, 139, 142, 145, 146, 147, 383, 384])\n",
      "16 Subcorpus(41, [9, 60, 140, 141, 143, 144, 152, 162, 312, 385])\n",
      "14 Subcorpus(39, [10, 62, 148, 149, 160, 161, 225, 227, 395, 396])\n",
      "10 Subcorpus(36, [11, 56, 153, 154, 155, 157, 378, 379, 380, 382])\n",
      "10 Subcorpus(44, [12, 59, 150, 151, 158, 159, 393, 394, 410, 411])\n",
      "12 Subcorpus(28, [13, 55, 163, 164, 165, 166, 167, 373, 374, 375])\n",
      "12 Subcorpus(38, [14, 65, 168, 169, 175, 176, 187, 423, 424, 430])\n",
      "16 Subcorpus(1, [15, 66, 170, 171, 173, 174, 182, 185, 186, 422])\n",
      "16 Subcorpus(-1, [16, 25, 64, 71, 178, 179, 223, 224, 226, 289])\n",
      "14 Subcorpus(12, [17, 67, 172, 177, 180, 181, 183, 184, 420, 421])\n",
      "10 Subcorpus(9, [18, 63, 188, 189, 197, 202, 413, 414, 452, 462])\n",
      "12 Subcorpus(26, [19, 72, 192, 193, 194, 200, 201, 417, 450, 451])\n",
      "14 Subcorpus(21, [20, 70, 190, 191, 195, 196, 198, 199, 415, 416])\n",
      "14 Subcorpus(30, [21, 36, 74, 87, 203, 204, 278, 279, 297, 468])\n",
      "16 Subcorpus(22, [22, 69, 205, 206, 208, 209, 217, 220, 221, 443])\n",
      "24 Subcorpus(31, [23, 38, 73, 85, 207, 210, 211, 213, 214, 222])\n",
      "10 Subcorpus(15, [24, 75, 212, 218, 219, 232, 442, 447, 473, 474])\n",
      "10 Subcorpus(25, [26, 68, 215, 216, 228, 229, 438, 439, 465, 466])\n",
      "12 Subcorpus(37, [27, 78, 156, 233, 234, 235, 237, 381, 488, 489])\n",
      "10 Subcorpus(23, [28, 79, 238, 239, 240, 241, 493, 494, 495, 496])\n",
      "14 Subcorpus(11, [29, 82, 242, 243, 244, 245, 246, 247, 497, 508])\n",
      "12 Subcorpus(13, [30, 77, 248, 249, 250, 251, 252, 483, 484, 485])\n",
      "10 Subcorpus(19, [31, 81, 253, 254, 260, 261, 500, 501, 503, 504])\n",
      "14 Subcorpus(2, [32, 80, 255, 256, 257, 258, 259, 262, 498, 499])\n",
      "12 Subcorpus(18, [33, 83, 263, 264, 265, 266, 267, 513, 514, 515])\n",
      "10 Subcorpus(24, [34, 76, 268, 269, 275, 276, 478, 479, 555, 556])\n",
      "12 Subcorpus(27, [35, 91, 270, 271, 273, 274, 277, 480, 481, 553])\n",
      "16 Subcorpus(7, [37, 89, 282, 283, 284, 290, 291, 295, 296, 525])\n",
      "16 Subcorpus(3, [39, 88, 280, 281, 285, 286, 292, 293, 294, 527])\n",
      "10 Subcorpus(34, [40, 86, 298, 299, 305, 306, 528, 529, 550, 551])\n",
      "10 Subcorpus(14, [41, 90, 300, 301, 303, 304, 530, 531, 548, 549])\n",
      "12 Subcorpus(40, [42, 84, 236, 308, 309, 315, 316, 491, 518, 519])\n",
      "10 Subcorpus(16, [43, 94, 310, 311, 313, 314, 520, 521, 568, 569])\n",
      "10 Subcorpus(6, [44, 96, 318, 319, 326, 327, 566, 567, 578, 579])\n",
      "18 Subcorpus(43, [45, 93, 302, 307, 320, 321, 322, 323, 324, 325])\n",
      "18 Subcorpus(35, [46, 95, 272, 328, 329, 330, 331, 332, 337, 342])\n",
      "10 Subcorpus(42, [47, 97, 333, 334, 340, 341, 560, 561, 583, 584])\n",
      "10 Subcorpus(33, [48, 92, 335, 336, 338, 339, 558, 559, 585, 586])\n"
     ]
    }
   ],
   "source": [
    "# Arguments: min_cluster_size=10, cluster_selection_epsilon=0.1, ...\n",
    "# See https://scikit-learn.org/stable/modules/generated/sklearn.cluster.HDBSCAN.html for full list\n",
    "\n",
    "# e.g. min_samples=10, cluster_selection_epsilon=0.2, cluster_selection_method=\"leaf\"\n",
    "clusters = corpus.cluster(min_cluster_size=min_cluster_size_widget.value, cluster_selection_epsilon=0.1)\n",
    "print(f\"Found {len(clusters)} clusters in the corpus. (min cluster size is {min_cluster_size_widget.value})\")\n",
    "\n",
    "if len(clusters) > 100:\n",
    "    raise ValueError(\"Seems like you have too many clusters! Try with a bigger value for min_cluster_size to avoid memory issues\")\n",
    "\n",
    "for c in clusters:\n",
    "    print(len(c.passages), c)"
   ]
  },
  {
   "cell_type": "markdown",
   "metadata": {},
   "source": [
    "### Load Stopwords to avoid including them in the Cluster Labels"
   ]
  },
  {
   "cell_type": "code",
   "execution_count": 16,
   "metadata": {},
   "outputs": [],
   "source": [
    "stopwords_file = Path(\"stopwords-filter-nl.txt\")\n",
    "\n",
    "with open(stopwords_file.absolute(), \"rt\") as f:\n",
    "    stopwords = set(f.read().splitlines())\n",
    "\n",
    "stopwords.update(\n",
    "    {\n",
    "        \"wij\",\n",
    "        \"we\",\n",
    "        \"moeten\",\n",
    "        \"heer\",\n",
    "        \"mevrouw\",\n",
    "        \"minister\",\n",
    "        \"voorzitter\",\n",
    "        \"gaat\",\n",
    "        \"wel\",\n",
    "        \"den\",\n",
    "    }\n",
    ")\n",
    "\n",
    "%autoreload now"
   ]
  },
  {
   "cell_type": "markdown",
   "metadata": {},
   "source": [
    "### Save Cluster Passages for inspection"
   ]
  },
  {
   "cell_type": "code",
   "execution_count": 17,
   "metadata": {},
   "outputs": [
    {
     "name": "stdout",
     "output_type": "stream",
     "text": [
      "Subcorpus('antillen; iiecht; mogelijk; samenwerkingsverband; ydit', [0, 54, 98, 99, 105, 106, 110, 111, 355, 356])\n",
      "Subcorpus('antillen; antilliaanse; gezegd; jaàtgt; ldit', [1, 53, 100, 101, 103, 104, 112, 357, 363, 364])\n",
      "Subcorpus('1730; dumv; hecht; krijgen; nederlandse', [2, 51, 102, 107, 108, 109, 353, 354, 367, 372])\n",
      "Subcorpus('dalende; durft; regets; weinig; zeggen', [3, 52, 113, 114, 117, 120, 121, 122, 350, 351])\n",
      "Subcorpus('anp; dalende; kansen; odder; olieprijs', [4, 50, 115, 116, 118, 119, 348, 349, 360, 361])\n",
      "Subcorpus('afhankelijk; laag; rente; vereist; wereldeconomi', [5, 49, 123, 124, 136, 137, 343, 344, 406, 407])\n",
      "Subcorpus('belgrado; financiële; gepleit; lubbers; premier', [6, 58, 128, 129, 130, 131, 132, 388, 389, 390])\n",
      "Subcorpus('hand; opleven; stabiel; termijn; wisselkoersen', [7, 61, 125, 126, 127, 133, 134, 135, 317, 345])\n",
      "Subcorpus('bank; belemmering; grootste; hoge; verenigde', [8, 57, 138, 139, 142, 145, 146, 147, 383, 384])\n",
      "Subcorpus('banken; betalingsregelingen; merkt; onderling; vormen', [9, 60, 140, 141, 143, 144, 152, 162, 312, 385])\n",
      "Subcorpus('advisereb; afzonderlijke; goede; schip; verschillende', [10, 62, 148, 149, 160, 161, 225, 227, 395, 396])\n",
      "Subcorpus('gedragen; samengewerkt; ser; vijand; vinden', [11, 56, 153, 154, 155, 157, 378, 379, 380, 382])\n",
      "Subcorpus('adviseret; economiën; eshcr; qndeherp; verschil', [12, 59, 150, 151, 158, 159, 393, 394, 410, 411])\n",
      "Subcorpus('aannemers; bouwnijverheid; enquête; grond; leden', [13, 55, 163, 164, 165, 166, 167, 373, 374, 375])\n",
      "Subcorpus('2pbcent; architectenbureaus; bouw; jaar; tien', [14, 65, 168, 169, 175, 176, 187, 423, 424, 430])\n",
      "Subcorpus('aanvragen; architectenbureaus; duiden; jacr; éffocent', [15, 66, 170, 171, 173, 174, 182, 185, 186, 422])\n",
      "Subcorpus('Outliers', [16, 25, 64, 71, 178, 179, 223, 224, 226, 289])\n",
      "Subcorpus('aïmivragfin; buuwutdruuimincfciy; ikmi; jaar; nnnfnl', [17, 67, 172, 177, 180, 181, 183, 184, 420, 421])\n",
      "Subcorpus('aangepast; miljoen; ontwikhéling; rijkswegen; toeslag', [18, 63, 188, 189, 197, 202, 413, 414, 452, 462])\n",
      "Subcorpus('gulden; laatste; rijkswegen; toeslag; verhoogd', [19, 72, 192, 193, 194, 200, 201, 417, 450, 451])\n",
      "Subcorpus('aangepast; beschikbaar; gulden; laatste; regeis', [20, 70, 190, 191, 195, 196, 198, 199, 415, 416])\n",
      "Subcorpus('aul; daarbij; dsm; prubl; voorletter', [21, 36, 74, 87, 203, 204, 278, 279, 297, 468])\n",
      "Subcorpus('hul; juen; mel; stiuvgji; tir', [22, 69, 205, 206, 208, 209, 217, 220, 221, 443])\n",
      "Subcorpus('inte; ovefheden; pïoblemmi; rna; zui', [23, 38, 73, 85, 207, 210, 211, 213, 214, 222])\n",
      "Subcorpus('internals; len; problemen; voordoen; zul', [24, 75, 212, 218, 219, 232, 442, 447, 473, 474])\n",
      "Subcorpus('hamatlm; handew; imf; overheden; produktie', [26, 68, 215, 216, 228, 229, 438, 439, 465, 466])\n",
      "Subcorpus('heid; investe3; mening; ogenblik; vraagt', [27, 78, 156, 233, 234, 235, 237, 381, 488, 489])\n",
      "Subcorpus('bestandf; libanese; ministers; partijen; staat', [28, 79, 238, 239, 240, 241, 493, 494, 495, 496])\n",
      "Subcorpus('betrokken; herspeld; libanon; soevereiniteit; sturen', [29, 82, 242, 243, 244, 245, 246, 247, 497, 508])\n",
      "Subcorpus('jumblatt; libanese; ren; verkla; zullen', [30, 77, 248, 249, 250, 251, 252, 483, 484, 485])\n",
      "Subcorpus('deleaties; eenheidyen; instemmen; mee; tzojuist', [31, 81, 253, 254, 260, 261, 500, 501, 503, 504])\n",
      "Subcorpus('beiroet; conferentie; morgen; sibwwat; zojuist', [32, 80, 255, 256, 257, 258, 259, 262, 498, 499])\n",
      "Subcorpus('ambtgenoot; assad; diolomaten; menen; syrische', [33, 83, 263, 264, 265, 266, 267, 513, 514, 515])\n",
      "Subcorpus('ekonómie; konferehtie; organisatie; samei; volgende', [34, 76, 268, 269, 275, 276, 478, 479, 555, 556])\n",
      "Subcorpus('3hp; aioe; ekonmmie; organisatie; vraag', [35, 91, 270, 271, 273, 274, 277, 480, 481, 553])\n",
      "Subcorpus('concern; dsm; raad; voortttter; wijst', [37, 89, 282, 283, 284, 290, 291, 295, 296, 525])\n",
      "Subcorpus('dsm; jaarcijfers; mogelijke; omslag; voorlttter', [39, 88, 280, 281, 285, 286, 292, 293, 294, 527])\n",
      "Subcorpus('gesteld; landen; moe; rentie; teruggedrongen', [40, 86, 298, 299, 305, 306, 528, 529, 550, 551])\n",
      "Subcorpus('hebbe; landen; moe; pas; rentie', [41, 90, 300, 301, 303, 304, 530, 531, 548, 549])\n",
      "Subcorpus('belancrrijkste; economie; financien; noodzakelijk; oassen', [42, 84, 236, 308, 309, 315, 316, 491, 518, 519])\n",
      "Subcorpus('economie; financien; nassen; noodzakelijk; volaens', [43, 94, 310, 311, 313, 314, 520, 521, 568, 569])\n",
      "Subcorpus('invoerrechten; jhédt; nemen; puding; stappen', [44, 96, 318, 319, 326, 327, 566, 567, 578, 579])\n",
      "Subcorpus('datfde; financiën; hoog; landen; verklaarde', [45, 93, 302, 307, 320, 321, 322, 323, 324, 325])\n",
      "Subcorpus('economische; halfjaarlijkse; oeso; organisatie; samenwerking', [46, 95, 272, 328, 329, 330, 331, 332, 337, 342])\n",
      "Subcorpus('ceso; mcr; tel; tets; ven', [47, 97, 333, 334, 340, 341, 560, 561, 583, 584])\n",
      "Subcorpus('bedragen; gend; hetstel; oeso; saturn', [48, 92, 335, 336, 338, 339, 558, 559, 585, 586])\n"
     ]
    },
    {
     "name": "stderr",
     "output_type": "stream",
     "text": [
      "/Users/jose/Repos/tempo-embeddings/.venv/lib/python3.9/site-packages/sklearn/feature_extraction/text.py:525: UserWarning: The parameter 'token_pattern' will not be used since 'tokenizer' is not None'\n",
      "  warnings.warn(\n"
     ]
    }
   ],
   "source": [
    "import os\n",
    "if not os.path.exists(\"clusters\"): \n",
    "    os.makedirs(\"clusters\")\n",
    "\n",
    "selected_metadata = [\"year\"]\n",
    "\n",
    "all_clusters_records, df_cluster_labels, df_cluster_meta = [], [], []\n",
    "for cluster in clusters:\n",
    "    cluster.set_topic_label(exclude_words=frozenset(stopwords | set(FILTER_TERMS)), n=5)\n",
    "    df = cluster.to_dataframe()\n",
    "    centroid = cluster.centroid()\n",
    "    label = cluster.label\n",
    "    cluster_size = len(cluster.passages)\n",
    "    # Compute Cluster Stats as a Subcorpus\n",
    "    top_words = \" \".join(cluster.top_words(exclude_words=frozenset(stopwords | set(FILTER_TERMS)), n=10))\n",
    "    all_clusters_records.append((f\"{label}\\t{cluster_size}\\t{centroid}\\t{top_words}\\n\"))\n",
    "    df_cluster_labels.append(cluster.label)\n",
    "    df_cluster_meta.append(df[selected_metadata])\n",
    "    # Save the Cluster Passages in a File\n",
    "    file_prefix = f\"cluster_{year_from}_{year_to}_{cluster.label.replace('; ', '_')}\"\n",
    "    df.to_csv(f\"clusters/{file_prefix}.tsv\", sep=\"\\t\", index=False) \n",
    "    print(cluster)"
   ]
  },
  {
   "cell_type": "code",
   "execution_count": 18,
   "metadata": {},
   "outputs": [],
   "source": [
    "with open(f\"clusters/clusters_all_{year_from}_{year_to}.csv\", \"wt\") as f:\n",
    "    f.write(\"Label\\tSize\\tCentroid\\tTopWords\\n\")\n",
    "    for rec in all_clusters_records:\n",
    "        f.write(rec)"
   ]
  },
  {
   "cell_type": "markdown",
   "metadata": {},
   "source": [
    "### Plot Cluster Content Distributions"
   ]
  },
  {
   "cell_type": "code",
   "execution_count": 19,
   "metadata": {},
   "outputs": [
    {
     "name": "stderr",
     "output_type": "stream",
     "text": [
      "/Users/jose/Repos/tempo-embeddings/.venv/lib/python3.9/site-packages/ipywidgets/widgets/interaction.py:43: DeprecationWarning: `ipykernel.pylab.backend_inline` is deprecated, directly use `matplotlib_inline.backend_inline`\n",
      "  from ipykernel.pylab.backend_inline import flush_figures\n"
     ]
    },
    {
     "data": {
      "application/vnd.jupyter.widget-view+json": {
       "model_id": "8e8a0584b3324d269a97fb7c70bf430e",
       "version_major": 2,
       "version_minor": 0
      },
      "text/plain": [
       "interactive(children=(Dropdown(description='Choose a Cluster:', options=(('antillen; iiecht; mogelijk; samenwe…"
      ]
     },
     "metadata": {},
     "output_type": "display_data"
    },
    {
     "data": {
      "text/plain": [
       "<function __main__.plot_cluster_distribution(cluster_index, column_name)>"
      ]
     },
     "execution_count": 19,
     "metadata": {},
     "output_type": "execute_result"
    },
    {
     "name": "stderr",
     "output_type": "stream",
     "text": [
      "ERROR:tornado.application:Uncaught exception GET /autoload.js?bokeh-autoload-element=p1038&bokeh-absolute-url=http://localhost:60918&resources=none (::1)\n",
      "HTTPServerRequest(protocol='http', host='localhost:60918', method='GET', uri='/autoload.js?bokeh-autoload-element=p1038&bokeh-absolute-url=http://localhost:60918&resources=none', version='HTTP/1.1', remote_ip='::1')\n",
      "Traceback (most recent call last):\n",
      "  File \"/Users/jose/Repos/tempo-embeddings/.venv/lib/python3.9/site-packages/tornado/web.py\", line 1790, in _execute\n",
      "    result = await result\n",
      "  File \"/Users/jose/Repos/tempo-embeddings/.venv/lib/python3.9/site-packages/bokeh/server/views/autoload_js_handler.py\", line 62, in get\n",
      "    session = await self.get_session()\n",
      "  File \"/Users/jose/Repos/tempo-embeddings/.venv/lib/python3.9/site-packages/bokeh/server/views/session_handler.py\", line 145, in get_session\n",
      "    session = await self.application_context.create_session_if_needed(session_id, self.request, token)\n",
      "  File \"/Users/jose/Repos/tempo-embeddings/.venv/lib/python3.9/site-packages/bokeh/server/contexts.py\", line 240, in create_session_if_needed\n",
      "    self._application.initialize_document(doc)\n",
      "  File \"/Users/jose/Repos/tempo-embeddings/.venv/lib/python3.9/site-packages/bokeh/application/application.py\", line 190, in initialize_document\n",
      "    h.modify_document(doc)\n",
      "  File \"/Users/jose/Repos/tempo-embeddings/.venv/lib/python3.9/site-packages/bokeh/application/handlers/function.py\", line 140, in modify_document\n",
      "    self._func(doc)\n",
      "  File \"/Users/jose/Repos/tempo-embeddings/.venv/lib/python3.9/site-packages/tempo_embeddings/visualization/bokeh.py\", line 177, in create_document\n",
      "    doc.add_root(self._create_layout())\n",
      "  File \"/Users/jose/Repos/tempo-embeddings/.venv/lib/python3.9/site-packages/tempo_embeddings/visualization/bokeh.py\", line 155, in _create_layout\n",
      "    self._add_circles()\n",
      "  File \"/Users/jose/Repos/tempo-embeddings/.venv/lib/python3.9/site-packages/tempo_embeddings/visualization/bokeh.py\", line 104, in _add_circles\n",
      "    glyph = self._figure.circle(\n",
      "  File \"/Users/jose/Repos/tempo-embeddings/.venv/lib/python3.9/site-packages/bokeh/plotting/_decorators.py\", line 87, in wrapped\n",
      "    return create_renderer(glyphclass, self.plot, **kwargs)\n",
      "  File \"/Users/jose/Repos/tempo-embeddings/.venv/lib/python3.9/site-packages/bokeh/plotting/_renderer.py\", line 127, in create_renderer\n",
      "    plot.renderers.append(glyph_renderer)\n",
      "  File \"/Users/jose/Repos/tempo-embeddings/.venv/lib/python3.9/site-packages/bokeh/core/property/wrappers.py\", line 136, in wrapper\n",
      "    self._notify_owners(old)\n",
      "  File \"/Users/jose/Repos/tempo-embeddings/.venv/lib/python3.9/site-packages/bokeh/core/property/wrappers.py\", line 165, in _notify_owners\n",
      "    descriptor._notify_mutated(owner, old, hint=hint)\n",
      "  File \"/Users/jose/Repos/tempo-embeddings/.venv/lib/python3.9/site-packages/bokeh/core/property/descriptors.py\", line 658, in _notify_mutated\n",
      "    self._set(obj, old, value, hint=hint)\n",
      "  File \"/Users/jose/Repos/tempo-embeddings/.venv/lib/python3.9/site-packages/bokeh/core/property/descriptors.py\", line 621, in _set\n",
      "    self._trigger(obj, old, value, hint=hint, setter=setter)\n",
      "  File \"/Users/jose/Repos/tempo-embeddings/.venv/lib/python3.9/site-packages/bokeh/core/property/descriptors.py\", line 699, in _trigger\n",
      "    obj.trigger(self.name, old, value, hint, setter)\n",
      "  File \"/Users/jose/Repos/tempo-embeddings/.venv/lib/python3.9/site-packages/bokeh/model/model.py\", line 562, in trigger\n",
      "    super().trigger(descriptor.name, old, new, hint=hint, setter=setter)\n",
      "  File \"/Users/jose/Repos/tempo-embeddings/.venv/lib/python3.9/site-packages/bokeh/util/callback_manager.py\", line 188, in trigger\n",
      "    self.document.callbacks.notify_change(cast(Model, self), attr, old, new, hint, setter, invoke)\n",
      "  File \"/Users/jose/Repos/tempo-embeddings/.venv/lib/python3.9/site-packages/bokeh/document/callbacks.py\", line 249, in notify_change\n",
      "    self.trigger_on_change(event)\n",
      "  File \"/Users/jose/Repos/tempo-embeddings/.venv/lib/python3.9/site-packages/bokeh/document/callbacks.py\", line 413, in trigger_on_change\n",
      "    invoke_with_curdoc(doc, invoke_callbacks)\n",
      "  File \"/Users/jose/Repos/tempo-embeddings/.venv/lib/python3.9/site-packages/bokeh/document/callbacks.py\", line 443, in invoke_with_curdoc\n",
      "    return f()\n",
      "  File \"/Users/jose/Repos/tempo-embeddings/.venv/lib/python3.9/site-packages/bokeh/document/callbacks.py\", line 412, in invoke_callbacks\n",
      "    cb(event)\n",
      "  File \"/Users/jose/Repos/tempo-embeddings/.venv/lib/python3.9/site-packages/bokeh/document/callbacks.py\", line 276, in <lambda>\n",
      "    self._change_callbacks[receiver] = lambda event: event.dispatch(receiver)\n",
      "  File \"/Users/jose/Repos/tempo-embeddings/.venv/lib/python3.9/site-packages/bokeh/document/events.py\", line 353, in dispatch\n",
      "    super().dispatch(receiver)\n",
      "  File \"/Users/jose/Repos/tempo-embeddings/.venv/lib/python3.9/site-packages/bokeh/document/events.py\", line 219, in dispatch\n",
      "    cast(DocumentPatchedMixin, receiver)._document_patched(self)\n",
      "  File \"/Users/jose/Repos/tempo-embeddings/.venv/lib/python3.9/site-packages/bokeh/server/session.py\", line 244, in _document_patched\n",
      "    raise RuntimeError(\"_pending_writes should be non-None when we have a document lock, and we should have the lock when the document changes\")\n",
      "RuntimeError: _pending_writes should be non-None when we have a document lock, and we should have the lock when the document changes\n",
      "ERROR:tornado.access:500 GET /autoload.js?bokeh-autoload-element=p1038&bokeh-absolute-url=http://localhost:60918&resources=none (::1) 157.31ms\n"
     ]
    }
   ],
   "source": [
    "import matplotlib.pyplot as plt\n",
    "logging.getLogger('matplotlib').setLevel(logging.WARNING)\n",
    "from ipywidgets import interact\n",
    "\n",
    "def plot_cluster_distribution(cluster_index, column_name):\n",
    "\n",
    "    df = df_cluster_meta[cluster_index]\n",
    "    cluster_name = df_cluster_labels[cluster_index]\n",
    "\n",
    "    plt.figure(figsize=(10, 6))\n",
    "    plt.hist(df[column_name],edgecolor='black')\n",
    "    plt.xlabel(f'{column_name}', fontsize=14)\n",
    "    plt.ylabel('Frequency', fontsize=14)\n",
    "    plt.title(f'{cluster_name}', fontsize=16)\n",
    "    plt.show()\n",
    "\n",
    "\n",
    "cluster_selector = widgets.Dropdown(\n",
    "    options=[(lbl, i) for i, lbl in enumerate(df_cluster_labels)],\n",
    "    description='Choose a Cluster:',\n",
    "    disabled=False,\n",
    "    style={'description_width': 'initial'} \n",
    ")\n",
    "\n",
    "variable_selector = widgets.Dropdown(\n",
    "    options=selected_metadata,\n",
    "    description='Choose a Column to Plot:',\n",
    "    disabled=False,\n",
    "    style={'description_width': 'initial'} \n",
    ")\n",
    "\n",
    "interact(plot_cluster_distribution, cluster_index=cluster_selector, column_name=variable_selector)"
   ]
  },
  {
   "cell_type": "markdown",
   "metadata": {},
   "source": [
    "## Visualize Embeddings (All Clusters)"
   ]
  },
  {
   "cell_type": "code",
   "execution_count": 20,
   "metadata": {},
   "outputs": [
    {
     "data": {
      "text/html": [
       "    <style>\n",
       "        .bk-notebook-logo {\n",
       "            display: block;\n",
       "            width: 20px;\n",
       "            height: 20px;\n",
       "            background-image: url(data:image/png;base64,iVBORw0KGgoAAAANSUhEUgAAABQAAAAUCAYAAACNiR0NAAAABHNCSVQICAgIfAhkiAAAAAlwSFlzAAALEgAACxIB0t1+/AAAABx0RVh0U29mdHdhcmUAQWRvYmUgRmlyZXdvcmtzIENTNui8sowAAAOkSURBVDiNjZRtaJVlGMd/1/08zzln5zjP1LWcU9N0NkN8m2CYjpgQYQXqSs0I84OLIC0hkEKoPtiH3gmKoiJDU7QpLgoLjLIQCpEsNJ1vqUOdO7ppbuec5+V+rj4ctwzd8IIbbi6u+8f1539dt3A78eXC7QizUF7gyV1fD1Yqg4JWz84yffhm0qkFqBogB9rM8tZdtwVsPUhWhGcFJngGeWrPzHm5oaMmkfEg1usvLFyc8jLRqDOMru7AyC8saQr7GG7f5fvDeH7Ej8CM66nIF+8yngt6HWaKh7k49Soy9nXurCi1o3qUbS3zWfrYeQDTB/Qj6kX6Ybhw4B+bOYoLKCC9H3Nu/leUTZ1JdRWkkn2ldcCamzrcf47KKXdAJllSlxAOkRgyHsGC/zRday5Qld9DyoM4/q/rUoy/CXh3jzOu3bHUVZeU+DEn8FInkPBFlu3+nW3Nw0mk6vCDiWg8CeJaxEwuHS3+z5RgY+YBR6V1Z1nxSOfoaPa4LASWxxdNp+VWTk7+4vzaou8v8PN+xo+KY2xsw6une2frhw05CTYOmQvsEhjhWjn0bmXPjpE1+kplmmkP3suftwTubK9Vq22qKmrBhpY4jvd5afdRA3wGjFAgcnTK2s4hY0/GPNIb0nErGMCRxWOOX64Z8RAC4oCXdklmEvcL8o0BfkNK4lUg9HTl+oPlQxdNo3Mg4Nv175e/1LDGzZen30MEjRUtmXSfiTVu1kK8W4txyV6BMKlbgk3lMwYCiusNy9fVfvvwMxv8Ynl6vxoByANLTWplvuj/nF9m2+PDtt1eiHPBr1oIfhCChQMBw6Aw0UulqTKZdfVvfG7VcfIqLG9bcldL/+pdWTLxLUy8Qq38heUIjh4XlzZxzQm19lLFlr8vdQ97rjZVOLf8nclzckbcD4wxXMidpX30sFd37Fv/GtwwhzhxGVAprjbg0gCAEeIgwCZyTV2Z1REEW8O4py0wsjeloKoMr6iCY6dP92H6Vw/oTyICIthibxjm/DfN9lVz8IqtqKYLUXfoKVMVQVVJOElGjrnnUt9T9wbgp8AyYKaGlqingHZU/uG2NTZSVqwHQTWkx9hxjkpWDaCg6Ckj5qebgBVbT3V3NNXMSiWSDdGV3hrtzla7J+duwPOToIg42ChPQOQjspnSlp1V+Gjdged7+8UN5CRAV7a5EdFNwCjEaBR27b3W890TE7g24NAP/mMDXRWrGoFPQI9ls/MWO2dWFAar/xcOIImbbpA3zgAAAABJRU5ErkJggg==);\n",
       "        }\n",
       "    </style>\n",
       "    <div>\n",
       "        <a href=\"https://bokeh.org\" target=\"_blank\" class=\"bk-notebook-logo\"></a>\n",
       "        <span id=\"b753c2e1-1fb1-4c3b-bdcd-343c3b4dbdfb\">Loading BokehJS ...</span>\n",
       "    </div>\n"
      ]
     },
     "metadata": {},
     "output_type": "display_data"
    },
    {
     "data": {
      "application/javascript": "(function(root) {\n  function now() {\n    return new Date();\n  }\n\n  const force = true;\n\n  if (typeof root._bokeh_onload_callbacks === \"undefined\" || force === true) {\n    root._bokeh_onload_callbacks = [];\n    root._bokeh_is_loading = undefined;\n  }\n\nconst JS_MIME_TYPE = 'application/javascript';\n  const HTML_MIME_TYPE = 'text/html';\n  const EXEC_MIME_TYPE = 'application/vnd.bokehjs_exec.v0+json';\n  const CLASS_NAME = 'output_bokeh rendered_html';\n\n  /**\n   * Render data to the DOM node\n   */\n  function render(props, node) {\n    const script = document.createElement(\"script\");\n    node.appendChild(script);\n  }\n\n  /**\n   * Handle when an output is cleared or removed\n   */\n  function handleClearOutput(event, handle) {\n    function drop(id) {\n      const view = Bokeh.index.get_by_id(id)\n      if (view != null) {\n        view.model.document.clear()\n        Bokeh.index.delete(view)\n      }\n    }\n\n    const cell = handle.cell;\n\n    const id = cell.output_area._bokeh_element_id;\n    const server_id = cell.output_area._bokeh_server_id;\n\n    // Clean up Bokeh references\n    if (id != null) {\n      drop(id)\n    }\n\n    if (server_id !== undefined) {\n      // Clean up Bokeh references\n      const cmd_clean = \"from bokeh.io.state import curstate; print(curstate().uuid_to_server['\" + server_id + \"'].get_sessions()[0].document.roots[0]._id)\";\n      cell.notebook.kernel.execute(cmd_clean, {\n        iopub: {\n          output: function(msg) {\n            const id = msg.content.text.trim()\n            drop(id)\n          }\n        }\n      });\n      // Destroy server and session\n      const cmd_destroy = \"import bokeh.io.notebook as ion; ion.destroy_server('\" + server_id + \"')\";\n      cell.notebook.kernel.execute(cmd_destroy);\n    }\n  }\n\n  /**\n   * Handle when a new output is added\n   */\n  function handleAddOutput(event, handle) {\n    const output_area = handle.output_area;\n    const output = handle.output;\n\n    // limit handleAddOutput to display_data with EXEC_MIME_TYPE content only\n    if ((output.output_type != \"display_data\") || (!Object.prototype.hasOwnProperty.call(output.data, EXEC_MIME_TYPE))) {\n      return\n    }\n\n    const toinsert = output_area.element.find(\".\" + CLASS_NAME.split(' ')[0]);\n\n    if (output.metadata[EXEC_MIME_TYPE][\"id\"] !== undefined) {\n      toinsert[toinsert.length - 1].firstChild.textContent = output.data[JS_MIME_TYPE];\n      // store reference to embed id on output_area\n      output_area._bokeh_element_id = output.metadata[EXEC_MIME_TYPE][\"id\"];\n    }\n    if (output.metadata[EXEC_MIME_TYPE][\"server_id\"] !== undefined) {\n      const bk_div = document.createElement(\"div\");\n      bk_div.innerHTML = output.data[HTML_MIME_TYPE];\n      const script_attrs = bk_div.children[0].attributes;\n      for (let i = 0; i < script_attrs.length; i++) {\n        toinsert[toinsert.length - 1].firstChild.setAttribute(script_attrs[i].name, script_attrs[i].value);\n        toinsert[toinsert.length - 1].firstChild.textContent = bk_div.children[0].textContent\n      }\n      // store reference to server id on output_area\n      output_area._bokeh_server_id = output.metadata[EXEC_MIME_TYPE][\"server_id\"];\n    }\n  }\n\n  function register_renderer(events, OutputArea) {\n\n    function append_mime(data, metadata, element) {\n      // create a DOM node to render to\n      const toinsert = this.create_output_subarea(\n        metadata,\n        CLASS_NAME,\n        EXEC_MIME_TYPE\n      );\n      this.keyboard_manager.register_events(toinsert);\n      // Render to node\n      const props = {data: data, metadata: metadata[EXEC_MIME_TYPE]};\n      render(props, toinsert[toinsert.length - 1]);\n      element.append(toinsert);\n      return toinsert\n    }\n\n    /* Handle when an output is cleared or removed */\n    events.on('clear_output.CodeCell', handleClearOutput);\n    events.on('delete.Cell', handleClearOutput);\n\n    /* Handle when a new output is added */\n    events.on('output_added.OutputArea', handleAddOutput);\n\n    /**\n     * Register the mime type and append_mime function with output_area\n     */\n    OutputArea.prototype.register_mime_type(EXEC_MIME_TYPE, append_mime, {\n      /* Is output safe? */\n      safe: true,\n      /* Index of renderer in `output_area.display_order` */\n      index: 0\n    });\n  }\n\n  // register the mime type if in Jupyter Notebook environment and previously unregistered\n  if (root.Jupyter !== undefined) {\n    const events = require('base/js/events');\n    const OutputArea = require('notebook/js/outputarea').OutputArea;\n\n    if (OutputArea.prototype.mime_types().indexOf(EXEC_MIME_TYPE) == -1) {\n      register_renderer(events, OutputArea);\n    }\n  }\n  if (typeof (root._bokeh_timeout) === \"undefined\" || force === true) {\n    root._bokeh_timeout = Date.now() + 5000;\n    root._bokeh_failed_load = false;\n  }\n\n  const NB_LOAD_WARNING = {'data': {'text/html':\n     \"<div style='background-color: #fdd'>\\n\"+\n     \"<p>\\n\"+\n     \"BokehJS does not appear to have successfully loaded. If loading BokehJS from CDN, this \\n\"+\n     \"may be due to a slow or bad network connection. Possible fixes:\\n\"+\n     \"</p>\\n\"+\n     \"<ul>\\n\"+\n     \"<li>re-rerun `output_notebook()` to attempt to load from CDN again, or</li>\\n\"+\n     \"<li>use INLINE resources instead, as so:</li>\\n\"+\n     \"</ul>\\n\"+\n     \"<code>\\n\"+\n     \"from bokeh.resources import INLINE\\n\"+\n     \"output_notebook(resources=INLINE)\\n\"+\n     \"</code>\\n\"+\n     \"</div>\"}};\n\n  function display_loaded() {\n    const el = document.getElementById(\"b753c2e1-1fb1-4c3b-bdcd-343c3b4dbdfb\");\n    if (el != null) {\n      el.textContent = \"BokehJS is loading...\";\n    }\n    if (root.Bokeh !== undefined) {\n      if (el != null) {\n        el.textContent = \"BokehJS \" + root.Bokeh.version + \" successfully loaded.\";\n      }\n    } else if (Date.now() < root._bokeh_timeout) {\n      setTimeout(display_loaded, 100)\n    }\n  }\n\n  function run_callbacks() {\n    try {\n      root._bokeh_onload_callbacks.forEach(function(callback) {\n        if (callback != null)\n          callback();\n      });\n    } finally {\n      delete root._bokeh_onload_callbacks\n    }\n    console.debug(\"Bokeh: all callbacks have finished\");\n  }\n\n  function load_libs(css_urls, js_urls, callback) {\n    if (css_urls == null) css_urls = [];\n    if (js_urls == null) js_urls = [];\n\n    root._bokeh_onload_callbacks.push(callback);\n    if (root._bokeh_is_loading > 0) {\n      console.debug(\"Bokeh: BokehJS is being loaded, scheduling callback at\", now());\n      return null;\n    }\n    if (js_urls == null || js_urls.length === 0) {\n      run_callbacks();\n      return null;\n    }\n    console.debug(\"Bokeh: BokehJS not loaded, scheduling load and callback at\", now());\n    root._bokeh_is_loading = css_urls.length + js_urls.length;\n\n    function on_load() {\n      root._bokeh_is_loading--;\n      if (root._bokeh_is_loading === 0) {\n        console.debug(\"Bokeh: all BokehJS libraries/stylesheets loaded\");\n        run_callbacks()\n      }\n    }\n\n    function on_error(url) {\n      console.error(\"failed to load \" + url);\n    }\n\n    for (let i = 0; i < css_urls.length; i++) {\n      const url = css_urls[i];\n      const element = document.createElement(\"link\");\n      element.onload = on_load;\n      element.onerror = on_error.bind(null, url);\n      element.rel = \"stylesheet\";\n      element.type = \"text/css\";\n      element.href = url;\n      console.debug(\"Bokeh: injecting link tag for BokehJS stylesheet: \", url);\n      document.body.appendChild(element);\n    }\n\n    for (let i = 0; i < js_urls.length; i++) {\n      const url = js_urls[i];\n      const element = document.createElement('script');\n      element.onload = on_load;\n      element.onerror = on_error.bind(null, url);\n      element.async = false;\n      element.src = url;\n      console.debug(\"Bokeh: injecting script tag for BokehJS library: \", url);\n      document.head.appendChild(element);\n    }\n  };\n\n  function inject_raw_css(css) {\n    const element = document.createElement(\"style\");\n    element.appendChild(document.createTextNode(css));\n    document.body.appendChild(element);\n  }\n\n  const js_urls = [\"https://cdn.bokeh.org/bokeh/release/bokeh-3.3.3.min.js\", \"https://cdn.bokeh.org/bokeh/release/bokeh-gl-3.3.3.min.js\", \"https://cdn.bokeh.org/bokeh/release/bokeh-widgets-3.3.3.min.js\", \"https://cdn.bokeh.org/bokeh/release/bokeh-tables-3.3.3.min.js\", \"https://cdn.bokeh.org/bokeh/release/bokeh-mathjax-3.3.3.min.js\"];\n  const css_urls = [];\n\n  const inline_js = [    function(Bokeh) {\n      Bokeh.set_log_level(\"info\");\n    },\nfunction(Bokeh) {\n    }\n  ];\n\n  function run_inline_js() {\n    if (root.Bokeh !== undefined || force === true) {\n          for (let i = 0; i < inline_js.length; i++) {\n      inline_js[i].call(root, root.Bokeh);\n    }\nif (force === true) {\n        display_loaded();\n      }} else if (Date.now() < root._bokeh_timeout) {\n      setTimeout(run_inline_js, 100);\n    } else if (!root._bokeh_failed_load) {\n      console.log(\"Bokeh: BokehJS failed to load within specified timeout.\");\n      root._bokeh_failed_load = true;\n    } else if (force !== true) {\n      const cell = $(document.getElementById(\"b753c2e1-1fb1-4c3b-bdcd-343c3b4dbdfb\")).parents('.cell').data().cell;\n      cell.output_area.append_execute_result(NB_LOAD_WARNING)\n    }\n  }\n\n  if (root._bokeh_is_loading === 0) {\n    console.debug(\"Bokeh: BokehJS loaded, going straight to plotting\");\n    run_inline_js();\n  } else {\n    load_libs(css_urls, js_urls, function() {\n      console.debug(\"Bokeh: BokehJS plotting callback run at\", now());\n      run_inline_js();\n    });\n  }\n}(window));",
      "application/vnd.bokehjs_load.v0+json": ""
     },
     "metadata": {},
     "output_type": "display_data"
    },
    {
     "name": "stderr",
     "output_type": "stream",
     "text": [
      "01:41:25 INFO:Starting Bokeh server version 3.3.3 (running on Tornado 6.4)\n",
      "01:41:25 INFO:User authentication hooks NOT provided (default user enabled)\n"
     ]
    },
    {
     "data": {
      "application/vnd.bokehjs_exec.v0+json": "",
      "text/html": [
       "<script id=\"p1038\">\n",
       "  (function() {\n",
       "    const xhr = new XMLHttpRequest()\n",
       "    xhr.responseType = 'blob';\n",
       "    xhr.open('GET', \"http://localhost:60918/autoload.js?bokeh-autoload-element=p1038&bokeh-absolute-url=http://localhost:60918&resources=none\", true);\n",
       "    xhr.onload = function (event) {\n",
       "      const script = document.createElement('script');\n",
       "      const src = URL.createObjectURL(event.target.response);\n",
       "      script.src = src;\n",
       "      document.body.appendChild(script);\n",
       "    };\n",
       "    xhr.send();\n",
       "  })();\n",
       "</script>"
      ]
     },
     "metadata": {
      "application/vnd.bokehjs_exec.v0+json": {
       "server_id": "382d4753b62e4ab0a3b6b2c7076a4263"
      }
     },
     "output_type": "display_data"
    },
    {
     "name": "stderr",
     "output_type": "stream",
     "text": [
      "01:42:09 INFO:WebSocket connection opened\n",
      "01:42:09 INFO:ServerConnection created\n",
      "01:52:58 INFO:WebSocket connection closed: code=1001, reason=None\n"
     ]
    }
   ],
   "source": [
    "import os\n",
    "from bokeh.io import output_notebook\n",
    "from bokeh.plotting import show\n",
    "from tempo_embeddings.visualization.bokeh import BokehInteractiveVisualizer\n",
    "\n",
    "output_notebook()\n",
    "\n",
    "meta_fields = corpus.metadata_fields()\n",
    "meta_fields = [\"year\", \"date\", \"issue\"]\n",
    "\n",
    "visualizer = BokehInteractiveVisualizer(\n",
    "    *clusters, metadata_fields=meta_fields, width=2000, height=1000\n",
    ")\n",
    "\n",
    "os.environ[\n",
    "    \"BOKEH_ALLOW_WS_ORIGIN\"\n",
    "] = \"*\"\n",
    "\n",
    "show(visualizer.create_document)"
   ]
  }
 ],
 "metadata": {
  "kernelspec": {
   "display_name": "Python 3 (ipykernel)",
   "language": "python",
   "name": "python3"
  },
  "language_info": {
   "codemirror_mode": {
    "name": "ipython",
    "version": 3
   },
   "file_extension": ".py",
   "mimetype": "text/x-python",
   "name": "python",
   "nbconvert_exporter": "python",
   "pygments_lexer": "ipython3",
   "version": "3.9.6"
  }
 },
 "nbformat": 4,
 "nbformat_minor": 4
}
