{
 "cells": [
  {
   "cell_type": "markdown",
   "metadata": {},
   "source": [
    "# Dutch Corpora"
   ]
  },
  {
   "cell_type": "code",
   "execution_count": 1,
   "metadata": {},
   "outputs": [],
   "source": [
    "# Install tempo-embeddings from GitHub\n",
    "# This can also refer to a specific version or branch\n",
    "\n",
    "# %pip install --upgrade pip  # Required for properly resolving dependencies\n",
    "# %pip uninstall -y tempo_embeddings  # Remove existing installation\n",
    "# %pip install --upgrade git+https://github.com/Semantics-of-Sustainability/tempo-embeddings.git"
   ]
  },
  {
   "cell_type": "code",
   "execution_count": 2,
   "metadata": {},
   "outputs": [],
   "source": [
    "# make sure installation has succeeded\n",
    "import tempo_embeddings\n",
    "%load_ext autoreload"
   ]
  },
  {
   "cell_type": "code",
   "execution_count": 3,
   "metadata": {},
   "outputs": [],
   "source": [
    "# import stanza\n",
    "# stanza.download('nl')\n",
    "# nlp_pipeline = stanza.Pipeline(\"nl\", processors='tokenize')\n",
    "nlp_pipeline = None"
   ]
  },
  {
   "cell_type": "code",
   "execution_count": 4,
   "metadata": {},
   "outputs": [],
   "source": [
    "try:\n",
    "    import google.colab\n",
    "\n",
    "    IN_COLAB = True\n",
    "except ModuleNotFoundError:\n",
    "    IN_COLAB = False"
   ]
  },
  {
   "cell_type": "markdown",
   "metadata": {},
   "source": [
    "## Load Data\n",
    "\n",
    "The data needs to be downloaded and provided in the path configured in the next cell.\n",
    "\n",
    "NOTE: You have to manually adapt the `DATA_DIR` below."
   ]
  },
  {
   "cell_type": "code",
   "execution_count": 5,
   "metadata": {},
   "outputs": [],
   "source": [
    "%autoreload now\n",
    "\n",
    "import operator\n",
    "from functools import reduce\n",
    "from pathlib import Path\n",
    "from tqdm import tqdm\n",
    "from tempo_embeddings.text.corpus import Corpus"
   ]
  },
  {
   "cell_type": "code",
   "execution_count": 6,
   "metadata": {},
   "outputs": [],
   "source": [
    "WINDOW_SIZE = 200\n",
    "USE_FULL_SENTENCES = False # For now, this parameter overrides the window size\n",
    "\n",
    "RANDOM_SAMPLE_ANP = 200\n",
    "RANDOM_SAMPLE_STATEN_GENERAAL = 200\n",
    "\n",
    "STATEN_GENERAAL_BLACKLIST = [\"1987\"]\n",
    "\n",
    "FILTER_TERMS = [] # [\"duurzaam\"]  # Search term(s) for filtering the corpus"
   ]
  },
  {
   "cell_type": "code",
   "execution_count": 7,
   "metadata": {},
   "outputs": [],
   "source": [
    "## NOTE: Adapt the `DATA_DIR` below manually!\n",
    "## For a shared Google Drive, create a shortcut into your own Google Drive\n",
    "## See https://stackoverflow.com/questions/54351852/accessing-shared-with-me-with-colab\n",
    "\n",
    "LOCAL_PATHS: list[Path] = [\n",
    "    Path.home() / \"Documents\" / \"SemanticsOfSustainability\" / \"data\" / \"Joris\",\n",
    "    Path.home() / \"SEED_DATA\" / \"SemanticsSustainability\", # local angel\n",
    "    Path(\"/data/volume_2/data\"),  # Research Cloud\n",
    "    Path(\"/home/cschnober/data/\"),  # Snellius\n",
    "]\n",
    "\n",
    "if IN_COLAB:\n",
    "    from google.colab import drive\n",
    "\n",
    "    drive.mount(\"/content/drive\")\n",
    "\n",
    "    DATA_DIR = Path(\"/content/drive/MyDrive/Data/\")\n",
    "else:\n",
    "    try:\n",
    "        DATA_DIR = next(path for path in LOCAL_PATHS if path.is_dir())\n",
    "    except StopIteration as e:\n",
    "        raise DirectoryNotFoundError(f\"Data directory not found.\") from e\n",
    "\n",
    "assert DATA_DIR.is_dir(), f\"Data dir '{DATA_DIR}' not found.\""
   ]
  },
  {
   "cell_type": "markdown",
   "metadata": {},
   "source": [
    "### ANP"
   ]
  },
  {
   "cell_type": "code",
   "execution_count": 8,
   "metadata": {},
   "outputs": [],
   "source": [
    "ANP_DIR = DATA_DIR / \"ANP_mini\"\n",
    "assert RANDOM_SAMPLE_ANP == 0 or ANP_DIR.is_dir(), f\"{ANP_DIR} not found.\""
   ]
  },
  {
   "cell_type": "code",
   "execution_count": 9,
   "metadata": {},
   "outputs": [
    {
     "name": "stdout",
     "output_type": "stream",
     "text": [
      "Found 1 ANP Files\n"
     ]
    },
    {
     "data": {
      "text/plain": [
       "[PosixPath('/Users/jose/SEED_DATA/SemanticsSustainability/ANP_mini/ANP_1983.csv.gz')]"
      ]
     },
     "execution_count": 9,
     "metadata": {},
     "output_type": "execute_result"
    }
   ],
   "source": [
    "import random\n",
    "\n",
    "\n",
    "random.seed(0)\n",
    "\n",
    "anp_files = list(ANP_DIR.glob(\"ANP_????.csv.gz\"))\n",
    "\n",
    "if RANDOM_SAMPLE_ANP and len(anp_files) > RANDOM_SAMPLE_ANP:\n",
    "    anp_files = random.sample(\n",
    "        list(ANP_DIR.glob(\"ANP_????.csv.gz\")), k=RANDOM_SAMPLE_ANP\n",
    "    )\n",
    "\n",
    "print(f\"Found {len(anp_files)} ANP Files\")\n",
    "anp_files[:10]"
   ]
  },
  {
   "cell_type": "code",
   "execution_count": 10,
   "metadata": {},
   "outputs": [
    {
     "name": "stderr",
     "output_type": "stream",
     "text": [
      "100%|██████████| 1/1 [00:00<00:00, 52.50file/s]\n"
     ]
    },
    {
     "data": {
      "text/plain": [
       "4114"
      ]
     },
     "execution_count": 10,
     "metadata": {},
     "output_type": "execute_result"
    }
   ],
   "source": [
    "anp_corpus = (\n",
    "    reduce(\n",
    "        operator.add,\n",
    "        (\n",
    "            Corpus.from_csv_file(\n",
    "                path,\n",
    "                filter_terms=FILTER_TERMS,\n",
    "                text_columns=[\"content\"],\n",
    "                encoding=\"iso8859_15\",\n",
    "                compression=\"gzip\",\n",
    "                delimiter=\";\",\n",
    "                window_size=WINDOW_SIZE,\n",
    "                nlp_pipeline=nlp_pipeline\n",
    "            )\n",
    "            for path in tqdm(anp_files, unit=\"file\")\n",
    "        ),\n",
    "    )\n",
    "    if anp_files\n",
    "    else Corpus()\n",
    ")\n",
    "\n",
    "len(anp_corpus)"
   ]
  },
  {
   "cell_type": "markdown",
   "metadata": {},
   "source": [
    "### Staten Generaal"
   ]
  },
  {
   "cell_type": "code",
   "execution_count": 11,
   "metadata": {},
   "outputs": [],
   "source": [
    "STATEN_GENERAAL_DIR = DATA_DIR / \"StatenGeneraal_mini\"\n",
    "\n",
    "assert RANDOM_SAMPLE_STATEN_GENERAAL == 0 or STATEN_GENERAAL_DIR.is_dir()"
   ]
  },
  {
   "cell_type": "code",
   "execution_count": 12,
   "metadata": {},
   "outputs": [
    {
     "name": "stdout",
     "output_type": "stream",
     "text": [
      "Found 1 STAATEN_G Files\n"
     ]
    },
    {
     "data": {
      "text/plain": [
       "[PosixPath('/Users/jose/SEED_DATA/SemanticsSustainability/StatenGeneraal_mini/StatenGeneraal_2017.csv.gz')]"
      ]
     },
     "execution_count": 12,
     "metadata": {},
     "output_type": "execute_result"
    }
   ],
   "source": [
    "glob195x = \"StatenGeneraal_19[0-9]?.csv.gz\"  # Pattern for files from 1950-1999\n",
    "glob20xx = \"StatenGeneraal_2???.csv.gz\"  # Pattern for files from 2000\n",
    "\n",
    "files_195x = list(STATEN_GENERAAL_DIR.glob(glob195x))\n",
    "files_20xx = list(STATEN_GENERAAL_DIR.glob(glob20xx))\n",
    "\n",
    "sg_files = [\n",
    "    file\n",
    "    # Merge files from patterns\n",
    "    for file in files_20xx + files_195x\n",
    "    # Remove blacklisted files:\n",
    "    for blacklisted in STATEN_GENERAAL_BLACKLIST\n",
    "    if blacklisted not in file.name\n",
    "]\n",
    "\n",
    "if RANDOM_SAMPLE_STATEN_GENERAAL and RANDOM_SAMPLE_STATEN_GENERAAL < len(sg_files):\n",
    "    sg_files = random.sample(sg_files, k=RANDOM_SAMPLE_STATEN_GENERAAL)\n",
    "\n",
    "print(f\"Found {len(sg_files)} STAATEN_G Files\")\n",
    "sorted(sg_files[:10])"
   ]
  },
  {
   "cell_type": "code",
   "execution_count": 13,
   "metadata": {},
   "outputs": [
    {
     "name": "stderr",
     "output_type": "stream",
     "text": [
      "100%|██████████| 1/1 [00:00<00:00, 34.24file/s]\n"
     ]
    },
    {
     "data": {
      "text/plain": [
       "8800"
      ]
     },
     "execution_count": 13,
     "metadata": {},
     "output_type": "execute_result"
    }
   ],
   "source": [
    "%autoreload now\n",
    "\n",
    "import csv\n",
    "\n",
    "csv.field_size_limit(100000000)\n",
    "\n",
    "sg_corpus = (\n",
    "    reduce(\n",
    "        operator.add,\n",
    "        (\n",
    "            Corpus.from_csv_file(\n",
    "                path,\n",
    "                filter_terms=FILTER_TERMS,\n",
    "                text_columns=[\"Content\"],\n",
    "                encoding=\"utf-8\",\n",
    "                compression=\"gzip\",\n",
    "                delimiter=\";\",\n",
    "                window_size=WINDOW_SIZE,\n",
    "                nlp_pipeline=nlp_pipeline\n",
    "            )\n",
    "            for path in tqdm(sg_files, unit=\"file\")\n",
    "        ),\n",
    "    )\n",
    "    if sg_files\n",
    "    else Corpus()\n",
    ")\n",
    "\n",
    "len(sg_corpus)"
   ]
  },
  {
   "cell_type": "code",
   "execution_count": 14,
   "metadata": {},
   "outputs": [
    {
     "name": "stdout",
     "output_type": "stream",
     "text": [
      "206 Passage('14e vergadering Dinsdag 17 januari 2017 Aanvang 10:15 uur 1 Voorzitter: Broekers-Knol Tegenwoordig zijn 67 leden, te weten: Van Apeldoorn, Atsma, Backer, Barth, Beuving, Van Bijsterveld, Bikker, Bredenoord,', {'': '202', 'RecId': 'h-ek-20162017-14-1', 'chamber': 'EersteKamer', 'date': '2017-01-17', 'speakers': 'no speakers', 'title': 'handelingen', 'year': '2017'}, None)\n",
      "220 Passage('Bredenoord, Brinkman, Broekers-Knol, Bruijn, Dercksen, Diederik van Dijk, Don, Duthler, Engels, Ester, Faber-van de Klashorst, Flierman, Ganzevoort, Gerkens, De Graaf, De Grave, Van Hattem, Hoekstra, Huijbregts-Schiedon,', {'': '202', 'RecId': 'h-ek-20162017-14-1', 'chamber': 'EersteKamer', 'date': '2017-01-17', 'speakers': 'no speakers', 'title': 'handelingen', 'year': '2017'}, None)\n",
      "204 Passage('Huijbregts-Schiedon, Jorritsma-Lebbink, Van Kappen, Van Kesteren, Knapen, Knip, Koffeman, Köhler, Kok, Kops, Kox, Krikke, Kuiper, Lintmeijer, Markuszower, Martens, Meijer, Nooren, Oomen-Ruijten, Overbeek,', {'': '202', 'RecId': 'h-ek-20162017-14-1', 'chamber': 'EersteKamer', 'date': '2017-01-17', 'speakers': 'no speakers', 'title': 'handelingen', 'year': '2017'}, None)\n",
      "205 Passage('Pijlman, Postema, Rinnooy Kan, Rombouts, Ruers, Schaap, Schalk, Schaper, Schnabel, Schouwenaar, Schrijver, Sent, Sini, Stienen, Van Strien, Strik, Teunissen, Van de Ven, Verheijen, Vos, De Vries-Leggedoor,', {'': '202', 'RecId': 'h-ek-20162017-14-1', 'chamber': 'EersteKamer', 'date': '2017-01-17', 'speakers': 'no speakers', 'title': 'handelingen', 'year': '2017'}, None)\n",
      "129 Passage('Vries-Leggedoor, Van Weerdenburg en Wezel, en mevrouw Schultz van Haegen-Maas Geesteranus, minister van Infrastructuur en Milieu.', {'': '202', 'RecId': 'h-ek-20162017-14-1', 'chamber': 'EersteKamer', 'date': '2017-01-17', 'speakers': 'no speakers', 'title': 'handelingen', 'year': '2017'}, None)\n",
      "201 Passage('2 Mededelingen De voorzitter : Ik deel aan de Kamer mee dat de volgende leden zich hebben afgemeld: Van Rij, wegens verblijf buitenslands; Klip-Martin, wegens persoonlijke omstandigheden; Nagel, wegens', {'': '203', 'RecId': 'h-ek-20162017-14-2', 'chamber': 'EersteKamer', 'date': '2017-01-17', 'speakers': 'De voorzitter :', 'title': 'handelingen', 'year': '2017'}, None)\n",
      "66 Passage('wegens ziekte. Deze mededeling wordt voor kennisgeving aangenomen.', {'': '203', 'RecId': 'h-ek-20162017-14-2', 'chamber': 'EersteKamer', 'date': '2017-01-17', 'speakers': 'De voorzitter :', 'title': 'handelingen', 'year': '2017'}, None)\n",
      "202 Passage('3 Implementatie herziening m.e.r.-richtlijn Aan de orde is de behandeling van: - het wetsvoorstel Wijziging van de Wet milieubeheer en de Crisis- en herstelwet in verband met de uitvoering van Richtlijn', {'': '204', 'RecId': 'h-ek-20162017-14-3', 'chamber': 'EersteKamer', 'date': '2017-01-17', 'speakers': 'De voorzitter :|Mevrouw Teunissen ( PvdD ):|Mevrouw Vos ( GroenLinks ):|De heer Van Hattem ( PVV ):|Mevrouw Stienen ( D66 ):|De heer Verheijen ( PvdA ):|Mevrouw Meijer ( SP ):|De voorzitter :|Minister Schultz van Haegen-Maas Geesteranus :|Mevrouw Vos ( GroenLinks ):|Minister Schultz van Haegen-Maas Geesteranus :|Mevrouw Vos ( GroenLinks ):|Minister Schultz van Haegen-Maas Geesteranus :|De heer Verheijen ( PvdA ):|Minister Schultz van Haegen-Maas Geesteranus :|De heer Verheijen ( PvdA ):|Minister Schultz van Haegen-Maas Geesteranus :|De heer Van Hattem ( PVV ):|Minister Schultz van Haegen-Maas Geesteranus :|De heer Van Hattem ( PVV ):|Minister Schultz van Haegen-Maas Geesteranus :|Minister Schultz van Haegen-Maas Geesteranus :|De heer Van Hattem ( PVV ):|Minister Schultz van Haegen-Maas Geesteranus :|De heer Van Hattem ( PVV ):|Minister Schultz van Haegen-Maas Geesteranus :|De voorzitter :|De heer Van Hattem ( PVV ):|Minister Schultz van Haegen-Maas Geesteranus :|De heer Verheijen ( PvdA ):|Minister Schultz van Haegen-Maas Geesteranus :|De heer Verheijen ( PvdA ):|Minister Schultz van Haegen-Maas Geesteranus :|De voorzitter :|De heer Van Hattem ( PVV ):|Minister Schultz van Haegen-Maas Geesteranus :|De heer Van Hattem ( PVV ):|Minister Schultz van Haegen-Maas Geesteranus :', 'title': 'handelingen', 'year': '2017'}, None)\n",
      "202 Passage('Richtlijn 2014/52/EU van het Europees Parlement en de Raad van 16 april 2014 tot wijziging van Richtlijn 2011/92/EU betreffende de milieueffectbeoordeling van bepaalde openbare en particuliere projecten', {'': '204', 'RecId': 'h-ek-20162017-14-3', 'chamber': 'EersteKamer', 'date': '2017-01-17', 'speakers': 'De voorzitter :|Mevrouw Teunissen ( PvdD ):|Mevrouw Vos ( GroenLinks ):|De heer Van Hattem ( PVV ):|Mevrouw Stienen ( D66 ):|De heer Verheijen ( PvdA ):|Mevrouw Meijer ( SP ):|De voorzitter :|Minister Schultz van Haegen-Maas Geesteranus :|Mevrouw Vos ( GroenLinks ):|Minister Schultz van Haegen-Maas Geesteranus :|Mevrouw Vos ( GroenLinks ):|Minister Schultz van Haegen-Maas Geesteranus :|De heer Verheijen ( PvdA ):|Minister Schultz van Haegen-Maas Geesteranus :|De heer Verheijen ( PvdA ):|Minister Schultz van Haegen-Maas Geesteranus :|De heer Van Hattem ( PVV ):|Minister Schultz van Haegen-Maas Geesteranus :|De heer Van Hattem ( PVV ):|Minister Schultz van Haegen-Maas Geesteranus :|Minister Schultz van Haegen-Maas Geesteranus :|De heer Van Hattem ( PVV ):|Minister Schultz van Haegen-Maas Geesteranus :|De heer Van Hattem ( PVV ):|Minister Schultz van Haegen-Maas Geesteranus :|De voorzitter :|De heer Van Hattem ( PVV ):|Minister Schultz van Haegen-Maas Geesteranus :|De heer Verheijen ( PvdA ):|Minister Schultz van Haegen-Maas Geesteranus :|De heer Verheijen ( PvdA ):|Minister Schultz van Haegen-Maas Geesteranus :|De voorzitter :|De heer Van Hattem ( PVV ):|Minister Schultz van Haegen-Maas Geesteranus :|De heer Van Hattem ( PVV ):|Minister Schultz van Haegen-Maas Geesteranus :', 'title': 'handelingen', 'year': '2017'}, None)\n",
      "204 Passage('(PbEU 2014, L 124) (implementatie herziening mer-richtlijn) ( 34287 ). De voorzitter : Ik heet de minister van Infrastructuur en Milieu van harte welkom in de Eerste Kamer. De beraadslaging wordt geopend.', {'': '204', 'RecId': 'h-ek-20162017-14-3', 'chamber': 'EersteKamer', 'date': '2017-01-17', 'speakers': 'De voorzitter :|Mevrouw Teunissen ( PvdD ):|Mevrouw Vos ( GroenLinks ):|De heer Van Hattem ( PVV ):|Mevrouw Stienen ( D66 ):|De heer Verheijen ( PvdA ):|Mevrouw Meijer ( SP ):|De voorzitter :|Minister Schultz van Haegen-Maas Geesteranus :|Mevrouw Vos ( GroenLinks ):|Minister Schultz van Haegen-Maas Geesteranus :|Mevrouw Vos ( GroenLinks ):|Minister Schultz van Haegen-Maas Geesteranus :|De heer Verheijen ( PvdA ):|Minister Schultz van Haegen-Maas Geesteranus :|De heer Verheijen ( PvdA ):|Minister Schultz van Haegen-Maas Geesteranus :|De heer Van Hattem ( PVV ):|Minister Schultz van Haegen-Maas Geesteranus :|De heer Van Hattem ( PVV ):|Minister Schultz van Haegen-Maas Geesteranus :|Minister Schultz van Haegen-Maas Geesteranus :|De heer Van Hattem ( PVV ):|Minister Schultz van Haegen-Maas Geesteranus :|De heer Van Hattem ( PVV ):|Minister Schultz van Haegen-Maas Geesteranus :|De voorzitter :|De heer Van Hattem ( PVV ):|Minister Schultz van Haegen-Maas Geesteranus :|De heer Verheijen ( PvdA ):|Minister Schultz van Haegen-Maas Geesteranus :|De heer Verheijen ( PvdA ):|Minister Schultz van Haegen-Maas Geesteranus :|De voorzitter :|De heer Van Hattem ( PVV ):|Minister Schultz van Haegen-Maas Geesteranus :|De heer Van Hattem ( PVV ):|Minister Schultz van Haegen-Maas Geesteranus :', 'title': 'handelingen', 'year': '2017'}, None)\n",
      "209 Passage('geopend. Mevrouw Teunissen ( PvdD ): Voorzitter. Met deze wijziging van de MER-richtlijn heeft de EU beoogd de MER-beoordelingsprocedure te verduidelijken, de kwaliteit en de inhoud van het milieueffectrapport', {'': '204', 'RecId': 'h-ek-20162017-14-3', 'chamber': 'EersteKamer', 'date': '2017-01-17', 'speakers': 'De voorzitter :|Mevrouw Teunissen ( PvdD ):|Mevrouw Vos ( GroenLinks ):|De heer Van Hattem ( PVV ):|Mevrouw Stienen ( D66 ):|De heer Verheijen ( PvdA ):|Mevrouw Meijer ( SP ):|De voorzitter :|Minister Schultz van Haegen-Maas Geesteranus :|Mevrouw Vos ( GroenLinks ):|Minister Schultz van Haegen-Maas Geesteranus :|Mevrouw Vos ( GroenLinks ):|Minister Schultz van Haegen-Maas Geesteranus :|De heer Verheijen ( PvdA ):|Minister Schultz van Haegen-Maas Geesteranus :|De heer Verheijen ( PvdA ):|Minister Schultz van Haegen-Maas Geesteranus :|De heer Van Hattem ( PVV ):|Minister Schultz van Haegen-Maas Geesteranus :|De heer Van Hattem ( PVV ):|Minister Schultz van Haegen-Maas Geesteranus :|Minister Schultz van Haegen-Maas Geesteranus :|De heer Van Hattem ( PVV ):|Minister Schultz van Haegen-Maas Geesteranus :|De heer Van Hattem ( PVV ):|Minister Schultz van Haegen-Maas Geesteranus :|De voorzitter :|De heer Van Hattem ( PVV ):|Minister Schultz van Haegen-Maas Geesteranus :|De heer Verheijen ( PvdA ):|Minister Schultz van Haegen-Maas Geesteranus :|De heer Verheijen ( PvdA ):|Minister Schultz van Haegen-Maas Geesteranus :|De voorzitter :|De heer Van Hattem ( PVV ):|Minister Schultz van Haegen-Maas Geesteranus :|De heer Van Hattem ( PVV ):|Minister Schultz van Haegen-Maas Geesteranus :', 'title': 'handelingen', 'year': '2017'}, None)\n",
      "200 Passage('milieueffectrapport te verbeteren en de MER-procedure te stroomlijnen met andere EU-regelgeving. De belofte is dat hierdoor het milieu beter zou kunnen worden beschermd, hulpbronnen efficiënter kunnen', {'': '204', 'RecId': 'h-ek-20162017-14-3', 'chamber': 'EersteKamer', 'date': '2017-01-17', 'speakers': 'De voorzitter :|Mevrouw Teunissen ( PvdD ):|Mevrouw Vos ( GroenLinks ):|De heer Van Hattem ( PVV ):|Mevrouw Stienen ( D66 ):|De heer Verheijen ( PvdA ):|Mevrouw Meijer ( SP ):|De voorzitter :|Minister Schultz van Haegen-Maas Geesteranus :|Mevrouw Vos ( GroenLinks ):|Minister Schultz van Haegen-Maas Geesteranus :|Mevrouw Vos ( GroenLinks ):|Minister Schultz van Haegen-Maas Geesteranus :|De heer Verheijen ( PvdA ):|Minister Schultz van Haegen-Maas Geesteranus :|De heer Verheijen ( PvdA ):|Minister Schultz van Haegen-Maas Geesteranus :|De heer Van Hattem ( PVV ):|Minister Schultz van Haegen-Maas Geesteranus :|De heer Van Hattem ( PVV ):|Minister Schultz van Haegen-Maas Geesteranus :|Minister Schultz van Haegen-Maas Geesteranus :|De heer Van Hattem ( PVV ):|Minister Schultz van Haegen-Maas Geesteranus :|De heer Van Hattem ( PVV ):|Minister Schultz van Haegen-Maas Geesteranus :|De voorzitter :|De heer Van Hattem ( PVV ):|Minister Schultz van Haegen-Maas Geesteranus :|De heer Verheijen ( PvdA ):|Minister Schultz van Haegen-Maas Geesteranus :|De heer Verheijen ( PvdA ):|Minister Schultz van Haegen-Maas Geesteranus :|De voorzitter :|De heer Van Hattem ( PVV ):|Minister Schultz van Haegen-Maas Geesteranus :|De heer Van Hattem ( PVV ):|Minister Schultz van Haegen-Maas Geesteranus :', 'title': 'handelingen', 'year': '2017'}, None)\n",
      "200 Passage('en duurzame groei kan worden bevorderd. Natuurlijk heeft de Partij voor de Dieren niets tegen het efficiënter benutten van hulpbronnen, maar wel tegen economische groei als oplossing voor alle kwalen.', {'': '204', 'RecId': 'h-ek-20162017-14-3', 'chamber': 'EersteKamer', 'date': '2017-01-17', 'speakers': 'De voorzitter :|Mevrouw Teunissen ( PvdD ):|Mevrouw Vos ( GroenLinks ):|De heer Van Hattem ( PVV ):|Mevrouw Stienen ( D66 ):|De heer Verheijen ( PvdA ):|Mevrouw Meijer ( SP ):|De voorzitter :|Minister Schultz van Haegen-Maas Geesteranus :|Mevrouw Vos ( GroenLinks ):|Minister Schultz van Haegen-Maas Geesteranus :|Mevrouw Vos ( GroenLinks ):|Minister Schultz van Haegen-Maas Geesteranus :|De heer Verheijen ( PvdA ):|Minister Schultz van Haegen-Maas Geesteranus :|De heer Verheijen ( PvdA ):|Minister Schultz van Haegen-Maas Geesteranus :|De heer Van Hattem ( PVV ):|Minister Schultz van Haegen-Maas Geesteranus :|De heer Van Hattem ( PVV ):|Minister Schultz van Haegen-Maas Geesteranus :|Minister Schultz van Haegen-Maas Geesteranus :|De heer Van Hattem ( PVV ):|Minister Schultz van Haegen-Maas Geesteranus :|De heer Van Hattem ( PVV ):|Minister Schultz van Haegen-Maas Geesteranus :|De voorzitter :|De heer Van Hattem ( PVV ):|Minister Schultz van Haegen-Maas Geesteranus :|De heer Verheijen ( PvdA ):|Minister Schultz van Haegen-Maas Geesteranus :|De heer Verheijen ( PvdA ):|Minister Schultz van Haegen-Maas Geesteranus :|De voorzitter :|De heer Van Hattem ( PVV ):|Minister Schultz van Haegen-Maas Geesteranus :|De heer Van Hattem ( PVV ):|Minister Schultz van Haegen-Maas Geesteranus :', 'title': 'handelingen', 'year': '2017'}, None)\n",
      "201 Passage('Wat ons betreft is economische groei niet de oplossing, maar het probleem op een planeet die uitgeput raakt door een snel groeiende wereldbevolking met een toenemende consumptie. \"Business as usual\" is', {'': '204', 'RecId': 'h-ek-20162017-14-3', 'chamber': 'EersteKamer', 'date': '2017-01-17', 'speakers': 'De voorzitter :|Mevrouw Teunissen ( PvdD ):|Mevrouw Vos ( GroenLinks ):|De heer Van Hattem ( PVV ):|Mevrouw Stienen ( D66 ):|De heer Verheijen ( PvdA ):|Mevrouw Meijer ( SP ):|De voorzitter :|Minister Schultz van Haegen-Maas Geesteranus :|Mevrouw Vos ( GroenLinks ):|Minister Schultz van Haegen-Maas Geesteranus :|Mevrouw Vos ( GroenLinks ):|Minister Schultz van Haegen-Maas Geesteranus :|De heer Verheijen ( PvdA ):|Minister Schultz van Haegen-Maas Geesteranus :|De heer Verheijen ( PvdA ):|Minister Schultz van Haegen-Maas Geesteranus :|De heer Van Hattem ( PVV ):|Minister Schultz van Haegen-Maas Geesteranus :|De heer Van Hattem ( PVV ):|Minister Schultz van Haegen-Maas Geesteranus :|Minister Schultz van Haegen-Maas Geesteranus :|De heer Van Hattem ( PVV ):|Minister Schultz van Haegen-Maas Geesteranus :|De heer Van Hattem ( PVV ):|Minister Schultz van Haegen-Maas Geesteranus :|De voorzitter :|De heer Van Hattem ( PVV ):|Minister Schultz van Haegen-Maas Geesteranus :|De heer Verheijen ( PvdA ):|Minister Schultz van Haegen-Maas Geesteranus :|De heer Verheijen ( PvdA ):|Minister Schultz van Haegen-Maas Geesteranus :|De voorzitter :|De heer Van Hattem ( PVV ):|Minister Schultz van Haegen-Maas Geesteranus :|De heer Van Hattem ( PVV ):|Minister Schultz van Haegen-Maas Geesteranus :', 'title': 'handelingen', 'year': '2017'}, None)\n",
      "200 Passage(\"is wat mijn fractie betreft struisvogelpolitiek. Wie vandaag z'n kop in het zand steekt, knarst morgen met z'n tanden. Wat ons betreft legt de doelstelling om te groeien een beleidspraktijk bloot waar\", {'': '204', 'RecId': 'h-ek-20162017-14-3', 'chamber': 'EersteKamer', 'date': '2017-01-17', 'speakers': 'De voorzitter :|Mevrouw Teunissen ( PvdD ):|Mevrouw Vos ( GroenLinks ):|De heer Van Hattem ( PVV ):|Mevrouw Stienen ( D66 ):|De heer Verheijen ( PvdA ):|Mevrouw Meijer ( SP ):|De voorzitter :|Minister Schultz van Haegen-Maas Geesteranus :|Mevrouw Vos ( GroenLinks ):|Minister Schultz van Haegen-Maas Geesteranus :|Mevrouw Vos ( GroenLinks ):|Minister Schultz van Haegen-Maas Geesteranus :|De heer Verheijen ( PvdA ):|Minister Schultz van Haegen-Maas Geesteranus :|De heer Verheijen ( PvdA ):|Minister Schultz van Haegen-Maas Geesteranus :|De heer Van Hattem ( PVV ):|Minister Schultz van Haegen-Maas Geesteranus :|De heer Van Hattem ( PVV ):|Minister Schultz van Haegen-Maas Geesteranus :|Minister Schultz van Haegen-Maas Geesteranus :|De heer Van Hattem ( PVV ):|Minister Schultz van Haegen-Maas Geesteranus :|De heer Van Hattem ( PVV ):|Minister Schultz van Haegen-Maas Geesteranus :|De voorzitter :|De heer Van Hattem ( PVV ):|Minister Schultz van Haegen-Maas Geesteranus :|De heer Verheijen ( PvdA ):|Minister Schultz van Haegen-Maas Geesteranus :|De heer Verheijen ( PvdA ):|Minister Schultz van Haegen-Maas Geesteranus :|De voorzitter :|De heer Van Hattem ( PVV ):|Minister Schultz van Haegen-Maas Geesteranus :|De heer Van Hattem ( PVV ):|Minister Schultz van Haegen-Maas Geesteranus :', 'title': 'handelingen', 'year': '2017'}, None)\n",
      "208 Passage('mijn fractie het fundamenteel mee oneens is. Zoals velen, onder meer milieufilosoof Marius de Geus, hebben aangegeven, gaat meer produceren vrijwel per definitie ten koste van het milieu en levert economische', {'': '204', 'RecId': 'h-ek-20162017-14-3', 'chamber': 'EersteKamer', 'date': '2017-01-17', 'speakers': 'De voorzitter :|Mevrouw Teunissen ( PvdD ):|Mevrouw Vos ( GroenLinks ):|De heer Van Hattem ( PVV ):|Mevrouw Stienen ( D66 ):|De heer Verheijen ( PvdA ):|Mevrouw Meijer ( SP ):|De voorzitter :|Minister Schultz van Haegen-Maas Geesteranus :|Mevrouw Vos ( GroenLinks ):|Minister Schultz van Haegen-Maas Geesteranus :|Mevrouw Vos ( GroenLinks ):|Minister Schultz van Haegen-Maas Geesteranus :|De heer Verheijen ( PvdA ):|Minister Schultz van Haegen-Maas Geesteranus :|De heer Verheijen ( PvdA ):|Minister Schultz van Haegen-Maas Geesteranus :|De heer Van Hattem ( PVV ):|Minister Schultz van Haegen-Maas Geesteranus :|De heer Van Hattem ( PVV ):|Minister Schultz van Haegen-Maas Geesteranus :|Minister Schultz van Haegen-Maas Geesteranus :|De heer Van Hattem ( PVV ):|Minister Schultz van Haegen-Maas Geesteranus :|De heer Van Hattem ( PVV ):|Minister Schultz van Haegen-Maas Geesteranus :|De voorzitter :|De heer Van Hattem ( PVV ):|Minister Schultz van Haegen-Maas Geesteranus :|De heer Verheijen ( PvdA ):|Minister Schultz van Haegen-Maas Geesteranus :|De heer Verheijen ( PvdA ):|Minister Schultz van Haegen-Maas Geesteranus :|De voorzitter :|De heer Van Hattem ( PVV ):|Minister Schultz van Haegen-Maas Geesteranus :|De heer Van Hattem ( PVV ):|Minister Schultz van Haegen-Maas Geesteranus :', 'title': 'handelingen', 'year': '2017'}, None)\n",
      "210 Passage('economische groei consequent milieuvernietiging op, in meerdere of mindere mate. Economische groei zou \"duurzaam\" te noemen zijn als die wordt gekoppeld aan technologische vooruitgang en toenemende efficiëntie.', {'': '204', 'RecId': 'h-ek-20162017-14-3', 'chamber': 'EersteKamer', 'date': '2017-01-17', 'speakers': 'De voorzitter :|Mevrouw Teunissen ( PvdD ):|Mevrouw Vos ( GroenLinks ):|De heer Van Hattem ( PVV ):|Mevrouw Stienen ( D66 ):|De heer Verheijen ( PvdA ):|Mevrouw Meijer ( SP ):|De voorzitter :|Minister Schultz van Haegen-Maas Geesteranus :|Mevrouw Vos ( GroenLinks ):|Minister Schultz van Haegen-Maas Geesteranus :|Mevrouw Vos ( GroenLinks ):|Minister Schultz van Haegen-Maas Geesteranus :|De heer Verheijen ( PvdA ):|Minister Schultz van Haegen-Maas Geesteranus :|De heer Verheijen ( PvdA ):|Minister Schultz van Haegen-Maas Geesteranus :|De heer Van Hattem ( PVV ):|Minister Schultz van Haegen-Maas Geesteranus :|De heer Van Hattem ( PVV ):|Minister Schultz van Haegen-Maas Geesteranus :|Minister Schultz van Haegen-Maas Geesteranus :|De heer Van Hattem ( PVV ):|Minister Schultz van Haegen-Maas Geesteranus :|De heer Van Hattem ( PVV ):|Minister Schultz van Haegen-Maas Geesteranus :|De voorzitter :|De heer Van Hattem ( PVV ):|Minister Schultz van Haegen-Maas Geesteranus :|De heer Verheijen ( PvdA ):|Minister Schultz van Haegen-Maas Geesteranus :|De heer Verheijen ( PvdA ):|Minister Schultz van Haegen-Maas Geesteranus :|De voorzitter :|De heer Van Hattem ( PVV ):|Minister Schultz van Haegen-Maas Geesteranus :|De heer Van Hattem ( PVV ):|Minister Schultz van Haegen-Maas Geesteranus :', 'title': 'handelingen', 'year': '2017'}, None)\n",
      "202 Passage('efficiëntie. Zo zouden we de taart kunnen vergroten en alle milieuproblematiek de baas kunnen worden. Een win-winsituatie werd dat vroeger wel genoemd. \"Geen gezeik, iedereen rijk\", in de woorden van de', {'': '204', 'RecId': 'h-ek-20162017-14-3', 'chamber': 'EersteKamer', 'date': '2017-01-17', 'speakers': 'De voorzitter :|Mevrouw Teunissen ( PvdD ):|Mevrouw Vos ( GroenLinks ):|De heer Van Hattem ( PVV ):|Mevrouw Stienen ( D66 ):|De heer Verheijen ( PvdA ):|Mevrouw Meijer ( SP ):|De voorzitter :|Minister Schultz van Haegen-Maas Geesteranus :|Mevrouw Vos ( GroenLinks ):|Minister Schultz van Haegen-Maas Geesteranus :|Mevrouw Vos ( GroenLinks ):|Minister Schultz van Haegen-Maas Geesteranus :|De heer Verheijen ( PvdA ):|Minister Schultz van Haegen-Maas Geesteranus :|De heer Verheijen ( PvdA ):|Minister Schultz van Haegen-Maas Geesteranus :|De heer Van Hattem ( PVV ):|Minister Schultz van Haegen-Maas Geesteranus :|De heer Van Hattem ( PVV ):|Minister Schultz van Haegen-Maas Geesteranus :|Minister Schultz van Haegen-Maas Geesteranus :|De heer Van Hattem ( PVV ):|Minister Schultz van Haegen-Maas Geesteranus :|De heer Van Hattem ( PVV ):|Minister Schultz van Haegen-Maas Geesteranus :|De voorzitter :|De heer Van Hattem ( PVV ):|Minister Schultz van Haegen-Maas Geesteranus :|De heer Verheijen ( PvdA ):|Minister Schultz van Haegen-Maas Geesteranus :|De heer Verheijen ( PvdA ):|Minister Schultz van Haegen-Maas Geesteranus :|De voorzitter :|De heer Van Hattem ( PVV ):|Minister Schultz van Haegen-Maas Geesteranus :|De heer Van Hattem ( PVV ):|Minister Schultz van Haegen-Maas Geesteranus :', 'title': 'handelingen', 'year': '2017'}, None)\n",
      "201 Passage('heren F. Jacobse en Tedje van Es, velen van u nog wel bekend, ruim voordat de heer Jacobse tot inkeer kwam en lijstduwer werd van de Partij voor de Dieren. Deze MER-richtlijn, de implementatie ervan en', {'': '204', 'RecId': 'h-ek-20162017-14-3', 'chamber': 'EersteKamer', 'date': '2017-01-17', 'speakers': 'De voorzitter :|Mevrouw Teunissen ( PvdD ):|Mevrouw Vos ( GroenLinks ):|De heer Van Hattem ( PVV ):|Mevrouw Stienen ( D66 ):|De heer Verheijen ( PvdA ):|Mevrouw Meijer ( SP ):|De voorzitter :|Minister Schultz van Haegen-Maas Geesteranus :|Mevrouw Vos ( GroenLinks ):|Minister Schultz van Haegen-Maas Geesteranus :|Mevrouw Vos ( GroenLinks ):|Minister Schultz van Haegen-Maas Geesteranus :|De heer Verheijen ( PvdA ):|Minister Schultz van Haegen-Maas Geesteranus :|De heer Verheijen ( PvdA ):|Minister Schultz van Haegen-Maas Geesteranus :|De heer Van Hattem ( PVV ):|Minister Schultz van Haegen-Maas Geesteranus :|De heer Van Hattem ( PVV ):|Minister Schultz van Haegen-Maas Geesteranus :|Minister Schultz van Haegen-Maas Geesteranus :|De heer Van Hattem ( PVV ):|Minister Schultz van Haegen-Maas Geesteranus :|De heer Van Hattem ( PVV ):|Minister Schultz van Haegen-Maas Geesteranus :|De voorzitter :|De heer Van Hattem ( PVV ):|Minister Schultz van Haegen-Maas Geesteranus :|De heer Verheijen ( PvdA ):|Minister Schultz van Haegen-Maas Geesteranus :|De heer Verheijen ( PvdA ):|Minister Schultz van Haegen-Maas Geesteranus :|De voorzitter :|De heer Van Hattem ( PVV ):|Minister Schultz van Haegen-Maas Geesteranus :|De heer Van Hattem ( PVV ):|Minister Schultz van Haegen-Maas Geesteranus :', 'title': 'handelingen', 'year': '2017'}, None)\n",
      "212 Passage('de Omgevingswet waar dit wetsvoorstel deel van gaat uitmaken, zijn uitvloeiselen van dit achterliggende, zeer achterhaalde vooruitgangsgeloof. Gezien de manier waarop deze nieuwe MER-richtlijn is geïmplementeerd,', {'': '204', 'RecId': 'h-ek-20162017-14-3', 'chamber': 'EersteKamer', 'date': '2017-01-17', 'speakers': 'De voorzitter :|Mevrouw Teunissen ( PvdD ):|Mevrouw Vos ( GroenLinks ):|De heer Van Hattem ( PVV ):|Mevrouw Stienen ( D66 ):|De heer Verheijen ( PvdA ):|Mevrouw Meijer ( SP ):|De voorzitter :|Minister Schultz van Haegen-Maas Geesteranus :|Mevrouw Vos ( GroenLinks ):|Minister Schultz van Haegen-Maas Geesteranus :|Mevrouw Vos ( GroenLinks ):|Minister Schultz van Haegen-Maas Geesteranus :|De heer Verheijen ( PvdA ):|Minister Schultz van Haegen-Maas Geesteranus :|De heer Verheijen ( PvdA ):|Minister Schultz van Haegen-Maas Geesteranus :|De heer Van Hattem ( PVV ):|Minister Schultz van Haegen-Maas Geesteranus :|De heer Van Hattem ( PVV ):|Minister Schultz van Haegen-Maas Geesteranus :|Minister Schultz van Haegen-Maas Geesteranus :|De heer Van Hattem ( PVV ):|Minister Schultz van Haegen-Maas Geesteranus :|De heer Van Hattem ( PVV ):|Minister Schultz van Haegen-Maas Geesteranus :|De voorzitter :|De heer Van Hattem ( PVV ):|Minister Schultz van Haegen-Maas Geesteranus :|De heer Verheijen ( PvdA ):|Minister Schultz van Haegen-Maas Geesteranus :|De heer Verheijen ( PvdA ):|Minister Schultz van Haegen-Maas Geesteranus :|De voorzitter :|De heer Van Hattem ( PVV ):|Minister Schultz van Haegen-Maas Geesteranus :|De heer Van Hattem ( PVV ):|Minister Schultz van Haegen-Maas Geesteranus :', 'title': 'handelingen', 'year': '2017'}, None)\n"
     ]
    }
   ],
   "source": [
    "for p in sg_corpus.passages[:20]:\n",
    "    print(len(p), p)"
   ]
  },
  {
   "cell_type": "markdown",
   "metadata": {},
   "source": [
    "### Merge"
   ]
  },
  {
   "cell_type": "code",
   "execution_count": 15,
   "metadata": {},
   "outputs": [
    {
     "data": {
      "text/plain": [
       "12914"
      ]
     },
     "execution_count": 15,
     "metadata": {},
     "output_type": "execute_result"
    }
   ],
   "source": [
    "corpus = anp_corpus + sg_corpus\n",
    "len(corpus)"
   ]
  },
  {
   "cell_type": "markdown",
   "metadata": {},
   "source": [
    "## Load Model"
   ]
  },
  {
   "cell_type": "code",
   "execution_count": 16,
   "metadata": {},
   "outputs": [
    {
     "name": "stderr",
     "output_type": "stream",
     "text": [
      "/Users/jose/Repos/tempo-embeddings/.venv/lib/python3.9/site-packages/tqdm/auto.py:21: TqdmWarning: IProgress not found. Please update jupyter and ipywidgets. See https://ipywidgets.readthedocs.io/en/stable/user_install.html\n",
      "  from .autonotebook import tqdm as notebook_tqdm\n",
      "/Users/jose/Repos/tempo-embeddings/.venv/lib/python3.9/site-packages/urllib3/__init__.py:34: NotOpenSSLWarning: urllib3 v2 only supports OpenSSL 1.1.1+, currently the 'ssl' module is compiled with 'LibreSSL 2.8.3'. See: https://github.com/urllib3/urllib3/issues/3020\n",
      "  warnings.warn(\n",
      "WARNING:root:SentenceTransformerModelWrapper does not support different layers, ignoring.\n"
     ]
    },
    {
     "data": {
      "text/plain": [
       "<tempo_embeddings.embeddings.model.SentenceTransformerModelWrapper at 0x2983be2b0>"
      ]
     },
     "execution_count": 16,
     "metadata": {},
     "output_type": "execute_result"
    }
   ],
   "source": [
    "%autoreload now\n",
    "\n",
    "LAYER = 9\n",
    "\n",
    "from tempo_embeddings.embeddings.model import EmbeddingsMethod\n",
    "\n",
    "from tempo_embeddings.embeddings.model import (\n",
    "    RobertaModelWrapper,\n",
    "    TransformerModelWrapper,\n",
    "    XModModelWrapper,\n",
    "    SentenceTransformerModelWrapper,\n",
    ")\n",
    "\n",
    "kwargs = {\"accelerate\": True}\n",
    "\n",
    "### RoBERTa Models\n",
    "# MODEL_NAME = \"DTAI-KULeuven/robbertje-1-gb-non-shuffled\"\n",
    "# model_class = RobertaModelWrapper\n",
    "\n",
    "### XMod Models\n",
    "# MODEL_NAME = \"facebook/xmod-base\"\n",
    "# kwargs[\"default_language\"] = \"nl_XX\"\n",
    "# model_class = XModModelWrapper\n",
    "\n",
    "### BERT Models\n",
    "# MODEL_NAME = \"GroNLP/bert-base-dutch-cased\"\n",
    "# MODEL_NAME = \"xlm-roberta-base\"\n",
    "# MODEL_NAME = \"xlm-mlm-100-1280\"\n",
    "# model_class = TransformerModelWrapper\n",
    "\n",
    "### Sentence Transformers\n",
    "MODEL_NAME = \"NetherlandsForensicInstitute/robbert-2022-dutch-sentence-transformers\"\n",
    "# MODEL_NAME = \"textgain/allnli-GroNLP-bert-base-dutch-cased\"\n",
    "model_class = SentenceTransformerModelWrapper\n",
    "\n",
    "model = model_class.from_pretrained(MODEL_NAME, layer=LAYER, **kwargs)\n",
    "model.embeddings_method = EmbeddingsMethod.MEAN\n",
    "model"
   ]
  },
  {
   "cell_type": "markdown",
   "metadata": {},
   "source": [
    "## Create or Open existing Database"
   ]
  },
  {
   "cell_type": "code",
   "execution_count": 17,
   "metadata": {},
   "outputs": [
    {
     "name": "stdout",
     "output_type": "stream",
     "text": [
      "Created NEW collection 'anp_sg_corpus'\n"
     ]
    }
   ],
   "source": [
    "from tempo_embeddings.embeddings.vector_database import ChromaDatabaseManager\n",
    "\n",
    "EMBED_CONFIG = {\"type\":\"custom_model\", \"model\": model}\n",
    "BATCH_SIZE = 32\n",
    "\n",
    "db = ChromaDatabaseManager(db_path=\"testing_db\", embedder_name=MODEL_NAME,embedder_config=EMBED_CONFIG, batch_size=BATCH_SIZE)\n",
    "db.connect()\n",
    "\n",
    "collection_name = \"anp_sg_corpus\"\n",
    "\n",
    "try:\n",
    "    anp_sg_collection = db.create_new_collection(collection_name)\n",
    "    created_new_collection = True\n",
    "except ValueError:\n",
    "    anp_sg_collection = db.get_existing_collection(collection_name)\n",
    "    created_new_collection = False"
   ]
  },
  {
   "cell_type": "code",
   "execution_count": 18,
   "metadata": {},
   "outputs": [],
   "source": [
    "%autoreload now"
   ]
  },
  {
   "cell_type": "markdown",
   "metadata": {},
   "source": [
    "## Compute & Save Embeddings (If DB didn't existed)"
   ]
  },
  {
   "cell_type": "code",
   "execution_count": 19,
   "metadata": {},
   "outputs": [
    {
     "name": "stderr",
     "output_type": "stream",
     "text": [
      "Embeddings: 100%|██████████| 404/404 [01:46<00:00,  3.78batch/s]"
     ]
    },
    {
     "name": "stdout",
     "output_type": "stream",
     "text": [
      "Added 12914 new documents. Total = 12914\n"
     ]
    },
    {
     "name": "stderr",
     "output_type": "stream",
     "text": [
      "\n"
     ]
    }
   ],
   "source": [
    "if created_new_collection:\n",
    "    # Insert the passages from the corpus in the new collection\n",
    "    db.insert_corpus(anp_sg_collection, corpus)\n",
    "else:\n",
    "    print(\"No new passages to insert\")\n",
    "    "
   ]
  },
  {
   "cell_type": "markdown",
   "metadata": {},
   "source": [
    "## TEST: Retrieve Records from Database"
   ]
  },
  {
   "cell_type": "code",
   "execution_count": 20,
   "metadata": {},
   "outputs": [
    {
     "name": "stdout",
     "output_type": "stream",
     "text": [
      "Het is met minister Blok gelukt om onder andere met de hypotheekverstrekkers een fonds te ontwikkelen om de mensen die de financiering niet rond kunnen krijgen, op een aparte manier mee te laten doen.\n",
      "dat de vve's maximaal in staat zijn om die verduurzaming te doen, maar dan wel op vrijwillige basis. Ik heb in het verslag de nodige vragen gesteld over de fiscale verwerking van de hypotheeklening. Die\n",
      "volkshuisvesting ziet  geen reden voor een premiewijziging in verband met de  sterk gedaalde hypotheekrente. In een brief aan de gemeenten schrijft de staatssecretaris dat door de subsidie en de dalende\n",
      "Dat is een goed model. Hoe meer onaangekondigde inspecties, hoe liever. \"Take them by surprise\" is toch wel een van de beste manieren om de boel flink onder druk te zetten. De voorzitter : Dank u wel.\n",
      "afspraken die we met alle betrokken partijen hebben gemaakt. Mevrouw Van Toorenburg ( CDA ): Zo kennen we de minister weer. Hij komt met geweldig theater. Maar waar het om gaat, is dat we als Kamer hebben\n",
      "Red.:  aup  Datum:  4-1-83  Tijd:  /^v?  Onderwerp:  Hypotheken  1  4.  5  De hypotheekrente daalt verder. De levensverzekerings-maatschap- pijen in ons land hebben beslotentHHHHA morgen de tarieven voor\n",
      "doelmatige zorg zijn onverenigbare grootheden. De algemene beraadslaging wordt geschorst. De voorzitter : We zijn hiermee gekomen aan het eind van de eerste termijn van de Kamer. De beantwoording door\n",
      "dat hij van het bevel over zijn garnizoehj*wwas ontheven. Hij wao bonoomd tôt militair  ^  f  atrtaché in/Uruguay. Vol/gonc Ochoa jo dat oen va7#m van diplomatieke  -,  v-erbraHhihg/ HA±?miniat^rj^ v^n\n",
      "Overigens heeft de gezondheid? van prins Claus de afgelopen weken geen aanleiding gegeven tot ongerustheid. aldus de RVD. ?  Bron: Regeis: SV 6\n",
      "arbeidsongeschiktheidsverzekering, maar als mensen arbeidsongeschikt worden, lijken er allerlei trucs uit de kast te worden gehaald om maar niet te hoeven uitkeren. Ik wil daarover een debat met de minister.\n",
      "over onbenulligheden kunnen gaan. Eerlijk gezegd ben ik van dat argument totaal niet onder de indruk, omdat het zo volstrekt theoretisch is. Dat zegt de staatscommissie ook. Het klopt als je vanuit je\n",
      "Hond of aan TNS NIPO. We weten geen van allen hoe dat zich in de toekomst ontwikkelt. Als de beduchtheid is dat er in de toekomst meer partijen komen die kritisch staan ten opzichte van de verdere Europese\n",
      "besluit? Is er geen strijd? Zodra het associatiebesluit tussen de EU en Marokko in werking treedt, is Nederland op basis daarvan verplicht om nabestaandenuitkeringen en arbeidsongeschiktheidsuitkeringen\n",
      "Red.  eo  *  turn:  7-1-83  Tijd:  /3  idWw  Onderwerp:  gezondheid claus  4.  De gezondheid van prins Claus heeft de afgelopen weken geen aanleiding-  gegeven tot ongerustheid. Maar het herstel van de\n",
      "samen  ^  ( acties te ondernemen voor verbetering van de sociaal-economische  4.  situatie in deze provincie. Het gaat vooral om Twenthe, waar  ^ ^' 5-  6.  het werkloosheidspercentage ruim 18 **aoemt\n",
      "uiteindelijk niet voor de wet heeft kunnen stemmen. Ik zie echter geen relatie of causaal verband tussen deze twee grootheden.\n",
      "concern/door vast te houden aan uitbetaling van de prijscompensatie. Door deze houding van de voedingsbond lopen enke  Ie honderden banen gevaar bij dAfawehthe- dochters van Uni  Liever,  *als De Betuwe\n",
      "subsidieregeling geholpen moet worden, maar dat ook andere betrokken financiers, bijvoorbeeld hypotheekverstrekkers, een bijdrage kunnen verlenen. Dat is bij het funderingsherstel ook gebeurd. Het kan\n",
      "pakken. In die regio's komen de investeerders niet. Door de strengere regels voor corporaties die sociale huurwoningen bouwen en de hogere drempels voor hypotheken, wordt het voor de hardwerkende Nederlanders\n",
      "Red.:  WRum:  Tijd:  3\" /iR 4R- /?.<>< ?-  -< ^d> -  aup  4-1-33  ^  QQ  OndaâWerp:  Hypotheken  1.  3.  4.  6.  8.  9.  10.  11.  12  De hypotheekrente daalt verder. De levensverzekerings-maatschap-\n",
      "tegen de zorgovereenkomst fysiotherapie 2017 - 2016Z24814 minister van Volksgezondheid, Welzijn en Sport, E.I. Schippers - 22 december 2016 Doorzenden aan de betrokken commissie(s). Reactie op een brief\n",
      "goede komt aan de verzekerden. Met het derde amendement wordt beoogd dat zorgverzekeraars kunnen worden ontheven van hun recht om zorgverzekeringen aan te bieden. Wij hopen dat de initiatiefnemers van\n",
      "woonlandbeginsel op de nabestaandenuitkeringen en de WGA-vervolguitkering bij arbeidsongeschiktheid. De heer Öztürk ( Groep Kuzu/Öztürk ): Weduwen worden 10% gekort op hun AOW-uitkering, arbeidsongeschikten\n",
      "per geneesmiddel, een wettelijke regeling die geldt vanaf 1 februari. Met de inning va: de bijdrage zijn apotheekhoudende artsen en apothekers belast. Maar de ap***l**) * apotheken van MtSt Haagse ziekenfonds\n",
      "kwaliteit en de correctheid van de geregistreerde data? Ik roep maar even de recente discussie over de sjoemelsigaretten in herinnering. We moeten toch op de data van de producenten en de importeurs kunnen\n",
      "gebeurt. De heer Van Hattem ( PVV ): Dit is de theorie, maar in de praktijk is het toch lastig om als burger in een vroege fase veel zaken boven tafel te krijgen. Dit is zeker het geval bij projecten als\n",
      "gezondheids van prins Claus de afgelopen weken geen aanleiding gegeven tot ongerustheid.  aldus de RVD. ?  Bron:  Pegels:  SV\n",
      "Had.  eo  Datum:  7-1-83  ; /  Onderwerp:  gezondheid claus  De gezondheid van prins Claus heeft de afgelopen weken geen aanleiding-  gegeven tot ongerustheid. Maar het herstel van de prins,  3.  die\n",
      "zelf apotheken, maar zal de wettelijke regeling niet uitvoeren. De voorzitter van het AZIVO, het PvdA- kamerlid Toussaint, zei vanmiddag dat het fonds geen maatregelen kan uitvoeren die de gezondheid zouden\n",
      "kwaliteit van een mer beoordelen op volledigheid en op juistheid, inclusief onderzoek naar redelijke alternatieven, waar ook de heer Van Hattem naar vroeg. Het bevoegd gezag moet de milieu-informatie meewegen\n",
      "doen goedkeuren. Minister Plasterk heeft vijf heel goede argumenten gegeven waarom dat op dit moment waarschijnlijk toch niet wijs is. Kortheidshalve verwijs ik daarnaar. Namens mijn fractie vind ik dat\n",
      "voor nieuwe hypothecaire leningen te verlagen met nuljkomma-twee  procent. De basis-rente bij de maatschappijen komt daarmee  op 8-komma-5 procent. Dit tarief geldt in het algemeen voor  leningen tot en\n",
      "Red.  Datum:  Tijd:  î/iR AR- /7. o< ?r< ^  Onderwerp:  aup 4-1-33  ^  Hypotheken  1.  2.  3.  5  6.  7.  8.  10.  11.  12  De hypotheekrente daalt verder. De levensverzekeringsy-maatschap- pijen in ons\n",
      "stellen, die in den brede moet adviseren over de werking en de toekomst van het Nederlandse parlementaire stelsel. Een thema als voorgesteld in dit wetsvoorstel zou daar ook zeker aan de orde kunnen komen,\n",
      "effect. Ik blijf bij het thema aansprakelijkheid. De heer Van der Linde vroeg of ik onderschrijf dat een ondeskundig particulier meer rechtsbescherming toekomt dan een professionele aanbesteder, een woningcorporatie\n",
      "De gezondheidsteestand van prins Claus heeft volgend een mededelin van de rijksvoorlichtingsdienst de afgelopen weken geen aanleiding  gegeven voor ongerustheid. ---  Staatssecretaris Brokx van volkshuisvesting\n",
      "Red.  aup  Datum:  4-1-83  Tip:  Onderwerp Hypotheken  3.  De hypotheekrente daalt verder. De levensverzekering^-maatschap-  pijen in ons land hebben besloten  morgen/de tarieven  J  voor nieuwe hypothecaire\n",
      "geven, want ik heb heel veel bezwaren mogen horen in de loop van de tijd. Ik doel op het esthetische bezwaar, dat het wel een artikellid is met heel veel bepalingen. Valt een artikellid met zo veel bepalingen\n",
      "in staat van paraatheid gebracht.  6.  7.  Kolonel Ochoa had gisteren een opdracht tot overplaatsing  (_als^, s- gekregen. In Uruguay zou hiymilitair attaché worden verbonden aan de Salvadoraanse ambassade.\n",
      "gelet op het feit dat dit een politiek beladen thema is geworden, zijn wij van mening dat wij dit stuk moeten krijgen. Ik vraag de staatssecretaris om daarmee rekening te houden. Wij willen het rapport\n",
      "verstaan. De heer Van Weyenberg ( D66 ): Wij zagen dus in AVROTROS Radar dat veel mensen nog steeds niet krijgen waar zij recht op hebben. Je betaalt je blauw aan een arbeidsongeschiktheidsverzekering,\n",
      "besloten, samen  3.  acties te ondernemen voor verbetering van de sociaal-economische  situatie in deze provincie. Het gaat vooral om Twenthe, waar  het werkloosheidspercentage ruim 18 procent is. Een\n",
      "zichtbare gebreken aan de orde te stellen. Er is daarnaast ook nog eens onvoldoende garantie tegen scheurvorming, tegen kromtrekking en tegen esthetische kwesties, zoals verkeerde tegeltjes of onjuist\n",
      "concurrentie komt dat uiteindelijk gewoon terecht bij de particulier of de ondernemer die de opdracht geeft. De heer Madlener ( PVV ): Dit is natuurlijk een heel theoretisch verhaal. Dit gaat dus leiden\n",
      "rapport wordt voorbereid door het college van B en W of door GS. Komt het onafhankelijke informatierapport, dat de adequaatheid en de volledigheid van de effecten die het project op zijn omgeving heeft,\n",
      "levensverzekerings-maatschap- pijen in ons land hebben besloten 3< arBrarf- morgen de tarieven voor nieuwe hypothecaire leningen te verlagen met nul-komma-twee procent. De basis-rente bij de maatschappijen\n",
      "Weyenberg ( D66 ): Voorzitter. Gisteravond bleek in de uitzending van het AVROTROS-programma Radar dat het nog steeds niet goed gaat met de uitvoering van de arbeidsongeschiktheidsverzekering. Veel zelfstandigen\n",
      "heel erg veel. De ene overtreding is weer een andere dan de andere overtreding. Dus in die zin is er wel reden tot zorg. Professor Ben Ale, een grootheid op het gebied van veiligheidscultuur en veiligheidsrisico's\n",
      "Infrastructuur en Milieu, M.H. Schultz van Haegen-Maas Geesteranus - 20 januari 2017 Rondgezonden en gepubliceerd. Beantwoording op vragen commissie over de eerste integrale rapportage transporthelikopters\n",
      "Red.:  kuy  Datum:  7-1-83  Tijd: 13, =7%%  Onderwerp: koopw.  8.  10.  11.  12  13.  14.  De rijkspremie op nieuwe koopwoningen gaat voorlopig niet omlaag ondanks de sterk gedaalde hypotheekrente. In\n",
      "theater met de klaroenstoot was niet nodig, want die klaroenstoot is al gegeven door de douanemedewerkers zelf. De voorzitter : Op verzoek van mevrouw Van Toorenburg stel ik voor, haar motie (31934, nr.\n",
      "ook voor mijn departement. Ik probeer bij alle benoemingen, en bij urgente, ingewikkelde thema's, te zoeken naar diversiteit. Dit betekent dat ik inderdaad niet altijd dezelfde mensen wil, maar dat ik\n",
      "bepalingen niet uit de toon? Ik zie dat inderdaad meer als een punt van esthetiek en over smaken kun je verschillen. Als je bijvoorbeeld naar muziek kijkt waarvan alle noten op dezelfde plaats in een notenbalk\n",
      "en soms ook grote bedrijven, instellingen of overheden, bijvoorbeeld opdrachtgevers die eenmalig een specifiek bouwwerk, zoals een bedrijfsgebouw, een brug, een ziekenhuis, een theater of iets dergelijks\n",
      "kolonel Ochoa heeft in een radiouitzending gezegd dat hij in  4.  opstand is geko^men tegen het centrale gezag in San Salvador. De  kolohel heeft zijn troepen in staat van paraatheid gebracht. Aanleiding-\n",
      "land. Zowel particulieren als bedrijven doen aan taxplanning. Particulieren doen dit bijvoorbeeld door bij hun belastingaangifte te schuiven met de hypotheekrenteaftrek. Voor bedrijven is inmiddels een\n",
      "voor een premiewijziging in verband met de  sterk gedaalde hypotheekrente. In een brief aan de gemeenten schrijft de staatssecretaris dat door de subside en de dalende  * 6. rente méér mensen met lage\n",
      "Dreiging van een Atoomoorlog, en van het Streven naar Ontwa- pening\". Aldus de machthebbers in het Kremlin in een nieuwjaars- ! boodschap die is gepubliceerd door het persbureau Tass. De ameri- kaanse\n",
      "Red.  ÊO  Datum:  7-1-83  //. ^  Onderwerp:  gezondheid claus  1.  3.  4.  7.  9  De gezondheid van prins Claus heeft de afgelopen weken geen aanleiding-  gegeven tot ongerustheid. Maar het herstel van\n",
      "het bordje van de kleine aannemers wordt gelegd, valt daar voor hen niet meer tegen op te boksen. De heer Albert de Vries ( PvdA ): Ik noemde net het voorbeeld van het theater en de gemeente, maar er zijn\n",
      "nog niet. De sector neemt het ook zeker serieus. Zo is de komende themadag van de Pensioenfederatie aan dit onderwerp gewijd. Volgende week zit ik weer met de sector aan tafel en ik zal hem hierop aanspreken.\n",
      "fractie betreft zou dit overal in de zorg van toepassing moeten zijn, bijvoorbeeld bij de fysiotherapeuten, de wijkverpleegkundigen, de verzorgenden en de geestelijke gezondheidszorg. Zoals gezegd steunt\n",
      "gevoerd, over het thema \"energiebesparing\", en de dringende wens van de heer De Vries en een meerderheid van de Kamer, waaraan ik ook heb meegewerkt, om een woonlastengarantie mogelijk te maken. Als dit\n",
      "vve's om een hypotheeklening aan te gaan, bijvoorbeeld voor verduurzaming of voor onderhoud waarvoor niet is gereserveerd. De VVD kan zich vinden in het wetsvoorstel. Vanuit liberaal oogpunt is het jammer\n",
      "hypothecaire leningen te verlagen met nuF-komma-twee  7.  ^  procent. De basis-rente bij de maatschappijen komt daarmee op 8-komma-5 procent. Dit tarief geldt in het algemeen voor leningen tot en met 75\n",
      "hiermee precies beoogt. De heer Verheijen ( PvdA ): In de kern gaat het om de milieu-informatie die in het MER-rapport wordt voorbereid voor het bestuur en de volledigheid en adequaatheid van de milieu-informatie\n",
      "gezag ontheven worden van een MER-procedure. Intenties kunnen voldoende zijn. Nu ben ik er sterk voor dat we elkaar moeten kunnen en willen vertrouwen, maar dat wordt over het algemeen moeilijker wanneer\n",
      "geen reden voor een premiewijziging in verband met de  4.  sterk gedaalde hypotheekrente. In een brief aan de gemeenten  schrijft de staatssecretaris dat door de subside en de dalende  6  rente meer mensen\n",
      "komen, en wel in samenhang met andere thema's. Mogelijk dient de woordvoerder van de VVD-fractie hierover straks een motie in. Hoe kijkt de initiatiefnemer aan tegen het opnemen van een dergelijke opdracht\n",
      "heeft zelf apotheken, maar zal de wettelijke regeling niet uitvoeren. De voorzitter van het AZIVO, het PvdA- kamerlid Toussaint, zei vanmiddag dat het fonds geen maatregelen kan uitvoeren die de gezondheid\n",
      "De wettelijke regeling van de eigen bijdrage geldt vanaf* 1 februari. Apothekers en apotheekhoudende huisartsen moeten zorgdragen voor s- de inning. Het AZIVO heeft zelf apotheken, maar zal de wettelijke\n",
      "van aan het bouwwerk gekoppelde \"first party\"-verzekeringen en dat hij bij hypotheekverstrekkers en de verstrekker van de NHG wil pleiten voor het toepassen daarvan in hun voorwaarden? Een gebruiker die\n",
      "^n^mwn^^rh^w^TH^^YTjt^TSHiMkKipgtMvnn^nnn^PF??*^**\" -  ^  De aandacht van de landelijke politiek voor Twenthe werd  10.  bedroevend crenoemd.  ii  12  13.  14.  15.  Bron:  Regels:  (f\n",
      "Tweede Kamer behandelde wetsvoorstel voor een actief donorregistratiesysteem stevig gewijzigd, nadat de Raad van State haar op een paar rechtsstatelijke en inhoudelijke ongewenstheden in haar originele\n",
      "gaat dus niet om theoretische alternatieven of om schijnoplossingen, maar echt om toe te passen alternatieven. Daar zit dus een beperking in. De heer Van Hattem ( PVV ): Er zit misschien wel een beperking\n",
      "kolonel heeft zijn troepen in staat van paraatheid gebracht.  9.  10.  11.  Bron:  4f9 ^  Hegels:  ^\n",
      "Red  Wt  turn:  Tijd:  Onderwerp:  reiin  5-januari-83  Overijssel in actie  2.  7.  9.  10.  11  12  13  14.  15  ^ De aandacht van de landelijke politiek voor Twenthe werd  Politieke nartijen, vakbonden,\n",
      "door te stimuleren dat het afsluiten zo'n verzekering — die er zeker gaat komen, zo is ons verzekerd — als voorwaarde wordt opgenomen bij het verkrijgen van een hypotheek of hypotheekgarantie. Een andere\n",
      "geneesmiddel. De 3. wettelijke regeling van de eigen bijdrage geldt vanaf-1 februari.  10  11.  12  13  14.  15.  Apothekers en apotheekhoudende huisartsen moeten zorgdragen voor de inning. Het AZIVO heeft\n",
      "de Omgevingswet wordt geregeld en wat er in deze milieueffectherziening wordt geregeld en dat wij op meerdere momenten dan weer iets in de Omgevingswet moeten regelen en dan weer iets in de milieuregelgeving.\n",
      "Rivera Y Damas, beschuldfttae politieke leiders in z' n land ervan, dat ze hun eigen belangen najagen, en dat h*lea«< *ê6HH33Mmx ze weinig doen om het volk te helden. In een preek in dakathedraal van San\n",
      "van 2-gulden-50 per geneesmiddel. De wettelijke regeling van de eigen bijdrage geldt vanaf 1 februari. 4. Apothekers en apotheekhoudende huisartsen moeten zorgdragen voor de inning. Het AZIVO heeft zelf\n",
      ": Ik meld even dat ik inmiddels bericht heb ontvangen van de heer De Graaf van de PVV. Hij is verhinderd en kan dit VAO niet bijwonen. De heer Krol ( 50PLUS ): Voorzitter. Kortheidshalve dien ik meteen\n",
      "premieverhoging. In theorie kan een verzekeraar voor het benodigde kapitaal aankloppen bij een bank, maar die zal gezien het toegenomen risico een hoge rente rekenen. Verzekeraar a.s.r. geeft aan dat er\n",
      "dastHWSH^^k^nïliH^iTivtyjpT^xsHixkxxx^txxnnxBHXxMzu^xxBRx-  ^  De aandacht van de landelijke politiek voor Twenthe werd  bedroevend genolemd.  12  13.  14.  15.  Bron:  Regels:  (f\n",
      "te doen. We hebben, zoals gezegd, nog maar 15% van onze oorspronkelijke natuur in Nederland over. We zijn het land met de grootste veedichtheid ter wereld, waar de veestapel moet krimpen en er geen nieuwe\n",
      "partijen die nu zo boos zijn, gewoon de PVV-motie hadden gesteund om helemaal geen windmolens in Drenthe te plaatsen, dan hadden we hier natuurlijk niet gestaan. Maar goed, ik ben best bereid om die motie\n",
      "Red.  Datum:  -32.  Onderwerp:  eo  7-1-83  gezondheid claus  1.  3.  5  10  11.  De gezondheid van prins Claus heeft de afgelopen weken geen aanleiding-  gegeven tot ongerustheid. Maar het herstel van\n",
      "ons land hebben besloten 4#< aJa*J< * morgen/de tarieven J voor nieuwe hypothecaire leningen te verlagen met nul^komma-twee procent. De basis-rente bij de maatschappijen komt daarmee op 8-komma-5 procent.\n",
      "Damas, beschuldtttde politieke leiders '^< ^ in z' n land ervan, dat ze hun eigen belangen najagen, en dat ha*a*«*AAHH& M*x ze weinig doen om het volk te helpen. In een preek in dakathedraal van San Salvador.\n",
      "van Zorgverzekeraars Nederland over de huidige financiële robuustheid van de zorgverzekeraars? Een tweede vraag aan de indieners betreft een argument dat de zorgverzekeraars aanhalen over het gegeven dat\n",
      "of de hypotheekverstrekkers, maar ik denk ook aan woningbouwcorporaties en andere partijen, de verantwoordelijkheid bij elkaar kunnen leggen en dan samen nadenken over wat we met het hele arrangement aan\n",
      "vermoedelijk schadelijke effecten van de producten. De staatssecretaris stelt dat er geen zicht is op de kwaliteit en correctheid van de geregistreerde data in het eigen registratiesysteem van producent\n",
      "gezegd dat we een serieus onderzoek willen laten doen. De minister heeft nadien, ook na druk van de douane, gezegd dat hij de tafels wil koppelen. Ik zal de motie aanhouden met deze duiding. Maar het theater\n",
      "transporthelikopters - 27830-196 minister van Defensie, J.A. Hennis-Plasschaert - 16 januari 2017 Rondgezonden en gepubliceerd. Reactie op verzoek commissie op de vraag of alle scholen in het primaire\n",
      "vooral om Twenthe, waar het werkloosheidspercentage ruim 18 WBHHH^t is. Een werkgroep welke vorm__. zal on korte termijn nagaan ^H#de gezamenlijke aanpak moet  .was veel  krijgen. On de vergadering in\n",
      "Die schuld wordt pro rato parte toegedeeld aan de leden van de vve en gaat bij verkoop over op de nieuwe eigenaar. Een hypotheekschuld van de vve is fiscaal aftrekbaar als eigenwoningschuld terwijl een\n",
      "er nou bij dat de Nederlandsche Bank out of the blue zal zeggen dat de solvabiliteitseisen omhoog moeten? Die eisen zijn al ontzettend hoog en zorgverzekeringsmarkt is helemaal niet zo'n heel moeilijke\n",
      "niet te verhuizen. Het was heel moeilijk om een hypotheek te krijgen, omdat er nauwelijks nog banken waren die de telefoon opnamen. De corporatiesector was helemaal vastgeraakt door de schandalen. De Kamer\n",
      "organisaties, waaronder organisaties die in de woorden van de heer Ronnes professionele organisaties zijn, die eenmalig iets doen. Ik heb zelf enige ervaring met het bouwen van een theater; ik begin er\n",
      "bezien kan het vragen om een tweederdemeerderheid in onze Kamers zelfs contraproductief werken. Immers, theoretisch is het dan mogelijk dat een verdrag dat door alle parlementen in alle lidstaten is goedgekeurd,\n",
      "reden voor een premiewijziging in verband met de  sterk gedaalde hypotheekrente. In een brief aan de gemeenten  5.  schrijft de staatssecretaris dat door de subside en de dalende  6  rente meer mensen\n"
     ]
    }
   ],
   "source": [
    "%autoreload now\n",
    "\n",
    "# corpus = db.get_corpus(anp_sg_collection, filter_words=[\"toekomst\"], where_obj={'$and': [{'year': {'$eq': '1983'}}, {'month': {'$eq': '7'}}]})\n",
    "# corpus = db.get_corpus(anp_sg_collection, limit=100)\n",
    "corpus = db.get_corpus(anp_sg_collection, filter_words=[\"the\"])\n",
    "\n",
    "for p in corpus.passages:\n",
    "    print(p.text)"
   ]
  },
  {
   "cell_type": "code",
   "execution_count": 21,
   "metadata": {},
   "outputs": [
    {
     "name": "stderr",
     "output_type": "stream",
     "text": [
      "Embeddings: 100%|██████████| 4/4 [00:01<00:00,  2.83batch/s]"
     ]
    },
    {
     "name": "stdout",
     "output_type": "stream",
     "text": [
      "Added 102 new documents. Total = 102\n",
      "Created NEW collection 'anp_duurzam'\n"
     ]
    },
    {
     "name": "stderr",
     "output_type": "stream",
     "text": [
      "\n"
     ]
    },
    {
     "data": {
      "text/plain": [
       "Collection(name=anp_duurzam)"
      ]
     },
     "execution_count": 21,
     "metadata": {},
     "output_type": "execute_result"
    }
   ],
   "source": [
    "corpus_label = \"anp_duurzam\"\n",
    "db.create_new_collection(\"anp_duurzam\", corpus)"
   ]
  }
 ],
 "metadata": {
  "kernelspec": {
   "display_name": ".venv",
   "language": "python",
   "name": "python3"
  },
  "language_info": {
   "codemirror_mode": {
    "name": "ipython",
    "version": 3
   },
   "file_extension": ".py",
   "mimetype": "text/x-python",
   "name": "python",
   "nbconvert_exporter": "python",
   "pygments_lexer": "ipython3",
   "version": "3.9.6"
  },
  "orig_nbformat": 4
 },
 "nbformat": 4,
 "nbformat_minor": 2
}
